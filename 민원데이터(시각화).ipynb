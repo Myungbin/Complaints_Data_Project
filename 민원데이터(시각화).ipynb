{
 "cells": [
  {
   "cell_type": "code",
   "execution_count": 1,
   "metadata": {},
   "outputs": [],
   "source": [
    "import pandas as pd\n",
    "import matplotlib.pyplot as plt"
   ]
  },
  {
   "cell_type": "code",
   "execution_count": 2,
   "metadata": {},
   "outputs": [],
   "source": [
    "df = pd.read_csv('전처리끝난데이터.csv', encoding= 'cp949')"
   ]
  },
  {
   "cell_type": "code",
   "execution_count": 3,
   "metadata": {},
   "outputs": [
    {
     "data": {
      "text/html": [
       "<div>\n",
       "<style scoped>\n",
       "    .dataframe tbody tr th:only-of-type {\n",
       "        vertical-align: middle;\n",
       "    }\n",
       "\n",
       "    .dataframe tbody tr th {\n",
       "        vertical-align: top;\n",
       "    }\n",
       "\n",
       "    .dataframe thead th {\n",
       "        text-align: right;\n",
       "    }\n",
       "</style>\n",
       "<table border=\"1\" class=\"dataframe\">\n",
       "  <thead>\n",
       "    <tr style=\"text-align: right;\">\n",
       "      <th></th>\n",
       "      <th>code</th>\n",
       "      <th>구</th>\n",
       "      <th>동명</th>\n",
       "    </tr>\n",
       "  </thead>\n",
       "  <tbody>\n",
       "    <tr>\n",
       "      <th>0</th>\n",
       "      <td>1111051500</td>\n",
       "      <td>종로구</td>\n",
       "      <td>청운효자동</td>\n",
       "    </tr>\n",
       "    <tr>\n",
       "      <th>1</th>\n",
       "      <td>1111053000</td>\n",
       "      <td>종로구</td>\n",
       "      <td>사직동</td>\n",
       "    </tr>\n",
       "    <tr>\n",
       "      <th>2</th>\n",
       "      <td>1111054000</td>\n",
       "      <td>종로구</td>\n",
       "      <td>삼청동</td>\n",
       "    </tr>\n",
       "    <tr>\n",
       "      <th>3</th>\n",
       "      <td>1111055000</td>\n",
       "      <td>종로구</td>\n",
       "      <td>부암동</td>\n",
       "    </tr>\n",
       "    <tr>\n",
       "      <th>4</th>\n",
       "      <td>1111056000</td>\n",
       "      <td>종로구</td>\n",
       "      <td>평창동</td>\n",
       "    </tr>\n",
       "    <tr>\n",
       "      <th>...</th>\n",
       "      <td>...</td>\n",
       "      <td>...</td>\n",
       "      <td>...</td>\n",
       "    </tr>\n",
       "    <tr>\n",
       "      <th>886</th>\n",
       "      <td>1174010600</td>\n",
       "      <td>강동구</td>\n",
       "      <td>둔촌동</td>\n",
       "    </tr>\n",
       "    <tr>\n",
       "      <th>887</th>\n",
       "      <td>1174010700</td>\n",
       "      <td>강동구</td>\n",
       "      <td>암사동</td>\n",
       "    </tr>\n",
       "    <tr>\n",
       "      <th>888</th>\n",
       "      <td>1174010800</td>\n",
       "      <td>강동구</td>\n",
       "      <td>성내동</td>\n",
       "    </tr>\n",
       "    <tr>\n",
       "      <th>889</th>\n",
       "      <td>1174010900</td>\n",
       "      <td>강동구</td>\n",
       "      <td>천호동</td>\n",
       "    </tr>\n",
       "    <tr>\n",
       "      <th>890</th>\n",
       "      <td>1174011000</td>\n",
       "      <td>강동구</td>\n",
       "      <td>강일동</td>\n",
       "    </tr>\n",
       "  </tbody>\n",
       "</table>\n",
       "<p>891 rows × 3 columns</p>\n",
       "</div>"
      ],
      "text/plain": [
       "           code    구     동명\n",
       "0    1111051500  종로구  청운효자동\n",
       "1    1111053000  종로구    사직동\n",
       "2    1111054000  종로구    삼청동\n",
       "3    1111055000  종로구    부암동\n",
       "4    1111056000  종로구    평창동\n",
       "..          ...  ...    ...\n",
       "886  1174010600  강동구    둔촌동\n",
       "887  1174010700  강동구    암사동\n",
       "888  1174010800  강동구    성내동\n",
       "889  1174010900  강동구    천호동\n",
       "890  1174011000  강동구    강일동\n",
       "\n",
       "[891 rows x 3 columns]"
      ]
     },
     "execution_count": 3,
     "metadata": {},
     "output_type": "execute_result"
    }
   ],
   "source": [
    "#df1 = pd.read_csv('서울시 동별 중심좌표.csv', encoding='cp949')\n",
    "#df1"
   ]
  },
  {
   "cell_type": "code",
   "execution_count": 4,
   "metadata": {},
   "outputs": [
    {
     "data": {
      "text/html": [
       "<div>\n",
       "<style scoped>\n",
       "    .dataframe tbody tr th:only-of-type {\n",
       "        vertical-align: middle;\n",
       "    }\n",
       "\n",
       "    .dataframe tbody tr th {\n",
       "        vertical-align: top;\n",
       "    }\n",
       "\n",
       "    .dataframe thead th {\n",
       "        text-align: right;\n",
       "    }\n",
       "</style>\n",
       "<table border=\"1\" class=\"dataframe\">\n",
       "  <thead>\n",
       "    <tr style=\"text-align: right;\">\n",
       "      <th></th>\n",
       "      <th>연도</th>\n",
       "      <th>구</th>\n",
       "      <th>동명</th>\n",
       "      <th>주정차 단속건수</th>\n",
       "      <th>위도</th>\n",
       "      <th>경도</th>\n",
       "    </tr>\n",
       "  </thead>\n",
       "  <tbody>\n",
       "    <tr>\n",
       "      <th>0</th>\n",
       "      <td>2020</td>\n",
       "      <td>관악구</td>\n",
       "      <td>낙성대동</td>\n",
       "      <td>1699</td>\n",
       "      <td>37.476281</td>\n",
       "      <td>126.958369</td>\n",
       "    </tr>\n",
       "    <tr>\n",
       "      <th>1</th>\n",
       "      <td>2020</td>\n",
       "      <td>관악구</td>\n",
       "      <td>난곡동</td>\n",
       "      <td>2533</td>\n",
       "      <td>37.471024</td>\n",
       "      <td>126.921689</td>\n",
       "    </tr>\n",
       "    <tr>\n",
       "      <th>2</th>\n",
       "      <td>2020</td>\n",
       "      <td>관악구</td>\n",
       "      <td>난향동</td>\n",
       "      <td>388</td>\n",
       "      <td>37.461554</td>\n",
       "      <td>126.918807</td>\n",
       "    </tr>\n",
       "    <tr>\n",
       "      <th>3</th>\n",
       "      <td>2020</td>\n",
       "      <td>관악구</td>\n",
       "      <td>남현동</td>\n",
       "      <td>3708</td>\n",
       "      <td>37.464115</td>\n",
       "      <td>126.977754</td>\n",
       "    </tr>\n",
       "    <tr>\n",
       "      <th>4</th>\n",
       "      <td>2020</td>\n",
       "      <td>관악구</td>\n",
       "      <td>대학동</td>\n",
       "      <td>2940</td>\n",
       "      <td>37.470593</td>\n",
       "      <td>126.936855</td>\n",
       "    </tr>\n",
       "  </tbody>\n",
       "</table>\n",
       "</div>"
      ],
      "text/plain": [
       "     연도    구    동명  주정차 단속건수         위도          경도\n",
       "0  2020  관악구  낙성대동      1699  37.476281  126.958369\n",
       "1  2020  관악구   난곡동      2533  37.471024  126.921689\n",
       "2  2020  관악구   난향동       388  37.461554  126.918807\n",
       "3  2020  관악구   남현동      3708  37.464115  126.977754\n",
       "4  2020  관악구   대학동      2940  37.470593  126.936855"
      ]
     },
     "execution_count": 4,
     "metadata": {},
     "output_type": "execute_result"
    }
   ],
   "source": [
    "# df.head()"
   ]
  },
  {
   "cell_type": "code",
   "execution_count": 5,
   "metadata": {},
   "outputs": [
    {
     "data": {
      "text/html": [
       "<div>\n",
       "<style scoped>\n",
       "    .dataframe tbody tr th:only-of-type {\n",
       "        vertical-align: middle;\n",
       "    }\n",
       "\n",
       "    .dataframe tbody tr th {\n",
       "        vertical-align: top;\n",
       "    }\n",
       "\n",
       "    .dataframe thead th {\n",
       "        text-align: right;\n",
       "    }\n",
       "</style>\n",
       "<table border=\"1\" class=\"dataframe\">\n",
       "  <thead>\n",
       "    <tr style=\"text-align: right;\">\n",
       "      <th></th>\n",
       "      <th>연도</th>\n",
       "      <th>구_x</th>\n",
       "      <th>동명</th>\n",
       "      <th>주정차 단속건수</th>\n",
       "      <th>위도</th>\n",
       "      <th>경도</th>\n",
       "      <th>code</th>\n",
       "      <th>구_y</th>\n",
       "    </tr>\n",
       "  </thead>\n",
       "  <tbody>\n",
       "    <tr>\n",
       "      <th>0</th>\n",
       "      <td>2020</td>\n",
       "      <td>관악구</td>\n",
       "      <td>낙성대동</td>\n",
       "      <td>1699</td>\n",
       "      <td>37.476281</td>\n",
       "      <td>126.958369</td>\n",
       "      <td>1162058500</td>\n",
       "      <td>관악구</td>\n",
       "    </tr>\n",
       "    <tr>\n",
       "      <th>1</th>\n",
       "      <td>2020</td>\n",
       "      <td>관악구</td>\n",
       "      <td>난곡동</td>\n",
       "      <td>2533</td>\n",
       "      <td>37.471024</td>\n",
       "      <td>126.921689</td>\n",
       "      <td>1162077500</td>\n",
       "      <td>관악구</td>\n",
       "    </tr>\n",
       "    <tr>\n",
       "      <th>2</th>\n",
       "      <td>2020</td>\n",
       "      <td>관악구</td>\n",
       "      <td>난향동</td>\n",
       "      <td>388</td>\n",
       "      <td>37.461554</td>\n",
       "      <td>126.918807</td>\n",
       "      <td>1162071500</td>\n",
       "      <td>관악구</td>\n",
       "    </tr>\n",
       "    <tr>\n",
       "      <th>3</th>\n",
       "      <td>2020</td>\n",
       "      <td>관악구</td>\n",
       "      <td>남현동</td>\n",
       "      <td>3708</td>\n",
       "      <td>37.464115</td>\n",
       "      <td>126.977754</td>\n",
       "      <td>1162063000</td>\n",
       "      <td>관악구</td>\n",
       "    </tr>\n",
       "    <tr>\n",
       "      <th>4</th>\n",
       "      <td>2020</td>\n",
       "      <td>관악구</td>\n",
       "      <td>남현동</td>\n",
       "      <td>3708</td>\n",
       "      <td>37.464115</td>\n",
       "      <td>126.977754</td>\n",
       "      <td>1162010300</td>\n",
       "      <td>관악구</td>\n",
       "    </tr>\n",
       "    <tr>\n",
       "      <th>...</th>\n",
       "      <td>...</td>\n",
       "      <td>...</td>\n",
       "      <td>...</td>\n",
       "      <td>...</td>\n",
       "      <td>...</td>\n",
       "      <td>...</td>\n",
       "      <td>...</td>\n",
       "      <td>...</td>\n",
       "    </tr>\n",
       "    <tr>\n",
       "      <th>112</th>\n",
       "      <td>2020</td>\n",
       "      <td>송파구</td>\n",
       "      <td>위례동</td>\n",
       "      <td>609</td>\n",
       "      <td>37.481576</td>\n",
       "      <td>127.140424</td>\n",
       "      <td>1171064700</td>\n",
       "      <td>송파구</td>\n",
       "    </tr>\n",
       "    <tr>\n",
       "      <th>113</th>\n",
       "      <td>2020</td>\n",
       "      <td>송파구</td>\n",
       "      <td>잠실동</td>\n",
       "      <td>20197</td>\n",
       "      <td>37.506967</td>\n",
       "      <td>127.083673</td>\n",
       "      <td>1171010100</td>\n",
       "      <td>송파구</td>\n",
       "    </tr>\n",
       "    <tr>\n",
       "      <th>114</th>\n",
       "      <td>2020</td>\n",
       "      <td>송파구</td>\n",
       "      <td>장지동</td>\n",
       "      <td>2626</td>\n",
       "      <td>37.478077</td>\n",
       "      <td>127.133269</td>\n",
       "      <td>1171064600</td>\n",
       "      <td>송파구</td>\n",
       "    </tr>\n",
       "    <tr>\n",
       "      <th>115</th>\n",
       "      <td>2020</td>\n",
       "      <td>송파구</td>\n",
       "      <td>장지동</td>\n",
       "      <td>2626</td>\n",
       "      <td>37.478077</td>\n",
       "      <td>127.133269</td>\n",
       "      <td>1171010900</td>\n",
       "      <td>송파구</td>\n",
       "    </tr>\n",
       "    <tr>\n",
       "      <th>116</th>\n",
       "      <td>2020</td>\n",
       "      <td>송파구</td>\n",
       "      <td>풍납동</td>\n",
       "      <td>6840</td>\n",
       "      <td>37.534673</td>\n",
       "      <td>127.117643</td>\n",
       "      <td>1171010300</td>\n",
       "      <td>송파구</td>\n",
       "    </tr>\n",
       "  </tbody>\n",
       "</table>\n",
       "<p>117 rows × 8 columns</p>\n",
       "</div>"
      ],
      "text/plain": [
       "       연도  구_x    동명  주정차 단속건수         위도          경도        code  구_y\n",
       "0    2020  관악구  낙성대동      1699  37.476281  126.958369  1162058500  관악구\n",
       "1    2020  관악구   난곡동      2533  37.471024  126.921689  1162077500  관악구\n",
       "2    2020  관악구   난향동       388  37.461554  126.918807  1162071500  관악구\n",
       "3    2020  관악구   남현동      3708  37.464115  126.977754  1162063000  관악구\n",
       "4    2020  관악구   남현동      3708  37.464115  126.977754  1162010300  관악구\n",
       "..    ...  ...   ...       ...        ...         ...         ...  ...\n",
       "112  2020  송파구   위례동       609  37.481576  127.140424  1171064700  송파구\n",
       "113  2020  송파구   잠실동     20197  37.506967  127.083673  1171010100  송파구\n",
       "114  2020  송파구   장지동      2626  37.478077  127.133269  1171064600  송파구\n",
       "115  2020  송파구   장지동      2626  37.478077  127.133269  1171010900  송파구\n",
       "116  2020  송파구   풍납동      6840  37.534673  127.117643  1171010300  송파구\n",
       "\n",
       "[117 rows x 8 columns]"
      ]
     },
     "execution_count": 5,
     "metadata": {},
     "output_type": "execute_result"
    }
   ],
   "source": [
    "# x\n",
    "#df3 = pd.merge(df, df1, on = ['동명'])\n",
    "#df3.drop_duplicates()"
   ]
  },
  {
   "cell_type": "code",
   "execution_count": 6,
   "metadata": {},
   "outputs": [
    {
     "data": {
      "text/html": [
       "<div>\n",
       "<style scoped>\n",
       "    .dataframe tbody tr th:only-of-type {\n",
       "        vertical-align: middle;\n",
       "    }\n",
       "\n",
       "    .dataframe tbody tr th {\n",
       "        vertical-align: top;\n",
       "    }\n",
       "\n",
       "    .dataframe thead th {\n",
       "        text-align: right;\n",
       "    }\n",
       "</style>\n",
       "<table border=\"1\" class=\"dataframe\">\n",
       "  <thead>\n",
       "    <tr style=\"text-align: right;\">\n",
       "      <th></th>\n",
       "      <th>연도</th>\n",
       "      <th>구_x</th>\n",
       "      <th>동명</th>\n",
       "      <th>주정차 단속건수</th>\n",
       "      <th>위도</th>\n",
       "      <th>경도</th>\n",
       "      <th>code</th>\n",
       "      <th>구_y</th>\n",
       "    </tr>\n",
       "  </thead>\n",
       "  <tbody>\n",
       "    <tr>\n",
       "      <th>0</th>\n",
       "      <td>2020</td>\n",
       "      <td>관악구</td>\n",
       "      <td>낙성대동</td>\n",
       "      <td>1699</td>\n",
       "      <td>37.476281</td>\n",
       "      <td>126.958369</td>\n",
       "      <td>1162058500</td>\n",
       "      <td>관악구</td>\n",
       "    </tr>\n",
       "    <tr>\n",
       "      <th>1</th>\n",
       "      <td>2020</td>\n",
       "      <td>관악구</td>\n",
       "      <td>난곡동</td>\n",
       "      <td>2533</td>\n",
       "      <td>37.471024</td>\n",
       "      <td>126.921689</td>\n",
       "      <td>1162077500</td>\n",
       "      <td>관악구</td>\n",
       "    </tr>\n",
       "    <tr>\n",
       "      <th>2</th>\n",
       "      <td>2020</td>\n",
       "      <td>관악구</td>\n",
       "      <td>난향동</td>\n",
       "      <td>388</td>\n",
       "      <td>37.461554</td>\n",
       "      <td>126.918807</td>\n",
       "      <td>1162071500</td>\n",
       "      <td>관악구</td>\n",
       "    </tr>\n",
       "    <tr>\n",
       "      <th>3</th>\n",
       "      <td>2020</td>\n",
       "      <td>관악구</td>\n",
       "      <td>남현동</td>\n",
       "      <td>3708</td>\n",
       "      <td>37.464115</td>\n",
       "      <td>126.977754</td>\n",
       "      <td>1162063000</td>\n",
       "      <td>관악구</td>\n",
       "    </tr>\n",
       "    <tr>\n",
       "      <th>4</th>\n",
       "      <td>2020</td>\n",
       "      <td>관악구</td>\n",
       "      <td>남현동</td>\n",
       "      <td>3708</td>\n",
       "      <td>37.464115</td>\n",
       "      <td>126.977754</td>\n",
       "      <td>1162010300</td>\n",
       "      <td>관악구</td>\n",
       "    </tr>\n",
       "    <tr>\n",
       "      <th>...</th>\n",
       "      <td>...</td>\n",
       "      <td>...</td>\n",
       "      <td>...</td>\n",
       "      <td>...</td>\n",
       "      <td>...</td>\n",
       "      <td>...</td>\n",
       "      <td>...</td>\n",
       "      <td>...</td>\n",
       "    </tr>\n",
       "    <tr>\n",
       "      <th>112</th>\n",
       "      <td>2020</td>\n",
       "      <td>송파구</td>\n",
       "      <td>위례동</td>\n",
       "      <td>609</td>\n",
       "      <td>37.481576</td>\n",
       "      <td>127.140424</td>\n",
       "      <td>1171064700</td>\n",
       "      <td>송파구</td>\n",
       "    </tr>\n",
       "    <tr>\n",
       "      <th>113</th>\n",
       "      <td>2020</td>\n",
       "      <td>송파구</td>\n",
       "      <td>잠실동</td>\n",
       "      <td>20197</td>\n",
       "      <td>37.506967</td>\n",
       "      <td>127.083673</td>\n",
       "      <td>1171010100</td>\n",
       "      <td>송파구</td>\n",
       "    </tr>\n",
       "    <tr>\n",
       "      <th>114</th>\n",
       "      <td>2020</td>\n",
       "      <td>송파구</td>\n",
       "      <td>장지동</td>\n",
       "      <td>2626</td>\n",
       "      <td>37.478077</td>\n",
       "      <td>127.133269</td>\n",
       "      <td>1171064600</td>\n",
       "      <td>송파구</td>\n",
       "    </tr>\n",
       "    <tr>\n",
       "      <th>115</th>\n",
       "      <td>2020</td>\n",
       "      <td>송파구</td>\n",
       "      <td>장지동</td>\n",
       "      <td>2626</td>\n",
       "      <td>37.478077</td>\n",
       "      <td>127.133269</td>\n",
       "      <td>1171010900</td>\n",
       "      <td>송파구</td>\n",
       "    </tr>\n",
       "    <tr>\n",
       "      <th>116</th>\n",
       "      <td>2020</td>\n",
       "      <td>송파구</td>\n",
       "      <td>풍납동</td>\n",
       "      <td>6840</td>\n",
       "      <td>37.534673</td>\n",
       "      <td>127.117643</td>\n",
       "      <td>1171010300</td>\n",
       "      <td>송파구</td>\n",
       "    </tr>\n",
       "  </tbody>\n",
       "</table>\n",
       "<p>117 rows × 8 columns</p>\n",
       "</div>"
      ],
      "text/plain": [
       "       연도  구_x    동명  주정차 단속건수         위도          경도        code  구_y\n",
       "0    2020  관악구  낙성대동      1699  37.476281  126.958369  1162058500  관악구\n",
       "1    2020  관악구   난곡동      2533  37.471024  126.921689  1162077500  관악구\n",
       "2    2020  관악구   난향동       388  37.461554  126.918807  1162071500  관악구\n",
       "3    2020  관악구   남현동      3708  37.464115  126.977754  1162063000  관악구\n",
       "4    2020  관악구   남현동      3708  37.464115  126.977754  1162010300  관악구\n",
       "..    ...  ...   ...       ...        ...         ...         ...  ...\n",
       "112  2020  송파구   위례동       609  37.481576  127.140424  1171064700  송파구\n",
       "113  2020  송파구   잠실동     20197  37.506967  127.083673  1171010100  송파구\n",
       "114  2020  송파구   장지동      2626  37.478077  127.133269  1171064600  송파구\n",
       "115  2020  송파구   장지동      2626  37.478077  127.133269  1171010900  송파구\n",
       "116  2020  송파구   풍납동      6840  37.534673  127.117643  1171010300  송파구\n",
       "\n",
       "[117 rows x 8 columns]"
      ]
     },
     "execution_count": 6,
     "metadata": {},
     "output_type": "execute_result"
    }
   ],
   "source": [
    "df3"
   ]
  },
  {
   "cell_type": "code",
   "execution_count": 7,
   "metadata": {},
   "outputs": [],
   "source": [
    "import folium\n"
   ]
  },
  {
   "cell_type": "code",
   "execution_count": 8,
   "metadata": {},
   "outputs": [
    {
     "data": {
      "text/html": [
       "<div style=\"width:100%;\"><div style=\"position:relative;width:100%;height:0;padding-bottom:60%;\"><span style=\"color:#565656\">Make this Notebook Trusted to load map: File -> Trust Notebook</span><iframe src=\"about:blank\" style=\"position:absolute;width:100%;height:100%;left:0;top:0;border:none !important;\" data-html=%3C%21DOCTYPE%20html%3E%0A%3Chead%3E%20%20%20%20%0A%20%20%20%20%3Cmeta%20http-equiv%3D%22content-type%22%20content%3D%22text/html%3B%20charset%3DUTF-8%22%20/%3E%0A%20%20%20%20%0A%20%20%20%20%20%20%20%20%3Cscript%3E%0A%20%20%20%20%20%20%20%20%20%20%20%20L_NO_TOUCH%20%3D%20false%3B%0A%20%20%20%20%20%20%20%20%20%20%20%20L_DISABLE_3D%20%3D%20false%3B%0A%20%20%20%20%20%20%20%20%3C/script%3E%0A%20%20%20%20%0A%20%20%20%20%3Cstyle%3Ehtml%2C%20body%20%7Bwidth%3A%20100%25%3Bheight%3A%20100%25%3Bmargin%3A%200%3Bpadding%3A%200%3B%7D%3C/style%3E%0A%20%20%20%20%3Cstyle%3E%23map%20%7Bposition%3Aabsolute%3Btop%3A0%3Bbottom%3A0%3Bright%3A0%3Bleft%3A0%3B%7D%3C/style%3E%0A%20%20%20%20%3Cscript%20src%3D%22https%3A//cdn.jsdelivr.net/npm/leaflet%401.6.0/dist/leaflet.js%22%3E%3C/script%3E%0A%20%20%20%20%3Cscript%20src%3D%22https%3A//code.jquery.com/jquery-1.12.4.min.js%22%3E%3C/script%3E%0A%20%20%20%20%3Cscript%20src%3D%22https%3A//maxcdn.bootstrapcdn.com/bootstrap/3.2.0/js/bootstrap.min.js%22%3E%3C/script%3E%0A%20%20%20%20%3Cscript%20src%3D%22https%3A//cdnjs.cloudflare.com/ajax/libs/Leaflet.awesome-markers/2.0.2/leaflet.awesome-markers.js%22%3E%3C/script%3E%0A%20%20%20%20%3Clink%20rel%3D%22stylesheet%22%20href%3D%22https%3A//cdn.jsdelivr.net/npm/leaflet%401.6.0/dist/leaflet.css%22/%3E%0A%20%20%20%20%3Clink%20rel%3D%22stylesheet%22%20href%3D%22https%3A//maxcdn.bootstrapcdn.com/bootstrap/3.2.0/css/bootstrap.min.css%22/%3E%0A%20%20%20%20%3Clink%20rel%3D%22stylesheet%22%20href%3D%22https%3A//maxcdn.bootstrapcdn.com/bootstrap/3.2.0/css/bootstrap-theme.min.css%22/%3E%0A%20%20%20%20%3Clink%20rel%3D%22stylesheet%22%20href%3D%22https%3A//maxcdn.bootstrapcdn.com/font-awesome/4.6.3/css/font-awesome.min.css%22/%3E%0A%20%20%20%20%3Clink%20rel%3D%22stylesheet%22%20href%3D%22https%3A//cdnjs.cloudflare.com/ajax/libs/Leaflet.awesome-markers/2.0.2/leaflet.awesome-markers.css%22/%3E%0A%20%20%20%20%3Clink%20rel%3D%22stylesheet%22%20href%3D%22https%3A//cdn.jsdelivr.net/gh/python-visualization/folium/folium/templates/leaflet.awesome.rotate.min.css%22/%3E%0A%20%20%20%20%0A%20%20%20%20%20%20%20%20%20%20%20%20%3Cmeta%20name%3D%22viewport%22%20content%3D%22width%3Ddevice-width%2C%0A%20%20%20%20%20%20%20%20%20%20%20%20%20%20%20%20initial-scale%3D1.0%2C%20maximum-scale%3D1.0%2C%20user-scalable%3Dno%22%20/%3E%0A%20%20%20%20%20%20%20%20%20%20%20%20%3Cstyle%3E%0A%20%20%20%20%20%20%20%20%20%20%20%20%20%20%20%20%23map_d1fb238ceb7a4322881fe845991085d5%20%7B%0A%20%20%20%20%20%20%20%20%20%20%20%20%20%20%20%20%20%20%20%20position%3A%20relative%3B%0A%20%20%20%20%20%20%20%20%20%20%20%20%20%20%20%20%20%20%20%20width%3A%20100.0%25%3B%0A%20%20%20%20%20%20%20%20%20%20%20%20%20%20%20%20%20%20%20%20height%3A%20100.0%25%3B%0A%20%20%20%20%20%20%20%20%20%20%20%20%20%20%20%20%20%20%20%20left%3A%200.0%25%3B%0A%20%20%20%20%20%20%20%20%20%20%20%20%20%20%20%20%20%20%20%20top%3A%200.0%25%3B%0A%20%20%20%20%20%20%20%20%20%20%20%20%20%20%20%20%7D%0A%20%20%20%20%20%20%20%20%20%20%20%20%3C/style%3E%0A%20%20%20%20%20%20%20%20%0A%3C/head%3E%0A%3Cbody%3E%20%20%20%20%0A%20%20%20%20%0A%20%20%20%20%20%20%20%20%20%20%20%20%3Cdiv%20class%3D%22folium-map%22%20id%3D%22map_d1fb238ceb7a4322881fe845991085d5%22%20%3E%3C/div%3E%0A%20%20%20%20%20%20%20%20%0A%3C/body%3E%0A%3Cscript%3E%20%20%20%20%0A%20%20%20%20%0A%20%20%20%20%20%20%20%20%20%20%20%20var%20map_d1fb238ceb7a4322881fe845991085d5%20%3D%20L.map%28%0A%20%20%20%20%20%20%20%20%20%20%20%20%20%20%20%20%22map_d1fb238ceb7a4322881fe845991085d5%22%2C%0A%20%20%20%20%20%20%20%20%20%20%20%20%20%20%20%20%7B%0A%20%20%20%20%20%20%20%20%20%20%20%20%20%20%20%20%20%20%20%20center%3A%20%5B37.476281%2C%20126.958369%5D%2C%0A%20%20%20%20%20%20%20%20%20%20%20%20%20%20%20%20%20%20%20%20crs%3A%20L.CRS.EPSG3857%2C%0A%20%20%20%20%20%20%20%20%20%20%20%20%20%20%20%20%20%20%20%20zoom%3A%2013%2C%0A%20%20%20%20%20%20%20%20%20%20%20%20%20%20%20%20%20%20%20%20zoomControl%3A%20true%2C%0A%20%20%20%20%20%20%20%20%20%20%20%20%20%20%20%20%20%20%20%20preferCanvas%3A%20false%2C%0A%20%20%20%20%20%20%20%20%20%20%20%20%20%20%20%20%7D%0A%20%20%20%20%20%20%20%20%20%20%20%20%29%3B%0A%0A%20%20%20%20%20%20%20%20%20%20%20%20%0A%0A%20%20%20%20%20%20%20%20%0A%20%20%20%20%0A%20%20%20%20%20%20%20%20%20%20%20%20var%20tile_layer_4390fcf6707945ed89fc826cb0aa83a3%20%3D%20L.tileLayer%28%0A%20%20%20%20%20%20%20%20%20%20%20%20%20%20%20%20%22https%3A//%7Bs%7D.tile.openstreetmap.org/%7Bz%7D/%7Bx%7D/%7By%7D.png%22%2C%0A%20%20%20%20%20%20%20%20%20%20%20%20%20%20%20%20%7B%22attribution%22%3A%20%22Data%20by%20%5Cu0026copy%3B%20%5Cu003ca%20href%3D%5C%22http%3A//openstreetmap.org%5C%22%5Cu003eOpenStreetMap%5Cu003c/a%5Cu003e%2C%20under%20%5Cu003ca%20href%3D%5C%22http%3A//www.openstreetmap.org/copyright%5C%22%5Cu003eODbL%5Cu003c/a%5Cu003e.%22%2C%20%22detectRetina%22%3A%20false%2C%20%22maxNativeZoom%22%3A%2018%2C%20%22maxZoom%22%3A%2018%2C%20%22minZoom%22%3A%200%2C%20%22noWrap%22%3A%20false%2C%20%22opacity%22%3A%201%2C%20%22subdomains%22%3A%20%22abc%22%2C%20%22tms%22%3A%20false%7D%0A%20%20%20%20%20%20%20%20%20%20%20%20%29.addTo%28map_d1fb238ceb7a4322881fe845991085d5%29%3B%0A%20%20%20%20%20%20%20%20%0A%20%20%20%20%0A%20%20%20%20%20%20%20%20%20%20%20%20%20%20%20%20var%20lat_lng_popup_0929cccc67f74dfaaec7f1bbd6c8c791%20%3D%20L.popup%28%29%3B%0A%20%20%20%20%20%20%20%20%20%20%20%20%20%20%20%20function%20latLngPop%28e%29%20%7B%0A%20%20%20%20%20%20%20%20%20%20%20%20%20%20%20%20%20%20%20%20lat_lng_popup_0929cccc67f74dfaaec7f1bbd6c8c791%0A%20%20%20%20%20%20%20%20%20%20%20%20%20%20%20%20%20%20%20%20%20%20%20%20.setLatLng%28e.latlng%29%0A%20%20%20%20%20%20%20%20%20%20%20%20%20%20%20%20%20%20%20%20%20%20%20%20.setContent%28%22Latitude%3A%20%22%20%2B%20e.latlng.lat.toFixed%284%29%20%2B%0A%20%20%20%20%20%20%20%20%20%20%20%20%20%20%20%20%20%20%20%20%20%20%20%20%20%20%20%20%20%20%20%20%20%20%20%20%22%3Cbr%3ELongitude%3A%20%22%20%2B%20e.latlng.lng.toFixed%284%29%29%0A%20%20%20%20%20%20%20%20%20%20%20%20%20%20%20%20%20%20%20%20%20%20%20%20.openOn%28map_d1fb238ceb7a4322881fe845991085d5%29%3B%0A%20%20%20%20%20%20%20%20%20%20%20%20%20%20%20%20%20%20%20%20%7D%0A%20%20%20%20%20%20%20%20%20%20%20%20%20%20%20%20map_d1fb238ceb7a4322881fe845991085d5.on%28%27click%27%2C%20latLngPop%29%3B%0A%20%20%20%20%20%20%20%20%20%20%20%20%0A%3C/script%3E onload=\"this.contentDocument.open();this.contentDocument.write(    decodeURIComponent(this.getAttribute('data-html')));this.contentDocument.close();\" allowfullscreen webkitallowfullscreen mozallowfullscreen></iframe></div></div>"
      ],
      "text/plain": [
       "<folium.folium.Map at 0x144d0f48dc0>"
      ]
     },
     "execution_count": 8,
     "metadata": {},
     "output_type": "execute_result"
    }
   ],
   "source": [
    "m = folium.Map(\n",
    "    location=[37.476281, 126.958369],\n",
    "    zoom_start = 13\n",
    ")\n",
    "\n",
    "m.add_child(folium.LatLngPopup())       # 지도에서 클릭하는 곳의 경도 위도 좌표를 표시\n",
    "\n",
    "m"
   ]
  },
  {
   "cell_type": "code",
   "execution_count": 9,
   "metadata": {},
   "outputs": [],
   "source": [
    "#!pip install plotly"
   ]
  },
  {
   "cell_type": "code",
   "execution_count": 10,
   "metadata": {},
   "outputs": [],
   "source": [
    "import plotly.express as px\n",
    "import pandas as pd \n",
    "import os \n",
    "import json"
   ]
  },
  {
   "cell_type": "code",
   "execution_count": 11,
   "metadata": {},
   "outputs": [],
   "source": [
    "df = pd.read_csv('전처리끝난데이터.csv', encoding= 'cp949')"
   ]
  },
  {
   "cell_type": "code",
   "execution_count": 12,
   "metadata": {},
   "outputs": [
    {
     "data": {
      "text/html": [
       "<div style=\"width:100%;\"><div style=\"position:relative;width:100%;height:0;padding-bottom:60%;\"><span style=\"color:#565656\">Make this Notebook Trusted to load map: File -> Trust Notebook</span><iframe src=\"about:blank\" style=\"position:absolute;width:100%;height:100%;left:0;top:0;border:none !important;\" data-html=%3C%21DOCTYPE%20html%3E%0A%3Chead%3E%20%20%20%20%0A%20%20%20%20%3Cmeta%20http-equiv%3D%22content-type%22%20content%3D%22text/html%3B%20charset%3DUTF-8%22%20/%3E%0A%20%20%20%20%0A%20%20%20%20%20%20%20%20%3Cscript%3E%0A%20%20%20%20%20%20%20%20%20%20%20%20L_NO_TOUCH%20%3D%20false%3B%0A%20%20%20%20%20%20%20%20%20%20%20%20L_DISABLE_3D%20%3D%20false%3B%0A%20%20%20%20%20%20%20%20%3C/script%3E%0A%20%20%20%20%0A%20%20%20%20%3Cstyle%3Ehtml%2C%20body%20%7Bwidth%3A%20100%25%3Bheight%3A%20100%25%3Bmargin%3A%200%3Bpadding%3A%200%3B%7D%3C/style%3E%0A%20%20%20%20%3Cstyle%3E%23map%20%7Bposition%3Aabsolute%3Btop%3A0%3Bbottom%3A0%3Bright%3A0%3Bleft%3A0%3B%7D%3C/style%3E%0A%20%20%20%20%3Cscript%20src%3D%22https%3A//cdn.jsdelivr.net/npm/leaflet%401.6.0/dist/leaflet.js%22%3E%3C/script%3E%0A%20%20%20%20%3Cscript%20src%3D%22https%3A//code.jquery.com/jquery-1.12.4.min.js%22%3E%3C/script%3E%0A%20%20%20%20%3Cscript%20src%3D%22https%3A//maxcdn.bootstrapcdn.com/bootstrap/3.2.0/js/bootstrap.min.js%22%3E%3C/script%3E%0A%20%20%20%20%3Cscript%20src%3D%22https%3A//cdnjs.cloudflare.com/ajax/libs/Leaflet.awesome-markers/2.0.2/leaflet.awesome-markers.js%22%3E%3C/script%3E%0A%20%20%20%20%3Clink%20rel%3D%22stylesheet%22%20href%3D%22https%3A//cdn.jsdelivr.net/npm/leaflet%401.6.0/dist/leaflet.css%22/%3E%0A%20%20%20%20%3Clink%20rel%3D%22stylesheet%22%20href%3D%22https%3A//maxcdn.bootstrapcdn.com/bootstrap/3.2.0/css/bootstrap.min.css%22/%3E%0A%20%20%20%20%3Clink%20rel%3D%22stylesheet%22%20href%3D%22https%3A//maxcdn.bootstrapcdn.com/bootstrap/3.2.0/css/bootstrap-theme.min.css%22/%3E%0A%20%20%20%20%3Clink%20rel%3D%22stylesheet%22%20href%3D%22https%3A//maxcdn.bootstrapcdn.com/font-awesome/4.6.3/css/font-awesome.min.css%22/%3E%0A%20%20%20%20%3Clink%20rel%3D%22stylesheet%22%20href%3D%22https%3A//cdnjs.cloudflare.com/ajax/libs/Leaflet.awesome-markers/2.0.2/leaflet.awesome-markers.css%22/%3E%0A%20%20%20%20%3Clink%20rel%3D%22stylesheet%22%20href%3D%22https%3A//cdn.jsdelivr.net/gh/python-visualization/folium/folium/templates/leaflet.awesome.rotate.min.css%22/%3E%0A%20%20%20%20%0A%20%20%20%20%20%20%20%20%20%20%20%20%3Cmeta%20name%3D%22viewport%22%20content%3D%22width%3Ddevice-width%2C%0A%20%20%20%20%20%20%20%20%20%20%20%20%20%20%20%20initial-scale%3D1.0%2C%20maximum-scale%3D1.0%2C%20user-scalable%3Dno%22%20/%3E%0A%20%20%20%20%20%20%20%20%20%20%20%20%3Cstyle%3E%0A%20%20%20%20%20%20%20%20%20%20%20%20%20%20%20%20%23map_ce914806198a4d0da0db8551333f2211%20%7B%0A%20%20%20%20%20%20%20%20%20%20%20%20%20%20%20%20%20%20%20%20position%3A%20relative%3B%0A%20%20%20%20%20%20%20%20%20%20%20%20%20%20%20%20%20%20%20%20width%3A%20100.0%25%3B%0A%20%20%20%20%20%20%20%20%20%20%20%20%20%20%20%20%20%20%20%20height%3A%20100.0%25%3B%0A%20%20%20%20%20%20%20%20%20%20%20%20%20%20%20%20%20%20%20%20left%3A%200.0%25%3B%0A%20%20%20%20%20%20%20%20%20%20%20%20%20%20%20%20%20%20%20%20top%3A%200.0%25%3B%0A%20%20%20%20%20%20%20%20%20%20%20%20%20%20%20%20%7D%0A%20%20%20%20%20%20%20%20%20%20%20%20%3C/style%3E%0A%20%20%20%20%20%20%20%20%0A%3C/head%3E%0A%3Cbody%3E%20%20%20%20%0A%20%20%20%20%0A%20%20%20%20%20%20%20%20%20%20%20%20%3Cdiv%20class%3D%22folium-map%22%20id%3D%22map_ce914806198a4d0da0db8551333f2211%22%20%3E%3C/div%3E%0A%20%20%20%20%20%20%20%20%0A%3C/body%3E%0A%3Cscript%3E%20%20%20%20%0A%20%20%20%20%0A%20%20%20%20%20%20%20%20%20%20%20%20var%20map_ce914806198a4d0da0db8551333f2211%20%3D%20L.map%28%0A%20%20%20%20%20%20%20%20%20%20%20%20%20%20%20%20%22map_ce914806198a4d0da0db8551333f2211%22%2C%0A%20%20%20%20%20%20%20%20%20%20%20%20%20%20%20%20%7B%0A%20%20%20%20%20%20%20%20%20%20%20%20%20%20%20%20%20%20%20%20center%3A%20%5B37.529622%2C%20126.984307%5D%2C%0A%20%20%20%20%20%20%20%20%20%20%20%20%20%20%20%20%20%20%20%20crs%3A%20L.CRS.EPSG3857%2C%0A%20%20%20%20%20%20%20%20%20%20%20%20%20%20%20%20%20%20%20%20zoom%3A%2012%2C%0A%20%20%20%20%20%20%20%20%20%20%20%20%20%20%20%20%20%20%20%20zoomControl%3A%20true%2C%0A%20%20%20%20%20%20%20%20%20%20%20%20%20%20%20%20%20%20%20%20preferCanvas%3A%20false%2C%0A%20%20%20%20%20%20%20%20%20%20%20%20%20%20%20%20%7D%0A%20%20%20%20%20%20%20%20%20%20%20%20%29%3B%0A%0A%20%20%20%20%20%20%20%20%20%20%20%20%0A%0A%20%20%20%20%20%20%20%20%0A%20%20%20%20%0A%20%20%20%20%20%20%20%20%20%20%20%20var%20tile_layer_fd6e8776d68a474583d49c63c059906e%20%3D%20L.tileLayer%28%0A%20%20%20%20%20%20%20%20%20%20%20%20%20%20%20%20%22https%3A//%7Bs%7D.tile.openstreetmap.org/%7Bz%7D/%7Bx%7D/%7By%7D.png%22%2C%0A%20%20%20%20%20%20%20%20%20%20%20%20%20%20%20%20%7B%22attribution%22%3A%20%22Data%20by%20%5Cu0026copy%3B%20%5Cu003ca%20href%3D%5C%22http%3A//openstreetmap.org%5C%22%5Cu003eOpenStreetMap%5Cu003c/a%5Cu003e%2C%20under%20%5Cu003ca%20href%3D%5C%22http%3A//www.openstreetmap.org/copyright%5C%22%5Cu003eODbL%5Cu003c/a%5Cu003e.%22%2C%20%22detectRetina%22%3A%20false%2C%20%22maxNativeZoom%22%3A%2018%2C%20%22maxZoom%22%3A%2018%2C%20%22minZoom%22%3A%200%2C%20%22noWrap%22%3A%20false%2C%20%22opacity%22%3A%201%2C%20%22subdomains%22%3A%20%22abc%22%2C%20%22tms%22%3A%20false%7D%0A%20%20%20%20%20%20%20%20%20%20%20%20%29.addTo%28map_ce914806198a4d0da0db8551333f2211%29%3B%0A%20%20%20%20%20%20%20%20%0A%3C/script%3E onload=\"this.contentDocument.open();this.contentDocument.write(    decodeURIComponent(this.getAttribute('data-html')));this.contentDocument.close();\" allowfullscreen webkitallowfullscreen mozallowfullscreen></iframe></div></div>"
      ],
      "text/plain": [
       "<folium.folium.Map at 0x144d1171760>"
      ]
     },
     "execution_count": 12,
     "metadata": {},
     "output_type": "execute_result"
    }
   ],
   "source": [
    "import folium\n",
    "\n",
    "# 특정 위도, 경도 중심으로 하는 OpenStreetMap을 출력\n",
    "map_osm = folium.Map(location = [37.529622, 126.984307], zoom_start=12)\n",
    "map_osm"
   ]
  },
  {
   "cell_type": "code",
   "execution_count": 13,
   "metadata": {},
   "outputs": [
    {
     "data": {
      "text/html": [
       "<div style=\"width:100%;\"><div style=\"position:relative;width:100%;height:0;padding-bottom:60%;\"><span style=\"color:#565656\">Make this Notebook Trusted to load map: File -> Trust Notebook</span><iframe src=\"about:blank\" style=\"position:absolute;width:100%;height:100%;left:0;top:0;border:none !important;\" data-html=%3C%21DOCTYPE%20html%3E%0A%3Chead%3E%20%20%20%20%0A%20%20%20%20%3Cmeta%20http-equiv%3D%22content-type%22%20content%3D%22text/html%3B%20charset%3DUTF-8%22%20/%3E%0A%20%20%20%20%0A%20%20%20%20%20%20%20%20%3Cscript%3E%0A%20%20%20%20%20%20%20%20%20%20%20%20L_NO_TOUCH%20%3D%20false%3B%0A%20%20%20%20%20%20%20%20%20%20%20%20L_DISABLE_3D%20%3D%20false%3B%0A%20%20%20%20%20%20%20%20%3C/script%3E%0A%20%20%20%20%0A%20%20%20%20%3Cstyle%3Ehtml%2C%20body%20%7Bwidth%3A%20100%25%3Bheight%3A%20100%25%3Bmargin%3A%200%3Bpadding%3A%200%3B%7D%3C/style%3E%0A%20%20%20%20%3Cstyle%3E%23map%20%7Bposition%3Aabsolute%3Btop%3A0%3Bbottom%3A0%3Bright%3A0%3Bleft%3A0%3B%7D%3C/style%3E%0A%20%20%20%20%3Cscript%20src%3D%22https%3A//cdn.jsdelivr.net/npm/leaflet%401.6.0/dist/leaflet.js%22%3E%3C/script%3E%0A%20%20%20%20%3Cscript%20src%3D%22https%3A//code.jquery.com/jquery-1.12.4.min.js%22%3E%3C/script%3E%0A%20%20%20%20%3Cscript%20src%3D%22https%3A//maxcdn.bootstrapcdn.com/bootstrap/3.2.0/js/bootstrap.min.js%22%3E%3C/script%3E%0A%20%20%20%20%3Cscript%20src%3D%22https%3A//cdnjs.cloudflare.com/ajax/libs/Leaflet.awesome-markers/2.0.2/leaflet.awesome-markers.js%22%3E%3C/script%3E%0A%20%20%20%20%3Clink%20rel%3D%22stylesheet%22%20href%3D%22https%3A//cdn.jsdelivr.net/npm/leaflet%401.6.0/dist/leaflet.css%22/%3E%0A%20%20%20%20%3Clink%20rel%3D%22stylesheet%22%20href%3D%22https%3A//maxcdn.bootstrapcdn.com/bootstrap/3.2.0/css/bootstrap.min.css%22/%3E%0A%20%20%20%20%3Clink%20rel%3D%22stylesheet%22%20href%3D%22https%3A//maxcdn.bootstrapcdn.com/bootstrap/3.2.0/css/bootstrap-theme.min.css%22/%3E%0A%20%20%20%20%3Clink%20rel%3D%22stylesheet%22%20href%3D%22https%3A//maxcdn.bootstrapcdn.com/font-awesome/4.6.3/css/font-awesome.min.css%22/%3E%0A%20%20%20%20%3Clink%20rel%3D%22stylesheet%22%20href%3D%22https%3A//cdnjs.cloudflare.com/ajax/libs/Leaflet.awesome-markers/2.0.2/leaflet.awesome-markers.css%22/%3E%0A%20%20%20%20%3Clink%20rel%3D%22stylesheet%22%20href%3D%22https%3A//cdn.jsdelivr.net/gh/python-visualization/folium/folium/templates/leaflet.awesome.rotate.min.css%22/%3E%0A%20%20%20%20%0A%20%20%20%20%20%20%20%20%20%20%20%20%3Cmeta%20name%3D%22viewport%22%20content%3D%22width%3Ddevice-width%2C%0A%20%20%20%20%20%20%20%20%20%20%20%20%20%20%20%20initial-scale%3D1.0%2C%20maximum-scale%3D1.0%2C%20user-scalable%3Dno%22%20/%3E%0A%20%20%20%20%20%20%20%20%20%20%20%20%3Cstyle%3E%0A%20%20%20%20%20%20%20%20%20%20%20%20%20%20%20%20%23map_ce914806198a4d0da0db8551333f2211%20%7B%0A%20%20%20%20%20%20%20%20%20%20%20%20%20%20%20%20%20%20%20%20position%3A%20relative%3B%0A%20%20%20%20%20%20%20%20%20%20%20%20%20%20%20%20%20%20%20%20width%3A%20100.0%25%3B%0A%20%20%20%20%20%20%20%20%20%20%20%20%20%20%20%20%20%20%20%20height%3A%20100.0%25%3B%0A%20%20%20%20%20%20%20%20%20%20%20%20%20%20%20%20%20%20%20%20left%3A%200.0%25%3B%0A%20%20%20%20%20%20%20%20%20%20%20%20%20%20%20%20%20%20%20%20top%3A%200.0%25%3B%0A%20%20%20%20%20%20%20%20%20%20%20%20%20%20%20%20%7D%0A%20%20%20%20%20%20%20%20%20%20%20%20%3C/style%3E%0A%20%20%20%20%20%20%20%20%0A%3C/head%3E%0A%3Cbody%3E%20%20%20%20%0A%20%20%20%20%0A%20%20%20%20%20%20%20%20%20%20%20%20%3Cdiv%20class%3D%22folium-map%22%20id%3D%22map_ce914806198a4d0da0db8551333f2211%22%20%3E%3C/div%3E%0A%20%20%20%20%20%20%20%20%0A%3C/body%3E%0A%3Cscript%3E%20%20%20%20%0A%20%20%20%20%0A%20%20%20%20%20%20%20%20%20%20%20%20var%20map_ce914806198a4d0da0db8551333f2211%20%3D%20L.map%28%0A%20%20%20%20%20%20%20%20%20%20%20%20%20%20%20%20%22map_ce914806198a4d0da0db8551333f2211%22%2C%0A%20%20%20%20%20%20%20%20%20%20%20%20%20%20%20%20%7B%0A%20%20%20%20%20%20%20%20%20%20%20%20%20%20%20%20%20%20%20%20center%3A%20%5B37.529622%2C%20126.984307%5D%2C%0A%20%20%20%20%20%20%20%20%20%20%20%20%20%20%20%20%20%20%20%20crs%3A%20L.CRS.EPSG3857%2C%0A%20%20%20%20%20%20%20%20%20%20%20%20%20%20%20%20%20%20%20%20zoom%3A%2012%2C%0A%20%20%20%20%20%20%20%20%20%20%20%20%20%20%20%20%20%20%20%20zoomControl%3A%20true%2C%0A%20%20%20%20%20%20%20%20%20%20%20%20%20%20%20%20%20%20%20%20preferCanvas%3A%20false%2C%0A%20%20%20%20%20%20%20%20%20%20%20%20%20%20%20%20%7D%0A%20%20%20%20%20%20%20%20%20%20%20%20%29%3B%0A%0A%20%20%20%20%20%20%20%20%20%20%20%20%0A%0A%20%20%20%20%20%20%20%20%0A%20%20%20%20%0A%20%20%20%20%20%20%20%20%20%20%20%20var%20tile_layer_fd6e8776d68a474583d49c63c059906e%20%3D%20L.tileLayer%28%0A%20%20%20%20%20%20%20%20%20%20%20%20%20%20%20%20%22https%3A//%7Bs%7D.tile.openstreetmap.org/%7Bz%7D/%7Bx%7D/%7By%7D.png%22%2C%0A%20%20%20%20%20%20%20%20%20%20%20%20%20%20%20%20%7B%22attribution%22%3A%20%22Data%20by%20%5Cu0026copy%3B%20%5Cu003ca%20href%3D%5C%22http%3A//openstreetmap.org%5C%22%5Cu003eOpenStreetMap%5Cu003c/a%5Cu003e%2C%20under%20%5Cu003ca%20href%3D%5C%22http%3A//www.openstreetmap.org/copyright%5C%22%5Cu003eODbL%5Cu003c/a%5Cu003e.%22%2C%20%22detectRetina%22%3A%20false%2C%20%22maxNativeZoom%22%3A%2018%2C%20%22maxZoom%22%3A%2018%2C%20%22minZoom%22%3A%200%2C%20%22noWrap%22%3A%20false%2C%20%22opacity%22%3A%201%2C%20%22subdomains%22%3A%20%22abc%22%2C%20%22tms%22%3A%20false%7D%0A%20%20%20%20%20%20%20%20%20%20%20%20%29.addTo%28map_ce914806198a4d0da0db8551333f2211%29%3B%0A%20%20%20%20%20%20%20%20%0A%20%20%20%20%0A%20%20%20%20%20%20%20%20%20%20%20%20var%20marker_3a20660c20b04e7d8113f7201e1d39ae%20%3D%20L.marker%28%0A%20%20%20%20%20%20%20%20%20%20%20%20%20%20%20%20%5B37.476281%2C%20126.958369%5D%2C%0A%20%20%20%20%20%20%20%20%20%20%20%20%20%20%20%20%7B%7D%0A%20%20%20%20%20%20%20%20%20%20%20%20%29.addTo%28map_ce914806198a4d0da0db8551333f2211%29%3B%0A%20%20%20%20%20%20%20%20%0A%20%20%20%20%0A%20%20%20%20%20%20%20%20%20%20%20%20marker_3a20660c20b04e7d8113f7201e1d39ae.bindTooltip%28%0A%20%20%20%20%20%20%20%20%20%20%20%20%20%20%20%20%60%3Cdiv%3E%0A%20%20%20%20%20%20%20%20%20%20%20%20%20%20%20%20%20%20%20%20%201699%0A%20%20%20%20%20%20%20%20%20%20%20%20%20%20%20%20%20%3C/div%3E%60%2C%0A%20%20%20%20%20%20%20%20%20%20%20%20%20%20%20%20%7B%22sticky%22%3A%20true%7D%0A%20%20%20%20%20%20%20%20%20%20%20%20%29%3B%0A%20%20%20%20%20%20%20%20%0A%20%20%20%20%0A%20%20%20%20%20%20%20%20%20%20%20%20var%20marker_8ebc5f35174e4083b3b3ed5eb081b11a%20%3D%20L.marker%28%0A%20%20%20%20%20%20%20%20%20%20%20%20%20%20%20%20%5B37.471024%2C%20126.921689%5D%2C%0A%20%20%20%20%20%20%20%20%20%20%20%20%20%20%20%20%7B%7D%0A%20%20%20%20%20%20%20%20%20%20%20%20%29.addTo%28map_ce914806198a4d0da0db8551333f2211%29%3B%0A%20%20%20%20%20%20%20%20%0A%20%20%20%20%0A%20%20%20%20%20%20%20%20%20%20%20%20marker_8ebc5f35174e4083b3b3ed5eb081b11a.bindTooltip%28%0A%20%20%20%20%20%20%20%20%20%20%20%20%20%20%20%20%60%3Cdiv%3E%0A%20%20%20%20%20%20%20%20%20%20%20%20%20%20%20%20%20%20%20%20%202533%0A%20%20%20%20%20%20%20%20%20%20%20%20%20%20%20%20%20%3C/div%3E%60%2C%0A%20%20%20%20%20%20%20%20%20%20%20%20%20%20%20%20%7B%22sticky%22%3A%20true%7D%0A%20%20%20%20%20%20%20%20%20%20%20%20%29%3B%0A%20%20%20%20%20%20%20%20%0A%20%20%20%20%0A%20%20%20%20%20%20%20%20%20%20%20%20var%20marker_d0ef19c127f547c3bdcf5df540214abd%20%3D%20L.marker%28%0A%20%20%20%20%20%20%20%20%20%20%20%20%20%20%20%20%5B37.461554%2C%20126.918807%5D%2C%0A%20%20%20%20%20%20%20%20%20%20%20%20%20%20%20%20%7B%7D%0A%20%20%20%20%20%20%20%20%20%20%20%20%29.addTo%28map_ce914806198a4d0da0db8551333f2211%29%3B%0A%20%20%20%20%20%20%20%20%0A%20%20%20%20%0A%20%20%20%20%20%20%20%20%20%20%20%20marker_d0ef19c127f547c3bdcf5df540214abd.bindTooltip%28%0A%20%20%20%20%20%20%20%20%20%20%20%20%20%20%20%20%60%3Cdiv%3E%0A%20%20%20%20%20%20%20%20%20%20%20%20%20%20%20%20%20%20%20%20%20388%0A%20%20%20%20%20%20%20%20%20%20%20%20%20%20%20%20%20%3C/div%3E%60%2C%0A%20%20%20%20%20%20%20%20%20%20%20%20%20%20%20%20%7B%22sticky%22%3A%20true%7D%0A%20%20%20%20%20%20%20%20%20%20%20%20%29%3B%0A%20%20%20%20%20%20%20%20%0A%20%20%20%20%0A%20%20%20%20%20%20%20%20%20%20%20%20var%20marker_782121951a894027ab8fcbe84a9d24fe%20%3D%20L.marker%28%0A%20%20%20%20%20%20%20%20%20%20%20%20%20%20%20%20%5B37.464115%2C%20126.977754%5D%2C%0A%20%20%20%20%20%20%20%20%20%20%20%20%20%20%20%20%7B%7D%0A%20%20%20%20%20%20%20%20%20%20%20%20%29.addTo%28map_ce914806198a4d0da0db8551333f2211%29%3B%0A%20%20%20%20%20%20%20%20%0A%20%20%20%20%0A%20%20%20%20%20%20%20%20%20%20%20%20marker_782121951a894027ab8fcbe84a9d24fe.bindTooltip%28%0A%20%20%20%20%20%20%20%20%20%20%20%20%20%20%20%20%60%3Cdiv%3E%0A%20%20%20%20%20%20%20%20%20%20%20%20%20%20%20%20%20%20%20%20%203708%0A%20%20%20%20%20%20%20%20%20%20%20%20%20%20%20%20%20%3C/div%3E%60%2C%0A%20%20%20%20%20%20%20%20%20%20%20%20%20%20%20%20%7B%22sticky%22%3A%20true%7D%0A%20%20%20%20%20%20%20%20%20%20%20%20%29%3B%0A%20%20%20%20%20%20%20%20%0A%20%20%20%20%0A%20%20%20%20%20%20%20%20%20%20%20%20var%20marker_29a6b3aabd104e78960c9bdade3f7310%20%3D%20L.marker%28%0A%20%20%20%20%20%20%20%20%20%20%20%20%20%20%20%20%5B37.470593%2C%20126.936855%5D%2C%0A%20%20%20%20%20%20%20%20%20%20%20%20%20%20%20%20%7B%7D%0A%20%20%20%20%20%20%20%20%20%20%20%20%29.addTo%28map_ce914806198a4d0da0db8551333f2211%29%3B%0A%20%20%20%20%20%20%20%20%0A%20%20%20%20%0A%20%20%20%20%20%20%20%20%20%20%20%20marker_29a6b3aabd104e78960c9bdade3f7310.bindTooltip%28%0A%20%20%20%20%20%20%20%20%20%20%20%20%20%20%20%20%60%3Cdiv%3E%0A%20%20%20%20%20%20%20%20%20%20%20%20%20%20%20%20%20%20%20%20%202940%0A%20%20%20%20%20%20%20%20%20%20%20%20%20%20%20%20%20%3C/div%3E%60%2C%0A%20%20%20%20%20%20%20%20%20%20%20%20%20%20%20%20%7B%22sticky%22%3A%20true%7D%0A%20%20%20%20%20%20%20%20%20%20%20%20%29%3B%0A%20%20%20%20%20%20%20%20%0A%20%20%20%20%0A%20%20%20%20%20%20%20%20%20%20%20%20var%20marker_5c8bd84e6a6047f98f8f07302d3b298b%20%3D%20L.marker%28%0A%20%20%20%20%20%20%20%20%20%20%20%20%20%20%20%20%5B37.476348%2C%20126.915677%5D%2C%0A%20%20%20%20%20%20%20%20%20%20%20%20%20%20%20%20%7B%7D%0A%20%20%20%20%20%20%20%20%20%20%20%20%29.addTo%28map_ce914806198a4d0da0db8551333f2211%29%3B%0A%20%20%20%20%20%20%20%20%0A%20%20%20%20%0A%20%20%20%20%20%20%20%20%20%20%20%20marker_5c8bd84e6a6047f98f8f07302d3b298b.bindTooltip%28%0A%20%20%20%20%20%20%20%20%20%20%20%20%20%20%20%20%60%3Cdiv%3E%0A%20%20%20%20%20%20%20%20%20%20%20%20%20%20%20%20%20%20%20%20%203417%0A%20%20%20%20%20%20%20%20%20%20%20%20%20%20%20%20%20%3C/div%3E%60%2C%0A%20%20%20%20%20%20%20%20%20%20%20%20%20%20%20%20%7B%22sticky%22%3A%20true%7D%0A%20%20%20%20%20%20%20%20%20%20%20%20%29%3B%0A%20%20%20%20%20%20%20%20%0A%20%20%20%20%0A%20%20%20%20%20%20%20%20%20%20%20%20var%20marker_f2f112ae3037471c950f6cd0f0790231%20%3D%20L.marker%28%0A%20%20%20%20%20%20%20%20%20%20%20%20%20%20%20%20%5B37.488208%2C%20126.932761%5D%2C%0A%20%20%20%20%20%20%20%20%20%20%20%20%20%20%20%20%7B%7D%0A%20%20%20%20%20%20%20%20%20%20%20%20%29.addTo%28map_ce914806198a4d0da0db8551333f2211%29%3B%0A%20%20%20%20%20%20%20%20%0A%20%20%20%20%0A%20%20%20%20%20%20%20%20%20%20%20%20marker_f2f112ae3037471c950f6cd0f0790231.bindTooltip%28%0A%20%20%20%20%20%20%20%20%20%20%20%20%20%20%20%20%60%3Cdiv%3E%0A%20%20%20%20%20%20%20%20%20%20%20%20%20%20%20%20%20%20%20%20%201800%0A%20%20%20%20%20%20%20%20%20%20%20%20%20%20%20%20%20%3C/div%3E%60%2C%0A%20%20%20%20%20%20%20%20%20%20%20%20%20%20%20%20%7B%22sticky%22%3A%20true%7D%0A%20%20%20%20%20%20%20%20%20%20%20%20%29%3B%0A%20%20%20%20%20%20%20%20%0A%20%20%20%20%0A%20%20%20%20%20%20%20%20%20%20%20%20var%20marker_28db23e283da475e8b4611117e526a07%20%3D%20L.marker%28%0A%20%20%20%20%20%20%20%20%20%20%20%20%20%20%20%20%5B37.482717%2C%20126.949951%5D%2C%0A%20%20%20%20%20%20%20%20%20%20%20%20%20%20%20%20%7B%7D%0A%20%20%20%20%20%20%20%20%20%20%20%20%29.addTo%28map_ce914806198a4d0da0db8551333f2211%29%3B%0A%20%20%20%20%20%20%20%20%0A%20%20%20%20%0A%20%20%20%20%20%20%20%20%20%20%20%20marker_28db23e283da475e8b4611117e526a07.bindTooltip%28%0A%20%20%20%20%20%20%20%20%20%20%20%20%20%20%20%20%60%3Cdiv%3E%0A%20%20%20%20%20%20%20%20%20%20%20%20%20%20%20%20%20%20%20%20%2020474%0A%20%20%20%20%20%20%20%20%20%20%20%20%20%20%20%20%20%3C/div%3E%60%2C%0A%20%20%20%20%20%20%20%20%20%20%20%20%20%20%20%20%7B%22sticky%22%3A%20true%7D%0A%20%20%20%20%20%20%20%20%20%20%20%20%29%3B%0A%20%20%20%20%20%20%20%20%0A%20%20%20%20%0A%20%20%20%20%20%20%20%20%20%20%20%20var%20marker_fa80a4ec2ed44887b9947af5e79dcddc%20%3D%20L.marker%28%0A%20%20%20%20%20%20%20%20%20%20%20%20%20%20%20%20%5B37.483974%2C%20126.974999%5D%2C%0A%20%20%20%20%20%20%20%20%20%20%20%20%20%20%20%20%7B%7D%0A%20%20%20%20%20%20%20%20%20%20%20%20%29.addTo%28map_ce914806198a4d0da0db8551333f2211%29%3B%0A%20%20%20%20%20%20%20%20%0A%20%20%20%20%0A%20%20%20%20%20%20%20%20%20%20%20%20marker_fa80a4ec2ed44887b9947af5e79dcddc.bindTooltip%28%0A%20%20%20%20%20%20%20%20%20%20%20%20%20%20%20%20%60%3Cdiv%3E%0A%20%20%20%20%20%20%20%20%20%20%20%20%20%20%20%20%20%20%20%20%202%0A%20%20%20%20%20%20%20%20%20%20%20%20%20%20%20%20%20%3C/div%3E%60%2C%0A%20%20%20%20%20%20%20%20%20%20%20%20%20%20%20%20%7B%22sticky%22%3A%20true%7D%0A%20%20%20%20%20%20%20%20%20%20%20%20%29%3B%0A%20%20%20%20%20%20%20%20%0A%20%20%20%20%0A%20%20%20%20%20%20%20%20%20%20%20%20var%20marker_de1f7cb447ef4ce8b45b62cbcb6a9632%20%3D%20L.marker%28%0A%20%20%20%20%20%20%20%20%20%20%20%20%20%20%20%20%5B37.470135%2C%20126.933007%5D%2C%0A%20%20%20%20%20%20%20%20%20%20%20%20%20%20%20%20%7B%7D%0A%20%20%20%20%20%20%20%20%20%20%20%20%29.addTo%28map_ce914806198a4d0da0db8551333f2211%29%3B%0A%20%20%20%20%20%20%20%20%0A%20%20%20%20%0A%20%20%20%20%20%20%20%20%20%20%20%20marker_de1f7cb447ef4ce8b45b62cbcb6a9632.bindTooltip%28%0A%20%20%20%20%20%20%20%20%20%20%20%20%20%20%20%20%60%3Cdiv%3E%0A%20%20%20%20%20%20%20%20%20%20%20%20%20%20%20%20%20%20%20%20%20732%0A%20%20%20%20%20%20%20%20%20%20%20%20%20%20%20%20%20%3C/div%3E%60%2C%0A%20%20%20%20%20%20%20%20%20%20%20%20%20%20%20%20%7B%22sticky%22%3A%20true%7D%0A%20%20%20%20%20%20%20%20%20%20%20%20%29%3B%0A%20%20%20%20%20%20%20%20%0A%20%20%20%20%0A%20%20%20%20%20%20%20%20%20%20%20%20var%20marker_2aa3bcac916e473b801af738cf2fc711%20%3D%20L.marker%28%0A%20%20%20%20%20%20%20%20%20%20%20%20%20%20%20%20%5B37.475037%2C%20126.934972%5D%2C%0A%20%20%20%20%20%20%20%20%20%20%20%20%20%20%20%20%7B%7D%0A%20%20%20%20%20%20%20%20%20%20%20%20%29.addTo%28map_ce914806198a4d0da0db8551333f2211%29%3B%0A%20%20%20%20%20%20%20%20%0A%20%20%20%20%0A%20%20%20%20%20%20%20%20%20%20%20%20marker_2aa3bcac916e473b801af738cf2fc711.bindTooltip%28%0A%20%20%20%20%20%20%20%20%20%20%20%20%20%20%20%20%60%3Cdiv%3E%0A%20%20%20%20%20%20%20%20%20%20%20%20%20%20%20%20%20%20%20%20%20959%0A%20%20%20%20%20%20%20%20%20%20%20%20%20%20%20%20%20%3C/div%3E%60%2C%0A%20%20%20%20%20%20%20%20%20%20%20%20%20%20%20%20%7B%22sticky%22%3A%20true%7D%0A%20%20%20%20%20%20%20%20%20%20%20%20%29%3B%0A%20%20%20%20%20%20%20%20%0A%20%20%20%20%0A%20%20%20%20%20%20%20%20%20%20%20%20var%20marker_da8ce2b4f79542728db978ed089115b9%20%3D%20L.marker%28%0A%20%20%20%20%20%20%20%20%20%20%20%20%20%20%20%20%5B37.479662%2C%20126.931311%5D%2C%0A%20%20%20%20%20%20%20%20%20%20%20%20%20%20%20%20%7B%7D%0A%20%20%20%20%20%20%20%20%20%20%20%20%29.addTo%28map_ce914806198a4d0da0db8551333f2211%29%3B%0A%20%20%20%20%20%20%20%20%0A%20%20%20%20%0A%20%20%20%20%20%20%20%20%20%20%20%20marker_da8ce2b4f79542728db978ed089115b9.bindTooltip%28%0A%20%20%20%20%20%20%20%20%20%20%20%20%20%20%20%20%60%3Cdiv%3E%0A%20%20%20%20%20%20%20%20%20%20%20%20%20%20%20%20%20%20%20%20%202601%0A%20%20%20%20%20%20%20%20%20%20%20%20%20%20%20%20%20%3C/div%3E%60%2C%0A%20%20%20%20%20%20%20%20%20%20%20%20%20%20%20%20%7B%22sticky%22%3A%20true%7D%0A%20%20%20%20%20%20%20%20%20%20%20%20%29%3B%0A%20%20%20%20%20%20%20%20%0A%20%20%20%20%0A%20%20%20%20%20%20%20%20%20%20%20%20var%20marker_ef75276fec084aaaa5aaa4631e6264b8%20%3D%20L.marker%28%0A%20%20%20%20%20%20%20%20%20%20%20%20%20%20%20%20%5B37.489708%2C%20126.948322%5D%2C%0A%20%20%20%20%20%20%20%20%20%20%20%20%20%20%20%20%7B%7D%0A%20%20%20%20%20%20%20%20%20%20%20%20%29.addTo%28map_ce914806198a4d0da0db8551333f2211%29%3B%0A%20%20%20%20%20%20%20%20%0A%20%20%20%20%0A%20%20%20%20%20%20%20%20%20%20%20%20marker_ef75276fec084aaaa5aaa4631e6264b8.bindTooltip%28%0A%20%20%20%20%20%20%20%20%20%20%20%20%20%20%20%20%60%3Cdiv%3E%0A%20%20%20%20%20%20%20%20%20%20%20%20%20%20%20%20%20%20%20%20%20658%0A%20%20%20%20%20%20%20%20%20%20%20%20%20%20%20%20%20%3C/div%3E%60%2C%0A%20%20%20%20%20%20%20%20%20%20%20%20%20%20%20%20%7B%22sticky%22%3A%20true%7D%0A%20%20%20%20%20%20%20%20%20%20%20%20%29%3B%0A%20%20%20%20%20%20%20%20%0A%20%20%20%20%0A%20%20%20%20%20%20%20%20%20%20%20%20var%20marker_5591a1d444d5466fa679cb67acd0b5b8%20%3D%20L.marker%28%0A%20%20%20%20%20%20%20%20%20%20%20%20%20%20%20%20%5B37.492678%2C%20126.917721%5D%2C%0A%20%20%20%20%20%20%20%20%20%20%20%20%20%20%20%20%7B%7D%0A%20%20%20%20%20%20%20%20%20%20%20%20%29.addTo%28map_ce914806198a4d0da0db8551333f2211%29%3B%0A%20%20%20%20%20%20%20%20%0A%20%20%20%20%0A%20%20%20%20%20%20%20%20%20%20%20%20marker_5591a1d444d5466fa679cb67acd0b5b8.bindTooltip%28%0A%20%20%20%20%20%20%20%20%20%20%20%20%20%20%20%20%60%3Cdiv%3E%0A%20%20%20%20%20%20%20%20%20%20%20%20%20%20%20%20%20%20%20%20%207%0A%20%20%20%20%20%20%20%20%20%20%20%20%20%20%20%20%20%3C/div%3E%60%2C%0A%20%20%20%20%20%20%20%20%20%20%20%20%20%20%20%20%7B%22sticky%22%3A%20true%7D%0A%20%20%20%20%20%20%20%20%20%20%20%20%29%3B%0A%20%20%20%20%20%20%20%20%0A%20%20%20%20%0A%20%20%20%20%20%20%20%20%20%20%20%20var%20marker_a8a05e44499c458c9a455dc5de2e2a7d%20%3D%20L.marker%28%0A%20%20%20%20%20%20%20%20%20%20%20%20%20%20%20%20%5B37.463204%2C%20126.935795%5D%2C%0A%20%20%20%20%20%20%20%20%20%20%20%20%20%20%20%20%7B%7D%0A%20%20%20%20%20%20%20%20%20%20%20%20%29.addTo%28map_ce914806198a4d0da0db8551333f2211%29%3B%0A%20%20%20%20%20%20%20%20%0A%20%20%20%20%0A%20%20%20%20%20%20%20%20%20%20%20%20marker_a8a05e44499c458c9a455dc5de2e2a7d.bindTooltip%28%0A%20%20%20%20%20%20%20%20%20%20%20%20%20%20%20%20%60%3Cdiv%3E%0A%20%20%20%20%20%20%20%20%20%20%20%20%20%20%20%20%20%20%20%20%2028053%0A%20%20%20%20%20%20%20%20%20%20%20%20%20%20%20%20%20%3C/div%3E%60%2C%0A%20%20%20%20%20%20%20%20%20%20%20%20%20%20%20%20%7B%22sticky%22%3A%20true%7D%0A%20%20%20%20%20%20%20%20%20%20%20%20%29%3B%0A%20%20%20%20%20%20%20%20%0A%20%20%20%20%0A%20%20%20%20%20%20%20%20%20%20%20%20var%20marker_d144ae98f47742f8b406fe678530469b%20%3D%20L.marker%28%0A%20%20%20%20%20%20%20%20%20%20%20%20%20%20%20%20%5B37.485479%2C%20126.918044%5D%2C%0A%20%20%20%20%20%20%20%20%20%20%20%20%20%20%20%20%7B%7D%0A%20%20%20%20%20%20%20%20%20%20%20%20%29.addTo%28map_ce914806198a4d0da0db8551333f2211%29%3B%0A%20%20%20%20%20%20%20%20%0A%20%20%20%20%0A%20%20%20%20%20%20%20%20%20%20%20%20marker_d144ae98f47742f8b406fe678530469b.bindTooltip%28%0A%20%20%20%20%20%20%20%20%20%20%20%20%20%20%20%20%60%3Cdiv%3E%0A%20%20%20%20%20%20%20%20%20%20%20%20%20%20%20%20%20%20%20%20%202522%0A%20%20%20%20%20%20%20%20%20%20%20%20%20%20%20%20%20%3C/div%3E%60%2C%0A%20%20%20%20%20%20%20%20%20%20%20%20%20%20%20%20%7B%22sticky%22%3A%20true%7D%0A%20%20%20%20%20%20%20%20%20%20%20%20%29%3B%0A%20%20%20%20%20%20%20%20%0A%20%20%20%20%0A%20%20%20%20%20%20%20%20%20%20%20%20var%20marker_5e2d139c07dd4bcc92d04099eaf51d10%20%3D%20L.marker%28%0A%20%20%20%20%20%20%20%20%20%20%20%20%20%20%20%20%5B37.481698%2C%20126.927268%5D%2C%0A%20%20%20%20%20%20%20%20%20%20%20%20%20%20%20%20%7B%7D%0A%20%20%20%20%20%20%20%20%20%20%20%20%29.addTo%28map_ce914806198a4d0da0db8551333f2211%29%3B%0A%20%20%20%20%20%20%20%20%0A%20%20%20%20%0A%20%20%20%20%20%20%20%20%20%20%20%20marker_5e2d139c07dd4bcc92d04099eaf51d10.bindTooltip%28%0A%20%20%20%20%20%20%20%20%20%20%20%20%20%20%20%20%60%3Cdiv%3E%0A%20%20%20%20%20%20%20%20%20%20%20%20%20%20%20%20%20%20%20%20%202191%0A%20%20%20%20%20%20%20%20%20%20%20%20%20%20%20%20%20%3C/div%3E%60%2C%0A%20%20%20%20%20%20%20%20%20%20%20%20%20%20%20%20%7B%22sticky%22%3A%20true%7D%0A%20%20%20%20%20%20%20%20%20%20%20%20%29%3B%0A%20%20%20%20%20%20%20%20%0A%20%20%20%20%0A%20%20%20%20%20%20%20%20%20%20%20%20var%20marker_ffe3c85b50fc4944ad9661e43c081f56%20%3D%20L.marker%28%0A%20%20%20%20%20%20%20%20%20%20%20%20%20%20%20%20%5B37.485376%2C%20126.942503%5D%2C%0A%20%20%20%20%20%20%20%20%20%20%20%20%20%20%20%20%7B%7D%0A%20%20%20%20%20%20%20%20%20%20%20%20%29.addTo%28map_ce914806198a4d0da0db8551333f2211%29%3B%0A%20%20%20%20%20%20%20%20%0A%20%20%20%20%0A%20%20%20%20%20%20%20%20%20%20%20%20marker_ffe3c85b50fc4944ad9661e43c081f56.bindTooltip%28%0A%20%20%20%20%20%20%20%20%20%20%20%20%20%20%20%20%60%3Cdiv%3E%0A%20%20%20%20%20%20%20%20%20%20%20%20%20%20%20%20%20%20%20%20%201909%0A%20%20%20%20%20%20%20%20%20%20%20%20%20%20%20%20%20%3C/div%3E%60%2C%0A%20%20%20%20%20%20%20%20%20%20%20%20%20%20%20%20%7B%22sticky%22%3A%20true%7D%0A%20%20%20%20%20%20%20%20%20%20%20%20%29%3B%0A%20%20%20%20%20%20%20%20%0A%20%20%20%20%0A%20%20%20%20%20%20%20%20%20%20%20%20var%20marker_5b0c9f2514ba4ca184c7d7a3cdcc459d%20%3D%20L.marker%28%0A%20%20%20%20%20%20%20%20%20%20%20%20%20%20%20%20%5B37.475126%2C%20126.965259%5D%2C%0A%20%20%20%20%20%20%20%20%20%20%20%20%20%20%20%20%7B%7D%0A%20%20%20%20%20%20%20%20%20%20%20%20%29.addTo%28map_ce914806198a4d0da0db8551333f2211%29%3B%0A%20%20%20%20%20%20%20%20%0A%20%20%20%20%0A%20%20%20%20%20%20%20%20%20%20%20%20marker_5b0c9f2514ba4ca184c7d7a3cdcc459d.bindTooltip%28%0A%20%20%20%20%20%20%20%20%20%20%20%20%20%20%20%20%60%3Cdiv%3E%0A%20%20%20%20%20%20%20%20%20%20%20%20%20%20%20%20%20%20%20%20%203966%0A%20%20%20%20%20%20%20%20%20%20%20%20%20%20%20%20%20%3C/div%3E%60%2C%0A%20%20%20%20%20%20%20%20%20%20%20%20%20%20%20%20%7B%22sticky%22%3A%20true%7D%0A%20%20%20%20%20%20%20%20%20%20%20%20%29%3B%0A%20%20%20%20%20%20%20%20%0A%20%20%20%20%0A%20%20%20%20%20%20%20%20%20%20%20%20var%20marker_f0f8d71288ae40b09c74f432711eda90%20%3D%20L.marker%28%0A%20%20%20%20%20%20%20%20%20%20%20%20%20%20%20%20%5B37.482592%2C%20126.907808%5D%2C%0A%20%20%20%20%20%20%20%20%20%20%20%20%20%20%20%20%7B%7D%0A%20%20%20%20%20%20%20%20%20%20%20%20%29.addTo%28map_ce914806198a4d0da0db8551333f2211%29%3B%0A%20%20%20%20%20%20%20%20%0A%20%20%20%20%0A%20%20%20%20%20%20%20%20%20%20%20%20marker_f0f8d71288ae40b09c74f432711eda90.bindTooltip%28%0A%20%20%20%20%20%20%20%20%20%20%20%20%20%20%20%20%60%3Cdiv%3E%0A%20%20%20%20%20%20%20%20%20%20%20%20%20%20%20%20%20%20%20%20%204966%0A%20%20%20%20%20%20%20%20%20%20%20%20%20%20%20%20%20%3C/div%3E%60%2C%0A%20%20%20%20%20%20%20%20%20%20%20%20%20%20%20%20%7B%22sticky%22%3A%20true%7D%0A%20%20%20%20%20%20%20%20%20%20%20%20%29%3B%0A%20%20%20%20%20%20%20%20%0A%20%20%20%20%0A%20%20%20%20%20%20%20%20%20%20%20%20var%20marker_854c02dcfc904ed0b0a8d6e27d5222a7%20%3D%20L.marker%28%0A%20%20%20%20%20%20%20%20%20%20%20%20%20%20%20%20%5B37.484016%2C%20126.949645%5D%2C%0A%20%20%20%20%20%20%20%20%20%20%20%20%20%20%20%20%7B%7D%0A%20%20%20%20%20%20%20%20%20%20%20%20%29.addTo%28map_ce914806198a4d0da0db8551333f2211%29%3B%0A%20%20%20%20%20%20%20%20%0A%20%20%20%20%0A%20%20%20%20%20%20%20%20%20%20%20%20marker_854c02dcfc904ed0b0a8d6e27d5222a7.bindTooltip%28%0A%20%20%20%20%20%20%20%20%20%20%20%20%20%20%20%20%60%3Cdiv%3E%0A%20%20%20%20%20%20%20%20%20%20%20%20%20%20%20%20%20%20%20%20%201081%0A%20%20%20%20%20%20%20%20%20%20%20%20%20%20%20%20%20%3C/div%3E%60%2C%0A%20%20%20%20%20%20%20%20%20%20%20%20%20%20%20%20%7B%22sticky%22%3A%20true%7D%0A%20%20%20%20%20%20%20%20%20%20%20%20%29%3B%0A%20%20%20%20%20%20%20%20%0A%20%20%20%20%0A%20%20%20%20%20%20%20%20%20%20%20%20var%20marker_d3dd2df2a7154ec5bcc6600e80988064%20%3D%20L.marker%28%0A%20%20%20%20%20%20%20%20%20%20%20%20%20%20%20%20%5B37.479143%2C%20126.941675%5D%2C%0A%20%20%20%20%20%20%20%20%20%20%20%20%20%20%20%20%7B%7D%0A%20%20%20%20%20%20%20%20%20%20%20%20%29.addTo%28map_ce914806198a4d0da0db8551333f2211%29%3B%0A%20%20%20%20%20%20%20%20%0A%20%20%20%20%0A%20%20%20%20%20%20%20%20%20%20%20%20marker_d3dd2df2a7154ec5bcc6600e80988064.bindTooltip%28%0A%20%20%20%20%20%20%20%20%20%20%20%20%20%20%20%20%60%3Cdiv%3E%0A%20%20%20%20%20%20%20%20%20%20%20%20%20%20%20%20%20%20%20%20%202394%0A%20%20%20%20%20%20%20%20%20%20%20%20%20%20%20%20%20%3C/div%3E%60%2C%0A%20%20%20%20%20%20%20%20%20%20%20%20%20%20%20%20%7B%22sticky%22%3A%20true%7D%0A%20%20%20%20%20%20%20%20%20%20%20%20%29%3B%0A%20%20%20%20%20%20%20%20%0A%20%20%20%20%0A%20%20%20%20%20%20%20%20%20%20%20%20var%20marker_ca69be5b83ce44bebcb07df99fe4fca4%20%3D%20L.marker%28%0A%20%20%20%20%20%20%20%20%20%20%20%20%20%20%20%20%5B37.491928%2C%20126.958841%5D%2C%0A%20%20%20%20%20%20%20%20%20%20%20%20%20%20%20%20%7B%7D%0A%20%20%20%20%20%20%20%20%20%20%20%20%29.addTo%28map_ce914806198a4d0da0db8551333f2211%29%3B%0A%20%20%20%20%20%20%20%20%0A%20%20%20%20%0A%20%20%20%20%20%20%20%20%20%20%20%20marker_ca69be5b83ce44bebcb07df99fe4fca4.bindTooltip%28%0A%20%20%20%20%20%20%20%20%20%20%20%20%20%20%20%20%60%3Cdiv%3E%0A%20%20%20%20%20%20%20%20%20%20%20%20%20%20%20%20%20%20%20%20%20444%0A%20%20%20%20%20%20%20%20%20%20%20%20%20%20%20%20%20%3C/div%3E%60%2C%0A%20%20%20%20%20%20%20%20%20%20%20%20%20%20%20%20%7B%22sticky%22%3A%20true%7D%0A%20%20%20%20%20%20%20%20%20%20%20%20%29%3B%0A%20%20%20%20%20%20%20%20%0A%20%20%20%20%0A%20%20%20%20%20%20%20%20%20%20%20%20var%20marker_2e01412de0c8498082b019d313cea869%20%3D%20L.marker%28%0A%20%20%20%20%20%20%20%20%20%20%20%20%20%20%20%20%5B37.480738%2C%20126.95695%5D%2C%0A%20%20%20%20%20%20%20%20%20%20%20%20%20%20%20%20%7B%7D%0A%20%20%20%20%20%20%20%20%20%20%20%20%29.addTo%28map_ce914806198a4d0da0db8551333f2211%29%3B%0A%20%20%20%20%20%20%20%20%0A%20%20%20%20%0A%20%20%20%20%20%20%20%20%20%20%20%20marker_2e01412de0c8498082b019d313cea869.bindTooltip%28%0A%20%20%20%20%20%20%20%20%20%20%20%20%20%20%20%20%60%3Cdiv%3E%0A%20%20%20%20%20%20%20%20%20%20%20%20%20%20%20%20%20%20%20%20%202095%0A%20%20%20%20%20%20%20%20%20%20%20%20%20%20%20%20%20%3C/div%3E%60%2C%0A%20%20%20%20%20%20%20%20%20%20%20%20%20%20%20%20%7B%22sticky%22%3A%20true%7D%0A%20%20%20%20%20%20%20%20%20%20%20%20%29%3B%0A%20%20%20%20%20%20%20%20%0A%20%20%20%20%0A%20%20%20%20%20%20%20%20%20%20%20%20var%20marker_c320b4a5ca164779ab329cc4856edeb4%20%3D%20L.marker%28%0A%20%20%20%20%20%20%20%20%20%20%20%20%20%20%20%20%5B37.47826%2C%20127.052024%5D%2C%0A%20%20%20%20%20%20%20%20%20%20%20%20%20%20%20%20%7B%7D%0A%20%20%20%20%20%20%20%20%20%20%20%20%29.addTo%28map_ce914806198a4d0da0db8551333f2211%29%3B%0A%20%20%20%20%20%20%20%20%0A%20%20%20%20%0A%20%20%20%20%20%20%20%20%20%20%20%20marker_c320b4a5ca164779ab329cc4856edeb4.bindTooltip%28%0A%20%20%20%20%20%20%20%20%20%20%20%20%20%20%20%20%60%3Cdiv%3E%0A%20%20%20%20%20%20%20%20%20%20%20%20%20%20%20%20%20%20%20%20%204581%0A%20%20%20%20%20%20%20%20%20%20%20%20%20%20%20%20%20%3C/div%3E%60%2C%0A%20%20%20%20%20%20%20%20%20%20%20%20%20%20%20%20%7B%22sticky%22%3A%20true%7D%0A%20%20%20%20%20%20%20%20%20%20%20%20%29%3B%0A%20%20%20%20%20%20%20%20%0A%20%20%20%20%0A%20%20%20%20%20%20%20%20%20%20%20%20var%20marker_43d571c7f6c44a61b43c252ea18338eb%20%3D%20L.marker%28%0A%20%20%20%20%20%20%20%20%20%20%20%20%20%20%20%20%5B37.513093%2C%20127.031353%5D%2C%0A%20%20%20%20%20%20%20%20%20%20%20%20%20%20%20%20%7B%7D%0A%20%20%20%20%20%20%20%20%20%20%20%20%29.addTo%28map_ce914806198a4d0da0db8551333f2211%29%3B%0A%20%20%20%20%20%20%20%20%0A%20%20%20%20%0A%20%20%20%20%20%20%20%20%20%20%20%20marker_43d571c7f6c44a61b43c252ea18338eb.bindTooltip%28%0A%20%20%20%20%20%20%20%20%20%20%20%20%20%20%20%20%60%3Cdiv%3E%0A%20%20%20%20%20%20%20%20%20%20%20%20%20%20%20%20%20%20%20%20%2027407%0A%20%20%20%20%20%20%20%20%20%20%20%20%20%20%20%20%20%3C/div%3E%60%2C%0A%20%20%20%20%20%20%20%20%20%20%20%20%20%20%20%20%7B%22sticky%22%3A%20true%7D%0A%20%20%20%20%20%20%20%20%20%20%20%20%29%3B%0A%20%20%20%20%20%20%20%20%0A%20%20%20%20%0A%20%20%20%20%20%20%20%20%20%20%20%20var%20marker_8029bbb931c84b4db1d5dd564b6f9f4e%20%3D%20L.marker%28%0A%20%20%20%20%20%20%20%20%20%20%20%20%20%20%20%20%5B37.501711%2C%20127.057851%5D%2C%0A%20%20%20%20%20%20%20%20%20%20%20%20%20%20%20%20%7B%7D%0A%20%20%20%20%20%20%20%20%20%20%20%20%29.addTo%28map_ce914806198a4d0da0db8551333f2211%29%3B%0A%20%20%20%20%20%20%20%20%0A%20%20%20%20%0A%20%20%20%20%20%20%20%20%20%20%20%20marker_8029bbb931c84b4db1d5dd564b6f9f4e.bindTooltip%28%0A%20%20%20%20%20%20%20%20%20%20%20%20%20%20%20%20%60%3Cdiv%3E%0A%20%20%20%20%20%20%20%20%20%20%20%20%20%20%20%20%20%20%20%20%2024356%0A%20%20%20%20%20%20%20%20%20%20%20%20%20%20%20%20%20%3C/div%3E%60%2C%0A%20%20%20%20%20%20%20%20%20%20%20%20%20%20%20%20%7B%22sticky%22%3A%20true%7D%0A%20%20%20%20%20%20%20%20%20%20%20%20%29%3B%0A%20%20%20%20%20%20%20%20%0A%20%20%20%20%0A%20%20%20%20%20%20%20%20%20%20%20%20var%20marker_cb7ba30ec89445989ea5993a244439d4%20%3D%20L.marker%28%0A%20%20%20%20%20%20%20%20%20%20%20%20%20%20%20%20%5B37.486509%2C%20127.040738%5D%2C%0A%20%20%20%20%20%20%20%20%20%20%20%20%20%20%20%20%7B%7D%0A%20%20%20%20%20%20%20%20%20%20%20%20%29.addTo%28map_ce914806198a4d0da0db8551333f2211%29%3B%0A%20%20%20%20%20%20%20%20%0A%20%20%20%20%0A%20%20%20%20%20%20%20%20%20%20%20%20marker_cb7ba30ec89445989ea5993a244439d4.bindTooltip%28%0A%20%20%20%20%20%20%20%20%20%20%20%20%20%20%20%20%60%3Cdiv%3E%0A%20%20%20%20%20%20%20%20%20%20%20%20%20%20%20%20%20%20%20%20%203986%0A%20%20%20%20%20%20%20%20%20%20%20%20%20%20%20%20%20%3C/div%3E%60%2C%0A%20%20%20%20%20%20%20%20%20%20%20%20%20%20%20%20%7B%22sticky%22%3A%20true%7D%0A%20%20%20%20%20%20%20%20%20%20%20%20%29%3B%0A%20%20%20%20%20%20%20%20%0A%20%20%20%20%0A%20%20%20%20%20%20%20%20%20%20%20%20var%20marker_f03406ffa90843eab00f3372a8fd0b99%20%3D%20L.marker%28%0A%20%20%20%20%20%20%20%20%20%20%20%20%20%20%20%20%5B37.512792%2C%20127.053085%5D%2C%0A%20%20%20%20%20%20%20%20%20%20%20%20%20%20%20%20%7B%7D%0A%20%20%20%20%20%20%20%20%20%20%20%20%29.addTo%28map_ce914806198a4d0da0db8551333f2211%29%3B%0A%20%20%20%20%20%20%20%20%0A%20%20%20%20%0A%20%20%20%20%20%20%20%20%20%20%20%20marker_f03406ffa90843eab00f3372a8fd0b99.bindTooltip%28%0A%20%20%20%20%20%20%20%20%20%20%20%20%20%20%20%20%60%3Cdiv%3E%0A%20%20%20%20%20%20%20%20%20%20%20%20%20%20%20%20%20%20%20%20%2015740%0A%20%20%20%20%20%20%20%20%20%20%20%20%20%20%20%20%20%3C/div%3E%60%2C%0A%20%20%20%20%20%20%20%20%20%20%20%20%20%20%20%20%7B%22sticky%22%3A%20true%7D%0A%20%20%20%20%20%20%20%20%20%20%20%20%29%3B%0A%20%20%20%20%20%20%20%20%0A%20%20%20%20%0A%20%20%20%20%20%20%20%20%20%20%20%20var%20marker_9aa7edcc409b4814954eedbd4c8e71f3%20%3D%20L.marker%28%0A%20%20%20%20%20%20%20%20%20%20%20%20%20%20%20%20%5B37.466494%2C%20127.103021%5D%2C%0A%20%20%20%20%20%20%20%20%20%20%20%20%20%20%20%20%7B%7D%0A%20%20%20%20%20%20%20%20%20%20%20%20%29.addTo%28map_ce914806198a4d0da0db8551333f2211%29%3B%0A%20%20%20%20%20%20%20%20%0A%20%20%20%20%0A%20%20%20%20%20%20%20%20%20%20%20%20marker_9aa7edcc409b4814954eedbd4c8e71f3.bindTooltip%28%0A%20%20%20%20%20%20%20%20%20%20%20%20%20%20%20%20%60%3Cdiv%3E%0A%20%20%20%20%20%20%20%20%20%20%20%20%20%20%20%20%20%20%20%20%202598%0A%20%20%20%20%20%20%20%20%20%20%20%20%20%20%20%20%20%3C/div%3E%60%2C%0A%20%20%20%20%20%20%20%20%20%20%20%20%20%20%20%20%7B%22sticky%22%3A%20true%7D%0A%20%20%20%20%20%20%20%20%20%20%20%20%29%3B%0A%20%20%20%20%20%20%20%20%0A%20%20%20%20%0A%20%20%20%20%20%20%20%20%20%20%20%20var%20marker_157db6b055304f5a8f5e0621e9302405%20%3D%20L.marker%28%0A%20%20%20%20%20%20%20%20%20%20%20%20%20%20%20%20%5B37.485767%2C%20127.098137%5D%2C%0A%20%20%20%20%20%20%20%20%20%20%20%20%20%20%20%20%7B%7D%0A%20%20%20%20%20%20%20%20%20%20%20%20%29.addTo%28map_ce914806198a4d0da0db8551333f2211%29%3B%0A%20%20%20%20%20%20%20%20%0A%20%20%20%20%0A%20%20%20%20%20%20%20%20%20%20%20%20marker_157db6b055304f5a8f5e0621e9302405.bindTooltip%28%0A%20%20%20%20%20%20%20%20%20%20%20%20%20%20%20%20%60%3Cdiv%3E%0A%20%20%20%20%20%20%20%20%20%20%20%20%20%20%20%20%20%20%20%20%205003%0A%20%20%20%20%20%20%20%20%20%20%20%20%20%20%20%20%20%3C/div%3E%60%2C%0A%20%20%20%20%20%20%20%20%20%20%20%20%20%20%20%20%7B%22sticky%22%3A%20true%7D%0A%20%20%20%20%20%20%20%20%20%20%20%20%29%3B%0A%20%20%20%20%20%20%20%20%0A%20%20%20%20%0A%20%20%20%20%20%20%20%20%20%20%20%20var%20marker_fe16830d58e74a10823e47abbcb464eb%20%3D%20L.marker%28%0A%20%20%20%20%20%20%20%20%20%20%20%20%20%20%20%20%5B37.522893%2C%20127.028589%5D%2C%0A%20%20%20%20%20%20%20%20%20%20%20%20%20%20%20%20%7B%7D%0A%20%20%20%20%20%20%20%20%20%20%20%20%29.addTo%28map_ce914806198a4d0da0db8551333f2211%29%3B%0A%20%20%20%20%20%20%20%20%0A%20%20%20%20%0A%20%20%20%20%20%20%20%20%20%20%20%20marker_fe16830d58e74a10823e47abbcb464eb.bindTooltip%28%0A%20%20%20%20%20%20%20%20%20%20%20%20%20%20%20%20%60%3Cdiv%3E%0A%20%20%20%20%20%20%20%20%20%20%20%20%20%20%20%20%20%20%20%20%2015494%0A%20%20%20%20%20%20%20%20%20%20%20%20%20%20%20%20%20%3C/div%3E%60%2C%0A%20%20%20%20%20%20%20%20%20%20%20%20%20%20%20%20%7B%22sticky%22%3A%20true%7D%0A%20%20%20%20%20%20%20%20%20%20%20%20%29%3B%0A%20%20%20%20%20%20%20%20%0A%20%20%20%20%0A%20%20%20%20%20%20%20%20%20%20%20%20var%20marker_f610500f88ad4bc4a12cdd5495967045%20%3D%20L.marker%28%0A%20%20%20%20%20%20%20%20%20%20%20%20%20%20%20%20%5B37.528752%2C%20127.031766%5D%2C%0A%20%20%20%20%20%20%20%20%20%20%20%20%20%20%20%20%7B%7D%0A%20%20%20%20%20%20%20%20%20%20%20%20%29.addTo%28map_ce914806198a4d0da0db8551333f2211%29%3B%0A%20%20%20%20%20%20%20%20%0A%20%20%20%20%0A%20%20%20%20%20%20%20%20%20%20%20%20marker_f610500f88ad4bc4a12cdd5495967045.bindTooltip%28%0A%20%20%20%20%20%20%20%20%20%20%20%20%20%20%20%20%60%3Cdiv%3E%0A%20%20%20%20%20%20%20%20%20%20%20%20%20%20%20%20%20%20%20%20%205730%0A%20%20%20%20%20%20%20%20%20%20%20%20%20%20%20%20%20%3C/div%3E%60%2C%0A%20%20%20%20%20%20%20%20%20%20%20%20%20%20%20%20%7B%22sticky%22%3A%20true%7D%0A%20%20%20%20%20%20%20%20%20%20%20%20%29%3B%0A%20%20%20%20%20%20%20%20%0A%20%20%20%20%0A%20%20%20%20%20%20%20%20%20%20%20%20var%20marker_3aae307a9bdf4bf38a71fb5389f55180%20%3D%20L.marker%28%0A%20%20%20%20%20%20%20%20%20%20%20%20%20%20%20%20%5B37.500335%2C%20127.037596%5D%2C%0A%20%20%20%20%20%20%20%20%20%20%20%20%20%20%20%20%7B%7D%0A%20%20%20%20%20%20%20%20%20%20%20%20%29.addTo%28map_ce914806198a4d0da0db8551333f2211%29%3B%0A%20%20%20%20%20%20%20%20%0A%20%20%20%20%0A%20%20%20%20%20%20%20%20%20%20%20%20marker_3aae307a9bdf4bf38a71fb5389f55180.bindTooltip%28%0A%20%20%20%20%20%20%20%20%20%20%20%20%20%20%20%20%60%3Cdiv%3E%0A%20%20%20%20%20%20%20%20%20%20%20%20%20%20%20%20%20%20%20%20%2035506%0A%20%20%20%20%20%20%20%20%20%20%20%20%20%20%20%20%20%3C/div%3E%60%2C%0A%20%20%20%20%20%20%20%20%20%20%20%20%20%20%20%20%7B%22sticky%22%3A%20true%7D%0A%20%20%20%20%20%20%20%20%20%20%20%20%29%3B%0A%20%20%20%20%20%20%20%20%0A%20%20%20%20%0A%20%20%20%20%20%20%20%20%20%20%20%20var%20marker_0a887685ef534c98b04c1b0065e43ca8%20%3D%20L.marker%28%0A%20%20%20%20%20%20%20%20%20%20%20%20%20%20%20%20%5B37.491326%2C%20127.083799%5D%2C%0A%20%20%20%20%20%20%20%20%20%20%20%20%20%20%20%20%7B%7D%0A%20%20%20%20%20%20%20%20%20%20%20%20%29.addTo%28map_ce914806198a4d0da0db8551333f2211%29%3B%0A%20%20%20%20%20%20%20%20%0A%20%20%20%20%0A%20%20%20%20%20%20%20%20%20%20%20%20marker_0a887685ef534c98b04c1b0065e43ca8.bindTooltip%28%0A%20%20%20%20%20%20%20%20%20%20%20%20%20%20%20%20%60%3Cdiv%3E%0A%20%20%20%20%20%20%20%20%20%20%20%20%20%20%20%20%20%20%20%20%205809%0A%20%20%20%20%20%20%20%20%20%20%20%20%20%20%20%20%20%3C/div%3E%60%2C%0A%20%20%20%20%20%20%20%20%20%20%20%20%20%20%20%20%7B%22sticky%22%3A%20true%7D%0A%20%20%20%20%20%20%20%20%20%20%20%20%29%3B%0A%20%20%20%20%20%20%20%20%0A%20%20%20%20%0A%20%20%20%20%20%20%20%20%20%20%20%20var%20marker_faa5b89f1e394597a25cd5c34992b469%20%3D%20L.marker%28%0A%20%20%20%20%20%20%20%20%20%20%20%20%20%20%20%20%5B37.476796%2C%20127.100387%5D%2C%0A%20%20%20%20%20%20%20%20%20%20%20%20%20%20%20%20%7B%7D%0A%20%20%20%20%20%20%20%20%20%20%20%20%29.addTo%28map_ce914806198a4d0da0db8551333f2211%29%3B%0A%20%20%20%20%20%20%20%20%0A%20%20%20%20%0A%20%20%20%20%20%20%20%20%20%20%20%20marker_faa5b89f1e394597a25cd5c34992b469.bindTooltip%28%0A%20%20%20%20%20%20%20%20%20%20%20%20%20%20%20%20%60%3Cdiv%3E%0A%20%20%20%20%20%20%20%20%20%20%20%20%20%20%20%20%20%20%20%20%201071%0A%20%20%20%20%20%20%20%20%20%20%20%20%20%20%20%20%20%3C/div%3E%60%2C%0A%20%20%20%20%20%20%20%20%20%20%20%20%20%20%20%20%7B%22sticky%22%3A%20true%7D%0A%20%20%20%20%20%20%20%20%20%20%20%20%29%3B%0A%20%20%20%20%20%20%20%20%0A%20%20%20%20%0A%20%20%20%20%20%20%20%20%20%20%20%20var%20marker_94fd7f19f37f4f4eaf13e8ec2db49fef%20%3D%20L.marker%28%0A%20%20%20%20%20%20%20%20%20%20%20%20%20%20%20%20%5B37.523404%2C%20127.046858%5D%2C%0A%20%20%20%20%20%20%20%20%20%20%20%20%20%20%20%20%7B%7D%0A%20%20%20%20%20%20%20%20%20%20%20%20%29.addTo%28map_ce914806198a4d0da0db8551333f2211%29%3B%0A%20%20%20%20%20%20%20%20%0A%20%20%20%20%0A%20%20%20%20%20%20%20%20%20%20%20%20marker_94fd7f19f37f4f4eaf13e8ec2db49fef.bindTooltip%28%0A%20%20%20%20%20%20%20%20%20%20%20%20%20%20%20%20%60%3Cdiv%3E%0A%20%20%20%20%20%20%20%20%20%20%20%20%20%20%20%20%20%20%20%20%2019564%0A%20%20%20%20%20%20%20%20%20%20%20%20%20%20%20%20%20%3C/div%3E%60%2C%0A%20%20%20%20%20%20%20%20%20%20%20%20%20%20%20%20%7B%22sticky%22%3A%20true%7D%0A%20%20%20%20%20%20%20%20%20%20%20%20%29%3B%0A%20%20%20%20%20%20%20%20%0A%20%20%20%20%0A%20%20%20%20%20%20%20%20%20%20%20%20var%20marker_569c09a7754941f6a1c10db4d2247dc5%20%3D%20L.marker%28%0A%20%20%20%20%20%20%20%20%20%20%20%20%20%20%20%20%5B37.567438%2C%20127.173364%5D%2C%0A%20%20%20%20%20%20%20%20%20%20%20%20%20%20%20%20%7B%7D%0A%20%20%20%20%20%20%20%20%20%20%20%20%29.addTo%28map_ce914806198a4d0da0db8551333f2211%29%3B%0A%20%20%20%20%20%20%20%20%0A%20%20%20%20%0A%20%20%20%20%20%20%20%20%20%20%20%20marker_569c09a7754941f6a1c10db4d2247dc5.bindTooltip%28%0A%20%20%20%20%20%20%20%20%20%20%20%20%20%20%20%20%60%3Cdiv%3E%0A%20%20%20%20%20%20%20%20%20%20%20%20%20%20%20%20%20%20%20%20%202790%0A%20%20%20%20%20%20%20%20%20%20%20%20%20%20%20%20%20%3C/div%3E%60%2C%0A%20%20%20%20%20%20%20%20%20%20%20%20%20%20%20%20%7B%22sticky%22%3A%20true%7D%0A%20%20%20%20%20%20%20%20%20%20%20%20%29%3B%0A%20%20%20%20%20%20%20%20%0A%20%20%20%20%0A%20%20%20%20%20%20%20%20%20%20%20%20var%20marker_95caea8e24a546ffb0ca580d0f5837f2%20%3D%20L.marker%28%0A%20%20%20%20%20%20%20%20%20%20%20%20%20%20%20%20%5B37.561068%2C%20127.160582%5D%2C%0A%20%20%20%20%20%20%20%20%20%20%20%20%20%20%20%20%7B%7D%0A%20%20%20%20%20%20%20%20%20%20%20%20%29.addTo%28map_ce914806198a4d0da0db8551333f2211%29%3B%0A%20%20%20%20%20%20%20%20%0A%20%20%20%20%0A%20%20%20%20%20%20%20%20%20%20%20%20marker_95caea8e24a546ffb0ca580d0f5837f2.bindTooltip%28%0A%20%20%20%20%20%20%20%20%20%20%20%20%20%20%20%20%60%3Cdiv%3E%0A%20%20%20%20%20%20%20%20%20%20%20%20%20%20%20%20%20%20%20%20%204039%0A%20%20%20%20%20%20%20%20%20%20%20%20%20%20%20%20%20%3C/div%3E%60%2C%0A%20%20%20%20%20%20%20%20%20%20%20%20%20%20%20%20%7B%22sticky%22%3A%20true%7D%0A%20%20%20%20%20%20%20%20%20%20%20%20%29%3B%0A%20%20%20%20%20%20%20%20%0A%20%20%20%20%0A%20%20%20%20%20%20%20%20%20%20%20%20var%20marker_febc467593884c0492bf5706c6863767%20%3D%20L.marker%28%0A%20%20%20%20%20%20%20%20%20%20%20%20%20%20%20%20%5B37.539123%2C%20127.143163%5D%2C%0A%20%20%20%20%20%20%20%20%20%20%20%20%20%20%20%20%7B%7D%0A%20%20%20%20%20%20%20%20%20%20%20%20%29.addTo%28map_ce914806198a4d0da0db8551333f2211%29%3B%0A%20%20%20%20%20%20%20%20%0A%20%20%20%20%0A%20%20%20%20%20%20%20%20%20%20%20%20marker_febc467593884c0492bf5706c6863767.bindTooltip%28%0A%20%20%20%20%20%20%20%20%20%20%20%20%20%20%20%20%60%3Cdiv%3E%0A%20%20%20%20%20%20%20%20%20%20%20%20%20%20%20%20%20%20%20%20%2012096%0A%20%20%20%20%20%20%20%20%20%20%20%20%20%20%20%20%20%3C/div%3E%60%2C%0A%20%20%20%20%20%20%20%20%20%20%20%20%20%20%20%20%7B%22sticky%22%3A%20true%7D%0A%20%20%20%20%20%20%20%20%20%20%20%20%29%3B%0A%20%20%20%20%20%20%20%20%0A%20%20%20%20%0A%20%20%20%20%20%20%20%20%20%20%20%20var%20marker_08263d09ee4e4c97ac7251c99a9b098b%20%3D%20L.marker%28%0A%20%20%20%20%20%20%20%20%20%20%20%20%20%20%20%20%5B37.531157%2C%20127.142891%5D%2C%0A%20%20%20%20%20%20%20%20%20%20%20%20%20%20%20%20%7B%7D%0A%20%20%20%20%20%20%20%20%20%20%20%20%29.addTo%28map_ce914806198a4d0da0db8551333f2211%29%3B%0A%20%20%20%20%20%20%20%20%0A%20%20%20%20%0A%20%20%20%20%20%20%20%20%20%20%20%20marker_08263d09ee4e4c97ac7251c99a9b098b.bindTooltip%28%0A%20%20%20%20%20%20%20%20%20%20%20%20%20%20%20%20%60%3Cdiv%3E%0A%20%20%20%20%20%20%20%20%20%20%20%20%20%20%20%20%20%20%20%20%203437%0A%20%20%20%20%20%20%20%20%20%20%20%20%20%20%20%20%20%3C/div%3E%60%2C%0A%20%20%20%20%20%20%20%20%20%20%20%20%20%20%20%20%7B%22sticky%22%3A%20true%7D%0A%20%20%20%20%20%20%20%20%20%20%20%20%29%3B%0A%20%20%20%20%20%20%20%20%0A%20%20%20%20%0A%20%20%20%20%20%20%20%20%20%20%20%20var%20marker_3787252ea117442591e73277ec5e2255%20%3D%20L.marker%28%0A%20%20%20%20%20%20%20%20%20%20%20%20%20%20%20%20%5B37.549276%2C%20127.147555%5D%2C%0A%20%20%20%20%20%20%20%20%20%20%20%20%20%20%20%20%7B%7D%0A%20%20%20%20%20%20%20%20%20%20%20%20%29.addTo%28map_ce914806198a4d0da0db8551333f2211%29%3B%0A%20%20%20%20%20%20%20%20%0A%20%20%20%20%0A%20%20%20%20%20%20%20%20%20%20%20%20marker_3787252ea117442591e73277ec5e2255.bindTooltip%28%0A%20%20%20%20%20%20%20%20%20%20%20%20%20%20%20%20%60%3Cdiv%3E%0A%20%20%20%20%20%20%20%20%20%20%20%20%20%20%20%20%20%20%20%20%205327%0A%20%20%20%20%20%20%20%20%20%20%20%20%20%20%20%20%20%3C/div%3E%60%2C%0A%20%20%20%20%20%20%20%20%20%20%20%20%20%20%20%20%7B%22sticky%22%3A%20true%7D%0A%20%20%20%20%20%20%20%20%20%20%20%20%29%3B%0A%20%20%20%20%20%20%20%20%0A%20%20%20%20%0A%20%20%20%20%20%20%20%20%20%20%20%20var%20marker_132d132d184342ddbfe3a03af1938620%20%3D%20L.marker%28%0A%20%20%20%20%20%20%20%20%20%20%20%20%20%20%20%20%5B37.54822%2C%20127.17063%5D%2C%0A%20%20%20%20%20%20%20%20%20%20%20%20%20%20%20%20%7B%7D%0A%20%20%20%20%20%20%20%20%20%20%20%20%29.addTo%28map_ce914806198a4d0da0db8551333f2211%29%3B%0A%20%20%20%20%20%20%20%20%0A%20%20%20%20%0A%20%20%20%20%20%20%20%20%20%20%20%20marker_132d132d184342ddbfe3a03af1938620.bindTooltip%28%0A%20%20%20%20%20%20%20%20%20%20%20%20%20%20%20%20%60%3Cdiv%3E%0A%20%20%20%20%20%20%20%20%20%20%20%20%20%20%20%20%20%20%20%20%207785%0A%20%20%20%20%20%20%20%20%20%20%20%20%20%20%20%20%20%3C/div%3E%60%2C%0A%20%20%20%20%20%20%20%20%20%20%20%20%20%20%20%20%7B%22sticky%22%3A%20true%7D%0A%20%20%20%20%20%20%20%20%20%20%20%20%29%3B%0A%20%20%20%20%20%20%20%20%0A%20%20%20%20%0A%20%20%20%20%20%20%20%20%20%20%20%20var%20marker_d6cdb91625114e9690a96bf4c20ea33b%20%3D%20L.marker%28%0A%20%20%20%20%20%20%20%20%20%20%20%20%20%20%20%20%5B37.531338%2C%20127.129174%5D%2C%0A%20%20%20%20%20%20%20%20%20%20%20%20%20%20%20%20%7B%7D%0A%20%20%20%20%20%20%20%20%20%20%20%20%29.addTo%28map_ce914806198a4d0da0db8551333f2211%29%3B%0A%20%20%20%20%20%20%20%20%0A%20%20%20%20%0A%20%20%20%20%20%20%20%20%20%20%20%20marker_d6cdb91625114e9690a96bf4c20ea33b.bindTooltip%28%0A%20%20%20%20%20%20%20%20%20%20%20%20%20%20%20%20%60%3Cdiv%3E%0A%20%20%20%20%20%20%20%20%20%20%20%20%20%20%20%20%20%20%20%20%209149%0A%20%20%20%20%20%20%20%20%20%20%20%20%20%20%20%20%20%3C/div%3E%60%2C%0A%20%20%20%20%20%20%20%20%20%20%20%20%20%20%20%20%7B%22sticky%22%3A%20true%7D%0A%20%20%20%20%20%20%20%20%20%20%20%20%29%3B%0A%20%20%20%20%20%20%20%20%0A%20%20%20%20%0A%20%20%20%20%20%20%20%20%20%20%20%20var%20marker_76b29f1bbed94d38b8d39f8a2861ce86%20%3D%20L.marker%28%0A%20%20%20%20%20%20%20%20%20%20%20%20%20%20%20%20%5B37.552497%2C%20127.13301%5D%2C%0A%20%20%20%20%20%20%20%20%20%20%20%20%20%20%20%20%7B%7D%0A%20%20%20%20%20%20%20%20%20%20%20%20%29.addTo%28map_ce914806198a4d0da0db8551333f2211%29%3B%0A%20%20%20%20%20%20%20%20%0A%20%20%20%20%0A%20%20%20%20%20%20%20%20%20%20%20%20marker_76b29f1bbed94d38b8d39f8a2861ce86.bindTooltip%28%0A%20%20%20%20%20%20%20%20%20%20%20%20%20%20%20%20%60%3Cdiv%3E%0A%20%20%20%20%20%20%20%20%20%20%20%20%20%20%20%20%20%20%20%20%209526%0A%20%20%20%20%20%20%20%20%20%20%20%20%20%20%20%20%20%3C/div%3E%60%2C%0A%20%20%20%20%20%20%20%20%20%20%20%20%20%20%20%20%7B%22sticky%22%3A%20true%7D%0A%20%20%20%20%20%20%20%20%20%20%20%20%29%3B%0A%20%20%20%20%20%20%20%20%0A%20%20%20%20%0A%20%20%20%20%20%20%20%20%20%20%20%20var%20marker_51072019d6084eec95c123cdcb689b5a%20%3D%20L.marker%28%0A%20%20%20%20%20%20%20%20%20%20%20%20%20%20%20%20%5B37.543676%2C%20127.131748%5D%2C%0A%20%20%20%20%20%20%20%20%20%20%20%20%20%20%20%20%7B%7D%0A%20%20%20%20%20%20%20%20%20%20%20%20%29.addTo%28map_ce914806198a4d0da0db8551333f2211%29%3B%0A%20%20%20%20%20%20%20%20%0A%20%20%20%20%0A%20%20%20%20%20%20%20%20%20%20%20%20marker_51072019d6084eec95c123cdcb689b5a.bindTooltip%28%0A%20%20%20%20%20%20%20%20%20%20%20%20%20%20%20%20%60%3Cdiv%3E%0A%20%20%20%20%20%20%20%20%20%20%20%20%20%20%20%20%20%20%20%20%2016971%0A%20%20%20%20%20%20%20%20%20%20%20%20%20%20%20%20%20%3C/div%3E%60%2C%0A%20%20%20%20%20%20%20%20%20%20%20%20%20%20%20%20%7B%22sticky%22%3A%20true%7D%0A%20%20%20%20%20%20%20%20%20%20%20%20%29%3B%0A%20%20%20%20%20%20%20%20%0A%20%20%20%20%0A%20%20%20%20%20%20%20%20%20%20%20%20var%20marker_6629b3e37ec7404d89a96279291df095%20%3D%20L.marker%28%0A%20%20%20%20%20%20%20%20%20%20%20%20%20%20%20%20%5B37.568238%2C%20126.845059%5D%2C%0A%20%20%20%20%20%20%20%20%20%20%20%20%20%20%20%20%7B%7D%0A%20%20%20%20%20%20%20%20%20%20%20%20%29.addTo%28map_ce914806198a4d0da0db8551333f2211%29%3B%0A%20%20%20%20%20%20%20%20%0A%20%20%20%20%0A%20%20%20%20%20%20%20%20%20%20%20%20marker_6629b3e37ec7404d89a96279291df095.bindTooltip%28%0A%20%20%20%20%20%20%20%20%20%20%20%20%20%20%20%20%60%3Cdiv%3E%0A%20%20%20%20%20%20%20%20%20%20%20%20%20%20%20%20%20%20%20%20%2032005%0A%20%20%20%20%20%20%20%20%20%20%20%20%20%20%20%20%20%3C/div%3E%60%2C%0A%20%20%20%20%20%20%20%20%20%20%20%20%20%20%20%20%7B%22sticky%22%3A%20true%7D%0A%20%20%20%20%20%20%20%20%20%20%20%20%29%3B%0A%20%20%20%20%20%20%20%20%0A%20%20%20%20%0A%20%20%20%20%20%20%20%20%20%20%20%20var%20marker_eda46922ea104a2c87e3a58ff0319493%20%3D%20L.marker%28%0A%20%20%20%20%20%20%20%20%20%20%20%20%20%20%20%20%5B37.558805%2C%20126.813297%5D%2C%0A%20%20%20%20%20%20%20%20%20%20%20%20%20%20%20%20%7B%7D%0A%20%20%20%20%20%20%20%20%20%20%20%20%29.addTo%28map_ce914806198a4d0da0db8551333f2211%29%3B%0A%20%20%20%20%20%20%20%20%0A%20%20%20%20%0A%20%20%20%20%20%20%20%20%20%20%20%20marker_eda46922ea104a2c87e3a58ff0319493.bindTooltip%28%0A%20%20%20%20%20%20%20%20%20%20%20%20%20%20%20%20%60%3Cdiv%3E%0A%20%20%20%20%20%20%20%20%20%20%20%20%20%20%20%20%20%20%20%20%2041748%0A%20%20%20%20%20%20%20%20%20%20%20%20%20%20%20%20%20%3C/div%3E%60%2C%0A%20%20%20%20%20%20%20%20%20%20%20%20%20%20%20%20%7B%22sticky%22%3A%20true%7D%0A%20%20%20%20%20%20%20%20%20%20%20%20%29%3B%0A%20%20%20%20%20%20%20%20%0A%20%20%20%20%0A%20%20%20%20%20%20%20%20%20%20%20%20var%20marker_356875b85d324a439d2c6c7d2a5fcfbb%20%3D%20L.marker%28%0A%20%20%20%20%20%20%20%20%20%20%20%20%20%20%20%20%5B37.551325%2C%20126.858411%5D%2C%0A%20%20%20%20%20%20%20%20%20%20%20%20%20%20%20%20%7B%7D%0A%20%20%20%20%20%20%20%20%20%20%20%20%29.addTo%28map_ce914806198a4d0da0db8551333f2211%29%3B%0A%20%20%20%20%20%20%20%20%0A%20%20%20%20%0A%20%20%20%20%20%20%20%20%20%20%20%20marker_356875b85d324a439d2c6c7d2a5fcfbb.bindTooltip%28%0A%20%20%20%20%20%20%20%20%20%20%20%20%20%20%20%20%60%3Cdiv%3E%0A%20%20%20%20%20%20%20%20%20%20%20%20%20%20%20%20%20%20%20%20%2011053%0A%20%20%20%20%20%20%20%20%20%20%20%20%20%20%20%20%20%3C/div%3E%60%2C%0A%20%20%20%20%20%20%20%20%20%20%20%20%20%20%20%20%7B%22sticky%22%3A%20true%7D%0A%20%20%20%20%20%20%20%20%20%20%20%20%29%3B%0A%20%20%20%20%20%20%20%20%0A%20%20%20%20%0A%20%20%20%20%20%20%20%20%20%20%20%20var%20marker_c484d5a8e6ce45ea87a511d43affaa0c%20%3D%20L.marker%28%0A%20%20%20%20%20%20%20%20%20%20%20%20%20%20%20%20%5B37.550968%2C%20126.849614%5D%2C%0A%20%20%20%20%20%20%20%20%20%20%20%20%20%20%20%20%7B%7D%0A%20%20%20%20%20%20%20%20%20%20%20%20%29.addTo%28map_ce914806198a4d0da0db8551333f2211%29%3B%0A%20%20%20%20%20%20%20%20%0A%20%20%20%20%0A%20%20%20%20%20%20%20%20%20%20%20%20marker_c484d5a8e6ce45ea87a511d43affaa0c.bindTooltip%28%0A%20%20%20%20%20%20%20%20%20%20%20%20%20%20%20%20%60%3Cdiv%3E%0A%20%20%20%20%20%20%20%20%20%20%20%20%20%20%20%20%20%20%20%20%2020476%0A%20%20%20%20%20%20%20%20%20%20%20%20%20%20%20%20%20%3C/div%3E%60%2C%0A%20%20%20%20%20%20%20%20%20%20%20%20%20%20%20%20%7B%22sticky%22%3A%20true%7D%0A%20%20%20%20%20%20%20%20%20%20%20%20%29%3B%0A%20%20%20%20%20%20%20%20%0A%20%20%20%20%0A%20%20%20%20%20%20%20%20%20%20%20%20var%20marker_551dfecaa28e4092ade60beb61c84171%20%3D%20L.marker%28%0A%20%20%20%20%20%20%20%20%20%20%20%20%20%20%20%20%5B37.569138%2C%20126.812192%5D%2C%0A%20%20%20%20%20%20%20%20%20%20%20%20%20%20%20%20%7B%7D%0A%20%20%20%20%20%20%20%20%20%20%20%20%29.addTo%28map_ce914806198a4d0da0db8551333f2211%29%3B%0A%20%20%20%20%20%20%20%20%0A%20%20%20%20%0A%20%20%20%20%20%20%20%20%20%20%20%20marker_551dfecaa28e4092ade60beb61c84171.bindTooltip%28%0A%20%20%20%20%20%20%20%20%20%20%20%20%20%20%20%20%60%3Cdiv%3E%0A%20%20%20%20%20%20%20%20%20%20%20%20%20%20%20%20%20%20%20%20%2016696%0A%20%20%20%20%20%20%20%20%20%20%20%20%20%20%20%20%20%3C/div%3E%60%2C%0A%20%20%20%20%20%20%20%20%20%20%20%20%20%20%20%20%7B%22sticky%22%3A%20true%7D%0A%20%20%20%20%20%20%20%20%20%20%20%20%29%3B%0A%20%20%20%20%20%20%20%20%0A%20%20%20%20%0A%20%20%20%20%20%20%20%20%20%20%20%20var%20marker_abc1b6d1deec4e079381d62a1a9b6ea3%20%3D%20L.marker%28%0A%20%20%20%20%20%20%20%20%20%20%20%20%20%20%20%20%5B37.551366%2C%20126.8713%5D%2C%0A%20%20%20%20%20%20%20%20%20%20%20%20%20%20%20%20%7B%7D%0A%20%20%20%20%20%20%20%20%20%20%20%20%29.addTo%28map_ce914806198a4d0da0db8551333f2211%29%3B%0A%20%20%20%20%20%20%20%20%0A%20%20%20%20%0A%20%20%20%20%20%20%20%20%20%20%20%20marker_abc1b6d1deec4e079381d62a1a9b6ea3.bindTooltip%28%0A%20%20%20%20%20%20%20%20%20%20%20%20%20%20%20%20%60%3Cdiv%3E%0A%20%20%20%20%20%20%20%20%20%20%20%20%20%20%20%20%20%20%20%20%207495%0A%20%20%20%20%20%20%20%20%20%20%20%20%20%20%20%20%20%3C/div%3E%60%2C%0A%20%20%20%20%20%20%20%20%20%20%20%20%20%20%20%20%7B%22sticky%22%3A%20true%7D%0A%20%20%20%20%20%20%20%20%20%20%20%20%29%3B%0A%20%20%20%20%20%20%20%20%0A%20%20%20%20%0A%20%20%20%20%20%20%20%20%20%20%20%20var%20marker_94bfbf6d8d294d088a80b808adb754d9%20%3D%20L.marker%28%0A%20%20%20%20%20%20%20%20%20%20%20%20%20%20%20%20%5B37.548198%2C%20126.841792%5D%2C%0A%20%20%20%20%20%20%20%20%20%20%20%20%20%20%20%20%7B%7D%0A%20%20%20%20%20%20%20%20%20%20%20%20%29.addTo%28map_ce914806198a4d0da0db8551333f2211%29%3B%0A%20%20%20%20%20%20%20%20%0A%20%20%20%20%0A%20%20%20%20%20%20%20%20%20%20%20%20marker_94bfbf6d8d294d088a80b808adb754d9.bindTooltip%28%0A%20%20%20%20%20%20%20%20%20%20%20%20%20%20%20%20%60%3Cdiv%3E%0A%20%20%20%20%20%20%20%20%20%20%20%20%20%20%20%20%20%20%20%20%203073%0A%20%20%20%20%20%20%20%20%20%20%20%20%20%20%20%20%20%3C/div%3E%60%2C%0A%20%20%20%20%20%20%20%20%20%20%20%20%20%20%20%20%7B%22sticky%22%3A%20true%7D%0A%20%20%20%20%20%20%20%20%20%20%20%20%29%3B%0A%20%20%20%20%20%20%20%20%0A%20%20%20%20%0A%20%20%20%20%20%20%20%20%20%20%20%20var%20marker_1c7fe39b5f084ee7a06594c2472d428e%20%3D%20L.marker%28%0A%20%20%20%20%20%20%20%20%20%20%20%20%20%20%20%20%5B37.538358%2C%20126.847336%5D%2C%0A%20%20%20%20%20%20%20%20%20%20%20%20%20%20%20%20%7B%7D%0A%20%20%20%20%20%20%20%20%20%20%20%20%29.addTo%28map_ce914806198a4d0da0db8551333f2211%29%3B%0A%20%20%20%20%20%20%20%20%0A%20%20%20%20%0A%20%20%20%20%20%20%20%20%20%20%20%20marker_1c7fe39b5f084ee7a06594c2472d428e.bindTooltip%28%0A%20%20%20%20%20%20%20%20%20%20%20%20%20%20%20%20%60%3Cdiv%3E%0A%20%20%20%20%20%20%20%20%20%20%20%20%20%20%20%20%20%20%20%20%2040150%0A%20%20%20%20%20%20%20%20%20%20%20%20%20%20%20%20%20%3C/div%3E%60%2C%0A%20%20%20%20%20%20%20%20%20%20%20%20%20%20%20%20%7B%22sticky%22%3A%20true%7D%0A%20%20%20%20%20%20%20%20%20%20%20%20%29%3B%0A%20%20%20%20%20%20%20%20%0A%20%20%20%20%0A%20%20%20%20%20%20%20%20%20%20%20%20var%20marker_98246eddd05b4fa496d3136652be20da%20%3D%20L.marker%28%0A%20%20%20%20%20%20%20%20%20%20%20%20%20%20%20%20%5B37.482704%2C%20126.888019%5D%2C%0A%20%20%20%20%20%20%20%20%20%20%20%20%20%20%20%20%7B%7D%0A%20%20%20%20%20%20%20%20%20%20%20%20%29.addTo%28map_ce914806198a4d0da0db8551333f2211%29%3B%0A%20%20%20%20%20%20%20%20%0A%20%20%20%20%0A%20%20%20%20%20%20%20%20%20%20%20%20marker_98246eddd05b4fa496d3136652be20da.bindTooltip%28%0A%20%20%20%20%20%20%20%20%20%20%20%20%20%20%20%20%60%3Cdiv%3E%0A%20%20%20%20%20%20%20%20%20%20%20%20%20%20%20%20%20%20%20%20%201931%0A%20%20%20%20%20%20%20%20%20%20%20%20%20%20%20%20%20%3C/div%3E%60%2C%0A%20%20%20%20%20%20%20%20%20%20%20%20%20%20%20%20%7B%22sticky%22%3A%20true%7D%0A%20%20%20%20%20%20%20%20%20%20%20%20%29%3B%0A%20%20%20%20%20%20%20%20%0A%20%20%20%20%0A%20%20%20%20%20%20%20%20%20%20%20%20var%20marker_acb02982457b4000ae7a336fca4e0844%20%3D%20L.marker%28%0A%20%20%20%20%20%20%20%20%20%20%20%20%20%20%20%20%5B37.49565%2C%20126.887771%5D%2C%0A%20%20%20%20%20%20%20%20%20%20%20%20%20%20%20%20%7B%7D%0A%20%20%20%20%20%20%20%20%20%20%20%20%29.addTo%28map_ce914806198a4d0da0db8551333f2211%29%3B%0A%20%20%20%20%20%20%20%20%0A%20%20%20%20%0A%20%20%20%20%20%20%20%20%20%20%20%20marker_acb02982457b4000ae7a336fca4e0844.bindTooltip%28%0A%20%20%20%20%20%20%20%20%20%20%20%20%20%20%20%20%60%3Cdiv%3E%0A%20%20%20%20%20%20%20%20%20%20%20%20%20%20%20%20%20%20%20%20%208743%0A%20%20%20%20%20%20%20%20%20%20%20%20%20%20%20%20%20%3C/div%3E%60%2C%0A%20%20%20%20%20%20%20%20%20%20%20%20%20%20%20%20%7B%22sticky%22%3A%20true%7D%0A%20%20%20%20%20%20%20%20%20%20%20%20%29%3B%0A%20%20%20%20%20%20%20%20%0A%20%20%20%20%0A%20%20%20%20%20%20%20%20%20%20%20%20var%20marker_e996f047aae7465c8da72661533df21c%20%3D%20L.marker%28%0A%20%20%20%20%20%20%20%20%20%20%20%20%20%20%20%20%5B37.49565%2C%20126.887771%5D%2C%0A%20%20%20%20%20%20%20%20%20%20%20%20%20%20%20%20%7B%7D%0A%20%20%20%20%20%20%20%20%20%20%20%20%29.addTo%28map_ce914806198a4d0da0db8551333f2211%29%3B%0A%20%20%20%20%20%20%20%20%0A%20%20%20%20%0A%20%20%20%20%20%20%20%20%20%20%20%20marker_e996f047aae7465c8da72661533df21c.bindTooltip%28%0A%20%20%20%20%20%20%20%20%20%20%20%20%20%20%20%20%60%3Cdiv%3E%0A%20%20%20%20%20%20%20%20%20%20%20%20%20%20%20%20%20%20%20%20%208987%0A%20%20%20%20%20%20%20%20%20%20%20%20%20%20%20%20%20%3C/div%3E%60%2C%0A%20%20%20%20%20%20%20%20%20%20%20%20%20%20%20%20%7B%22sticky%22%3A%20true%7D%0A%20%20%20%20%20%20%20%20%20%20%20%20%29%3B%0A%20%20%20%20%20%20%20%20%0A%20%20%20%20%0A%20%20%20%20%20%20%20%20%20%20%20%20var%20marker_3a6a852e1be54c7faee557d44c646393%20%3D%20L.marker%28%0A%20%20%20%20%20%20%20%20%20%20%20%20%20%20%20%20%5B37.49565%2C%20126.887771%5D%2C%0A%20%20%20%20%20%20%20%20%20%20%20%20%20%20%20%20%7B%7D%0A%20%20%20%20%20%20%20%20%20%20%20%20%29.addTo%28map_ce914806198a4d0da0db8551333f2211%29%3B%0A%20%20%20%20%20%20%20%20%0A%20%20%20%20%0A%20%20%20%20%20%20%20%20%20%20%20%20marker_3a6a852e1be54c7faee557d44c646393.bindTooltip%28%0A%20%20%20%20%20%20%20%20%20%20%20%20%20%20%20%20%60%3Cdiv%3E%0A%20%20%20%20%20%20%20%20%20%20%20%20%20%20%20%20%20%20%20%20%2039520%0A%20%20%20%20%20%20%20%20%20%20%20%20%20%20%20%20%20%3C/div%3E%60%2C%0A%20%20%20%20%20%20%20%20%20%20%20%20%20%20%20%20%7B%22sticky%22%3A%20true%7D%0A%20%20%20%20%20%20%20%20%20%20%20%20%29%3B%0A%20%20%20%20%20%20%20%20%0A%20%20%20%20%0A%20%20%20%20%20%20%20%20%20%20%20%20var%20marker_db9b55fc03914aaf92d4ce76c0786d70%20%3D%20L.marker%28%0A%20%20%20%20%20%20%20%20%20%20%20%20%20%20%20%20%5B37.509951%2C%20126.882174%5D%2C%0A%20%20%20%20%20%20%20%20%20%20%20%20%20%20%20%20%7B%7D%0A%20%20%20%20%20%20%20%20%20%20%20%20%29.addTo%28map_ce914806198a4d0da0db8551333f2211%29%3B%0A%20%20%20%20%20%20%20%20%0A%20%20%20%20%0A%20%20%20%20%20%20%20%20%20%20%20%20marker_db9b55fc03914aaf92d4ce76c0786d70.bindTooltip%28%0A%20%20%20%20%20%20%20%20%20%20%20%20%20%20%20%20%60%3Cdiv%3E%0A%20%20%20%20%20%20%20%20%20%20%20%20%20%20%20%20%20%20%20%20%204636%0A%20%20%20%20%20%20%20%20%20%20%20%20%20%20%20%20%20%3C/div%3E%60%2C%0A%20%20%20%20%20%20%20%20%20%20%20%20%20%20%20%20%7B%22sticky%22%3A%20true%7D%0A%20%20%20%20%20%20%20%20%20%20%20%20%29%3B%0A%20%20%20%20%20%20%20%20%0A%20%20%20%20%0A%20%20%20%20%20%20%20%20%20%20%20%20var%20marker_54f69c95714748ddbbd1a06782036b99%20%3D%20L.marker%28%0A%20%20%20%20%20%20%20%20%20%20%20%20%20%20%20%20%5B37.49565%2C%20126.887771%5D%2C%0A%20%20%20%20%20%20%20%20%20%20%20%20%20%20%20%20%7B%7D%0A%20%20%20%20%20%20%20%20%20%20%20%20%29.addTo%28map_ce914806198a4d0da0db8551333f2211%29%3B%0A%20%20%20%20%20%20%20%20%0A%20%20%20%20%0A%20%20%20%20%20%20%20%20%20%20%20%20marker_54f69c95714748ddbbd1a06782036b99.bindTooltip%28%0A%20%20%20%20%20%20%20%20%20%20%20%20%20%20%20%20%60%3Cdiv%3E%0A%20%20%20%20%20%20%20%20%20%20%20%20%20%20%20%20%20%20%20%20%202883%0A%20%20%20%20%20%20%20%20%20%20%20%20%20%20%20%20%20%3C/div%3E%60%2C%0A%20%20%20%20%20%20%20%20%20%20%20%20%20%20%20%20%7B%22sticky%22%3A%20true%7D%0A%20%20%20%20%20%20%20%20%20%20%20%20%29%3B%0A%20%20%20%20%20%20%20%20%0A%20%20%20%20%0A%20%20%20%20%20%20%20%20%20%20%20%20var%20marker_29d28aaa01734cae95d13dda6e8e8553%20%3D%20L.marker%28%0A%20%20%20%20%20%20%20%20%20%20%20%20%20%20%20%20%5B37.48113884%2C%20126.8248554%5D%2C%0A%20%20%20%20%20%20%20%20%20%20%20%20%20%20%20%20%7B%7D%0A%20%20%20%20%20%20%20%20%20%20%20%20%29.addTo%28map_ce914806198a4d0da0db8551333f2211%29%3B%0A%20%20%20%20%20%20%20%20%0A%20%20%20%20%0A%20%20%20%20%20%20%20%20%20%20%20%20marker_29d28aaa01734cae95d13dda6e8e8553.bindTooltip%28%0A%20%20%20%20%20%20%20%20%20%20%20%20%20%20%20%20%60%3Cdiv%3E%0A%20%20%20%20%20%20%20%20%20%20%20%20%20%20%20%20%20%20%20%20%201221%0A%20%20%20%20%20%20%20%20%20%20%20%20%20%20%20%20%20%3C/div%3E%60%2C%0A%20%20%20%20%20%20%20%20%20%20%20%20%20%20%20%20%7B%22sticky%22%3A%20true%7D%0A%20%20%20%20%20%20%20%20%20%20%20%20%29%3B%0A%20%20%20%20%20%20%20%20%0A%20%20%20%20%0A%20%20%20%20%20%20%20%20%20%20%20%20var%20marker_c2d7cc05d19a4f229090c7355861fd42%20%3D%20L.marker%28%0A%20%20%20%20%20%20%20%20%20%20%20%20%20%20%20%20%5B37.493837%2C%20126.831527%5D%2C%0A%20%20%20%20%20%20%20%20%20%20%20%20%20%20%20%20%7B%7D%0A%20%20%20%20%20%20%20%20%20%20%20%20%29.addTo%28map_ce914806198a4d0da0db8551333f2211%29%3B%0A%20%20%20%20%20%20%20%20%0A%20%20%20%20%0A%20%20%20%20%20%20%20%20%20%20%20%20marker_c2d7cc05d19a4f229090c7355861fd42.bindTooltip%28%0A%20%20%20%20%20%20%20%20%20%20%20%20%20%20%20%20%60%3Cdiv%3E%0A%20%20%20%20%20%20%20%20%20%20%20%20%20%20%20%20%20%20%20%20%201637%0A%20%20%20%20%20%20%20%20%20%20%20%20%20%20%20%20%20%3C/div%3E%60%2C%0A%20%20%20%20%20%20%20%20%20%20%20%20%20%20%20%20%7B%22sticky%22%3A%20true%7D%0A%20%20%20%20%20%20%20%20%20%20%20%20%29%3B%0A%20%20%20%20%20%20%20%20%0A%20%20%20%20%0A%20%20%20%20%20%20%20%20%20%20%20%20var%20marker_ff356753084a4aa8aca98be6635c7b37%20%3D%20L.marker%28%0A%20%20%20%20%20%20%20%20%20%20%20%20%20%20%20%20%5B37.4920865%2C%20127.0198275%5D%2C%0A%20%20%20%20%20%20%20%20%20%20%20%20%20%20%20%20%7B%7D%0A%20%20%20%20%20%20%20%20%20%20%20%20%29.addTo%28map_ce914806198a4d0da0db8551333f2211%29%3B%0A%20%20%20%20%20%20%20%20%0A%20%20%20%20%0A%20%20%20%20%20%20%20%20%20%20%20%20marker_ff356753084a4aa8aca98be6635c7b37.bindTooltip%28%0A%20%20%20%20%20%20%20%20%20%20%20%20%20%20%20%20%60%3Cdiv%3E%0A%20%20%20%20%20%20%20%20%20%20%20%20%20%20%20%20%20%20%20%20%2064535%0A%20%20%20%20%20%20%20%20%20%20%20%20%20%20%20%20%20%3C/div%3E%60%2C%0A%20%20%20%20%20%20%20%20%20%20%20%20%20%20%20%20%7B%22sticky%22%3A%20true%7D%0A%20%20%20%20%20%20%20%20%20%20%20%20%29%3B%0A%20%20%20%20%20%20%20%20%0A%20%20%20%20%0A%20%20%20%20%20%20%20%20%20%20%20%20var%20marker_f4acbb7b290248c6ab7e3d717d8c65cf%20%3D%20L.marker%28%0A%20%20%20%20%20%20%20%20%20%20%20%20%20%20%20%20%5B37.513667%2C%20127.016166%5D%2C%0A%20%20%20%20%20%20%20%20%20%20%20%20%20%20%20%20%7B%7D%0A%20%20%20%20%20%20%20%20%20%20%20%20%29.addTo%28map_ce914806198a4d0da0db8551333f2211%29%3B%0A%20%20%20%20%20%20%20%20%0A%20%20%20%20%0A%20%20%20%20%20%20%20%20%20%20%20%20marker_f4acbb7b290248c6ab7e3d717d8c65cf.bindTooltip%28%0A%20%20%20%20%20%20%20%20%20%20%20%20%20%20%20%20%60%3Cdiv%3E%0A%20%20%20%20%20%20%20%20%20%20%20%20%20%20%20%20%20%20%20%20%2010385%0A%20%20%20%20%20%20%20%20%20%20%20%20%20%20%20%20%20%3C/div%3E%60%2C%0A%20%20%20%20%20%20%20%20%20%20%20%20%20%20%20%20%7B%22sticky%22%3A%20true%7D%0A%20%20%20%20%20%20%20%20%20%20%20%20%29%3B%0A%20%20%20%20%20%20%20%20%0A%20%20%20%20%0A%20%20%20%20%20%20%20%20%20%20%20%20var%20marker_31bf6d00fb63485681c607115acdd028%20%3D%20L.marker%28%0A%20%20%20%20%20%20%20%20%20%20%20%20%20%20%20%20%5B37.50049%2C%20126.986012%5D%2C%0A%20%20%20%20%20%20%20%20%20%20%20%20%20%20%20%20%7B%7D%0A%20%20%20%20%20%20%20%20%20%20%20%20%29.addTo%28map_ce914806198a4d0da0db8551333f2211%29%3B%0A%20%20%20%20%20%20%20%20%0A%20%20%20%20%0A%20%20%20%20%20%20%20%20%20%20%20%20marker_31bf6d00fb63485681c607115acdd028.bindTooltip%28%0A%20%20%20%20%20%20%20%20%20%20%20%20%20%20%20%20%60%3Cdiv%3E%0A%20%20%20%20%20%20%20%20%20%20%20%20%20%20%20%20%20%20%20%20%2018740%0A%20%20%20%20%20%20%20%20%20%20%20%20%20%20%20%20%20%3C/div%3E%60%2C%0A%20%20%20%20%20%20%20%20%20%20%20%20%20%20%20%20%7B%22sticky%22%3A%20true%7D%0A%20%20%20%20%20%20%20%20%20%20%20%20%29%3B%0A%20%20%20%20%20%20%20%20%0A%20%20%20%20%0A%20%20%20%20%20%20%20%20%20%20%20%20var%20marker_55d37a54ec164876a6e12c1c993079f0%20%3D%20L.marker%28%0A%20%20%20%20%20%20%20%20%20%20%20%20%20%20%20%20%5B37.494151%2C%20126.988688%5D%2C%0A%20%20%20%20%20%20%20%20%20%20%20%20%20%20%20%20%7B%7D%0A%20%20%20%20%20%20%20%20%20%20%20%20%29.addTo%28map_ce914806198a4d0da0db8551333f2211%29%3B%0A%20%20%20%20%20%20%20%20%0A%20%20%20%20%0A%20%20%20%20%20%20%20%20%20%20%20%20marker_55d37a54ec164876a6e12c1c993079f0.bindTooltip%28%0A%20%20%20%20%20%20%20%20%20%20%20%20%20%20%20%20%60%3Cdiv%3E%0A%20%20%20%20%20%20%20%20%20%20%20%20%20%20%20%20%20%20%20%20%2026012%0A%20%20%20%20%20%20%20%20%20%20%20%20%20%20%20%20%20%3C/div%3E%60%2C%0A%20%20%20%20%20%20%20%20%20%20%20%20%20%20%20%20%7B%22sticky%22%3A%20true%7D%0A%20%20%20%20%20%20%20%20%20%20%20%20%29%3B%0A%20%20%20%20%20%20%20%20%0A%20%20%20%20%0A%20%20%20%20%20%20%20%20%20%20%20%20var%20marker_062297c6f8a949b6a2b495cb695e8d21%20%3D%20L.marker%28%0A%20%20%20%20%20%20%20%20%20%20%20%20%20%20%20%20%5B37.474839%2C%20127.041717%5D%2C%0A%20%20%20%20%20%20%20%20%20%20%20%20%20%20%20%20%7B%7D%0A%20%20%20%20%20%20%20%20%20%20%20%20%29.addTo%28map_ce914806198a4d0da0db8551333f2211%29%3B%0A%20%20%20%20%20%20%20%20%0A%20%20%20%20%0A%20%20%20%20%20%20%20%20%20%20%20%20marker_062297c6f8a949b6a2b495cb695e8d21.bindTooltip%28%0A%20%20%20%20%20%20%20%20%20%20%20%20%20%20%20%20%60%3Cdiv%3E%0A%20%20%20%20%20%20%20%20%20%20%20%20%20%20%20%20%20%20%20%20%2022664%0A%20%20%20%20%20%20%20%20%20%20%20%20%20%20%20%20%20%3C/div%3E%60%2C%0A%20%20%20%20%20%20%20%20%20%20%20%20%20%20%20%20%7B%22sticky%22%3A%20true%7D%0A%20%20%20%20%20%20%20%20%20%20%20%20%29%3B%0A%20%20%20%20%20%20%20%20%0A%20%20%20%20%0A%20%20%20%20%20%20%20%20%20%20%20%20var%20marker_7207201b60064a54ae5062725a318a23%20%3D%20L.marker%28%0A%20%20%20%20%20%20%20%20%20%20%20%20%20%20%20%20%5B37.466629%2C%20127.021892%5D%2C%0A%20%20%20%20%20%20%20%20%20%20%20%20%20%20%20%20%7B%7D%0A%20%20%20%20%20%20%20%20%20%20%20%20%29.addTo%28map_ce914806198a4d0da0db8551333f2211%29%3B%0A%20%20%20%20%20%20%20%20%0A%20%20%20%20%0A%20%20%20%20%20%20%20%20%20%20%20%20marker_7207201b60064a54ae5062725a318a23.bindTooltip%28%0A%20%20%20%20%20%20%20%20%20%20%20%20%20%20%20%20%60%3Cdiv%3E%0A%20%20%20%20%20%20%20%20%20%20%20%20%20%20%20%20%20%20%20%20%202964%0A%20%20%20%20%20%20%20%20%20%20%20%20%20%20%20%20%20%3C/div%3E%60%2C%0A%20%20%20%20%20%20%20%20%20%20%20%20%20%20%20%20%7B%22sticky%22%3A%20true%7D%0A%20%20%20%20%20%20%20%20%20%20%20%20%29%3B%0A%20%20%20%20%20%20%20%20%0A%20%20%20%20%0A%20%20%20%20%20%20%20%20%20%20%20%20var%20marker_b62886d7bb2b460cae0f518c2d90dde7%20%3D%20L.marker%28%0A%20%20%20%20%20%20%20%20%20%20%20%20%20%20%20%20%5B37.446848%2C%20127.053774%5D%2C%0A%20%20%20%20%20%20%20%20%20%20%20%20%20%20%20%20%7B%7D%0A%20%20%20%20%20%20%20%20%20%20%20%20%29.addTo%28map_ce914806198a4d0da0db8551333f2211%29%3B%0A%20%20%20%20%20%20%20%20%0A%20%20%20%20%0A%20%20%20%20%20%20%20%20%20%20%20%20marker_b62886d7bb2b460cae0f518c2d90dde7.bindTooltip%28%0A%20%20%20%20%20%20%20%20%20%20%20%20%20%20%20%20%60%3Cdiv%3E%0A%20%20%20%20%20%20%20%20%20%20%20%20%20%20%20%20%20%20%20%20%20689%0A%20%20%20%20%20%20%20%20%20%20%20%20%20%20%20%20%20%3C/div%3E%60%2C%0A%20%20%20%20%20%20%20%20%20%20%20%20%20%20%20%20%7B%22sticky%22%3A%20true%7D%0A%20%20%20%20%20%20%20%20%20%20%20%20%29%3B%0A%20%20%20%20%20%20%20%20%0A%20%20%20%20%0A%20%20%20%20%20%20%20%20%20%20%20%20var%20marker_7e123d429caa45a488e18f6535b36b5f%20%3D%20L.marker%28%0A%20%20%20%20%20%20%20%20%20%20%20%20%20%20%20%20%5B37.456881%2C%20127.074171%5D%2C%0A%20%20%20%20%20%20%20%20%20%20%20%20%20%20%20%20%7B%7D%0A%20%20%20%20%20%20%20%20%20%20%20%20%29.addTo%28map_ce914806198a4d0da0db8551333f2211%29%3B%0A%20%20%20%20%20%20%20%20%0A%20%20%20%20%0A%20%20%20%20%20%20%20%20%20%20%20%20marker_7e123d429caa45a488e18f6535b36b5f.bindTooltip%28%0A%20%20%20%20%20%20%20%20%20%20%20%20%20%20%20%20%60%3Cdiv%3E%0A%20%20%20%20%20%20%20%20%20%20%20%20%20%20%20%20%20%20%20%20%202504%0A%20%20%20%20%20%20%20%20%20%20%20%20%20%20%20%20%20%3C/div%3E%60%2C%0A%20%20%20%20%20%20%20%20%20%20%20%20%20%20%20%20%7B%22sticky%22%3A%20true%7D%0A%20%20%20%20%20%20%20%20%20%20%20%20%29%3B%0A%20%20%20%20%20%20%20%20%0A%20%20%20%20%0A%20%20%20%20%20%20%20%20%20%20%20%20var%20marker_cdcfc6958b374c29a8db931aefb965b2%20%3D%20L.marker%28%0A%20%20%20%20%20%20%20%20%20%20%20%20%20%20%20%20%5B37.462035%2C%20127.052837%5D%2C%0A%20%20%20%20%20%20%20%20%20%20%20%20%20%20%20%20%7B%7D%0A%20%20%20%20%20%20%20%20%20%20%20%20%29.addTo%28map_ce914806198a4d0da0db8551333f2211%29%3B%0A%20%20%20%20%20%20%20%20%0A%20%20%20%20%0A%20%20%20%20%20%20%20%20%20%20%20%20marker_cdcfc6958b374c29a8db931aefb965b2.bindTooltip%28%0A%20%20%20%20%20%20%20%20%20%20%20%20%20%20%20%20%60%3Cdiv%3E%0A%20%20%20%20%20%20%20%20%20%20%20%20%20%20%20%20%20%20%20%20%20586%0A%20%20%20%20%20%20%20%20%20%20%20%20%20%20%20%20%20%3C/div%3E%60%2C%0A%20%20%20%20%20%20%20%20%20%20%20%20%20%20%20%20%7B%22sticky%22%3A%20true%7D%0A%20%20%20%20%20%20%20%20%20%20%20%20%29%3B%0A%20%20%20%20%20%20%20%20%0A%20%20%20%20%0A%20%20%20%20%20%20%20%20%20%20%20%20var%20marker_916785da2b6a402594ffa2c79f87ac20%20%3D%20L.marker%28%0A%20%20%20%20%20%20%20%20%20%20%20%20%20%20%20%20%5B37.447112%2C%20127.058841%5D%2C%0A%20%20%20%20%20%20%20%20%20%20%20%20%20%20%20%20%7B%7D%0A%20%20%20%20%20%20%20%20%20%20%20%20%29.addTo%28map_ce914806198a4d0da0db8551333f2211%29%3B%0A%20%20%20%20%20%20%20%20%0A%20%20%20%20%0A%20%20%20%20%20%20%20%20%20%20%20%20marker_916785da2b6a402594ffa2c79f87ac20.bindTooltip%28%0A%20%20%20%20%20%20%20%20%20%20%20%20%20%20%20%20%60%3Cdiv%3E%0A%20%20%20%20%20%20%20%20%20%20%20%20%20%20%20%20%20%20%20%20%204218%0A%20%20%20%20%20%20%20%20%20%20%20%20%20%20%20%20%20%3C/div%3E%60%2C%0A%20%20%20%20%20%20%20%20%20%20%20%20%20%20%20%20%7B%22sticky%22%3A%20true%7D%0A%20%20%20%20%20%20%20%20%20%20%20%20%29%3B%0A%20%20%20%20%20%20%20%20%0A%20%20%20%20%0A%20%20%20%20%20%20%20%20%20%20%20%20var%20marker_901fa115b29549c89253f62fd71598f4%20%3D%20L.marker%28%0A%20%20%20%20%20%20%20%20%20%20%20%20%20%20%20%20%5B37.539776%2C%20126.869079%5D%2C%0A%20%20%20%20%20%20%20%20%20%20%20%20%20%20%20%20%7B%7D%0A%20%20%20%20%20%20%20%20%20%20%20%20%29.addTo%28map_ce914806198a4d0da0db8551333f2211%29%3B%0A%20%20%20%20%20%20%20%20%0A%20%20%20%20%0A%20%20%20%20%20%20%20%20%20%20%20%20marker_901fa115b29549c89253f62fd71598f4.bindTooltip%28%0A%20%20%20%20%20%20%20%20%20%20%20%20%20%20%20%20%60%3Cdiv%3E%0A%20%20%20%20%20%20%20%20%20%20%20%20%20%20%20%20%20%20%20%20%2030576%0A%20%20%20%20%20%20%20%20%20%20%20%20%20%20%20%20%20%3C/div%3E%60%2C%0A%20%20%20%20%20%20%20%20%20%20%20%20%20%20%20%20%7B%22sticky%22%3A%20true%7D%0A%20%20%20%20%20%20%20%20%20%20%20%20%29%3B%0A%20%20%20%20%20%20%20%20%0A%20%20%20%20%0A%20%20%20%20%20%20%20%20%20%20%20%20var%20marker_d66a59bd00a74399b2818909b4e6a6ee%20%3D%20L.marker%28%0A%20%20%20%20%20%20%20%20%20%20%20%20%20%20%20%20%5B37.529444%2C%20126.834248%5D%2C%0A%20%20%20%20%20%20%20%20%20%20%20%20%20%20%20%20%7B%7D%0A%20%20%20%20%20%20%20%20%20%20%20%20%29.addTo%28map_ce914806198a4d0da0db8551333f2211%29%3B%0A%20%20%20%20%20%20%20%20%0A%20%20%20%20%0A%20%20%20%20%20%20%20%20%20%20%20%20marker_d66a59bd00a74399b2818909b4e6a6ee.bindTooltip%28%0A%20%20%20%20%20%20%20%20%20%20%20%20%20%20%20%20%60%3Cdiv%3E%0A%20%20%20%20%20%20%20%20%20%20%20%20%20%20%20%20%20%20%20%20%2022317%0A%20%20%20%20%20%20%20%20%20%20%20%20%20%20%20%20%20%3C/div%3E%60%2C%0A%20%20%20%20%20%20%20%20%20%20%20%20%20%20%20%20%7B%22sticky%22%3A%20true%7D%0A%20%20%20%20%20%20%20%20%20%20%20%20%29%3B%0A%20%20%20%20%20%20%20%20%0A%20%20%20%20%0A%20%20%20%20%20%20%20%20%20%20%20%20var%20marker_6e22a5fde86f4d5998b0f13c4d0e57cc%20%3D%20L.marker%28%0A%20%20%20%20%20%20%20%20%20%20%20%20%20%20%20%20%5B37.521636%2C%20126.857957%5D%2C%0A%20%20%20%20%20%20%20%20%20%20%20%20%20%20%20%20%7B%7D%0A%20%20%20%20%20%20%20%20%20%20%20%20%29.addTo%28map_ce914806198a4d0da0db8551333f2211%29%3B%0A%20%20%20%20%20%20%20%20%0A%20%20%20%20%0A%20%20%20%20%20%20%20%20%20%20%20%20marker_6e22a5fde86f4d5998b0f13c4d0e57cc.bindTooltip%28%0A%20%20%20%20%20%20%20%20%20%20%20%20%20%20%20%20%60%3Cdiv%3E%0A%20%20%20%20%20%20%20%20%20%20%20%20%20%20%20%20%20%20%20%20%2036422%0A%20%20%20%20%20%20%20%20%20%20%20%20%20%20%20%20%20%3C/div%3E%60%2C%0A%20%20%20%20%20%20%20%20%20%20%20%20%20%20%20%20%7B%22sticky%22%3A%20true%7D%0A%20%20%20%20%20%20%20%20%20%20%20%20%29%3B%0A%20%20%20%20%20%20%20%20%0A%20%20%20%20%0A%20%20%20%20%20%20%20%20%20%20%20%20var%20marker_7dd8629d26cf409395ab22d0fa217291%20%3D%20L.marker%28%0A%20%20%20%20%20%20%20%20%20%20%20%20%20%20%20%20%5B37.528625%2C%20126.907439%5D%2C%0A%20%20%20%20%20%20%20%20%20%20%20%20%20%20%20%20%7B%7D%0A%20%20%20%20%20%20%20%20%20%20%20%20%29.addTo%28map_ce914806198a4d0da0db8551333f2211%29%3B%0A%20%20%20%20%20%20%20%20%0A%20%20%20%20%0A%20%20%20%20%20%20%20%20%20%20%20%20marker_7dd8629d26cf409395ab22d0fa217291.bindTooltip%28%0A%20%20%20%20%20%20%20%20%20%20%20%20%20%20%20%20%60%3Cdiv%3E%0A%20%20%20%20%20%20%20%20%20%20%20%20%20%20%20%20%20%20%20%20%2014245%0A%20%20%20%20%20%20%20%20%20%20%20%20%20%20%20%20%20%3C/div%3E%60%2C%0A%20%20%20%20%20%20%20%20%20%20%20%20%20%20%20%20%7B%22sticky%22%3A%20true%7D%0A%20%20%20%20%20%20%20%20%20%20%20%20%29%3B%0A%20%20%20%20%20%20%20%20%0A%20%20%20%20%0A%20%20%20%20%20%20%20%20%20%20%20%20var%20marker_c79aec8ef0464c4b8c0fda12f0329c69%20%3D%20L.marker%28%0A%20%20%20%20%20%20%20%20%20%20%20%20%20%20%20%20%5B37.494306%2C%20126.900642%5D%2C%0A%20%20%20%20%20%20%20%20%20%20%20%20%20%20%20%20%7B%7D%0A%20%20%20%20%20%20%20%20%20%20%20%20%29.addTo%28map_ce914806198a4d0da0db8551333f2211%29%3B%0A%20%20%20%20%20%20%20%20%0A%20%20%20%20%0A%20%20%20%20%20%20%20%20%20%20%20%20marker_c79aec8ef0464c4b8c0fda12f0329c69.bindTooltip%28%0A%20%20%20%20%20%20%20%20%20%20%20%20%20%20%20%20%60%3Cdiv%3E%0A%20%20%20%20%20%20%20%20%20%20%20%20%20%20%20%20%20%20%20%20%2021996%0A%20%20%20%20%20%20%20%20%20%20%20%20%20%20%20%20%20%3C/div%3E%60%2C%0A%20%20%20%20%20%20%20%20%20%20%20%20%20%20%20%20%7B%22sticky%22%3A%20true%7D%0A%20%20%20%20%20%20%20%20%20%20%20%20%29%3B%0A%20%20%20%20%20%20%20%20%0A%20%20%20%20%0A%20%20%20%20%20%20%20%20%20%20%20%20var%20marker_d221b988ad544d01bb5d71af8f890e58%20%3D%20L.marker%28%0A%20%20%20%20%20%20%20%20%20%20%20%20%20%20%20%20%5B37.509277%2C%20126.902494%5D%2C%0A%20%20%20%20%20%20%20%20%20%20%20%20%20%20%20%20%7B%7D%0A%20%20%20%20%20%20%20%20%20%20%20%20%29.addTo%28map_ce914806198a4d0da0db8551333f2211%29%3B%0A%20%20%20%20%20%20%20%20%0A%20%20%20%20%0A%20%20%20%20%20%20%20%20%20%20%20%20marker_d221b988ad544d01bb5d71af8f890e58.bindTooltip%28%0A%20%20%20%20%20%20%20%20%20%20%20%20%20%20%20%20%60%3Cdiv%3E%0A%20%20%20%20%20%20%20%20%20%20%20%20%20%20%20%20%20%20%20%20%202977%0A%20%20%20%20%20%20%20%20%20%20%20%20%20%20%20%20%20%3C/div%3E%60%2C%0A%20%20%20%20%20%20%20%20%20%20%20%20%20%20%20%20%7B%22sticky%22%3A%20true%7D%0A%20%20%20%20%20%20%20%20%20%20%20%20%29%3B%0A%20%20%20%20%20%20%20%20%0A%20%20%20%20%0A%20%20%20%20%20%20%20%20%20%20%20%20var%20marker_4cb159c7a08b4e6ab0eb3c68a3ebf5a1%20%3D%20L.marker%28%0A%20%20%20%20%20%20%20%20%20%20%20%20%20%20%20%20%5B37.517141%2C%20126.899454%5D%2C%0A%20%20%20%20%20%20%20%20%20%20%20%20%20%20%20%20%7B%7D%0A%20%20%20%20%20%20%20%20%20%20%20%20%29.addTo%28map_ce914806198a4d0da0db8551333f2211%29%3B%0A%20%20%20%20%20%20%20%20%0A%20%20%20%20%0A%20%20%20%20%20%20%20%20%20%20%20%20marker_4cb159c7a08b4e6ab0eb3c68a3ebf5a1.bindTooltip%28%0A%20%20%20%20%20%20%20%20%20%20%20%20%20%20%20%20%60%3Cdiv%3E%0A%20%20%20%20%20%20%20%20%20%20%20%20%20%20%20%20%20%20%20%20%2012416%0A%20%20%20%20%20%20%20%20%20%20%20%20%20%20%20%20%20%3C/div%3E%60%2C%0A%20%20%20%20%20%20%20%20%20%20%20%20%20%20%20%20%7B%22sticky%22%3A%20true%7D%0A%20%20%20%20%20%20%20%20%20%20%20%20%29%3B%0A%20%20%20%20%20%20%20%20%0A%20%20%20%20%0A%20%20%20%20%20%20%20%20%20%20%20%20var%20marker_a90fa09af2cf4320aff45b7f67450e53%20%3D%20L.marker%28%0A%20%20%20%20%20%20%20%20%20%20%20%20%20%20%20%20%5B37.507088%2C%20126.913103%5D%2C%0A%20%20%20%20%20%20%20%20%20%20%20%20%20%20%20%20%7B%7D%0A%20%20%20%20%20%20%20%20%20%20%20%20%29.addTo%28map_ce914806198a4d0da0db8551333f2211%29%3B%0A%20%20%20%20%20%20%20%20%0A%20%20%20%20%0A%20%20%20%20%20%20%20%20%20%20%20%20marker_a90fa09af2cf4320aff45b7f67450e53.bindTooltip%28%0A%20%20%20%20%20%20%20%20%20%20%20%20%20%20%20%20%60%3Cdiv%3E%0A%20%20%20%20%20%20%20%20%20%20%20%20%20%20%20%20%20%20%20%20%2021523%0A%20%20%20%20%20%20%20%20%20%20%20%20%20%20%20%20%20%3C/div%3E%60%2C%0A%20%20%20%20%20%20%20%20%20%20%20%20%20%20%20%20%7B%22sticky%22%3A%20true%7D%0A%20%20%20%20%20%20%20%20%20%20%20%20%29%3B%0A%20%20%20%20%20%20%20%20%0A%20%20%20%20%0A%20%20%20%20%20%20%20%20%20%20%20%20var%20marker_979c9bf940c54b5f909214be4712bc44%20%3D%20L.marker%28%0A%20%20%20%20%20%20%20%20%20%20%20%20%20%20%20%20%5B37.522602%2C%20126.881344%5D%2C%0A%20%20%20%20%20%20%20%20%20%20%20%20%20%20%20%20%7B%7D%0A%20%20%20%20%20%20%20%20%20%20%20%20%29.addTo%28map_ce914806198a4d0da0db8551333f2211%29%3B%0A%20%20%20%20%20%20%20%20%0A%20%20%20%20%0A%20%20%20%20%20%20%20%20%20%20%20%20marker_979c9bf940c54b5f909214be4712bc44.bindTooltip%28%0A%20%20%20%20%20%20%20%20%20%20%20%20%20%20%20%20%60%3Cdiv%3E%0A%20%20%20%20%20%20%20%20%20%20%20%20%20%20%20%20%20%20%20%20%2014860%0A%20%20%20%20%20%20%20%20%20%20%20%20%20%20%20%20%20%3C/div%3E%60%2C%0A%20%20%20%20%20%20%20%20%20%20%20%20%20%20%20%20%7B%22sticky%22%3A%20true%7D%0A%20%20%20%20%20%20%20%20%20%20%20%20%29%3B%0A%20%20%20%20%20%20%20%20%0A%20%20%20%20%0A%20%20%20%20%20%20%20%20%20%20%20%20var%20marker_75607af499cf462ca1284267fdb9234a%20%3D%20L.marker%28%0A%20%20%20%20%20%20%20%20%20%20%20%20%20%20%20%20%5B37.545629%2C%20126.891554%5D%2C%0A%20%20%20%20%20%20%20%20%20%20%20%20%20%20%20%20%7B%7D%0A%20%20%20%20%20%20%20%20%20%20%20%20%29.addTo%28map_ce914806198a4d0da0db8551333f2211%29%3B%0A%20%20%20%20%20%20%20%20%0A%20%20%20%20%0A%20%20%20%20%20%20%20%20%20%20%20%20marker_75607af499cf462ca1284267fdb9234a.bindTooltip%28%0A%20%20%20%20%20%20%20%20%20%20%20%20%20%20%20%20%60%3Cdiv%3E%0A%20%20%20%20%20%20%20%20%20%20%20%20%20%20%20%20%20%20%20%20%20223%0A%20%20%20%20%20%20%20%20%20%20%20%20%20%20%20%20%20%3C/div%3E%60%2C%0A%20%20%20%20%20%20%20%20%20%20%20%20%20%20%20%20%7B%22sticky%22%3A%20true%7D%0A%20%20%20%20%20%20%20%20%20%20%20%20%29%3B%0A%20%20%20%20%20%20%20%20%0A%20%20%20%20%0A%20%20%20%20%20%20%20%20%20%20%20%20var%20marker_4b810202531145f29111faf7ba3e4073%20%3D%20L.marker%28%0A%20%20%20%20%20%20%20%20%20%20%20%20%20%20%20%20%5B37.524371%2C%20126.925958%5D%2C%0A%20%20%20%20%20%20%20%20%20%20%20%20%20%20%20%20%7B%7D%0A%20%20%20%20%20%20%20%20%20%20%20%20%29.addTo%28map_ce914806198a4d0da0db8551333f2211%29%3B%0A%20%20%20%20%20%20%20%20%0A%20%20%20%20%0A%20%20%20%20%20%20%20%20%20%20%20%20marker_4b810202531145f29111faf7ba3e4073.bindTooltip%28%0A%20%20%20%20%20%20%20%20%20%20%20%20%20%20%20%20%60%3Cdiv%3E%0A%20%20%20%20%20%20%20%20%20%20%20%20%20%20%20%20%20%20%20%20%2025757%0A%20%20%20%20%20%20%20%20%20%20%20%20%20%20%20%20%20%3C/div%3E%60%2C%0A%20%20%20%20%20%20%20%20%20%20%20%20%20%20%20%20%7B%22sticky%22%3A%20true%7D%0A%20%20%20%20%20%20%20%20%20%20%20%20%29%3B%0A%20%20%20%20%20%20%20%20%0A%20%20%20%20%0A%20%20%20%20%20%20%20%20%20%20%20%20var%20marker_970b5a74dc4841e1b9a15f369cf8878c%20%3D%20L.marker%28%0A%20%20%20%20%20%20%20%20%20%20%20%20%20%20%20%20%5B37.513448%2C%20126.907724%5D%2C%0A%20%20%20%20%20%20%20%20%20%20%20%20%20%20%20%20%7B%7D%0A%20%20%20%20%20%20%20%20%20%20%20%20%29.addTo%28map_ce914806198a4d0da0db8551333f2211%29%3B%0A%20%20%20%20%20%20%20%20%0A%20%20%20%20%0A%20%20%20%20%20%20%20%20%20%20%20%20marker_970b5a74dc4841e1b9a15f369cf8878c.bindTooltip%28%0A%20%20%20%20%20%20%20%20%20%20%20%20%20%20%20%20%60%3Cdiv%3E%0A%20%20%20%20%20%20%20%20%20%20%20%20%20%20%20%20%20%20%20%20%2017735%0A%20%20%20%20%20%20%20%20%20%20%20%20%20%20%20%20%20%3C/div%3E%60%2C%0A%20%20%20%20%20%20%20%20%20%20%20%20%20%20%20%20%7B%22sticky%22%3A%20true%7D%0A%20%20%20%20%20%20%20%20%20%20%20%20%29%3B%0A%20%20%20%20%20%20%20%20%0A%20%20%20%20%0A%20%20%20%20%20%20%20%20%20%20%20%20var%20marker_b25f3837842d44dbb0433b6c06183043%20%3D%20L.marker%28%0A%20%20%20%20%20%20%20%20%20%20%20%20%20%20%20%20%5B37.496486%2C%20127.126006%5D%2C%0A%20%20%20%20%20%20%20%20%20%20%20%20%20%20%20%20%7B%7D%0A%20%20%20%20%20%20%20%20%20%20%20%20%29.addTo%28map_ce914806198a4d0da0db8551333f2211%29%3B%0A%20%20%20%20%20%20%20%20%0A%20%20%20%20%0A%20%20%20%20%20%20%20%20%20%20%20%20marker_b25f3837842d44dbb0433b6c06183043.bindTooltip%28%0A%20%20%20%20%20%20%20%20%20%20%20%20%20%20%20%20%60%3Cdiv%3E%0A%20%20%20%20%20%20%20%20%20%20%20%20%20%20%20%20%20%20%20%20%2019165%0A%20%20%20%20%20%20%20%20%20%20%20%20%20%20%20%20%20%3C/div%3E%60%2C%0A%20%20%20%20%20%20%20%20%20%20%20%20%20%20%20%20%7B%22sticky%22%3A%20true%7D%0A%20%20%20%20%20%20%20%20%20%20%20%20%29%3B%0A%20%20%20%20%20%20%20%20%0A%20%20%20%20%0A%20%20%20%20%20%20%20%20%20%20%20%20var%20marker_fb2992dab81044039f2afee9367d8cc3%20%3D%20L.marker%28%0A%20%20%20%20%20%20%20%20%20%20%20%20%20%20%20%20%5B37.494161%2C%20127.145196%5D%2C%0A%20%20%20%20%20%20%20%20%20%20%20%20%20%20%20%20%7B%7D%0A%20%20%20%20%20%20%20%20%20%20%20%20%29.addTo%28map_ce914806198a4d0da0db8551333f2211%29%3B%0A%20%20%20%20%20%20%20%20%0A%20%20%20%20%0A%20%20%20%20%20%20%20%20%20%20%20%20marker_fb2992dab81044039f2afee9367d8cc3.bindTooltip%28%0A%20%20%20%20%20%20%20%20%20%20%20%20%20%20%20%20%60%3Cdiv%3E%0A%20%20%20%20%20%20%20%20%20%20%20%20%20%20%20%20%20%20%20%20%204283%0A%20%20%20%20%20%20%20%20%20%20%20%20%20%20%20%20%20%3C/div%3E%60%2C%0A%20%20%20%20%20%20%20%20%20%20%20%20%20%20%20%20%7B%22sticky%22%3A%20true%7D%0A%20%20%20%20%20%20%20%20%20%20%20%20%29%3B%0A%20%20%20%20%20%20%20%20%0A%20%20%20%20%0A%20%20%20%20%20%20%20%20%20%20%20%20var%20marker_22cd4f5a81324baf935fb3a665b11d66%20%3D%20L.marker%28%0A%20%20%20%20%20%20%20%20%20%20%20%20%20%20%20%20%5B37.497117%2C%20127.152393%5D%2C%0A%20%20%20%20%20%20%20%20%20%20%20%20%20%20%20%20%7B%7D%0A%20%20%20%20%20%20%20%20%20%20%20%20%29.addTo%28map_ce914806198a4d0da0db8551333f2211%29%3B%0A%20%20%20%20%20%20%20%20%0A%20%20%20%20%0A%20%20%20%20%20%20%20%20%20%20%20%20marker_22cd4f5a81324baf935fb3a665b11d66.bindTooltip%28%0A%20%20%20%20%20%20%20%20%20%20%20%20%20%20%20%20%60%3Cdiv%3E%0A%20%20%20%20%20%20%20%20%20%20%20%20%20%20%20%20%20%20%20%20%205557%0A%20%20%20%20%20%20%20%20%20%20%20%20%20%20%20%20%20%3C/div%3E%60%2C%0A%20%20%20%20%20%20%20%20%20%20%20%20%20%20%20%20%7B%22sticky%22%3A%20true%7D%0A%20%20%20%20%20%20%20%20%20%20%20%20%29%3B%0A%20%20%20%20%20%20%20%20%0A%20%20%20%20%0A%20%20%20%20%20%20%20%20%20%20%20%20var%20marker_a55341c55e654818956f2967b5658ffa%20%3D%20L.marker%28%0A%20%20%20%20%20%20%20%20%20%20%20%20%20%20%20%20%5B37.486581%2C%20127.127495%5D%2C%0A%20%20%20%20%20%20%20%20%20%20%20%20%20%20%20%20%7B%7D%0A%20%20%20%20%20%20%20%20%20%20%20%20%29.addTo%28map_ce914806198a4d0da0db8551333f2211%29%3B%0A%20%20%20%20%20%20%20%20%0A%20%20%20%20%0A%20%20%20%20%20%20%20%20%20%20%20%20marker_a55341c55e654818956f2967b5658ffa.bindTooltip%28%0A%20%20%20%20%20%20%20%20%20%20%20%20%20%20%20%20%60%3Cdiv%3E%0A%20%20%20%20%20%20%20%20%20%20%20%20%20%20%20%20%20%20%20%20%2015827%0A%20%20%20%20%20%20%20%20%20%20%20%20%20%20%20%20%20%3C/div%3E%60%2C%0A%20%20%20%20%20%20%20%20%20%20%20%20%20%20%20%20%7B%22sticky%22%3A%20true%7D%0A%20%20%20%20%20%20%20%20%20%20%20%20%29%3B%0A%20%20%20%20%20%20%20%20%0A%20%20%20%20%0A%20%20%20%20%20%20%20%20%20%20%20%20var%20marker_1dc520f7a3c0406ab40be1684f014762%20%3D%20L.marker%28%0A%20%20%20%20%20%20%20%20%20%20%20%20%20%20%20%20%5B37.512017%2C%20127.116902%5D%2C%0A%20%20%20%20%20%20%20%20%20%20%20%20%20%20%20%20%7B%7D%0A%20%20%20%20%20%20%20%20%20%20%20%20%29.addTo%28map_ce914806198a4d0da0db8551333f2211%29%3B%0A%20%20%20%20%20%20%20%20%0A%20%20%20%20%0A%20%20%20%20%20%20%20%20%20%20%20%20marker_1dc520f7a3c0406ab40be1684f014762.bindTooltip%28%0A%20%20%20%20%20%20%20%20%20%20%20%20%20%20%20%20%60%3Cdiv%3E%0A%20%20%20%20%20%20%20%20%20%20%20%20%20%20%20%20%20%20%20%20%2012567%0A%20%20%20%20%20%20%20%20%20%20%20%20%20%20%20%20%20%3C/div%3E%60%2C%0A%20%20%20%20%20%20%20%20%20%20%20%20%20%20%20%20%7B%22sticky%22%3A%20true%7D%0A%20%20%20%20%20%20%20%20%20%20%20%20%29%3B%0A%20%20%20%20%20%20%20%20%0A%20%20%20%20%0A%20%20%20%20%20%20%20%20%20%20%20%20var%20marker_52ea26a430d2471892a404335f7baa92%20%3D%20L.marker%28%0A%20%20%20%20%20%20%20%20%20%20%20%20%20%20%20%20%5B37.502724%2C%20127.092352%5D%2C%0A%20%20%20%20%20%20%20%20%20%20%20%20%20%20%20%20%7B%7D%0A%20%20%20%20%20%20%20%20%20%20%20%20%29.addTo%28map_ce914806198a4d0da0db8551333f2211%29%3B%0A%20%20%20%20%20%20%20%20%0A%20%20%20%20%0A%20%20%20%20%20%20%20%20%20%20%20%20marker_52ea26a430d2471892a404335f7baa92.bindTooltip%28%0A%20%20%20%20%20%20%20%20%20%20%20%20%20%20%20%20%60%3Cdiv%3E%0A%20%20%20%20%20%20%20%20%20%20%20%20%20%20%20%20%20%20%20%20%204630%0A%20%20%20%20%20%20%20%20%20%20%20%20%20%20%20%20%20%3C/div%3E%60%2C%0A%20%20%20%20%20%20%20%20%20%20%20%20%20%20%20%20%7B%22sticky%22%3A%20true%7D%0A%20%20%20%20%20%20%20%20%20%20%20%20%29%3B%0A%20%20%20%20%20%20%20%20%0A%20%20%20%20%0A%20%20%20%20%20%20%20%20%20%20%20%20var%20marker_b611d8e3823544709c804929a39d4357%20%3D%20L.marker%28%0A%20%20%20%20%20%20%20%20%20%20%20%20%20%20%20%20%5B37.502699%2C%20127.102321%5D%2C%0A%20%20%20%20%20%20%20%20%20%20%20%20%20%20%20%20%7B%7D%0A%20%20%20%20%20%20%20%20%20%20%20%20%29.addTo%28map_ce914806198a4d0da0db8551333f2211%29%3B%0A%20%20%20%20%20%20%20%20%0A%20%20%20%20%0A%20%20%20%20%20%20%20%20%20%20%20%20marker_b611d8e3823544709c804929a39d4357.bindTooltip%28%0A%20%20%20%20%20%20%20%20%20%20%20%20%20%20%20%20%60%3Cdiv%3E%0A%20%20%20%20%20%20%20%20%20%20%20%20%20%20%20%20%20%20%20%20%206774%0A%20%20%20%20%20%20%20%20%20%20%20%20%20%20%20%20%20%3C/div%3E%60%2C%0A%20%20%20%20%20%20%20%20%20%20%20%20%20%20%20%20%7B%22sticky%22%3A%20true%7D%0A%20%20%20%20%20%20%20%20%20%20%20%20%29%3B%0A%20%20%20%20%20%20%20%20%0A%20%20%20%20%0A%20%20%20%20%20%20%20%20%20%20%20%20var%20marker_b3b6ddba404a4c78a30d6d6e660644f3%20%3D%20L.marker%28%0A%20%20%20%20%20%20%20%20%20%20%20%20%20%20%20%20%5B37.506058%2C%20127.111216%5D%2C%0A%20%20%20%20%20%20%20%20%20%20%20%20%20%20%20%20%7B%7D%0A%20%20%20%20%20%20%20%20%20%20%20%20%29.addTo%28map_ce914806198a4d0da0db8551333f2211%29%3B%0A%20%20%20%20%20%20%20%20%0A%20%20%20%20%0A%20%20%20%20%20%20%20%20%20%20%20%20marker_b3b6ddba404a4c78a30d6d6e660644f3.bindTooltip%28%0A%20%20%20%20%20%20%20%20%20%20%20%20%20%20%20%20%60%3Cdiv%3E%0A%20%20%20%20%20%20%20%20%20%20%20%20%20%20%20%20%20%20%20%20%206571%0A%20%20%20%20%20%20%20%20%20%20%20%20%20%20%20%20%20%3C/div%3E%60%2C%0A%20%20%20%20%20%20%20%20%20%20%20%20%20%20%20%20%7B%22sticky%22%3A%20true%7D%0A%20%20%20%20%20%20%20%20%20%20%20%20%29%3B%0A%20%20%20%20%20%20%20%20%0A%20%20%20%20%0A%20%20%20%20%20%20%20%20%20%20%20%20var%20marker_0454c508acd24e7d8779d0febaeb8eb6%20%3D%20L.marker%28%0A%20%20%20%20%20%20%20%20%20%20%20%20%20%20%20%20%5B37.517302%2C%20127.104967%5D%2C%0A%20%20%20%20%20%20%20%20%20%20%20%20%20%20%20%20%7B%7D%0A%20%20%20%20%20%20%20%20%20%20%20%20%29.addTo%28map_ce914806198a4d0da0db8551333f2211%29%3B%0A%20%20%20%20%20%20%20%20%0A%20%20%20%20%0A%20%20%20%20%20%20%20%20%20%20%20%20marker_0454c508acd24e7d8779d0febaeb8eb6.bindTooltip%28%0A%20%20%20%20%20%20%20%20%20%20%20%20%20%20%20%20%60%3Cdiv%3E%0A%20%20%20%20%20%20%20%20%20%20%20%20%20%20%20%20%20%20%20%20%206161%0A%20%20%20%20%20%20%20%20%20%20%20%20%20%20%20%20%20%3C/div%3E%60%2C%0A%20%20%20%20%20%20%20%20%20%20%20%20%20%20%20%20%7B%22sticky%22%3A%20true%7D%0A%20%20%20%20%20%20%20%20%20%20%20%20%29%3B%0A%20%20%20%20%20%20%20%20%0A%20%20%20%20%0A%20%20%20%20%20%20%20%20%20%20%20%20var%20marker_98c81344406f4ee9b336dcbd93729288%20%3D%20L.marker%28%0A%20%20%20%20%20%20%20%20%20%20%20%20%20%20%20%20%5B37.50401%2C%20127.134003%5D%2C%0A%20%20%20%20%20%20%20%20%20%20%20%20%20%20%20%20%7B%7D%0A%20%20%20%20%20%20%20%20%20%20%20%20%29.addTo%28map_ce914806198a4d0da0db8551333f2211%29%3B%0A%20%20%20%20%20%20%20%20%0A%20%20%20%20%0A%20%20%20%20%20%20%20%20%20%20%20%20marker_98c81344406f4ee9b336dcbd93729288.bindTooltip%28%0A%20%20%20%20%20%20%20%20%20%20%20%20%20%20%20%20%60%3Cdiv%3E%0A%20%20%20%20%20%20%20%20%20%20%20%20%20%20%20%20%20%20%20%20%204936%0A%20%20%20%20%20%20%20%20%20%20%20%20%20%20%20%20%20%3C/div%3E%60%2C%0A%20%20%20%20%20%20%20%20%20%20%20%20%20%20%20%20%7B%22sticky%22%3A%20true%7D%0A%20%20%20%20%20%20%20%20%20%20%20%20%29%3B%0A%20%20%20%20%20%20%20%20%0A%20%20%20%20%0A%20%20%20%20%20%20%20%20%20%20%20%20var%20marker_f3fc63f887a84d3abf576a682186b592%20%3D%20L.marker%28%0A%20%20%20%20%20%20%20%20%20%20%20%20%20%20%20%20%5B37.503984%2C%20127.135124%5D%2C%0A%20%20%20%20%20%20%20%20%20%20%20%20%20%20%20%20%7B%7D%0A%20%20%20%20%20%20%20%20%20%20%20%20%29.addTo%28map_ce914806198a4d0da0db8551333f2211%29%3B%0A%20%20%20%20%20%20%20%20%0A%20%20%20%20%0A%20%20%20%20%20%20%20%20%20%20%20%20marker_f3fc63f887a84d3abf576a682186b592.bindTooltip%28%0A%20%20%20%20%20%20%20%20%20%20%20%20%20%20%20%20%60%3Cdiv%3E%0A%20%20%20%20%20%20%20%20%20%20%20%20%20%20%20%20%20%20%20%20%204936%0A%20%20%20%20%20%20%20%20%20%20%20%20%20%20%20%20%20%3C/div%3E%60%2C%0A%20%20%20%20%20%20%20%20%20%20%20%20%20%20%20%20%7B%22sticky%22%3A%20true%7D%0A%20%20%20%20%20%20%20%20%20%20%20%20%29%3B%0A%20%20%20%20%20%20%20%20%0A%20%20%20%20%0A%20%20%20%20%20%20%20%20%20%20%20%20var%20marker_8491a8f93c8a49b486dfdee1d12a8a34%20%3D%20L.marker%28%0A%20%20%20%20%20%20%20%20%20%20%20%20%20%20%20%20%5B37.515538%2C%20127.134424%5D%2C%0A%20%20%20%20%20%20%20%20%20%20%20%20%20%20%20%20%7B%7D%0A%20%20%20%20%20%20%20%20%20%20%20%20%29.addTo%28map_ce914806198a4d0da0db8551333f2211%29%3B%0A%20%20%20%20%20%20%20%20%0A%20%20%20%20%0A%20%20%20%20%20%20%20%20%20%20%20%20marker_8491a8f93c8a49b486dfdee1d12a8a34.bindTooltip%28%0A%20%20%20%20%20%20%20%20%20%20%20%20%20%20%20%20%60%3Cdiv%3E%0A%20%20%20%20%20%20%20%20%20%20%20%20%20%20%20%20%20%20%20%20%20157%0A%20%20%20%20%20%20%20%20%20%20%20%20%20%20%20%20%20%3C/div%3E%60%2C%0A%20%20%20%20%20%20%20%20%20%20%20%20%20%20%20%20%7B%22sticky%22%3A%20true%7D%0A%20%20%20%20%20%20%20%20%20%20%20%20%29%3B%0A%20%20%20%20%20%20%20%20%0A%20%20%20%20%0A%20%20%20%20%20%20%20%20%20%20%20%20var%20marker_323fcb63da3a4661adb40e085c915649%20%3D%20L.marker%28%0A%20%20%20%20%20%20%20%20%20%20%20%20%20%20%20%20%5B37.481576%2C%20127.140424%5D%2C%0A%20%20%20%20%20%20%20%20%20%20%20%20%20%20%20%20%7B%7D%0A%20%20%20%20%20%20%20%20%20%20%20%20%29.addTo%28map_ce914806198a4d0da0db8551333f2211%29%3B%0A%20%20%20%20%20%20%20%20%0A%20%20%20%20%0A%20%20%20%20%20%20%20%20%20%20%20%20marker_323fcb63da3a4661adb40e085c915649.bindTooltip%28%0A%20%20%20%20%20%20%20%20%20%20%20%20%20%20%20%20%60%3Cdiv%3E%0A%20%20%20%20%20%20%20%20%20%20%20%20%20%20%20%20%20%20%20%20%20609%0A%20%20%20%20%20%20%20%20%20%20%20%20%20%20%20%20%20%3C/div%3E%60%2C%0A%20%20%20%20%20%20%20%20%20%20%20%20%20%20%20%20%7B%22sticky%22%3A%20true%7D%0A%20%20%20%20%20%20%20%20%20%20%20%20%29%3B%0A%20%20%20%20%20%20%20%20%0A%20%20%20%20%0A%20%20%20%20%20%20%20%20%20%20%20%20var%20marker_e66a183528d443ab839c1a09b52bd196%20%3D%20L.marker%28%0A%20%20%20%20%20%20%20%20%20%20%20%20%20%20%20%20%5B37.506967%2C%20127.083673%5D%2C%0A%20%20%20%20%20%20%20%20%20%20%20%20%20%20%20%20%7B%7D%0A%20%20%20%20%20%20%20%20%20%20%20%20%29.addTo%28map_ce914806198a4d0da0db8551333f2211%29%3B%0A%20%20%20%20%20%20%20%20%0A%20%20%20%20%0A%20%20%20%20%20%20%20%20%20%20%20%20marker_e66a183528d443ab839c1a09b52bd196.bindTooltip%28%0A%20%20%20%20%20%20%20%20%20%20%20%20%20%20%20%20%60%3Cdiv%3E%0A%20%20%20%20%20%20%20%20%20%20%20%20%20%20%20%20%20%20%20%20%2020197%0A%20%20%20%20%20%20%20%20%20%20%20%20%20%20%20%20%20%3C/div%3E%60%2C%0A%20%20%20%20%20%20%20%20%20%20%20%20%20%20%20%20%7B%22sticky%22%3A%20true%7D%0A%20%20%20%20%20%20%20%20%20%20%20%20%29%3B%0A%20%20%20%20%20%20%20%20%0A%20%20%20%20%0A%20%20%20%20%20%20%20%20%20%20%20%20var%20marker_0cf9a6634ecb487db1f68f7d688daca4%20%3D%20L.marker%28%0A%20%20%20%20%20%20%20%20%20%20%20%20%20%20%20%20%5B37.478077%2C%20127.133269%5D%2C%0A%20%20%20%20%20%20%20%20%20%20%20%20%20%20%20%20%7B%7D%0A%20%20%20%20%20%20%20%20%20%20%20%20%29.addTo%28map_ce914806198a4d0da0db8551333f2211%29%3B%0A%20%20%20%20%20%20%20%20%0A%20%20%20%20%0A%20%20%20%20%20%20%20%20%20%20%20%20marker_0cf9a6634ecb487db1f68f7d688daca4.bindTooltip%28%0A%20%20%20%20%20%20%20%20%20%20%20%20%20%20%20%20%60%3Cdiv%3E%0A%20%20%20%20%20%20%20%20%20%20%20%20%20%20%20%20%20%20%20%20%202626%0A%20%20%20%20%20%20%20%20%20%20%20%20%20%20%20%20%20%3C/div%3E%60%2C%0A%20%20%20%20%20%20%20%20%20%20%20%20%20%20%20%20%7B%22sticky%22%3A%20true%7D%0A%20%20%20%20%20%20%20%20%20%20%20%20%29%3B%0A%20%20%20%20%20%20%20%20%0A%20%20%20%20%0A%20%20%20%20%20%20%20%20%20%20%20%20var%20marker_68c0c0f5031f4b1cb85d560e5f11f5b0%20%3D%20L.marker%28%0A%20%20%20%20%20%20%20%20%20%20%20%20%20%20%20%20%5B37.534673%2C%20127.117643%5D%2C%0A%20%20%20%20%20%20%20%20%20%20%20%20%20%20%20%20%7B%7D%0A%20%20%20%20%20%20%20%20%20%20%20%20%29.addTo%28map_ce914806198a4d0da0db8551333f2211%29%3B%0A%20%20%20%20%20%20%20%20%0A%20%20%20%20%0A%20%20%20%20%20%20%20%20%20%20%20%20marker_68c0c0f5031f4b1cb85d560e5f11f5b0.bindTooltip%28%0A%20%20%20%20%20%20%20%20%20%20%20%20%20%20%20%20%60%3Cdiv%3E%0A%20%20%20%20%20%20%20%20%20%20%20%20%20%20%20%20%20%20%20%20%206840%0A%20%20%20%20%20%20%20%20%20%20%20%20%20%20%20%20%20%3C/div%3E%60%2C%0A%20%20%20%20%20%20%20%20%20%20%20%20%20%20%20%20%7B%22sticky%22%3A%20true%7D%0A%20%20%20%20%20%20%20%20%20%20%20%20%29%3B%0A%20%20%20%20%20%20%20%20%0A%20%20%20%20%0A%20%20%20%20%20%20%20%20%20%20%20%20var%20marker_cf4f389b0a244d33b07736278341a99f%20%3D%20L.marker%28%0A%20%20%20%20%20%20%20%20%20%20%20%20%20%20%20%20%5B37.4965037%2C%20126.9443073%5D%2C%0A%20%20%20%20%20%20%20%20%20%20%20%20%20%20%20%20%7B%7D%0A%20%20%20%20%20%20%20%20%20%20%20%20%29.addTo%28map_ce914806198a4d0da0db8551333f2211%29%3B%0A%20%20%20%20%20%20%20%20%0A%20%20%20%20%0A%20%20%20%20%20%20%20%20%20%20%20%20marker_cf4f389b0a244d33b07736278341a99f.bindTooltip%28%0A%20%20%20%20%20%20%20%20%20%20%20%20%20%20%20%20%60%3Cdiv%3E%0A%20%20%20%20%20%20%20%20%20%20%20%20%20%20%20%20%20%20%20%20%2056257%0A%20%20%20%20%20%20%20%20%20%20%20%20%20%20%20%20%20%3C/div%3E%60%2C%0A%20%20%20%20%20%20%20%20%20%20%20%20%20%20%20%20%7B%22sticky%22%3A%20true%7D%0A%20%20%20%20%20%20%20%20%20%20%20%20%29%3B%0A%20%20%20%20%20%20%20%20%0A%3C/script%3E onload=\"this.contentDocument.open();this.contentDocument.write(    decodeURIComponent(this.getAttribute('data-html')));this.contentDocument.close();\" allowfullscreen webkitallowfullscreen mozallowfullscreen></iframe></div></div>"
      ],
      "text/plain": [
       "<folium.folium.Map at 0x144d1171760>"
      ]
     },
     "execution_count": 13,
     "metadata": {},
     "output_type": "execute_result"
    }
   ],
   "source": [
    "for i in df.index:\n",
    "    sub_lat =  df.loc[i,'위도']\n",
    "    sub_long = df.loc[i,'경도']\n",
    "    \n",
    "    title = df.loc[i,'주정차 단속건수']\n",
    "    \n",
    "    #지도에 데이터 찍어서 보여주기\n",
    "    folium.Marker([sub_lat,sub_long],tooltip = title).add_to(map_osm)\n",
    "\n",
    "#한글이 안나오는 오류로 html로 trouble shooting \n",
    "map_osm.save('example.html')\n",
    "map_osm"
   ]
  },
  {
   "cell_type": "code",
   "execution_count": 14,
   "metadata": {},
   "outputs": [],
   "source": [
    "from folium.plugins import MarkerCluster"
   ]
  },
  {
   "cell_type": "code",
   "execution_count": 15,
   "metadata": {},
   "outputs": [
    {
     "data": {
      "text/html": [
       "<div style=\"width:100%;\"><div style=\"position:relative;width:100%;height:0;padding-bottom:60%;\"><span style=\"color:#565656\">Make this Notebook Trusted to load map: File -> Trust Notebook</span><iframe src=\"about:blank\" style=\"position:absolute;width:100%;height:100%;left:0;top:0;border:none !important;\" data-html=%3C%21DOCTYPE%20html%3E%0A%3Chead%3E%20%20%20%20%0A%20%20%20%20%3Cmeta%20http-equiv%3D%22content-type%22%20content%3D%22text/html%3B%20charset%3DUTF-8%22%20/%3E%0A%20%20%20%20%0A%20%20%20%20%20%20%20%20%3Cscript%3E%0A%20%20%20%20%20%20%20%20%20%20%20%20L_NO_TOUCH%20%3D%20false%3B%0A%20%20%20%20%20%20%20%20%20%20%20%20L_DISABLE_3D%20%3D%20false%3B%0A%20%20%20%20%20%20%20%20%3C/script%3E%0A%20%20%20%20%0A%20%20%20%20%3Cstyle%3Ehtml%2C%20body%20%7Bwidth%3A%20100%25%3Bheight%3A%20100%25%3Bmargin%3A%200%3Bpadding%3A%200%3B%7D%3C/style%3E%0A%20%20%20%20%3Cstyle%3E%23map%20%7Bposition%3Aabsolute%3Btop%3A0%3Bbottom%3A0%3Bright%3A0%3Bleft%3A0%3B%7D%3C/style%3E%0A%20%20%20%20%3Cscript%20src%3D%22https%3A//cdn.jsdelivr.net/npm/leaflet%401.6.0/dist/leaflet.js%22%3E%3C/script%3E%0A%20%20%20%20%3Cscript%20src%3D%22https%3A//code.jquery.com/jquery-1.12.4.min.js%22%3E%3C/script%3E%0A%20%20%20%20%3Cscript%20src%3D%22https%3A//maxcdn.bootstrapcdn.com/bootstrap/3.2.0/js/bootstrap.min.js%22%3E%3C/script%3E%0A%20%20%20%20%3Cscript%20src%3D%22https%3A//cdnjs.cloudflare.com/ajax/libs/Leaflet.awesome-markers/2.0.2/leaflet.awesome-markers.js%22%3E%3C/script%3E%0A%20%20%20%20%3Clink%20rel%3D%22stylesheet%22%20href%3D%22https%3A//cdn.jsdelivr.net/npm/leaflet%401.6.0/dist/leaflet.css%22/%3E%0A%20%20%20%20%3Clink%20rel%3D%22stylesheet%22%20href%3D%22https%3A//maxcdn.bootstrapcdn.com/bootstrap/3.2.0/css/bootstrap.min.css%22/%3E%0A%20%20%20%20%3Clink%20rel%3D%22stylesheet%22%20href%3D%22https%3A//maxcdn.bootstrapcdn.com/bootstrap/3.2.0/css/bootstrap-theme.min.css%22/%3E%0A%20%20%20%20%3Clink%20rel%3D%22stylesheet%22%20href%3D%22https%3A//maxcdn.bootstrapcdn.com/font-awesome/4.6.3/css/font-awesome.min.css%22/%3E%0A%20%20%20%20%3Clink%20rel%3D%22stylesheet%22%20href%3D%22https%3A//cdnjs.cloudflare.com/ajax/libs/Leaflet.awesome-markers/2.0.2/leaflet.awesome-markers.css%22/%3E%0A%20%20%20%20%3Clink%20rel%3D%22stylesheet%22%20href%3D%22https%3A//cdn.jsdelivr.net/gh/python-visualization/folium/folium/templates/leaflet.awesome.rotate.min.css%22/%3E%0A%20%20%20%20%0A%20%20%20%20%20%20%20%20%20%20%20%20%3Cmeta%20name%3D%22viewport%22%20content%3D%22width%3Ddevice-width%2C%0A%20%20%20%20%20%20%20%20%20%20%20%20%20%20%20%20initial-scale%3D1.0%2C%20maximum-scale%3D1.0%2C%20user-scalable%3Dno%22%20/%3E%0A%20%20%20%20%20%20%20%20%20%20%20%20%3Cstyle%3E%0A%20%20%20%20%20%20%20%20%20%20%20%20%20%20%20%20%23map_d4c79d4da2d146cbb4c943fa9a716406%20%7B%0A%20%20%20%20%20%20%20%20%20%20%20%20%20%20%20%20%20%20%20%20position%3A%20relative%3B%0A%20%20%20%20%20%20%20%20%20%20%20%20%20%20%20%20%20%20%20%20width%3A%20100.0%25%3B%0A%20%20%20%20%20%20%20%20%20%20%20%20%20%20%20%20%20%20%20%20height%3A%20100.0%25%3B%0A%20%20%20%20%20%20%20%20%20%20%20%20%20%20%20%20%20%20%20%20left%3A%200.0%25%3B%0A%20%20%20%20%20%20%20%20%20%20%20%20%20%20%20%20%20%20%20%20top%3A%200.0%25%3B%0A%20%20%20%20%20%20%20%20%20%20%20%20%20%20%20%20%7D%0A%20%20%20%20%20%20%20%20%20%20%20%20%3C/style%3E%0A%20%20%20%20%20%20%20%20%0A%20%20%20%20%3Cscript%20src%3D%22https%3A//cdnjs.cloudflare.com/ajax/libs/leaflet.markercluster/1.1.0/leaflet.markercluster.js%22%3E%3C/script%3E%0A%20%20%20%20%3Clink%20rel%3D%22stylesheet%22%20href%3D%22https%3A//cdnjs.cloudflare.com/ajax/libs/leaflet.markercluster/1.1.0/MarkerCluster.css%22/%3E%0A%20%20%20%20%3Clink%20rel%3D%22stylesheet%22%20href%3D%22https%3A//cdnjs.cloudflare.com/ajax/libs/leaflet.markercluster/1.1.0/MarkerCluster.Default.css%22/%3E%0A%3C/head%3E%0A%3Cbody%3E%20%20%20%20%0A%20%20%20%20%0A%20%20%20%20%20%20%20%20%20%20%20%20%3Cdiv%20class%3D%22folium-map%22%20id%3D%22map_d4c79d4da2d146cbb4c943fa9a716406%22%20%3E%3C/div%3E%0A%20%20%20%20%20%20%20%20%0A%3C/body%3E%0A%3Cscript%3E%20%20%20%20%0A%20%20%20%20%0A%20%20%20%20%20%20%20%20%20%20%20%20var%20map_d4c79d4da2d146cbb4c943fa9a716406%20%3D%20L.map%28%0A%20%20%20%20%20%20%20%20%20%20%20%20%20%20%20%20%22map_d4c79d4da2d146cbb4c943fa9a716406%22%2C%0A%20%20%20%20%20%20%20%20%20%20%20%20%20%20%20%20%7B%0A%20%20%20%20%20%20%20%20%20%20%20%20%20%20%20%20%20%20%20%20center%3A%20%5B37.529622%2C%20126.984307%5D%2C%0A%20%20%20%20%20%20%20%20%20%20%20%20%20%20%20%20%20%20%20%20crs%3A%20L.CRS.EPSG3857%2C%0A%20%20%20%20%20%20%20%20%20%20%20%20%20%20%20%20%20%20%20%20zoom%3A%2012%2C%0A%20%20%20%20%20%20%20%20%20%20%20%20%20%20%20%20%20%20%20%20zoomControl%3A%20true%2C%0A%20%20%20%20%20%20%20%20%20%20%20%20%20%20%20%20%20%20%20%20preferCanvas%3A%20false%2C%0A%20%20%20%20%20%20%20%20%20%20%20%20%20%20%20%20%7D%0A%20%20%20%20%20%20%20%20%20%20%20%20%29%3B%0A%0A%20%20%20%20%20%20%20%20%20%20%20%20%0A%0A%20%20%20%20%20%20%20%20%0A%20%20%20%20%0A%20%20%20%20%20%20%20%20%20%20%20%20var%20tile_layer_e7125031fa97439c9905807c4161b9ef%20%3D%20L.tileLayer%28%0A%20%20%20%20%20%20%20%20%20%20%20%20%20%20%20%20%22https%3A//%7Bs%7D.tile.openstreetmap.org/%7Bz%7D/%7Bx%7D/%7By%7D.png%22%2C%0A%20%20%20%20%20%20%20%20%20%20%20%20%20%20%20%20%7B%22attribution%22%3A%20%22Data%20by%20%5Cu0026copy%3B%20%5Cu003ca%20href%3D%5C%22http%3A//openstreetmap.org%5C%22%5Cu003eOpenStreetMap%5Cu003c/a%5Cu003e%2C%20under%20%5Cu003ca%20href%3D%5C%22http%3A//www.openstreetmap.org/copyright%5C%22%5Cu003eODbL%5Cu003c/a%5Cu003e.%22%2C%20%22detectRetina%22%3A%20false%2C%20%22maxNativeZoom%22%3A%2018%2C%20%22maxZoom%22%3A%2018%2C%20%22minZoom%22%3A%200%2C%20%22noWrap%22%3A%20false%2C%20%22opacity%22%3A%201%2C%20%22subdomains%22%3A%20%22abc%22%2C%20%22tms%22%3A%20false%7D%0A%20%20%20%20%20%20%20%20%20%20%20%20%29.addTo%28map_d4c79d4da2d146cbb4c943fa9a716406%29%3B%0A%20%20%20%20%20%20%20%20%0A%20%20%20%20%0A%20%20%20%20%20%20%20%20%20%20%20%20var%20marker_cluster_989990b9e92546129e063f5ea07e0309%20%3D%20L.markerClusterGroup%28%0A%20%20%20%20%20%20%20%20%20%20%20%20%20%20%20%20%7B%7D%0A%20%20%20%20%20%20%20%20%20%20%20%20%29%3B%0A%20%20%20%20%20%20%20%20%20%20%20%20map_d4c79d4da2d146cbb4c943fa9a716406.addLayer%28marker_cluster_989990b9e92546129e063f5ea07e0309%29%3B%0A%20%20%20%20%20%20%20%20%0A%20%20%20%20%0A%20%20%20%20%20%20%20%20%20%20%20%20var%20marker_6d6a40a2ab594538af712690822c6d30%20%3D%20L.marker%28%0A%20%20%20%20%20%20%20%20%20%20%20%20%20%20%20%20%5B37.476281%2C%20126.958369%5D%2C%0A%20%20%20%20%20%20%20%20%20%20%20%20%20%20%20%20%7B%22zoomStart%22%3A%2012%7D%0A%20%20%20%20%20%20%20%20%20%20%20%20%29.addTo%28marker_cluster_989990b9e92546129e063f5ea07e0309%29%3B%0A%20%20%20%20%20%20%20%20%0A%20%20%20%20%0A%20%20%20%20%20%20%20%20var%20popup_e1f4973851e4489b82e16b3efb26057d%20%3D%20L.popup%28%7B%22maxWidth%22%3A%20%22100%25%22%7D%29%3B%0A%0A%20%20%20%20%20%20%20%20%0A%20%20%20%20%20%20%20%20%20%20%20%20var%20html_3b69fea222574ab992a0c5a628a51790%20%3D%20%24%28%60%3Cdiv%20id%3D%22html_3b69fea222574ab992a0c5a628a51790%22%20style%3D%22width%3A%20100.0%25%3B%20height%3A%20100.0%25%3B%22%3E1699%3C/div%3E%60%29%5B0%5D%3B%0A%20%20%20%20%20%20%20%20%20%20%20%20popup_e1f4973851e4489b82e16b3efb26057d.setContent%28html_3b69fea222574ab992a0c5a628a51790%29%3B%0A%20%20%20%20%20%20%20%20%0A%0A%20%20%20%20%20%20%20%20marker_6d6a40a2ab594538af712690822c6d30.bindPopup%28popup_e1f4973851e4489b82e16b3efb26057d%29%0A%20%20%20%20%20%20%20%20%3B%0A%0A%20%20%20%20%20%20%20%20%0A%20%20%20%20%0A%20%20%20%20%0A%20%20%20%20%20%20%20%20%20%20%20%20var%20marker_c2a01458c7e642d99334f03d6219f583%20%3D%20L.marker%28%0A%20%20%20%20%20%20%20%20%20%20%20%20%20%20%20%20%5B37.471024%2C%20126.921689%5D%2C%0A%20%20%20%20%20%20%20%20%20%20%20%20%20%20%20%20%7B%22zoomStart%22%3A%2012%7D%0A%20%20%20%20%20%20%20%20%20%20%20%20%29.addTo%28marker_cluster_989990b9e92546129e063f5ea07e0309%29%3B%0A%20%20%20%20%20%20%20%20%0A%20%20%20%20%0A%20%20%20%20%20%20%20%20var%20popup_4c56c85b685e4c0c9304e6f2b2efa665%20%3D%20L.popup%28%7B%22maxWidth%22%3A%20%22100%25%22%7D%29%3B%0A%0A%20%20%20%20%20%20%20%20%0A%20%20%20%20%20%20%20%20%20%20%20%20var%20html_7f2d19ec5acd4b7990b5f75f71667425%20%3D%20%24%28%60%3Cdiv%20id%3D%22html_7f2d19ec5acd4b7990b5f75f71667425%22%20style%3D%22width%3A%20100.0%25%3B%20height%3A%20100.0%25%3B%22%3E2533%3C/div%3E%60%29%5B0%5D%3B%0A%20%20%20%20%20%20%20%20%20%20%20%20popup_4c56c85b685e4c0c9304e6f2b2efa665.setContent%28html_7f2d19ec5acd4b7990b5f75f71667425%29%3B%0A%20%20%20%20%20%20%20%20%0A%0A%20%20%20%20%20%20%20%20marker_c2a01458c7e642d99334f03d6219f583.bindPopup%28popup_4c56c85b685e4c0c9304e6f2b2efa665%29%0A%20%20%20%20%20%20%20%20%3B%0A%0A%20%20%20%20%20%20%20%20%0A%20%20%20%20%0A%20%20%20%20%0A%20%20%20%20%20%20%20%20%20%20%20%20var%20marker_44a75e7734914ca8a8e6c748480fdd7e%20%3D%20L.marker%28%0A%20%20%20%20%20%20%20%20%20%20%20%20%20%20%20%20%5B37.461554%2C%20126.918807%5D%2C%0A%20%20%20%20%20%20%20%20%20%20%20%20%20%20%20%20%7B%22zoomStart%22%3A%2012%7D%0A%20%20%20%20%20%20%20%20%20%20%20%20%29.addTo%28marker_cluster_989990b9e92546129e063f5ea07e0309%29%3B%0A%20%20%20%20%20%20%20%20%0A%20%20%20%20%0A%20%20%20%20%20%20%20%20var%20popup_bdeefcf45f5d4e18ac0db18082ffd733%20%3D%20L.popup%28%7B%22maxWidth%22%3A%20%22100%25%22%7D%29%3B%0A%0A%20%20%20%20%20%20%20%20%0A%20%20%20%20%20%20%20%20%20%20%20%20var%20html_2dd09d16bcd4494f83aad6e07f755528%20%3D%20%24%28%60%3Cdiv%20id%3D%22html_2dd09d16bcd4494f83aad6e07f755528%22%20style%3D%22width%3A%20100.0%25%3B%20height%3A%20100.0%25%3B%22%3E388%3C/div%3E%60%29%5B0%5D%3B%0A%20%20%20%20%20%20%20%20%20%20%20%20popup_bdeefcf45f5d4e18ac0db18082ffd733.setContent%28html_2dd09d16bcd4494f83aad6e07f755528%29%3B%0A%20%20%20%20%20%20%20%20%0A%0A%20%20%20%20%20%20%20%20marker_44a75e7734914ca8a8e6c748480fdd7e.bindPopup%28popup_bdeefcf45f5d4e18ac0db18082ffd733%29%0A%20%20%20%20%20%20%20%20%3B%0A%0A%20%20%20%20%20%20%20%20%0A%20%20%20%20%0A%20%20%20%20%0A%20%20%20%20%20%20%20%20%20%20%20%20var%20marker_69e6638fc6d44b9fb8e7d62f151cec06%20%3D%20L.marker%28%0A%20%20%20%20%20%20%20%20%20%20%20%20%20%20%20%20%5B37.464115%2C%20126.977754%5D%2C%0A%20%20%20%20%20%20%20%20%20%20%20%20%20%20%20%20%7B%22zoomStart%22%3A%2012%7D%0A%20%20%20%20%20%20%20%20%20%20%20%20%29.addTo%28marker_cluster_989990b9e92546129e063f5ea07e0309%29%3B%0A%20%20%20%20%20%20%20%20%0A%20%20%20%20%0A%20%20%20%20%20%20%20%20var%20popup_97221fa4d52b4aa7892107e18ec44cc6%20%3D%20L.popup%28%7B%22maxWidth%22%3A%20%22100%25%22%7D%29%3B%0A%0A%20%20%20%20%20%20%20%20%0A%20%20%20%20%20%20%20%20%20%20%20%20var%20html_7ef689fcbdc54ef9a695db3824b42658%20%3D%20%24%28%60%3Cdiv%20id%3D%22html_7ef689fcbdc54ef9a695db3824b42658%22%20style%3D%22width%3A%20100.0%25%3B%20height%3A%20100.0%25%3B%22%3E3708%3C/div%3E%60%29%5B0%5D%3B%0A%20%20%20%20%20%20%20%20%20%20%20%20popup_97221fa4d52b4aa7892107e18ec44cc6.setContent%28html_7ef689fcbdc54ef9a695db3824b42658%29%3B%0A%20%20%20%20%20%20%20%20%0A%0A%20%20%20%20%20%20%20%20marker_69e6638fc6d44b9fb8e7d62f151cec06.bindPopup%28popup_97221fa4d52b4aa7892107e18ec44cc6%29%0A%20%20%20%20%20%20%20%20%3B%0A%0A%20%20%20%20%20%20%20%20%0A%20%20%20%20%0A%20%20%20%20%0A%20%20%20%20%20%20%20%20%20%20%20%20var%20marker_1fada540e03548b5a6baef13052b20b8%20%3D%20L.marker%28%0A%20%20%20%20%20%20%20%20%20%20%20%20%20%20%20%20%5B37.470593%2C%20126.936855%5D%2C%0A%20%20%20%20%20%20%20%20%20%20%20%20%20%20%20%20%7B%22zoomStart%22%3A%2012%7D%0A%20%20%20%20%20%20%20%20%20%20%20%20%29.addTo%28marker_cluster_989990b9e92546129e063f5ea07e0309%29%3B%0A%20%20%20%20%20%20%20%20%0A%20%20%20%20%0A%20%20%20%20%20%20%20%20var%20popup_904f8f671b43423d94fc04ee60a03fc3%20%3D%20L.popup%28%7B%22maxWidth%22%3A%20%22100%25%22%7D%29%3B%0A%0A%20%20%20%20%20%20%20%20%0A%20%20%20%20%20%20%20%20%20%20%20%20var%20html_97fdad0ffc78485b9db3ed85ac2ba175%20%3D%20%24%28%60%3Cdiv%20id%3D%22html_97fdad0ffc78485b9db3ed85ac2ba175%22%20style%3D%22width%3A%20100.0%25%3B%20height%3A%20100.0%25%3B%22%3E2940%3C/div%3E%60%29%5B0%5D%3B%0A%20%20%20%20%20%20%20%20%20%20%20%20popup_904f8f671b43423d94fc04ee60a03fc3.setContent%28html_97fdad0ffc78485b9db3ed85ac2ba175%29%3B%0A%20%20%20%20%20%20%20%20%0A%0A%20%20%20%20%20%20%20%20marker_1fada540e03548b5a6baef13052b20b8.bindPopup%28popup_904f8f671b43423d94fc04ee60a03fc3%29%0A%20%20%20%20%20%20%20%20%3B%0A%0A%20%20%20%20%20%20%20%20%0A%20%20%20%20%0A%20%20%20%20%0A%20%20%20%20%20%20%20%20%20%20%20%20var%20marker_a90e31bed36046e993a39747f7301a00%20%3D%20L.marker%28%0A%20%20%20%20%20%20%20%20%20%20%20%20%20%20%20%20%5B37.476348%2C%20126.915677%5D%2C%0A%20%20%20%20%20%20%20%20%20%20%20%20%20%20%20%20%7B%22zoomStart%22%3A%2012%7D%0A%20%20%20%20%20%20%20%20%20%20%20%20%29.addTo%28marker_cluster_989990b9e92546129e063f5ea07e0309%29%3B%0A%20%20%20%20%20%20%20%20%0A%20%20%20%20%0A%20%20%20%20%20%20%20%20var%20popup_d61ead52ed7a49ac9d8885bb9200bcd3%20%3D%20L.popup%28%7B%22maxWidth%22%3A%20%22100%25%22%7D%29%3B%0A%0A%20%20%20%20%20%20%20%20%0A%20%20%20%20%20%20%20%20%20%20%20%20var%20html_198334851b3b403fa7d7efa24f5f9eb8%20%3D%20%24%28%60%3Cdiv%20id%3D%22html_198334851b3b403fa7d7efa24f5f9eb8%22%20style%3D%22width%3A%20100.0%25%3B%20height%3A%20100.0%25%3B%22%3E3417%3C/div%3E%60%29%5B0%5D%3B%0A%20%20%20%20%20%20%20%20%20%20%20%20popup_d61ead52ed7a49ac9d8885bb9200bcd3.setContent%28html_198334851b3b403fa7d7efa24f5f9eb8%29%3B%0A%20%20%20%20%20%20%20%20%0A%0A%20%20%20%20%20%20%20%20marker_a90e31bed36046e993a39747f7301a00.bindPopup%28popup_d61ead52ed7a49ac9d8885bb9200bcd3%29%0A%20%20%20%20%20%20%20%20%3B%0A%0A%20%20%20%20%20%20%20%20%0A%20%20%20%20%0A%20%20%20%20%0A%20%20%20%20%20%20%20%20%20%20%20%20var%20marker_b36be8274eea47f9ba85c3eacce2ce1d%20%3D%20L.marker%28%0A%20%20%20%20%20%20%20%20%20%20%20%20%20%20%20%20%5B37.488208%2C%20126.932761%5D%2C%0A%20%20%20%20%20%20%20%20%20%20%20%20%20%20%20%20%7B%22zoomStart%22%3A%2012%7D%0A%20%20%20%20%20%20%20%20%20%20%20%20%29.addTo%28marker_cluster_989990b9e92546129e063f5ea07e0309%29%3B%0A%20%20%20%20%20%20%20%20%0A%20%20%20%20%0A%20%20%20%20%20%20%20%20var%20popup_2a538a9d284e4fafb915f2e5ac58a84d%20%3D%20L.popup%28%7B%22maxWidth%22%3A%20%22100%25%22%7D%29%3B%0A%0A%20%20%20%20%20%20%20%20%0A%20%20%20%20%20%20%20%20%20%20%20%20var%20html_57afe3b919df426da99b9ab26a94bc3b%20%3D%20%24%28%60%3Cdiv%20id%3D%22html_57afe3b919df426da99b9ab26a94bc3b%22%20style%3D%22width%3A%20100.0%25%3B%20height%3A%20100.0%25%3B%22%3E1800%3C/div%3E%60%29%5B0%5D%3B%0A%20%20%20%20%20%20%20%20%20%20%20%20popup_2a538a9d284e4fafb915f2e5ac58a84d.setContent%28html_57afe3b919df426da99b9ab26a94bc3b%29%3B%0A%20%20%20%20%20%20%20%20%0A%0A%20%20%20%20%20%20%20%20marker_b36be8274eea47f9ba85c3eacce2ce1d.bindPopup%28popup_2a538a9d284e4fafb915f2e5ac58a84d%29%0A%20%20%20%20%20%20%20%20%3B%0A%0A%20%20%20%20%20%20%20%20%0A%20%20%20%20%0A%20%20%20%20%0A%20%20%20%20%20%20%20%20%20%20%20%20var%20marker_1d22f292b049495297a3b2bcb8f119dc%20%3D%20L.marker%28%0A%20%20%20%20%20%20%20%20%20%20%20%20%20%20%20%20%5B37.482717%2C%20126.949951%5D%2C%0A%20%20%20%20%20%20%20%20%20%20%20%20%20%20%20%20%7B%22zoomStart%22%3A%2012%7D%0A%20%20%20%20%20%20%20%20%20%20%20%20%29.addTo%28marker_cluster_989990b9e92546129e063f5ea07e0309%29%3B%0A%20%20%20%20%20%20%20%20%0A%20%20%20%20%0A%20%20%20%20%20%20%20%20var%20popup_befb8ce25e3e4d6bb4c07fd440b86e79%20%3D%20L.popup%28%7B%22maxWidth%22%3A%20%22100%25%22%7D%29%3B%0A%0A%20%20%20%20%20%20%20%20%0A%20%20%20%20%20%20%20%20%20%20%20%20var%20html_0c95a5d5b649466cae0fa9369eec2f5a%20%3D%20%24%28%60%3Cdiv%20id%3D%22html_0c95a5d5b649466cae0fa9369eec2f5a%22%20style%3D%22width%3A%20100.0%25%3B%20height%3A%20100.0%25%3B%22%3E20474%3C/div%3E%60%29%5B0%5D%3B%0A%20%20%20%20%20%20%20%20%20%20%20%20popup_befb8ce25e3e4d6bb4c07fd440b86e79.setContent%28html_0c95a5d5b649466cae0fa9369eec2f5a%29%3B%0A%20%20%20%20%20%20%20%20%0A%0A%20%20%20%20%20%20%20%20marker_1d22f292b049495297a3b2bcb8f119dc.bindPopup%28popup_befb8ce25e3e4d6bb4c07fd440b86e79%29%0A%20%20%20%20%20%20%20%20%3B%0A%0A%20%20%20%20%20%20%20%20%0A%20%20%20%20%0A%20%20%20%20%0A%20%20%20%20%20%20%20%20%20%20%20%20var%20marker_5248d20c026947d9a206bed32f72d780%20%3D%20L.marker%28%0A%20%20%20%20%20%20%20%20%20%20%20%20%20%20%20%20%5B37.483974%2C%20126.974999%5D%2C%0A%20%20%20%20%20%20%20%20%20%20%20%20%20%20%20%20%7B%22zoomStart%22%3A%2012%7D%0A%20%20%20%20%20%20%20%20%20%20%20%20%29.addTo%28marker_cluster_989990b9e92546129e063f5ea07e0309%29%3B%0A%20%20%20%20%20%20%20%20%0A%20%20%20%20%0A%20%20%20%20%20%20%20%20var%20popup_105f33feb79d454c874512fa5d3998cc%20%3D%20L.popup%28%7B%22maxWidth%22%3A%20%22100%25%22%7D%29%3B%0A%0A%20%20%20%20%20%20%20%20%0A%20%20%20%20%20%20%20%20%20%20%20%20var%20html_14589933b92647938ecaa6e6964e12c6%20%3D%20%24%28%60%3Cdiv%20id%3D%22html_14589933b92647938ecaa6e6964e12c6%22%20style%3D%22width%3A%20100.0%25%3B%20height%3A%20100.0%25%3B%22%3E2%3C/div%3E%60%29%5B0%5D%3B%0A%20%20%20%20%20%20%20%20%20%20%20%20popup_105f33feb79d454c874512fa5d3998cc.setContent%28html_14589933b92647938ecaa6e6964e12c6%29%3B%0A%20%20%20%20%20%20%20%20%0A%0A%20%20%20%20%20%20%20%20marker_5248d20c026947d9a206bed32f72d780.bindPopup%28popup_105f33feb79d454c874512fa5d3998cc%29%0A%20%20%20%20%20%20%20%20%3B%0A%0A%20%20%20%20%20%20%20%20%0A%20%20%20%20%0A%20%20%20%20%0A%20%20%20%20%20%20%20%20%20%20%20%20var%20marker_274e55072415466e83ff41eb9505df69%20%3D%20L.marker%28%0A%20%20%20%20%20%20%20%20%20%20%20%20%20%20%20%20%5B37.470135%2C%20126.933007%5D%2C%0A%20%20%20%20%20%20%20%20%20%20%20%20%20%20%20%20%7B%22zoomStart%22%3A%2012%7D%0A%20%20%20%20%20%20%20%20%20%20%20%20%29.addTo%28marker_cluster_989990b9e92546129e063f5ea07e0309%29%3B%0A%20%20%20%20%20%20%20%20%0A%20%20%20%20%0A%20%20%20%20%20%20%20%20var%20popup_add1202e4d304ae9953ae043c87ee94c%20%3D%20L.popup%28%7B%22maxWidth%22%3A%20%22100%25%22%7D%29%3B%0A%0A%20%20%20%20%20%20%20%20%0A%20%20%20%20%20%20%20%20%20%20%20%20var%20html_93860ad4603f4851b905e6e5550e418b%20%3D%20%24%28%60%3Cdiv%20id%3D%22html_93860ad4603f4851b905e6e5550e418b%22%20style%3D%22width%3A%20100.0%25%3B%20height%3A%20100.0%25%3B%22%3E732%3C/div%3E%60%29%5B0%5D%3B%0A%20%20%20%20%20%20%20%20%20%20%20%20popup_add1202e4d304ae9953ae043c87ee94c.setContent%28html_93860ad4603f4851b905e6e5550e418b%29%3B%0A%20%20%20%20%20%20%20%20%0A%0A%20%20%20%20%20%20%20%20marker_274e55072415466e83ff41eb9505df69.bindPopup%28popup_add1202e4d304ae9953ae043c87ee94c%29%0A%20%20%20%20%20%20%20%20%3B%0A%0A%20%20%20%20%20%20%20%20%0A%20%20%20%20%0A%20%20%20%20%0A%20%20%20%20%20%20%20%20%20%20%20%20var%20marker_35de0f238ccc4e54b30aa1193f5c6601%20%3D%20L.marker%28%0A%20%20%20%20%20%20%20%20%20%20%20%20%20%20%20%20%5B37.475037%2C%20126.934972%5D%2C%0A%20%20%20%20%20%20%20%20%20%20%20%20%20%20%20%20%7B%22zoomStart%22%3A%2012%7D%0A%20%20%20%20%20%20%20%20%20%20%20%20%29.addTo%28marker_cluster_989990b9e92546129e063f5ea07e0309%29%3B%0A%20%20%20%20%20%20%20%20%0A%20%20%20%20%0A%20%20%20%20%20%20%20%20var%20popup_32bd39db429946b1833aec803fae3ccd%20%3D%20L.popup%28%7B%22maxWidth%22%3A%20%22100%25%22%7D%29%3B%0A%0A%20%20%20%20%20%20%20%20%0A%20%20%20%20%20%20%20%20%20%20%20%20var%20html_85aa265a4dcb456790be355c40825876%20%3D%20%24%28%60%3Cdiv%20id%3D%22html_85aa265a4dcb456790be355c40825876%22%20style%3D%22width%3A%20100.0%25%3B%20height%3A%20100.0%25%3B%22%3E959%3C/div%3E%60%29%5B0%5D%3B%0A%20%20%20%20%20%20%20%20%20%20%20%20popup_32bd39db429946b1833aec803fae3ccd.setContent%28html_85aa265a4dcb456790be355c40825876%29%3B%0A%20%20%20%20%20%20%20%20%0A%0A%20%20%20%20%20%20%20%20marker_35de0f238ccc4e54b30aa1193f5c6601.bindPopup%28popup_32bd39db429946b1833aec803fae3ccd%29%0A%20%20%20%20%20%20%20%20%3B%0A%0A%20%20%20%20%20%20%20%20%0A%20%20%20%20%0A%20%20%20%20%0A%20%20%20%20%20%20%20%20%20%20%20%20var%20marker_9b780b498ee646eaa8bddd3b795c0e35%20%3D%20L.marker%28%0A%20%20%20%20%20%20%20%20%20%20%20%20%20%20%20%20%5B37.479662%2C%20126.931311%5D%2C%0A%20%20%20%20%20%20%20%20%20%20%20%20%20%20%20%20%7B%22zoomStart%22%3A%2012%7D%0A%20%20%20%20%20%20%20%20%20%20%20%20%29.addTo%28marker_cluster_989990b9e92546129e063f5ea07e0309%29%3B%0A%20%20%20%20%20%20%20%20%0A%20%20%20%20%0A%20%20%20%20%20%20%20%20var%20popup_75af2f50cfbc47c2bf313cd248c81215%20%3D%20L.popup%28%7B%22maxWidth%22%3A%20%22100%25%22%7D%29%3B%0A%0A%20%20%20%20%20%20%20%20%0A%20%20%20%20%20%20%20%20%20%20%20%20var%20html_5928e8aeab32467b833859744cbebbe9%20%3D%20%24%28%60%3Cdiv%20id%3D%22html_5928e8aeab32467b833859744cbebbe9%22%20style%3D%22width%3A%20100.0%25%3B%20height%3A%20100.0%25%3B%22%3E2601%3C/div%3E%60%29%5B0%5D%3B%0A%20%20%20%20%20%20%20%20%20%20%20%20popup_75af2f50cfbc47c2bf313cd248c81215.setContent%28html_5928e8aeab32467b833859744cbebbe9%29%3B%0A%20%20%20%20%20%20%20%20%0A%0A%20%20%20%20%20%20%20%20marker_9b780b498ee646eaa8bddd3b795c0e35.bindPopup%28popup_75af2f50cfbc47c2bf313cd248c81215%29%0A%20%20%20%20%20%20%20%20%3B%0A%0A%20%20%20%20%20%20%20%20%0A%20%20%20%20%0A%20%20%20%20%0A%20%20%20%20%20%20%20%20%20%20%20%20var%20marker_d5f59e007055496b9959c98cb5d8b56b%20%3D%20L.marker%28%0A%20%20%20%20%20%20%20%20%20%20%20%20%20%20%20%20%5B37.489708%2C%20126.948322%5D%2C%0A%20%20%20%20%20%20%20%20%20%20%20%20%20%20%20%20%7B%22zoomStart%22%3A%2012%7D%0A%20%20%20%20%20%20%20%20%20%20%20%20%29.addTo%28marker_cluster_989990b9e92546129e063f5ea07e0309%29%3B%0A%20%20%20%20%20%20%20%20%0A%20%20%20%20%0A%20%20%20%20%20%20%20%20var%20popup_03cf9c78de8047b5bcaca8bede931527%20%3D%20L.popup%28%7B%22maxWidth%22%3A%20%22100%25%22%7D%29%3B%0A%0A%20%20%20%20%20%20%20%20%0A%20%20%20%20%20%20%20%20%20%20%20%20var%20html_cb8436800b124db08af7f3ff899d0cb0%20%3D%20%24%28%60%3Cdiv%20id%3D%22html_cb8436800b124db08af7f3ff899d0cb0%22%20style%3D%22width%3A%20100.0%25%3B%20height%3A%20100.0%25%3B%22%3E658%3C/div%3E%60%29%5B0%5D%3B%0A%20%20%20%20%20%20%20%20%20%20%20%20popup_03cf9c78de8047b5bcaca8bede931527.setContent%28html_cb8436800b124db08af7f3ff899d0cb0%29%3B%0A%20%20%20%20%20%20%20%20%0A%0A%20%20%20%20%20%20%20%20marker_d5f59e007055496b9959c98cb5d8b56b.bindPopup%28popup_03cf9c78de8047b5bcaca8bede931527%29%0A%20%20%20%20%20%20%20%20%3B%0A%0A%20%20%20%20%20%20%20%20%0A%20%20%20%20%0A%20%20%20%20%0A%20%20%20%20%20%20%20%20%20%20%20%20var%20marker_6e200da2c9c64046b2206c5bac94b1b0%20%3D%20L.marker%28%0A%20%20%20%20%20%20%20%20%20%20%20%20%20%20%20%20%5B37.492678%2C%20126.917721%5D%2C%0A%20%20%20%20%20%20%20%20%20%20%20%20%20%20%20%20%7B%22zoomStart%22%3A%2012%7D%0A%20%20%20%20%20%20%20%20%20%20%20%20%29.addTo%28marker_cluster_989990b9e92546129e063f5ea07e0309%29%3B%0A%20%20%20%20%20%20%20%20%0A%20%20%20%20%0A%20%20%20%20%20%20%20%20var%20popup_cd939c98146045cda9bdc5df5da0ed76%20%3D%20L.popup%28%7B%22maxWidth%22%3A%20%22100%25%22%7D%29%3B%0A%0A%20%20%20%20%20%20%20%20%0A%20%20%20%20%20%20%20%20%20%20%20%20var%20html_5776c2fc1da440d38524f9c8a24d2ad3%20%3D%20%24%28%60%3Cdiv%20id%3D%22html_5776c2fc1da440d38524f9c8a24d2ad3%22%20style%3D%22width%3A%20100.0%25%3B%20height%3A%20100.0%25%3B%22%3E7%3C/div%3E%60%29%5B0%5D%3B%0A%20%20%20%20%20%20%20%20%20%20%20%20popup_cd939c98146045cda9bdc5df5da0ed76.setContent%28html_5776c2fc1da440d38524f9c8a24d2ad3%29%3B%0A%20%20%20%20%20%20%20%20%0A%0A%20%20%20%20%20%20%20%20marker_6e200da2c9c64046b2206c5bac94b1b0.bindPopup%28popup_cd939c98146045cda9bdc5df5da0ed76%29%0A%20%20%20%20%20%20%20%20%3B%0A%0A%20%20%20%20%20%20%20%20%0A%20%20%20%20%0A%20%20%20%20%0A%20%20%20%20%20%20%20%20%20%20%20%20var%20marker_cbb3a10fdbf54d9c9f2606dcd37b3807%20%3D%20L.marker%28%0A%20%20%20%20%20%20%20%20%20%20%20%20%20%20%20%20%5B37.463204%2C%20126.935795%5D%2C%0A%20%20%20%20%20%20%20%20%20%20%20%20%20%20%20%20%7B%22zoomStart%22%3A%2012%7D%0A%20%20%20%20%20%20%20%20%20%20%20%20%29.addTo%28marker_cluster_989990b9e92546129e063f5ea07e0309%29%3B%0A%20%20%20%20%20%20%20%20%0A%20%20%20%20%0A%20%20%20%20%20%20%20%20var%20popup_f117cedd8ee44e3c8044ecc3d39ccb6d%20%3D%20L.popup%28%7B%22maxWidth%22%3A%20%22100%25%22%7D%29%3B%0A%0A%20%20%20%20%20%20%20%20%0A%20%20%20%20%20%20%20%20%20%20%20%20var%20html_f4ad3e904d8e4552b2d7963d82b009d9%20%3D%20%24%28%60%3Cdiv%20id%3D%22html_f4ad3e904d8e4552b2d7963d82b009d9%22%20style%3D%22width%3A%20100.0%25%3B%20height%3A%20100.0%25%3B%22%3E28053%3C/div%3E%60%29%5B0%5D%3B%0A%20%20%20%20%20%20%20%20%20%20%20%20popup_f117cedd8ee44e3c8044ecc3d39ccb6d.setContent%28html_f4ad3e904d8e4552b2d7963d82b009d9%29%3B%0A%20%20%20%20%20%20%20%20%0A%0A%20%20%20%20%20%20%20%20marker_cbb3a10fdbf54d9c9f2606dcd37b3807.bindPopup%28popup_f117cedd8ee44e3c8044ecc3d39ccb6d%29%0A%20%20%20%20%20%20%20%20%3B%0A%0A%20%20%20%20%20%20%20%20%0A%20%20%20%20%0A%20%20%20%20%0A%20%20%20%20%20%20%20%20%20%20%20%20var%20marker_1a4d0d56a2ca4f89b163d16b410389a8%20%3D%20L.marker%28%0A%20%20%20%20%20%20%20%20%20%20%20%20%20%20%20%20%5B37.485479%2C%20126.918044%5D%2C%0A%20%20%20%20%20%20%20%20%20%20%20%20%20%20%20%20%7B%22zoomStart%22%3A%2012%7D%0A%20%20%20%20%20%20%20%20%20%20%20%20%29.addTo%28marker_cluster_989990b9e92546129e063f5ea07e0309%29%3B%0A%20%20%20%20%20%20%20%20%0A%20%20%20%20%0A%20%20%20%20%20%20%20%20var%20popup_0468ca414c3b440194de28306845742f%20%3D%20L.popup%28%7B%22maxWidth%22%3A%20%22100%25%22%7D%29%3B%0A%0A%20%20%20%20%20%20%20%20%0A%20%20%20%20%20%20%20%20%20%20%20%20var%20html_e833914cd30e4b73be024e56c0f46dd8%20%3D%20%24%28%60%3Cdiv%20id%3D%22html_e833914cd30e4b73be024e56c0f46dd8%22%20style%3D%22width%3A%20100.0%25%3B%20height%3A%20100.0%25%3B%22%3E2522%3C/div%3E%60%29%5B0%5D%3B%0A%20%20%20%20%20%20%20%20%20%20%20%20popup_0468ca414c3b440194de28306845742f.setContent%28html_e833914cd30e4b73be024e56c0f46dd8%29%3B%0A%20%20%20%20%20%20%20%20%0A%0A%20%20%20%20%20%20%20%20marker_1a4d0d56a2ca4f89b163d16b410389a8.bindPopup%28popup_0468ca414c3b440194de28306845742f%29%0A%20%20%20%20%20%20%20%20%3B%0A%0A%20%20%20%20%20%20%20%20%0A%20%20%20%20%0A%20%20%20%20%0A%20%20%20%20%20%20%20%20%20%20%20%20var%20marker_22671f7981d34acd8fc4ae64ec2860d7%20%3D%20L.marker%28%0A%20%20%20%20%20%20%20%20%20%20%20%20%20%20%20%20%5B37.481698%2C%20126.927268%5D%2C%0A%20%20%20%20%20%20%20%20%20%20%20%20%20%20%20%20%7B%22zoomStart%22%3A%2012%7D%0A%20%20%20%20%20%20%20%20%20%20%20%20%29.addTo%28marker_cluster_989990b9e92546129e063f5ea07e0309%29%3B%0A%20%20%20%20%20%20%20%20%0A%20%20%20%20%0A%20%20%20%20%20%20%20%20var%20popup_2236f446ba9c4d6390e5f76285d0703b%20%3D%20L.popup%28%7B%22maxWidth%22%3A%20%22100%25%22%7D%29%3B%0A%0A%20%20%20%20%20%20%20%20%0A%20%20%20%20%20%20%20%20%20%20%20%20var%20html_646a57a6976b49cfb024b9db211703ff%20%3D%20%24%28%60%3Cdiv%20id%3D%22html_646a57a6976b49cfb024b9db211703ff%22%20style%3D%22width%3A%20100.0%25%3B%20height%3A%20100.0%25%3B%22%3E2191%3C/div%3E%60%29%5B0%5D%3B%0A%20%20%20%20%20%20%20%20%20%20%20%20popup_2236f446ba9c4d6390e5f76285d0703b.setContent%28html_646a57a6976b49cfb024b9db211703ff%29%3B%0A%20%20%20%20%20%20%20%20%0A%0A%20%20%20%20%20%20%20%20marker_22671f7981d34acd8fc4ae64ec2860d7.bindPopup%28popup_2236f446ba9c4d6390e5f76285d0703b%29%0A%20%20%20%20%20%20%20%20%3B%0A%0A%20%20%20%20%20%20%20%20%0A%20%20%20%20%0A%20%20%20%20%0A%20%20%20%20%20%20%20%20%20%20%20%20var%20marker_a89a85c695ca433ab60dccd1aeac2384%20%3D%20L.marker%28%0A%20%20%20%20%20%20%20%20%20%20%20%20%20%20%20%20%5B37.485376%2C%20126.942503%5D%2C%0A%20%20%20%20%20%20%20%20%20%20%20%20%20%20%20%20%7B%22zoomStart%22%3A%2012%7D%0A%20%20%20%20%20%20%20%20%20%20%20%20%29.addTo%28marker_cluster_989990b9e92546129e063f5ea07e0309%29%3B%0A%20%20%20%20%20%20%20%20%0A%20%20%20%20%0A%20%20%20%20%20%20%20%20var%20popup_9415d6ae69774dafb1fbe7fea8da0a5c%20%3D%20L.popup%28%7B%22maxWidth%22%3A%20%22100%25%22%7D%29%3B%0A%0A%20%20%20%20%20%20%20%20%0A%20%20%20%20%20%20%20%20%20%20%20%20var%20html_d9adddd0dd2c476a8b134b0fb453770a%20%3D%20%24%28%60%3Cdiv%20id%3D%22html_d9adddd0dd2c476a8b134b0fb453770a%22%20style%3D%22width%3A%20100.0%25%3B%20height%3A%20100.0%25%3B%22%3E1909%3C/div%3E%60%29%5B0%5D%3B%0A%20%20%20%20%20%20%20%20%20%20%20%20popup_9415d6ae69774dafb1fbe7fea8da0a5c.setContent%28html_d9adddd0dd2c476a8b134b0fb453770a%29%3B%0A%20%20%20%20%20%20%20%20%0A%0A%20%20%20%20%20%20%20%20marker_a89a85c695ca433ab60dccd1aeac2384.bindPopup%28popup_9415d6ae69774dafb1fbe7fea8da0a5c%29%0A%20%20%20%20%20%20%20%20%3B%0A%0A%20%20%20%20%20%20%20%20%0A%20%20%20%20%0A%20%20%20%20%0A%20%20%20%20%20%20%20%20%20%20%20%20var%20marker_b1b07c0bcbe846b1b19405b0bf744a37%20%3D%20L.marker%28%0A%20%20%20%20%20%20%20%20%20%20%20%20%20%20%20%20%5B37.475126%2C%20126.965259%5D%2C%0A%20%20%20%20%20%20%20%20%20%20%20%20%20%20%20%20%7B%22zoomStart%22%3A%2012%7D%0A%20%20%20%20%20%20%20%20%20%20%20%20%29.addTo%28marker_cluster_989990b9e92546129e063f5ea07e0309%29%3B%0A%20%20%20%20%20%20%20%20%0A%20%20%20%20%0A%20%20%20%20%20%20%20%20var%20popup_cff7f3ddfd6c423e987394767a9e92f1%20%3D%20L.popup%28%7B%22maxWidth%22%3A%20%22100%25%22%7D%29%3B%0A%0A%20%20%20%20%20%20%20%20%0A%20%20%20%20%20%20%20%20%20%20%20%20var%20html_d24974be261f43eeb03004eb0edd0295%20%3D%20%24%28%60%3Cdiv%20id%3D%22html_d24974be261f43eeb03004eb0edd0295%22%20style%3D%22width%3A%20100.0%25%3B%20height%3A%20100.0%25%3B%22%3E3966%3C/div%3E%60%29%5B0%5D%3B%0A%20%20%20%20%20%20%20%20%20%20%20%20popup_cff7f3ddfd6c423e987394767a9e92f1.setContent%28html_d24974be261f43eeb03004eb0edd0295%29%3B%0A%20%20%20%20%20%20%20%20%0A%0A%20%20%20%20%20%20%20%20marker_b1b07c0bcbe846b1b19405b0bf744a37.bindPopup%28popup_cff7f3ddfd6c423e987394767a9e92f1%29%0A%20%20%20%20%20%20%20%20%3B%0A%0A%20%20%20%20%20%20%20%20%0A%20%20%20%20%0A%20%20%20%20%0A%20%20%20%20%20%20%20%20%20%20%20%20var%20marker_4c13b3b6f25547d7b4f79e6b7f8f0075%20%3D%20L.marker%28%0A%20%20%20%20%20%20%20%20%20%20%20%20%20%20%20%20%5B37.482592%2C%20126.907808%5D%2C%0A%20%20%20%20%20%20%20%20%20%20%20%20%20%20%20%20%7B%22zoomStart%22%3A%2012%7D%0A%20%20%20%20%20%20%20%20%20%20%20%20%29.addTo%28marker_cluster_989990b9e92546129e063f5ea07e0309%29%3B%0A%20%20%20%20%20%20%20%20%0A%20%20%20%20%0A%20%20%20%20%20%20%20%20var%20popup_e331ce329a854fb1ad76c1a865a15b8f%20%3D%20L.popup%28%7B%22maxWidth%22%3A%20%22100%25%22%7D%29%3B%0A%0A%20%20%20%20%20%20%20%20%0A%20%20%20%20%20%20%20%20%20%20%20%20var%20html_257da6f1d3564237a220c243918d0721%20%3D%20%24%28%60%3Cdiv%20id%3D%22html_257da6f1d3564237a220c243918d0721%22%20style%3D%22width%3A%20100.0%25%3B%20height%3A%20100.0%25%3B%22%3E4966%3C/div%3E%60%29%5B0%5D%3B%0A%20%20%20%20%20%20%20%20%20%20%20%20popup_e331ce329a854fb1ad76c1a865a15b8f.setContent%28html_257da6f1d3564237a220c243918d0721%29%3B%0A%20%20%20%20%20%20%20%20%0A%0A%20%20%20%20%20%20%20%20marker_4c13b3b6f25547d7b4f79e6b7f8f0075.bindPopup%28popup_e331ce329a854fb1ad76c1a865a15b8f%29%0A%20%20%20%20%20%20%20%20%3B%0A%0A%20%20%20%20%20%20%20%20%0A%20%20%20%20%0A%20%20%20%20%0A%20%20%20%20%20%20%20%20%20%20%20%20var%20marker_703aad2cb7934e15b3171c5b9dc6864c%20%3D%20L.marker%28%0A%20%20%20%20%20%20%20%20%20%20%20%20%20%20%20%20%5B37.484016%2C%20126.949645%5D%2C%0A%20%20%20%20%20%20%20%20%20%20%20%20%20%20%20%20%7B%22zoomStart%22%3A%2012%7D%0A%20%20%20%20%20%20%20%20%20%20%20%20%29.addTo%28marker_cluster_989990b9e92546129e063f5ea07e0309%29%3B%0A%20%20%20%20%20%20%20%20%0A%20%20%20%20%0A%20%20%20%20%20%20%20%20var%20popup_825f625a93924edcb14fe3208e75d491%20%3D%20L.popup%28%7B%22maxWidth%22%3A%20%22100%25%22%7D%29%3B%0A%0A%20%20%20%20%20%20%20%20%0A%20%20%20%20%20%20%20%20%20%20%20%20var%20html_c3afa3b8e75b4f7fb922c4aefa2194c5%20%3D%20%24%28%60%3Cdiv%20id%3D%22html_c3afa3b8e75b4f7fb922c4aefa2194c5%22%20style%3D%22width%3A%20100.0%25%3B%20height%3A%20100.0%25%3B%22%3E1081%3C/div%3E%60%29%5B0%5D%3B%0A%20%20%20%20%20%20%20%20%20%20%20%20popup_825f625a93924edcb14fe3208e75d491.setContent%28html_c3afa3b8e75b4f7fb922c4aefa2194c5%29%3B%0A%20%20%20%20%20%20%20%20%0A%0A%20%20%20%20%20%20%20%20marker_703aad2cb7934e15b3171c5b9dc6864c.bindPopup%28popup_825f625a93924edcb14fe3208e75d491%29%0A%20%20%20%20%20%20%20%20%3B%0A%0A%20%20%20%20%20%20%20%20%0A%20%20%20%20%0A%20%20%20%20%0A%20%20%20%20%20%20%20%20%20%20%20%20var%20marker_bd96c8e1724a4e28b4dc84da36b02466%20%3D%20L.marker%28%0A%20%20%20%20%20%20%20%20%20%20%20%20%20%20%20%20%5B37.479143%2C%20126.941675%5D%2C%0A%20%20%20%20%20%20%20%20%20%20%20%20%20%20%20%20%7B%22zoomStart%22%3A%2012%7D%0A%20%20%20%20%20%20%20%20%20%20%20%20%29.addTo%28marker_cluster_989990b9e92546129e063f5ea07e0309%29%3B%0A%20%20%20%20%20%20%20%20%0A%20%20%20%20%0A%20%20%20%20%20%20%20%20var%20popup_043f3845b7f14649b2eef8939265fce7%20%3D%20L.popup%28%7B%22maxWidth%22%3A%20%22100%25%22%7D%29%3B%0A%0A%20%20%20%20%20%20%20%20%0A%20%20%20%20%20%20%20%20%20%20%20%20var%20html_b129d174ab49489f9ab146adbd01cc77%20%3D%20%24%28%60%3Cdiv%20id%3D%22html_b129d174ab49489f9ab146adbd01cc77%22%20style%3D%22width%3A%20100.0%25%3B%20height%3A%20100.0%25%3B%22%3E2394%3C/div%3E%60%29%5B0%5D%3B%0A%20%20%20%20%20%20%20%20%20%20%20%20popup_043f3845b7f14649b2eef8939265fce7.setContent%28html_b129d174ab49489f9ab146adbd01cc77%29%3B%0A%20%20%20%20%20%20%20%20%0A%0A%20%20%20%20%20%20%20%20marker_bd96c8e1724a4e28b4dc84da36b02466.bindPopup%28popup_043f3845b7f14649b2eef8939265fce7%29%0A%20%20%20%20%20%20%20%20%3B%0A%0A%20%20%20%20%20%20%20%20%0A%20%20%20%20%0A%20%20%20%20%0A%20%20%20%20%20%20%20%20%20%20%20%20var%20marker_ed8dffdb393147d99ed7f1cc8e83cd18%20%3D%20L.marker%28%0A%20%20%20%20%20%20%20%20%20%20%20%20%20%20%20%20%5B37.491928%2C%20126.958841%5D%2C%0A%20%20%20%20%20%20%20%20%20%20%20%20%20%20%20%20%7B%22zoomStart%22%3A%2012%7D%0A%20%20%20%20%20%20%20%20%20%20%20%20%29.addTo%28marker_cluster_989990b9e92546129e063f5ea07e0309%29%3B%0A%20%20%20%20%20%20%20%20%0A%20%20%20%20%0A%20%20%20%20%20%20%20%20var%20popup_4d1fc3182e454009a4ddcd8bfc84fcc0%20%3D%20L.popup%28%7B%22maxWidth%22%3A%20%22100%25%22%7D%29%3B%0A%0A%20%20%20%20%20%20%20%20%0A%20%20%20%20%20%20%20%20%20%20%20%20var%20html_1d4cd55f0e8b4f6dbd6d4525c46b9d1d%20%3D%20%24%28%60%3Cdiv%20id%3D%22html_1d4cd55f0e8b4f6dbd6d4525c46b9d1d%22%20style%3D%22width%3A%20100.0%25%3B%20height%3A%20100.0%25%3B%22%3E444%3C/div%3E%60%29%5B0%5D%3B%0A%20%20%20%20%20%20%20%20%20%20%20%20popup_4d1fc3182e454009a4ddcd8bfc84fcc0.setContent%28html_1d4cd55f0e8b4f6dbd6d4525c46b9d1d%29%3B%0A%20%20%20%20%20%20%20%20%0A%0A%20%20%20%20%20%20%20%20marker_ed8dffdb393147d99ed7f1cc8e83cd18.bindPopup%28popup_4d1fc3182e454009a4ddcd8bfc84fcc0%29%0A%20%20%20%20%20%20%20%20%3B%0A%0A%20%20%20%20%20%20%20%20%0A%20%20%20%20%0A%20%20%20%20%0A%20%20%20%20%20%20%20%20%20%20%20%20var%20marker_d325a1065b114b4487928384fdd4a79b%20%3D%20L.marker%28%0A%20%20%20%20%20%20%20%20%20%20%20%20%20%20%20%20%5B37.480738%2C%20126.95695%5D%2C%0A%20%20%20%20%20%20%20%20%20%20%20%20%20%20%20%20%7B%22zoomStart%22%3A%2012%7D%0A%20%20%20%20%20%20%20%20%20%20%20%20%29.addTo%28marker_cluster_989990b9e92546129e063f5ea07e0309%29%3B%0A%20%20%20%20%20%20%20%20%0A%20%20%20%20%0A%20%20%20%20%20%20%20%20var%20popup_891e520a6d6e4dd9844eebc84a38f5c3%20%3D%20L.popup%28%7B%22maxWidth%22%3A%20%22100%25%22%7D%29%3B%0A%0A%20%20%20%20%20%20%20%20%0A%20%20%20%20%20%20%20%20%20%20%20%20var%20html_3657beb267ca420b8abd2029a76a3a00%20%3D%20%24%28%60%3Cdiv%20id%3D%22html_3657beb267ca420b8abd2029a76a3a00%22%20style%3D%22width%3A%20100.0%25%3B%20height%3A%20100.0%25%3B%22%3E2095%3C/div%3E%60%29%5B0%5D%3B%0A%20%20%20%20%20%20%20%20%20%20%20%20popup_891e520a6d6e4dd9844eebc84a38f5c3.setContent%28html_3657beb267ca420b8abd2029a76a3a00%29%3B%0A%20%20%20%20%20%20%20%20%0A%0A%20%20%20%20%20%20%20%20marker_d325a1065b114b4487928384fdd4a79b.bindPopup%28popup_891e520a6d6e4dd9844eebc84a38f5c3%29%0A%20%20%20%20%20%20%20%20%3B%0A%0A%20%20%20%20%20%20%20%20%0A%20%20%20%20%0A%20%20%20%20%0A%20%20%20%20%20%20%20%20%20%20%20%20var%20marker_cfa7d492a314477babd80e0324558878%20%3D%20L.marker%28%0A%20%20%20%20%20%20%20%20%20%20%20%20%20%20%20%20%5B37.47826%2C%20127.052024%5D%2C%0A%20%20%20%20%20%20%20%20%20%20%20%20%20%20%20%20%7B%22zoomStart%22%3A%2012%7D%0A%20%20%20%20%20%20%20%20%20%20%20%20%29.addTo%28marker_cluster_989990b9e92546129e063f5ea07e0309%29%3B%0A%20%20%20%20%20%20%20%20%0A%20%20%20%20%0A%20%20%20%20%20%20%20%20var%20popup_6703eafe8b8c4b6a9758fc21c676ec53%20%3D%20L.popup%28%7B%22maxWidth%22%3A%20%22100%25%22%7D%29%3B%0A%0A%20%20%20%20%20%20%20%20%0A%20%20%20%20%20%20%20%20%20%20%20%20var%20html_a43af74ac174415bbebd14bd0d307f78%20%3D%20%24%28%60%3Cdiv%20id%3D%22html_a43af74ac174415bbebd14bd0d307f78%22%20style%3D%22width%3A%20100.0%25%3B%20height%3A%20100.0%25%3B%22%3E4581%3C/div%3E%60%29%5B0%5D%3B%0A%20%20%20%20%20%20%20%20%20%20%20%20popup_6703eafe8b8c4b6a9758fc21c676ec53.setContent%28html_a43af74ac174415bbebd14bd0d307f78%29%3B%0A%20%20%20%20%20%20%20%20%0A%0A%20%20%20%20%20%20%20%20marker_cfa7d492a314477babd80e0324558878.bindPopup%28popup_6703eafe8b8c4b6a9758fc21c676ec53%29%0A%20%20%20%20%20%20%20%20%3B%0A%0A%20%20%20%20%20%20%20%20%0A%20%20%20%20%0A%20%20%20%20%0A%20%20%20%20%20%20%20%20%20%20%20%20var%20marker_6186f50bb29c47348004013a719b4c62%20%3D%20L.marker%28%0A%20%20%20%20%20%20%20%20%20%20%20%20%20%20%20%20%5B37.513093%2C%20127.031353%5D%2C%0A%20%20%20%20%20%20%20%20%20%20%20%20%20%20%20%20%7B%22zoomStart%22%3A%2012%7D%0A%20%20%20%20%20%20%20%20%20%20%20%20%29.addTo%28marker_cluster_989990b9e92546129e063f5ea07e0309%29%3B%0A%20%20%20%20%20%20%20%20%0A%20%20%20%20%0A%20%20%20%20%20%20%20%20var%20popup_7c28a0474cb4478b9616a0758e2d36be%20%3D%20L.popup%28%7B%22maxWidth%22%3A%20%22100%25%22%7D%29%3B%0A%0A%20%20%20%20%20%20%20%20%0A%20%20%20%20%20%20%20%20%20%20%20%20var%20html_46456017d083470c82714681dc2f761d%20%3D%20%24%28%60%3Cdiv%20id%3D%22html_46456017d083470c82714681dc2f761d%22%20style%3D%22width%3A%20100.0%25%3B%20height%3A%20100.0%25%3B%22%3E27407%3C/div%3E%60%29%5B0%5D%3B%0A%20%20%20%20%20%20%20%20%20%20%20%20popup_7c28a0474cb4478b9616a0758e2d36be.setContent%28html_46456017d083470c82714681dc2f761d%29%3B%0A%20%20%20%20%20%20%20%20%0A%0A%20%20%20%20%20%20%20%20marker_6186f50bb29c47348004013a719b4c62.bindPopup%28popup_7c28a0474cb4478b9616a0758e2d36be%29%0A%20%20%20%20%20%20%20%20%3B%0A%0A%20%20%20%20%20%20%20%20%0A%20%20%20%20%0A%20%20%20%20%0A%20%20%20%20%20%20%20%20%20%20%20%20var%20marker_42af7fffb43748baabe24ace7a8adb8b%20%3D%20L.marker%28%0A%20%20%20%20%20%20%20%20%20%20%20%20%20%20%20%20%5B37.501711%2C%20127.057851%5D%2C%0A%20%20%20%20%20%20%20%20%20%20%20%20%20%20%20%20%7B%22zoomStart%22%3A%2012%7D%0A%20%20%20%20%20%20%20%20%20%20%20%20%29.addTo%28marker_cluster_989990b9e92546129e063f5ea07e0309%29%3B%0A%20%20%20%20%20%20%20%20%0A%20%20%20%20%0A%20%20%20%20%20%20%20%20var%20popup_1521adb164ed4680999d857713452229%20%3D%20L.popup%28%7B%22maxWidth%22%3A%20%22100%25%22%7D%29%3B%0A%0A%20%20%20%20%20%20%20%20%0A%20%20%20%20%20%20%20%20%20%20%20%20var%20html_14157c602f0942fa9423385fb1720ee1%20%3D%20%24%28%60%3Cdiv%20id%3D%22html_14157c602f0942fa9423385fb1720ee1%22%20style%3D%22width%3A%20100.0%25%3B%20height%3A%20100.0%25%3B%22%3E24356%3C/div%3E%60%29%5B0%5D%3B%0A%20%20%20%20%20%20%20%20%20%20%20%20popup_1521adb164ed4680999d857713452229.setContent%28html_14157c602f0942fa9423385fb1720ee1%29%3B%0A%20%20%20%20%20%20%20%20%0A%0A%20%20%20%20%20%20%20%20marker_42af7fffb43748baabe24ace7a8adb8b.bindPopup%28popup_1521adb164ed4680999d857713452229%29%0A%20%20%20%20%20%20%20%20%3B%0A%0A%20%20%20%20%20%20%20%20%0A%20%20%20%20%0A%20%20%20%20%0A%20%20%20%20%20%20%20%20%20%20%20%20var%20marker_abfc8b0b963a41a09d68d49474ff3802%20%3D%20L.marker%28%0A%20%20%20%20%20%20%20%20%20%20%20%20%20%20%20%20%5B37.486509%2C%20127.040738%5D%2C%0A%20%20%20%20%20%20%20%20%20%20%20%20%20%20%20%20%7B%22zoomStart%22%3A%2012%7D%0A%20%20%20%20%20%20%20%20%20%20%20%20%29.addTo%28marker_cluster_989990b9e92546129e063f5ea07e0309%29%3B%0A%20%20%20%20%20%20%20%20%0A%20%20%20%20%0A%20%20%20%20%20%20%20%20var%20popup_f6b4098644e144139b705cd014a211c1%20%3D%20L.popup%28%7B%22maxWidth%22%3A%20%22100%25%22%7D%29%3B%0A%0A%20%20%20%20%20%20%20%20%0A%20%20%20%20%20%20%20%20%20%20%20%20var%20html_4a11566b81484b0ea291f970435d4706%20%3D%20%24%28%60%3Cdiv%20id%3D%22html_4a11566b81484b0ea291f970435d4706%22%20style%3D%22width%3A%20100.0%25%3B%20height%3A%20100.0%25%3B%22%3E3986%3C/div%3E%60%29%5B0%5D%3B%0A%20%20%20%20%20%20%20%20%20%20%20%20popup_f6b4098644e144139b705cd014a211c1.setContent%28html_4a11566b81484b0ea291f970435d4706%29%3B%0A%20%20%20%20%20%20%20%20%0A%0A%20%20%20%20%20%20%20%20marker_abfc8b0b963a41a09d68d49474ff3802.bindPopup%28popup_f6b4098644e144139b705cd014a211c1%29%0A%20%20%20%20%20%20%20%20%3B%0A%0A%20%20%20%20%20%20%20%20%0A%20%20%20%20%0A%20%20%20%20%0A%20%20%20%20%20%20%20%20%20%20%20%20var%20marker_cd3926caeb7a4674aad7c3b17e170d38%20%3D%20L.marker%28%0A%20%20%20%20%20%20%20%20%20%20%20%20%20%20%20%20%5B37.512792%2C%20127.053085%5D%2C%0A%20%20%20%20%20%20%20%20%20%20%20%20%20%20%20%20%7B%22zoomStart%22%3A%2012%7D%0A%20%20%20%20%20%20%20%20%20%20%20%20%29.addTo%28marker_cluster_989990b9e92546129e063f5ea07e0309%29%3B%0A%20%20%20%20%20%20%20%20%0A%20%20%20%20%0A%20%20%20%20%20%20%20%20var%20popup_043e9eae39654c01bda2996c0ebbef5b%20%3D%20L.popup%28%7B%22maxWidth%22%3A%20%22100%25%22%7D%29%3B%0A%0A%20%20%20%20%20%20%20%20%0A%20%20%20%20%20%20%20%20%20%20%20%20var%20html_2f541a14c259458ea5f20b64f0ae668d%20%3D%20%24%28%60%3Cdiv%20id%3D%22html_2f541a14c259458ea5f20b64f0ae668d%22%20style%3D%22width%3A%20100.0%25%3B%20height%3A%20100.0%25%3B%22%3E15740%3C/div%3E%60%29%5B0%5D%3B%0A%20%20%20%20%20%20%20%20%20%20%20%20popup_043e9eae39654c01bda2996c0ebbef5b.setContent%28html_2f541a14c259458ea5f20b64f0ae668d%29%3B%0A%20%20%20%20%20%20%20%20%0A%0A%20%20%20%20%20%20%20%20marker_cd3926caeb7a4674aad7c3b17e170d38.bindPopup%28popup_043e9eae39654c01bda2996c0ebbef5b%29%0A%20%20%20%20%20%20%20%20%3B%0A%0A%20%20%20%20%20%20%20%20%0A%20%20%20%20%0A%20%20%20%20%0A%20%20%20%20%20%20%20%20%20%20%20%20var%20marker_f66a6e2c963748ff9a5004121dbd4b52%20%3D%20L.marker%28%0A%20%20%20%20%20%20%20%20%20%20%20%20%20%20%20%20%5B37.466494%2C%20127.103021%5D%2C%0A%20%20%20%20%20%20%20%20%20%20%20%20%20%20%20%20%7B%22zoomStart%22%3A%2012%7D%0A%20%20%20%20%20%20%20%20%20%20%20%20%29.addTo%28marker_cluster_989990b9e92546129e063f5ea07e0309%29%3B%0A%20%20%20%20%20%20%20%20%0A%20%20%20%20%0A%20%20%20%20%20%20%20%20var%20popup_c4c2338f4eca45eba3751f7134b97eaa%20%3D%20L.popup%28%7B%22maxWidth%22%3A%20%22100%25%22%7D%29%3B%0A%0A%20%20%20%20%20%20%20%20%0A%20%20%20%20%20%20%20%20%20%20%20%20var%20html_348589de54734fb4b499c5649d568601%20%3D%20%24%28%60%3Cdiv%20id%3D%22html_348589de54734fb4b499c5649d568601%22%20style%3D%22width%3A%20100.0%25%3B%20height%3A%20100.0%25%3B%22%3E2598%3C/div%3E%60%29%5B0%5D%3B%0A%20%20%20%20%20%20%20%20%20%20%20%20popup_c4c2338f4eca45eba3751f7134b97eaa.setContent%28html_348589de54734fb4b499c5649d568601%29%3B%0A%20%20%20%20%20%20%20%20%0A%0A%20%20%20%20%20%20%20%20marker_f66a6e2c963748ff9a5004121dbd4b52.bindPopup%28popup_c4c2338f4eca45eba3751f7134b97eaa%29%0A%20%20%20%20%20%20%20%20%3B%0A%0A%20%20%20%20%20%20%20%20%0A%20%20%20%20%0A%20%20%20%20%0A%20%20%20%20%20%20%20%20%20%20%20%20var%20marker_c98d7b81cad3447790fc50f494348453%20%3D%20L.marker%28%0A%20%20%20%20%20%20%20%20%20%20%20%20%20%20%20%20%5B37.485767%2C%20127.098137%5D%2C%0A%20%20%20%20%20%20%20%20%20%20%20%20%20%20%20%20%7B%22zoomStart%22%3A%2012%7D%0A%20%20%20%20%20%20%20%20%20%20%20%20%29.addTo%28marker_cluster_989990b9e92546129e063f5ea07e0309%29%3B%0A%20%20%20%20%20%20%20%20%0A%20%20%20%20%0A%20%20%20%20%20%20%20%20var%20popup_92dcf50ff24b475bb9196365bbaa25a6%20%3D%20L.popup%28%7B%22maxWidth%22%3A%20%22100%25%22%7D%29%3B%0A%0A%20%20%20%20%20%20%20%20%0A%20%20%20%20%20%20%20%20%20%20%20%20var%20html_6660b424c58a44d480ebf8e8cc14d2f5%20%3D%20%24%28%60%3Cdiv%20id%3D%22html_6660b424c58a44d480ebf8e8cc14d2f5%22%20style%3D%22width%3A%20100.0%25%3B%20height%3A%20100.0%25%3B%22%3E5003%3C/div%3E%60%29%5B0%5D%3B%0A%20%20%20%20%20%20%20%20%20%20%20%20popup_92dcf50ff24b475bb9196365bbaa25a6.setContent%28html_6660b424c58a44d480ebf8e8cc14d2f5%29%3B%0A%20%20%20%20%20%20%20%20%0A%0A%20%20%20%20%20%20%20%20marker_c98d7b81cad3447790fc50f494348453.bindPopup%28popup_92dcf50ff24b475bb9196365bbaa25a6%29%0A%20%20%20%20%20%20%20%20%3B%0A%0A%20%20%20%20%20%20%20%20%0A%20%20%20%20%0A%20%20%20%20%0A%20%20%20%20%20%20%20%20%20%20%20%20var%20marker_a2b2ef41ca2e4b399c7ab6eb0118100f%20%3D%20L.marker%28%0A%20%20%20%20%20%20%20%20%20%20%20%20%20%20%20%20%5B37.522893%2C%20127.028589%5D%2C%0A%20%20%20%20%20%20%20%20%20%20%20%20%20%20%20%20%7B%22zoomStart%22%3A%2012%7D%0A%20%20%20%20%20%20%20%20%20%20%20%20%29.addTo%28marker_cluster_989990b9e92546129e063f5ea07e0309%29%3B%0A%20%20%20%20%20%20%20%20%0A%20%20%20%20%0A%20%20%20%20%20%20%20%20var%20popup_1925728b059d473fa4a9aedc6495085f%20%3D%20L.popup%28%7B%22maxWidth%22%3A%20%22100%25%22%7D%29%3B%0A%0A%20%20%20%20%20%20%20%20%0A%20%20%20%20%20%20%20%20%20%20%20%20var%20html_a5d767d55dc445b89a95f8b61ca3346e%20%3D%20%24%28%60%3Cdiv%20id%3D%22html_a5d767d55dc445b89a95f8b61ca3346e%22%20style%3D%22width%3A%20100.0%25%3B%20height%3A%20100.0%25%3B%22%3E15494%3C/div%3E%60%29%5B0%5D%3B%0A%20%20%20%20%20%20%20%20%20%20%20%20popup_1925728b059d473fa4a9aedc6495085f.setContent%28html_a5d767d55dc445b89a95f8b61ca3346e%29%3B%0A%20%20%20%20%20%20%20%20%0A%0A%20%20%20%20%20%20%20%20marker_a2b2ef41ca2e4b399c7ab6eb0118100f.bindPopup%28popup_1925728b059d473fa4a9aedc6495085f%29%0A%20%20%20%20%20%20%20%20%3B%0A%0A%20%20%20%20%20%20%20%20%0A%20%20%20%20%0A%20%20%20%20%0A%20%20%20%20%20%20%20%20%20%20%20%20var%20marker_530afa5cb8cd43c5a8feda9abad8c6e6%20%3D%20L.marker%28%0A%20%20%20%20%20%20%20%20%20%20%20%20%20%20%20%20%5B37.528752%2C%20127.031766%5D%2C%0A%20%20%20%20%20%20%20%20%20%20%20%20%20%20%20%20%7B%22zoomStart%22%3A%2012%7D%0A%20%20%20%20%20%20%20%20%20%20%20%20%29.addTo%28marker_cluster_989990b9e92546129e063f5ea07e0309%29%3B%0A%20%20%20%20%20%20%20%20%0A%20%20%20%20%0A%20%20%20%20%20%20%20%20var%20popup_d16f294fada749759e93570a07bee6ab%20%3D%20L.popup%28%7B%22maxWidth%22%3A%20%22100%25%22%7D%29%3B%0A%0A%20%20%20%20%20%20%20%20%0A%20%20%20%20%20%20%20%20%20%20%20%20var%20html_188651fc2af8402ebb2ed58eb3b5a03c%20%3D%20%24%28%60%3Cdiv%20id%3D%22html_188651fc2af8402ebb2ed58eb3b5a03c%22%20style%3D%22width%3A%20100.0%25%3B%20height%3A%20100.0%25%3B%22%3E5730%3C/div%3E%60%29%5B0%5D%3B%0A%20%20%20%20%20%20%20%20%20%20%20%20popup_d16f294fada749759e93570a07bee6ab.setContent%28html_188651fc2af8402ebb2ed58eb3b5a03c%29%3B%0A%20%20%20%20%20%20%20%20%0A%0A%20%20%20%20%20%20%20%20marker_530afa5cb8cd43c5a8feda9abad8c6e6.bindPopup%28popup_d16f294fada749759e93570a07bee6ab%29%0A%20%20%20%20%20%20%20%20%3B%0A%0A%20%20%20%20%20%20%20%20%0A%20%20%20%20%0A%20%20%20%20%0A%20%20%20%20%20%20%20%20%20%20%20%20var%20marker_58db517d40454617866338e7b992f732%20%3D%20L.marker%28%0A%20%20%20%20%20%20%20%20%20%20%20%20%20%20%20%20%5B37.500335%2C%20127.037596%5D%2C%0A%20%20%20%20%20%20%20%20%20%20%20%20%20%20%20%20%7B%22zoomStart%22%3A%2012%7D%0A%20%20%20%20%20%20%20%20%20%20%20%20%29.addTo%28marker_cluster_989990b9e92546129e063f5ea07e0309%29%3B%0A%20%20%20%20%20%20%20%20%0A%20%20%20%20%0A%20%20%20%20%20%20%20%20var%20popup_b12726baccbd4932b670e5b439d5dc54%20%3D%20L.popup%28%7B%22maxWidth%22%3A%20%22100%25%22%7D%29%3B%0A%0A%20%20%20%20%20%20%20%20%0A%20%20%20%20%20%20%20%20%20%20%20%20var%20html_78fad3506ed94d3fb1b0a57998621df9%20%3D%20%24%28%60%3Cdiv%20id%3D%22html_78fad3506ed94d3fb1b0a57998621df9%22%20style%3D%22width%3A%20100.0%25%3B%20height%3A%20100.0%25%3B%22%3E35506%3C/div%3E%60%29%5B0%5D%3B%0A%20%20%20%20%20%20%20%20%20%20%20%20popup_b12726baccbd4932b670e5b439d5dc54.setContent%28html_78fad3506ed94d3fb1b0a57998621df9%29%3B%0A%20%20%20%20%20%20%20%20%0A%0A%20%20%20%20%20%20%20%20marker_58db517d40454617866338e7b992f732.bindPopup%28popup_b12726baccbd4932b670e5b439d5dc54%29%0A%20%20%20%20%20%20%20%20%3B%0A%0A%20%20%20%20%20%20%20%20%0A%20%20%20%20%0A%20%20%20%20%0A%20%20%20%20%20%20%20%20%20%20%20%20var%20marker_1eb778f054254eb48c8603c41e03ad9f%20%3D%20L.marker%28%0A%20%20%20%20%20%20%20%20%20%20%20%20%20%20%20%20%5B37.491326%2C%20127.083799%5D%2C%0A%20%20%20%20%20%20%20%20%20%20%20%20%20%20%20%20%7B%22zoomStart%22%3A%2012%7D%0A%20%20%20%20%20%20%20%20%20%20%20%20%29.addTo%28marker_cluster_989990b9e92546129e063f5ea07e0309%29%3B%0A%20%20%20%20%20%20%20%20%0A%20%20%20%20%0A%20%20%20%20%20%20%20%20var%20popup_9b0daae45aa34689b8e3dadb4433a2fc%20%3D%20L.popup%28%7B%22maxWidth%22%3A%20%22100%25%22%7D%29%3B%0A%0A%20%20%20%20%20%20%20%20%0A%20%20%20%20%20%20%20%20%20%20%20%20var%20html_b14d9aada9dc42faa3feddb546525abc%20%3D%20%24%28%60%3Cdiv%20id%3D%22html_b14d9aada9dc42faa3feddb546525abc%22%20style%3D%22width%3A%20100.0%25%3B%20height%3A%20100.0%25%3B%22%3E5809%3C/div%3E%60%29%5B0%5D%3B%0A%20%20%20%20%20%20%20%20%20%20%20%20popup_9b0daae45aa34689b8e3dadb4433a2fc.setContent%28html_b14d9aada9dc42faa3feddb546525abc%29%3B%0A%20%20%20%20%20%20%20%20%0A%0A%20%20%20%20%20%20%20%20marker_1eb778f054254eb48c8603c41e03ad9f.bindPopup%28popup_9b0daae45aa34689b8e3dadb4433a2fc%29%0A%20%20%20%20%20%20%20%20%3B%0A%0A%20%20%20%20%20%20%20%20%0A%20%20%20%20%0A%20%20%20%20%0A%20%20%20%20%20%20%20%20%20%20%20%20var%20marker_1c04db9affa14ac8be2256fa60e1503a%20%3D%20L.marker%28%0A%20%20%20%20%20%20%20%20%20%20%20%20%20%20%20%20%5B37.476796%2C%20127.100387%5D%2C%0A%20%20%20%20%20%20%20%20%20%20%20%20%20%20%20%20%7B%22zoomStart%22%3A%2012%7D%0A%20%20%20%20%20%20%20%20%20%20%20%20%29.addTo%28marker_cluster_989990b9e92546129e063f5ea07e0309%29%3B%0A%20%20%20%20%20%20%20%20%0A%20%20%20%20%0A%20%20%20%20%20%20%20%20var%20popup_abcf4b4672f645768578e8f36c003a24%20%3D%20L.popup%28%7B%22maxWidth%22%3A%20%22100%25%22%7D%29%3B%0A%0A%20%20%20%20%20%20%20%20%0A%20%20%20%20%20%20%20%20%20%20%20%20var%20html_b67102375c844e5b8ca90206e1bc3342%20%3D%20%24%28%60%3Cdiv%20id%3D%22html_b67102375c844e5b8ca90206e1bc3342%22%20style%3D%22width%3A%20100.0%25%3B%20height%3A%20100.0%25%3B%22%3E1071%3C/div%3E%60%29%5B0%5D%3B%0A%20%20%20%20%20%20%20%20%20%20%20%20popup_abcf4b4672f645768578e8f36c003a24.setContent%28html_b67102375c844e5b8ca90206e1bc3342%29%3B%0A%20%20%20%20%20%20%20%20%0A%0A%20%20%20%20%20%20%20%20marker_1c04db9affa14ac8be2256fa60e1503a.bindPopup%28popup_abcf4b4672f645768578e8f36c003a24%29%0A%20%20%20%20%20%20%20%20%3B%0A%0A%20%20%20%20%20%20%20%20%0A%20%20%20%20%0A%20%20%20%20%0A%20%20%20%20%20%20%20%20%20%20%20%20var%20marker_213d003fb09c4c88becea76c5e85e9e6%20%3D%20L.marker%28%0A%20%20%20%20%20%20%20%20%20%20%20%20%20%20%20%20%5B37.523404%2C%20127.046858%5D%2C%0A%20%20%20%20%20%20%20%20%20%20%20%20%20%20%20%20%7B%22zoomStart%22%3A%2012%7D%0A%20%20%20%20%20%20%20%20%20%20%20%20%29.addTo%28marker_cluster_989990b9e92546129e063f5ea07e0309%29%3B%0A%20%20%20%20%20%20%20%20%0A%20%20%20%20%0A%20%20%20%20%20%20%20%20var%20popup_b2042b05969b44df89a6acd7d709d3b4%20%3D%20L.popup%28%7B%22maxWidth%22%3A%20%22100%25%22%7D%29%3B%0A%0A%20%20%20%20%20%20%20%20%0A%20%20%20%20%20%20%20%20%20%20%20%20var%20html_caad13c6613540a59f8643b9ad142752%20%3D%20%24%28%60%3Cdiv%20id%3D%22html_caad13c6613540a59f8643b9ad142752%22%20style%3D%22width%3A%20100.0%25%3B%20height%3A%20100.0%25%3B%22%3E19564%3C/div%3E%60%29%5B0%5D%3B%0A%20%20%20%20%20%20%20%20%20%20%20%20popup_b2042b05969b44df89a6acd7d709d3b4.setContent%28html_caad13c6613540a59f8643b9ad142752%29%3B%0A%20%20%20%20%20%20%20%20%0A%0A%20%20%20%20%20%20%20%20marker_213d003fb09c4c88becea76c5e85e9e6.bindPopup%28popup_b2042b05969b44df89a6acd7d709d3b4%29%0A%20%20%20%20%20%20%20%20%3B%0A%0A%20%20%20%20%20%20%20%20%0A%20%20%20%20%0A%20%20%20%20%0A%20%20%20%20%20%20%20%20%20%20%20%20var%20marker_96a03ac8e26b456baa914f1eb2d6f526%20%3D%20L.marker%28%0A%20%20%20%20%20%20%20%20%20%20%20%20%20%20%20%20%5B37.567438%2C%20127.173364%5D%2C%0A%20%20%20%20%20%20%20%20%20%20%20%20%20%20%20%20%7B%22zoomStart%22%3A%2012%7D%0A%20%20%20%20%20%20%20%20%20%20%20%20%29.addTo%28marker_cluster_989990b9e92546129e063f5ea07e0309%29%3B%0A%20%20%20%20%20%20%20%20%0A%20%20%20%20%0A%20%20%20%20%20%20%20%20var%20popup_a0bf23f12bac4dcfbf951e9a55169bb1%20%3D%20L.popup%28%7B%22maxWidth%22%3A%20%22100%25%22%7D%29%3B%0A%0A%20%20%20%20%20%20%20%20%0A%20%20%20%20%20%20%20%20%20%20%20%20var%20html_5920a314b5ac472cb7c57bc9367df732%20%3D%20%24%28%60%3Cdiv%20id%3D%22html_5920a314b5ac472cb7c57bc9367df732%22%20style%3D%22width%3A%20100.0%25%3B%20height%3A%20100.0%25%3B%22%3E2790%3C/div%3E%60%29%5B0%5D%3B%0A%20%20%20%20%20%20%20%20%20%20%20%20popup_a0bf23f12bac4dcfbf951e9a55169bb1.setContent%28html_5920a314b5ac472cb7c57bc9367df732%29%3B%0A%20%20%20%20%20%20%20%20%0A%0A%20%20%20%20%20%20%20%20marker_96a03ac8e26b456baa914f1eb2d6f526.bindPopup%28popup_a0bf23f12bac4dcfbf951e9a55169bb1%29%0A%20%20%20%20%20%20%20%20%3B%0A%0A%20%20%20%20%20%20%20%20%0A%20%20%20%20%0A%20%20%20%20%0A%20%20%20%20%20%20%20%20%20%20%20%20var%20marker_9203a122da0047b99b1f9d274e65ee32%20%3D%20L.marker%28%0A%20%20%20%20%20%20%20%20%20%20%20%20%20%20%20%20%5B37.561068%2C%20127.160582%5D%2C%0A%20%20%20%20%20%20%20%20%20%20%20%20%20%20%20%20%7B%22zoomStart%22%3A%2012%7D%0A%20%20%20%20%20%20%20%20%20%20%20%20%29.addTo%28marker_cluster_989990b9e92546129e063f5ea07e0309%29%3B%0A%20%20%20%20%20%20%20%20%0A%20%20%20%20%0A%20%20%20%20%20%20%20%20var%20popup_4f2959f31d1b445fa801abd451ff752d%20%3D%20L.popup%28%7B%22maxWidth%22%3A%20%22100%25%22%7D%29%3B%0A%0A%20%20%20%20%20%20%20%20%0A%20%20%20%20%20%20%20%20%20%20%20%20var%20html_bfa00e27c3e6491abab6158fadbde042%20%3D%20%24%28%60%3Cdiv%20id%3D%22html_bfa00e27c3e6491abab6158fadbde042%22%20style%3D%22width%3A%20100.0%25%3B%20height%3A%20100.0%25%3B%22%3E4039%3C/div%3E%60%29%5B0%5D%3B%0A%20%20%20%20%20%20%20%20%20%20%20%20popup_4f2959f31d1b445fa801abd451ff752d.setContent%28html_bfa00e27c3e6491abab6158fadbde042%29%3B%0A%20%20%20%20%20%20%20%20%0A%0A%20%20%20%20%20%20%20%20marker_9203a122da0047b99b1f9d274e65ee32.bindPopup%28popup_4f2959f31d1b445fa801abd451ff752d%29%0A%20%20%20%20%20%20%20%20%3B%0A%0A%20%20%20%20%20%20%20%20%0A%20%20%20%20%0A%20%20%20%20%0A%20%20%20%20%20%20%20%20%20%20%20%20var%20marker_4eaf83d7631241bf96c3fceaeac14929%20%3D%20L.marker%28%0A%20%20%20%20%20%20%20%20%20%20%20%20%20%20%20%20%5B37.539123%2C%20127.143163%5D%2C%0A%20%20%20%20%20%20%20%20%20%20%20%20%20%20%20%20%7B%22zoomStart%22%3A%2012%7D%0A%20%20%20%20%20%20%20%20%20%20%20%20%29.addTo%28marker_cluster_989990b9e92546129e063f5ea07e0309%29%3B%0A%20%20%20%20%20%20%20%20%0A%20%20%20%20%0A%20%20%20%20%20%20%20%20var%20popup_18ea9087840945b2980b69b79757e9de%20%3D%20L.popup%28%7B%22maxWidth%22%3A%20%22100%25%22%7D%29%3B%0A%0A%20%20%20%20%20%20%20%20%0A%20%20%20%20%20%20%20%20%20%20%20%20var%20html_99f2cfe9ad7147ef866930891c21834f%20%3D%20%24%28%60%3Cdiv%20id%3D%22html_99f2cfe9ad7147ef866930891c21834f%22%20style%3D%22width%3A%20100.0%25%3B%20height%3A%20100.0%25%3B%22%3E12096%3C/div%3E%60%29%5B0%5D%3B%0A%20%20%20%20%20%20%20%20%20%20%20%20popup_18ea9087840945b2980b69b79757e9de.setContent%28html_99f2cfe9ad7147ef866930891c21834f%29%3B%0A%20%20%20%20%20%20%20%20%0A%0A%20%20%20%20%20%20%20%20marker_4eaf83d7631241bf96c3fceaeac14929.bindPopup%28popup_18ea9087840945b2980b69b79757e9de%29%0A%20%20%20%20%20%20%20%20%3B%0A%0A%20%20%20%20%20%20%20%20%0A%20%20%20%20%0A%20%20%20%20%0A%20%20%20%20%20%20%20%20%20%20%20%20var%20marker_2c6ca2a735fc40439934b477149fdb68%20%3D%20L.marker%28%0A%20%20%20%20%20%20%20%20%20%20%20%20%20%20%20%20%5B37.531157%2C%20127.142891%5D%2C%0A%20%20%20%20%20%20%20%20%20%20%20%20%20%20%20%20%7B%22zoomStart%22%3A%2012%7D%0A%20%20%20%20%20%20%20%20%20%20%20%20%29.addTo%28marker_cluster_989990b9e92546129e063f5ea07e0309%29%3B%0A%20%20%20%20%20%20%20%20%0A%20%20%20%20%0A%20%20%20%20%20%20%20%20var%20popup_3926ea4ef64e42bf86ad1c67cf647a01%20%3D%20L.popup%28%7B%22maxWidth%22%3A%20%22100%25%22%7D%29%3B%0A%0A%20%20%20%20%20%20%20%20%0A%20%20%20%20%20%20%20%20%20%20%20%20var%20html_517733962c934eb886de5fd050b14f9f%20%3D%20%24%28%60%3Cdiv%20id%3D%22html_517733962c934eb886de5fd050b14f9f%22%20style%3D%22width%3A%20100.0%25%3B%20height%3A%20100.0%25%3B%22%3E3437%3C/div%3E%60%29%5B0%5D%3B%0A%20%20%20%20%20%20%20%20%20%20%20%20popup_3926ea4ef64e42bf86ad1c67cf647a01.setContent%28html_517733962c934eb886de5fd050b14f9f%29%3B%0A%20%20%20%20%20%20%20%20%0A%0A%20%20%20%20%20%20%20%20marker_2c6ca2a735fc40439934b477149fdb68.bindPopup%28popup_3926ea4ef64e42bf86ad1c67cf647a01%29%0A%20%20%20%20%20%20%20%20%3B%0A%0A%20%20%20%20%20%20%20%20%0A%20%20%20%20%0A%20%20%20%20%0A%20%20%20%20%20%20%20%20%20%20%20%20var%20marker_a3b039c1080d448fbd19d319beb58351%20%3D%20L.marker%28%0A%20%20%20%20%20%20%20%20%20%20%20%20%20%20%20%20%5B37.549276%2C%20127.147555%5D%2C%0A%20%20%20%20%20%20%20%20%20%20%20%20%20%20%20%20%7B%22zoomStart%22%3A%2012%7D%0A%20%20%20%20%20%20%20%20%20%20%20%20%29.addTo%28marker_cluster_989990b9e92546129e063f5ea07e0309%29%3B%0A%20%20%20%20%20%20%20%20%0A%20%20%20%20%0A%20%20%20%20%20%20%20%20var%20popup_6fed776981fd46228822cb3f194fe680%20%3D%20L.popup%28%7B%22maxWidth%22%3A%20%22100%25%22%7D%29%3B%0A%0A%20%20%20%20%20%20%20%20%0A%20%20%20%20%20%20%20%20%20%20%20%20var%20html_31dcaaac0ba24fb1b6e7b3c0d377a795%20%3D%20%24%28%60%3Cdiv%20id%3D%22html_31dcaaac0ba24fb1b6e7b3c0d377a795%22%20style%3D%22width%3A%20100.0%25%3B%20height%3A%20100.0%25%3B%22%3E5327%3C/div%3E%60%29%5B0%5D%3B%0A%20%20%20%20%20%20%20%20%20%20%20%20popup_6fed776981fd46228822cb3f194fe680.setContent%28html_31dcaaac0ba24fb1b6e7b3c0d377a795%29%3B%0A%20%20%20%20%20%20%20%20%0A%0A%20%20%20%20%20%20%20%20marker_a3b039c1080d448fbd19d319beb58351.bindPopup%28popup_6fed776981fd46228822cb3f194fe680%29%0A%20%20%20%20%20%20%20%20%3B%0A%0A%20%20%20%20%20%20%20%20%0A%20%20%20%20%0A%20%20%20%20%0A%20%20%20%20%20%20%20%20%20%20%20%20var%20marker_8ebedbaa275d4c69b3a28ed49bb2e791%20%3D%20L.marker%28%0A%20%20%20%20%20%20%20%20%20%20%20%20%20%20%20%20%5B37.54822%2C%20127.17063%5D%2C%0A%20%20%20%20%20%20%20%20%20%20%20%20%20%20%20%20%7B%22zoomStart%22%3A%2012%7D%0A%20%20%20%20%20%20%20%20%20%20%20%20%29.addTo%28marker_cluster_989990b9e92546129e063f5ea07e0309%29%3B%0A%20%20%20%20%20%20%20%20%0A%20%20%20%20%0A%20%20%20%20%20%20%20%20var%20popup_d9d2b312956840438360e6e3dee8e4e5%20%3D%20L.popup%28%7B%22maxWidth%22%3A%20%22100%25%22%7D%29%3B%0A%0A%20%20%20%20%20%20%20%20%0A%20%20%20%20%20%20%20%20%20%20%20%20var%20html_1be06e765aad4c12bd4ce4bd36bbe04e%20%3D%20%24%28%60%3Cdiv%20id%3D%22html_1be06e765aad4c12bd4ce4bd36bbe04e%22%20style%3D%22width%3A%20100.0%25%3B%20height%3A%20100.0%25%3B%22%3E7785%3C/div%3E%60%29%5B0%5D%3B%0A%20%20%20%20%20%20%20%20%20%20%20%20popup_d9d2b312956840438360e6e3dee8e4e5.setContent%28html_1be06e765aad4c12bd4ce4bd36bbe04e%29%3B%0A%20%20%20%20%20%20%20%20%0A%0A%20%20%20%20%20%20%20%20marker_8ebedbaa275d4c69b3a28ed49bb2e791.bindPopup%28popup_d9d2b312956840438360e6e3dee8e4e5%29%0A%20%20%20%20%20%20%20%20%3B%0A%0A%20%20%20%20%20%20%20%20%0A%20%20%20%20%0A%20%20%20%20%0A%20%20%20%20%20%20%20%20%20%20%20%20var%20marker_d45132c5482d40c1b3f6af59ea1dba2a%20%3D%20L.marker%28%0A%20%20%20%20%20%20%20%20%20%20%20%20%20%20%20%20%5B37.531338%2C%20127.129174%5D%2C%0A%20%20%20%20%20%20%20%20%20%20%20%20%20%20%20%20%7B%22zoomStart%22%3A%2012%7D%0A%20%20%20%20%20%20%20%20%20%20%20%20%29.addTo%28marker_cluster_989990b9e92546129e063f5ea07e0309%29%3B%0A%20%20%20%20%20%20%20%20%0A%20%20%20%20%0A%20%20%20%20%20%20%20%20var%20popup_39ea9982914e4ee88154c1d404b1c6b1%20%3D%20L.popup%28%7B%22maxWidth%22%3A%20%22100%25%22%7D%29%3B%0A%0A%20%20%20%20%20%20%20%20%0A%20%20%20%20%20%20%20%20%20%20%20%20var%20html_6cdcc3871c38479ca3e986c5e9e45292%20%3D%20%24%28%60%3Cdiv%20id%3D%22html_6cdcc3871c38479ca3e986c5e9e45292%22%20style%3D%22width%3A%20100.0%25%3B%20height%3A%20100.0%25%3B%22%3E9149%3C/div%3E%60%29%5B0%5D%3B%0A%20%20%20%20%20%20%20%20%20%20%20%20popup_39ea9982914e4ee88154c1d404b1c6b1.setContent%28html_6cdcc3871c38479ca3e986c5e9e45292%29%3B%0A%20%20%20%20%20%20%20%20%0A%0A%20%20%20%20%20%20%20%20marker_d45132c5482d40c1b3f6af59ea1dba2a.bindPopup%28popup_39ea9982914e4ee88154c1d404b1c6b1%29%0A%20%20%20%20%20%20%20%20%3B%0A%0A%20%20%20%20%20%20%20%20%0A%20%20%20%20%0A%20%20%20%20%0A%20%20%20%20%20%20%20%20%20%20%20%20var%20marker_27448023853441b6ae1754e1011e93ec%20%3D%20L.marker%28%0A%20%20%20%20%20%20%20%20%20%20%20%20%20%20%20%20%5B37.552497%2C%20127.13301%5D%2C%0A%20%20%20%20%20%20%20%20%20%20%20%20%20%20%20%20%7B%22zoomStart%22%3A%2012%7D%0A%20%20%20%20%20%20%20%20%20%20%20%20%29.addTo%28marker_cluster_989990b9e92546129e063f5ea07e0309%29%3B%0A%20%20%20%20%20%20%20%20%0A%20%20%20%20%0A%20%20%20%20%20%20%20%20var%20popup_ab1eaf3bc4a94726b400e907b2a08e93%20%3D%20L.popup%28%7B%22maxWidth%22%3A%20%22100%25%22%7D%29%3B%0A%0A%20%20%20%20%20%20%20%20%0A%20%20%20%20%20%20%20%20%20%20%20%20var%20html_22d000cab0904828a8cdd78bc716d9a5%20%3D%20%24%28%60%3Cdiv%20id%3D%22html_22d000cab0904828a8cdd78bc716d9a5%22%20style%3D%22width%3A%20100.0%25%3B%20height%3A%20100.0%25%3B%22%3E9526%3C/div%3E%60%29%5B0%5D%3B%0A%20%20%20%20%20%20%20%20%20%20%20%20popup_ab1eaf3bc4a94726b400e907b2a08e93.setContent%28html_22d000cab0904828a8cdd78bc716d9a5%29%3B%0A%20%20%20%20%20%20%20%20%0A%0A%20%20%20%20%20%20%20%20marker_27448023853441b6ae1754e1011e93ec.bindPopup%28popup_ab1eaf3bc4a94726b400e907b2a08e93%29%0A%20%20%20%20%20%20%20%20%3B%0A%0A%20%20%20%20%20%20%20%20%0A%20%20%20%20%0A%20%20%20%20%0A%20%20%20%20%20%20%20%20%20%20%20%20var%20marker_c8fa6531dfbe4c7fb5b8125b6345e6c1%20%3D%20L.marker%28%0A%20%20%20%20%20%20%20%20%20%20%20%20%20%20%20%20%5B37.543676%2C%20127.131748%5D%2C%0A%20%20%20%20%20%20%20%20%20%20%20%20%20%20%20%20%7B%22zoomStart%22%3A%2012%7D%0A%20%20%20%20%20%20%20%20%20%20%20%20%29.addTo%28marker_cluster_989990b9e92546129e063f5ea07e0309%29%3B%0A%20%20%20%20%20%20%20%20%0A%20%20%20%20%0A%20%20%20%20%20%20%20%20var%20popup_c32aa2692fed4093807271528f898309%20%3D%20L.popup%28%7B%22maxWidth%22%3A%20%22100%25%22%7D%29%3B%0A%0A%20%20%20%20%20%20%20%20%0A%20%20%20%20%20%20%20%20%20%20%20%20var%20html_fe1b73e6fd7845fe83cae6638cb6cd14%20%3D%20%24%28%60%3Cdiv%20id%3D%22html_fe1b73e6fd7845fe83cae6638cb6cd14%22%20style%3D%22width%3A%20100.0%25%3B%20height%3A%20100.0%25%3B%22%3E16971%3C/div%3E%60%29%5B0%5D%3B%0A%20%20%20%20%20%20%20%20%20%20%20%20popup_c32aa2692fed4093807271528f898309.setContent%28html_fe1b73e6fd7845fe83cae6638cb6cd14%29%3B%0A%20%20%20%20%20%20%20%20%0A%0A%20%20%20%20%20%20%20%20marker_c8fa6531dfbe4c7fb5b8125b6345e6c1.bindPopup%28popup_c32aa2692fed4093807271528f898309%29%0A%20%20%20%20%20%20%20%20%3B%0A%0A%20%20%20%20%20%20%20%20%0A%20%20%20%20%0A%20%20%20%20%0A%20%20%20%20%20%20%20%20%20%20%20%20var%20marker_1e9321940c784eaea11d97775892d2a0%20%3D%20L.marker%28%0A%20%20%20%20%20%20%20%20%20%20%20%20%20%20%20%20%5B37.568238%2C%20126.845059%5D%2C%0A%20%20%20%20%20%20%20%20%20%20%20%20%20%20%20%20%7B%22zoomStart%22%3A%2012%7D%0A%20%20%20%20%20%20%20%20%20%20%20%20%29.addTo%28marker_cluster_989990b9e92546129e063f5ea07e0309%29%3B%0A%20%20%20%20%20%20%20%20%0A%20%20%20%20%0A%20%20%20%20%20%20%20%20var%20popup_c462dc0a20044ed28ccfc2183ab000ea%20%3D%20L.popup%28%7B%22maxWidth%22%3A%20%22100%25%22%7D%29%3B%0A%0A%20%20%20%20%20%20%20%20%0A%20%20%20%20%20%20%20%20%20%20%20%20var%20html_bfb7d8841f7f438f8edbf85e09d58d81%20%3D%20%24%28%60%3Cdiv%20id%3D%22html_bfb7d8841f7f438f8edbf85e09d58d81%22%20style%3D%22width%3A%20100.0%25%3B%20height%3A%20100.0%25%3B%22%3E32005%3C/div%3E%60%29%5B0%5D%3B%0A%20%20%20%20%20%20%20%20%20%20%20%20popup_c462dc0a20044ed28ccfc2183ab000ea.setContent%28html_bfb7d8841f7f438f8edbf85e09d58d81%29%3B%0A%20%20%20%20%20%20%20%20%0A%0A%20%20%20%20%20%20%20%20marker_1e9321940c784eaea11d97775892d2a0.bindPopup%28popup_c462dc0a20044ed28ccfc2183ab000ea%29%0A%20%20%20%20%20%20%20%20%3B%0A%0A%20%20%20%20%20%20%20%20%0A%20%20%20%20%0A%20%20%20%20%0A%20%20%20%20%20%20%20%20%20%20%20%20var%20marker_76c885227d024bf1bbe3b5910a7a0268%20%3D%20L.marker%28%0A%20%20%20%20%20%20%20%20%20%20%20%20%20%20%20%20%5B37.558805%2C%20126.813297%5D%2C%0A%20%20%20%20%20%20%20%20%20%20%20%20%20%20%20%20%7B%22zoomStart%22%3A%2012%7D%0A%20%20%20%20%20%20%20%20%20%20%20%20%29.addTo%28marker_cluster_989990b9e92546129e063f5ea07e0309%29%3B%0A%20%20%20%20%20%20%20%20%0A%20%20%20%20%0A%20%20%20%20%20%20%20%20var%20popup_2fdfeed94c8c4591a9c2e483f6e666bf%20%3D%20L.popup%28%7B%22maxWidth%22%3A%20%22100%25%22%7D%29%3B%0A%0A%20%20%20%20%20%20%20%20%0A%20%20%20%20%20%20%20%20%20%20%20%20var%20html_983dd5648cce4911a973a7d4ac64ff46%20%3D%20%24%28%60%3Cdiv%20id%3D%22html_983dd5648cce4911a973a7d4ac64ff46%22%20style%3D%22width%3A%20100.0%25%3B%20height%3A%20100.0%25%3B%22%3E41748%3C/div%3E%60%29%5B0%5D%3B%0A%20%20%20%20%20%20%20%20%20%20%20%20popup_2fdfeed94c8c4591a9c2e483f6e666bf.setContent%28html_983dd5648cce4911a973a7d4ac64ff46%29%3B%0A%20%20%20%20%20%20%20%20%0A%0A%20%20%20%20%20%20%20%20marker_76c885227d024bf1bbe3b5910a7a0268.bindPopup%28popup_2fdfeed94c8c4591a9c2e483f6e666bf%29%0A%20%20%20%20%20%20%20%20%3B%0A%0A%20%20%20%20%20%20%20%20%0A%20%20%20%20%0A%20%20%20%20%0A%20%20%20%20%20%20%20%20%20%20%20%20var%20marker_ebf2957a2e184862b79d500b6130dc14%20%3D%20L.marker%28%0A%20%20%20%20%20%20%20%20%20%20%20%20%20%20%20%20%5B37.551325%2C%20126.858411%5D%2C%0A%20%20%20%20%20%20%20%20%20%20%20%20%20%20%20%20%7B%22zoomStart%22%3A%2012%7D%0A%20%20%20%20%20%20%20%20%20%20%20%20%29.addTo%28marker_cluster_989990b9e92546129e063f5ea07e0309%29%3B%0A%20%20%20%20%20%20%20%20%0A%20%20%20%20%0A%20%20%20%20%20%20%20%20var%20popup_add41d3f17274c66b66855a61f0c957d%20%3D%20L.popup%28%7B%22maxWidth%22%3A%20%22100%25%22%7D%29%3B%0A%0A%20%20%20%20%20%20%20%20%0A%20%20%20%20%20%20%20%20%20%20%20%20var%20html_4efaa4db181f43a19c5e715682aab5c1%20%3D%20%24%28%60%3Cdiv%20id%3D%22html_4efaa4db181f43a19c5e715682aab5c1%22%20style%3D%22width%3A%20100.0%25%3B%20height%3A%20100.0%25%3B%22%3E11053%3C/div%3E%60%29%5B0%5D%3B%0A%20%20%20%20%20%20%20%20%20%20%20%20popup_add41d3f17274c66b66855a61f0c957d.setContent%28html_4efaa4db181f43a19c5e715682aab5c1%29%3B%0A%20%20%20%20%20%20%20%20%0A%0A%20%20%20%20%20%20%20%20marker_ebf2957a2e184862b79d500b6130dc14.bindPopup%28popup_add41d3f17274c66b66855a61f0c957d%29%0A%20%20%20%20%20%20%20%20%3B%0A%0A%20%20%20%20%20%20%20%20%0A%20%20%20%20%0A%20%20%20%20%0A%20%20%20%20%20%20%20%20%20%20%20%20var%20marker_657c63fe24c245c5a9c1b4a0874564a1%20%3D%20L.marker%28%0A%20%20%20%20%20%20%20%20%20%20%20%20%20%20%20%20%5B37.550968%2C%20126.849614%5D%2C%0A%20%20%20%20%20%20%20%20%20%20%20%20%20%20%20%20%7B%22zoomStart%22%3A%2012%7D%0A%20%20%20%20%20%20%20%20%20%20%20%20%29.addTo%28marker_cluster_989990b9e92546129e063f5ea07e0309%29%3B%0A%20%20%20%20%20%20%20%20%0A%20%20%20%20%0A%20%20%20%20%20%20%20%20var%20popup_6801c9aa193b4b52bbe8af1031750b16%20%3D%20L.popup%28%7B%22maxWidth%22%3A%20%22100%25%22%7D%29%3B%0A%0A%20%20%20%20%20%20%20%20%0A%20%20%20%20%20%20%20%20%20%20%20%20var%20html_158df4381c70455f92a30fca1eeab158%20%3D%20%24%28%60%3Cdiv%20id%3D%22html_158df4381c70455f92a30fca1eeab158%22%20style%3D%22width%3A%20100.0%25%3B%20height%3A%20100.0%25%3B%22%3E20476%3C/div%3E%60%29%5B0%5D%3B%0A%20%20%20%20%20%20%20%20%20%20%20%20popup_6801c9aa193b4b52bbe8af1031750b16.setContent%28html_158df4381c70455f92a30fca1eeab158%29%3B%0A%20%20%20%20%20%20%20%20%0A%0A%20%20%20%20%20%20%20%20marker_657c63fe24c245c5a9c1b4a0874564a1.bindPopup%28popup_6801c9aa193b4b52bbe8af1031750b16%29%0A%20%20%20%20%20%20%20%20%3B%0A%0A%20%20%20%20%20%20%20%20%0A%20%20%20%20%0A%20%20%20%20%0A%20%20%20%20%20%20%20%20%20%20%20%20var%20marker_232b91a53a0c40d182cebd0943da5481%20%3D%20L.marker%28%0A%20%20%20%20%20%20%20%20%20%20%20%20%20%20%20%20%5B37.569138%2C%20126.812192%5D%2C%0A%20%20%20%20%20%20%20%20%20%20%20%20%20%20%20%20%7B%22zoomStart%22%3A%2012%7D%0A%20%20%20%20%20%20%20%20%20%20%20%20%29.addTo%28marker_cluster_989990b9e92546129e063f5ea07e0309%29%3B%0A%20%20%20%20%20%20%20%20%0A%20%20%20%20%0A%20%20%20%20%20%20%20%20var%20popup_d6bf0057193041af9fb27ec2e2854591%20%3D%20L.popup%28%7B%22maxWidth%22%3A%20%22100%25%22%7D%29%3B%0A%0A%20%20%20%20%20%20%20%20%0A%20%20%20%20%20%20%20%20%20%20%20%20var%20html_a4c9e99b6e2d43c7ab7b339e91f46d7b%20%3D%20%24%28%60%3Cdiv%20id%3D%22html_a4c9e99b6e2d43c7ab7b339e91f46d7b%22%20style%3D%22width%3A%20100.0%25%3B%20height%3A%20100.0%25%3B%22%3E16696%3C/div%3E%60%29%5B0%5D%3B%0A%20%20%20%20%20%20%20%20%20%20%20%20popup_d6bf0057193041af9fb27ec2e2854591.setContent%28html_a4c9e99b6e2d43c7ab7b339e91f46d7b%29%3B%0A%20%20%20%20%20%20%20%20%0A%0A%20%20%20%20%20%20%20%20marker_232b91a53a0c40d182cebd0943da5481.bindPopup%28popup_d6bf0057193041af9fb27ec2e2854591%29%0A%20%20%20%20%20%20%20%20%3B%0A%0A%20%20%20%20%20%20%20%20%0A%20%20%20%20%0A%20%20%20%20%0A%20%20%20%20%20%20%20%20%20%20%20%20var%20marker_6ecf661c86ee4c4c8bb17cd14dee7e95%20%3D%20L.marker%28%0A%20%20%20%20%20%20%20%20%20%20%20%20%20%20%20%20%5B37.551366%2C%20126.8713%5D%2C%0A%20%20%20%20%20%20%20%20%20%20%20%20%20%20%20%20%7B%22zoomStart%22%3A%2012%7D%0A%20%20%20%20%20%20%20%20%20%20%20%20%29.addTo%28marker_cluster_989990b9e92546129e063f5ea07e0309%29%3B%0A%20%20%20%20%20%20%20%20%0A%20%20%20%20%0A%20%20%20%20%20%20%20%20var%20popup_981593c303564f659dc4552cf53dbe40%20%3D%20L.popup%28%7B%22maxWidth%22%3A%20%22100%25%22%7D%29%3B%0A%0A%20%20%20%20%20%20%20%20%0A%20%20%20%20%20%20%20%20%20%20%20%20var%20html_80c72a6f6e814b64a5d877797b9bb54b%20%3D%20%24%28%60%3Cdiv%20id%3D%22html_80c72a6f6e814b64a5d877797b9bb54b%22%20style%3D%22width%3A%20100.0%25%3B%20height%3A%20100.0%25%3B%22%3E7495%3C/div%3E%60%29%5B0%5D%3B%0A%20%20%20%20%20%20%20%20%20%20%20%20popup_981593c303564f659dc4552cf53dbe40.setContent%28html_80c72a6f6e814b64a5d877797b9bb54b%29%3B%0A%20%20%20%20%20%20%20%20%0A%0A%20%20%20%20%20%20%20%20marker_6ecf661c86ee4c4c8bb17cd14dee7e95.bindPopup%28popup_981593c303564f659dc4552cf53dbe40%29%0A%20%20%20%20%20%20%20%20%3B%0A%0A%20%20%20%20%20%20%20%20%0A%20%20%20%20%0A%20%20%20%20%0A%20%20%20%20%20%20%20%20%20%20%20%20var%20marker_97757346fd414a3ea0226609b8f5bfa5%20%3D%20L.marker%28%0A%20%20%20%20%20%20%20%20%20%20%20%20%20%20%20%20%5B37.548198%2C%20126.841792%5D%2C%0A%20%20%20%20%20%20%20%20%20%20%20%20%20%20%20%20%7B%22zoomStart%22%3A%2012%7D%0A%20%20%20%20%20%20%20%20%20%20%20%20%29.addTo%28marker_cluster_989990b9e92546129e063f5ea07e0309%29%3B%0A%20%20%20%20%20%20%20%20%0A%20%20%20%20%0A%20%20%20%20%20%20%20%20var%20popup_cde371dbe870468c8491ccd35253ed18%20%3D%20L.popup%28%7B%22maxWidth%22%3A%20%22100%25%22%7D%29%3B%0A%0A%20%20%20%20%20%20%20%20%0A%20%20%20%20%20%20%20%20%20%20%20%20var%20html_1f4148e6ba4f4cd3b377e1946f146cb2%20%3D%20%24%28%60%3Cdiv%20id%3D%22html_1f4148e6ba4f4cd3b377e1946f146cb2%22%20style%3D%22width%3A%20100.0%25%3B%20height%3A%20100.0%25%3B%22%3E3073%3C/div%3E%60%29%5B0%5D%3B%0A%20%20%20%20%20%20%20%20%20%20%20%20popup_cde371dbe870468c8491ccd35253ed18.setContent%28html_1f4148e6ba4f4cd3b377e1946f146cb2%29%3B%0A%20%20%20%20%20%20%20%20%0A%0A%20%20%20%20%20%20%20%20marker_97757346fd414a3ea0226609b8f5bfa5.bindPopup%28popup_cde371dbe870468c8491ccd35253ed18%29%0A%20%20%20%20%20%20%20%20%3B%0A%0A%20%20%20%20%20%20%20%20%0A%20%20%20%20%0A%20%20%20%20%0A%20%20%20%20%20%20%20%20%20%20%20%20var%20marker_06af23a0304e4ff292828e930f2f4042%20%3D%20L.marker%28%0A%20%20%20%20%20%20%20%20%20%20%20%20%20%20%20%20%5B37.538358%2C%20126.847336%5D%2C%0A%20%20%20%20%20%20%20%20%20%20%20%20%20%20%20%20%7B%22zoomStart%22%3A%2012%7D%0A%20%20%20%20%20%20%20%20%20%20%20%20%29.addTo%28marker_cluster_989990b9e92546129e063f5ea07e0309%29%3B%0A%20%20%20%20%20%20%20%20%0A%20%20%20%20%0A%20%20%20%20%20%20%20%20var%20popup_7d3df59820bf4c84a417bbe70b74469d%20%3D%20L.popup%28%7B%22maxWidth%22%3A%20%22100%25%22%7D%29%3B%0A%0A%20%20%20%20%20%20%20%20%0A%20%20%20%20%20%20%20%20%20%20%20%20var%20html_22fe2fe6478b412c9d6de0db41b344a7%20%3D%20%24%28%60%3Cdiv%20id%3D%22html_22fe2fe6478b412c9d6de0db41b344a7%22%20style%3D%22width%3A%20100.0%25%3B%20height%3A%20100.0%25%3B%22%3E40150%3C/div%3E%60%29%5B0%5D%3B%0A%20%20%20%20%20%20%20%20%20%20%20%20popup_7d3df59820bf4c84a417bbe70b74469d.setContent%28html_22fe2fe6478b412c9d6de0db41b344a7%29%3B%0A%20%20%20%20%20%20%20%20%0A%0A%20%20%20%20%20%20%20%20marker_06af23a0304e4ff292828e930f2f4042.bindPopup%28popup_7d3df59820bf4c84a417bbe70b74469d%29%0A%20%20%20%20%20%20%20%20%3B%0A%0A%20%20%20%20%20%20%20%20%0A%20%20%20%20%0A%20%20%20%20%0A%20%20%20%20%20%20%20%20%20%20%20%20var%20marker_94a8ccef30cb4c07baca2b5269b388ba%20%3D%20L.marker%28%0A%20%20%20%20%20%20%20%20%20%20%20%20%20%20%20%20%5B37.482704%2C%20126.888019%5D%2C%0A%20%20%20%20%20%20%20%20%20%20%20%20%20%20%20%20%7B%22zoomStart%22%3A%2012%7D%0A%20%20%20%20%20%20%20%20%20%20%20%20%29.addTo%28marker_cluster_989990b9e92546129e063f5ea07e0309%29%3B%0A%20%20%20%20%20%20%20%20%0A%20%20%20%20%0A%20%20%20%20%20%20%20%20var%20popup_f23f2a5543164bb99b2e211b489fe5ff%20%3D%20L.popup%28%7B%22maxWidth%22%3A%20%22100%25%22%7D%29%3B%0A%0A%20%20%20%20%20%20%20%20%0A%20%20%20%20%20%20%20%20%20%20%20%20var%20html_c6e939b3b0fc46e995417d3adaa566db%20%3D%20%24%28%60%3Cdiv%20id%3D%22html_c6e939b3b0fc46e995417d3adaa566db%22%20style%3D%22width%3A%20100.0%25%3B%20height%3A%20100.0%25%3B%22%3E1931%3C/div%3E%60%29%5B0%5D%3B%0A%20%20%20%20%20%20%20%20%20%20%20%20popup_f23f2a5543164bb99b2e211b489fe5ff.setContent%28html_c6e939b3b0fc46e995417d3adaa566db%29%3B%0A%20%20%20%20%20%20%20%20%0A%0A%20%20%20%20%20%20%20%20marker_94a8ccef30cb4c07baca2b5269b388ba.bindPopup%28popup_f23f2a5543164bb99b2e211b489fe5ff%29%0A%20%20%20%20%20%20%20%20%3B%0A%0A%20%20%20%20%20%20%20%20%0A%20%20%20%20%0A%20%20%20%20%0A%20%20%20%20%20%20%20%20%20%20%20%20var%20marker_9ae2eec60f024cd992cbf73f390fa62c%20%3D%20L.marker%28%0A%20%20%20%20%20%20%20%20%20%20%20%20%20%20%20%20%5B37.49565%2C%20126.887771%5D%2C%0A%20%20%20%20%20%20%20%20%20%20%20%20%20%20%20%20%7B%22zoomStart%22%3A%2012%7D%0A%20%20%20%20%20%20%20%20%20%20%20%20%29.addTo%28marker_cluster_989990b9e92546129e063f5ea07e0309%29%3B%0A%20%20%20%20%20%20%20%20%0A%20%20%20%20%0A%20%20%20%20%20%20%20%20var%20popup_39e0b8879b5146aa868d8f520e57f6e1%20%3D%20L.popup%28%7B%22maxWidth%22%3A%20%22100%25%22%7D%29%3B%0A%0A%20%20%20%20%20%20%20%20%0A%20%20%20%20%20%20%20%20%20%20%20%20var%20html_c31595a33e2441d8b5f5cd1b87e4acd2%20%3D%20%24%28%60%3Cdiv%20id%3D%22html_c31595a33e2441d8b5f5cd1b87e4acd2%22%20style%3D%22width%3A%20100.0%25%3B%20height%3A%20100.0%25%3B%22%3E8743%3C/div%3E%60%29%5B0%5D%3B%0A%20%20%20%20%20%20%20%20%20%20%20%20popup_39e0b8879b5146aa868d8f520e57f6e1.setContent%28html_c31595a33e2441d8b5f5cd1b87e4acd2%29%3B%0A%20%20%20%20%20%20%20%20%0A%0A%20%20%20%20%20%20%20%20marker_9ae2eec60f024cd992cbf73f390fa62c.bindPopup%28popup_39e0b8879b5146aa868d8f520e57f6e1%29%0A%20%20%20%20%20%20%20%20%3B%0A%0A%20%20%20%20%20%20%20%20%0A%20%20%20%20%0A%20%20%20%20%0A%20%20%20%20%20%20%20%20%20%20%20%20var%20marker_1fb0ef640cf54c7aafe55c129bbf9d47%20%3D%20L.marker%28%0A%20%20%20%20%20%20%20%20%20%20%20%20%20%20%20%20%5B37.49565%2C%20126.887771%5D%2C%0A%20%20%20%20%20%20%20%20%20%20%20%20%20%20%20%20%7B%22zoomStart%22%3A%2012%7D%0A%20%20%20%20%20%20%20%20%20%20%20%20%29.addTo%28marker_cluster_989990b9e92546129e063f5ea07e0309%29%3B%0A%20%20%20%20%20%20%20%20%0A%20%20%20%20%0A%20%20%20%20%20%20%20%20var%20popup_dc57f80b1fac49588707701d1c89cc49%20%3D%20L.popup%28%7B%22maxWidth%22%3A%20%22100%25%22%7D%29%3B%0A%0A%20%20%20%20%20%20%20%20%0A%20%20%20%20%20%20%20%20%20%20%20%20var%20html_46ee0e9446374238ae4b5da41e6334c2%20%3D%20%24%28%60%3Cdiv%20id%3D%22html_46ee0e9446374238ae4b5da41e6334c2%22%20style%3D%22width%3A%20100.0%25%3B%20height%3A%20100.0%25%3B%22%3E8987%3C/div%3E%60%29%5B0%5D%3B%0A%20%20%20%20%20%20%20%20%20%20%20%20popup_dc57f80b1fac49588707701d1c89cc49.setContent%28html_46ee0e9446374238ae4b5da41e6334c2%29%3B%0A%20%20%20%20%20%20%20%20%0A%0A%20%20%20%20%20%20%20%20marker_1fb0ef640cf54c7aafe55c129bbf9d47.bindPopup%28popup_dc57f80b1fac49588707701d1c89cc49%29%0A%20%20%20%20%20%20%20%20%3B%0A%0A%20%20%20%20%20%20%20%20%0A%20%20%20%20%0A%20%20%20%20%0A%20%20%20%20%20%20%20%20%20%20%20%20var%20marker_ba4f44eda6ae4ce793cdcbc756d3c0b9%20%3D%20L.marker%28%0A%20%20%20%20%20%20%20%20%20%20%20%20%20%20%20%20%5B37.49565%2C%20126.887771%5D%2C%0A%20%20%20%20%20%20%20%20%20%20%20%20%20%20%20%20%7B%22zoomStart%22%3A%2012%7D%0A%20%20%20%20%20%20%20%20%20%20%20%20%29.addTo%28marker_cluster_989990b9e92546129e063f5ea07e0309%29%3B%0A%20%20%20%20%20%20%20%20%0A%20%20%20%20%0A%20%20%20%20%20%20%20%20var%20popup_3e2853e7f9d448e79d7456854ec5b425%20%3D%20L.popup%28%7B%22maxWidth%22%3A%20%22100%25%22%7D%29%3B%0A%0A%20%20%20%20%20%20%20%20%0A%20%20%20%20%20%20%20%20%20%20%20%20var%20html_ad0bf95650eb48b99781e933b61e4217%20%3D%20%24%28%60%3Cdiv%20id%3D%22html_ad0bf95650eb48b99781e933b61e4217%22%20style%3D%22width%3A%20100.0%25%3B%20height%3A%20100.0%25%3B%22%3E39520%3C/div%3E%60%29%5B0%5D%3B%0A%20%20%20%20%20%20%20%20%20%20%20%20popup_3e2853e7f9d448e79d7456854ec5b425.setContent%28html_ad0bf95650eb48b99781e933b61e4217%29%3B%0A%20%20%20%20%20%20%20%20%0A%0A%20%20%20%20%20%20%20%20marker_ba4f44eda6ae4ce793cdcbc756d3c0b9.bindPopup%28popup_3e2853e7f9d448e79d7456854ec5b425%29%0A%20%20%20%20%20%20%20%20%3B%0A%0A%20%20%20%20%20%20%20%20%0A%20%20%20%20%0A%20%20%20%20%0A%20%20%20%20%20%20%20%20%20%20%20%20var%20marker_025424e57cd240d991023d2d54d433e9%20%3D%20L.marker%28%0A%20%20%20%20%20%20%20%20%20%20%20%20%20%20%20%20%5B37.509951%2C%20126.882174%5D%2C%0A%20%20%20%20%20%20%20%20%20%20%20%20%20%20%20%20%7B%22zoomStart%22%3A%2012%7D%0A%20%20%20%20%20%20%20%20%20%20%20%20%29.addTo%28marker_cluster_989990b9e92546129e063f5ea07e0309%29%3B%0A%20%20%20%20%20%20%20%20%0A%20%20%20%20%0A%20%20%20%20%20%20%20%20var%20popup_1b1bdaef2e9742fe9a04b046dc6d8463%20%3D%20L.popup%28%7B%22maxWidth%22%3A%20%22100%25%22%7D%29%3B%0A%0A%20%20%20%20%20%20%20%20%0A%20%20%20%20%20%20%20%20%20%20%20%20var%20html_46363e981a5c40a497842a7912e226cc%20%3D%20%24%28%60%3Cdiv%20id%3D%22html_46363e981a5c40a497842a7912e226cc%22%20style%3D%22width%3A%20100.0%25%3B%20height%3A%20100.0%25%3B%22%3E4636%3C/div%3E%60%29%5B0%5D%3B%0A%20%20%20%20%20%20%20%20%20%20%20%20popup_1b1bdaef2e9742fe9a04b046dc6d8463.setContent%28html_46363e981a5c40a497842a7912e226cc%29%3B%0A%20%20%20%20%20%20%20%20%0A%0A%20%20%20%20%20%20%20%20marker_025424e57cd240d991023d2d54d433e9.bindPopup%28popup_1b1bdaef2e9742fe9a04b046dc6d8463%29%0A%20%20%20%20%20%20%20%20%3B%0A%0A%20%20%20%20%20%20%20%20%0A%20%20%20%20%0A%20%20%20%20%0A%20%20%20%20%20%20%20%20%20%20%20%20var%20marker_9fe9d528d525486e906ca63f9d45e134%20%3D%20L.marker%28%0A%20%20%20%20%20%20%20%20%20%20%20%20%20%20%20%20%5B37.49565%2C%20126.887771%5D%2C%0A%20%20%20%20%20%20%20%20%20%20%20%20%20%20%20%20%7B%22zoomStart%22%3A%2012%7D%0A%20%20%20%20%20%20%20%20%20%20%20%20%29.addTo%28marker_cluster_989990b9e92546129e063f5ea07e0309%29%3B%0A%20%20%20%20%20%20%20%20%0A%20%20%20%20%0A%20%20%20%20%20%20%20%20var%20popup_e790d109d3904f6b880fc4c713acce13%20%3D%20L.popup%28%7B%22maxWidth%22%3A%20%22100%25%22%7D%29%3B%0A%0A%20%20%20%20%20%20%20%20%0A%20%20%20%20%20%20%20%20%20%20%20%20var%20html_a5e3be105c66438d804468df629251c6%20%3D%20%24%28%60%3Cdiv%20id%3D%22html_a5e3be105c66438d804468df629251c6%22%20style%3D%22width%3A%20100.0%25%3B%20height%3A%20100.0%25%3B%22%3E2883%3C/div%3E%60%29%5B0%5D%3B%0A%20%20%20%20%20%20%20%20%20%20%20%20popup_e790d109d3904f6b880fc4c713acce13.setContent%28html_a5e3be105c66438d804468df629251c6%29%3B%0A%20%20%20%20%20%20%20%20%0A%0A%20%20%20%20%20%20%20%20marker_9fe9d528d525486e906ca63f9d45e134.bindPopup%28popup_e790d109d3904f6b880fc4c713acce13%29%0A%20%20%20%20%20%20%20%20%3B%0A%0A%20%20%20%20%20%20%20%20%0A%20%20%20%20%0A%20%20%20%20%0A%20%20%20%20%20%20%20%20%20%20%20%20var%20marker_9a439f1053c841cfba84298ffcc82853%20%3D%20L.marker%28%0A%20%20%20%20%20%20%20%20%20%20%20%20%20%20%20%20%5B37.48113884%2C%20126.8248554%5D%2C%0A%20%20%20%20%20%20%20%20%20%20%20%20%20%20%20%20%7B%22zoomStart%22%3A%2012%7D%0A%20%20%20%20%20%20%20%20%20%20%20%20%29.addTo%28marker_cluster_989990b9e92546129e063f5ea07e0309%29%3B%0A%20%20%20%20%20%20%20%20%0A%20%20%20%20%0A%20%20%20%20%20%20%20%20var%20popup_7b5f6c6616f046fa9ea5ec4aff656ede%20%3D%20L.popup%28%7B%22maxWidth%22%3A%20%22100%25%22%7D%29%3B%0A%0A%20%20%20%20%20%20%20%20%0A%20%20%20%20%20%20%20%20%20%20%20%20var%20html_b59316b7aa804e24b66b4fafb5d84e1f%20%3D%20%24%28%60%3Cdiv%20id%3D%22html_b59316b7aa804e24b66b4fafb5d84e1f%22%20style%3D%22width%3A%20100.0%25%3B%20height%3A%20100.0%25%3B%22%3E1221%3C/div%3E%60%29%5B0%5D%3B%0A%20%20%20%20%20%20%20%20%20%20%20%20popup_7b5f6c6616f046fa9ea5ec4aff656ede.setContent%28html_b59316b7aa804e24b66b4fafb5d84e1f%29%3B%0A%20%20%20%20%20%20%20%20%0A%0A%20%20%20%20%20%20%20%20marker_9a439f1053c841cfba84298ffcc82853.bindPopup%28popup_7b5f6c6616f046fa9ea5ec4aff656ede%29%0A%20%20%20%20%20%20%20%20%3B%0A%0A%20%20%20%20%20%20%20%20%0A%20%20%20%20%0A%20%20%20%20%0A%20%20%20%20%20%20%20%20%20%20%20%20var%20marker_f2e5656c72704348b6a1f3e9e04b0f19%20%3D%20L.marker%28%0A%20%20%20%20%20%20%20%20%20%20%20%20%20%20%20%20%5B37.493837%2C%20126.831527%5D%2C%0A%20%20%20%20%20%20%20%20%20%20%20%20%20%20%20%20%7B%22zoomStart%22%3A%2012%7D%0A%20%20%20%20%20%20%20%20%20%20%20%20%29.addTo%28marker_cluster_989990b9e92546129e063f5ea07e0309%29%3B%0A%20%20%20%20%20%20%20%20%0A%20%20%20%20%0A%20%20%20%20%20%20%20%20var%20popup_8ead299b721d415e833c445fcd2e237d%20%3D%20L.popup%28%7B%22maxWidth%22%3A%20%22100%25%22%7D%29%3B%0A%0A%20%20%20%20%20%20%20%20%0A%20%20%20%20%20%20%20%20%20%20%20%20var%20html_1cda3fd999664be58c0f99ed5341338e%20%3D%20%24%28%60%3Cdiv%20id%3D%22html_1cda3fd999664be58c0f99ed5341338e%22%20style%3D%22width%3A%20100.0%25%3B%20height%3A%20100.0%25%3B%22%3E1637%3C/div%3E%60%29%5B0%5D%3B%0A%20%20%20%20%20%20%20%20%20%20%20%20popup_8ead299b721d415e833c445fcd2e237d.setContent%28html_1cda3fd999664be58c0f99ed5341338e%29%3B%0A%20%20%20%20%20%20%20%20%0A%0A%20%20%20%20%20%20%20%20marker_f2e5656c72704348b6a1f3e9e04b0f19.bindPopup%28popup_8ead299b721d415e833c445fcd2e237d%29%0A%20%20%20%20%20%20%20%20%3B%0A%0A%20%20%20%20%20%20%20%20%0A%20%20%20%20%0A%20%20%20%20%0A%20%20%20%20%20%20%20%20%20%20%20%20var%20marker_9824b44d94b34bafbe98550d9cfddda8%20%3D%20L.marker%28%0A%20%20%20%20%20%20%20%20%20%20%20%20%20%20%20%20%5B37.4920865%2C%20127.0198275%5D%2C%0A%20%20%20%20%20%20%20%20%20%20%20%20%20%20%20%20%7B%22zoomStart%22%3A%2012%7D%0A%20%20%20%20%20%20%20%20%20%20%20%20%29.addTo%28marker_cluster_989990b9e92546129e063f5ea07e0309%29%3B%0A%20%20%20%20%20%20%20%20%0A%20%20%20%20%0A%20%20%20%20%20%20%20%20var%20popup_f368d171181944d8b0a7bbaea5a88d17%20%3D%20L.popup%28%7B%22maxWidth%22%3A%20%22100%25%22%7D%29%3B%0A%0A%20%20%20%20%20%20%20%20%0A%20%20%20%20%20%20%20%20%20%20%20%20var%20html_fbaeed0861824dd49ddf612b1905b4fb%20%3D%20%24%28%60%3Cdiv%20id%3D%22html_fbaeed0861824dd49ddf612b1905b4fb%22%20style%3D%22width%3A%20100.0%25%3B%20height%3A%20100.0%25%3B%22%3E64535%3C/div%3E%60%29%5B0%5D%3B%0A%20%20%20%20%20%20%20%20%20%20%20%20popup_f368d171181944d8b0a7bbaea5a88d17.setContent%28html_fbaeed0861824dd49ddf612b1905b4fb%29%3B%0A%20%20%20%20%20%20%20%20%0A%0A%20%20%20%20%20%20%20%20marker_9824b44d94b34bafbe98550d9cfddda8.bindPopup%28popup_f368d171181944d8b0a7bbaea5a88d17%29%0A%20%20%20%20%20%20%20%20%3B%0A%0A%20%20%20%20%20%20%20%20%0A%20%20%20%20%0A%20%20%20%20%0A%20%20%20%20%20%20%20%20%20%20%20%20var%20marker_f4727bf563e944b4884490e8de881301%20%3D%20L.marker%28%0A%20%20%20%20%20%20%20%20%20%20%20%20%20%20%20%20%5B37.513667%2C%20127.016166%5D%2C%0A%20%20%20%20%20%20%20%20%20%20%20%20%20%20%20%20%7B%22zoomStart%22%3A%2012%7D%0A%20%20%20%20%20%20%20%20%20%20%20%20%29.addTo%28marker_cluster_989990b9e92546129e063f5ea07e0309%29%3B%0A%20%20%20%20%20%20%20%20%0A%20%20%20%20%0A%20%20%20%20%20%20%20%20var%20popup_d065ab4df1434313af0eb1270308c8ad%20%3D%20L.popup%28%7B%22maxWidth%22%3A%20%22100%25%22%7D%29%3B%0A%0A%20%20%20%20%20%20%20%20%0A%20%20%20%20%20%20%20%20%20%20%20%20var%20html_d90a8b46664d4822a135029e197555b9%20%3D%20%24%28%60%3Cdiv%20id%3D%22html_d90a8b46664d4822a135029e197555b9%22%20style%3D%22width%3A%20100.0%25%3B%20height%3A%20100.0%25%3B%22%3E10385%3C/div%3E%60%29%5B0%5D%3B%0A%20%20%20%20%20%20%20%20%20%20%20%20popup_d065ab4df1434313af0eb1270308c8ad.setContent%28html_d90a8b46664d4822a135029e197555b9%29%3B%0A%20%20%20%20%20%20%20%20%0A%0A%20%20%20%20%20%20%20%20marker_f4727bf563e944b4884490e8de881301.bindPopup%28popup_d065ab4df1434313af0eb1270308c8ad%29%0A%20%20%20%20%20%20%20%20%3B%0A%0A%20%20%20%20%20%20%20%20%0A%20%20%20%20%0A%20%20%20%20%0A%20%20%20%20%20%20%20%20%20%20%20%20var%20marker_f5b0c1ca4cf849d0904644a4d8eb1cd6%20%3D%20L.marker%28%0A%20%20%20%20%20%20%20%20%20%20%20%20%20%20%20%20%5B37.50049%2C%20126.986012%5D%2C%0A%20%20%20%20%20%20%20%20%20%20%20%20%20%20%20%20%7B%22zoomStart%22%3A%2012%7D%0A%20%20%20%20%20%20%20%20%20%20%20%20%29.addTo%28marker_cluster_989990b9e92546129e063f5ea07e0309%29%3B%0A%20%20%20%20%20%20%20%20%0A%20%20%20%20%0A%20%20%20%20%20%20%20%20var%20popup_3d86be16f453475bbf384c6ee5c11098%20%3D%20L.popup%28%7B%22maxWidth%22%3A%20%22100%25%22%7D%29%3B%0A%0A%20%20%20%20%20%20%20%20%0A%20%20%20%20%20%20%20%20%20%20%20%20var%20html_257fc777da054e33bc46a104e9e711da%20%3D%20%24%28%60%3Cdiv%20id%3D%22html_257fc777da054e33bc46a104e9e711da%22%20style%3D%22width%3A%20100.0%25%3B%20height%3A%20100.0%25%3B%22%3E18740%3C/div%3E%60%29%5B0%5D%3B%0A%20%20%20%20%20%20%20%20%20%20%20%20popup_3d86be16f453475bbf384c6ee5c11098.setContent%28html_257fc777da054e33bc46a104e9e711da%29%3B%0A%20%20%20%20%20%20%20%20%0A%0A%20%20%20%20%20%20%20%20marker_f5b0c1ca4cf849d0904644a4d8eb1cd6.bindPopup%28popup_3d86be16f453475bbf384c6ee5c11098%29%0A%20%20%20%20%20%20%20%20%3B%0A%0A%20%20%20%20%20%20%20%20%0A%20%20%20%20%0A%20%20%20%20%0A%20%20%20%20%20%20%20%20%20%20%20%20var%20marker_f3f130b7c4e746ae925bde34453bee32%20%3D%20L.marker%28%0A%20%20%20%20%20%20%20%20%20%20%20%20%20%20%20%20%5B37.494151%2C%20126.988688%5D%2C%0A%20%20%20%20%20%20%20%20%20%20%20%20%20%20%20%20%7B%22zoomStart%22%3A%2012%7D%0A%20%20%20%20%20%20%20%20%20%20%20%20%29.addTo%28marker_cluster_989990b9e92546129e063f5ea07e0309%29%3B%0A%20%20%20%20%20%20%20%20%0A%20%20%20%20%0A%20%20%20%20%20%20%20%20var%20popup_396361956d2d4da899147a3f26ffc11e%20%3D%20L.popup%28%7B%22maxWidth%22%3A%20%22100%25%22%7D%29%3B%0A%0A%20%20%20%20%20%20%20%20%0A%20%20%20%20%20%20%20%20%20%20%20%20var%20html_2aaf48d32e5e4f98aada1923cb97753e%20%3D%20%24%28%60%3Cdiv%20id%3D%22html_2aaf48d32e5e4f98aada1923cb97753e%22%20style%3D%22width%3A%20100.0%25%3B%20height%3A%20100.0%25%3B%22%3E26012%3C/div%3E%60%29%5B0%5D%3B%0A%20%20%20%20%20%20%20%20%20%20%20%20popup_396361956d2d4da899147a3f26ffc11e.setContent%28html_2aaf48d32e5e4f98aada1923cb97753e%29%3B%0A%20%20%20%20%20%20%20%20%0A%0A%20%20%20%20%20%20%20%20marker_f3f130b7c4e746ae925bde34453bee32.bindPopup%28popup_396361956d2d4da899147a3f26ffc11e%29%0A%20%20%20%20%20%20%20%20%3B%0A%0A%20%20%20%20%20%20%20%20%0A%20%20%20%20%0A%20%20%20%20%0A%20%20%20%20%20%20%20%20%20%20%20%20var%20marker_bde95af342de421a8a6c6d026596f904%20%3D%20L.marker%28%0A%20%20%20%20%20%20%20%20%20%20%20%20%20%20%20%20%5B37.474839%2C%20127.041717%5D%2C%0A%20%20%20%20%20%20%20%20%20%20%20%20%20%20%20%20%7B%22zoomStart%22%3A%2012%7D%0A%20%20%20%20%20%20%20%20%20%20%20%20%29.addTo%28marker_cluster_989990b9e92546129e063f5ea07e0309%29%3B%0A%20%20%20%20%20%20%20%20%0A%20%20%20%20%0A%20%20%20%20%20%20%20%20var%20popup_653e3259c3754c1689b28379131f795c%20%3D%20L.popup%28%7B%22maxWidth%22%3A%20%22100%25%22%7D%29%3B%0A%0A%20%20%20%20%20%20%20%20%0A%20%20%20%20%20%20%20%20%20%20%20%20var%20html_46e3949f967b4050928c8192ee513bad%20%3D%20%24%28%60%3Cdiv%20id%3D%22html_46e3949f967b4050928c8192ee513bad%22%20style%3D%22width%3A%20100.0%25%3B%20height%3A%20100.0%25%3B%22%3E22664%3C/div%3E%60%29%5B0%5D%3B%0A%20%20%20%20%20%20%20%20%20%20%20%20popup_653e3259c3754c1689b28379131f795c.setContent%28html_46e3949f967b4050928c8192ee513bad%29%3B%0A%20%20%20%20%20%20%20%20%0A%0A%20%20%20%20%20%20%20%20marker_bde95af342de421a8a6c6d026596f904.bindPopup%28popup_653e3259c3754c1689b28379131f795c%29%0A%20%20%20%20%20%20%20%20%3B%0A%0A%20%20%20%20%20%20%20%20%0A%20%20%20%20%0A%20%20%20%20%0A%20%20%20%20%20%20%20%20%20%20%20%20var%20marker_2ec03f966bc748a7b0db19b30714c8ee%20%3D%20L.marker%28%0A%20%20%20%20%20%20%20%20%20%20%20%20%20%20%20%20%5B37.466629%2C%20127.021892%5D%2C%0A%20%20%20%20%20%20%20%20%20%20%20%20%20%20%20%20%7B%22zoomStart%22%3A%2012%7D%0A%20%20%20%20%20%20%20%20%20%20%20%20%29.addTo%28marker_cluster_989990b9e92546129e063f5ea07e0309%29%3B%0A%20%20%20%20%20%20%20%20%0A%20%20%20%20%0A%20%20%20%20%20%20%20%20var%20popup_61176b558e064a9ead526925c5b26c79%20%3D%20L.popup%28%7B%22maxWidth%22%3A%20%22100%25%22%7D%29%3B%0A%0A%20%20%20%20%20%20%20%20%0A%20%20%20%20%20%20%20%20%20%20%20%20var%20html_00cc8a28203f463f9d08f75d8d6d66fe%20%3D%20%24%28%60%3Cdiv%20id%3D%22html_00cc8a28203f463f9d08f75d8d6d66fe%22%20style%3D%22width%3A%20100.0%25%3B%20height%3A%20100.0%25%3B%22%3E2964%3C/div%3E%60%29%5B0%5D%3B%0A%20%20%20%20%20%20%20%20%20%20%20%20popup_61176b558e064a9ead526925c5b26c79.setContent%28html_00cc8a28203f463f9d08f75d8d6d66fe%29%3B%0A%20%20%20%20%20%20%20%20%0A%0A%20%20%20%20%20%20%20%20marker_2ec03f966bc748a7b0db19b30714c8ee.bindPopup%28popup_61176b558e064a9ead526925c5b26c79%29%0A%20%20%20%20%20%20%20%20%3B%0A%0A%20%20%20%20%20%20%20%20%0A%20%20%20%20%0A%20%20%20%20%0A%20%20%20%20%20%20%20%20%20%20%20%20var%20marker_b1645b441b854f329dd61165770afec5%20%3D%20L.marker%28%0A%20%20%20%20%20%20%20%20%20%20%20%20%20%20%20%20%5B37.446848%2C%20127.053774%5D%2C%0A%20%20%20%20%20%20%20%20%20%20%20%20%20%20%20%20%7B%22zoomStart%22%3A%2012%7D%0A%20%20%20%20%20%20%20%20%20%20%20%20%29.addTo%28marker_cluster_989990b9e92546129e063f5ea07e0309%29%3B%0A%20%20%20%20%20%20%20%20%0A%20%20%20%20%0A%20%20%20%20%20%20%20%20var%20popup_988d17457ec44c88b2db142d0396dbb2%20%3D%20L.popup%28%7B%22maxWidth%22%3A%20%22100%25%22%7D%29%3B%0A%0A%20%20%20%20%20%20%20%20%0A%20%20%20%20%20%20%20%20%20%20%20%20var%20html_86e2e054adbf4de0acaa30999747f33b%20%3D%20%24%28%60%3Cdiv%20id%3D%22html_86e2e054adbf4de0acaa30999747f33b%22%20style%3D%22width%3A%20100.0%25%3B%20height%3A%20100.0%25%3B%22%3E689%3C/div%3E%60%29%5B0%5D%3B%0A%20%20%20%20%20%20%20%20%20%20%20%20popup_988d17457ec44c88b2db142d0396dbb2.setContent%28html_86e2e054adbf4de0acaa30999747f33b%29%3B%0A%20%20%20%20%20%20%20%20%0A%0A%20%20%20%20%20%20%20%20marker_b1645b441b854f329dd61165770afec5.bindPopup%28popup_988d17457ec44c88b2db142d0396dbb2%29%0A%20%20%20%20%20%20%20%20%3B%0A%0A%20%20%20%20%20%20%20%20%0A%20%20%20%20%0A%20%20%20%20%0A%20%20%20%20%20%20%20%20%20%20%20%20var%20marker_57d423e8acea48508791ed62f73a8177%20%3D%20L.marker%28%0A%20%20%20%20%20%20%20%20%20%20%20%20%20%20%20%20%5B37.456881%2C%20127.074171%5D%2C%0A%20%20%20%20%20%20%20%20%20%20%20%20%20%20%20%20%7B%22zoomStart%22%3A%2012%7D%0A%20%20%20%20%20%20%20%20%20%20%20%20%29.addTo%28marker_cluster_989990b9e92546129e063f5ea07e0309%29%3B%0A%20%20%20%20%20%20%20%20%0A%20%20%20%20%0A%20%20%20%20%20%20%20%20var%20popup_7359b22ae90048009642558e5237e1b7%20%3D%20L.popup%28%7B%22maxWidth%22%3A%20%22100%25%22%7D%29%3B%0A%0A%20%20%20%20%20%20%20%20%0A%20%20%20%20%20%20%20%20%20%20%20%20var%20html_3147108bcece4a0799bc015f201f498b%20%3D%20%24%28%60%3Cdiv%20id%3D%22html_3147108bcece4a0799bc015f201f498b%22%20style%3D%22width%3A%20100.0%25%3B%20height%3A%20100.0%25%3B%22%3E2504%3C/div%3E%60%29%5B0%5D%3B%0A%20%20%20%20%20%20%20%20%20%20%20%20popup_7359b22ae90048009642558e5237e1b7.setContent%28html_3147108bcece4a0799bc015f201f498b%29%3B%0A%20%20%20%20%20%20%20%20%0A%0A%20%20%20%20%20%20%20%20marker_57d423e8acea48508791ed62f73a8177.bindPopup%28popup_7359b22ae90048009642558e5237e1b7%29%0A%20%20%20%20%20%20%20%20%3B%0A%0A%20%20%20%20%20%20%20%20%0A%20%20%20%20%0A%20%20%20%20%0A%20%20%20%20%20%20%20%20%20%20%20%20var%20marker_f3668735c02f4d33ab749c505c7fc1e3%20%3D%20L.marker%28%0A%20%20%20%20%20%20%20%20%20%20%20%20%20%20%20%20%5B37.462035%2C%20127.052837%5D%2C%0A%20%20%20%20%20%20%20%20%20%20%20%20%20%20%20%20%7B%22zoomStart%22%3A%2012%7D%0A%20%20%20%20%20%20%20%20%20%20%20%20%29.addTo%28marker_cluster_989990b9e92546129e063f5ea07e0309%29%3B%0A%20%20%20%20%20%20%20%20%0A%20%20%20%20%0A%20%20%20%20%20%20%20%20var%20popup_6de39aa7365e40059a4539c9eec6e64f%20%3D%20L.popup%28%7B%22maxWidth%22%3A%20%22100%25%22%7D%29%3B%0A%0A%20%20%20%20%20%20%20%20%0A%20%20%20%20%20%20%20%20%20%20%20%20var%20html_0066a87e47a54bffa4fe6c70b79cb68b%20%3D%20%24%28%60%3Cdiv%20id%3D%22html_0066a87e47a54bffa4fe6c70b79cb68b%22%20style%3D%22width%3A%20100.0%25%3B%20height%3A%20100.0%25%3B%22%3E586%3C/div%3E%60%29%5B0%5D%3B%0A%20%20%20%20%20%20%20%20%20%20%20%20popup_6de39aa7365e40059a4539c9eec6e64f.setContent%28html_0066a87e47a54bffa4fe6c70b79cb68b%29%3B%0A%20%20%20%20%20%20%20%20%0A%0A%20%20%20%20%20%20%20%20marker_f3668735c02f4d33ab749c505c7fc1e3.bindPopup%28popup_6de39aa7365e40059a4539c9eec6e64f%29%0A%20%20%20%20%20%20%20%20%3B%0A%0A%20%20%20%20%20%20%20%20%0A%20%20%20%20%0A%20%20%20%20%0A%20%20%20%20%20%20%20%20%20%20%20%20var%20marker_c8b4fea3721045d2b22c37363f8ed9b3%20%3D%20L.marker%28%0A%20%20%20%20%20%20%20%20%20%20%20%20%20%20%20%20%5B37.447112%2C%20127.058841%5D%2C%0A%20%20%20%20%20%20%20%20%20%20%20%20%20%20%20%20%7B%22zoomStart%22%3A%2012%7D%0A%20%20%20%20%20%20%20%20%20%20%20%20%29.addTo%28marker_cluster_989990b9e92546129e063f5ea07e0309%29%3B%0A%20%20%20%20%20%20%20%20%0A%20%20%20%20%0A%20%20%20%20%20%20%20%20var%20popup_b211069970f84cd1aa42a6ed3416077e%20%3D%20L.popup%28%7B%22maxWidth%22%3A%20%22100%25%22%7D%29%3B%0A%0A%20%20%20%20%20%20%20%20%0A%20%20%20%20%20%20%20%20%20%20%20%20var%20html_ffaded51f97e4b329ba19b471cbc7426%20%3D%20%24%28%60%3Cdiv%20id%3D%22html_ffaded51f97e4b329ba19b471cbc7426%22%20style%3D%22width%3A%20100.0%25%3B%20height%3A%20100.0%25%3B%22%3E4218%3C/div%3E%60%29%5B0%5D%3B%0A%20%20%20%20%20%20%20%20%20%20%20%20popup_b211069970f84cd1aa42a6ed3416077e.setContent%28html_ffaded51f97e4b329ba19b471cbc7426%29%3B%0A%20%20%20%20%20%20%20%20%0A%0A%20%20%20%20%20%20%20%20marker_c8b4fea3721045d2b22c37363f8ed9b3.bindPopup%28popup_b211069970f84cd1aa42a6ed3416077e%29%0A%20%20%20%20%20%20%20%20%3B%0A%0A%20%20%20%20%20%20%20%20%0A%20%20%20%20%0A%20%20%20%20%0A%20%20%20%20%20%20%20%20%20%20%20%20var%20marker_06772172bdd4435a8655286ce4016348%20%3D%20L.marker%28%0A%20%20%20%20%20%20%20%20%20%20%20%20%20%20%20%20%5B37.539776%2C%20126.869079%5D%2C%0A%20%20%20%20%20%20%20%20%20%20%20%20%20%20%20%20%7B%22zoomStart%22%3A%2012%7D%0A%20%20%20%20%20%20%20%20%20%20%20%20%29.addTo%28marker_cluster_989990b9e92546129e063f5ea07e0309%29%3B%0A%20%20%20%20%20%20%20%20%0A%20%20%20%20%0A%20%20%20%20%20%20%20%20var%20popup_de32b3143b744c3cb1365e22fdfeae9d%20%3D%20L.popup%28%7B%22maxWidth%22%3A%20%22100%25%22%7D%29%3B%0A%0A%20%20%20%20%20%20%20%20%0A%20%20%20%20%20%20%20%20%20%20%20%20var%20html_3ca03f3100424f4e9510577769ca1d30%20%3D%20%24%28%60%3Cdiv%20id%3D%22html_3ca03f3100424f4e9510577769ca1d30%22%20style%3D%22width%3A%20100.0%25%3B%20height%3A%20100.0%25%3B%22%3E30576%3C/div%3E%60%29%5B0%5D%3B%0A%20%20%20%20%20%20%20%20%20%20%20%20popup_de32b3143b744c3cb1365e22fdfeae9d.setContent%28html_3ca03f3100424f4e9510577769ca1d30%29%3B%0A%20%20%20%20%20%20%20%20%0A%0A%20%20%20%20%20%20%20%20marker_06772172bdd4435a8655286ce4016348.bindPopup%28popup_de32b3143b744c3cb1365e22fdfeae9d%29%0A%20%20%20%20%20%20%20%20%3B%0A%0A%20%20%20%20%20%20%20%20%0A%20%20%20%20%0A%20%20%20%20%0A%20%20%20%20%20%20%20%20%20%20%20%20var%20marker_92b2eae3504e49ff8d340032ade7866f%20%3D%20L.marker%28%0A%20%20%20%20%20%20%20%20%20%20%20%20%20%20%20%20%5B37.529444%2C%20126.834248%5D%2C%0A%20%20%20%20%20%20%20%20%20%20%20%20%20%20%20%20%7B%22zoomStart%22%3A%2012%7D%0A%20%20%20%20%20%20%20%20%20%20%20%20%29.addTo%28marker_cluster_989990b9e92546129e063f5ea07e0309%29%3B%0A%20%20%20%20%20%20%20%20%0A%20%20%20%20%0A%20%20%20%20%20%20%20%20var%20popup_eeacd2d64a654f6589ecf30ddc133e7c%20%3D%20L.popup%28%7B%22maxWidth%22%3A%20%22100%25%22%7D%29%3B%0A%0A%20%20%20%20%20%20%20%20%0A%20%20%20%20%20%20%20%20%20%20%20%20var%20html_7e98463ac9e9448c962cee2605be638d%20%3D%20%24%28%60%3Cdiv%20id%3D%22html_7e98463ac9e9448c962cee2605be638d%22%20style%3D%22width%3A%20100.0%25%3B%20height%3A%20100.0%25%3B%22%3E22317%3C/div%3E%60%29%5B0%5D%3B%0A%20%20%20%20%20%20%20%20%20%20%20%20popup_eeacd2d64a654f6589ecf30ddc133e7c.setContent%28html_7e98463ac9e9448c962cee2605be638d%29%3B%0A%20%20%20%20%20%20%20%20%0A%0A%20%20%20%20%20%20%20%20marker_92b2eae3504e49ff8d340032ade7866f.bindPopup%28popup_eeacd2d64a654f6589ecf30ddc133e7c%29%0A%20%20%20%20%20%20%20%20%3B%0A%0A%20%20%20%20%20%20%20%20%0A%20%20%20%20%0A%20%20%20%20%0A%20%20%20%20%20%20%20%20%20%20%20%20var%20marker_9b09ca3a044c4602a1dd13ab51d2ad29%20%3D%20L.marker%28%0A%20%20%20%20%20%20%20%20%20%20%20%20%20%20%20%20%5B37.521636%2C%20126.857957%5D%2C%0A%20%20%20%20%20%20%20%20%20%20%20%20%20%20%20%20%7B%22zoomStart%22%3A%2012%7D%0A%20%20%20%20%20%20%20%20%20%20%20%20%29.addTo%28marker_cluster_989990b9e92546129e063f5ea07e0309%29%3B%0A%20%20%20%20%20%20%20%20%0A%20%20%20%20%0A%20%20%20%20%20%20%20%20var%20popup_2ed282e8e09c4f57acfaf72d33ba1347%20%3D%20L.popup%28%7B%22maxWidth%22%3A%20%22100%25%22%7D%29%3B%0A%0A%20%20%20%20%20%20%20%20%0A%20%20%20%20%20%20%20%20%20%20%20%20var%20html_ef7009df33224815ad236892830280fd%20%3D%20%24%28%60%3Cdiv%20id%3D%22html_ef7009df33224815ad236892830280fd%22%20style%3D%22width%3A%20100.0%25%3B%20height%3A%20100.0%25%3B%22%3E36422%3C/div%3E%60%29%5B0%5D%3B%0A%20%20%20%20%20%20%20%20%20%20%20%20popup_2ed282e8e09c4f57acfaf72d33ba1347.setContent%28html_ef7009df33224815ad236892830280fd%29%3B%0A%20%20%20%20%20%20%20%20%0A%0A%20%20%20%20%20%20%20%20marker_9b09ca3a044c4602a1dd13ab51d2ad29.bindPopup%28popup_2ed282e8e09c4f57acfaf72d33ba1347%29%0A%20%20%20%20%20%20%20%20%3B%0A%0A%20%20%20%20%20%20%20%20%0A%20%20%20%20%0A%20%20%20%20%0A%20%20%20%20%20%20%20%20%20%20%20%20var%20marker_45c74b2987954a85a431422689e2e488%20%3D%20L.marker%28%0A%20%20%20%20%20%20%20%20%20%20%20%20%20%20%20%20%5B37.528625%2C%20126.907439%5D%2C%0A%20%20%20%20%20%20%20%20%20%20%20%20%20%20%20%20%7B%22zoomStart%22%3A%2012%7D%0A%20%20%20%20%20%20%20%20%20%20%20%20%29.addTo%28marker_cluster_989990b9e92546129e063f5ea07e0309%29%3B%0A%20%20%20%20%20%20%20%20%0A%20%20%20%20%0A%20%20%20%20%20%20%20%20var%20popup_62ada7ebf0584c8ba9042830cd5f5fa8%20%3D%20L.popup%28%7B%22maxWidth%22%3A%20%22100%25%22%7D%29%3B%0A%0A%20%20%20%20%20%20%20%20%0A%20%20%20%20%20%20%20%20%20%20%20%20var%20html_ca3fcefe87b34a61b72049b42a438ec8%20%3D%20%24%28%60%3Cdiv%20id%3D%22html_ca3fcefe87b34a61b72049b42a438ec8%22%20style%3D%22width%3A%20100.0%25%3B%20height%3A%20100.0%25%3B%22%3E14245%3C/div%3E%60%29%5B0%5D%3B%0A%20%20%20%20%20%20%20%20%20%20%20%20popup_62ada7ebf0584c8ba9042830cd5f5fa8.setContent%28html_ca3fcefe87b34a61b72049b42a438ec8%29%3B%0A%20%20%20%20%20%20%20%20%0A%0A%20%20%20%20%20%20%20%20marker_45c74b2987954a85a431422689e2e488.bindPopup%28popup_62ada7ebf0584c8ba9042830cd5f5fa8%29%0A%20%20%20%20%20%20%20%20%3B%0A%0A%20%20%20%20%20%20%20%20%0A%20%20%20%20%0A%20%20%20%20%0A%20%20%20%20%20%20%20%20%20%20%20%20var%20marker_e968f7d02d05434cb89df476a56a79c2%20%3D%20L.marker%28%0A%20%20%20%20%20%20%20%20%20%20%20%20%20%20%20%20%5B37.494306%2C%20126.900642%5D%2C%0A%20%20%20%20%20%20%20%20%20%20%20%20%20%20%20%20%7B%22zoomStart%22%3A%2012%7D%0A%20%20%20%20%20%20%20%20%20%20%20%20%29.addTo%28marker_cluster_989990b9e92546129e063f5ea07e0309%29%3B%0A%20%20%20%20%20%20%20%20%0A%20%20%20%20%0A%20%20%20%20%20%20%20%20var%20popup_2472abca322642ec9a503fa8f60d91bb%20%3D%20L.popup%28%7B%22maxWidth%22%3A%20%22100%25%22%7D%29%3B%0A%0A%20%20%20%20%20%20%20%20%0A%20%20%20%20%20%20%20%20%20%20%20%20var%20html_7d528ba2207f44da954f40d0c4945a66%20%3D%20%24%28%60%3Cdiv%20id%3D%22html_7d528ba2207f44da954f40d0c4945a66%22%20style%3D%22width%3A%20100.0%25%3B%20height%3A%20100.0%25%3B%22%3E21996%3C/div%3E%60%29%5B0%5D%3B%0A%20%20%20%20%20%20%20%20%20%20%20%20popup_2472abca322642ec9a503fa8f60d91bb.setContent%28html_7d528ba2207f44da954f40d0c4945a66%29%3B%0A%20%20%20%20%20%20%20%20%0A%0A%20%20%20%20%20%20%20%20marker_e968f7d02d05434cb89df476a56a79c2.bindPopup%28popup_2472abca322642ec9a503fa8f60d91bb%29%0A%20%20%20%20%20%20%20%20%3B%0A%0A%20%20%20%20%20%20%20%20%0A%20%20%20%20%0A%20%20%20%20%0A%20%20%20%20%20%20%20%20%20%20%20%20var%20marker_937ee57269fb4e83b650c529a4cb0dcc%20%3D%20L.marker%28%0A%20%20%20%20%20%20%20%20%20%20%20%20%20%20%20%20%5B37.509277%2C%20126.902494%5D%2C%0A%20%20%20%20%20%20%20%20%20%20%20%20%20%20%20%20%7B%22zoomStart%22%3A%2012%7D%0A%20%20%20%20%20%20%20%20%20%20%20%20%29.addTo%28marker_cluster_989990b9e92546129e063f5ea07e0309%29%3B%0A%20%20%20%20%20%20%20%20%0A%20%20%20%20%0A%20%20%20%20%20%20%20%20var%20popup_627b831106cb455290fd422c4a25d5e7%20%3D%20L.popup%28%7B%22maxWidth%22%3A%20%22100%25%22%7D%29%3B%0A%0A%20%20%20%20%20%20%20%20%0A%20%20%20%20%20%20%20%20%20%20%20%20var%20html_12a2df9b411e4501b97ca2f23a435e42%20%3D%20%24%28%60%3Cdiv%20id%3D%22html_12a2df9b411e4501b97ca2f23a435e42%22%20style%3D%22width%3A%20100.0%25%3B%20height%3A%20100.0%25%3B%22%3E2977%3C/div%3E%60%29%5B0%5D%3B%0A%20%20%20%20%20%20%20%20%20%20%20%20popup_627b831106cb455290fd422c4a25d5e7.setContent%28html_12a2df9b411e4501b97ca2f23a435e42%29%3B%0A%20%20%20%20%20%20%20%20%0A%0A%20%20%20%20%20%20%20%20marker_937ee57269fb4e83b650c529a4cb0dcc.bindPopup%28popup_627b831106cb455290fd422c4a25d5e7%29%0A%20%20%20%20%20%20%20%20%3B%0A%0A%20%20%20%20%20%20%20%20%0A%20%20%20%20%0A%20%20%20%20%0A%20%20%20%20%20%20%20%20%20%20%20%20var%20marker_dc69c7082649494fac75c2924714572e%20%3D%20L.marker%28%0A%20%20%20%20%20%20%20%20%20%20%20%20%20%20%20%20%5B37.517141%2C%20126.899454%5D%2C%0A%20%20%20%20%20%20%20%20%20%20%20%20%20%20%20%20%7B%22zoomStart%22%3A%2012%7D%0A%20%20%20%20%20%20%20%20%20%20%20%20%29.addTo%28marker_cluster_989990b9e92546129e063f5ea07e0309%29%3B%0A%20%20%20%20%20%20%20%20%0A%20%20%20%20%0A%20%20%20%20%20%20%20%20var%20popup_30c29f5852a4423586c7c81ae14acce0%20%3D%20L.popup%28%7B%22maxWidth%22%3A%20%22100%25%22%7D%29%3B%0A%0A%20%20%20%20%20%20%20%20%0A%20%20%20%20%20%20%20%20%20%20%20%20var%20html_ee60fdec32204742a4d97dc28c490989%20%3D%20%24%28%60%3Cdiv%20id%3D%22html_ee60fdec32204742a4d97dc28c490989%22%20style%3D%22width%3A%20100.0%25%3B%20height%3A%20100.0%25%3B%22%3E12416%3C/div%3E%60%29%5B0%5D%3B%0A%20%20%20%20%20%20%20%20%20%20%20%20popup_30c29f5852a4423586c7c81ae14acce0.setContent%28html_ee60fdec32204742a4d97dc28c490989%29%3B%0A%20%20%20%20%20%20%20%20%0A%0A%20%20%20%20%20%20%20%20marker_dc69c7082649494fac75c2924714572e.bindPopup%28popup_30c29f5852a4423586c7c81ae14acce0%29%0A%20%20%20%20%20%20%20%20%3B%0A%0A%20%20%20%20%20%20%20%20%0A%20%20%20%20%0A%20%20%20%20%0A%20%20%20%20%20%20%20%20%20%20%20%20var%20marker_832f734c793747a187938e556d2f7243%20%3D%20L.marker%28%0A%20%20%20%20%20%20%20%20%20%20%20%20%20%20%20%20%5B37.507088%2C%20126.913103%5D%2C%0A%20%20%20%20%20%20%20%20%20%20%20%20%20%20%20%20%7B%22zoomStart%22%3A%2012%7D%0A%20%20%20%20%20%20%20%20%20%20%20%20%29.addTo%28marker_cluster_989990b9e92546129e063f5ea07e0309%29%3B%0A%20%20%20%20%20%20%20%20%0A%20%20%20%20%0A%20%20%20%20%20%20%20%20var%20popup_f8e4a820a5ae4f05867e8de04c401e1a%20%3D%20L.popup%28%7B%22maxWidth%22%3A%20%22100%25%22%7D%29%3B%0A%0A%20%20%20%20%20%20%20%20%0A%20%20%20%20%20%20%20%20%20%20%20%20var%20html_31b38d5e0716459187594720bfebde89%20%3D%20%24%28%60%3Cdiv%20id%3D%22html_31b38d5e0716459187594720bfebde89%22%20style%3D%22width%3A%20100.0%25%3B%20height%3A%20100.0%25%3B%22%3E21523%3C/div%3E%60%29%5B0%5D%3B%0A%20%20%20%20%20%20%20%20%20%20%20%20popup_f8e4a820a5ae4f05867e8de04c401e1a.setContent%28html_31b38d5e0716459187594720bfebde89%29%3B%0A%20%20%20%20%20%20%20%20%0A%0A%20%20%20%20%20%20%20%20marker_832f734c793747a187938e556d2f7243.bindPopup%28popup_f8e4a820a5ae4f05867e8de04c401e1a%29%0A%20%20%20%20%20%20%20%20%3B%0A%0A%20%20%20%20%20%20%20%20%0A%20%20%20%20%0A%20%20%20%20%0A%20%20%20%20%20%20%20%20%20%20%20%20var%20marker_6bef661902434363888723320aad9c16%20%3D%20L.marker%28%0A%20%20%20%20%20%20%20%20%20%20%20%20%20%20%20%20%5B37.522602%2C%20126.881344%5D%2C%0A%20%20%20%20%20%20%20%20%20%20%20%20%20%20%20%20%7B%22zoomStart%22%3A%2012%7D%0A%20%20%20%20%20%20%20%20%20%20%20%20%29.addTo%28marker_cluster_989990b9e92546129e063f5ea07e0309%29%3B%0A%20%20%20%20%20%20%20%20%0A%20%20%20%20%0A%20%20%20%20%20%20%20%20var%20popup_2cbd9eee49de4f898f85d9b3673e6938%20%3D%20L.popup%28%7B%22maxWidth%22%3A%20%22100%25%22%7D%29%3B%0A%0A%20%20%20%20%20%20%20%20%0A%20%20%20%20%20%20%20%20%20%20%20%20var%20html_c5bb7ee1b60045188690e7148a01c512%20%3D%20%24%28%60%3Cdiv%20id%3D%22html_c5bb7ee1b60045188690e7148a01c512%22%20style%3D%22width%3A%20100.0%25%3B%20height%3A%20100.0%25%3B%22%3E14860%3C/div%3E%60%29%5B0%5D%3B%0A%20%20%20%20%20%20%20%20%20%20%20%20popup_2cbd9eee49de4f898f85d9b3673e6938.setContent%28html_c5bb7ee1b60045188690e7148a01c512%29%3B%0A%20%20%20%20%20%20%20%20%0A%0A%20%20%20%20%20%20%20%20marker_6bef661902434363888723320aad9c16.bindPopup%28popup_2cbd9eee49de4f898f85d9b3673e6938%29%0A%20%20%20%20%20%20%20%20%3B%0A%0A%20%20%20%20%20%20%20%20%0A%20%20%20%20%0A%20%20%20%20%0A%20%20%20%20%20%20%20%20%20%20%20%20var%20marker_b8102584975a498881c768c5d9d77cbd%20%3D%20L.marker%28%0A%20%20%20%20%20%20%20%20%20%20%20%20%20%20%20%20%5B37.545629%2C%20126.891554%5D%2C%0A%20%20%20%20%20%20%20%20%20%20%20%20%20%20%20%20%7B%22zoomStart%22%3A%2012%7D%0A%20%20%20%20%20%20%20%20%20%20%20%20%29.addTo%28marker_cluster_989990b9e92546129e063f5ea07e0309%29%3B%0A%20%20%20%20%20%20%20%20%0A%20%20%20%20%0A%20%20%20%20%20%20%20%20var%20popup_f5e7be92630e4339b93a3ffa79869430%20%3D%20L.popup%28%7B%22maxWidth%22%3A%20%22100%25%22%7D%29%3B%0A%0A%20%20%20%20%20%20%20%20%0A%20%20%20%20%20%20%20%20%20%20%20%20var%20html_e96bf81cc21c4b8b876795095a200595%20%3D%20%24%28%60%3Cdiv%20id%3D%22html_e96bf81cc21c4b8b876795095a200595%22%20style%3D%22width%3A%20100.0%25%3B%20height%3A%20100.0%25%3B%22%3E223%3C/div%3E%60%29%5B0%5D%3B%0A%20%20%20%20%20%20%20%20%20%20%20%20popup_f5e7be92630e4339b93a3ffa79869430.setContent%28html_e96bf81cc21c4b8b876795095a200595%29%3B%0A%20%20%20%20%20%20%20%20%0A%0A%20%20%20%20%20%20%20%20marker_b8102584975a498881c768c5d9d77cbd.bindPopup%28popup_f5e7be92630e4339b93a3ffa79869430%29%0A%20%20%20%20%20%20%20%20%3B%0A%0A%20%20%20%20%20%20%20%20%0A%20%20%20%20%0A%20%20%20%20%0A%20%20%20%20%20%20%20%20%20%20%20%20var%20marker_35c98a7b7eaa4f5d9c55bd888df191f4%20%3D%20L.marker%28%0A%20%20%20%20%20%20%20%20%20%20%20%20%20%20%20%20%5B37.524371%2C%20126.925958%5D%2C%0A%20%20%20%20%20%20%20%20%20%20%20%20%20%20%20%20%7B%22zoomStart%22%3A%2012%7D%0A%20%20%20%20%20%20%20%20%20%20%20%20%29.addTo%28marker_cluster_989990b9e92546129e063f5ea07e0309%29%3B%0A%20%20%20%20%20%20%20%20%0A%20%20%20%20%0A%20%20%20%20%20%20%20%20var%20popup_4b1f032b4ed543edbc31140c200f9a9f%20%3D%20L.popup%28%7B%22maxWidth%22%3A%20%22100%25%22%7D%29%3B%0A%0A%20%20%20%20%20%20%20%20%0A%20%20%20%20%20%20%20%20%20%20%20%20var%20html_b9e0918e2ffd408dbe74ab9535abd294%20%3D%20%24%28%60%3Cdiv%20id%3D%22html_b9e0918e2ffd408dbe74ab9535abd294%22%20style%3D%22width%3A%20100.0%25%3B%20height%3A%20100.0%25%3B%22%3E25757%3C/div%3E%60%29%5B0%5D%3B%0A%20%20%20%20%20%20%20%20%20%20%20%20popup_4b1f032b4ed543edbc31140c200f9a9f.setContent%28html_b9e0918e2ffd408dbe74ab9535abd294%29%3B%0A%20%20%20%20%20%20%20%20%0A%0A%20%20%20%20%20%20%20%20marker_35c98a7b7eaa4f5d9c55bd888df191f4.bindPopup%28popup_4b1f032b4ed543edbc31140c200f9a9f%29%0A%20%20%20%20%20%20%20%20%3B%0A%0A%20%20%20%20%20%20%20%20%0A%20%20%20%20%0A%20%20%20%20%0A%20%20%20%20%20%20%20%20%20%20%20%20var%20marker_186bb98f2d414bc59bee75a4f5326025%20%3D%20L.marker%28%0A%20%20%20%20%20%20%20%20%20%20%20%20%20%20%20%20%5B37.513448%2C%20126.907724%5D%2C%0A%20%20%20%20%20%20%20%20%20%20%20%20%20%20%20%20%7B%22zoomStart%22%3A%2012%7D%0A%20%20%20%20%20%20%20%20%20%20%20%20%29.addTo%28marker_cluster_989990b9e92546129e063f5ea07e0309%29%3B%0A%20%20%20%20%20%20%20%20%0A%20%20%20%20%0A%20%20%20%20%20%20%20%20var%20popup_ca1c6f54612c4dd5aee2f0b8079396c2%20%3D%20L.popup%28%7B%22maxWidth%22%3A%20%22100%25%22%7D%29%3B%0A%0A%20%20%20%20%20%20%20%20%0A%20%20%20%20%20%20%20%20%20%20%20%20var%20html_edda771e6a6b48509ddd0a04527a2d33%20%3D%20%24%28%60%3Cdiv%20id%3D%22html_edda771e6a6b48509ddd0a04527a2d33%22%20style%3D%22width%3A%20100.0%25%3B%20height%3A%20100.0%25%3B%22%3E17735%3C/div%3E%60%29%5B0%5D%3B%0A%20%20%20%20%20%20%20%20%20%20%20%20popup_ca1c6f54612c4dd5aee2f0b8079396c2.setContent%28html_edda771e6a6b48509ddd0a04527a2d33%29%3B%0A%20%20%20%20%20%20%20%20%0A%0A%20%20%20%20%20%20%20%20marker_186bb98f2d414bc59bee75a4f5326025.bindPopup%28popup_ca1c6f54612c4dd5aee2f0b8079396c2%29%0A%20%20%20%20%20%20%20%20%3B%0A%0A%20%20%20%20%20%20%20%20%0A%20%20%20%20%0A%20%20%20%20%0A%20%20%20%20%20%20%20%20%20%20%20%20var%20marker_4f1ed68553cd48dfb06134293b211c7f%20%3D%20L.marker%28%0A%20%20%20%20%20%20%20%20%20%20%20%20%20%20%20%20%5B37.496486%2C%20127.126006%5D%2C%0A%20%20%20%20%20%20%20%20%20%20%20%20%20%20%20%20%7B%22zoomStart%22%3A%2012%7D%0A%20%20%20%20%20%20%20%20%20%20%20%20%29.addTo%28marker_cluster_989990b9e92546129e063f5ea07e0309%29%3B%0A%20%20%20%20%20%20%20%20%0A%20%20%20%20%0A%20%20%20%20%20%20%20%20var%20popup_9e303cc3111c4d8aae212e82c48c4bf1%20%3D%20L.popup%28%7B%22maxWidth%22%3A%20%22100%25%22%7D%29%3B%0A%0A%20%20%20%20%20%20%20%20%0A%20%20%20%20%20%20%20%20%20%20%20%20var%20html_68749dd6f68a40dba511962e7e723aa6%20%3D%20%24%28%60%3Cdiv%20id%3D%22html_68749dd6f68a40dba511962e7e723aa6%22%20style%3D%22width%3A%20100.0%25%3B%20height%3A%20100.0%25%3B%22%3E19165%3C/div%3E%60%29%5B0%5D%3B%0A%20%20%20%20%20%20%20%20%20%20%20%20popup_9e303cc3111c4d8aae212e82c48c4bf1.setContent%28html_68749dd6f68a40dba511962e7e723aa6%29%3B%0A%20%20%20%20%20%20%20%20%0A%0A%20%20%20%20%20%20%20%20marker_4f1ed68553cd48dfb06134293b211c7f.bindPopup%28popup_9e303cc3111c4d8aae212e82c48c4bf1%29%0A%20%20%20%20%20%20%20%20%3B%0A%0A%20%20%20%20%20%20%20%20%0A%20%20%20%20%0A%20%20%20%20%0A%20%20%20%20%20%20%20%20%20%20%20%20var%20marker_365996502bb04904a9db5000d5704b34%20%3D%20L.marker%28%0A%20%20%20%20%20%20%20%20%20%20%20%20%20%20%20%20%5B37.494161%2C%20127.145196%5D%2C%0A%20%20%20%20%20%20%20%20%20%20%20%20%20%20%20%20%7B%22zoomStart%22%3A%2012%7D%0A%20%20%20%20%20%20%20%20%20%20%20%20%29.addTo%28marker_cluster_989990b9e92546129e063f5ea07e0309%29%3B%0A%20%20%20%20%20%20%20%20%0A%20%20%20%20%0A%20%20%20%20%20%20%20%20var%20popup_3b70abdd23d442dba33639c6e5ca5746%20%3D%20L.popup%28%7B%22maxWidth%22%3A%20%22100%25%22%7D%29%3B%0A%0A%20%20%20%20%20%20%20%20%0A%20%20%20%20%20%20%20%20%20%20%20%20var%20html_00fa3115aad747399e430bdc348beb54%20%3D%20%24%28%60%3Cdiv%20id%3D%22html_00fa3115aad747399e430bdc348beb54%22%20style%3D%22width%3A%20100.0%25%3B%20height%3A%20100.0%25%3B%22%3E4283%3C/div%3E%60%29%5B0%5D%3B%0A%20%20%20%20%20%20%20%20%20%20%20%20popup_3b70abdd23d442dba33639c6e5ca5746.setContent%28html_00fa3115aad747399e430bdc348beb54%29%3B%0A%20%20%20%20%20%20%20%20%0A%0A%20%20%20%20%20%20%20%20marker_365996502bb04904a9db5000d5704b34.bindPopup%28popup_3b70abdd23d442dba33639c6e5ca5746%29%0A%20%20%20%20%20%20%20%20%3B%0A%0A%20%20%20%20%20%20%20%20%0A%20%20%20%20%0A%20%20%20%20%0A%20%20%20%20%20%20%20%20%20%20%20%20var%20marker_9c2bee6a14e64a288bb87a5072a9a07c%20%3D%20L.marker%28%0A%20%20%20%20%20%20%20%20%20%20%20%20%20%20%20%20%5B37.497117%2C%20127.152393%5D%2C%0A%20%20%20%20%20%20%20%20%20%20%20%20%20%20%20%20%7B%22zoomStart%22%3A%2012%7D%0A%20%20%20%20%20%20%20%20%20%20%20%20%29.addTo%28marker_cluster_989990b9e92546129e063f5ea07e0309%29%3B%0A%20%20%20%20%20%20%20%20%0A%20%20%20%20%0A%20%20%20%20%20%20%20%20var%20popup_e549e131e8ad44c99bbd883f5568f429%20%3D%20L.popup%28%7B%22maxWidth%22%3A%20%22100%25%22%7D%29%3B%0A%0A%20%20%20%20%20%20%20%20%0A%20%20%20%20%20%20%20%20%20%20%20%20var%20html_3eccfe04eaf948bea7dbef105c8a7469%20%3D%20%24%28%60%3Cdiv%20id%3D%22html_3eccfe04eaf948bea7dbef105c8a7469%22%20style%3D%22width%3A%20100.0%25%3B%20height%3A%20100.0%25%3B%22%3E5557%3C/div%3E%60%29%5B0%5D%3B%0A%20%20%20%20%20%20%20%20%20%20%20%20popup_e549e131e8ad44c99bbd883f5568f429.setContent%28html_3eccfe04eaf948bea7dbef105c8a7469%29%3B%0A%20%20%20%20%20%20%20%20%0A%0A%20%20%20%20%20%20%20%20marker_9c2bee6a14e64a288bb87a5072a9a07c.bindPopup%28popup_e549e131e8ad44c99bbd883f5568f429%29%0A%20%20%20%20%20%20%20%20%3B%0A%0A%20%20%20%20%20%20%20%20%0A%20%20%20%20%0A%20%20%20%20%0A%20%20%20%20%20%20%20%20%20%20%20%20var%20marker_c6515a7249ec4393ba48acc3e4e74b50%20%3D%20L.marker%28%0A%20%20%20%20%20%20%20%20%20%20%20%20%20%20%20%20%5B37.486581%2C%20127.127495%5D%2C%0A%20%20%20%20%20%20%20%20%20%20%20%20%20%20%20%20%7B%22zoomStart%22%3A%2012%7D%0A%20%20%20%20%20%20%20%20%20%20%20%20%29.addTo%28marker_cluster_989990b9e92546129e063f5ea07e0309%29%3B%0A%20%20%20%20%20%20%20%20%0A%20%20%20%20%0A%20%20%20%20%20%20%20%20var%20popup_04fd0da48a7848049f5abfe38e4fa58f%20%3D%20L.popup%28%7B%22maxWidth%22%3A%20%22100%25%22%7D%29%3B%0A%0A%20%20%20%20%20%20%20%20%0A%20%20%20%20%20%20%20%20%20%20%20%20var%20html_898bd11bb1e343e1ba9f867b2d141193%20%3D%20%24%28%60%3Cdiv%20id%3D%22html_898bd11bb1e343e1ba9f867b2d141193%22%20style%3D%22width%3A%20100.0%25%3B%20height%3A%20100.0%25%3B%22%3E15827%3C/div%3E%60%29%5B0%5D%3B%0A%20%20%20%20%20%20%20%20%20%20%20%20popup_04fd0da48a7848049f5abfe38e4fa58f.setContent%28html_898bd11bb1e343e1ba9f867b2d141193%29%3B%0A%20%20%20%20%20%20%20%20%0A%0A%20%20%20%20%20%20%20%20marker_c6515a7249ec4393ba48acc3e4e74b50.bindPopup%28popup_04fd0da48a7848049f5abfe38e4fa58f%29%0A%20%20%20%20%20%20%20%20%3B%0A%0A%20%20%20%20%20%20%20%20%0A%20%20%20%20%0A%20%20%20%20%0A%20%20%20%20%20%20%20%20%20%20%20%20var%20marker_cbef0ed3c7164aebb9408bbe9b8b85a1%20%3D%20L.marker%28%0A%20%20%20%20%20%20%20%20%20%20%20%20%20%20%20%20%5B37.512017%2C%20127.116902%5D%2C%0A%20%20%20%20%20%20%20%20%20%20%20%20%20%20%20%20%7B%22zoomStart%22%3A%2012%7D%0A%20%20%20%20%20%20%20%20%20%20%20%20%29.addTo%28marker_cluster_989990b9e92546129e063f5ea07e0309%29%3B%0A%20%20%20%20%20%20%20%20%0A%20%20%20%20%0A%20%20%20%20%20%20%20%20var%20popup_f6f33fb6b256458285bffa584eb9f2ae%20%3D%20L.popup%28%7B%22maxWidth%22%3A%20%22100%25%22%7D%29%3B%0A%0A%20%20%20%20%20%20%20%20%0A%20%20%20%20%20%20%20%20%20%20%20%20var%20html_01bc062927f743cf8ec2b9927bcdebfb%20%3D%20%24%28%60%3Cdiv%20id%3D%22html_01bc062927f743cf8ec2b9927bcdebfb%22%20style%3D%22width%3A%20100.0%25%3B%20height%3A%20100.0%25%3B%22%3E12567%3C/div%3E%60%29%5B0%5D%3B%0A%20%20%20%20%20%20%20%20%20%20%20%20popup_f6f33fb6b256458285bffa584eb9f2ae.setContent%28html_01bc062927f743cf8ec2b9927bcdebfb%29%3B%0A%20%20%20%20%20%20%20%20%0A%0A%20%20%20%20%20%20%20%20marker_cbef0ed3c7164aebb9408bbe9b8b85a1.bindPopup%28popup_f6f33fb6b256458285bffa584eb9f2ae%29%0A%20%20%20%20%20%20%20%20%3B%0A%0A%20%20%20%20%20%20%20%20%0A%20%20%20%20%0A%20%20%20%20%0A%20%20%20%20%20%20%20%20%20%20%20%20var%20marker_f005f16fd8ba4c3ba09ce3b7b29abde4%20%3D%20L.marker%28%0A%20%20%20%20%20%20%20%20%20%20%20%20%20%20%20%20%5B37.502724%2C%20127.092352%5D%2C%0A%20%20%20%20%20%20%20%20%20%20%20%20%20%20%20%20%7B%22zoomStart%22%3A%2012%7D%0A%20%20%20%20%20%20%20%20%20%20%20%20%29.addTo%28marker_cluster_989990b9e92546129e063f5ea07e0309%29%3B%0A%20%20%20%20%20%20%20%20%0A%20%20%20%20%0A%20%20%20%20%20%20%20%20var%20popup_b8722c8025fd4d9b8e3c77988e7d1891%20%3D%20L.popup%28%7B%22maxWidth%22%3A%20%22100%25%22%7D%29%3B%0A%0A%20%20%20%20%20%20%20%20%0A%20%20%20%20%20%20%20%20%20%20%20%20var%20html_f0c239bce91e4466b0cd57ccecf68b64%20%3D%20%24%28%60%3Cdiv%20id%3D%22html_f0c239bce91e4466b0cd57ccecf68b64%22%20style%3D%22width%3A%20100.0%25%3B%20height%3A%20100.0%25%3B%22%3E4630%3C/div%3E%60%29%5B0%5D%3B%0A%20%20%20%20%20%20%20%20%20%20%20%20popup_b8722c8025fd4d9b8e3c77988e7d1891.setContent%28html_f0c239bce91e4466b0cd57ccecf68b64%29%3B%0A%20%20%20%20%20%20%20%20%0A%0A%20%20%20%20%20%20%20%20marker_f005f16fd8ba4c3ba09ce3b7b29abde4.bindPopup%28popup_b8722c8025fd4d9b8e3c77988e7d1891%29%0A%20%20%20%20%20%20%20%20%3B%0A%0A%20%20%20%20%20%20%20%20%0A%20%20%20%20%0A%20%20%20%20%0A%20%20%20%20%20%20%20%20%20%20%20%20var%20marker_eaea723878d84f8d80c0c5445e3097df%20%3D%20L.marker%28%0A%20%20%20%20%20%20%20%20%20%20%20%20%20%20%20%20%5B37.502699%2C%20127.102321%5D%2C%0A%20%20%20%20%20%20%20%20%20%20%20%20%20%20%20%20%7B%22zoomStart%22%3A%2012%7D%0A%20%20%20%20%20%20%20%20%20%20%20%20%29.addTo%28marker_cluster_989990b9e92546129e063f5ea07e0309%29%3B%0A%20%20%20%20%20%20%20%20%0A%20%20%20%20%0A%20%20%20%20%20%20%20%20var%20popup_e09958bb9f8c45d6a5651a15132a1ec8%20%3D%20L.popup%28%7B%22maxWidth%22%3A%20%22100%25%22%7D%29%3B%0A%0A%20%20%20%20%20%20%20%20%0A%20%20%20%20%20%20%20%20%20%20%20%20var%20html_41ec9ac006fc4a9f959b02e228b77287%20%3D%20%24%28%60%3Cdiv%20id%3D%22html_41ec9ac006fc4a9f959b02e228b77287%22%20style%3D%22width%3A%20100.0%25%3B%20height%3A%20100.0%25%3B%22%3E6774%3C/div%3E%60%29%5B0%5D%3B%0A%20%20%20%20%20%20%20%20%20%20%20%20popup_e09958bb9f8c45d6a5651a15132a1ec8.setContent%28html_41ec9ac006fc4a9f959b02e228b77287%29%3B%0A%20%20%20%20%20%20%20%20%0A%0A%20%20%20%20%20%20%20%20marker_eaea723878d84f8d80c0c5445e3097df.bindPopup%28popup_e09958bb9f8c45d6a5651a15132a1ec8%29%0A%20%20%20%20%20%20%20%20%3B%0A%0A%20%20%20%20%20%20%20%20%0A%20%20%20%20%0A%20%20%20%20%0A%20%20%20%20%20%20%20%20%20%20%20%20var%20marker_2d3d25640d384ae4be712de14f7b0583%20%3D%20L.marker%28%0A%20%20%20%20%20%20%20%20%20%20%20%20%20%20%20%20%5B37.506058%2C%20127.111216%5D%2C%0A%20%20%20%20%20%20%20%20%20%20%20%20%20%20%20%20%7B%22zoomStart%22%3A%2012%7D%0A%20%20%20%20%20%20%20%20%20%20%20%20%29.addTo%28marker_cluster_989990b9e92546129e063f5ea07e0309%29%3B%0A%20%20%20%20%20%20%20%20%0A%20%20%20%20%0A%20%20%20%20%20%20%20%20var%20popup_991bd80c1ab24210a1c5652222e754c8%20%3D%20L.popup%28%7B%22maxWidth%22%3A%20%22100%25%22%7D%29%3B%0A%0A%20%20%20%20%20%20%20%20%0A%20%20%20%20%20%20%20%20%20%20%20%20var%20html_6283117648a04fa294ae395346db5843%20%3D%20%24%28%60%3Cdiv%20id%3D%22html_6283117648a04fa294ae395346db5843%22%20style%3D%22width%3A%20100.0%25%3B%20height%3A%20100.0%25%3B%22%3E6571%3C/div%3E%60%29%5B0%5D%3B%0A%20%20%20%20%20%20%20%20%20%20%20%20popup_991bd80c1ab24210a1c5652222e754c8.setContent%28html_6283117648a04fa294ae395346db5843%29%3B%0A%20%20%20%20%20%20%20%20%0A%0A%20%20%20%20%20%20%20%20marker_2d3d25640d384ae4be712de14f7b0583.bindPopup%28popup_991bd80c1ab24210a1c5652222e754c8%29%0A%20%20%20%20%20%20%20%20%3B%0A%0A%20%20%20%20%20%20%20%20%0A%20%20%20%20%0A%20%20%20%20%0A%20%20%20%20%20%20%20%20%20%20%20%20var%20marker_b0347cba407442a5895ab763265e045e%20%3D%20L.marker%28%0A%20%20%20%20%20%20%20%20%20%20%20%20%20%20%20%20%5B37.517302%2C%20127.104967%5D%2C%0A%20%20%20%20%20%20%20%20%20%20%20%20%20%20%20%20%7B%22zoomStart%22%3A%2012%7D%0A%20%20%20%20%20%20%20%20%20%20%20%20%29.addTo%28marker_cluster_989990b9e92546129e063f5ea07e0309%29%3B%0A%20%20%20%20%20%20%20%20%0A%20%20%20%20%0A%20%20%20%20%20%20%20%20var%20popup_2bd0b12a6d654d0d961a7695f687cb83%20%3D%20L.popup%28%7B%22maxWidth%22%3A%20%22100%25%22%7D%29%3B%0A%0A%20%20%20%20%20%20%20%20%0A%20%20%20%20%20%20%20%20%20%20%20%20var%20html_5b572a3d331a4e23a2ede656f4baec97%20%3D%20%24%28%60%3Cdiv%20id%3D%22html_5b572a3d331a4e23a2ede656f4baec97%22%20style%3D%22width%3A%20100.0%25%3B%20height%3A%20100.0%25%3B%22%3E6161%3C/div%3E%60%29%5B0%5D%3B%0A%20%20%20%20%20%20%20%20%20%20%20%20popup_2bd0b12a6d654d0d961a7695f687cb83.setContent%28html_5b572a3d331a4e23a2ede656f4baec97%29%3B%0A%20%20%20%20%20%20%20%20%0A%0A%20%20%20%20%20%20%20%20marker_b0347cba407442a5895ab763265e045e.bindPopup%28popup_2bd0b12a6d654d0d961a7695f687cb83%29%0A%20%20%20%20%20%20%20%20%3B%0A%0A%20%20%20%20%20%20%20%20%0A%20%20%20%20%0A%20%20%20%20%0A%20%20%20%20%20%20%20%20%20%20%20%20var%20marker_de702ba443004f7da99dac179bf9322d%20%3D%20L.marker%28%0A%20%20%20%20%20%20%20%20%20%20%20%20%20%20%20%20%5B37.50401%2C%20127.134003%5D%2C%0A%20%20%20%20%20%20%20%20%20%20%20%20%20%20%20%20%7B%22zoomStart%22%3A%2012%7D%0A%20%20%20%20%20%20%20%20%20%20%20%20%29.addTo%28marker_cluster_989990b9e92546129e063f5ea07e0309%29%3B%0A%20%20%20%20%20%20%20%20%0A%20%20%20%20%0A%20%20%20%20%20%20%20%20var%20popup_461255a87825425ca1273da7e5cd6e3a%20%3D%20L.popup%28%7B%22maxWidth%22%3A%20%22100%25%22%7D%29%3B%0A%0A%20%20%20%20%20%20%20%20%0A%20%20%20%20%20%20%20%20%20%20%20%20var%20html_73bc1c4a58384b66a5fb3b2b2a280b95%20%3D%20%24%28%60%3Cdiv%20id%3D%22html_73bc1c4a58384b66a5fb3b2b2a280b95%22%20style%3D%22width%3A%20100.0%25%3B%20height%3A%20100.0%25%3B%22%3E4936%3C/div%3E%60%29%5B0%5D%3B%0A%20%20%20%20%20%20%20%20%20%20%20%20popup_461255a87825425ca1273da7e5cd6e3a.setContent%28html_73bc1c4a58384b66a5fb3b2b2a280b95%29%3B%0A%20%20%20%20%20%20%20%20%0A%0A%20%20%20%20%20%20%20%20marker_de702ba443004f7da99dac179bf9322d.bindPopup%28popup_461255a87825425ca1273da7e5cd6e3a%29%0A%20%20%20%20%20%20%20%20%3B%0A%0A%20%20%20%20%20%20%20%20%0A%20%20%20%20%0A%20%20%20%20%0A%20%20%20%20%20%20%20%20%20%20%20%20var%20marker_9382f563b88e461199afae7db9275cf2%20%3D%20L.marker%28%0A%20%20%20%20%20%20%20%20%20%20%20%20%20%20%20%20%5B37.503984%2C%20127.135124%5D%2C%0A%20%20%20%20%20%20%20%20%20%20%20%20%20%20%20%20%7B%22zoomStart%22%3A%2012%7D%0A%20%20%20%20%20%20%20%20%20%20%20%20%29.addTo%28marker_cluster_989990b9e92546129e063f5ea07e0309%29%3B%0A%20%20%20%20%20%20%20%20%0A%20%20%20%20%0A%20%20%20%20%20%20%20%20var%20popup_794704cb03d444fcb164889c6fe90e6d%20%3D%20L.popup%28%7B%22maxWidth%22%3A%20%22100%25%22%7D%29%3B%0A%0A%20%20%20%20%20%20%20%20%0A%20%20%20%20%20%20%20%20%20%20%20%20var%20html_942a5253fce243e1beb60d718d0b9242%20%3D%20%24%28%60%3Cdiv%20id%3D%22html_942a5253fce243e1beb60d718d0b9242%22%20style%3D%22width%3A%20100.0%25%3B%20height%3A%20100.0%25%3B%22%3E4936%3C/div%3E%60%29%5B0%5D%3B%0A%20%20%20%20%20%20%20%20%20%20%20%20popup_794704cb03d444fcb164889c6fe90e6d.setContent%28html_942a5253fce243e1beb60d718d0b9242%29%3B%0A%20%20%20%20%20%20%20%20%0A%0A%20%20%20%20%20%20%20%20marker_9382f563b88e461199afae7db9275cf2.bindPopup%28popup_794704cb03d444fcb164889c6fe90e6d%29%0A%20%20%20%20%20%20%20%20%3B%0A%0A%20%20%20%20%20%20%20%20%0A%20%20%20%20%0A%20%20%20%20%0A%20%20%20%20%20%20%20%20%20%20%20%20var%20marker_6783506842ee4d569a496a6c56268346%20%3D%20L.marker%28%0A%20%20%20%20%20%20%20%20%20%20%20%20%20%20%20%20%5B37.515538%2C%20127.134424%5D%2C%0A%20%20%20%20%20%20%20%20%20%20%20%20%20%20%20%20%7B%22zoomStart%22%3A%2012%7D%0A%20%20%20%20%20%20%20%20%20%20%20%20%29.addTo%28marker_cluster_989990b9e92546129e063f5ea07e0309%29%3B%0A%20%20%20%20%20%20%20%20%0A%20%20%20%20%0A%20%20%20%20%20%20%20%20var%20popup_a640061ffdb2414db78bfe346247b62f%20%3D%20L.popup%28%7B%22maxWidth%22%3A%20%22100%25%22%7D%29%3B%0A%0A%20%20%20%20%20%20%20%20%0A%20%20%20%20%20%20%20%20%20%20%20%20var%20html_66e4835d2431493abc1a7beb47bc89f0%20%3D%20%24%28%60%3Cdiv%20id%3D%22html_66e4835d2431493abc1a7beb47bc89f0%22%20style%3D%22width%3A%20100.0%25%3B%20height%3A%20100.0%25%3B%22%3E157%3C/div%3E%60%29%5B0%5D%3B%0A%20%20%20%20%20%20%20%20%20%20%20%20popup_a640061ffdb2414db78bfe346247b62f.setContent%28html_66e4835d2431493abc1a7beb47bc89f0%29%3B%0A%20%20%20%20%20%20%20%20%0A%0A%20%20%20%20%20%20%20%20marker_6783506842ee4d569a496a6c56268346.bindPopup%28popup_a640061ffdb2414db78bfe346247b62f%29%0A%20%20%20%20%20%20%20%20%3B%0A%0A%20%20%20%20%20%20%20%20%0A%20%20%20%20%0A%20%20%20%20%0A%20%20%20%20%20%20%20%20%20%20%20%20var%20marker_da0194ffa16b46c99b05e91f48869af2%20%3D%20L.marker%28%0A%20%20%20%20%20%20%20%20%20%20%20%20%20%20%20%20%5B37.481576%2C%20127.140424%5D%2C%0A%20%20%20%20%20%20%20%20%20%20%20%20%20%20%20%20%7B%22zoomStart%22%3A%2012%7D%0A%20%20%20%20%20%20%20%20%20%20%20%20%29.addTo%28marker_cluster_989990b9e92546129e063f5ea07e0309%29%3B%0A%20%20%20%20%20%20%20%20%0A%20%20%20%20%0A%20%20%20%20%20%20%20%20var%20popup_c3c5673fa0104128937005d2f7cd469c%20%3D%20L.popup%28%7B%22maxWidth%22%3A%20%22100%25%22%7D%29%3B%0A%0A%20%20%20%20%20%20%20%20%0A%20%20%20%20%20%20%20%20%20%20%20%20var%20html_972b40bbc73a40dfbfc056c9ec19b4a3%20%3D%20%24%28%60%3Cdiv%20id%3D%22html_972b40bbc73a40dfbfc056c9ec19b4a3%22%20style%3D%22width%3A%20100.0%25%3B%20height%3A%20100.0%25%3B%22%3E609%3C/div%3E%60%29%5B0%5D%3B%0A%20%20%20%20%20%20%20%20%20%20%20%20popup_c3c5673fa0104128937005d2f7cd469c.setContent%28html_972b40bbc73a40dfbfc056c9ec19b4a3%29%3B%0A%20%20%20%20%20%20%20%20%0A%0A%20%20%20%20%20%20%20%20marker_da0194ffa16b46c99b05e91f48869af2.bindPopup%28popup_c3c5673fa0104128937005d2f7cd469c%29%0A%20%20%20%20%20%20%20%20%3B%0A%0A%20%20%20%20%20%20%20%20%0A%20%20%20%20%0A%20%20%20%20%0A%20%20%20%20%20%20%20%20%20%20%20%20var%20marker_532233e3d33d45e39f6224edcbd415d4%20%3D%20L.marker%28%0A%20%20%20%20%20%20%20%20%20%20%20%20%20%20%20%20%5B37.506967%2C%20127.083673%5D%2C%0A%20%20%20%20%20%20%20%20%20%20%20%20%20%20%20%20%7B%22zoomStart%22%3A%2012%7D%0A%20%20%20%20%20%20%20%20%20%20%20%20%29.addTo%28marker_cluster_989990b9e92546129e063f5ea07e0309%29%3B%0A%20%20%20%20%20%20%20%20%0A%20%20%20%20%0A%20%20%20%20%20%20%20%20var%20popup_4a255bf224054bd4a83dc1a74d0c83ed%20%3D%20L.popup%28%7B%22maxWidth%22%3A%20%22100%25%22%7D%29%3B%0A%0A%20%20%20%20%20%20%20%20%0A%20%20%20%20%20%20%20%20%20%20%20%20var%20html_5703b120711d4f6fb5c9d38ce44a4ee8%20%3D%20%24%28%60%3Cdiv%20id%3D%22html_5703b120711d4f6fb5c9d38ce44a4ee8%22%20style%3D%22width%3A%20100.0%25%3B%20height%3A%20100.0%25%3B%22%3E20197%3C/div%3E%60%29%5B0%5D%3B%0A%20%20%20%20%20%20%20%20%20%20%20%20popup_4a255bf224054bd4a83dc1a74d0c83ed.setContent%28html_5703b120711d4f6fb5c9d38ce44a4ee8%29%3B%0A%20%20%20%20%20%20%20%20%0A%0A%20%20%20%20%20%20%20%20marker_532233e3d33d45e39f6224edcbd415d4.bindPopup%28popup_4a255bf224054bd4a83dc1a74d0c83ed%29%0A%20%20%20%20%20%20%20%20%3B%0A%0A%20%20%20%20%20%20%20%20%0A%20%20%20%20%0A%20%20%20%20%0A%20%20%20%20%20%20%20%20%20%20%20%20var%20marker_12c99850aa444ab29437cf01504ddece%20%3D%20L.marker%28%0A%20%20%20%20%20%20%20%20%20%20%20%20%20%20%20%20%5B37.478077%2C%20127.133269%5D%2C%0A%20%20%20%20%20%20%20%20%20%20%20%20%20%20%20%20%7B%22zoomStart%22%3A%2012%7D%0A%20%20%20%20%20%20%20%20%20%20%20%20%29.addTo%28marker_cluster_989990b9e92546129e063f5ea07e0309%29%3B%0A%20%20%20%20%20%20%20%20%0A%20%20%20%20%0A%20%20%20%20%20%20%20%20var%20popup_8bb4473987364477821364bac4f6affa%20%3D%20L.popup%28%7B%22maxWidth%22%3A%20%22100%25%22%7D%29%3B%0A%0A%20%20%20%20%20%20%20%20%0A%20%20%20%20%20%20%20%20%20%20%20%20var%20html_4f9831d0dc614637ad41a4cf4fb6dd52%20%3D%20%24%28%60%3Cdiv%20id%3D%22html_4f9831d0dc614637ad41a4cf4fb6dd52%22%20style%3D%22width%3A%20100.0%25%3B%20height%3A%20100.0%25%3B%22%3E2626%3C/div%3E%60%29%5B0%5D%3B%0A%20%20%20%20%20%20%20%20%20%20%20%20popup_8bb4473987364477821364bac4f6affa.setContent%28html_4f9831d0dc614637ad41a4cf4fb6dd52%29%3B%0A%20%20%20%20%20%20%20%20%0A%0A%20%20%20%20%20%20%20%20marker_12c99850aa444ab29437cf01504ddece.bindPopup%28popup_8bb4473987364477821364bac4f6affa%29%0A%20%20%20%20%20%20%20%20%3B%0A%0A%20%20%20%20%20%20%20%20%0A%20%20%20%20%0A%20%20%20%20%0A%20%20%20%20%20%20%20%20%20%20%20%20var%20marker_f554812879094b9ba3efb8336baa4f1f%20%3D%20L.marker%28%0A%20%20%20%20%20%20%20%20%20%20%20%20%20%20%20%20%5B37.534673%2C%20127.117643%5D%2C%0A%20%20%20%20%20%20%20%20%20%20%20%20%20%20%20%20%7B%22zoomStart%22%3A%2012%7D%0A%20%20%20%20%20%20%20%20%20%20%20%20%29.addTo%28marker_cluster_989990b9e92546129e063f5ea07e0309%29%3B%0A%20%20%20%20%20%20%20%20%0A%20%20%20%20%0A%20%20%20%20%20%20%20%20var%20popup_7beaf48101cb4d8f8ed4be0d4ae0b019%20%3D%20L.popup%28%7B%22maxWidth%22%3A%20%22100%25%22%7D%29%3B%0A%0A%20%20%20%20%20%20%20%20%0A%20%20%20%20%20%20%20%20%20%20%20%20var%20html_47626691908e4e43ae9f0309c2794ab1%20%3D%20%24%28%60%3Cdiv%20id%3D%22html_47626691908e4e43ae9f0309c2794ab1%22%20style%3D%22width%3A%20100.0%25%3B%20height%3A%20100.0%25%3B%22%3E6840%3C/div%3E%60%29%5B0%5D%3B%0A%20%20%20%20%20%20%20%20%20%20%20%20popup_7beaf48101cb4d8f8ed4be0d4ae0b019.setContent%28html_47626691908e4e43ae9f0309c2794ab1%29%3B%0A%20%20%20%20%20%20%20%20%0A%0A%20%20%20%20%20%20%20%20marker_f554812879094b9ba3efb8336baa4f1f.bindPopup%28popup_7beaf48101cb4d8f8ed4be0d4ae0b019%29%0A%20%20%20%20%20%20%20%20%3B%0A%0A%20%20%20%20%20%20%20%20%0A%20%20%20%20%0A%20%20%20%20%0A%20%20%20%20%20%20%20%20%20%20%20%20var%20marker_a32f87782efe4ac7a77bcaf2a99a601c%20%3D%20L.marker%28%0A%20%20%20%20%20%20%20%20%20%20%20%20%20%20%20%20%5B37.4965037%2C%20126.9443073%5D%2C%0A%20%20%20%20%20%20%20%20%20%20%20%20%20%20%20%20%7B%22zoomStart%22%3A%2012%7D%0A%20%20%20%20%20%20%20%20%20%20%20%20%29.addTo%28marker_cluster_989990b9e92546129e063f5ea07e0309%29%3B%0A%20%20%20%20%20%20%20%20%0A%20%20%20%20%0A%20%20%20%20%20%20%20%20var%20popup_e45cb43b7fc94a7fba6a2fce77693402%20%3D%20L.popup%28%7B%22maxWidth%22%3A%20%22100%25%22%7D%29%3B%0A%0A%20%20%20%20%20%20%20%20%0A%20%20%20%20%20%20%20%20%20%20%20%20var%20html_2a51d64c039d4bf39876d943f9c29bc2%20%3D%20%24%28%60%3Cdiv%20id%3D%22html_2a51d64c039d4bf39876d943f9c29bc2%22%20style%3D%22width%3A%20100.0%25%3B%20height%3A%20100.0%25%3B%22%3E56257%3C/div%3E%60%29%5B0%5D%3B%0A%20%20%20%20%20%20%20%20%20%20%20%20popup_e45cb43b7fc94a7fba6a2fce77693402.setContent%28html_2a51d64c039d4bf39876d943f9c29bc2%29%3B%0A%20%20%20%20%20%20%20%20%0A%0A%20%20%20%20%20%20%20%20marker_a32f87782efe4ac7a77bcaf2a99a601c.bindPopup%28popup_e45cb43b7fc94a7fba6a2fce77693402%29%0A%20%20%20%20%20%20%20%20%3B%0A%0A%20%20%20%20%20%20%20%20%0A%20%20%20%20%0A%3C/script%3E onload=\"this.contentDocument.open();this.contentDocument.write(    decodeURIComponent(this.getAttribute('data-html')));this.contentDocument.close();\" allowfullscreen webkitallowfullscreen mozallowfullscreen></iframe></div></div>"
      ],
      "text/plain": [
       "<folium.folium.Map at 0x144d12d3550>"
      ]
     },
     "execution_count": 15,
     "metadata": {},
     "output_type": "execute_result"
    }
   ],
   "source": [
    "#지도 새로 띄우기\n",
    "map_osm = folium.Map(location = [37.529622, 126.984307], zoom_start=12)\n",
    "\n",
    "list1=[]\n",
    "list2=[]\n",
    "marker_cluster = MarkerCluster().add_to(map_osm)\n",
    "for a in df.index:\n",
    "    folium.Marker(location = [df.loc[a,\"위도\"],df.loc[a,\"경도\"]],\n",
    "                  zoom_start=12,\n",
    "                  popup=df.loc[a,\"주정차 단속건수\"]).add_to(marker_cluster)\n",
    "    list1.append(df.loc[a,\"위도\"])\n",
    "    list2.append(df.loc[a,\"경도\"])\n",
    "\n",
    "map_osm"
   ]
  },
  {
   "cell_type": "code",
   "execution_count": 16,
   "metadata": {},
   "outputs": [],
   "source": [
    "geo_path = 'seoul_municipalities_geo_simple.json'\n",
    "\n",
    "import json\n",
    "geo_json = json.load(open(geo_path, encoding=\"utf-8\"))\n",
    "\n",
    "# geo_json"
   ]
  },
  {
   "cell_type": "code",
   "execution_count": 17,
   "metadata": {},
   "outputs": [
    {
     "data": {
      "text/plain": [
       "'강동구'"
      ]
     },
     "execution_count": 17,
     "metadata": {},
     "output_type": "execute_result"
    }
   ],
   "source": [
    "geo_json[\"features\"][0]['properties'][\"name\"]"
   ]
  },
  {
   "cell_type": "code",
   "execution_count": 18,
   "metadata": {},
   "outputs": [
    {
     "data": {
      "text/html": [
       "<div>\n",
       "<style scoped>\n",
       "    .dataframe tbody tr th:only-of-type {\n",
       "        vertical-align: middle;\n",
       "    }\n",
       "\n",
       "    .dataframe tbody tr th {\n",
       "        vertical-align: top;\n",
       "    }\n",
       "\n",
       "    .dataframe thead th {\n",
       "        text-align: right;\n",
       "    }\n",
       "</style>\n",
       "<table border=\"1\" class=\"dataframe\">\n",
       "  <thead>\n",
       "    <tr style=\"text-align: right;\">\n",
       "      <th></th>\n",
       "      <th>연도</th>\n",
       "      <th>구</th>\n",
       "      <th>동명</th>\n",
       "      <th>주정차 단속건수</th>\n",
       "      <th>위도</th>\n",
       "      <th>경도</th>\n",
       "    </tr>\n",
       "  </thead>\n",
       "  <tbody>\n",
       "    <tr>\n",
       "      <th>0</th>\n",
       "      <td>2020</td>\n",
       "      <td>관악구</td>\n",
       "      <td>낙성대동</td>\n",
       "      <td>1699</td>\n",
       "      <td>37.476281</td>\n",
       "      <td>126.958369</td>\n",
       "    </tr>\n",
       "    <tr>\n",
       "      <th>1</th>\n",
       "      <td>2020</td>\n",
       "      <td>관악구</td>\n",
       "      <td>난곡동</td>\n",
       "      <td>2533</td>\n",
       "      <td>37.471024</td>\n",
       "      <td>126.921689</td>\n",
       "    </tr>\n",
       "    <tr>\n",
       "      <th>2</th>\n",
       "      <td>2020</td>\n",
       "      <td>관악구</td>\n",
       "      <td>난향동</td>\n",
       "      <td>388</td>\n",
       "      <td>37.461554</td>\n",
       "      <td>126.918807</td>\n",
       "    </tr>\n",
       "    <tr>\n",
       "      <th>3</th>\n",
       "      <td>2020</td>\n",
       "      <td>관악구</td>\n",
       "      <td>남현동</td>\n",
       "      <td>3708</td>\n",
       "      <td>37.464115</td>\n",
       "      <td>126.977754</td>\n",
       "    </tr>\n",
       "    <tr>\n",
       "      <th>4</th>\n",
       "      <td>2020</td>\n",
       "      <td>관악구</td>\n",
       "      <td>대학동</td>\n",
       "      <td>2940</td>\n",
       "      <td>37.470593</td>\n",
       "      <td>126.936855</td>\n",
       "    </tr>\n",
       "    <tr>\n",
       "      <th>...</th>\n",
       "      <td>...</td>\n",
       "      <td>...</td>\n",
       "      <td>...</td>\n",
       "      <td>...</td>\n",
       "      <td>...</td>\n",
       "      <td>...</td>\n",
       "    </tr>\n",
       "    <tr>\n",
       "      <th>96</th>\n",
       "      <td>2020</td>\n",
       "      <td>송파구</td>\n",
       "      <td>위례동</td>\n",
       "      <td>609</td>\n",
       "      <td>37.481576</td>\n",
       "      <td>127.140424</td>\n",
       "    </tr>\n",
       "    <tr>\n",
       "      <th>97</th>\n",
       "      <td>2020</td>\n",
       "      <td>송파구</td>\n",
       "      <td>잠실동</td>\n",
       "      <td>20197</td>\n",
       "      <td>37.506967</td>\n",
       "      <td>127.083673</td>\n",
       "    </tr>\n",
       "    <tr>\n",
       "      <th>98</th>\n",
       "      <td>2020</td>\n",
       "      <td>송파구</td>\n",
       "      <td>장지동</td>\n",
       "      <td>2626</td>\n",
       "      <td>37.478077</td>\n",
       "      <td>127.133269</td>\n",
       "    </tr>\n",
       "    <tr>\n",
       "      <th>99</th>\n",
       "      <td>2020</td>\n",
       "      <td>송파구</td>\n",
       "      <td>풍납동</td>\n",
       "      <td>6840</td>\n",
       "      <td>37.534673</td>\n",
       "      <td>127.117643</td>\n",
       "    </tr>\n",
       "    <tr>\n",
       "      <th>100</th>\n",
       "      <td>2020</td>\n",
       "      <td>동작구</td>\n",
       "      <td>전체</td>\n",
       "      <td>56257</td>\n",
       "      <td>37.496504</td>\n",
       "      <td>126.944307</td>\n",
       "    </tr>\n",
       "  </tbody>\n",
       "</table>\n",
       "<p>101 rows × 6 columns</p>\n",
       "</div>"
      ],
      "text/plain": [
       "       연도    구    동명  주정차 단속건수         위도          경도\n",
       "0    2020  관악구  낙성대동      1699  37.476281  126.958369\n",
       "1    2020  관악구   난곡동      2533  37.471024  126.921689\n",
       "2    2020  관악구   난향동       388  37.461554  126.918807\n",
       "3    2020  관악구   남현동      3708  37.464115  126.977754\n",
       "4    2020  관악구   대학동      2940  37.470593  126.936855\n",
       "..    ...  ...   ...       ...        ...         ...\n",
       "96   2020  송파구   위례동       609  37.481576  127.140424\n",
       "97   2020  송파구   잠실동     20197  37.506967  127.083673\n",
       "98   2020  송파구   장지동      2626  37.478077  127.133269\n",
       "99   2020  송파구   풍납동      6840  37.534673  127.117643\n",
       "100  2020  동작구    전체     56257  37.496504  126.944307\n",
       "\n",
       "[101 rows x 6 columns]"
      ]
     },
     "execution_count": 18,
     "metadata": {},
     "output_type": "execute_result"
    }
   ],
   "source": [
    "df"
   ]
  },
  {
   "cell_type": "code",
   "execution_count": 19,
   "metadata": {},
   "outputs": [],
   "source": [
    "#map_osm = folium.Map(location = [37.529622, 126.984307], zoom_start=12)\n",
    "\n",
    "#fmap = folium.Choropleth(geo_data=geo_json,\n",
    "#                         data = df3,\n",
    "#                         columns=['동명', '주정차 단속건수'],\n",
    "#                         key_on='feature.properties.adm_nm',\n",
    "#                         fill_opacity=0.7, line_opacity=0.3,\n",
    "#                         legend_name= 'a',\n",
    "#                         highlight=True\n",
    "#                         ).add_to(map_osm)\n",
    "\n",
    "# folium.LayerControl().add_to(map_osm)\n"
   ]
  },
  {
   "cell_type": "code",
   "execution_count": 20,
   "metadata": {},
   "outputs": [],
   "source": [
    "df = df.rename(columns={'구':'EMD_KOR_NM'})"
   ]
  },
  {
   "cell_type": "code",
   "execution_count": 21,
   "metadata": {},
   "outputs": [],
   "source": [
    "df = pd.read_csv('전처리끝난데이터.csv', encoding= 'cp949')"
   ]
  },
  {
   "cell_type": "code",
   "execution_count": 22,
   "metadata": {},
   "outputs": [],
   "source": [
    "df = df.rename(columns={'동명':'EMD_KOR_NM'})\n"
   ]
  },
  {
   "cell_type": "code",
   "execution_count": 23,
   "metadata": {},
   "outputs": [
    {
     "data": {
      "application/vnd.plotly.v1+json": {
       "config": {
        "plotlyServerURL": "https://plot.ly"
       },
       "data": [
        {
         "coloraxis": "coloraxis",
         "featureidkey": "properties.EMD_KOR_NM",
         "geo": "geo",
         "geojson": {
          "features": [
           {
            "geometry": {
             "coordinates": [
              [
               [
                127.11519584981606,
                37.557533180704915
               ],
               [
                127.11879551821994,
                37.557222485451305
               ],
               [
                127.12146867175024,
                37.55986003393365
               ],
               [
                127.12435254630417,
                37.56144246249796
               ],
               [
                127.13593925898998,
                37.56564793048277
               ],
               [
                127.14930548011061,
                37.56892250303897
               ],
               [
                127.15511020940411,
                37.57093642128295
               ],
               [
                127.16683184366129,
                37.57672487388627
               ],
               [
                127.17038810813094,
                37.576465605301046
               ],
               [
                127.17607118428914,
                37.57678573961056
               ],
               [
                127.17905504160184,
                37.57791388161732
               ],
               [
                127.17747787800164,
                37.57448983055031
               ],
               [
                127.1781775408844,
                37.571481967974336
               ],
               [
                127.17995281860672,
                37.569309661290504
               ],
               [
                127.18122821955262,
                37.56636089217979
               ],
               [
                127.18169407550688,
                37.56286338914073
               ],
               [
                127.18408792330152,
                37.55814280369575
               ],
               [
                127.18350810324185,
                37.550053002101485
               ],
               [
                127.1852644795464,
                37.54888592026534
               ],
               [
                127.18480906237207,
                37.545296888806796
               ],
               [
                127.18543378919821,
                37.54260756512178
               ],
               [
                127.18364810569703,
                37.54241347907019
               ],
               [
                127.18116465939269,
                37.54384126582126
               ],
               [
                127.17770860504257,
                37.542414255164374
               ],
               [
                127.1744373170213,
                37.54277723796397
               ],
               [
                127.16830424484573,
                37.54145405702079
               ],
               [
                127.16530984307447,
                37.54221851258693
               ],
               [
                127.15566835118616,
                37.53119520531309
               ],
               [
                127.15538075046105,
                37.52652930087977
               ],
               [
                127.15154315998161,
                37.522828709496416
               ],
               [
                127.14981542759394,
                37.51926843453025
               ],
               [
                127.14791518058246,
                37.51918714979303
               ],
               [
                127.14684644251928,
                37.51661384818575
               ],
               [
                127.14672806823502,
                37.51415680680291
               ],
               [
                127.14532023498624,
                37.51464060108829
               ],
               [
                127.12123165719615,
                37.52528270089
               ],
               [
                127.12251496040881,
                37.52751810228347
               ],
               [
                127.12532464331997,
                37.53572787912298
               ],
               [
                127.12061313033807,
                37.538129867839416
               ],
               [
                127.1116764203608,
                37.540669955324965
               ],
               [
                127.11418412219375,
                37.54474592090681
               ],
               [
                127.11600200349189,
                37.55053147511706
               ],
               [
                127.11600943681239,
                37.55580061507081
               ],
               [
                127.11519584981606,
                37.557533180704915
               ]
              ]
             ],
             "type": "Polygon"
            },
            "properties": {
             "base_year": "2013",
             "code": "11250",
             "name": "강동구",
             "name_eng": "Gangdong-gu"
            },
            "type": "Feature"
           },
           {
            "geometry": {
             "coordinates": [
              [
               [
                127.0690698130372,
                37.522279423505026
               ],
               [
                127.07496309841329,
                37.52091052765938
               ],
               [
                127.07968915919895,
                37.52077294752823
               ],
               [
                127.08639455667742,
                37.52161824624356
               ],
               [
                127.0943611414465,
                37.523984206117525
               ],
               [
                127.10087519791962,
                37.524841220167055
               ],
               [
                127.10484130265957,
                37.53120327509912
               ],
               [
                127.1116764203608,
                37.540669955324965
               ],
               [
                127.12061313033807,
                37.538129867839416
               ],
               [
                127.12532464331997,
                37.53572787912298
               ],
               [
                127.12251496040881,
                37.52751810228347
               ],
               [
                127.12123165719615,
                37.52528270089
               ],
               [
                127.14532023498624,
                37.51464060108829
               ],
               [
                127.14672806823502,
                37.51415680680291
               ],
               [
                127.14670263739373,
                37.512786602955565
               ],
               [
                127.14462782318448,
                37.511529542030715
               ],
               [
                127.14323992504048,
                37.50951977457089
               ],
               [
                127.1420864475393,
                37.50578973782813
               ],
               [
                127.14324986168657,
                37.502649431479774
               ],
               [
                127.1473517108062,
                37.50069754405746
               ],
               [
                127.14980119646964,
                37.50046502392898
               ],
               [
                127.15223804785649,
                37.50170492532197
               ],
               [
                127.15401160147654,
                37.500347919909956
               ],
               [
                127.16086308579277,
                37.49886565522751
               ],
               [
                127.1634944215765,
                37.497445406097484
               ],
               [
                127.16199885180917,
                37.49402577547199
               ],
               [
                127.16216448592424,
                37.491639601211624
               ],
               [
                127.16040295326431,
                37.4877818619403
               ],
               [
                127.15892216655034,
                37.486126922469445
               ],
               [
                127.15393282790794,
                37.48483891408459
               ],
               [
                127.15147990997852,
                37.47745324805034
               ],
               [
                127.1515017465549,
                37.475633269417585
               ],
               [
                127.14857580353349,
                37.47381386382568
               ],
               [
                127.14415938171436,
                37.473692508393505
               ],
               [
                127.14112111404233,
                37.470600239054825
               ],
               [
                127.13631568648837,
                37.47214721764681
               ],
               [
                127.13281577200672,
                37.47257463763244
               ],
               [
                127.13307493070646,
                37.468907694139894
               ],
               [
                127.13750907701846,
                37.46647058226059
               ],
               [
                127.13478085797742,
                37.46509524639883
               ],
               [
                127.1308437061496,
                37.46509985661207
               ],
               [
                127.12728991002369,
                37.46673043118672
               ],
               [
                127.12729757787379,
                37.46421548908766
               ],
               [
                127.12440571080893,
                37.46240445587048
               ],
               [
                127.12441393026374,
                37.46442715236855
               ],
               [
                127.12265007208167,
                37.46756987490939
               ],
               [
                127.11380709617507,
                37.479633334849325
               ],
               [
                127.1143875173445,
                37.48073157362458
               ],
               [
                127.11117085201238,
                37.485708381512445
               ],
               [
                127.1077937689776,
                37.48860875954992
               ],
               [
                127.10433125798602,
                37.490728250649646
               ],
               [
                127.0988509639092,
                37.49302529254068
               ],
               [
                127.08050206733888,
                37.49783151325589
               ],
               [
                127.0764808967127,
                37.498612695580306
               ],
               [
                127.0719146000724,
                37.50224013587669
               ],
               [
                127.06926628842805,
                37.51717796437217
               ],
               [
                127.06860425556381,
                37.51812758676938
               ],
               [
                127.0690698130372,
                37.522279423505026
               ]
              ]
             ],
             "type": "Polygon"
            },
            "properties": {
             "base_year": "2013",
             "code": "11240",
             "name": "송파구",
             "name_eng": "Songpa-gu"
            },
            "type": "Feature"
           },
           {
            "geometry": {
             "coordinates": [
              [
               [
                127.05867359288398,
                37.52629974922568
               ],
               [
                127.0690698130372,
                37.522279423505026
               ],
               [
                127.06860425556381,
                37.51812758676938
               ],
               [
                127.06926628842805,
                37.51717796437217
               ],
               [
                127.0719146000724,
                37.50224013587669
               ],
               [
                127.0764808967127,
                37.498612695580306
               ],
               [
                127.08050206733888,
                37.49783151325589
               ],
               [
                127.0988509639092,
                37.49302529254068
               ],
               [
                127.10433125798602,
                37.490728250649646
               ],
               [
                127.1077937689776,
                37.48860875954992
               ],
               [
                127.11117085201238,
                37.485708381512445
               ],
               [
                127.1143875173445,
                37.48073157362458
               ],
               [
                127.11380709617507,
                37.479633334849325
               ],
               [
                127.12265007208167,
                37.46756987490939
               ],
               [
                127.12441393026374,
                37.46442715236855
               ],
               [
                127.12440571080893,
                37.46240445587048
               ],
               [
                127.11957248720776,
                37.45936217377656
               ],
               [
                127.11885903757606,
                37.45578434878651
               ],
               [
                127.11535741803938,
                37.45722556454321
               ],
               [
                127.11413179478714,
                37.45875072431525
               ],
               [
                127.10841788934951,
                37.45972888008147
               ],
               [
                127.10561257180657,
                37.456815702518746
               ],
               [
                127.10032466845217,
                37.45598440195682
               ],
               [
                127.09842759318751,
                37.45862253857461
               ],
               [
                127.09712653145507,
                37.460848194480654
               ],
               [
                127.09039613625872,
                37.465520545397716
               ],
               [
                127.0866005634691,
                37.47006403057779
               ],
               [
                127.08640440578156,
                37.472697935184655
               ],
               [
                127.0802737559454,
                37.471973057552624
               ],
               [
                127.07602132306535,
                37.47005021331707
               ],
               [
                127.07476117209941,
                37.47199174520626
               ],
               [
                127.07231320371885,
                37.47234914588019
               ],
               [
                127.07135137525977,
                37.47107802023145
               ],
               [
                127.06463901956462,
                37.47003474490574
               ],
               [
                127.06371868919344,
                37.4661503234869
               ],
               [
                127.0588551029968,
                37.465611780743174
               ],
               [
                127.0559170481904,
                37.4659228914077
               ],
               [
                127.04713549385288,
                37.474479419244865
               ],
               [
                127.04345123620755,
                37.48276415595109
               ],
               [
                127.03621915098798,
                37.48175802427603
               ],
               [
                127.03372275812187,
                37.48674434662411
               ],
               [
                127.02265609299096,
                37.509970106251416
               ],
               [
                127.02038705349842,
                37.51771683027875
               ],
               [
                127.01917707838057,
                37.520085205855196
               ],
               [
                127.01397119667513,
                37.52503988289669
               ],
               [
                127.02302831890559,
                37.53231899582663
               ],
               [
                127.0269608080842,
                37.53484752757724
               ],
               [
                127.0319617044248,
                37.536064291470424
               ],
               [
                127.04806779588436,
                37.52970198575087
               ],
               [
                127.04903802830752,
                37.53140496708317
               ],
               [
                127.05116490008963,
                37.52975116557232
               ],
               [
                127.05867359288398,
                37.52629974922568
               ]
              ]
             ],
             "type": "Polygon"
            },
            "properties": {
             "base_year": "2013",
             "code": "11230",
             "name": "강남구",
             "name_eng": "Gangnam-gu"
            },
            "type": "Feature"
           },
           {
            "geometry": {
             "coordinates": [
              [
               [
                127.01397119667513,
                37.52503988289669
               ],
               [
                127.01917707838057,
                37.520085205855196
               ],
               [
                127.02038705349842,
                37.51771683027875
               ],
               [
                127.02265609299096,
                37.509970106251416
               ],
               [
                127.03372275812187,
                37.48674434662411
               ],
               [
                127.03621915098798,
                37.48175802427603
               ],
               [
                127.04345123620755,
                37.48276415595109
               ],
               [
                127.04713549385288,
                37.474479419244865
               ],
               [
                127.0559170481904,
                37.4659228914077
               ],
               [
                127.0588551029968,
                37.465611780743174
               ],
               [
                127.06371868919344,
                37.4661503234869
               ],
               [
                127.06463901956462,
                37.47003474490574
               ],
               [
                127.07135137525977,
                37.47107802023145
               ],
               [
                127.07231320371885,
                37.47234914588019
               ],
               [
                127.07476117209941,
                37.47199174520626
               ],
               [
                127.07602132306535,
                37.47005021331707
               ],
               [
                127.0802737559454,
                37.471973057552624
               ],
               [
                127.08640440578156,
                37.472697935184655
               ],
               [
                127.0866005634691,
                37.47006403057779
               ],
               [
                127.09039613625872,
                37.465520545397716
               ],
               [
                127.09712653145507,
                37.460848194480654
               ],
               [
                127.09842759318751,
                37.45862253857461
               ],
               [
                127.09673714758375,
                37.45597209899094
               ],
               [
                127.09722129576434,
                37.45374822681991
               ],
               [
                127.09575982122928,
                37.45332980525459
               ],
               [
                127.09472136159357,
                37.450897902539175
               ],
               [
                127.09293250684935,
                37.450020696864506
               ],
               [
                127.09047890749349,
                37.44637473407341
               ],
               [
                127.09046928565951,
                37.44296826114185
               ],
               [
                127.0862358725955,
                37.44118543250345
               ],
               [
                127.08441983692467,
                37.4383879031398
               ],
               [
                127.07686576585408,
                37.43960712011444
               ],
               [
                127.07375875606847,
                37.43898415920535
               ],
               [
                127.07407631675713,
                37.43719357187124
               ],
               [
                127.07666569012467,
                37.43600054505559
               ],
               [
                127.07603719210388,
                37.43429107517633
               ],
               [
                127.07361291761038,
                37.43318474533595
               ],
               [
                127.07271473569163,
                37.42939553659177
               ],
               [
                127.0733788318578,
                37.42814484786288
               ],
               [
                127.06885354151605,
                37.42731815367302
               ],
               [
                127.06778107605433,
                37.426197424057314
               ],
               [
                127.06317558623768,
                37.4272916178182
               ],
               [
                127.05998777565219,
                37.4273224867045
               ],
               [
                127.05424556064274,
                37.42574929824175
               ],
               [
                127.05197080928994,
                37.42749842502397
               ],
               [
                127.04960937636815,
                37.42801020057224
               ],
               [
                127.04849622718511,
                37.430672016902065
               ],
               [
                127.04191594772718,
                37.43568906449929
               ],
               [
                127.0379686253535,
                37.43634417139204
               ],
               [
                127.03751805596916,
                37.438362795245276
               ],
               [
                127.04031700689708,
                37.44191429311459
               ],
               [
                127.03959875976469,
                37.443582700519194
               ],
               [
                127.0398984887873,
                37.44656106007936
               ],
               [
                127.03825522385397,
                37.448766467898395
               ],
               [
                127.03916301678915,
                37.45180237055558
               ],
               [
                127.03881782597922,
                37.45382039851715
               ],
               [
                127.03695436044305,
                37.45537592726508
               ],
               [
                127.03573307034355,
                37.4586703897792
               ],
               [
                127.03683946894893,
                37.46103886642786
               ],
               [
                127.03337331972266,
                37.462966775127626
               ],
               [
                127.02820831539744,
                37.455700834295826
               ],
               [
                127.02263694708293,
                37.45335816711404
               ],
               [
                127.01827371395349,
                37.4525593623189
               ],
               [
                127.01316256500736,
                37.45257906566242
               ],
               [
                127.01110931353561,
                37.45456166745922
               ],
               [
                127.00836380369604,
                37.45936868039916
               ],
               [
                127.00738548779366,
                37.459815333664274
               ],
               [
                127.00552362663117,
                37.46445102893571
               ],
               [
                127.00008523087483,
                37.46455774995882
               ],
               [
                126.99837609897334,
                37.46390918086617
               ],
               [
                126.99932142462428,
                37.46113351815481
               ],
               [
                126.99893310307874,
                37.459376062410314
               ],
               [
                126.9953054179472,
                37.45860121328987
               ],
               [
                126.99072073195462,
                37.455326143310025
               ],
               [
                126.98956736277059,
                37.457600756400446
               ],
               [
                126.99026416700147,
                37.46271603227842
               ],
               [
                126.98896316546526,
                37.465041871263544
               ],
               [
                126.98662755598336,
                37.466937278295305
               ],
               [
                126.9846374349825,
                37.46996301876212
               ],
               [
                126.98367668291802,
                37.473856492692086
               ],
               [
                126.98500224966135,
                37.49356837311327
               ],
               [
                126.9871787157338,
                37.49719505997539
               ],
               [
                126.9832495184969,
                37.49948552591205
               ],
               [
                126.98241580381733,
                37.50120029501884
               ],
               [
                126.98223807916081,
                37.509314966770326
               ],
               [
                126.98458580602838,
                37.51070333105394
               ],
               [
                126.98948242685965,
                37.5108780134613
               ],
               [
                126.99148001917875,
                37.50990503427709
               ],
               [
                127.00011962020382,
                37.513901653034374
               ],
               [
                127.00583392114271,
                37.516905128452926
               ],
               [
                127.00818058911564,
                37.51877313923874
               ],
               [
                127.01022186960886,
                37.522020085671926
               ],
               [
                127.01397119667513,
                37.52503988289669
               ]
              ]
             ],
             "type": "Polygon"
            },
            "properties": {
             "base_year": "2013",
             "code": "11220",
             "name": "서초구",
             "name_eng": "Seocho-gu"
            },
            "type": "Feature"
           },
           {
            "geometry": {
             "coordinates": [
              [
               [
                126.98367668291802,
                37.473856492692086
               ],
               [
                126.9846374349825,
                37.46996301876212
               ],
               [
                126.98662755598336,
                37.466937278295305
               ],
               [
                126.98896316546526,
                37.465041871263544
               ],
               [
                126.99026416700147,
                37.46271603227842
               ],
               [
                126.98956736277059,
                37.457600756400446
               ],
               [
                126.99072073195462,
                37.455326143310025
               ],
               [
                126.98484249930785,
                37.45391909788938
               ],
               [
                126.9829408096241,
                37.450206782833206
               ],
               [
                126.97835022660695,
                37.447659155806164
               ],
               [
                126.97608193440507,
                37.44478918862847
               ],
               [
                126.9731300196836,
                37.444722870088114
               ],
               [
                126.96650852936277,
                37.44276983031553
               ],
               [
                126.96618702895445,
                37.439376482995094
               ],
               [
                126.96520439085143,
                37.438249784006246
               ],
               [
                126.9614877541633,
                37.437956805629675
               ],
               [
                126.96054904645496,
                37.43673997185797
               ],
               [
                126.95527369898224,
                37.43673711968809
               ],
               [
                126.9473688393239,
                37.4347689647565
               ],
               [
                126.94440352544498,
                37.43476162120059
               ],
               [
                126.9415292183489,
                37.43315139671158
               ],
               [
                126.94037501670272,
                37.43462213966344
               ],
               [
                126.9405640311191,
                37.437501011208845
               ],
               [
                126.9376981355065,
                37.44041709605302
               ],
               [
                126.93312955918624,
                37.44290014710262
               ],
               [
                126.93309127096236,
                37.44533734785938
               ],
               [
                126.93084408056525,
                37.447382928333994
               ],
               [
                126.92527839995981,
                37.45161884570837
               ],
               [
                126.9245243450059,
                37.45392293573877
               ],
               [
                126.91887928082078,
                37.45495082787016
               ],
               [
                126.9167728146601,
                37.45490566423789
               ],
               [
                126.91641538472182,
                37.45870245071989
               ],
               [
                126.91495285904284,
                37.461166184511065
               ],
               [
                126.91584245173756,
                37.462474576247985
               ],
               [
                126.91374656127704,
                37.46375990852858
               ],
               [
                126.91032166997253,
                37.469818629944285
               ],
               [
                126.91280966667205,
                37.47083063715413
               ],
               [
                126.91405961426707,
                37.47416764846582
               ],
               [
                126.9115784808617,
                37.4753960485947
               ],
               [
                126.91181700249076,
                37.47814319736339
               ],
               [
                126.90276666415615,
                37.47652007992712
               ],
               [
                126.90156094129895,
                37.47753842789901
               ],
               [
                126.90531975801812,
                37.48218087575429
               ],
               [
                126.90805655355825,
                37.48218338568103
               ],
               [
                126.91533979779165,
                37.484392208242134
               ],
               [
                126.91916807529428,
                37.48660606817164
               ],
               [
                126.92639563063156,
                37.48715979752876
               ],
               [
                126.92869559665061,
                37.49132126714011
               ],
               [
                126.92981699800066,
                37.49218420958284
               ],
               [
                126.93346386636452,
                37.49043826776755
               ],
               [
                126.93669800083833,
                37.49026778789087
               ],
               [
                126.93844070234584,
                37.4893532861132
               ],
               [
                126.94373156012337,
                37.48938843727846
               ],
               [
                126.94922661389508,
                37.49125437495649
               ],
               [
                126.95396955055433,
                37.48955250290043
               ],
               [
                126.9559655046206,
                37.48820165625994
               ],
               [
                126.95881175306481,
                37.48874989165474
               ],
               [
                126.96329694970828,
                37.4905835370787
               ],
               [
                126.96291787066104,
                37.48803272157808
               ],
               [
                126.96443983219191,
                37.48442261322104
               ],
               [
                126.9634428120456,
                37.48067931902171
               ],
               [
                126.9725891850662,
                37.472561363278125
               ],
               [
                126.97901795539295,
                37.47376525108475
               ],
               [
                126.98367668291802,
                37.473856492692086
               ]
              ]
             ],
             "type": "Polygon"
            },
            "properties": {
             "base_year": "2013",
             "code": "11210",
             "name": "관악구",
             "name_eng": "Gwanak-gu"
            },
            "type": "Feature"
           },
           {
            "geometry": {
             "coordinates": [
              [
               [
                126.98223807916081,
                37.509314966770326
               ],
               [
                126.98241580381733,
                37.50120029501884
               ],
               [
                126.9832495184969,
                37.49948552591205
               ],
               [
                126.9871787157338,
                37.49719505997539
               ],
               [
                126.98500224966135,
                37.49356837311327
               ],
               [
                126.98367668291802,
                37.473856492692086
               ],
               [
                126.97901795539295,
                37.47376525108475
               ],
               [
                126.9725891850662,
                37.472561363278125
               ],
               [
                126.9634428120456,
                37.48067931902171
               ],
               [
                126.96443983219191,
                37.48442261322104
               ],
               [
                126.96291787066104,
                37.48803272157808
               ],
               [
                126.96329694970828,
                37.4905835370787
               ],
               [
                126.95881175306481,
                37.48874989165474
               ],
               [
                126.9559655046206,
                37.48820165625994
               ],
               [
                126.95396955055433,
                37.48955250290043
               ],
               [
                126.94922661389508,
                37.49125437495649
               ],
               [
                126.94373156012337,
                37.48938843727846
               ],
               [
                126.93844070234584,
                37.4893532861132
               ],
               [
                126.93669800083833,
                37.49026778789087
               ],
               [
                126.93346386636452,
                37.49043826776755
               ],
               [
                126.92981699800066,
                37.49218420958284
               ],
               [
                126.92869559665061,
                37.49132126714011
               ],
               [
                126.92639563063156,
                37.48715979752876
               ],
               [
                126.91916807529428,
                37.48660606817164
               ],
               [
                126.91533979779165,
                37.484392208242134
               ],
               [
                126.90805655355825,
                37.48218338568103
               ],
               [
                126.90531975801812,
                37.48218087575429
               ],
               [
                126.91461888105147,
                37.493581242537296
               ],
               [
                126.92177893174825,
                37.494889877415176
               ],
               [
                126.9232469824303,
                37.49928149943772
               ],
               [
                126.92749463764046,
                37.50985955934051
               ],
               [
                126.92919938332032,
                37.51019685838638
               ],
               [
                126.92810628828279,
                37.51329595732015
               ],
               [
                126.93453120783802,
                37.5128512712934
               ],
               [
                126.94407346439685,
                37.51463101265907
               ],
               [
                126.95249990298159,
                37.51722500741813
               ],
               [
                126.95551848909955,
                37.514736123015844
               ],
               [
                126.95950268374823,
                37.51249532165974
               ],
               [
                126.96670111119346,
                37.50997579058433
               ],
               [
                126.98223807916081,
                37.509314966770326
               ]
              ]
             ],
             "type": "Polygon"
            },
            "properties": {
             "base_year": "2013",
             "code": "11200",
             "name": "동작구",
             "name_eng": "Dongjak-gu"
            },
            "type": "Feature"
           },
           {
            "geometry": {
             "coordinates": [
              [
               [
                126.89184663862764,
                37.547373974997114
               ],
               [
                126.90281125423546,
                37.54133630026083
               ],
               [
                126.90829204147958,
                37.539206065016785
               ],
               [
                126.93132557924062,
                37.53415416375281
               ],
               [
                126.93680342222562,
                37.53344577095931
               ],
               [
                126.94566733083212,
                37.526617542453366
               ],
               [
                126.9488066464266,
                37.52424913252661
               ],
               [
                126.95003825019774,
                37.520781022055274
               ],
               [
                126.95249990298159,
                37.51722500741813
               ],
               [
                126.94407346439685,
                37.51463101265907
               ],
               [
                126.93453120783802,
                37.5128512712934
               ],
               [
                126.92810628828279,
                37.51329595732015
               ],
               [
                126.92919938332032,
                37.51019685838638
               ],
               [
                126.92749463764046,
                37.50985955934051
               ],
               [
                126.9232469824303,
                37.49928149943772
               ],
               [
                126.92177893174825,
                37.494889877415176
               ],
               [
                126.91461888105147,
                37.493581242537296
               ],
               [
                126.90531975801812,
                37.48218087575429
               ],
               [
                126.90260188508027,
                37.48282626920736
               ],
               [
                126.89861362258316,
                37.48625405368759
               ],
               [
                126.89581061458084,
                37.49391346191318
               ],
               [
                126.89549571721683,
                37.50033127915717
               ],
               [
                126.89594776782485,
                37.504675281309176
               ],
               [
                126.89253696873205,
                37.50875582175844
               ],
               [
                126.88156402353862,
                37.513970034765684
               ],
               [
                126.88191372979959,
                37.51939416754389
               ],
               [
                126.88260109180834,
                37.52242565920786
               ],
               [
                126.88382776477316,
                37.52352483439659
               ],
               [
                126.88904768965743,
                37.525856504359034
               ],
               [
                126.89057378109133,
                37.52792091672938
               ],
               [
                126.89213569003026,
                37.52757969298779
               ],
               [
                126.89361739665432,
                37.53033899535983
               ],
               [
                126.89339176028666,
                37.533030814524004
               ],
               [
                126.88938421776182,
                37.54060159145325
               ],
               [
                126.88825757860099,
                37.54079733630232
               ],
               [
                126.88736718003831,
                37.54350482420959
               ],
               [
                126.89184663862764,
                37.547373974997114
               ]
              ]
             ],
             "type": "Polygon"
            },
            "properties": {
             "base_year": "2013",
             "code": "11190",
             "name": "영등포구",
             "name_eng": "Yeongdeungpo-gu"
            },
            "type": "Feature"
           },
           {
            "geometry": {
             "coordinates": [
              [
               [
                126.90156094129895,
                37.47753842789901
               ],
               [
                126.90276666415615,
                37.47652007992712
               ],
               [
                126.91181700249076,
                37.47814319736339
               ],
               [
                126.9115784808617,
                37.4753960485947
               ],
               [
                126.91405961426707,
                37.47416764846582
               ],
               [
                126.91280966667205,
                37.47083063715413
               ],
               [
                126.91032166997253,
                37.469818629944285
               ],
               [
                126.91374656127704,
                37.46375990852858
               ],
               [
                126.91584245173756,
                37.462474576247985
               ],
               [
                126.91495285904284,
                37.461166184511065
               ],
               [
                126.91641538472182,
                37.45870245071989
               ],
               [
                126.9167728146601,
                37.45490566423789
               ],
               [
                126.91887928082078,
                37.45495082787016
               ],
               [
                126.9245243450059,
                37.45392293573877
               ],
               [
                126.92527839995981,
                37.45161884570837
               ],
               [
                126.93084408056525,
                37.447382928333994
               ],
               [
                126.9255681646224,
                37.44377627841776
               ],
               [
                126.92318732232543,
                37.44131494528283
               ],
               [
                126.92199241717724,
                37.43848070111403
               ],
               [
                126.92004664118903,
                37.43708741729147
               ],
               [
                126.91641802826501,
                37.43722730676683
               ],
               [
                126.91344497343947,
                37.43474365720405
               ],
               [
                126.91082677485002,
                37.43100963341445
               ],
               [
                126.90487628022693,
                37.43129996372531
               ],
               [
                126.90480610062333,
                37.433123813599884
               ],
               [
                126.90147608259903,
                37.4353323892334
               ],
               [
                126.90081465102077,
                37.436498759868456
               ],
               [
                126.90105333433885,
                37.44031094924801
               ],
               [
                126.90031753853916,
                37.441844173154756
               ],
               [
                126.89768314223053,
                37.442906858137974
               ],
               [
                126.89812451590424,
                37.44551117837958
               ],
               [
                126.89616541233094,
                37.44983024861048
               ],
               [
                126.8947204038491,
                37.4491097366517
               ],
               [
                126.89157226377172,
                37.449944282396714
               ],
               [
                126.89113632562855,
                37.45236898205529
               ],
               [
                126.88831381741582,
                37.45357939777933
               ],
               [
                126.88826482749008,
                37.45663270152334
               ],
               [
                126.89074130059865,
                37.45966561796733
               ],
               [
                126.88198617469523,
                37.469975509557976
               ],
               [
                126.87874781843654,
                37.47475533620029
               ],
               [
                126.87553760781829,
                37.48186220368496
               ],
               [
                126.87683271502428,
                37.482576591607305
               ],
               [
                126.88079109105627,
                37.48378287831426
               ],
               [
                126.8827497570056,
                37.48316340563878
               ],
               [
                126.88803217321346,
                37.47975290808737
               ],
               [
                126.89116882970154,
                37.47681803032367
               ],
               [
                126.89689977603885,
                37.47570593888643
               ],
               [
                126.90104536043339,
                37.47614746588584
               ],
               [
                126.90156094129895,
                37.47753842789901
               ]
              ]
             ],
             "type": "Polygon"
            },
            "properties": {
             "base_year": "2013",
             "code": "11180",
             "name": "금천구",
             "name_eng": "Geumcheon-gu"
            },
            "type": "Feature"
           },
           {
            "geometry": {
             "coordinates": [
              [
               [
                126.82688081517314,
                37.50548972232896
               ],
               [
                126.8312211095328,
                37.50541191299514
               ],
               [
                126.8341914436862,
                37.50238060850881
               ],
               [
                126.8385046623421,
                37.49965438083505
               ],
               [
                126.84270526111828,
                37.501190052842375
               ],
               [
                126.8421330711049,
                37.50273297478404
               ],
               [
                126.84689618668257,
                37.50287086505149
               ],
               [
                126.84730715497963,
                37.50522159123912
               ],
               [
                126.85079659934003,
                37.50601938589165
               ],
               [
                126.8521985385098,
                37.507310601432195
               ],
               [
                126.8549910115563,
                37.507774255244875
               ],
               [
                126.85767018319959,
                37.50643578404816
               ],
               [
                126.8602448049945,
                37.50714262450898
               ],
               [
                126.86219488732715,
                37.50388438562706
               ],
               [
                126.86454914535695,
                37.50388350542007
               ],
               [
                126.86525729660478,
                37.502448483868896
               ],
               [
                126.86795186545288,
                37.502755995885714
               ],
               [
                126.87109220473953,
                37.50203922322315
               ],
               [
                126.87432642792102,
                37.50260287829134
               ],
               [
                126.87556919864359,
                37.505720626918
               ],
               [
                126.88054908630636,
                37.51148026214697
               ],
               [
                126.88156402353862,
                37.513970034765684
               ],
               [
                126.89253696873205,
                37.50875582175844
               ],
               [
                126.89594776782485,
                37.504675281309176
               ],
               [
                126.89549571721683,
                37.50033127915717
               ],
               [
                126.89581061458084,
                37.49391346191318
               ],
               [
                126.89861362258316,
                37.48625405368759
               ],
               [
                126.90260188508027,
                37.48282626920736
               ],
               [
                126.90531975801812,
                37.48218087575429
               ],
               [
                126.90156094129895,
                37.47753842789901
               ],
               [
                126.90104536043339,
                37.47614746588584
               ],
               [
                126.89689977603885,
                37.47570593888643
               ],
               [
                126.89116882970154,
                37.47681803032367
               ],
               [
                126.88803217321346,
                37.47975290808737
               ],
               [
                126.8827497570056,
                37.48316340563878
               ],
               [
                126.88079109105627,
                37.48378287831426
               ],
               [
                126.87683271502428,
                37.482576591607305
               ],
               [
                126.87926901338844,
                37.4851363312754
               ],
               [
                126.87807822721697,
                37.486247661404484
               ],
               [
                126.87500855887376,
                37.485529408954044
               ],
               [
                126.87499999632084,
                37.48723558386031
               ],
               [
                126.86985088086946,
                37.490972856926746
               ],
               [
                126.86690708512153,
                37.48850048185492
               ],
               [
                126.86334463261252,
                37.48702105213313
               ],
               [
                126.85979281993241,
                37.48309390333688
               ],
               [
                126.8571926758503,
                37.482400254369296
               ],
               [
                126.85582775745682,
                37.48008159809108
               ],
               [
                126.85397991619827,
                37.47882533996402
               ],
               [
                126.84914329670241,
                37.4792573077648
               ],
               [
                126.84804505350411,
                37.478160467930344
               ],
               [
                126.84762676054953,
                37.47146723936323
               ],
               [
                126.84154264465728,
                37.4728980419
               ],
               [
                126.83754691879544,
                37.472514053936045
               ],
               [
                126.83388005989259,
                37.4747683882548
               ],
               [
                126.83136668931549,
                37.47344154955525
               ],
               [
                126.82660025197819,
                37.47364544953152
               ],
               [
                126.82419365698964,
                37.472951080902234
               ],
               [
                126.82179895415682,
                37.47518076838956
               ],
               [
                126.82206789884786,
                37.47889514031285
               ],
               [
                126.82139445214092,
                37.48136482338644
               ],
               [
                126.82208805042494,
                37.48299688518288
               ],
               [
                126.82558489219227,
                37.48497306755705
               ],
               [
                126.82482114643597,
                37.48717399070965
               ],
               [
                126.81993148808915,
                37.48877864988337
               ],
               [
                126.81649745505314,
                37.490455810141476
               ],
               [
                126.81480709048222,
                37.493362284349615
               ],
               [
                126.81518179823208,
                37.495233793642186
               ],
               [
                126.81771493003457,
                37.494748098657496
               ],
               [
                126.8208295567048,
                37.49594689979241
               ],
               [
                126.82204657426578,
                37.49851634597747
               ],
               [
                126.82367963750009,
                37.49925830108059
               ],
               [
                126.82504736331406,
                37.50302612640443
               ],
               [
                126.82469248121312,
                37.50496239513798
               ],
               [
                126.82688081517314,
                37.50548972232896
               ]
              ]
             ],
             "type": "Polygon"
            },
            "properties": {
             "base_year": "2013",
             "code": "11170",
             "name": "구로구",
             "name_eng": "Guro-gu"
            },
            "type": "Feature"
           },
           {
            "geometry": {
             "coordinates": [
              [
               [
                126.85984199399667,
                37.571847855292745
               ],
               [
                126.85950389772532,
                37.5682771531189
               ],
               [
                126.8604929702619,
                37.566825621733905
               ],
               [
                126.86837407967381,
                37.56309561411933
               ],
               [
                126.87997924964915,
                37.55510740490174
               ],
               [
                126.89184663862764,
                37.547373974997114
               ],
               [
                126.88736718003831,
                37.54350482420959
               ],
               [
                126.88825757860099,
                37.54079733630232
               ],
               [
                126.8872486543506,
                37.54079100234749
               ],
               [
                126.88280520161935,
                37.545072121233225
               ],
               [
                126.8761093656006,
                37.54412882794802
               ],
               [
                126.8727924099192,
                37.544853699294116
               ],
               [
                126.86637464321238,
                37.54859191094823
               ],
               [
                126.86426635332332,
                37.54172958759955
               ],
               [
                126.86582129720519,
                37.53817151116851
               ],
               [
                126.8655037497872,
                37.53382926555605
               ],
               [
                126.86610073476395,
                37.52699964144669
               ],
               [
                126.85098397861944,
                37.525098716169985
               ],
               [
                126.84257291943153,
                37.52373707805596
               ],
               [
                126.836555914069,
                37.53367208325903
               ],
               [
                126.83716591765655,
                37.534935320492906
               ],
               [
                126.83522688458329,
                37.539042988809484
               ],
               [
                126.8325348945036,
                37.538953250433295
               ],
               [
                126.83191667070415,
                37.54146500511403
               ],
               [
                126.83017074557299,
                37.542611079015344
               ],
               [
                126.82889818288362,
                37.53909381305992
               ],
               [
                126.8242331426722,
                37.53788078753248
               ],
               [
                126.81674221631081,
                37.5378396500627
               ],
               [
                126.81246052552456,
                37.538810793377344
               ],
               [
                126.81143604908785,
                37.54033621168525
               ],
               [
                126.80542840499083,
                37.54008921830378
               ],
               [
                126.80185404828612,
                37.537645443377826
               ],
               [
                126.80090914554204,
                37.53503009075454
               ],
               [
                126.79688612254975,
                37.53302974862096
               ],
               [
                126.79582133969424,
                37.536641561833754
               ],
               [
                126.79693641290046,
                37.53865858611534
               ],
               [
                126.79388711477147,
                37.53902211451394
               ],
               [
                126.7938616681597,
                37.54104361952839
               ],
               [
                126.79075533377627,
                37.54165251407983
               ],
               [
                126.78880225462409,
                37.54353706379955
               ],
               [
                126.78198339188025,
                37.543449601019624
               ],
               [
                126.77756215424237,
                37.54611355396897
               ],
               [
                126.77324417717703,
                37.5459123450554
               ],
               [
                126.76977011413412,
                37.55052082471595
               ],
               [
                126.76700465024426,
                37.552821566629916
               ],
               [
                126.77074629769308,
                37.55296836994276
               ],
               [
                126.77145103135192,
                37.55434307460708
               ],
               [
                126.77879087345151,
                37.55919525318415
               ],
               [
                126.77889121370164,
                37.5613614424496
               ],
               [
                126.77671213061004,
                37.5645429268672
               ],
               [
                126.77986476402239,
                37.564245932540665
               ],
               [
                126.78252024622797,
                37.565367145342954
               ],
               [
                126.78471963959866,
                37.56745669198498
               ],
               [
                126.78398460461828,
                37.56905814599349
               ],
               [
                126.78496836516075,
                37.57090748246567
               ],
               [
                126.79172648531066,
                37.57472630536462
               ],
               [
                126.79539987549317,
                37.57451148875729
               ],
               [
                126.79523455851671,
                37.57760277954844
               ],
               [
                126.7958606942207,
                37.58019957877273
               ],
               [
                126.79799133400897,
                37.58036436587069
               ],
               [
                126.80091228188235,
                37.5854309825683
               ],
               [
                126.80289369340177,
                37.58621464221784
               ],
               [
                126.80131704756816,
                37.58839794302751
               ],
               [
                126.80149834313248,
                37.59012749570681
               ],
               [
                126.7996634054858,
                37.59296530943065
               ],
               [
                126.79910601240701,
                37.59569886491464
               ],
               [
                126.80046544382346,
                37.59827267924192
               ],
               [
                126.80198459129242,
                37.598541940075755
               ],
               [
                126.80268446118524,
                37.601312560472834
               ],
               [
                126.80393696882469,
                37.601857300987895
               ],
               [
                126.80759006979085,
                37.60089755124775
               ],
               [
                126.81814502537962,
                37.591566052513244
               ],
               [
                126.82251438477105,
                37.5880430810082
               ],
               [
                126.82891304761237,
                37.5855611764797
               ],
               [
                126.85302823436479,
                37.57282468882299
               ],
               [
                126.85984199399667,
                37.571847855292745
               ]
              ]
             ],
             "type": "Polygon"
            },
            "properties": {
             "base_year": "2013",
             "code": "11160",
             "name": "강서구",
             "name_eng": "Gangseo-gu"
            },
            "type": "Feature"
           },
           {
            "geometry": {
             "coordinates": [
              [
               [
                126.8242331426722,
                37.53788078753248
               ],
               [
                126.82889818288362,
                37.53909381305992
               ],
               [
                126.83017074557299,
                37.542611079015344
               ],
               [
                126.83191667070415,
                37.54146500511403
               ],
               [
                126.8325348945036,
                37.538953250433295
               ],
               [
                126.83522688458329,
                37.539042988809484
               ],
               [
                126.83716591765655,
                37.534935320492906
               ],
               [
                126.836555914069,
                37.53367208325903
               ],
               [
                126.84257291943153,
                37.52373707805596
               ],
               [
                126.85098397861944,
                37.525098716169985
               ],
               [
                126.86610073476395,
                37.52699964144669
               ],
               [
                126.8655037497872,
                37.53382926555605
               ],
               [
                126.86582129720519,
                37.53817151116851
               ],
               [
                126.86426635332332,
                37.54172958759955
               ],
               [
                126.86637464321238,
                37.54859191094823
               ],
               [
                126.8727924099192,
                37.544853699294116
               ],
               [
                126.8761093656006,
                37.54412882794802
               ],
               [
                126.88280520161935,
                37.545072121233225
               ],
               [
                126.8872486543506,
                37.54079100234749
               ],
               [
                126.88825757860099,
                37.54079733630232
               ],
               [
                126.88938421776182,
                37.54060159145325
               ],
               [
                126.89339176028666,
                37.533030814524004
               ],
               [
                126.89361739665432,
                37.53033899535983
               ],
               [
                126.89213569003026,
                37.52757969298779
               ],
               [
                126.89057378109133,
                37.52792091672938
               ],
               [
                126.88904768965743,
                37.525856504359034
               ],
               [
                126.88382776477316,
                37.52352483439659
               ],
               [
                126.88260109180834,
                37.52242565920786
               ],
               [
                126.88191372979959,
                37.51939416754389
               ],
               [
                126.88156402353862,
                37.513970034765684
               ],
               [
                126.88054908630636,
                37.51148026214697
               ],
               [
                126.87556919864359,
                37.505720626918
               ],
               [
                126.87432642792102,
                37.50260287829134
               ],
               [
                126.87109220473953,
                37.50203922322315
               ],
               [
                126.86795186545288,
                37.502755995885714
               ],
               [
                126.86525729660478,
                37.502448483868896
               ],
               [
                126.86454914535695,
                37.50388350542007
               ],
               [
                126.86219488732715,
                37.50388438562706
               ],
               [
                126.8602448049945,
                37.50714262450898
               ],
               [
                126.85767018319959,
                37.50643578404816
               ],
               [
                126.8549910115563,
                37.507774255244875
               ],
               [
                126.8521985385098,
                37.507310601432195
               ],
               [
                126.85079659934003,
                37.50601938589165
               ],
               [
                126.84730715497963,
                37.50522159123912
               ],
               [
                126.84689618668257,
                37.50287086505149
               ],
               [
                126.8421330711049,
                37.50273297478404
               ],
               [
                126.84270526111828,
                37.501190052842375
               ],
               [
                126.8385046623421,
                37.49965438083505
               ],
               [
                126.8341914436862,
                37.50238060850881
               ],
               [
                126.8312211095328,
                37.50541191299514
               ],
               [
                126.82688081517314,
                37.50548972232896
               ],
               [
                126.82609821744505,
                37.507816771867255
               ],
               [
                126.82665326173496,
                37.510416148524136
               ],
               [
                126.82529622550616,
                37.513385210403136
               ],
               [
                126.82763384465879,
                37.516923263281946
               ],
               [
                126.8273575421771,
                37.52002629298419
               ],
               [
                126.83054711509516,
                37.52390261457357
               ],
               [
                126.82938708105253,
                37.5268052663749
               ],
               [
                126.8276955169658,
                37.52706155314193
               ],
               [
                126.82389942108053,
                37.53199443525418
               ],
               [
                126.8242331426722,
                37.53788078753248
               ]
              ]
             ],
             "type": "Polygon"
            },
            "properties": {
             "base_year": "2013",
             "code": "11150",
             "name": "양천구",
             "name_eng": "Yangcheon-gu"
            },
            "type": "Feature"
           },
           {
            "geometry": {
             "coordinates": [
              [
               [
                126.90522065831053,
                37.57409700522574
               ],
               [
                126.90370105002282,
                37.57266722738834
               ],
               [
                126.90687243065778,
                37.57059762097416
               ],
               [
                126.92189004506,
                37.56391798973296
               ],
               [
                126.92778174854314,
                37.562495624023775
               ],
               [
                126.93034243306369,
                37.56054720372433
               ],
               [
                126.92881397392811,
                37.558202848902
               ],
               [
                126.92872097190046,
                37.556034533941734
               ],
               [
                126.93898161798973,
                37.552310003728124
               ],
               [
                126.94314477022111,
                37.5536460848349
               ],
               [
                126.95916768398142,
                37.55468176051932
               ],
               [
                126.96080686210321,
                37.55386236039188
               ],
               [
                126.96358226710812,
                37.55605635475154
               ],
               [
                126.96519694864509,
                37.55362533505407
               ],
               [
                126.96380145704283,
                37.55254525759954
               ],
               [
                126.96448570553055,
                37.548705692021635
               ],
               [
                126.96604189284825,
                37.546894141748815
               ],
               [
                126.96401856825223,
                37.54584596959762
               ],
               [
                126.96231305253527,
                37.543511558047456
               ],
               [
                126.9605977865388,
                37.542661954880806
               ],
               [
                126.95926437828754,
                37.53897908363236
               ],
               [
                126.95340780191557,
                37.533494726370755
               ],
               [
                126.94717864071288,
                37.53213495568077
               ],
               [
                126.94566733083212,
                37.526617542453366
               ],
               [
                126.93680342222562,
                37.53344577095931
               ],
               [
                126.93132557924062,
                37.53415416375281
               ],
               [
                126.90829204147958,
                37.539206065016785
               ],
               [
                126.90281125423546,
                37.54133630026083
               ],
               [
                126.89184663862764,
                37.547373974997114
               ],
               [
                126.87997924964915,
                37.55510740490174
               ],
               [
                126.86837407967381,
                37.56309561411933
               ],
               [
                126.8604929702619,
                37.566825621733905
               ],
               [
                126.85950389772532,
                37.5682771531189
               ],
               [
                126.85984199399667,
                37.571847855292745
               ],
               [
                126.85993476176495,
                37.5728262143511
               ],
               [
                126.8638132887273,
                37.57306147014704
               ],
               [
                126.86560520354786,
                37.57385540098251
               ],
               [
                126.86766286078968,
                37.57269227137124
               ],
               [
                126.87008117117851,
                37.574598289168996
               ],
               [
                126.87282267062741,
                37.574956427500126
               ],
               [
                126.8779661566318,
                37.57680133323819
               ],
               [
                126.87918874599603,
                37.5796889248137
               ],
               [
                126.87876320682938,
                37.581327335058546
               ],
               [
                126.88107183862735,
                37.583788024645344
               ],
               [
                126.88237824849728,
                37.586847436468204
               ],
               [
                126.88433284773288,
                37.588143322880526
               ],
               [
                126.89150044994719,
                37.58202374305761
               ],
               [
                126.89532313269488,
                37.579420322822145
               ],
               [
                126.89738573904876,
                37.578668647687564
               ],
               [
                126.90023584510952,
                37.575506080437606
               ],
               [
                126.90373193212757,
                37.573123712282076
               ],
               [
                126.90522065831053,
                37.57409700522574
               ]
              ]
             ],
             "type": "Polygon"
            },
            "properties": {
             "base_year": "2013",
             "code": "11140",
             "name": "마포구",
             "name_eng": "Mapo-gu"
            },
            "type": "Feature"
           },
           {
            "geometry": {
             "coordinates": [
              [
               [
                126.9524752030572,
                37.60508692737045
               ],
               [
                126.95480868778256,
                37.60381765067903
               ],
               [
                126.95564117002459,
                37.601827148276776
               ],
               [
                126.95484771718951,
                37.59761368186209
               ],
               [
                126.95619178283661,
                37.59575826218021
               ],
               [
                126.95924434840931,
                37.59545024466215
               ],
               [
                126.95842779914786,
                37.592356673207824
               ],
               [
                126.960424902266,
                37.58868913291801
               ],
               [
                126.96048802632431,
                37.587202077053746
               ],
               [
                126.95879970726017,
                37.58189826471162
               ],
               [
                126.96177754536156,
                37.57970124256911
               ],
               [
                126.95789326971087,
                37.57793453336025
               ],
               [
                126.95565425846463,
                37.576080790881456
               ],
               [
                126.96873633279075,
                37.56313604690827
               ],
               [
                126.97169209525231,
                37.55921654641677
               ],
               [
                126.96900073076728,
                37.55850929094393
               ],
               [
                126.96570855677983,
                37.556512377492325
               ],
               [
                126.96358226710812,
                37.55605635475154
               ],
               [
                126.96080686210321,
                37.55386236039188
               ],
               [
                126.95916768398142,
                37.55468176051932
               ],
               [
                126.94314477022111,
                37.5536460848349
               ],
               [
                126.93898161798973,
                37.552310003728124
               ],
               [
                126.92872097190046,
                37.556034533941734
               ],
               [
                126.92881397392811,
                37.558202848902
               ],
               [
                126.93034243306369,
                37.56054720372433
               ],
               [
                126.92778174854314,
                37.562495624023775
               ],
               [
                126.92189004506,
                37.56391798973296
               ],
               [
                126.90687243065778,
                37.57059762097416
               ],
               [
                126.90370105002282,
                37.57266722738834
               ],
               [
                126.90522065831053,
                37.57409700522574
               ],
               [
                126.91464724464083,
                37.583228529985455
               ],
               [
                126.91827498278953,
                37.58276881451649
               ],
               [
                126.91792000144513,
                37.58034997804668
               ],
               [
                126.92444169370404,
                37.581233899739914
               ],
               [
                126.92596484570709,
                37.58441659356971
               ],
               [
                126.9281697003186,
                37.584376616028365
               ],
               [
                126.9302171100533,
                37.58559126746845
               ],
               [
                126.92996402426377,
                37.58767009299767
               ],
               [
                126.93104958440722,
                37.58996937993664
               ],
               [
                126.93575441237547,
                37.593605788596975
               ],
               [
                126.94277481511082,
                37.59587806191211
               ],
               [
                126.94359054641505,
                37.60034871312552
               ],
               [
                126.94451473597087,
                37.60203195380752
               ],
               [
                126.94701525068315,
                37.602028095480975
               ],
               [
                126.94919787550161,
                37.60506379949065
               ],
               [
                126.9524752030572,
                37.60508692737045
               ]
              ]
             ],
             "type": "Polygon"
            },
            "properties": {
             "base_year": "2013",
             "code": "11130",
             "name": "서대문구",
             "name_eng": "Seodaemun-gu"
            },
            "type": "Feature"
           },
           {
            "geometry": {
             "coordinates": [
              [
               [
                126.9738864128702,
                37.62949634786888
               ],
               [
                126.97135221665513,
                37.62743418897386
               ],
               [
                126.96164158910712,
                37.62569322976388
               ],
               [
                126.95885198650147,
                37.6225761621008
               ],
               [
                126.95427017006129,
                37.622033431339425
               ],
               [
                126.95393421039743,
                37.61877981567335
               ],
               [
                126.9528332649861,
                37.6161065117682
               ],
               [
                126.95145384404022,
                37.61493028446385
               ],
               [
                126.95249458941419,
                37.61333750249896
               ],
               [
                126.95308190738618,
                37.60926681659027
               ],
               [
                126.95187994741721,
                37.60600915874973
               ],
               [
                126.9524752030572,
                37.60508692737045
               ],
               [
                126.94919787550161,
                37.60506379949065
               ],
               [
                126.94701525068315,
                37.602028095480975
               ],
               [
                126.94451473597087,
                37.60203195380752
               ],
               [
                126.94359054641505,
                37.60034871312552
               ],
               [
                126.94277481511082,
                37.59587806191211
               ],
               [
                126.93575441237547,
                37.593605788596975
               ],
               [
                126.93104958440722,
                37.58996937993664
               ],
               [
                126.92996402426377,
                37.58767009299767
               ],
               [
                126.9302171100533,
                37.58559126746845
               ],
               [
                126.9281697003186,
                37.584376616028365
               ],
               [
                126.92596484570709,
                37.58441659356971
               ],
               [
                126.92444169370404,
                37.581233899739914
               ],
               [
                126.91792000144513,
                37.58034997804668
               ],
               [
                126.91827498278953,
                37.58276881451649
               ],
               [
                126.91464724464083,
                37.583228529985455
               ],
               [
                126.90522065831053,
                37.57409700522574
               ],
               [
                126.90373193212757,
                37.573123712282076
               ],
               [
                126.90023584510952,
                37.575506080437606
               ],
               [
                126.89738573904876,
                37.578668647687564
               ],
               [
                126.89532313269488,
                37.579420322822145
               ],
               [
                126.89150044994719,
                37.58202374305761
               ],
               [
                126.88433284773288,
                37.588143322880526
               ],
               [
                126.88715278104091,
                37.59100341655796
               ],
               [
                126.88936046370014,
                37.59099007316069
               ],
               [
                126.88753401663872,
                37.58829545592628
               ],
               [
                126.88935419108029,
                37.58580092310326
               ],
               [
                126.89349057571656,
                37.585662344444785
               ],
               [
                126.89532781702978,
                37.58637054299599
               ],
               [
                126.89905466698256,
                37.58582731337662
               ],
               [
                126.9019347597747,
                37.58707359614439
               ],
               [
                126.9010825805882,
                37.58986595756633
               ],
               [
                126.90396681003595,
                37.59227403419942
               ],
               [
                126.90321089756087,
                37.594542731935476
               ],
               [
                126.90358350094938,
                37.59657528019595
               ],
               [
                126.90235425214276,
                37.60036302950128
               ],
               [
                126.90417801431465,
                37.60102912046836
               ],
               [
                126.90396561274416,
                37.60721180273151
               ],
               [
                126.90303066177668,
                37.609977911401344
               ],
               [
                126.90548675623195,
                37.61601216482774
               ],
               [
                126.90721633741286,
                37.6164590533837
               ],
               [
                126.90935539569412,
                37.61912234588074
               ],
               [
                126.90852982623917,
                37.62123670148755
               ],
               [
                126.91081768678396,
                37.62338674837964
               ],
               [
                126.91117179533428,
                37.62562846875194
               ],
               [
                126.90862530043799,
                37.62973539928895
               ],
               [
                126.91295124779275,
                37.633086577991136
               ],
               [
                126.91232131977827,
                37.635879167956396
               ],
               [
                126.91380622398978,
                37.63822817856539
               ],
               [
                126.91455481429648,
                37.64150050996935
               ],
               [
                126.9097405206299,
                37.643548736416925
               ],
               [
                126.9104285840059,
                37.64469477594629
               ],
               [
                126.91598194662826,
                37.64192000919822
               ],
               [
                126.92335892549015,
                37.642768849393626
               ],
               [
                126.92751618877016,
                37.644656244616336
               ],
               [
                126.93099150738166,
                37.64717805899008
               ],
               [
                126.93658892420821,
                37.64777520545395
               ],
               [
                126.93914008753828,
                37.64914400014214
               ],
               [
                126.94248904852749,
                37.65384179343651
               ],
               [
                126.94571884127255,
                37.655369042036206
               ],
               [
                126.94940373004215,
                37.656145979585894
               ],
               [
                126.94982400027399,
                37.65461320918016
               ],
               [
                126.95334970767568,
                37.65216408903825
               ],
               [
                126.956473797387,
                37.652480737339445
               ],
               [
                126.9588647426878,
                37.6498628918019
               ],
               [
                126.95972824076269,
                37.64638504253487
               ],
               [
                126.96223689995006,
                37.64553441285544
               ],
               [
                126.96424221141602,
                37.64071627640099
               ],
               [
                126.96652025322855,
                37.640285044901944
               ],
               [
                126.97092373342322,
                37.63589354812246
               ],
               [
                126.97086605626453,
                37.633738820281394
               ],
               [
                126.9738864128702,
                37.62949634786888
               ]
              ]
             ],
             "type": "Polygon"
            },
            "properties": {
             "base_year": "2013",
             "code": "11120",
             "name": "은평구",
             "name_eng": "Eunpyeong-gu"
            },
            "type": "Feature"
           },
           {
            "geometry": {
             "coordinates": [
              [
               [
                127.10782277688129,
                37.61804244241069
               ],
               [
                127.10361952102048,
                37.61701182935077
               ],
               [
                127.10191523948123,
                37.61531698025357
               ],
               [
                127.09825969127313,
                37.61431077622918
               ],
               [
                127.09125855705382,
                37.61703046232404
               ],
               [
                127.08796048322492,
                37.617471883010936
               ],
               [
                127.08325130652017,
                37.61626773063051
               ],
               [
                127.07351243825278,
                37.61283660342313
               ],
               [
                127.07011594002495,
                37.6127769191002
               ],
               [
                127.06726783142085,
                37.61136014256744
               ],
               [
                127.06412260483201,
                37.6115839902766
               ],
               [
                127.05631594723272,
                37.61738373018764
               ],
               [
                127.05209373568619,
                37.62164065487782
               ],
               [
                127.04999984182327,
                37.62412061598568
               ],
               [
                127.04358800895609,
                37.62848931298715
               ],
               [
                127.046042857549,
                37.630647660209426
               ],
               [
                127.0471214260595,
                37.63407841321815
               ],
               [
                127.05227148282157,
                37.642016305290156
               ],
               [
                127.05704472959141,
                37.63797342537787
               ],
               [
                127.05800075220091,
                37.64318263878276
               ],
               [
                127.05640030258566,
                37.648142414223344
               ],
               [
                127.05620364700786,
                37.65295201497795
               ],
               [
                127.05366382763933,
                37.65780685245659
               ],
               [
                127.05343284205686,
                37.660866393548005
               ],
               [
                127.05093085431419,
                37.666308257661356
               ],
               [
                127.05124324520023,
                37.6703356616521
               ],
               [
                127.05259811896667,
                37.67463041579101
               ],
               [
                127.05402878877452,
                37.682018621183914
               ],
               [
                127.05288479710485,
                37.68423857084347
               ],
               [
                127.05673771202906,
                37.68650223136443
               ],
               [
                127.05893512852644,
                37.68678532745334
               ],
               [
                127.06366923747898,
                37.68598834805241
               ],
               [
                127.06722106517597,
                37.68706409219909
               ],
               [
                127.07150256171397,
                37.69158365999211
               ],
               [
                127.07502582169255,
                37.691675325399515
               ],
               [
                127.07945174893383,
                37.693602239076704
               ],
               [
                127.0838752703195,
                37.69359534202034
               ],
               [
                127.08640047239444,
                37.69122798275615
               ],
               [
                127.08834747450551,
                37.68753106067129
               ],
               [
                127.09706391309695,
                37.686383719372294
               ],
               [
                127.09839746601683,
                37.682954904948026
               ],
               [
                127.09481040538887,
                37.678799295731295
               ],
               [
                127.0939394572467,
                37.676403111386776
               ],
               [
                127.09572273018789,
                37.673837879820674
               ],
               [
                127.09657954289648,
                37.670746511824845
               ],
               [
                127.09767362583241,
                37.67002252402865
               ],
               [
                127.0980220884148,
                37.66742967749355
               ],
               [
                127.09621282296045,
                37.66347990019021
               ],
               [
                127.09845931549125,
                37.659077182069595
               ],
               [
                127.0978618070161,
                37.656734861475485
               ],
               [
                127.08845241642267,
                37.65271564775536
               ],
               [
                127.09496093471334,
                37.65209266377008
               ],
               [
                127.09618835483448,
                37.65001330395237
               ],
               [
                127.09440766298717,
                37.64713490473045
               ],
               [
                127.09686381732382,
                37.642772590812655
               ],
               [
                127.10024317327698,
                37.642337895238754
               ],
               [
                127.10266382494892,
                37.64291284604662
               ],
               [
                127.11014084969742,
                37.641850613893396
               ],
               [
                127.11406637789241,
                37.63742154695932
               ],
               [
                127.1144974746579,
                37.632439003890255
               ],
               [
                127.11309628774731,
                37.627803407908374
               ],
               [
                127.10737639048635,
                37.62412346388371
               ],
               [
                127.10736111050278,
                37.62243873312504
               ],
               [
                127.10561964188106,
                37.620112931875134
               ],
               [
                127.10782277688129,
                37.61804244241069
               ]
              ]
             ],
             "type": "Polygon"
            },
            "properties": {
             "base_year": "2013",
             "code": "11110",
             "name": "노원구",
             "name_eng": "Nowon-gu"
            },
            "type": "Feature"
           },
           {
            "geometry": {
             "coordinates": [
              [
               [
                127.05288479710485,
                37.68423857084347
               ],
               [
                127.05402878877452,
                37.682018621183914
               ],
               [
                127.05259811896667,
                37.67463041579101
               ],
               [
                127.05124324520023,
                37.6703356616521
               ],
               [
                127.05093085431419,
                37.666308257661356
               ],
               [
                127.05343284205686,
                37.660866393548005
               ],
               [
                127.05366382763933,
                37.65780685245659
               ],
               [
                127.05620364700786,
                37.65295201497795
               ],
               [
                127.05640030258566,
                37.648142414223344
               ],
               [
                127.05800075220091,
                37.64318263878276
               ],
               [
                127.05704472959141,
                37.63797342537787
               ],
               [
                127.05227148282157,
                37.642016305290156
               ],
               [
                127.0471214260595,
                37.63407841321815
               ],
               [
                127.046042857549,
                37.630647660209426
               ],
               [
                127.04358800895609,
                37.62848931298715
               ],
               [
                127.04058571489718,
                37.6311245692538
               ],
               [
                127.03905574421407,
                37.63395360172076
               ],
               [
                127.03660759925259,
                37.63506293914692
               ],
               [
                127.03477664182829,
                37.63884292238491
               ],
               [
                127.02950136469548,
                37.64228467033725
               ],
               [
                127.0265542519312,
                37.644688649276304
               ],
               [
                127.02233660280599,
                37.64628067142158
               ],
               [
                127.01772305897457,
                37.64631597694605
               ],
               [
                127.01534913067235,
                37.64765266597785
               ],
               [
                127.01465935892466,
                37.64943687496812
               ],
               [
                127.01599412132472,
                37.65623256113309
               ],
               [
                127.01726703299362,
                37.65880555518138
               ],
               [
                127.01776269066357,
                37.66391319760785
               ],
               [
                127.02062116141389,
                37.667173575971205
               ],
               [
                127.01873683359163,
                37.66988242479123
               ],
               [
                127.0159718440919,
                37.67258796420281
               ],
               [
                127.01401600772708,
                37.67653037200686
               ],
               [
                127.01073060671976,
                37.67694372299732
               ],
               [
                127.01039666042071,
                37.681894589603594
               ],
               [
                127.01103947380624,
                37.684405447624954
               ],
               [
                127.01017954927539,
                37.686333239654594
               ],
               [
                127.0109997247323,
                37.691942369792514
               ],
               [
                127.01405303313638,
                37.69546278140397
               ],
               [
                127.01645586375106,
                37.69548055092485
               ],
               [
                127.01802453368332,
                37.698275937456124
               ],
               [
                127.02143522814708,
                37.698589417759045
               ],
               [
                127.02419558273166,
                37.69682256792619
               ],
               [
                127.02700292435075,
                37.69665589205863
               ],
               [
                127.03018866626446,
                37.69776745888886
               ],
               [
                127.03132724235057,
                37.69621818994332
               ],
               [
                127.03183574218306,
                37.69340418484943
               ],
               [
                127.03328657751797,
                37.69010729962784
               ],
               [
                127.0345286215439,
                37.688986544260594
               ],
               [
                127.0379422140845,
                37.68943836856245
               ],
               [
                127.04383030416193,
                37.692565730249534
               ],
               [
                127.04510703173885,
                37.690951514278055
               ],
               [
                127.04772506731972,
                37.68962174626068
               ],
               [
                127.05108189294938,
                37.69116379209157
               ],
               [
                127.05288479710485,
                37.68423857084347
               ]
              ]
             ],
             "type": "Polygon"
            },
            "properties": {
             "base_year": "2013",
             "code": "11100",
             "name": "도봉구",
             "name_eng": "Dobong-gu"
            },
            "type": "Feature"
           },
           {
            "geometry": {
             "coordinates": [
              [
               [
                127.01039666042071,
                37.681894589603594
               ],
               [
                127.01073060671976,
                37.67694372299732
               ],
               [
                127.01401600772708,
                37.67653037200686
               ],
               [
                127.0159718440919,
                37.67258796420281
               ],
               [
                127.01873683359163,
                37.66988242479123
               ],
               [
                127.02062116141389,
                37.667173575971205
               ],
               [
                127.01776269066357,
                37.66391319760785
               ],
               [
                127.01726703299362,
                37.65880555518138
               ],
               [
                127.01599412132472,
                37.65623256113309
               ],
               [
                127.01465935892466,
                37.64943687496812
               ],
               [
                127.01534913067235,
                37.64765266597785
               ],
               [
                127.01772305897457,
                37.64631597694605
               ],
               [
                127.02233660280599,
                37.64628067142158
               ],
               [
                127.0265542519312,
                37.644688649276304
               ],
               [
                127.02950136469548,
                37.64228467033725
               ],
               [
                127.03477664182829,
                37.63884292238491
               ],
               [
                127.03660759925259,
                37.63506293914692
               ],
               [
                127.03905574421407,
                37.63395360172076
               ],
               [
                127.04058571489718,
                37.6311245692538
               ],
               [
                127.04358800895609,
                37.62848931298715
               ],
               [
                127.04999984182327,
                37.62412061598568
               ],
               [
                127.05209373568619,
                37.62164065487782
               ],
               [
                127.04887981022048,
                37.61973841113549
               ],
               [
                127.0460676006384,
                37.615885647801704
               ],
               [
                127.0419720518426,
                37.612838591864076
               ],
               [
                127.03892400992301,
                37.609715611023816
               ],
               [
                127.03251659844592,
                37.60634705009134
               ],
               [
                127.03229982090541,
                37.609536104167034
               ],
               [
                127.02851994524015,
                37.60987827182396
               ],
               [
                127.02433990415497,
                37.60847763545628
               ],
               [
                127.02136282940177,
                37.610961475137174
               ],
               [
                127.01685658093551,
                37.61280115359516
               ],
               [
                127.0128154749523,
                37.613652243470256
               ],
               [
                127.01060611893628,
                37.615741236385354
               ],
               [
                127.00960949401902,
                37.61822603840364
               ],
               [
                127.00997935126598,
                37.62111906051553
               ],
               [
                127.00210238658002,
                37.622984514557714
               ],
               [
                126.99867431516041,
                37.626297613391166
               ],
               [
                126.99614706382866,
                37.62719717129899
               ],
               [
                126.99529660787617,
                37.62923863577322
               ],
               [
                126.9933714170822,
                37.62922019292486
               ],
               [
                126.9877052521691,
                37.63265610340949
               ],
               [
                126.98672705513869,
                37.63377641288196
               ],
               [
                126.98826481934299,
                37.637416984207924
               ],
               [
                126.98537069512379,
                37.64080296617396
               ],
               [
                126.987065858581,
                37.64320008084445
               ],
               [
                126.98580395043626,
                37.64699767714015
               ],
               [
                126.9832621473545,
                37.64947328029498
               ],
               [
                126.9817452676551,
                37.65209769387776
               ],
               [
                126.98205504313285,
                37.653797128044495
               ],
               [
                126.98709809733522,
                37.65651691642121
               ],
               [
                126.99031779354014,
                37.661013121145366
               ],
               [
                126.99494735642686,
                37.66223870806347
               ],
               [
                126.99581225370686,
                37.6651171428027
               ],
               [
                126.99622950422442,
                37.669428820661516
               ],
               [
                126.99506026831365,
                37.674827885285765
               ],
               [
                126.99384134064161,
                37.67665247641944
               ],
               [
                126.9959894573757,
                37.67754299691771
               ],
               [
                127.00000021675876,
                37.68100582640454
               ],
               [
                127.00566931208934,
                37.68228507374621
               ],
               [
                127.01039666042071,
                37.681894589603594
               ]
              ]
             ],
             "type": "Polygon"
            },
            "properties": {
             "base_year": "2013",
             "code": "11090",
             "name": "강북구",
             "name_eng": "Gangbuk-gu"
            },
            "type": "Feature"
           },
           {
            "geometry": {
             "coordinates": [
              [
               [
                126.977175406416,
                37.62859715400388
               ],
               [
                126.9794090069433,
                37.63071544568365
               ],
               [
                126.98360012419735,
                37.631915771386076
               ],
               [
                126.98672705513869,
                37.63377641288196
               ],
               [
                126.9877052521691,
                37.63265610340949
               ],
               [
                126.9933714170822,
                37.62922019292486
               ],
               [
                126.99529660787617,
                37.62923863577322
               ],
               [
                126.99614706382866,
                37.62719717129899
               ],
               [
                126.99867431516041,
                37.626297613391166
               ],
               [
                127.00210238658002,
                37.622984514557714
               ],
               [
                127.00997935126598,
                37.62111906051553
               ],
               [
                127.00960949401902,
                37.61822603840364
               ],
               [
                127.01060611893628,
                37.615741236385354
               ],
               [
                127.0128154749523,
                37.613652243470256
               ],
               [
                127.01685658093551,
                37.61280115359516
               ],
               [
                127.02136282940177,
                37.610961475137174
               ],
               [
                127.02433990415497,
                37.60847763545628
               ],
               [
                127.02851994524015,
                37.60987827182396
               ],
               [
                127.03229982090541,
                37.609536104167034
               ],
               [
                127.03251659844592,
                37.60634705009134
               ],
               [
                127.03892400992301,
                37.609715611023816
               ],
               [
                127.0419720518426,
                37.612838591864076
               ],
               [
                127.0460676006384,
                37.615885647801704
               ],
               [
                127.04887981022048,
                37.61973841113549
               ],
               [
                127.05209373568619,
                37.62164065487782
               ],
               [
                127.05631594723272,
                37.61738373018764
               ],
               [
                127.06412260483201,
                37.6115839902766
               ],
               [
                127.06726783142085,
                37.61136014256744
               ],
               [
                127.07011594002495,
                37.6127769191002
               ],
               [
                127.07351243825278,
                37.61283660342313
               ],
               [
                127.07382707099227,
                37.60401928986419
               ],
               [
                127.07257736686556,
                37.60654335765868
               ],
               [
                127.07069716820665,
                37.60653037341939
               ],
               [
                127.07084342033339,
                37.60407877132597
               ],
               [
                127.06753185518703,
                37.602724214598744
               ],
               [
                127.06424828533608,
                37.60234356864383
               ],
               [
                127.0612685122857,
                37.59823077263369
               ],
               [
                127.059485363799,
                37.598743571420485
               ],
               [
                127.05413734593897,
                37.5971595374718
               ],
               [
                127.05238061017225,
                37.598312271275574
               ],
               [
                127.04975439355248,
                37.59349421284317
               ],
               [
                127.0461318196879,
                37.593514180513594
               ],
               [
                127.042705222094,
                37.59239437593391
               ],
               [
                127.04116895171082,
                37.58847599306138
               ],
               [
                127.0384945038446,
                37.587129138658426
               ],
               [
                127.03121630347839,
                37.57957997701485
               ],
               [
                127.02527254528003,
                37.57524616245249
               ],
               [
                127.02395698453867,
                37.576068086896726
               ],
               [
                127.02039107536422,
                37.575771872553595
               ],
               [
                127.01849412471284,
                37.57904760334465
               ],
               [
                127.01678966486051,
                37.57943162455397
               ],
               [
                127.01094467951529,
                37.57765758282494
               ],
               [
                127.00914513999258,
                37.57928387879304
               ],
               [
                127.00896672237498,
                37.582512606964876
               ],
               [
                127.00803641804285,
                37.5841154647404
               ],
               [
                127.00453322588274,
                37.58626325611708
               ],
               [
                127.00304474231643,
                37.58959898679736
               ],
               [
                126.99774058571116,
                37.58944568945197
               ],
               [
                126.99647930158565,
                37.58845217708608
               ],
               [
                126.99348293358314,
                37.588565457216156
               ],
               [
                126.98858114244759,
                37.58971272682123
               ],
               [
                126.98596926877026,
                37.59105697466976
               ],
               [
                126.98411250331745,
                37.59305007059415
               ],
               [
                126.98366752610544,
                37.596350797276386
               ],
               [
                126.98700989661556,
                37.59664611897289
               ],
               [
                126.98984276495587,
                37.59842301677683
               ],
               [
                126.9880021251863,
                37.60434406739665
               ],
               [
                126.98906118629816,
                37.60778324866486
               ],
               [
                126.98879865992384,
                37.6118927319756
               ],
               [
                126.9849070918475,
                37.61390303132951
               ],
               [
                126.98297129719916,
                37.61996223346171
               ],
               [
                126.98130955822086,
                37.621781567952816
               ],
               [
                126.98162508963613,
                37.626412913357804
               ],
               [
                126.97877284074367,
                37.62605559220399
               ],
               [
                126.977175406416,
                37.62859715400388
               ]
              ]
             ],
             "type": "Polygon"
            },
            "properties": {
             "base_year": "2013",
             "code": "11080",
             "name": "성북구",
             "name_eng": "Seongbuk-gu"
            },
            "type": "Feature"
           },
           {
            "geometry": {
             "coordinates": [
              [
               [
                127.07351243825278,
                37.61283660342313
               ],
               [
                127.08325130652017,
                37.61626773063051
               ],
               [
                127.08796048322492,
                37.617471883010936
               ],
               [
                127.09125855705382,
                37.61703046232404
               ],
               [
                127.09825969127313,
                37.61431077622918
               ],
               [
                127.10191523948123,
                37.61531698025357
               ],
               [
                127.10361952102048,
                37.61701182935077
               ],
               [
                127.10782277688129,
                37.61804244241069
               ],
               [
                127.11345331993296,
                37.617863842655304
               ],
               [
                127.11916337651404,
                37.615000227833356
               ],
               [
                127.1187755615964,
                37.61339189160851
               ],
               [
                127.11970006573152,
                37.60891483985411
               ],
               [
                127.11876125411283,
                37.606109446640644
               ],
               [
                127.12043057261968,
                37.60482121408794
               ],
               [
                127.1201246020114,
                37.60178457598188
               ],
               [
                127.11594480655864,
                37.59717030173888
               ],
               [
                127.1161657841268,
                37.5962121213837
               ],
               [
                127.12048134936907,
                37.59221917979044
               ],
               [
                127.11993709114493,
                37.5912110652886
               ],
               [
                127.11547153661459,
                37.590528329194775
               ],
               [
                127.11264015185725,
                37.58640964166709
               ],
               [
                127.11144053497418,
                37.58186897928644
               ],
               [
                127.10355419751173,
                37.58101570870827
               ],
               [
                127.10488038804347,
                37.57896712496416
               ],
               [
                127.10478332632734,
                37.575507303239235
               ],
               [
                127.10316405057817,
                37.57293156986855
               ],
               [
                127.10304174249214,
                37.57076342290955
               ],
               [
                127.1015990771266,
                37.56973288819573
               ],
               [
                127.09327554832984,
                37.566762290300666
               ],
               [
                127.08553261581505,
                37.56856310839328
               ],
               [
                127.08068541280403,
                37.56906425519017
               ],
               [
                127.08029626481297,
                37.57521980955321
               ],
               [
                127.07912345005859,
                37.57855657914261
               ],
               [
                127.07327401376529,
                37.585954498442064
               ],
               [
                127.07152840437725,
                37.593413161750675
               ],
               [
                127.07216156147413,
                37.59537631888819
               ],
               [
                127.07457336676376,
                37.5983180561341
               ],
               [
                127.07481016030349,
                37.60000012932336
               ],
               [
                127.07382707099227,
                37.60401928986419
               ],
               [
                127.07351243825278,
                37.61283660342313
               ]
              ]
             ],
             "type": "Polygon"
            },
            "properties": {
             "base_year": "2013",
             "code": "11070",
             "name": "중랑구",
             "name_eng": "Jungnang-gu"
            },
            "type": "Feature"
           },
           {
            "geometry": {
             "coordinates": [
              [
               [
                127.02527254528003,
                37.57524616245249
               ],
               [
                127.03121630347839,
                37.57957997701485
               ],
               [
                127.0384945038446,
                37.587129138658426
               ],
               [
                127.04116895171082,
                37.58847599306138
               ],
               [
                127.042705222094,
                37.59239437593391
               ],
               [
                127.0461318196879,
                37.593514180513594
               ],
               [
                127.04975439355248,
                37.59349421284317
               ],
               [
                127.05238061017225,
                37.598312271275574
               ],
               [
                127.05413734593897,
                37.5971595374718
               ],
               [
                127.059485363799,
                37.598743571420485
               ],
               [
                127.0612685122857,
                37.59823077263369
               ],
               [
                127.06424828533608,
                37.60234356864383
               ],
               [
                127.06753185518703,
                37.602724214598744
               ],
               [
                127.07084342033339,
                37.60407877132597
               ],
               [
                127.07069716820665,
                37.60653037341939
               ],
               [
                127.07257736686556,
                37.60654335765868
               ],
               [
                127.07382707099227,
                37.60401928986419
               ],
               [
                127.07481016030349,
                37.60000012932336
               ],
               [
                127.07457336676376,
                37.5983180561341
               ],
               [
                127.07216156147413,
                37.59537631888819
               ],
               [
                127.07152840437725,
                37.593413161750675
               ],
               [
                127.07327401376529,
                37.585954498442064
               ],
               [
                127.07912345005859,
                37.57855657914261
               ],
               [
                127.08029626481297,
                37.57521980955321
               ],
               [
                127.08068541280403,
                37.56906425519017
               ],
               [
                127.07421053024362,
                37.55724769712085
               ],
               [
                127.07287485628252,
                37.55777591771644
               ],
               [
                127.06151678590773,
                37.55942885203987
               ],
               [
                127.06031059899311,
                37.55992251180729
               ],
               [
                127.05005601081567,
                37.567577612590846
               ],
               [
                127.0442866611438,
                37.57022476304866
               ],
               [
                127.04003329296518,
                37.57010227772625
               ],
               [
                127.03483042272745,
                37.567549767306716
               ],
               [
                127.03182413083377,
                37.56712900013391
               ],
               [
                127.02547266349976,
                37.568943552237734
               ],
               [
                127.02527254528003,
                37.57524616245249
               ]
              ]
             ],
             "type": "Polygon"
            },
            "properties": {
             "base_year": "2013",
             "code": "11060",
             "name": "동대문구",
             "name_eng": "Dongdaemun-gu"
            },
            "type": "Feature"
           },
           {
            "geometry": {
             "coordinates": [
              [
               [
                127.08068541280403,
                37.56906425519017
               ],
               [
                127.08553261581505,
                37.56856310839328
               ],
               [
                127.09327554832984,
                37.566762290300666
               ],
               [
                127.1015990771266,
                37.56973288819573
               ],
               [
                127.10304174249214,
                37.57076342290955
               ],
               [
                127.10627148043552,
                37.568124945986824
               ],
               [
                127.10545359063936,
                37.56685230388649
               ],
               [
                127.10407152037101,
                37.55958871940823
               ],
               [
                127.10325742736646,
                37.5572251707506
               ],
               [
                127.11270952006532,
                37.55702358575743
               ],
               [
                127.11519584981606,
                37.557533180704915
               ],
               [
                127.11600943681239,
                37.55580061507081
               ],
               [
                127.11600200349189,
                37.55053147511706
               ],
               [
                127.11418412219375,
                37.54474592090681
               ],
               [
                127.1116764203608,
                37.540669955324965
               ],
               [
                127.10484130265957,
                37.53120327509912
               ],
               [
                127.10087519791962,
                37.524841220167055
               ],
               [
                127.0943611414465,
                37.523984206117525
               ],
               [
                127.08639455667742,
                37.52161824624356
               ],
               [
                127.07968915919895,
                37.52077294752823
               ],
               [
                127.07496309841329,
                37.52091052765938
               ],
               [
                127.0690698130372,
                37.522279423505026
               ],
               [
                127.05867359288398,
                37.52629974922568
               ],
               [
                127.06896218881212,
                37.544361436565524
               ],
               [
                127.07580697427795,
                37.556641581290656
               ],
               [
                127.07421053024362,
                37.55724769712085
               ],
               [
                127.08068541280403,
                37.56906425519017
               ]
              ]
             ],
             "type": "Polygon"
            },
            "properties": {
             "base_year": "2013",
             "code": "11050",
             "name": "광진구",
             "name_eng": "Gwangjin-gu"
            },
            "type": "Feature"
           },
           {
            "geometry": {
             "coordinates": [
              [
               [
                127.02547266349976,
                37.568943552237734
               ],
               [
                127.03182413083377,
                37.56712900013391
               ],
               [
                127.03483042272745,
                37.567549767306716
               ],
               [
                127.04003329296518,
                37.57010227772625
               ],
               [
                127.0442866611438,
                37.57022476304866
               ],
               [
                127.05005601081567,
                37.567577612590846
               ],
               [
                127.06031059899311,
                37.55992251180729
               ],
               [
                127.06151678590773,
                37.55942885203987
               ],
               [
                127.07287485628252,
                37.55777591771644
               ],
               [
                127.07421053024362,
                37.55724769712085
               ],
               [
                127.07580697427795,
                37.556641581290656
               ],
               [
                127.06896218881212,
                37.544361436565524
               ],
               [
                127.05867359288398,
                37.52629974922568
               ],
               [
                127.05116490008963,
                37.52975116557232
               ],
               [
                127.04903802830752,
                37.53140496708317
               ],
               [
                127.04806779588436,
                37.52970198575087
               ],
               [
                127.0319617044248,
                37.536064291470424
               ],
               [
                127.0269608080842,
                37.53484752757724
               ],
               [
                127.02302831890559,
                37.53231899582663
               ],
               [
                127.01689265453608,
                37.536101393926174
               ],
               [
                127.01157414590769,
                37.53677688273679
               ],
               [
                127.01043978345277,
                37.53905983303592
               ],
               [
                127.01070894177482,
                37.54118048964762
               ],
               [
                127.01172101406588,
                37.545252245650516
               ],
               [
                127.01376082027429,
                37.54571276061997
               ],
               [
                127.01889368846282,
                37.55057696424215
               ],
               [
                127.01951516360089,
                37.55318470254581
               ],
               [
                127.02174792168286,
                37.55473509405241
               ],
               [
                127.02496143707425,
                37.555070476260596
               ],
               [
                127.0257913546443,
                37.558352834264504
               ],
               [
                127.02836991434461,
                37.56019645010606
               ],
               [
                127.02881029425372,
                37.56219283885279
               ],
               [
                127.02571971403893,
                37.56237200595601
               ],
               [
                127.02547266349976,
                37.568943552237734
               ]
              ]
             ],
             "type": "Polygon"
            },
            "properties": {
             "base_year": "2013",
             "code": "11040",
             "name": "성동구",
             "name_eng": "Seongdong-gu"
            },
            "type": "Feature"
           },
           {
            "geometry": {
             "coordinates": [
              [
               [
                127.01070894177482,
                37.54118048964762
               ],
               [
                127.01043978345277,
                37.53905983303592
               ],
               [
                127.01157414590769,
                37.53677688273679
               ],
               [
                127.01689265453608,
                37.536101393926174
               ],
               [
                127.02302831890559,
                37.53231899582663
               ],
               [
                127.01397119667513,
                37.52503988289669
               ],
               [
                127.01022186960886,
                37.522020085671926
               ],
               [
                127.00818058911564,
                37.51877313923874
               ],
               [
                127.00583392114271,
                37.516905128452926
               ],
               [
                127.00011962020382,
                37.513901653034374
               ],
               [
                126.99148001917875,
                37.50990503427709
               ],
               [
                126.98948242685965,
                37.5108780134613
               ],
               [
                126.98458580602838,
                37.51070333105394
               ],
               [
                126.98223807916081,
                37.509314966770326
               ],
               [
                126.96670111119346,
                37.50997579058433
               ],
               [
                126.95950268374823,
                37.51249532165974
               ],
               [
                126.95551848909955,
                37.514736123015844
               ],
               [
                126.95249990298159,
                37.51722500741813
               ],
               [
                126.95003825019774,
                37.520781022055274
               ],
               [
                126.9488066464266,
                37.52424913252661
               ],
               [
                126.94566733083212,
                37.526617542453366
               ],
               [
                126.94717864071288,
                37.53213495568077
               ],
               [
                126.95340780191557,
                37.533494726370755
               ],
               [
                126.95926437828754,
                37.53897908363236
               ],
               [
                126.9605977865388,
                37.542661954880806
               ],
               [
                126.96231305253527,
                37.543511558047456
               ],
               [
                126.96401856825223,
                37.54584596959762
               ],
               [
                126.96604189284825,
                37.546894141748815
               ],
               [
                126.96448570553055,
                37.548705692021635
               ],
               [
                126.96782902931233,
                37.55132047039716
               ],
               [
                126.97427174983227,
                37.55109017579016
               ],
               [
                126.97859017732588,
                37.550336476582174
               ],
               [
                126.97925452152829,
                37.552184137181925
               ],
               [
                126.98262900956787,
                37.5506055959842
               ],
               [
                126.98584427779701,
                37.55023778139842
               ],
               [
                126.98752996903328,
                37.55094818807139
               ],
               [
                126.9899124474417,
                37.54869376545355
               ],
               [
                126.99238536723166,
                37.54862980831976
               ],
               [
                126.99742220893982,
                37.544438365587226
               ],
               [
                127.00062378484931,
                37.54713274618077
               ],
               [
                127.00478682371764,
                37.54680216333233
               ],
               [
                127.00632779182564,
                37.54757707053058
               ],
               [
                127.00694507580798,
                37.5433832956489
               ],
               [
                127.00936066823724,
                37.54101133407434
               ],
               [
                127.01070894177482,
                37.54118048964762
               ]
              ]
             ],
             "type": "Polygon"
            },
            "properties": {
             "base_year": "2013",
             "code": "11030",
             "name": "용산구",
             "name_eng": "Yongsan-gu"
            },
            "type": "Feature"
           },
           {
            "geometry": {
             "coordinates": [
              [
               [
                127.02547266349976,
                37.568943552237734
               ],
               [
                127.02571971403893,
                37.56237200595601
               ],
               [
                127.02881029425372,
                37.56219283885279
               ],
               [
                127.02836991434461,
                37.56019645010606
               ],
               [
                127.0257913546443,
                37.558352834264504
               ],
               [
                127.02496143707425,
                37.555070476260596
               ],
               [
                127.02174792168286,
                37.55473509405241
               ],
               [
                127.01951516360089,
                37.55318470254581
               ],
               [
                127.01889368846282,
                37.55057696424215
               ],
               [
                127.01376082027429,
                37.54571276061997
               ],
               [
                127.01172101406588,
                37.545252245650516
               ],
               [
                127.01070894177482,
                37.54118048964762
               ],
               [
                127.00936066823724,
                37.54101133407434
               ],
               [
                127.00694507580798,
                37.5433832956489
               ],
               [
                127.00632779182564,
                37.54757707053058
               ],
               [
                127.00478682371764,
                37.54680216333233
               ],
               [
                127.00062378484931,
                37.54713274618077
               ],
               [
                126.99742220893982,
                37.544438365587226
               ],
               [
                126.99238536723166,
                37.54862980831976
               ],
               [
                126.9899124474417,
                37.54869376545355
               ],
               [
                126.98752996903328,
                37.55094818807139
               ],
               [
                126.98584427779701,
                37.55023778139842
               ],
               [
                126.98262900956787,
                37.5506055959842
               ],
               [
                126.97925452152829,
                37.552184137181925
               ],
               [
                126.97859017732588,
                37.550336476582174
               ],
               [
                126.97427174983227,
                37.55109017579016
               ],
               [
                126.96782902931233,
                37.55132047039716
               ],
               [
                126.96448570553055,
                37.548705692021635
               ],
               [
                126.96380145704283,
                37.55254525759954
               ],
               [
                126.96519694864509,
                37.55362533505407
               ],
               [
                126.96358226710812,
                37.55605635475154
               ],
               [
                126.96570855677983,
                37.556512377492325
               ],
               [
                126.96900073076728,
                37.55850929094393
               ],
               [
                126.97169209525231,
                37.55921654641677
               ],
               [
                126.96873633279075,
                37.56313604690827
               ],
               [
                126.97114791678374,
                37.56539818101368
               ],
               [
                126.97500684322326,
                37.566406971064836
               ],
               [
                126.97990305661519,
                37.5664536437083
               ],
               [
                126.9910070921652,
                37.565312022428806
               ],
               [
                126.99879870609924,
                37.56591346564579
               ],
               [
                127.00372480409301,
                37.56679519621814
               ],
               [
                127.01786686709805,
                37.56701276414023
               ],
               [
                127.02250839667563,
                37.56892943928301
               ],
               [
                127.02547266349976,
                37.568943552237734
               ]
              ]
             ],
             "type": "Polygon"
            },
            "properties": {
             "base_year": "2013",
             "code": "11020",
             "name": "중구",
             "name_eng": "Jung-gu"
            },
            "type": "Feature"
           },
           {
            "geometry": {
             "coordinates": [
              [
               [
                126.9738864128702,
                37.62949634786888
               ],
               [
                126.977175406416,
                37.62859715400388
               ],
               [
                126.97877284074367,
                37.62605559220399
               ],
               [
                126.98162508963613,
                37.626412913357804
               ],
               [
                126.98130955822086,
                37.621781567952816
               ],
               [
                126.98297129719916,
                37.61996223346171
               ],
               [
                126.9849070918475,
                37.61390303132951
               ],
               [
                126.98879865992384,
                37.6118927319756
               ],
               [
                126.98906118629816,
                37.60778324866486
               ],
               [
                126.9880021251863,
                37.60434406739665
               ],
               [
                126.98984276495587,
                37.59842301677683
               ],
               [
                126.98700989661556,
                37.59664611897289
               ],
               [
                126.98366752610544,
                37.596350797276386
               ],
               [
                126.98411250331745,
                37.59305007059415
               ],
               [
                126.98596926877026,
                37.59105697466976
               ],
               [
                126.98858114244759,
                37.58971272682123
               ],
               [
                126.99348293358314,
                37.588565457216156
               ],
               [
                126.99647930158565,
                37.58845217708608
               ],
               [
                126.99774058571116,
                37.58944568945197
               ],
               [
                127.00304474231643,
                37.58959898679736
               ],
               [
                127.00453322588274,
                37.58626325611708
               ],
               [
                127.00803641804285,
                37.5841154647404
               ],
               [
                127.00896672237498,
                37.582512606964876
               ],
               [
                127.00914513999258,
                37.57928387879304
               ],
               [
                127.01094467951529,
                37.57765758282494
               ],
               [
                127.01678966486051,
                37.57943162455397
               ],
               [
                127.01849412471284,
                37.57904760334465
               ],
               [
                127.02039107536422,
                37.575771872553595
               ],
               [
                127.02395698453867,
                37.576068086896726
               ],
               [
                127.02527254528003,
                37.57524616245249
               ],
               [
                127.02547266349976,
                37.568943552237734
               ],
               [
                127.02250839667563,
                37.56892943928301
               ],
               [
                127.01786686709805,
                37.56701276414023
               ],
               [
                127.00372480409301,
                37.56679519621814
               ],
               [
                126.99879870609924,
                37.56591346564579
               ],
               [
                126.9910070921652,
                37.565312022428806
               ],
               [
                126.97990305661519,
                37.5664536437083
               ],
               [
                126.97500684322326,
                37.566406971064836
               ],
               [
                126.97114791678374,
                37.56539818101368
               ],
               [
                126.96873633279075,
                37.56313604690827
               ],
               [
                126.95565425846463,
                37.576080790881456
               ],
               [
                126.95789326971087,
                37.57793453336025
               ],
               [
                126.96177754536156,
                37.57970124256911
               ],
               [
                126.95879970726017,
                37.58189826471162
               ],
               [
                126.96048802632431,
                37.587202077053746
               ],
               [
                126.960424902266,
                37.58868913291801
               ],
               [
                126.95842779914786,
                37.592356673207824
               ],
               [
                126.95924434840931,
                37.59545024466215
               ],
               [
                126.95619178283661,
                37.59575826218021
               ],
               [
                126.95484771718951,
                37.59761368186209
               ],
               [
                126.95564117002459,
                37.601827148276776
               ],
               [
                126.95480868778256,
                37.60381765067903
               ],
               [
                126.9524752030572,
                37.60508692737045
               ],
               [
                126.95187994741721,
                37.60600915874973
               ],
               [
                126.95308190738618,
                37.60926681659027
               ],
               [
                126.95249458941419,
                37.61333750249896
               ],
               [
                126.95145384404022,
                37.61493028446385
               ],
               [
                126.9528332649861,
                37.6161065117682
               ],
               [
                126.95393421039743,
                37.61877981567335
               ],
               [
                126.95427017006129,
                37.622033431339425
               ],
               [
                126.95885198650147,
                37.6225761621008
               ],
               [
                126.96164158910712,
                37.62569322976388
               ],
               [
                126.97135221665513,
                37.62743418897386
               ],
               [
                126.9738864128702,
                37.62949634786888
               ]
              ]
             ],
             "type": "Polygon"
            },
            "properties": {
             "base_year": "2013",
             "code": "11010",
             "name": "종로구",
             "name_eng": "Jongno-gu"
            },
            "type": "Feature"
           }
          ],
          "type": "FeatureCollection"
         },
         "hovertemplate": "EMD_KOR_NM=%{location}<br>주정차 단속건수=%{z}<extra></extra>",
         "locations": [
          "낙성대동",
          "난곡동",
          "난향동",
          "남현동",
          "대학동",
          "미성동",
          "보라매동",
          "봉천동",
          "사당동",
          "삼성동",
          "서림동",
          "서원동",
          "성현동",
          "신대방동",
          "신림동",
          "신사동",
          "신원동",
          "은천동",
          "인헌동",
          "조원동",
          "중앙동",
          "청룡동",
          "청림동",
          "행운동",
          "개포동",
          "논현동",
          "대치동",
          "도곡동",
          "삼성동",
          "세곡동",
          "수서동",
          "신사동",
          "압구정동",
          "역삼동",
          "일원동 ",
          "자곡동",
          "청담동 ",
          "강일동 ",
          "고덕동 ",
          "길 동 ",
          "둔촌동 ",
          "명일동 ",
          "상일동 ",
          "성내동 ",
          "암사동 ",
          "천호동 ",
          "가양동",
          "공항동",
          "등촌동",
          "발산1동",
          "방화동",
          "염창동",
          "우장산동",
          "화곡동",
          "가리봉동",
          "개봉동",
          "고척동",
          "구로동",
          "신도림동",
          "오류동",
          "항동",
          "수궁동",
          "서초동",
          "잠원동",
          "반포동",
          "방배동",
          "양재동",
          "우면동",
          "원지동",
          "내곡동",
          "염곡동",
          "신원동",
          "목동",
          "신월동",
          "신정동",
          "당산동",
          "대림동",
          "도림동",
          "문래동",
          "신길동",
          "양평동",
          "양화동",
          "여의도동",
          "영등포동",
          "가락동",
          "거여동",
          "마천동",
          "문정동",
          "방이동",
          "삼전동",
          "석촌동",
          "송파동",
          "신천동",
          "오금동",
          "오금동",
          "오륜동",
          "위례동",
          "잠실동",
          "장지동",
          "풍납동",
          "전체"
         ],
         "name": "",
         "type": "choropleth",
         "z": [
          1699,
          2533,
          388,
          3708,
          2940,
          3417,
          1800,
          20474,
          2,
          732,
          959,
          2601,
          658,
          7,
          28053,
          2522,
          2191,
          1909,
          3966,
          4966,
          1081,
          2394,
          444,
          2095,
          4581,
          27407,
          24356,
          3986,
          15740,
          2598,
          5003,
          15494,
          5730,
          35506,
          5809,
          1071,
          19564,
          2790,
          4039,
          12096,
          3437,
          5327,
          7785,
          9149,
          9526,
          16971,
          32005,
          41748,
          11053,
          20476,
          16696,
          7495,
          3073,
          40150,
          1931,
          8743,
          8987,
          39520,
          4636,
          2883,
          1221,
          1637,
          64535,
          10385,
          18740,
          26012,
          22664,
          2964,
          689,
          2504,
          586,
          4218,
          30576,
          22317,
          36422,
          14245,
          21996,
          2977,
          12416,
          21523,
          14860,
          223,
          25757,
          17735,
          19165,
          4283,
          5557,
          15827,
          12567,
          4630,
          6774,
          6571,
          6161,
          4936,
          4936,
          157,
          609,
          20197,
          2626,
          6840,
          56257
         ]
        }
       ],
       "layout": {
        "coloraxis": {
         "colorbar": {
          "title": {
           "text": "주정차 단속건수"
          }
         },
         "colorscale": [
          [
           0,
           "rgb(247,251,255)"
          ],
          [
           0.125,
           "rgb(222,235,247)"
          ],
          [
           0.25,
           "rgb(198,219,239)"
          ],
          [
           0.375,
           "rgb(158,202,225)"
          ],
          [
           0.5,
           "rgb(107,174,214)"
          ],
          [
           0.625,
           "rgb(66,146,198)"
          ],
          [
           0.75,
           "rgb(33,113,181)"
          ],
          [
           0.875,
           "rgb(8,81,156)"
          ],
          [
           1,
           "rgb(8,48,107)"
          ]
         ]
        },
        "geo": {
         "center": {},
         "domain": {
          "x": [
           0,
           1
          ],
          "y": [
           0,
           1
          ]
         },
         "fitbounds": "locations",
         "visible": false
        },
        "legend": {
         "tracegroupgap": 0
        },
        "margin": {
         "t": 60
        },
        "template": {
         "data": {
          "bar": [
           {
            "error_x": {
             "color": "#2a3f5f"
            },
            "error_y": {
             "color": "#2a3f5f"
            },
            "marker": {
             "line": {
              "color": "#E5ECF6",
              "width": 0.5
             },
             "pattern": {
              "fillmode": "overlay",
              "size": 10,
              "solidity": 0.2
             }
            },
            "type": "bar"
           }
          ],
          "barpolar": [
           {
            "marker": {
             "line": {
              "color": "#E5ECF6",
              "width": 0.5
             },
             "pattern": {
              "fillmode": "overlay",
              "size": 10,
              "solidity": 0.2
             }
            },
            "type": "barpolar"
           }
          ],
          "carpet": [
           {
            "aaxis": {
             "endlinecolor": "#2a3f5f",
             "gridcolor": "white",
             "linecolor": "white",
             "minorgridcolor": "white",
             "startlinecolor": "#2a3f5f"
            },
            "baxis": {
             "endlinecolor": "#2a3f5f",
             "gridcolor": "white",
             "linecolor": "white",
             "minorgridcolor": "white",
             "startlinecolor": "#2a3f5f"
            },
            "type": "carpet"
           }
          ],
          "choropleth": [
           {
            "colorbar": {
             "outlinewidth": 0,
             "ticks": ""
            },
            "type": "choropleth"
           }
          ],
          "contour": [
           {
            "colorbar": {
             "outlinewidth": 0,
             "ticks": ""
            },
            "colorscale": [
             [
              0,
              "#0d0887"
             ],
             [
              0.1111111111111111,
              "#46039f"
             ],
             [
              0.2222222222222222,
              "#7201a8"
             ],
             [
              0.3333333333333333,
              "#9c179e"
             ],
             [
              0.4444444444444444,
              "#bd3786"
             ],
             [
              0.5555555555555556,
              "#d8576b"
             ],
             [
              0.6666666666666666,
              "#ed7953"
             ],
             [
              0.7777777777777778,
              "#fb9f3a"
             ],
             [
              0.8888888888888888,
              "#fdca26"
             ],
             [
              1,
              "#f0f921"
             ]
            ],
            "type": "contour"
           }
          ],
          "contourcarpet": [
           {
            "colorbar": {
             "outlinewidth": 0,
             "ticks": ""
            },
            "type": "contourcarpet"
           }
          ],
          "heatmap": [
           {
            "colorbar": {
             "outlinewidth": 0,
             "ticks": ""
            },
            "colorscale": [
             [
              0,
              "#0d0887"
             ],
             [
              0.1111111111111111,
              "#46039f"
             ],
             [
              0.2222222222222222,
              "#7201a8"
             ],
             [
              0.3333333333333333,
              "#9c179e"
             ],
             [
              0.4444444444444444,
              "#bd3786"
             ],
             [
              0.5555555555555556,
              "#d8576b"
             ],
             [
              0.6666666666666666,
              "#ed7953"
             ],
             [
              0.7777777777777778,
              "#fb9f3a"
             ],
             [
              0.8888888888888888,
              "#fdca26"
             ],
             [
              1,
              "#f0f921"
             ]
            ],
            "type": "heatmap"
           }
          ],
          "heatmapgl": [
           {
            "colorbar": {
             "outlinewidth": 0,
             "ticks": ""
            },
            "colorscale": [
             [
              0,
              "#0d0887"
             ],
             [
              0.1111111111111111,
              "#46039f"
             ],
             [
              0.2222222222222222,
              "#7201a8"
             ],
             [
              0.3333333333333333,
              "#9c179e"
             ],
             [
              0.4444444444444444,
              "#bd3786"
             ],
             [
              0.5555555555555556,
              "#d8576b"
             ],
             [
              0.6666666666666666,
              "#ed7953"
             ],
             [
              0.7777777777777778,
              "#fb9f3a"
             ],
             [
              0.8888888888888888,
              "#fdca26"
             ],
             [
              1,
              "#f0f921"
             ]
            ],
            "type": "heatmapgl"
           }
          ],
          "histogram": [
           {
            "marker": {
             "pattern": {
              "fillmode": "overlay",
              "size": 10,
              "solidity": 0.2
             }
            },
            "type": "histogram"
           }
          ],
          "histogram2d": [
           {
            "colorbar": {
             "outlinewidth": 0,
             "ticks": ""
            },
            "colorscale": [
             [
              0,
              "#0d0887"
             ],
             [
              0.1111111111111111,
              "#46039f"
             ],
             [
              0.2222222222222222,
              "#7201a8"
             ],
             [
              0.3333333333333333,
              "#9c179e"
             ],
             [
              0.4444444444444444,
              "#bd3786"
             ],
             [
              0.5555555555555556,
              "#d8576b"
             ],
             [
              0.6666666666666666,
              "#ed7953"
             ],
             [
              0.7777777777777778,
              "#fb9f3a"
             ],
             [
              0.8888888888888888,
              "#fdca26"
             ],
             [
              1,
              "#f0f921"
             ]
            ],
            "type": "histogram2d"
           }
          ],
          "histogram2dcontour": [
           {
            "colorbar": {
             "outlinewidth": 0,
             "ticks": ""
            },
            "colorscale": [
             [
              0,
              "#0d0887"
             ],
             [
              0.1111111111111111,
              "#46039f"
             ],
             [
              0.2222222222222222,
              "#7201a8"
             ],
             [
              0.3333333333333333,
              "#9c179e"
             ],
             [
              0.4444444444444444,
              "#bd3786"
             ],
             [
              0.5555555555555556,
              "#d8576b"
             ],
             [
              0.6666666666666666,
              "#ed7953"
             ],
             [
              0.7777777777777778,
              "#fb9f3a"
             ],
             [
              0.8888888888888888,
              "#fdca26"
             ],
             [
              1,
              "#f0f921"
             ]
            ],
            "type": "histogram2dcontour"
           }
          ],
          "mesh3d": [
           {
            "colorbar": {
             "outlinewidth": 0,
             "ticks": ""
            },
            "type": "mesh3d"
           }
          ],
          "parcoords": [
           {
            "line": {
             "colorbar": {
              "outlinewidth": 0,
              "ticks": ""
             }
            },
            "type": "parcoords"
           }
          ],
          "pie": [
           {
            "automargin": true,
            "type": "pie"
           }
          ],
          "scatter": [
           {
            "marker": {
             "colorbar": {
              "outlinewidth": 0,
              "ticks": ""
             }
            },
            "type": "scatter"
           }
          ],
          "scatter3d": [
           {
            "line": {
             "colorbar": {
              "outlinewidth": 0,
              "ticks": ""
             }
            },
            "marker": {
             "colorbar": {
              "outlinewidth": 0,
              "ticks": ""
             }
            },
            "type": "scatter3d"
           }
          ],
          "scattercarpet": [
           {
            "marker": {
             "colorbar": {
              "outlinewidth": 0,
              "ticks": ""
             }
            },
            "type": "scattercarpet"
           }
          ],
          "scattergeo": [
           {
            "marker": {
             "colorbar": {
              "outlinewidth": 0,
              "ticks": ""
             }
            },
            "type": "scattergeo"
           }
          ],
          "scattergl": [
           {
            "marker": {
             "colorbar": {
              "outlinewidth": 0,
              "ticks": ""
             }
            },
            "type": "scattergl"
           }
          ],
          "scattermapbox": [
           {
            "marker": {
             "colorbar": {
              "outlinewidth": 0,
              "ticks": ""
             }
            },
            "type": "scattermapbox"
           }
          ],
          "scatterpolar": [
           {
            "marker": {
             "colorbar": {
              "outlinewidth": 0,
              "ticks": ""
             }
            },
            "type": "scatterpolar"
           }
          ],
          "scatterpolargl": [
           {
            "marker": {
             "colorbar": {
              "outlinewidth": 0,
              "ticks": ""
             }
            },
            "type": "scatterpolargl"
           }
          ],
          "scatterternary": [
           {
            "marker": {
             "colorbar": {
              "outlinewidth": 0,
              "ticks": ""
             }
            },
            "type": "scatterternary"
           }
          ],
          "surface": [
           {
            "colorbar": {
             "outlinewidth": 0,
             "ticks": ""
            },
            "colorscale": [
             [
              0,
              "#0d0887"
             ],
             [
              0.1111111111111111,
              "#46039f"
             ],
             [
              0.2222222222222222,
              "#7201a8"
             ],
             [
              0.3333333333333333,
              "#9c179e"
             ],
             [
              0.4444444444444444,
              "#bd3786"
             ],
             [
              0.5555555555555556,
              "#d8576b"
             ],
             [
              0.6666666666666666,
              "#ed7953"
             ],
             [
              0.7777777777777778,
              "#fb9f3a"
             ],
             [
              0.8888888888888888,
              "#fdca26"
             ],
             [
              1,
              "#f0f921"
             ]
            ],
            "type": "surface"
           }
          ],
          "table": [
           {
            "cells": {
             "fill": {
              "color": "#EBF0F8"
             },
             "line": {
              "color": "white"
             }
            },
            "header": {
             "fill": {
              "color": "#C8D4E3"
             },
             "line": {
              "color": "white"
             }
            },
            "type": "table"
           }
          ]
         },
         "layout": {
          "annotationdefaults": {
           "arrowcolor": "#2a3f5f",
           "arrowhead": 0,
           "arrowwidth": 1
          },
          "autotypenumbers": "strict",
          "coloraxis": {
           "colorbar": {
            "outlinewidth": 0,
            "ticks": ""
           }
          },
          "colorscale": {
           "diverging": [
            [
             0,
             "#8e0152"
            ],
            [
             0.1,
             "#c51b7d"
            ],
            [
             0.2,
             "#de77ae"
            ],
            [
             0.3,
             "#f1b6da"
            ],
            [
             0.4,
             "#fde0ef"
            ],
            [
             0.5,
             "#f7f7f7"
            ],
            [
             0.6,
             "#e6f5d0"
            ],
            [
             0.7,
             "#b8e186"
            ],
            [
             0.8,
             "#7fbc41"
            ],
            [
             0.9,
             "#4d9221"
            ],
            [
             1,
             "#276419"
            ]
           ],
           "sequential": [
            [
             0,
             "#0d0887"
            ],
            [
             0.1111111111111111,
             "#46039f"
            ],
            [
             0.2222222222222222,
             "#7201a8"
            ],
            [
             0.3333333333333333,
             "#9c179e"
            ],
            [
             0.4444444444444444,
             "#bd3786"
            ],
            [
             0.5555555555555556,
             "#d8576b"
            ],
            [
             0.6666666666666666,
             "#ed7953"
            ],
            [
             0.7777777777777778,
             "#fb9f3a"
            ],
            [
             0.8888888888888888,
             "#fdca26"
            ],
            [
             1,
             "#f0f921"
            ]
           ],
           "sequentialminus": [
            [
             0,
             "#0d0887"
            ],
            [
             0.1111111111111111,
             "#46039f"
            ],
            [
             0.2222222222222222,
             "#7201a8"
            ],
            [
             0.3333333333333333,
             "#9c179e"
            ],
            [
             0.4444444444444444,
             "#bd3786"
            ],
            [
             0.5555555555555556,
             "#d8576b"
            ],
            [
             0.6666666666666666,
             "#ed7953"
            ],
            [
             0.7777777777777778,
             "#fb9f3a"
            ],
            [
             0.8888888888888888,
             "#fdca26"
            ],
            [
             1,
             "#f0f921"
            ]
           ]
          },
          "colorway": [
           "#636efa",
           "#EF553B",
           "#00cc96",
           "#ab63fa",
           "#FFA15A",
           "#19d3f3",
           "#FF6692",
           "#B6E880",
           "#FF97FF",
           "#FECB52"
          ],
          "font": {
           "color": "#2a3f5f"
          },
          "geo": {
           "bgcolor": "white",
           "lakecolor": "white",
           "landcolor": "#E5ECF6",
           "showlakes": true,
           "showland": true,
           "subunitcolor": "white"
          },
          "hoverlabel": {
           "align": "left"
          },
          "hovermode": "closest",
          "mapbox": {
           "style": "light"
          },
          "paper_bgcolor": "white",
          "plot_bgcolor": "#E5ECF6",
          "polar": {
           "angularaxis": {
            "gridcolor": "white",
            "linecolor": "white",
            "ticks": ""
           },
           "bgcolor": "#E5ECF6",
           "radialaxis": {
            "gridcolor": "white",
            "linecolor": "white",
            "ticks": ""
           }
          },
          "scene": {
           "xaxis": {
            "backgroundcolor": "#E5ECF6",
            "gridcolor": "white",
            "gridwidth": 2,
            "linecolor": "white",
            "showbackground": true,
            "ticks": "",
            "zerolinecolor": "white"
           },
           "yaxis": {
            "backgroundcolor": "#E5ECF6",
            "gridcolor": "white",
            "gridwidth": 2,
            "linecolor": "white",
            "showbackground": true,
            "ticks": "",
            "zerolinecolor": "white"
           },
           "zaxis": {
            "backgroundcolor": "#E5ECF6",
            "gridcolor": "white",
            "gridwidth": 2,
            "linecolor": "white",
            "showbackground": true,
            "ticks": "",
            "zerolinecolor": "white"
           }
          },
          "shapedefaults": {
           "line": {
            "color": "#2a3f5f"
           }
          },
          "ternary": {
           "aaxis": {
            "gridcolor": "white",
            "linecolor": "white",
            "ticks": ""
           },
           "baxis": {
            "gridcolor": "white",
            "linecolor": "white",
            "ticks": ""
           },
           "bgcolor": "#E5ECF6",
           "caxis": {
            "gridcolor": "white",
            "linecolor": "white",
            "ticks": ""
           }
          },
          "title": {
           "x": 0.05
          },
          "xaxis": {
           "automargin": true,
           "gridcolor": "white",
           "linecolor": "white",
           "ticks": "",
           "title": {
            "standoff": 15
           },
           "zerolinecolor": "white",
           "zerolinewidth": 2
          },
          "yaxis": {
           "automargin": true,
           "gridcolor": "white",
           "linecolor": "white",
           "ticks": "",
           "title": {
            "standoff": 15
           },
           "zerolinecolor": "white",
           "zerolinewidth": 2
          }
         }
        },
        "title": {
         "font": {
          "size": 20
         },
         "text": "개수"
        }
       }
      }
     },
     "metadata": {},
     "output_type": "display_data"
    }
   ],
   "source": [
    "\n",
    "# Choropleth 시각화\n",
    "#fig = px.choropleth(df, geojson=geo_json, locations='EMD_KOR_NM', color='주정차 단속건수',\n",
    "#                                color_continuous_scale='Blues',\n",
    "#                                featureidkey='properties.EMD_KOR_NM')\n",
    "#fig.update_geos(fitbounds=\"locations\", visible=False)\n",
    "#fig.update_layout(title_text='개수', title_font_size=20)\n"
   ]
  },
  {
   "cell_type": "code",
   "execution_count": 24,
   "metadata": {},
   "outputs": [
    {
     "data": {
      "text/plain": [
       "연도              int64\n",
       "구              object\n",
       "EMD_KOR_NM     object\n",
       "주정차 단속건수        int64\n",
       "위도            float64\n",
       "경도            float64\n",
       "dtype: object"
      ]
     },
     "execution_count": 24,
     "metadata": {},
     "output_type": "execute_result"
    }
   ],
   "source": [
    "df.dtypes"
   ]
  },
  {
   "cell_type": "code",
   "execution_count": 25,
   "metadata": {},
   "outputs": [],
   "source": [
    "# 구별 주정차 단속건수\n",
    "a = df.groupby('구',as_index=False).sum()"
   ]
  },
  {
   "cell_type": "code",
   "execution_count": 26,
   "metadata": {},
   "outputs": [
    {
     "data": {
      "text/html": [
       "<div style=\"width:100%;\"><div style=\"position:relative;width:100%;height:0;padding-bottom:60%;\"><span style=\"color:#565656\">Make this Notebook Trusted to load map: File -> Trust Notebook</span><iframe src=\"about:blank\" style=\"position:absolute;width:100%;height:100%;left:0;top:0;border:none !important;\" data-html=%3C%21DOCTYPE%20html%3E%0A%3Chead%3E%20%20%20%20%0A%20%20%20%20%3Cmeta%20http-equiv%3D%22content-type%22%20content%3D%22text/html%3B%20charset%3DUTF-8%22%20/%3E%0A%20%20%20%20%0A%20%20%20%20%20%20%20%20%3Cscript%3E%0A%20%20%20%20%20%20%20%20%20%20%20%20L_NO_TOUCH%20%3D%20false%3B%0A%20%20%20%20%20%20%20%20%20%20%20%20L_DISABLE_3D%20%3D%20false%3B%0A%20%20%20%20%20%20%20%20%3C/script%3E%0A%20%20%20%20%0A%20%20%20%20%3Cstyle%3Ehtml%2C%20body%20%7Bwidth%3A%20100%25%3Bheight%3A%20100%25%3Bmargin%3A%200%3Bpadding%3A%200%3B%7D%3C/style%3E%0A%20%20%20%20%3Cstyle%3E%23map%20%7Bposition%3Aabsolute%3Btop%3A0%3Bbottom%3A0%3Bright%3A0%3Bleft%3A0%3B%7D%3C/style%3E%0A%20%20%20%20%3Cscript%20src%3D%22https%3A//cdn.jsdelivr.net/npm/leaflet%401.6.0/dist/leaflet.js%22%3E%3C/script%3E%0A%20%20%20%20%3Cscript%20src%3D%22https%3A//code.jquery.com/jquery-1.12.4.min.js%22%3E%3C/script%3E%0A%20%20%20%20%3Cscript%20src%3D%22https%3A//maxcdn.bootstrapcdn.com/bootstrap/3.2.0/js/bootstrap.min.js%22%3E%3C/script%3E%0A%20%20%20%20%3Cscript%20src%3D%22https%3A//cdnjs.cloudflare.com/ajax/libs/Leaflet.awesome-markers/2.0.2/leaflet.awesome-markers.js%22%3E%3C/script%3E%0A%20%20%20%20%3Clink%20rel%3D%22stylesheet%22%20href%3D%22https%3A//cdn.jsdelivr.net/npm/leaflet%401.6.0/dist/leaflet.css%22/%3E%0A%20%20%20%20%3Clink%20rel%3D%22stylesheet%22%20href%3D%22https%3A//maxcdn.bootstrapcdn.com/bootstrap/3.2.0/css/bootstrap.min.css%22/%3E%0A%20%20%20%20%3Clink%20rel%3D%22stylesheet%22%20href%3D%22https%3A//maxcdn.bootstrapcdn.com/bootstrap/3.2.0/css/bootstrap-theme.min.css%22/%3E%0A%20%20%20%20%3Clink%20rel%3D%22stylesheet%22%20href%3D%22https%3A//maxcdn.bootstrapcdn.com/font-awesome/4.6.3/css/font-awesome.min.css%22/%3E%0A%20%20%20%20%3Clink%20rel%3D%22stylesheet%22%20href%3D%22https%3A//cdnjs.cloudflare.com/ajax/libs/Leaflet.awesome-markers/2.0.2/leaflet.awesome-markers.css%22/%3E%0A%20%20%20%20%3Clink%20rel%3D%22stylesheet%22%20href%3D%22https%3A//cdn.jsdelivr.net/gh/python-visualization/folium/folium/templates/leaflet.awesome.rotate.min.css%22/%3E%0A%20%20%20%20%0A%20%20%20%20%20%20%20%20%20%20%20%20%3Cmeta%20name%3D%22viewport%22%20content%3D%22width%3Ddevice-width%2C%0A%20%20%20%20%20%20%20%20%20%20%20%20%20%20%20%20initial-scale%3D1.0%2C%20maximum-scale%3D1.0%2C%20user-scalable%3Dno%22%20/%3E%0A%20%20%20%20%20%20%20%20%20%20%20%20%3Cstyle%3E%0A%20%20%20%20%20%20%20%20%20%20%20%20%20%20%20%20%23map_cec155c712fb482a9628ddf01fe33eb5%20%7B%0A%20%20%20%20%20%20%20%20%20%20%20%20%20%20%20%20%20%20%20%20position%3A%20relative%3B%0A%20%20%20%20%20%20%20%20%20%20%20%20%20%20%20%20%20%20%20%20width%3A%20100.0%25%3B%0A%20%20%20%20%20%20%20%20%20%20%20%20%20%20%20%20%20%20%20%20height%3A%20100.0%25%3B%0A%20%20%20%20%20%20%20%20%20%20%20%20%20%20%20%20%20%20%20%20left%3A%200.0%25%3B%0A%20%20%20%20%20%20%20%20%20%20%20%20%20%20%20%20%20%20%20%20top%3A%200.0%25%3B%0A%20%20%20%20%20%20%20%20%20%20%20%20%20%20%20%20%7D%0A%20%20%20%20%20%20%20%20%20%20%20%20%3C/style%3E%0A%20%20%20%20%20%20%20%20%0A%20%20%20%20%3Cscript%20src%3D%22https%3A//cdnjs.cloudflare.com/ajax/libs/d3/3.5.5/d3.min.js%22%3E%3C/script%3E%0A%3C/head%3E%0A%3Cbody%3E%20%20%20%20%0A%20%20%20%20%0A%20%20%20%20%20%20%20%20%20%20%20%20%3Cdiv%20class%3D%22folium-map%22%20id%3D%22map_cec155c712fb482a9628ddf01fe33eb5%22%20%3E%3C/div%3E%0A%20%20%20%20%20%20%20%20%0A%3C/body%3E%0A%3Cscript%3E%20%20%20%20%0A%20%20%20%20%0A%20%20%20%20%20%20%20%20%20%20%20%20var%20map_cec155c712fb482a9628ddf01fe33eb5%20%3D%20L.map%28%0A%20%20%20%20%20%20%20%20%20%20%20%20%20%20%20%20%22map_cec155c712fb482a9628ddf01fe33eb5%22%2C%0A%20%20%20%20%20%20%20%20%20%20%20%20%20%20%20%20%7B%0A%20%20%20%20%20%20%20%20%20%20%20%20%20%20%20%20%20%20%20%20center%3A%20%5B37.476281%2C%20126.958369%5D%2C%0A%20%20%20%20%20%20%20%20%20%20%20%20%20%20%20%20%20%20%20%20crs%3A%20L.CRS.EPSG3857%2C%0A%20%20%20%20%20%20%20%20%20%20%20%20%20%20%20%20%20%20%20%20zoom%3A%2010%2C%0A%20%20%20%20%20%20%20%20%20%20%20%20%20%20%20%20%20%20%20%20zoomControl%3A%20true%2C%0A%20%20%20%20%20%20%20%20%20%20%20%20%20%20%20%20%20%20%20%20preferCanvas%3A%20false%2C%0A%20%20%20%20%20%20%20%20%20%20%20%20%20%20%20%20%7D%0A%20%20%20%20%20%20%20%20%20%20%20%20%29%3B%0A%0A%20%20%20%20%20%20%20%20%20%20%20%20%0A%0A%20%20%20%20%20%20%20%20%0A%20%20%20%20%0A%20%20%20%20%20%20%20%20%20%20%20%20var%20tile_layer_9673d3e34e5f421e911e89dcd0f7e95f%20%3D%20L.tileLayer%28%0A%20%20%20%20%20%20%20%20%20%20%20%20%20%20%20%20%22https%3A//%7Bs%7D.tile.openstreetmap.org/%7Bz%7D/%7Bx%7D/%7By%7D.png%22%2C%0A%20%20%20%20%20%20%20%20%20%20%20%20%20%20%20%20%7B%22attribution%22%3A%20%22Data%20by%20%5Cu0026copy%3B%20%5Cu003ca%20href%3D%5C%22http%3A//openstreetmap.org%5C%22%5Cu003eOpenStreetMap%5Cu003c/a%5Cu003e%2C%20under%20%5Cu003ca%20href%3D%5C%22http%3A//www.openstreetmap.org/copyright%5C%22%5Cu003eODbL%5Cu003c/a%5Cu003e.%22%2C%20%22detectRetina%22%3A%20false%2C%20%22maxNativeZoom%22%3A%2018%2C%20%22maxZoom%22%3A%2018%2C%20%22minZoom%22%3A%200%2C%20%22noWrap%22%3A%20false%2C%20%22opacity%22%3A%201%2C%20%22subdomains%22%3A%20%22abc%22%2C%20%22tms%22%3A%20false%7D%0A%20%20%20%20%20%20%20%20%20%20%20%20%29.addTo%28map_cec155c712fb482a9628ddf01fe33eb5%29%3B%0A%20%20%20%20%20%20%20%20%0A%20%20%20%20%0A%20%20%20%20%20%20%20%20%20%20%20%20var%20choropleth_a7cf615ec84f418a94944bcbf5ae1a42%20%3D%20L.featureGroup%28%0A%20%20%20%20%20%20%20%20%20%20%20%20%20%20%20%20%7B%7D%0A%20%20%20%20%20%20%20%20%20%20%20%20%29.addTo%28map_cec155c712fb482a9628ddf01fe33eb5%29%3B%0A%20%20%20%20%20%20%20%20%0A%20%20%20%20%0A%20%20%20%20%20%20%20%20function%20geo_json_c275c5ffe4c340dcaac33a0b792a38fe_styler%28feature%29%20%7B%0A%20%20%20%20%20%20%20%20%20%20%20%20switch%28feature.properties.code%29%20%7B%0A%20%20%20%20%20%20%20%20%20%20%20%20%20%20%20%20case%20%2211250%22%3A%20case%20%2211200%22%3A%20case%20%2211170%22%3A%20%0A%20%20%20%20%20%20%20%20%20%20%20%20%20%20%20%20%20%20%20%20return%20%7B%22color%22%3A%20%22black%22%2C%20%22fillColor%22%3A%20%22%23eff3ff%22%2C%20%22fillOpacity%22%3A%200.6%2C%20%22opacity%22%3A%200.2%2C%20%22weight%22%3A%201%7D%3B%0A%20%20%20%20%20%20%20%20%20%20%20%20%20%20%20%20case%20%2211240%22%3A%20case%20%2211190%22%3A%20%0A%20%20%20%20%20%20%20%20%20%20%20%20%20%20%20%20%20%20%20%20return%20%7B%22color%22%3A%20%22black%22%2C%20%22fillColor%22%3A%20%22%236baed6%22%2C%20%22fillOpacity%22%3A%200.6%2C%20%22opacity%22%3A%200.2%2C%20%22weight%22%3A%201%7D%3B%0A%20%20%20%20%20%20%20%20%20%20%20%20%20%20%20%20case%20%2211230%22%3A%20case%20%2211220%22%3A%20case%20%2211160%22%3A%20%0A%20%20%20%20%20%20%20%20%20%20%20%20%20%20%20%20%20%20%20%20return%20%7B%22color%22%3A%20%22black%22%2C%20%22fillColor%22%3A%20%22%2308519c%22%2C%20%22fillOpacity%22%3A%200.6%2C%20%22opacity%22%3A%200.2%2C%20%22weight%22%3A%201%7D%3B%0A%20%20%20%20%20%20%20%20%20%20%20%20%20%20%20%20case%20%2211210%22%3A%20case%20%2211150%22%3A%20%0A%20%20%20%20%20%20%20%20%20%20%20%20%20%20%20%20%20%20%20%20return%20%7B%22color%22%3A%20%22black%22%2C%20%22fillColor%22%3A%20%22%23c6dbef%22%2C%20%22fillOpacity%22%3A%200.6%2C%20%22opacity%22%3A%200.2%2C%20%22weight%22%3A%201%7D%3B%0A%20%20%20%20%20%20%20%20%20%20%20%20%20%20%20%20default%3A%0A%20%20%20%20%20%20%20%20%20%20%20%20%20%20%20%20%20%20%20%20return%20%7B%22color%22%3A%20%22black%22%2C%20%22fillColor%22%3A%20%22black%22%2C%20%22fillOpacity%22%3A%200.6%2C%20%22opacity%22%3A%200.2%2C%20%22weight%22%3A%201%7D%3B%0A%20%20%20%20%20%20%20%20%20%20%20%20%7D%0A%20%20%20%20%20%20%20%20%7D%0A%0A%20%20%20%20%20%20%20%20function%20geo_json_c275c5ffe4c340dcaac33a0b792a38fe_onEachFeature%28feature%2C%20layer%29%20%7B%0A%20%20%20%20%20%20%20%20%20%20%20%20layer.on%28%7B%0A%20%20%20%20%20%20%20%20%20%20%20%20%7D%29%3B%0A%20%20%20%20%20%20%20%20%7D%3B%0A%20%20%20%20%20%20%20%20var%20geo_json_c275c5ffe4c340dcaac33a0b792a38fe%20%3D%20L.geoJson%28null%2C%20%7B%0A%20%20%20%20%20%20%20%20%20%20%20%20%20%20%20%20onEachFeature%3A%20geo_json_c275c5ffe4c340dcaac33a0b792a38fe_onEachFeature%2C%0A%20%20%20%20%20%20%20%20%20%20%20%20%0A%20%20%20%20%20%20%20%20%20%20%20%20%20%20%20%20style%3A%20geo_json_c275c5ffe4c340dcaac33a0b792a38fe_styler%2C%0A%20%20%20%20%20%20%20%20%7D%29%3B%0A%0A%20%20%20%20%20%20%20%20function%20geo_json_c275c5ffe4c340dcaac33a0b792a38fe_add%20%28data%29%20%7B%0A%20%20%20%20%20%20%20%20%20%20%20%20geo_json_c275c5ffe4c340dcaac33a0b792a38fe%0A%20%20%20%20%20%20%20%20%20%20%20%20%20%20%20%20.addData%28data%29%0A%20%20%20%20%20%20%20%20%20%20%20%20%20%20%20%20.addTo%28choropleth_a7cf615ec84f418a94944bcbf5ae1a42%29%3B%0A%20%20%20%20%20%20%20%20%7D%0A%20%20%20%20%20%20%20%20%20%20%20%20geo_json_c275c5ffe4c340dcaac33a0b792a38fe_add%28%7B%22features%22%3A%20%5B%7B%22geometry%22%3A%20%7B%22coordinates%22%3A%20%5B%5B%5B127.11519584981606%2C%2037.557533180704915%5D%2C%20%5B127.11879551821994%2C%2037.557222485451305%5D%2C%20%5B127.12146867175024%2C%2037.55986003393365%5D%2C%20%5B127.12435254630417%2C%2037.56144246249796%5D%2C%20%5B127.13593925898998%2C%2037.56564793048277%5D%2C%20%5B127.14930548011061%2C%2037.56892250303897%5D%2C%20%5B127.15511020940411%2C%2037.57093642128295%5D%2C%20%5B127.16683184366129%2C%2037.57672487388627%5D%2C%20%5B127.17038810813094%2C%2037.576465605301046%5D%2C%20%5B127.17607118428914%2C%2037.57678573961056%5D%2C%20%5B127.17905504160184%2C%2037.57791388161732%5D%2C%20%5B127.17747787800164%2C%2037.57448983055031%5D%2C%20%5B127.1781775408844%2C%2037.571481967974336%5D%2C%20%5B127.17995281860672%2C%2037.569309661290504%5D%2C%20%5B127.18122821955262%2C%2037.56636089217979%5D%2C%20%5B127.18169407550688%2C%2037.56286338914073%5D%2C%20%5B127.18408792330152%2C%2037.55814280369575%5D%2C%20%5B127.18350810324185%2C%2037.550053002101485%5D%2C%20%5B127.1852644795464%2C%2037.54888592026534%5D%2C%20%5B127.18480906237207%2C%2037.545296888806796%5D%2C%20%5B127.18543378919821%2C%2037.54260756512178%5D%2C%20%5B127.18364810569703%2C%2037.54241347907019%5D%2C%20%5B127.18116465939269%2C%2037.54384126582126%5D%2C%20%5B127.17770860504257%2C%2037.542414255164374%5D%2C%20%5B127.1744373170213%2C%2037.54277723796397%5D%2C%20%5B127.16830424484573%2C%2037.54145405702079%5D%2C%20%5B127.16530984307447%2C%2037.54221851258693%5D%2C%20%5B127.15566835118616%2C%2037.53119520531309%5D%2C%20%5B127.15538075046105%2C%2037.52652930087977%5D%2C%20%5B127.15154315998161%2C%2037.522828709496416%5D%2C%20%5B127.14981542759394%2C%2037.51926843453025%5D%2C%20%5B127.14791518058246%2C%2037.51918714979303%5D%2C%20%5B127.14684644251928%2C%2037.51661384818575%5D%2C%20%5B127.14672806823502%2C%2037.51415680680291%5D%2C%20%5B127.14532023498624%2C%2037.51464060108829%5D%2C%20%5B127.12123165719615%2C%2037.52528270089%5D%2C%20%5B127.12251496040881%2C%2037.52751810228347%5D%2C%20%5B127.12532464331997%2C%2037.53572787912298%5D%2C%20%5B127.12061313033807%2C%2037.538129867839416%5D%2C%20%5B127.1116764203608%2C%2037.540669955324965%5D%2C%20%5B127.11418412219375%2C%2037.54474592090681%5D%2C%20%5B127.11600200349189%2C%2037.55053147511706%5D%2C%20%5B127.11600943681239%2C%2037.55580061507081%5D%2C%20%5B127.11519584981606%2C%2037.557533180704915%5D%5D%5D%2C%20%22type%22%3A%20%22Polygon%22%7D%2C%20%22properties%22%3A%20%7B%22base_year%22%3A%20%222013%22%2C%20%22code%22%3A%20%2211250%22%2C%20%22name%22%3A%20%22%5Cuac15%5Cub3d9%5Cuad6c%22%2C%20%22name_eng%22%3A%20%22Gangdong-gu%22%7D%2C%20%22type%22%3A%20%22Feature%22%7D%2C%20%7B%22geometry%22%3A%20%7B%22coordinates%22%3A%20%5B%5B%5B127.0690698130372%2C%2037.522279423505026%5D%2C%20%5B127.07496309841329%2C%2037.52091052765938%5D%2C%20%5B127.07968915919895%2C%2037.52077294752823%5D%2C%20%5B127.08639455667742%2C%2037.52161824624356%5D%2C%20%5B127.0943611414465%2C%2037.523984206117525%5D%2C%20%5B127.10087519791962%2C%2037.524841220167055%5D%2C%20%5B127.10484130265957%2C%2037.53120327509912%5D%2C%20%5B127.1116764203608%2C%2037.540669955324965%5D%2C%20%5B127.12061313033807%2C%2037.538129867839416%5D%2C%20%5B127.12532464331997%2C%2037.53572787912298%5D%2C%20%5B127.12251496040881%2C%2037.52751810228347%5D%2C%20%5B127.12123165719615%2C%2037.52528270089%5D%2C%20%5B127.14532023498624%2C%2037.51464060108829%5D%2C%20%5B127.14672806823502%2C%2037.51415680680291%5D%2C%20%5B127.14670263739373%2C%2037.512786602955565%5D%2C%20%5B127.14462782318448%2C%2037.511529542030715%5D%2C%20%5B127.14323992504048%2C%2037.50951977457089%5D%2C%20%5B127.1420864475393%2C%2037.50578973782813%5D%2C%20%5B127.14324986168657%2C%2037.502649431479774%5D%2C%20%5B127.1473517108062%2C%2037.50069754405746%5D%2C%20%5B127.14980119646964%2C%2037.50046502392898%5D%2C%20%5B127.15223804785649%2C%2037.50170492532197%5D%2C%20%5B127.15401160147654%2C%2037.500347919909956%5D%2C%20%5B127.16086308579277%2C%2037.49886565522751%5D%2C%20%5B127.1634944215765%2C%2037.497445406097484%5D%2C%20%5B127.16199885180917%2C%2037.49402577547199%5D%2C%20%5B127.16216448592424%2C%2037.491639601211624%5D%2C%20%5B127.16040295326431%2C%2037.4877818619403%5D%2C%20%5B127.15892216655034%2C%2037.486126922469445%5D%2C%20%5B127.15393282790794%2C%2037.48483891408459%5D%2C%20%5B127.15147990997852%2C%2037.47745324805034%5D%2C%20%5B127.1515017465549%2C%2037.475633269417585%5D%2C%20%5B127.14857580353349%2C%2037.47381386382568%5D%2C%20%5B127.14415938171436%2C%2037.473692508393505%5D%2C%20%5B127.14112111404233%2C%2037.470600239054825%5D%2C%20%5B127.13631568648837%2C%2037.47214721764681%5D%2C%20%5B127.13281577200672%2C%2037.47257463763244%5D%2C%20%5B127.13307493070646%2C%2037.468907694139894%5D%2C%20%5B127.13750907701846%2C%2037.46647058226059%5D%2C%20%5B127.13478085797742%2C%2037.46509524639883%5D%2C%20%5B127.1308437061496%2C%2037.46509985661207%5D%2C%20%5B127.12728991002369%2C%2037.46673043118672%5D%2C%20%5B127.12729757787379%2C%2037.46421548908766%5D%2C%20%5B127.12440571080893%2C%2037.46240445587048%5D%2C%20%5B127.12441393026374%2C%2037.46442715236855%5D%2C%20%5B127.12265007208167%2C%2037.46756987490939%5D%2C%20%5B127.11380709617507%2C%2037.479633334849325%5D%2C%20%5B127.1143875173445%2C%2037.48073157362458%5D%2C%20%5B127.11117085201238%2C%2037.485708381512445%5D%2C%20%5B127.1077937689776%2C%2037.48860875954992%5D%2C%20%5B127.10433125798602%2C%2037.490728250649646%5D%2C%20%5B127.0988509639092%2C%2037.49302529254068%5D%2C%20%5B127.08050206733888%2C%2037.49783151325589%5D%2C%20%5B127.0764808967127%2C%2037.498612695580306%5D%2C%20%5B127.0719146000724%2C%2037.50224013587669%5D%2C%20%5B127.06926628842805%2C%2037.51717796437217%5D%2C%20%5B127.06860425556381%2C%2037.51812758676938%5D%2C%20%5B127.0690698130372%2C%2037.522279423505026%5D%5D%5D%2C%20%22type%22%3A%20%22Polygon%22%7D%2C%20%22properties%22%3A%20%7B%22base_year%22%3A%20%222013%22%2C%20%22code%22%3A%20%2211240%22%2C%20%22name%22%3A%20%22%5Cuc1a1%5Cud30c%5Cuad6c%22%2C%20%22name_eng%22%3A%20%22Songpa-gu%22%7D%2C%20%22type%22%3A%20%22Feature%22%7D%2C%20%7B%22geometry%22%3A%20%7B%22coordinates%22%3A%20%5B%5B%5B127.05867359288398%2C%2037.52629974922568%5D%2C%20%5B127.0690698130372%2C%2037.522279423505026%5D%2C%20%5B127.06860425556381%2C%2037.51812758676938%5D%2C%20%5B127.06926628842805%2C%2037.51717796437217%5D%2C%20%5B127.0719146000724%2C%2037.50224013587669%5D%2C%20%5B127.0764808967127%2C%2037.498612695580306%5D%2C%20%5B127.08050206733888%2C%2037.49783151325589%5D%2C%20%5B127.0988509639092%2C%2037.49302529254068%5D%2C%20%5B127.10433125798602%2C%2037.490728250649646%5D%2C%20%5B127.1077937689776%2C%2037.48860875954992%5D%2C%20%5B127.11117085201238%2C%2037.485708381512445%5D%2C%20%5B127.1143875173445%2C%2037.48073157362458%5D%2C%20%5B127.11380709617507%2C%2037.479633334849325%5D%2C%20%5B127.12265007208167%2C%2037.46756987490939%5D%2C%20%5B127.12441393026374%2C%2037.46442715236855%5D%2C%20%5B127.12440571080893%2C%2037.46240445587048%5D%2C%20%5B127.11957248720776%2C%2037.45936217377656%5D%2C%20%5B127.11885903757606%2C%2037.45578434878651%5D%2C%20%5B127.11535741803938%2C%2037.45722556454321%5D%2C%20%5B127.11413179478714%2C%2037.45875072431525%5D%2C%20%5B127.10841788934951%2C%2037.45972888008147%5D%2C%20%5B127.10561257180657%2C%2037.456815702518746%5D%2C%20%5B127.10032466845217%2C%2037.45598440195682%5D%2C%20%5B127.09842759318751%2C%2037.45862253857461%5D%2C%20%5B127.09712653145507%2C%2037.460848194480654%5D%2C%20%5B127.09039613625872%2C%2037.465520545397716%5D%2C%20%5B127.0866005634691%2C%2037.47006403057779%5D%2C%20%5B127.08640440578156%2C%2037.472697935184655%5D%2C%20%5B127.0802737559454%2C%2037.471973057552624%5D%2C%20%5B127.07602132306535%2C%2037.47005021331707%5D%2C%20%5B127.07476117209941%2C%2037.47199174520626%5D%2C%20%5B127.07231320371885%2C%2037.47234914588019%5D%2C%20%5B127.07135137525977%2C%2037.47107802023145%5D%2C%20%5B127.06463901956462%2C%2037.47003474490574%5D%2C%20%5B127.06371868919344%2C%2037.4661503234869%5D%2C%20%5B127.0588551029968%2C%2037.465611780743174%5D%2C%20%5B127.0559170481904%2C%2037.4659228914077%5D%2C%20%5B127.04713549385288%2C%2037.474479419244865%5D%2C%20%5B127.04345123620755%2C%2037.48276415595109%5D%2C%20%5B127.03621915098798%2C%2037.48175802427603%5D%2C%20%5B127.03372275812187%2C%2037.48674434662411%5D%2C%20%5B127.02265609299096%2C%2037.509970106251416%5D%2C%20%5B127.02038705349842%2C%2037.51771683027875%5D%2C%20%5B127.01917707838057%2C%2037.520085205855196%5D%2C%20%5B127.01397119667513%2C%2037.52503988289669%5D%2C%20%5B127.02302831890559%2C%2037.53231899582663%5D%2C%20%5B127.0269608080842%2C%2037.53484752757724%5D%2C%20%5B127.0319617044248%2C%2037.536064291470424%5D%2C%20%5B127.04806779588436%2C%2037.52970198575087%5D%2C%20%5B127.04903802830752%2C%2037.53140496708317%5D%2C%20%5B127.05116490008963%2C%2037.52975116557232%5D%2C%20%5B127.05867359288398%2C%2037.52629974922568%5D%5D%5D%2C%20%22type%22%3A%20%22Polygon%22%7D%2C%20%22properties%22%3A%20%7B%22base_year%22%3A%20%222013%22%2C%20%22code%22%3A%20%2211230%22%2C%20%22name%22%3A%20%22%5Cuac15%5Cub0a8%5Cuad6c%22%2C%20%22name_eng%22%3A%20%22Gangnam-gu%22%7D%2C%20%22type%22%3A%20%22Feature%22%7D%2C%20%7B%22geometry%22%3A%20%7B%22coordinates%22%3A%20%5B%5B%5B127.01397119667513%2C%2037.52503988289669%5D%2C%20%5B127.01917707838057%2C%2037.520085205855196%5D%2C%20%5B127.02038705349842%2C%2037.51771683027875%5D%2C%20%5B127.02265609299096%2C%2037.509970106251416%5D%2C%20%5B127.03372275812187%2C%2037.48674434662411%5D%2C%20%5B127.03621915098798%2C%2037.48175802427603%5D%2C%20%5B127.04345123620755%2C%2037.48276415595109%5D%2C%20%5B127.04713549385288%2C%2037.474479419244865%5D%2C%20%5B127.0559170481904%2C%2037.4659228914077%5D%2C%20%5B127.0588551029968%2C%2037.465611780743174%5D%2C%20%5B127.06371868919344%2C%2037.4661503234869%5D%2C%20%5B127.06463901956462%2C%2037.47003474490574%5D%2C%20%5B127.07135137525977%2C%2037.47107802023145%5D%2C%20%5B127.07231320371885%2C%2037.47234914588019%5D%2C%20%5B127.07476117209941%2C%2037.47199174520626%5D%2C%20%5B127.07602132306535%2C%2037.47005021331707%5D%2C%20%5B127.0802737559454%2C%2037.471973057552624%5D%2C%20%5B127.08640440578156%2C%2037.472697935184655%5D%2C%20%5B127.0866005634691%2C%2037.47006403057779%5D%2C%20%5B127.09039613625872%2C%2037.465520545397716%5D%2C%20%5B127.09712653145507%2C%2037.460848194480654%5D%2C%20%5B127.09842759318751%2C%2037.45862253857461%5D%2C%20%5B127.09673714758375%2C%2037.45597209899094%5D%2C%20%5B127.09722129576434%2C%2037.45374822681991%5D%2C%20%5B127.09575982122928%2C%2037.45332980525459%5D%2C%20%5B127.09472136159357%2C%2037.450897902539175%5D%2C%20%5B127.09293250684935%2C%2037.450020696864506%5D%2C%20%5B127.09047890749349%2C%2037.44637473407341%5D%2C%20%5B127.09046928565951%2C%2037.44296826114185%5D%2C%20%5B127.0862358725955%2C%2037.44118543250345%5D%2C%20%5B127.08441983692467%2C%2037.4383879031398%5D%2C%20%5B127.07686576585408%2C%2037.43960712011444%5D%2C%20%5B127.07375875606847%2C%2037.43898415920535%5D%2C%20%5B127.07407631675713%2C%2037.43719357187124%5D%2C%20%5B127.07666569012467%2C%2037.43600054505559%5D%2C%20%5B127.07603719210388%2C%2037.43429107517633%5D%2C%20%5B127.07361291761038%2C%2037.43318474533595%5D%2C%20%5B127.07271473569163%2C%2037.42939553659177%5D%2C%20%5B127.0733788318578%2C%2037.42814484786288%5D%2C%20%5B127.06885354151605%2C%2037.42731815367302%5D%2C%20%5B127.06778107605433%2C%2037.426197424057314%5D%2C%20%5B127.06317558623768%2C%2037.4272916178182%5D%2C%20%5B127.05998777565219%2C%2037.4273224867045%5D%2C%20%5B127.05424556064274%2C%2037.42574929824175%5D%2C%20%5B127.05197080928994%2C%2037.42749842502397%5D%2C%20%5B127.04960937636815%2C%2037.42801020057224%5D%2C%20%5B127.04849622718511%2C%2037.430672016902065%5D%2C%20%5B127.04191594772718%2C%2037.43568906449929%5D%2C%20%5B127.0379686253535%2C%2037.43634417139204%5D%2C%20%5B127.03751805596916%2C%2037.438362795245276%5D%2C%20%5B127.04031700689708%2C%2037.44191429311459%5D%2C%20%5B127.03959875976469%2C%2037.443582700519194%5D%2C%20%5B127.0398984887873%2C%2037.44656106007936%5D%2C%20%5B127.03825522385397%2C%2037.448766467898395%5D%2C%20%5B127.03916301678915%2C%2037.45180237055558%5D%2C%20%5B127.03881782597922%2C%2037.45382039851715%5D%2C%20%5B127.03695436044305%2C%2037.45537592726508%5D%2C%20%5B127.03573307034355%2C%2037.4586703897792%5D%2C%20%5B127.03683946894893%2C%2037.46103886642786%5D%2C%20%5B127.03337331972266%2C%2037.462966775127626%5D%2C%20%5B127.02820831539744%2C%2037.455700834295826%5D%2C%20%5B127.02263694708293%2C%2037.45335816711404%5D%2C%20%5B127.01827371395349%2C%2037.4525593623189%5D%2C%20%5B127.01316256500736%2C%2037.45257906566242%5D%2C%20%5B127.01110931353561%2C%2037.45456166745922%5D%2C%20%5B127.00836380369604%2C%2037.45936868039916%5D%2C%20%5B127.00738548779366%2C%2037.459815333664274%5D%2C%20%5B127.00552362663117%2C%2037.46445102893571%5D%2C%20%5B127.00008523087483%2C%2037.46455774995882%5D%2C%20%5B126.99837609897334%2C%2037.46390918086617%5D%2C%20%5B126.99932142462428%2C%2037.46113351815481%5D%2C%20%5B126.99893310307874%2C%2037.459376062410314%5D%2C%20%5B126.9953054179472%2C%2037.45860121328987%5D%2C%20%5B126.99072073195462%2C%2037.455326143310025%5D%2C%20%5B126.98956736277059%2C%2037.457600756400446%5D%2C%20%5B126.99026416700147%2C%2037.46271603227842%5D%2C%20%5B126.98896316546526%2C%2037.465041871263544%5D%2C%20%5B126.98662755598336%2C%2037.466937278295305%5D%2C%20%5B126.9846374349825%2C%2037.46996301876212%5D%2C%20%5B126.98367668291802%2C%2037.473856492692086%5D%2C%20%5B126.98500224966135%2C%2037.49356837311327%5D%2C%20%5B126.9871787157338%2C%2037.49719505997539%5D%2C%20%5B126.9832495184969%2C%2037.49948552591205%5D%2C%20%5B126.98241580381733%2C%2037.50120029501884%5D%2C%20%5B126.98223807916081%2C%2037.509314966770326%5D%2C%20%5B126.98458580602838%2C%2037.51070333105394%5D%2C%20%5B126.98948242685965%2C%2037.5108780134613%5D%2C%20%5B126.99148001917875%2C%2037.50990503427709%5D%2C%20%5B127.00011962020382%2C%2037.513901653034374%5D%2C%20%5B127.00583392114271%2C%2037.516905128452926%5D%2C%20%5B127.00818058911564%2C%2037.51877313923874%5D%2C%20%5B127.01022186960886%2C%2037.522020085671926%5D%2C%20%5B127.01397119667513%2C%2037.52503988289669%5D%5D%5D%2C%20%22type%22%3A%20%22Polygon%22%7D%2C%20%22properties%22%3A%20%7B%22base_year%22%3A%20%222013%22%2C%20%22code%22%3A%20%2211220%22%2C%20%22name%22%3A%20%22%5Cuc11c%5Cucd08%5Cuad6c%22%2C%20%22name_eng%22%3A%20%22Seocho-gu%22%7D%2C%20%22type%22%3A%20%22Feature%22%7D%2C%20%7B%22geometry%22%3A%20%7B%22coordinates%22%3A%20%5B%5B%5B126.98367668291802%2C%2037.473856492692086%5D%2C%20%5B126.9846374349825%2C%2037.46996301876212%5D%2C%20%5B126.98662755598336%2C%2037.466937278295305%5D%2C%20%5B126.98896316546526%2C%2037.465041871263544%5D%2C%20%5B126.99026416700147%2C%2037.46271603227842%5D%2C%20%5B126.98956736277059%2C%2037.457600756400446%5D%2C%20%5B126.99072073195462%2C%2037.455326143310025%5D%2C%20%5B126.98484249930785%2C%2037.45391909788938%5D%2C%20%5B126.9829408096241%2C%2037.450206782833206%5D%2C%20%5B126.97835022660695%2C%2037.447659155806164%5D%2C%20%5B126.97608193440507%2C%2037.44478918862847%5D%2C%20%5B126.9731300196836%2C%2037.444722870088114%5D%2C%20%5B126.96650852936277%2C%2037.44276983031553%5D%2C%20%5B126.96618702895445%2C%2037.439376482995094%5D%2C%20%5B126.96520439085143%2C%2037.438249784006246%5D%2C%20%5B126.9614877541633%2C%2037.437956805629675%5D%2C%20%5B126.96054904645496%2C%2037.43673997185797%5D%2C%20%5B126.95527369898224%2C%2037.43673711968809%5D%2C%20%5B126.9473688393239%2C%2037.4347689647565%5D%2C%20%5B126.94440352544498%2C%2037.43476162120059%5D%2C%20%5B126.9415292183489%2C%2037.43315139671158%5D%2C%20%5B126.94037501670272%2C%2037.43462213966344%5D%2C%20%5B126.9405640311191%2C%2037.437501011208845%5D%2C%20%5B126.9376981355065%2C%2037.44041709605302%5D%2C%20%5B126.93312955918624%2C%2037.44290014710262%5D%2C%20%5B126.93309127096236%2C%2037.44533734785938%5D%2C%20%5B126.93084408056525%2C%2037.447382928333994%5D%2C%20%5B126.92527839995981%2C%2037.45161884570837%5D%2C%20%5B126.9245243450059%2C%2037.45392293573877%5D%2C%20%5B126.91887928082078%2C%2037.45495082787016%5D%2C%20%5B126.9167728146601%2C%2037.45490566423789%5D%2C%20%5B126.91641538472182%2C%2037.45870245071989%5D%2C%20%5B126.91495285904284%2C%2037.461166184511065%5D%2C%20%5B126.91584245173756%2C%2037.462474576247985%5D%2C%20%5B126.91374656127704%2C%2037.46375990852858%5D%2C%20%5B126.91032166997253%2C%2037.469818629944285%5D%2C%20%5B126.91280966667205%2C%2037.47083063715413%5D%2C%20%5B126.91405961426707%2C%2037.47416764846582%5D%2C%20%5B126.9115784808617%2C%2037.4753960485947%5D%2C%20%5B126.91181700249076%2C%2037.47814319736339%5D%2C%20%5B126.90276666415615%2C%2037.47652007992712%5D%2C%20%5B126.90156094129895%2C%2037.47753842789901%5D%2C%20%5B126.90531975801812%2C%2037.48218087575429%5D%2C%20%5B126.90805655355825%2C%2037.48218338568103%5D%2C%20%5B126.91533979779165%2C%2037.484392208242134%5D%2C%20%5B126.91916807529428%2C%2037.48660606817164%5D%2C%20%5B126.92639563063156%2C%2037.48715979752876%5D%2C%20%5B126.92869559665061%2C%2037.49132126714011%5D%2C%20%5B126.92981699800066%2C%2037.49218420958284%5D%2C%20%5B126.93346386636452%2C%2037.49043826776755%5D%2C%20%5B126.93669800083833%2C%2037.49026778789087%5D%2C%20%5B126.93844070234584%2C%2037.4893532861132%5D%2C%20%5B126.94373156012337%2C%2037.48938843727846%5D%2C%20%5B126.94922661389508%2C%2037.49125437495649%5D%2C%20%5B126.95396955055433%2C%2037.48955250290043%5D%2C%20%5B126.9559655046206%2C%2037.48820165625994%5D%2C%20%5B126.95881175306481%2C%2037.48874989165474%5D%2C%20%5B126.96329694970828%2C%2037.4905835370787%5D%2C%20%5B126.96291787066104%2C%2037.48803272157808%5D%2C%20%5B126.96443983219191%2C%2037.48442261322104%5D%2C%20%5B126.9634428120456%2C%2037.48067931902171%5D%2C%20%5B126.9725891850662%2C%2037.472561363278125%5D%2C%20%5B126.97901795539295%2C%2037.47376525108475%5D%2C%20%5B126.98367668291802%2C%2037.473856492692086%5D%5D%5D%2C%20%22type%22%3A%20%22Polygon%22%7D%2C%20%22properties%22%3A%20%7B%22base_year%22%3A%20%222013%22%2C%20%22code%22%3A%20%2211210%22%2C%20%22name%22%3A%20%22%5Cuad00%5Cuc545%5Cuad6c%22%2C%20%22name_eng%22%3A%20%22Gwanak-gu%22%7D%2C%20%22type%22%3A%20%22Feature%22%7D%2C%20%7B%22geometry%22%3A%20%7B%22coordinates%22%3A%20%5B%5B%5B126.98223807916081%2C%2037.509314966770326%5D%2C%20%5B126.98241580381733%2C%2037.50120029501884%5D%2C%20%5B126.9832495184969%2C%2037.49948552591205%5D%2C%20%5B126.9871787157338%2C%2037.49719505997539%5D%2C%20%5B126.98500224966135%2C%2037.49356837311327%5D%2C%20%5B126.98367668291802%2C%2037.473856492692086%5D%2C%20%5B126.97901795539295%2C%2037.47376525108475%5D%2C%20%5B126.9725891850662%2C%2037.472561363278125%5D%2C%20%5B126.9634428120456%2C%2037.48067931902171%5D%2C%20%5B126.96443983219191%2C%2037.48442261322104%5D%2C%20%5B126.96291787066104%2C%2037.48803272157808%5D%2C%20%5B126.96329694970828%2C%2037.4905835370787%5D%2C%20%5B126.95881175306481%2C%2037.48874989165474%5D%2C%20%5B126.9559655046206%2C%2037.48820165625994%5D%2C%20%5B126.95396955055433%2C%2037.48955250290043%5D%2C%20%5B126.94922661389508%2C%2037.49125437495649%5D%2C%20%5B126.94373156012337%2C%2037.48938843727846%5D%2C%20%5B126.93844070234584%2C%2037.4893532861132%5D%2C%20%5B126.93669800083833%2C%2037.49026778789087%5D%2C%20%5B126.93346386636452%2C%2037.49043826776755%5D%2C%20%5B126.92981699800066%2C%2037.49218420958284%5D%2C%20%5B126.92869559665061%2C%2037.49132126714011%5D%2C%20%5B126.92639563063156%2C%2037.48715979752876%5D%2C%20%5B126.91916807529428%2C%2037.48660606817164%5D%2C%20%5B126.91533979779165%2C%2037.484392208242134%5D%2C%20%5B126.90805655355825%2C%2037.48218338568103%5D%2C%20%5B126.90531975801812%2C%2037.48218087575429%5D%2C%20%5B126.91461888105147%2C%2037.493581242537296%5D%2C%20%5B126.92177893174825%2C%2037.494889877415176%5D%2C%20%5B126.9232469824303%2C%2037.49928149943772%5D%2C%20%5B126.92749463764046%2C%2037.50985955934051%5D%2C%20%5B126.92919938332032%2C%2037.51019685838638%5D%2C%20%5B126.92810628828279%2C%2037.51329595732015%5D%2C%20%5B126.93453120783802%2C%2037.5128512712934%5D%2C%20%5B126.94407346439685%2C%2037.51463101265907%5D%2C%20%5B126.95249990298159%2C%2037.51722500741813%5D%2C%20%5B126.95551848909955%2C%2037.514736123015844%5D%2C%20%5B126.95950268374823%2C%2037.51249532165974%5D%2C%20%5B126.96670111119346%2C%2037.50997579058433%5D%2C%20%5B126.98223807916081%2C%2037.509314966770326%5D%5D%5D%2C%20%22type%22%3A%20%22Polygon%22%7D%2C%20%22properties%22%3A%20%7B%22base_year%22%3A%20%222013%22%2C%20%22code%22%3A%20%2211200%22%2C%20%22name%22%3A%20%22%5Cub3d9%5Cuc791%5Cuad6c%22%2C%20%22name_eng%22%3A%20%22Dongjak-gu%22%7D%2C%20%22type%22%3A%20%22Feature%22%7D%2C%20%7B%22geometry%22%3A%20%7B%22coordinates%22%3A%20%5B%5B%5B126.89184663862764%2C%2037.547373974997114%5D%2C%20%5B126.90281125423546%2C%2037.54133630026083%5D%2C%20%5B126.90829204147958%2C%2037.539206065016785%5D%2C%20%5B126.93132557924062%2C%2037.53415416375281%5D%2C%20%5B126.93680342222562%2C%2037.53344577095931%5D%2C%20%5B126.94566733083212%2C%2037.526617542453366%5D%2C%20%5B126.9488066464266%2C%2037.52424913252661%5D%2C%20%5B126.95003825019774%2C%2037.520781022055274%5D%2C%20%5B126.95249990298159%2C%2037.51722500741813%5D%2C%20%5B126.94407346439685%2C%2037.51463101265907%5D%2C%20%5B126.93453120783802%2C%2037.5128512712934%5D%2C%20%5B126.92810628828279%2C%2037.51329595732015%5D%2C%20%5B126.92919938332032%2C%2037.51019685838638%5D%2C%20%5B126.92749463764046%2C%2037.50985955934051%5D%2C%20%5B126.9232469824303%2C%2037.49928149943772%5D%2C%20%5B126.92177893174825%2C%2037.494889877415176%5D%2C%20%5B126.91461888105147%2C%2037.493581242537296%5D%2C%20%5B126.90531975801812%2C%2037.48218087575429%5D%2C%20%5B126.90260188508027%2C%2037.48282626920736%5D%2C%20%5B126.89861362258316%2C%2037.48625405368759%5D%2C%20%5B126.89581061458084%2C%2037.49391346191318%5D%2C%20%5B126.89549571721683%2C%2037.50033127915717%5D%2C%20%5B126.89594776782485%2C%2037.504675281309176%5D%2C%20%5B126.89253696873205%2C%2037.50875582175844%5D%2C%20%5B126.88156402353862%2C%2037.513970034765684%5D%2C%20%5B126.88191372979959%2C%2037.51939416754389%5D%2C%20%5B126.88260109180834%2C%2037.52242565920786%5D%2C%20%5B126.88382776477316%2C%2037.52352483439659%5D%2C%20%5B126.88904768965743%2C%2037.525856504359034%5D%2C%20%5B126.89057378109133%2C%2037.52792091672938%5D%2C%20%5B126.89213569003026%2C%2037.52757969298779%5D%2C%20%5B126.89361739665432%2C%2037.53033899535983%5D%2C%20%5B126.89339176028666%2C%2037.533030814524004%5D%2C%20%5B126.88938421776182%2C%2037.54060159145325%5D%2C%20%5B126.88825757860099%2C%2037.54079733630232%5D%2C%20%5B126.88736718003831%2C%2037.54350482420959%5D%2C%20%5B126.89184663862764%2C%2037.547373974997114%5D%5D%5D%2C%20%22type%22%3A%20%22Polygon%22%7D%2C%20%22properties%22%3A%20%7B%22base_year%22%3A%20%222013%22%2C%20%22code%22%3A%20%2211190%22%2C%20%22name%22%3A%20%22%5Cuc601%5Cub4f1%5Cud3ec%5Cuad6c%22%2C%20%22name_eng%22%3A%20%22Yeongdeungpo-gu%22%7D%2C%20%22type%22%3A%20%22Feature%22%7D%2C%20%7B%22geometry%22%3A%20%7B%22coordinates%22%3A%20%5B%5B%5B126.90156094129895%2C%2037.47753842789901%5D%2C%20%5B126.90276666415615%2C%2037.47652007992712%5D%2C%20%5B126.91181700249076%2C%2037.47814319736339%5D%2C%20%5B126.9115784808617%2C%2037.4753960485947%5D%2C%20%5B126.91405961426707%2C%2037.47416764846582%5D%2C%20%5B126.91280966667205%2C%2037.47083063715413%5D%2C%20%5B126.91032166997253%2C%2037.469818629944285%5D%2C%20%5B126.91374656127704%2C%2037.46375990852858%5D%2C%20%5B126.91584245173756%2C%2037.462474576247985%5D%2C%20%5B126.91495285904284%2C%2037.461166184511065%5D%2C%20%5B126.91641538472182%2C%2037.45870245071989%5D%2C%20%5B126.9167728146601%2C%2037.45490566423789%5D%2C%20%5B126.91887928082078%2C%2037.45495082787016%5D%2C%20%5B126.9245243450059%2C%2037.45392293573877%5D%2C%20%5B126.92527839995981%2C%2037.45161884570837%5D%2C%20%5B126.93084408056525%2C%2037.447382928333994%5D%2C%20%5B126.9255681646224%2C%2037.44377627841776%5D%2C%20%5B126.92318732232543%2C%2037.44131494528283%5D%2C%20%5B126.92199241717724%2C%2037.43848070111403%5D%2C%20%5B126.92004664118903%2C%2037.43708741729147%5D%2C%20%5B126.91641802826501%2C%2037.43722730676683%5D%2C%20%5B126.91344497343947%2C%2037.43474365720405%5D%2C%20%5B126.91082677485002%2C%2037.43100963341445%5D%2C%20%5B126.90487628022693%2C%2037.43129996372531%5D%2C%20%5B126.90480610062333%2C%2037.433123813599884%5D%2C%20%5B126.90147608259903%2C%2037.4353323892334%5D%2C%20%5B126.90081465102077%2C%2037.436498759868456%5D%2C%20%5B126.90105333433885%2C%2037.44031094924801%5D%2C%20%5B126.90031753853916%2C%2037.441844173154756%5D%2C%20%5B126.89768314223053%2C%2037.442906858137974%5D%2C%20%5B126.89812451590424%2C%2037.44551117837958%5D%2C%20%5B126.89616541233094%2C%2037.44983024861048%5D%2C%20%5B126.8947204038491%2C%2037.4491097366517%5D%2C%20%5B126.89157226377172%2C%2037.449944282396714%5D%2C%20%5B126.89113632562855%2C%2037.45236898205529%5D%2C%20%5B126.88831381741582%2C%2037.45357939777933%5D%2C%20%5B126.88826482749008%2C%2037.45663270152334%5D%2C%20%5B126.89074130059865%2C%2037.45966561796733%5D%2C%20%5B126.88198617469523%2C%2037.469975509557976%5D%2C%20%5B126.87874781843654%2C%2037.47475533620029%5D%2C%20%5B126.87553760781829%2C%2037.48186220368496%5D%2C%20%5B126.87683271502428%2C%2037.482576591607305%5D%2C%20%5B126.88079109105627%2C%2037.48378287831426%5D%2C%20%5B126.8827497570056%2C%2037.48316340563878%5D%2C%20%5B126.88803217321346%2C%2037.47975290808737%5D%2C%20%5B126.89116882970154%2C%2037.47681803032367%5D%2C%20%5B126.89689977603885%2C%2037.47570593888643%5D%2C%20%5B126.90104536043339%2C%2037.47614746588584%5D%2C%20%5B126.90156094129895%2C%2037.47753842789901%5D%5D%5D%2C%20%22type%22%3A%20%22Polygon%22%7D%2C%20%22properties%22%3A%20%7B%22base_year%22%3A%20%222013%22%2C%20%22code%22%3A%20%2211180%22%2C%20%22name%22%3A%20%22%5Cuae08%5Cucc9c%5Cuad6c%22%2C%20%22name_eng%22%3A%20%22Geumcheon-gu%22%7D%2C%20%22type%22%3A%20%22Feature%22%7D%2C%20%7B%22geometry%22%3A%20%7B%22coordinates%22%3A%20%5B%5B%5B126.82688081517314%2C%2037.50548972232896%5D%2C%20%5B126.8312211095328%2C%2037.50541191299514%5D%2C%20%5B126.8341914436862%2C%2037.50238060850881%5D%2C%20%5B126.8385046623421%2C%2037.49965438083505%5D%2C%20%5B126.84270526111828%2C%2037.501190052842375%5D%2C%20%5B126.8421330711049%2C%2037.50273297478404%5D%2C%20%5B126.84689618668257%2C%2037.50287086505149%5D%2C%20%5B126.84730715497963%2C%2037.50522159123912%5D%2C%20%5B126.85079659934003%2C%2037.50601938589165%5D%2C%20%5B126.8521985385098%2C%2037.507310601432195%5D%2C%20%5B126.8549910115563%2C%2037.507774255244875%5D%2C%20%5B126.85767018319959%2C%2037.50643578404816%5D%2C%20%5B126.8602448049945%2C%2037.50714262450898%5D%2C%20%5B126.86219488732715%2C%2037.50388438562706%5D%2C%20%5B126.86454914535695%2C%2037.50388350542007%5D%2C%20%5B126.86525729660478%2C%2037.502448483868896%5D%2C%20%5B126.86795186545288%2C%2037.502755995885714%5D%2C%20%5B126.87109220473953%2C%2037.50203922322315%5D%2C%20%5B126.87432642792102%2C%2037.50260287829134%5D%2C%20%5B126.87556919864359%2C%2037.505720626918%5D%2C%20%5B126.88054908630636%2C%2037.51148026214697%5D%2C%20%5B126.88156402353862%2C%2037.513970034765684%5D%2C%20%5B126.89253696873205%2C%2037.50875582175844%5D%2C%20%5B126.89594776782485%2C%2037.504675281309176%5D%2C%20%5B126.89549571721683%2C%2037.50033127915717%5D%2C%20%5B126.89581061458084%2C%2037.49391346191318%5D%2C%20%5B126.89861362258316%2C%2037.48625405368759%5D%2C%20%5B126.90260188508027%2C%2037.48282626920736%5D%2C%20%5B126.90531975801812%2C%2037.48218087575429%5D%2C%20%5B126.90156094129895%2C%2037.47753842789901%5D%2C%20%5B126.90104536043339%2C%2037.47614746588584%5D%2C%20%5B126.89689977603885%2C%2037.47570593888643%5D%2C%20%5B126.89116882970154%2C%2037.47681803032367%5D%2C%20%5B126.88803217321346%2C%2037.47975290808737%5D%2C%20%5B126.8827497570056%2C%2037.48316340563878%5D%2C%20%5B126.88079109105627%2C%2037.48378287831426%5D%2C%20%5B126.87683271502428%2C%2037.482576591607305%5D%2C%20%5B126.87926901338844%2C%2037.4851363312754%5D%2C%20%5B126.87807822721697%2C%2037.486247661404484%5D%2C%20%5B126.87500855887376%2C%2037.485529408954044%5D%2C%20%5B126.87499999632084%2C%2037.48723558386031%5D%2C%20%5B126.86985088086946%2C%2037.490972856926746%5D%2C%20%5B126.86690708512153%2C%2037.48850048185492%5D%2C%20%5B126.86334463261252%2C%2037.48702105213313%5D%2C%20%5B126.85979281993241%2C%2037.48309390333688%5D%2C%20%5B126.8571926758503%2C%2037.482400254369296%5D%2C%20%5B126.85582775745682%2C%2037.48008159809108%5D%2C%20%5B126.85397991619827%2C%2037.47882533996402%5D%2C%20%5B126.84914329670241%2C%2037.4792573077648%5D%2C%20%5B126.84804505350411%2C%2037.478160467930344%5D%2C%20%5B126.84762676054953%2C%2037.47146723936323%5D%2C%20%5B126.84154264465728%2C%2037.4728980419%5D%2C%20%5B126.83754691879544%2C%2037.472514053936045%5D%2C%20%5B126.83388005989259%2C%2037.4747683882548%5D%2C%20%5B126.83136668931549%2C%2037.47344154955525%5D%2C%20%5B126.82660025197819%2C%2037.47364544953152%5D%2C%20%5B126.82419365698964%2C%2037.472951080902234%5D%2C%20%5B126.82179895415682%2C%2037.47518076838956%5D%2C%20%5B126.82206789884786%2C%2037.47889514031285%5D%2C%20%5B126.82139445214092%2C%2037.48136482338644%5D%2C%20%5B126.82208805042494%2C%2037.48299688518288%5D%2C%20%5B126.82558489219227%2C%2037.48497306755705%5D%2C%20%5B126.82482114643597%2C%2037.48717399070965%5D%2C%20%5B126.81993148808915%2C%2037.48877864988337%5D%2C%20%5B126.81649745505314%2C%2037.490455810141476%5D%2C%20%5B126.81480709048222%2C%2037.493362284349615%5D%2C%20%5B126.81518179823208%2C%2037.495233793642186%5D%2C%20%5B126.81771493003457%2C%2037.494748098657496%5D%2C%20%5B126.8208295567048%2C%2037.49594689979241%5D%2C%20%5B126.82204657426578%2C%2037.49851634597747%5D%2C%20%5B126.82367963750009%2C%2037.49925830108059%5D%2C%20%5B126.82504736331406%2C%2037.50302612640443%5D%2C%20%5B126.82469248121312%2C%2037.50496239513798%5D%2C%20%5B126.82688081517314%2C%2037.50548972232896%5D%5D%5D%2C%20%22type%22%3A%20%22Polygon%22%7D%2C%20%22properties%22%3A%20%7B%22base_year%22%3A%20%222013%22%2C%20%22code%22%3A%20%2211170%22%2C%20%22name%22%3A%20%22%5Cuad6c%5Cub85c%5Cuad6c%22%2C%20%22name_eng%22%3A%20%22Guro-gu%22%7D%2C%20%22type%22%3A%20%22Feature%22%7D%2C%20%7B%22geometry%22%3A%20%7B%22coordinates%22%3A%20%5B%5B%5B126.85984199399667%2C%2037.571847855292745%5D%2C%20%5B126.85950389772532%2C%2037.5682771531189%5D%2C%20%5B126.8604929702619%2C%2037.566825621733905%5D%2C%20%5B126.86837407967381%2C%2037.56309561411933%5D%2C%20%5B126.87997924964915%2C%2037.55510740490174%5D%2C%20%5B126.89184663862764%2C%2037.547373974997114%5D%2C%20%5B126.88736718003831%2C%2037.54350482420959%5D%2C%20%5B126.88825757860099%2C%2037.54079733630232%5D%2C%20%5B126.8872486543506%2C%2037.54079100234749%5D%2C%20%5B126.88280520161935%2C%2037.545072121233225%5D%2C%20%5B126.8761093656006%2C%2037.54412882794802%5D%2C%20%5B126.8727924099192%2C%2037.544853699294116%5D%2C%20%5B126.86637464321238%2C%2037.54859191094823%5D%2C%20%5B126.86426635332332%2C%2037.54172958759955%5D%2C%20%5B126.86582129720519%2C%2037.53817151116851%5D%2C%20%5B126.8655037497872%2C%2037.53382926555605%5D%2C%20%5B126.86610073476395%2C%2037.52699964144669%5D%2C%20%5B126.85098397861944%2C%2037.525098716169985%5D%2C%20%5B126.84257291943153%2C%2037.52373707805596%5D%2C%20%5B126.836555914069%2C%2037.53367208325903%5D%2C%20%5B126.83716591765655%2C%2037.534935320492906%5D%2C%20%5B126.83522688458329%2C%2037.539042988809484%5D%2C%20%5B126.8325348945036%2C%2037.538953250433295%5D%2C%20%5B126.83191667070415%2C%2037.54146500511403%5D%2C%20%5B126.83017074557299%2C%2037.542611079015344%5D%2C%20%5B126.82889818288362%2C%2037.53909381305992%5D%2C%20%5B126.8242331426722%2C%2037.53788078753248%5D%2C%20%5B126.81674221631081%2C%2037.5378396500627%5D%2C%20%5B126.81246052552456%2C%2037.538810793377344%5D%2C%20%5B126.81143604908785%2C%2037.54033621168525%5D%2C%20%5B126.80542840499083%2C%2037.54008921830378%5D%2C%20%5B126.80185404828612%2C%2037.537645443377826%5D%2C%20%5B126.80090914554204%2C%2037.53503009075454%5D%2C%20%5B126.79688612254975%2C%2037.53302974862096%5D%2C%20%5B126.79582133969424%2C%2037.536641561833754%5D%2C%20%5B126.79693641290046%2C%2037.53865858611534%5D%2C%20%5B126.79388711477147%2C%2037.53902211451394%5D%2C%20%5B126.7938616681597%2C%2037.54104361952839%5D%2C%20%5B126.79075533377627%2C%2037.54165251407983%5D%2C%20%5B126.78880225462409%2C%2037.54353706379955%5D%2C%20%5B126.78198339188025%2C%2037.543449601019624%5D%2C%20%5B126.77756215424237%2C%2037.54611355396897%5D%2C%20%5B126.77324417717703%2C%2037.5459123450554%5D%2C%20%5B126.76977011413412%2C%2037.55052082471595%5D%2C%20%5B126.76700465024426%2C%2037.552821566629916%5D%2C%20%5B126.77074629769308%2C%2037.55296836994276%5D%2C%20%5B126.77145103135192%2C%2037.55434307460708%5D%2C%20%5B126.77879087345151%2C%2037.55919525318415%5D%2C%20%5B126.77889121370164%2C%2037.5613614424496%5D%2C%20%5B126.77671213061004%2C%2037.5645429268672%5D%2C%20%5B126.77986476402239%2C%2037.564245932540665%5D%2C%20%5B126.78252024622797%2C%2037.565367145342954%5D%2C%20%5B126.78471963959866%2C%2037.56745669198498%5D%2C%20%5B126.78398460461828%2C%2037.56905814599349%5D%2C%20%5B126.78496836516075%2C%2037.57090748246567%5D%2C%20%5B126.79172648531066%2C%2037.57472630536462%5D%2C%20%5B126.79539987549317%2C%2037.57451148875729%5D%2C%20%5B126.79523455851671%2C%2037.57760277954844%5D%2C%20%5B126.7958606942207%2C%2037.58019957877273%5D%2C%20%5B126.79799133400897%2C%2037.58036436587069%5D%2C%20%5B126.80091228188235%2C%2037.5854309825683%5D%2C%20%5B126.80289369340177%2C%2037.58621464221784%5D%2C%20%5B126.80131704756816%2C%2037.58839794302751%5D%2C%20%5B126.80149834313248%2C%2037.59012749570681%5D%2C%20%5B126.7996634054858%2C%2037.59296530943065%5D%2C%20%5B126.79910601240701%2C%2037.59569886491464%5D%2C%20%5B126.80046544382346%2C%2037.59827267924192%5D%2C%20%5B126.80198459129242%2C%2037.598541940075755%5D%2C%20%5B126.80268446118524%2C%2037.601312560472834%5D%2C%20%5B126.80393696882469%2C%2037.601857300987895%5D%2C%20%5B126.80759006979085%2C%2037.60089755124775%5D%2C%20%5B126.81814502537962%2C%2037.591566052513244%5D%2C%20%5B126.82251438477105%2C%2037.5880430810082%5D%2C%20%5B126.82891304761237%2C%2037.5855611764797%5D%2C%20%5B126.85302823436479%2C%2037.57282468882299%5D%2C%20%5B126.85984199399667%2C%2037.571847855292745%5D%5D%5D%2C%20%22type%22%3A%20%22Polygon%22%7D%2C%20%22properties%22%3A%20%7B%22base_year%22%3A%20%222013%22%2C%20%22code%22%3A%20%2211160%22%2C%20%22name%22%3A%20%22%5Cuac15%5Cuc11c%5Cuad6c%22%2C%20%22name_eng%22%3A%20%22Gangseo-gu%22%7D%2C%20%22type%22%3A%20%22Feature%22%7D%2C%20%7B%22geometry%22%3A%20%7B%22coordinates%22%3A%20%5B%5B%5B126.8242331426722%2C%2037.53788078753248%5D%2C%20%5B126.82889818288362%2C%2037.53909381305992%5D%2C%20%5B126.83017074557299%2C%2037.542611079015344%5D%2C%20%5B126.83191667070415%2C%2037.54146500511403%5D%2C%20%5B126.8325348945036%2C%2037.538953250433295%5D%2C%20%5B126.83522688458329%2C%2037.539042988809484%5D%2C%20%5B126.83716591765655%2C%2037.534935320492906%5D%2C%20%5B126.836555914069%2C%2037.53367208325903%5D%2C%20%5B126.84257291943153%2C%2037.52373707805596%5D%2C%20%5B126.85098397861944%2C%2037.525098716169985%5D%2C%20%5B126.86610073476395%2C%2037.52699964144669%5D%2C%20%5B126.8655037497872%2C%2037.53382926555605%5D%2C%20%5B126.86582129720519%2C%2037.53817151116851%5D%2C%20%5B126.86426635332332%2C%2037.54172958759955%5D%2C%20%5B126.86637464321238%2C%2037.54859191094823%5D%2C%20%5B126.8727924099192%2C%2037.544853699294116%5D%2C%20%5B126.8761093656006%2C%2037.54412882794802%5D%2C%20%5B126.88280520161935%2C%2037.545072121233225%5D%2C%20%5B126.8872486543506%2C%2037.54079100234749%5D%2C%20%5B126.88825757860099%2C%2037.54079733630232%5D%2C%20%5B126.88938421776182%2C%2037.54060159145325%5D%2C%20%5B126.89339176028666%2C%2037.533030814524004%5D%2C%20%5B126.89361739665432%2C%2037.53033899535983%5D%2C%20%5B126.89213569003026%2C%2037.52757969298779%5D%2C%20%5B126.89057378109133%2C%2037.52792091672938%5D%2C%20%5B126.88904768965743%2C%2037.525856504359034%5D%2C%20%5B126.88382776477316%2C%2037.52352483439659%5D%2C%20%5B126.88260109180834%2C%2037.52242565920786%5D%2C%20%5B126.88191372979959%2C%2037.51939416754389%5D%2C%20%5B126.88156402353862%2C%2037.513970034765684%5D%2C%20%5B126.88054908630636%2C%2037.51148026214697%5D%2C%20%5B126.87556919864359%2C%2037.505720626918%5D%2C%20%5B126.87432642792102%2C%2037.50260287829134%5D%2C%20%5B126.87109220473953%2C%2037.50203922322315%5D%2C%20%5B126.86795186545288%2C%2037.502755995885714%5D%2C%20%5B126.86525729660478%2C%2037.502448483868896%5D%2C%20%5B126.86454914535695%2C%2037.50388350542007%5D%2C%20%5B126.86219488732715%2C%2037.50388438562706%5D%2C%20%5B126.8602448049945%2C%2037.50714262450898%5D%2C%20%5B126.85767018319959%2C%2037.50643578404816%5D%2C%20%5B126.8549910115563%2C%2037.507774255244875%5D%2C%20%5B126.8521985385098%2C%2037.507310601432195%5D%2C%20%5B126.85079659934003%2C%2037.50601938589165%5D%2C%20%5B126.84730715497963%2C%2037.50522159123912%5D%2C%20%5B126.84689618668257%2C%2037.50287086505149%5D%2C%20%5B126.8421330711049%2C%2037.50273297478404%5D%2C%20%5B126.84270526111828%2C%2037.501190052842375%5D%2C%20%5B126.8385046623421%2C%2037.49965438083505%5D%2C%20%5B126.8341914436862%2C%2037.50238060850881%5D%2C%20%5B126.8312211095328%2C%2037.50541191299514%5D%2C%20%5B126.82688081517314%2C%2037.50548972232896%5D%2C%20%5B126.82609821744505%2C%2037.507816771867255%5D%2C%20%5B126.82665326173496%2C%2037.510416148524136%5D%2C%20%5B126.82529622550616%2C%2037.513385210403136%5D%2C%20%5B126.82763384465879%2C%2037.516923263281946%5D%2C%20%5B126.8273575421771%2C%2037.52002629298419%5D%2C%20%5B126.83054711509516%2C%2037.52390261457357%5D%2C%20%5B126.82938708105253%2C%2037.5268052663749%5D%2C%20%5B126.8276955169658%2C%2037.52706155314193%5D%2C%20%5B126.82389942108053%2C%2037.53199443525418%5D%2C%20%5B126.8242331426722%2C%2037.53788078753248%5D%5D%5D%2C%20%22type%22%3A%20%22Polygon%22%7D%2C%20%22properties%22%3A%20%7B%22base_year%22%3A%20%222013%22%2C%20%22code%22%3A%20%2211150%22%2C%20%22name%22%3A%20%22%5Cuc591%5Cucc9c%5Cuad6c%22%2C%20%22name_eng%22%3A%20%22Yangcheon-gu%22%7D%2C%20%22type%22%3A%20%22Feature%22%7D%2C%20%7B%22geometry%22%3A%20%7B%22coordinates%22%3A%20%5B%5B%5B126.90522065831053%2C%2037.57409700522574%5D%2C%20%5B126.90370105002282%2C%2037.57266722738834%5D%2C%20%5B126.90687243065778%2C%2037.57059762097416%5D%2C%20%5B126.92189004506%2C%2037.56391798973296%5D%2C%20%5B126.92778174854314%2C%2037.562495624023775%5D%2C%20%5B126.93034243306369%2C%2037.56054720372433%5D%2C%20%5B126.92881397392811%2C%2037.558202848902%5D%2C%20%5B126.92872097190046%2C%2037.556034533941734%5D%2C%20%5B126.93898161798973%2C%2037.552310003728124%5D%2C%20%5B126.94314477022111%2C%2037.5536460848349%5D%2C%20%5B126.95916768398142%2C%2037.55468176051932%5D%2C%20%5B126.96080686210321%2C%2037.55386236039188%5D%2C%20%5B126.96358226710812%2C%2037.55605635475154%5D%2C%20%5B126.96519694864509%2C%2037.55362533505407%5D%2C%20%5B126.96380145704283%2C%2037.55254525759954%5D%2C%20%5B126.96448570553055%2C%2037.548705692021635%5D%2C%20%5B126.96604189284825%2C%2037.546894141748815%5D%2C%20%5B126.96401856825223%2C%2037.54584596959762%5D%2C%20%5B126.96231305253527%2C%2037.543511558047456%5D%2C%20%5B126.9605977865388%2C%2037.542661954880806%5D%2C%20%5B126.95926437828754%2C%2037.53897908363236%5D%2C%20%5B126.95340780191557%2C%2037.533494726370755%5D%2C%20%5B126.94717864071288%2C%2037.53213495568077%5D%2C%20%5B126.94566733083212%2C%2037.526617542453366%5D%2C%20%5B126.93680342222562%2C%2037.53344577095931%5D%2C%20%5B126.93132557924062%2C%2037.53415416375281%5D%2C%20%5B126.90829204147958%2C%2037.539206065016785%5D%2C%20%5B126.90281125423546%2C%2037.54133630026083%5D%2C%20%5B126.89184663862764%2C%2037.547373974997114%5D%2C%20%5B126.87997924964915%2C%2037.55510740490174%5D%2C%20%5B126.86837407967381%2C%2037.56309561411933%5D%2C%20%5B126.8604929702619%2C%2037.566825621733905%5D%2C%20%5B126.85950389772532%2C%2037.5682771531189%5D%2C%20%5B126.85984199399667%2C%2037.571847855292745%5D%2C%20%5B126.85993476176495%2C%2037.5728262143511%5D%2C%20%5B126.8638132887273%2C%2037.57306147014704%5D%2C%20%5B126.86560520354786%2C%2037.57385540098251%5D%2C%20%5B126.86766286078968%2C%2037.57269227137124%5D%2C%20%5B126.87008117117851%2C%2037.574598289168996%5D%2C%20%5B126.87282267062741%2C%2037.574956427500126%5D%2C%20%5B126.8779661566318%2C%2037.57680133323819%5D%2C%20%5B126.87918874599603%2C%2037.5796889248137%5D%2C%20%5B126.87876320682938%2C%2037.581327335058546%5D%2C%20%5B126.88107183862735%2C%2037.583788024645344%5D%2C%20%5B126.88237824849728%2C%2037.586847436468204%5D%2C%20%5B126.88433284773288%2C%2037.588143322880526%5D%2C%20%5B126.89150044994719%2C%2037.58202374305761%5D%2C%20%5B126.89532313269488%2C%2037.579420322822145%5D%2C%20%5B126.89738573904876%2C%2037.578668647687564%5D%2C%20%5B126.90023584510952%2C%2037.575506080437606%5D%2C%20%5B126.90373193212757%2C%2037.573123712282076%5D%2C%20%5B126.90522065831053%2C%2037.57409700522574%5D%5D%5D%2C%20%22type%22%3A%20%22Polygon%22%7D%2C%20%22properties%22%3A%20%7B%22base_year%22%3A%20%222013%22%2C%20%22code%22%3A%20%2211140%22%2C%20%22name%22%3A%20%22%5Cub9c8%5Cud3ec%5Cuad6c%22%2C%20%22name_eng%22%3A%20%22Mapo-gu%22%7D%2C%20%22type%22%3A%20%22Feature%22%7D%2C%20%7B%22geometry%22%3A%20%7B%22coordinates%22%3A%20%5B%5B%5B126.9524752030572%2C%2037.60508692737045%5D%2C%20%5B126.95480868778256%2C%2037.60381765067903%5D%2C%20%5B126.95564117002459%2C%2037.601827148276776%5D%2C%20%5B126.95484771718951%2C%2037.59761368186209%5D%2C%20%5B126.95619178283661%2C%2037.59575826218021%5D%2C%20%5B126.95924434840931%2C%2037.59545024466215%5D%2C%20%5B126.95842779914786%2C%2037.592356673207824%5D%2C%20%5B126.960424902266%2C%2037.58868913291801%5D%2C%20%5B126.96048802632431%2C%2037.587202077053746%5D%2C%20%5B126.95879970726017%2C%2037.58189826471162%5D%2C%20%5B126.96177754536156%2C%2037.57970124256911%5D%2C%20%5B126.95789326971087%2C%2037.57793453336025%5D%2C%20%5B126.95565425846463%2C%2037.576080790881456%5D%2C%20%5B126.96873633279075%2C%2037.56313604690827%5D%2C%20%5B126.97169209525231%2C%2037.55921654641677%5D%2C%20%5B126.96900073076728%2C%2037.55850929094393%5D%2C%20%5B126.96570855677983%2C%2037.556512377492325%5D%2C%20%5B126.96358226710812%2C%2037.55605635475154%5D%2C%20%5B126.96080686210321%2C%2037.55386236039188%5D%2C%20%5B126.95916768398142%2C%2037.55468176051932%5D%2C%20%5B126.94314477022111%2C%2037.5536460848349%5D%2C%20%5B126.93898161798973%2C%2037.552310003728124%5D%2C%20%5B126.92872097190046%2C%2037.556034533941734%5D%2C%20%5B126.92881397392811%2C%2037.558202848902%5D%2C%20%5B126.93034243306369%2C%2037.56054720372433%5D%2C%20%5B126.92778174854314%2C%2037.562495624023775%5D%2C%20%5B126.92189004506%2C%2037.56391798973296%5D%2C%20%5B126.90687243065778%2C%2037.57059762097416%5D%2C%20%5B126.90370105002282%2C%2037.57266722738834%5D%2C%20%5B126.90522065831053%2C%2037.57409700522574%5D%2C%20%5B126.91464724464083%2C%2037.583228529985455%5D%2C%20%5B126.91827498278953%2C%2037.58276881451649%5D%2C%20%5B126.91792000144513%2C%2037.58034997804668%5D%2C%20%5B126.92444169370404%2C%2037.581233899739914%5D%2C%20%5B126.92596484570709%2C%2037.58441659356971%5D%2C%20%5B126.9281697003186%2C%2037.584376616028365%5D%2C%20%5B126.9302171100533%2C%2037.58559126746845%5D%2C%20%5B126.92996402426377%2C%2037.58767009299767%5D%2C%20%5B126.93104958440722%2C%2037.58996937993664%5D%2C%20%5B126.93575441237547%2C%2037.593605788596975%5D%2C%20%5B126.94277481511082%2C%2037.59587806191211%5D%2C%20%5B126.94359054641505%2C%2037.60034871312552%5D%2C%20%5B126.94451473597087%2C%2037.60203195380752%5D%2C%20%5B126.94701525068315%2C%2037.602028095480975%5D%2C%20%5B126.94919787550161%2C%2037.60506379949065%5D%2C%20%5B126.9524752030572%2C%2037.60508692737045%5D%5D%5D%2C%20%22type%22%3A%20%22Polygon%22%7D%2C%20%22properties%22%3A%20%7B%22base_year%22%3A%20%222013%22%2C%20%22code%22%3A%20%2211130%22%2C%20%22name%22%3A%20%22%5Cuc11c%5Cub300%5Cubb38%5Cuad6c%22%2C%20%22name_eng%22%3A%20%22Seodaemun-gu%22%7D%2C%20%22type%22%3A%20%22Feature%22%7D%2C%20%7B%22geometry%22%3A%20%7B%22coordinates%22%3A%20%5B%5B%5B126.9738864128702%2C%2037.62949634786888%5D%2C%20%5B126.97135221665513%2C%2037.62743418897386%5D%2C%20%5B126.96164158910712%2C%2037.62569322976388%5D%2C%20%5B126.95885198650147%2C%2037.6225761621008%5D%2C%20%5B126.95427017006129%2C%2037.622033431339425%5D%2C%20%5B126.95393421039743%2C%2037.61877981567335%5D%2C%20%5B126.9528332649861%2C%2037.6161065117682%5D%2C%20%5B126.95145384404022%2C%2037.61493028446385%5D%2C%20%5B126.95249458941419%2C%2037.61333750249896%5D%2C%20%5B126.95308190738618%2C%2037.60926681659027%5D%2C%20%5B126.95187994741721%2C%2037.60600915874973%5D%2C%20%5B126.9524752030572%2C%2037.60508692737045%5D%2C%20%5B126.94919787550161%2C%2037.60506379949065%5D%2C%20%5B126.94701525068315%2C%2037.602028095480975%5D%2C%20%5B126.94451473597087%2C%2037.60203195380752%5D%2C%20%5B126.94359054641505%2C%2037.60034871312552%5D%2C%20%5B126.94277481511082%2C%2037.59587806191211%5D%2C%20%5B126.93575441237547%2C%2037.593605788596975%5D%2C%20%5B126.93104958440722%2C%2037.58996937993664%5D%2C%20%5B126.92996402426377%2C%2037.58767009299767%5D%2C%20%5B126.9302171100533%2C%2037.58559126746845%5D%2C%20%5B126.9281697003186%2C%2037.584376616028365%5D%2C%20%5B126.92596484570709%2C%2037.58441659356971%5D%2C%20%5B126.92444169370404%2C%2037.581233899739914%5D%2C%20%5B126.91792000144513%2C%2037.58034997804668%5D%2C%20%5B126.91827498278953%2C%2037.58276881451649%5D%2C%20%5B126.91464724464083%2C%2037.583228529985455%5D%2C%20%5B126.90522065831053%2C%2037.57409700522574%5D%2C%20%5B126.90373193212757%2C%2037.573123712282076%5D%2C%20%5B126.90023584510952%2C%2037.575506080437606%5D%2C%20%5B126.89738573904876%2C%2037.578668647687564%5D%2C%20%5B126.89532313269488%2C%2037.579420322822145%5D%2C%20%5B126.89150044994719%2C%2037.58202374305761%5D%2C%20%5B126.88433284773288%2C%2037.588143322880526%5D%2C%20%5B126.88715278104091%2C%2037.59100341655796%5D%2C%20%5B126.88936046370014%2C%2037.59099007316069%5D%2C%20%5B126.88753401663872%2C%2037.58829545592628%5D%2C%20%5B126.88935419108029%2C%2037.58580092310326%5D%2C%20%5B126.89349057571656%2C%2037.585662344444785%5D%2C%20%5B126.89532781702978%2C%2037.58637054299599%5D%2C%20%5B126.89905466698256%2C%2037.58582731337662%5D%2C%20%5B126.9019347597747%2C%2037.58707359614439%5D%2C%20%5B126.9010825805882%2C%2037.58986595756633%5D%2C%20%5B126.90396681003595%2C%2037.59227403419942%5D%2C%20%5B126.90321089756087%2C%2037.594542731935476%5D%2C%20%5B126.90358350094938%2C%2037.59657528019595%5D%2C%20%5B126.90235425214276%2C%2037.60036302950128%5D%2C%20%5B126.90417801431465%2C%2037.60102912046836%5D%2C%20%5B126.90396561274416%2C%2037.60721180273151%5D%2C%20%5B126.90303066177668%2C%2037.609977911401344%5D%2C%20%5B126.90548675623195%2C%2037.61601216482774%5D%2C%20%5B126.90721633741286%2C%2037.6164590533837%5D%2C%20%5B126.90935539569412%2C%2037.61912234588074%5D%2C%20%5B126.90852982623917%2C%2037.62123670148755%5D%2C%20%5B126.91081768678396%2C%2037.62338674837964%5D%2C%20%5B126.91117179533428%2C%2037.62562846875194%5D%2C%20%5B126.90862530043799%2C%2037.62973539928895%5D%2C%20%5B126.91295124779275%2C%2037.633086577991136%5D%2C%20%5B126.91232131977827%2C%2037.635879167956396%5D%2C%20%5B126.91380622398978%2C%2037.63822817856539%5D%2C%20%5B126.91455481429648%2C%2037.64150050996935%5D%2C%20%5B126.9097405206299%2C%2037.643548736416925%5D%2C%20%5B126.9104285840059%2C%2037.64469477594629%5D%2C%20%5B126.91598194662826%2C%2037.64192000919822%5D%2C%20%5B126.92335892549015%2C%2037.642768849393626%5D%2C%20%5B126.92751618877016%2C%2037.644656244616336%5D%2C%20%5B126.93099150738166%2C%2037.64717805899008%5D%2C%20%5B126.93658892420821%2C%2037.64777520545395%5D%2C%20%5B126.93914008753828%2C%2037.64914400014214%5D%2C%20%5B126.94248904852749%2C%2037.65384179343651%5D%2C%20%5B126.94571884127255%2C%2037.655369042036206%5D%2C%20%5B126.94940373004215%2C%2037.656145979585894%5D%2C%20%5B126.94982400027399%2C%2037.65461320918016%5D%2C%20%5B126.95334970767568%2C%2037.65216408903825%5D%2C%20%5B126.956473797387%2C%2037.652480737339445%5D%2C%20%5B126.9588647426878%2C%2037.6498628918019%5D%2C%20%5B126.95972824076269%2C%2037.64638504253487%5D%2C%20%5B126.96223689995006%2C%2037.64553441285544%5D%2C%20%5B126.96424221141602%2C%2037.64071627640099%5D%2C%20%5B126.96652025322855%2C%2037.640285044901944%5D%2C%20%5B126.97092373342322%2C%2037.63589354812246%5D%2C%20%5B126.97086605626453%2C%2037.633738820281394%5D%2C%20%5B126.9738864128702%2C%2037.62949634786888%5D%5D%5D%2C%20%22type%22%3A%20%22Polygon%22%7D%2C%20%22properties%22%3A%20%7B%22base_year%22%3A%20%222013%22%2C%20%22code%22%3A%20%2211120%22%2C%20%22name%22%3A%20%22%5Cuc740%5Cud3c9%5Cuad6c%22%2C%20%22name_eng%22%3A%20%22Eunpyeong-gu%22%7D%2C%20%22type%22%3A%20%22Feature%22%7D%2C%20%7B%22geometry%22%3A%20%7B%22coordinates%22%3A%20%5B%5B%5B127.10782277688129%2C%2037.61804244241069%5D%2C%20%5B127.10361952102048%2C%2037.61701182935077%5D%2C%20%5B127.10191523948123%2C%2037.61531698025357%5D%2C%20%5B127.09825969127313%2C%2037.61431077622918%5D%2C%20%5B127.09125855705382%2C%2037.61703046232404%5D%2C%20%5B127.08796048322492%2C%2037.617471883010936%5D%2C%20%5B127.08325130652017%2C%2037.61626773063051%5D%2C%20%5B127.07351243825278%2C%2037.61283660342313%5D%2C%20%5B127.07011594002495%2C%2037.6127769191002%5D%2C%20%5B127.06726783142085%2C%2037.61136014256744%5D%2C%20%5B127.06412260483201%2C%2037.6115839902766%5D%2C%20%5B127.05631594723272%2C%2037.61738373018764%5D%2C%20%5B127.05209373568619%2C%2037.62164065487782%5D%2C%20%5B127.04999984182327%2C%2037.62412061598568%5D%2C%20%5B127.04358800895609%2C%2037.62848931298715%5D%2C%20%5B127.046042857549%2C%2037.630647660209426%5D%2C%20%5B127.0471214260595%2C%2037.63407841321815%5D%2C%20%5B127.05227148282157%2C%2037.642016305290156%5D%2C%20%5B127.05704472959141%2C%2037.63797342537787%5D%2C%20%5B127.05800075220091%2C%2037.64318263878276%5D%2C%20%5B127.05640030258566%2C%2037.648142414223344%5D%2C%20%5B127.05620364700786%2C%2037.65295201497795%5D%2C%20%5B127.05366382763933%2C%2037.65780685245659%5D%2C%20%5B127.05343284205686%2C%2037.660866393548005%5D%2C%20%5B127.05093085431419%2C%2037.666308257661356%5D%2C%20%5B127.05124324520023%2C%2037.6703356616521%5D%2C%20%5B127.05259811896667%2C%2037.67463041579101%5D%2C%20%5B127.05402878877452%2C%2037.682018621183914%5D%2C%20%5B127.05288479710485%2C%2037.68423857084347%5D%2C%20%5B127.05673771202906%2C%2037.68650223136443%5D%2C%20%5B127.05893512852644%2C%2037.68678532745334%5D%2C%20%5B127.06366923747898%2C%2037.68598834805241%5D%2C%20%5B127.06722106517597%2C%2037.68706409219909%5D%2C%20%5B127.07150256171397%2C%2037.69158365999211%5D%2C%20%5B127.07502582169255%2C%2037.691675325399515%5D%2C%20%5B127.07945174893383%2C%2037.693602239076704%5D%2C%20%5B127.0838752703195%2C%2037.69359534202034%5D%2C%20%5B127.08640047239444%2C%2037.69122798275615%5D%2C%20%5B127.08834747450551%2C%2037.68753106067129%5D%2C%20%5B127.09706391309695%2C%2037.686383719372294%5D%2C%20%5B127.09839746601683%2C%2037.682954904948026%5D%2C%20%5B127.09481040538887%2C%2037.678799295731295%5D%2C%20%5B127.0939394572467%2C%2037.676403111386776%5D%2C%20%5B127.09572273018789%2C%2037.673837879820674%5D%2C%20%5B127.09657954289648%2C%2037.670746511824845%5D%2C%20%5B127.09767362583241%2C%2037.67002252402865%5D%2C%20%5B127.0980220884148%2C%2037.66742967749355%5D%2C%20%5B127.09621282296045%2C%2037.66347990019021%5D%2C%20%5B127.09845931549125%2C%2037.659077182069595%5D%2C%20%5B127.0978618070161%2C%2037.656734861475485%5D%2C%20%5B127.08845241642267%2C%2037.65271564775536%5D%2C%20%5B127.09496093471334%2C%2037.65209266377008%5D%2C%20%5B127.09618835483448%2C%2037.65001330395237%5D%2C%20%5B127.09440766298717%2C%2037.64713490473045%5D%2C%20%5B127.09686381732382%2C%2037.642772590812655%5D%2C%20%5B127.10024317327698%2C%2037.642337895238754%5D%2C%20%5B127.10266382494892%2C%2037.64291284604662%5D%2C%20%5B127.11014084969742%2C%2037.641850613893396%5D%2C%20%5B127.11406637789241%2C%2037.63742154695932%5D%2C%20%5B127.1144974746579%2C%2037.632439003890255%5D%2C%20%5B127.11309628774731%2C%2037.627803407908374%5D%2C%20%5B127.10737639048635%2C%2037.62412346388371%5D%2C%20%5B127.10736111050278%2C%2037.62243873312504%5D%2C%20%5B127.10561964188106%2C%2037.620112931875134%5D%2C%20%5B127.10782277688129%2C%2037.61804244241069%5D%5D%5D%2C%20%22type%22%3A%20%22Polygon%22%7D%2C%20%22properties%22%3A%20%7B%22base_year%22%3A%20%222013%22%2C%20%22code%22%3A%20%2211110%22%2C%20%22name%22%3A%20%22%5Cub178%5Cuc6d0%5Cuad6c%22%2C%20%22name_eng%22%3A%20%22Nowon-gu%22%7D%2C%20%22type%22%3A%20%22Feature%22%7D%2C%20%7B%22geometry%22%3A%20%7B%22coordinates%22%3A%20%5B%5B%5B127.05288479710485%2C%2037.68423857084347%5D%2C%20%5B127.05402878877452%2C%2037.682018621183914%5D%2C%20%5B127.05259811896667%2C%2037.67463041579101%5D%2C%20%5B127.05124324520023%2C%2037.6703356616521%5D%2C%20%5B127.05093085431419%2C%2037.666308257661356%5D%2C%20%5B127.05343284205686%2C%2037.660866393548005%5D%2C%20%5B127.05366382763933%2C%2037.65780685245659%5D%2C%20%5B127.05620364700786%2C%2037.65295201497795%5D%2C%20%5B127.05640030258566%2C%2037.648142414223344%5D%2C%20%5B127.05800075220091%2C%2037.64318263878276%5D%2C%20%5B127.05704472959141%2C%2037.63797342537787%5D%2C%20%5B127.05227148282157%2C%2037.642016305290156%5D%2C%20%5B127.0471214260595%2C%2037.63407841321815%5D%2C%20%5B127.046042857549%2C%2037.630647660209426%5D%2C%20%5B127.04358800895609%2C%2037.62848931298715%5D%2C%20%5B127.04058571489718%2C%2037.6311245692538%5D%2C%20%5B127.03905574421407%2C%2037.63395360172076%5D%2C%20%5B127.03660759925259%2C%2037.63506293914692%5D%2C%20%5B127.03477664182829%2C%2037.63884292238491%5D%2C%20%5B127.02950136469548%2C%2037.64228467033725%5D%2C%20%5B127.0265542519312%2C%2037.644688649276304%5D%2C%20%5B127.02233660280599%2C%2037.64628067142158%5D%2C%20%5B127.01772305897457%2C%2037.64631597694605%5D%2C%20%5B127.01534913067235%2C%2037.64765266597785%5D%2C%20%5B127.01465935892466%2C%2037.64943687496812%5D%2C%20%5B127.01599412132472%2C%2037.65623256113309%5D%2C%20%5B127.01726703299362%2C%2037.65880555518138%5D%2C%20%5B127.01776269066357%2C%2037.66391319760785%5D%2C%20%5B127.02062116141389%2C%2037.667173575971205%5D%2C%20%5B127.01873683359163%2C%2037.66988242479123%5D%2C%20%5B127.0159718440919%2C%2037.67258796420281%5D%2C%20%5B127.01401600772708%2C%2037.67653037200686%5D%2C%20%5B127.01073060671976%2C%2037.67694372299732%5D%2C%20%5B127.01039666042071%2C%2037.681894589603594%5D%2C%20%5B127.01103947380624%2C%2037.684405447624954%5D%2C%20%5B127.01017954927539%2C%2037.686333239654594%5D%2C%20%5B127.0109997247323%2C%2037.691942369792514%5D%2C%20%5B127.01405303313638%2C%2037.69546278140397%5D%2C%20%5B127.01645586375106%2C%2037.69548055092485%5D%2C%20%5B127.01802453368332%2C%2037.698275937456124%5D%2C%20%5B127.02143522814708%2C%2037.698589417759045%5D%2C%20%5B127.02419558273166%2C%2037.69682256792619%5D%2C%20%5B127.02700292435075%2C%2037.69665589205863%5D%2C%20%5B127.03018866626446%2C%2037.69776745888886%5D%2C%20%5B127.03132724235057%2C%2037.69621818994332%5D%2C%20%5B127.03183574218306%2C%2037.69340418484943%5D%2C%20%5B127.03328657751797%2C%2037.69010729962784%5D%2C%20%5B127.0345286215439%2C%2037.688986544260594%5D%2C%20%5B127.0379422140845%2C%2037.68943836856245%5D%2C%20%5B127.04383030416193%2C%2037.692565730249534%5D%2C%20%5B127.04510703173885%2C%2037.690951514278055%5D%2C%20%5B127.04772506731972%2C%2037.68962174626068%5D%2C%20%5B127.05108189294938%2C%2037.69116379209157%5D%2C%20%5B127.05288479710485%2C%2037.68423857084347%5D%5D%5D%2C%20%22type%22%3A%20%22Polygon%22%7D%2C%20%22properties%22%3A%20%7B%22base_year%22%3A%20%222013%22%2C%20%22code%22%3A%20%2211100%22%2C%20%22name%22%3A%20%22%5Cub3c4%5Cubd09%5Cuad6c%22%2C%20%22name_eng%22%3A%20%22Dobong-gu%22%7D%2C%20%22type%22%3A%20%22Feature%22%7D%2C%20%7B%22geometry%22%3A%20%7B%22coordinates%22%3A%20%5B%5B%5B127.01039666042071%2C%2037.681894589603594%5D%2C%20%5B127.01073060671976%2C%2037.67694372299732%5D%2C%20%5B127.01401600772708%2C%2037.67653037200686%5D%2C%20%5B127.0159718440919%2C%2037.67258796420281%5D%2C%20%5B127.01873683359163%2C%2037.66988242479123%5D%2C%20%5B127.02062116141389%2C%2037.667173575971205%5D%2C%20%5B127.01776269066357%2C%2037.66391319760785%5D%2C%20%5B127.01726703299362%2C%2037.65880555518138%5D%2C%20%5B127.01599412132472%2C%2037.65623256113309%5D%2C%20%5B127.01465935892466%2C%2037.64943687496812%5D%2C%20%5B127.01534913067235%2C%2037.64765266597785%5D%2C%20%5B127.01772305897457%2C%2037.64631597694605%5D%2C%20%5B127.02233660280599%2C%2037.64628067142158%5D%2C%20%5B127.0265542519312%2C%2037.644688649276304%5D%2C%20%5B127.02950136469548%2C%2037.64228467033725%5D%2C%20%5B127.03477664182829%2C%2037.63884292238491%5D%2C%20%5B127.03660759925259%2C%2037.63506293914692%5D%2C%20%5B127.03905574421407%2C%2037.63395360172076%5D%2C%20%5B127.04058571489718%2C%2037.6311245692538%5D%2C%20%5B127.04358800895609%2C%2037.62848931298715%5D%2C%20%5B127.04999984182327%2C%2037.62412061598568%5D%2C%20%5B127.05209373568619%2C%2037.62164065487782%5D%2C%20%5B127.04887981022048%2C%2037.61973841113549%5D%2C%20%5B127.0460676006384%2C%2037.615885647801704%5D%2C%20%5B127.0419720518426%2C%2037.612838591864076%5D%2C%20%5B127.03892400992301%2C%2037.609715611023816%5D%2C%20%5B127.03251659844592%2C%2037.60634705009134%5D%2C%20%5B127.03229982090541%2C%2037.609536104167034%5D%2C%20%5B127.02851994524015%2C%2037.60987827182396%5D%2C%20%5B127.02433990415497%2C%2037.60847763545628%5D%2C%20%5B127.02136282940177%2C%2037.610961475137174%5D%2C%20%5B127.01685658093551%2C%2037.61280115359516%5D%2C%20%5B127.0128154749523%2C%2037.613652243470256%5D%2C%20%5B127.01060611893628%2C%2037.615741236385354%5D%2C%20%5B127.00960949401902%2C%2037.61822603840364%5D%2C%20%5B127.00997935126598%2C%2037.62111906051553%5D%2C%20%5B127.00210238658002%2C%2037.622984514557714%5D%2C%20%5B126.99867431516041%2C%2037.626297613391166%5D%2C%20%5B126.99614706382866%2C%2037.62719717129899%5D%2C%20%5B126.99529660787617%2C%2037.62923863577322%5D%2C%20%5B126.9933714170822%2C%2037.62922019292486%5D%2C%20%5B126.9877052521691%2C%2037.63265610340949%5D%2C%20%5B126.98672705513869%2C%2037.63377641288196%5D%2C%20%5B126.98826481934299%2C%2037.637416984207924%5D%2C%20%5B126.98537069512379%2C%2037.64080296617396%5D%2C%20%5B126.987065858581%2C%2037.64320008084445%5D%2C%20%5B126.98580395043626%2C%2037.64699767714015%5D%2C%20%5B126.9832621473545%2C%2037.64947328029498%5D%2C%20%5B126.9817452676551%2C%2037.65209769387776%5D%2C%20%5B126.98205504313285%2C%2037.653797128044495%5D%2C%20%5B126.98709809733522%2C%2037.65651691642121%5D%2C%20%5B126.99031779354014%2C%2037.661013121145366%5D%2C%20%5B126.99494735642686%2C%2037.66223870806347%5D%2C%20%5B126.99581225370686%2C%2037.6651171428027%5D%2C%20%5B126.99622950422442%2C%2037.669428820661516%5D%2C%20%5B126.99506026831365%2C%2037.674827885285765%5D%2C%20%5B126.99384134064161%2C%2037.67665247641944%5D%2C%20%5B126.9959894573757%2C%2037.67754299691771%5D%2C%20%5B127.00000021675876%2C%2037.68100582640454%5D%2C%20%5B127.00566931208934%2C%2037.68228507374621%5D%2C%20%5B127.01039666042071%2C%2037.681894589603594%5D%5D%5D%2C%20%22type%22%3A%20%22Polygon%22%7D%2C%20%22properties%22%3A%20%7B%22base_year%22%3A%20%222013%22%2C%20%22code%22%3A%20%2211090%22%2C%20%22name%22%3A%20%22%5Cuac15%5Cubd81%5Cuad6c%22%2C%20%22name_eng%22%3A%20%22Gangbuk-gu%22%7D%2C%20%22type%22%3A%20%22Feature%22%7D%2C%20%7B%22geometry%22%3A%20%7B%22coordinates%22%3A%20%5B%5B%5B126.977175406416%2C%2037.62859715400388%5D%2C%20%5B126.9794090069433%2C%2037.63071544568365%5D%2C%20%5B126.98360012419735%2C%2037.631915771386076%5D%2C%20%5B126.98672705513869%2C%2037.63377641288196%5D%2C%20%5B126.9877052521691%2C%2037.63265610340949%5D%2C%20%5B126.9933714170822%2C%2037.62922019292486%5D%2C%20%5B126.99529660787617%2C%2037.62923863577322%5D%2C%20%5B126.99614706382866%2C%2037.62719717129899%5D%2C%20%5B126.99867431516041%2C%2037.626297613391166%5D%2C%20%5B127.00210238658002%2C%2037.622984514557714%5D%2C%20%5B127.00997935126598%2C%2037.62111906051553%5D%2C%20%5B127.00960949401902%2C%2037.61822603840364%5D%2C%20%5B127.01060611893628%2C%2037.615741236385354%5D%2C%20%5B127.0128154749523%2C%2037.613652243470256%5D%2C%20%5B127.01685658093551%2C%2037.61280115359516%5D%2C%20%5B127.02136282940177%2C%2037.610961475137174%5D%2C%20%5B127.02433990415497%2C%2037.60847763545628%5D%2C%20%5B127.02851994524015%2C%2037.60987827182396%5D%2C%20%5B127.03229982090541%2C%2037.609536104167034%5D%2C%20%5B127.03251659844592%2C%2037.60634705009134%5D%2C%20%5B127.03892400992301%2C%2037.609715611023816%5D%2C%20%5B127.0419720518426%2C%2037.612838591864076%5D%2C%20%5B127.0460676006384%2C%2037.615885647801704%5D%2C%20%5B127.04887981022048%2C%2037.61973841113549%5D%2C%20%5B127.05209373568619%2C%2037.62164065487782%5D%2C%20%5B127.05631594723272%2C%2037.61738373018764%5D%2C%20%5B127.06412260483201%2C%2037.6115839902766%5D%2C%20%5B127.06726783142085%2C%2037.61136014256744%5D%2C%20%5B127.07011594002495%2C%2037.6127769191002%5D%2C%20%5B127.07351243825278%2C%2037.61283660342313%5D%2C%20%5B127.07382707099227%2C%2037.60401928986419%5D%2C%20%5B127.07257736686556%2C%2037.60654335765868%5D%2C%20%5B127.07069716820665%2C%2037.60653037341939%5D%2C%20%5B127.07084342033339%2C%2037.60407877132597%5D%2C%20%5B127.06753185518703%2C%2037.602724214598744%5D%2C%20%5B127.06424828533608%2C%2037.60234356864383%5D%2C%20%5B127.0612685122857%2C%2037.59823077263369%5D%2C%20%5B127.059485363799%2C%2037.598743571420485%5D%2C%20%5B127.05413734593897%2C%2037.5971595374718%5D%2C%20%5B127.05238061017225%2C%2037.598312271275574%5D%2C%20%5B127.04975439355248%2C%2037.59349421284317%5D%2C%20%5B127.0461318196879%2C%2037.593514180513594%5D%2C%20%5B127.042705222094%2C%2037.59239437593391%5D%2C%20%5B127.04116895171082%2C%2037.58847599306138%5D%2C%20%5B127.0384945038446%2C%2037.587129138658426%5D%2C%20%5B127.03121630347839%2C%2037.57957997701485%5D%2C%20%5B127.02527254528003%2C%2037.57524616245249%5D%2C%20%5B127.02395698453867%2C%2037.576068086896726%5D%2C%20%5B127.02039107536422%2C%2037.575771872553595%5D%2C%20%5B127.01849412471284%2C%2037.57904760334465%5D%2C%20%5B127.01678966486051%2C%2037.57943162455397%5D%2C%20%5B127.01094467951529%2C%2037.57765758282494%5D%2C%20%5B127.00914513999258%2C%2037.57928387879304%5D%2C%20%5B127.00896672237498%2C%2037.582512606964876%5D%2C%20%5B127.00803641804285%2C%2037.5841154647404%5D%2C%20%5B127.00453322588274%2C%2037.58626325611708%5D%2C%20%5B127.00304474231643%2C%2037.58959898679736%5D%2C%20%5B126.99774058571116%2C%2037.58944568945197%5D%2C%20%5B126.99647930158565%2C%2037.58845217708608%5D%2C%20%5B126.99348293358314%2C%2037.588565457216156%5D%2C%20%5B126.98858114244759%2C%2037.58971272682123%5D%2C%20%5B126.98596926877026%2C%2037.59105697466976%5D%2C%20%5B126.98411250331745%2C%2037.59305007059415%5D%2C%20%5B126.98366752610544%2C%2037.596350797276386%5D%2C%20%5B126.98700989661556%2C%2037.59664611897289%5D%2C%20%5B126.98984276495587%2C%2037.59842301677683%5D%2C%20%5B126.9880021251863%2C%2037.60434406739665%5D%2C%20%5B126.98906118629816%2C%2037.60778324866486%5D%2C%20%5B126.98879865992384%2C%2037.6118927319756%5D%2C%20%5B126.9849070918475%2C%2037.61390303132951%5D%2C%20%5B126.98297129719916%2C%2037.61996223346171%5D%2C%20%5B126.98130955822086%2C%2037.621781567952816%5D%2C%20%5B126.98162508963613%2C%2037.626412913357804%5D%2C%20%5B126.97877284074367%2C%2037.62605559220399%5D%2C%20%5B126.977175406416%2C%2037.62859715400388%5D%5D%5D%2C%20%22type%22%3A%20%22Polygon%22%7D%2C%20%22properties%22%3A%20%7B%22base_year%22%3A%20%222013%22%2C%20%22code%22%3A%20%2211080%22%2C%20%22name%22%3A%20%22%5Cuc131%5Cubd81%5Cuad6c%22%2C%20%22name_eng%22%3A%20%22Seongbuk-gu%22%7D%2C%20%22type%22%3A%20%22Feature%22%7D%2C%20%7B%22geometry%22%3A%20%7B%22coordinates%22%3A%20%5B%5B%5B127.07351243825278%2C%2037.61283660342313%5D%2C%20%5B127.08325130652017%2C%2037.61626773063051%5D%2C%20%5B127.08796048322492%2C%2037.617471883010936%5D%2C%20%5B127.09125855705382%2C%2037.61703046232404%5D%2C%20%5B127.09825969127313%2C%2037.61431077622918%5D%2C%20%5B127.10191523948123%2C%2037.61531698025357%5D%2C%20%5B127.10361952102048%2C%2037.61701182935077%5D%2C%20%5B127.10782277688129%2C%2037.61804244241069%5D%2C%20%5B127.11345331993296%2C%2037.617863842655304%5D%2C%20%5B127.11916337651404%2C%2037.615000227833356%5D%2C%20%5B127.1187755615964%2C%2037.61339189160851%5D%2C%20%5B127.11970006573152%2C%2037.60891483985411%5D%2C%20%5B127.11876125411283%2C%2037.606109446640644%5D%2C%20%5B127.12043057261968%2C%2037.60482121408794%5D%2C%20%5B127.1201246020114%2C%2037.60178457598188%5D%2C%20%5B127.11594480655864%2C%2037.59717030173888%5D%2C%20%5B127.1161657841268%2C%2037.5962121213837%5D%2C%20%5B127.12048134936907%2C%2037.59221917979044%5D%2C%20%5B127.11993709114493%2C%2037.5912110652886%5D%2C%20%5B127.11547153661459%2C%2037.590528329194775%5D%2C%20%5B127.11264015185725%2C%2037.58640964166709%5D%2C%20%5B127.11144053497418%2C%2037.58186897928644%5D%2C%20%5B127.10355419751173%2C%2037.58101570870827%5D%2C%20%5B127.10488038804347%2C%2037.57896712496416%5D%2C%20%5B127.10478332632734%2C%2037.575507303239235%5D%2C%20%5B127.10316405057817%2C%2037.57293156986855%5D%2C%20%5B127.10304174249214%2C%2037.57076342290955%5D%2C%20%5B127.1015990771266%2C%2037.56973288819573%5D%2C%20%5B127.09327554832984%2C%2037.566762290300666%5D%2C%20%5B127.08553261581505%2C%2037.56856310839328%5D%2C%20%5B127.08068541280403%2C%2037.56906425519017%5D%2C%20%5B127.08029626481297%2C%2037.57521980955321%5D%2C%20%5B127.07912345005859%2C%2037.57855657914261%5D%2C%20%5B127.07327401376529%2C%2037.585954498442064%5D%2C%20%5B127.07152840437725%2C%2037.593413161750675%5D%2C%20%5B127.07216156147413%2C%2037.59537631888819%5D%2C%20%5B127.07457336676376%2C%2037.5983180561341%5D%2C%20%5B127.07481016030349%2C%2037.60000012932336%5D%2C%20%5B127.07382707099227%2C%2037.60401928986419%5D%2C%20%5B127.07351243825278%2C%2037.61283660342313%5D%5D%5D%2C%20%22type%22%3A%20%22Polygon%22%7D%2C%20%22properties%22%3A%20%7B%22base_year%22%3A%20%222013%22%2C%20%22code%22%3A%20%2211070%22%2C%20%22name%22%3A%20%22%5Cuc911%5Cub791%5Cuad6c%22%2C%20%22name_eng%22%3A%20%22Jungnang-gu%22%7D%2C%20%22type%22%3A%20%22Feature%22%7D%2C%20%7B%22geometry%22%3A%20%7B%22coordinates%22%3A%20%5B%5B%5B127.02527254528003%2C%2037.57524616245249%5D%2C%20%5B127.03121630347839%2C%2037.57957997701485%5D%2C%20%5B127.0384945038446%2C%2037.587129138658426%5D%2C%20%5B127.04116895171082%2C%2037.58847599306138%5D%2C%20%5B127.042705222094%2C%2037.59239437593391%5D%2C%20%5B127.0461318196879%2C%2037.593514180513594%5D%2C%20%5B127.04975439355248%2C%2037.59349421284317%5D%2C%20%5B127.05238061017225%2C%2037.598312271275574%5D%2C%20%5B127.05413734593897%2C%2037.5971595374718%5D%2C%20%5B127.059485363799%2C%2037.598743571420485%5D%2C%20%5B127.0612685122857%2C%2037.59823077263369%5D%2C%20%5B127.06424828533608%2C%2037.60234356864383%5D%2C%20%5B127.06753185518703%2C%2037.602724214598744%5D%2C%20%5B127.07084342033339%2C%2037.60407877132597%5D%2C%20%5B127.07069716820665%2C%2037.60653037341939%5D%2C%20%5B127.07257736686556%2C%2037.60654335765868%5D%2C%20%5B127.07382707099227%2C%2037.60401928986419%5D%2C%20%5B127.07481016030349%2C%2037.60000012932336%5D%2C%20%5B127.07457336676376%2C%2037.5983180561341%5D%2C%20%5B127.07216156147413%2C%2037.59537631888819%5D%2C%20%5B127.07152840437725%2C%2037.593413161750675%5D%2C%20%5B127.07327401376529%2C%2037.585954498442064%5D%2C%20%5B127.07912345005859%2C%2037.57855657914261%5D%2C%20%5B127.08029626481297%2C%2037.57521980955321%5D%2C%20%5B127.08068541280403%2C%2037.56906425519017%5D%2C%20%5B127.07421053024362%2C%2037.55724769712085%5D%2C%20%5B127.07287485628252%2C%2037.55777591771644%5D%2C%20%5B127.06151678590773%2C%2037.55942885203987%5D%2C%20%5B127.06031059899311%2C%2037.55992251180729%5D%2C%20%5B127.05005601081567%2C%2037.567577612590846%5D%2C%20%5B127.0442866611438%2C%2037.57022476304866%5D%2C%20%5B127.04003329296518%2C%2037.57010227772625%5D%2C%20%5B127.03483042272745%2C%2037.567549767306716%5D%2C%20%5B127.03182413083377%2C%2037.56712900013391%5D%2C%20%5B127.02547266349976%2C%2037.568943552237734%5D%2C%20%5B127.02527254528003%2C%2037.57524616245249%5D%5D%5D%2C%20%22type%22%3A%20%22Polygon%22%7D%2C%20%22properties%22%3A%20%7B%22base_year%22%3A%20%222013%22%2C%20%22code%22%3A%20%2211060%22%2C%20%22name%22%3A%20%22%5Cub3d9%5Cub300%5Cubb38%5Cuad6c%22%2C%20%22name_eng%22%3A%20%22Dongdaemun-gu%22%7D%2C%20%22type%22%3A%20%22Feature%22%7D%2C%20%7B%22geometry%22%3A%20%7B%22coordinates%22%3A%20%5B%5B%5B127.08068541280403%2C%2037.56906425519017%5D%2C%20%5B127.08553261581505%2C%2037.56856310839328%5D%2C%20%5B127.09327554832984%2C%2037.566762290300666%5D%2C%20%5B127.1015990771266%2C%2037.56973288819573%5D%2C%20%5B127.10304174249214%2C%2037.57076342290955%5D%2C%20%5B127.10627148043552%2C%2037.568124945986824%5D%2C%20%5B127.10545359063936%2C%2037.56685230388649%5D%2C%20%5B127.10407152037101%2C%2037.55958871940823%5D%2C%20%5B127.10325742736646%2C%2037.5572251707506%5D%2C%20%5B127.11270952006532%2C%2037.55702358575743%5D%2C%20%5B127.11519584981606%2C%2037.557533180704915%5D%2C%20%5B127.11600943681239%2C%2037.55580061507081%5D%2C%20%5B127.11600200349189%2C%2037.55053147511706%5D%2C%20%5B127.11418412219375%2C%2037.54474592090681%5D%2C%20%5B127.1116764203608%2C%2037.540669955324965%5D%2C%20%5B127.10484130265957%2C%2037.53120327509912%5D%2C%20%5B127.10087519791962%2C%2037.524841220167055%5D%2C%20%5B127.0943611414465%2C%2037.523984206117525%5D%2C%20%5B127.08639455667742%2C%2037.52161824624356%5D%2C%20%5B127.07968915919895%2C%2037.52077294752823%5D%2C%20%5B127.07496309841329%2C%2037.52091052765938%5D%2C%20%5B127.0690698130372%2C%2037.522279423505026%5D%2C%20%5B127.05867359288398%2C%2037.52629974922568%5D%2C%20%5B127.06896218881212%2C%2037.544361436565524%5D%2C%20%5B127.07580697427795%2C%2037.556641581290656%5D%2C%20%5B127.07421053024362%2C%2037.55724769712085%5D%2C%20%5B127.08068541280403%2C%2037.56906425519017%5D%5D%5D%2C%20%22type%22%3A%20%22Polygon%22%7D%2C%20%22properties%22%3A%20%7B%22base_year%22%3A%20%222013%22%2C%20%22code%22%3A%20%2211050%22%2C%20%22name%22%3A%20%22%5Cuad11%5Cuc9c4%5Cuad6c%22%2C%20%22name_eng%22%3A%20%22Gwangjin-gu%22%7D%2C%20%22type%22%3A%20%22Feature%22%7D%2C%20%7B%22geometry%22%3A%20%7B%22coordinates%22%3A%20%5B%5B%5B127.02547266349976%2C%2037.568943552237734%5D%2C%20%5B127.03182413083377%2C%2037.56712900013391%5D%2C%20%5B127.03483042272745%2C%2037.567549767306716%5D%2C%20%5B127.04003329296518%2C%2037.57010227772625%5D%2C%20%5B127.0442866611438%2C%2037.57022476304866%5D%2C%20%5B127.05005601081567%2C%2037.567577612590846%5D%2C%20%5B127.06031059899311%2C%2037.55992251180729%5D%2C%20%5B127.06151678590773%2C%2037.55942885203987%5D%2C%20%5B127.07287485628252%2C%2037.55777591771644%5D%2C%20%5B127.07421053024362%2C%2037.55724769712085%5D%2C%20%5B127.07580697427795%2C%2037.556641581290656%5D%2C%20%5B127.06896218881212%2C%2037.544361436565524%5D%2C%20%5B127.05867359288398%2C%2037.52629974922568%5D%2C%20%5B127.05116490008963%2C%2037.52975116557232%5D%2C%20%5B127.04903802830752%2C%2037.53140496708317%5D%2C%20%5B127.04806779588436%2C%2037.52970198575087%5D%2C%20%5B127.0319617044248%2C%2037.536064291470424%5D%2C%20%5B127.0269608080842%2C%2037.53484752757724%5D%2C%20%5B127.02302831890559%2C%2037.53231899582663%5D%2C%20%5B127.01689265453608%2C%2037.536101393926174%5D%2C%20%5B127.01157414590769%2C%2037.53677688273679%5D%2C%20%5B127.01043978345277%2C%2037.53905983303592%5D%2C%20%5B127.01070894177482%2C%2037.54118048964762%5D%2C%20%5B127.01172101406588%2C%2037.545252245650516%5D%2C%20%5B127.01376082027429%2C%2037.54571276061997%5D%2C%20%5B127.01889368846282%2C%2037.55057696424215%5D%2C%20%5B127.01951516360089%2C%2037.55318470254581%5D%2C%20%5B127.02174792168286%2C%2037.55473509405241%5D%2C%20%5B127.02496143707425%2C%2037.555070476260596%5D%2C%20%5B127.0257913546443%2C%2037.558352834264504%5D%2C%20%5B127.02836991434461%2C%2037.56019645010606%5D%2C%20%5B127.02881029425372%2C%2037.56219283885279%5D%2C%20%5B127.02571971403893%2C%2037.56237200595601%5D%2C%20%5B127.02547266349976%2C%2037.568943552237734%5D%5D%5D%2C%20%22type%22%3A%20%22Polygon%22%7D%2C%20%22properties%22%3A%20%7B%22base_year%22%3A%20%222013%22%2C%20%22code%22%3A%20%2211040%22%2C%20%22name%22%3A%20%22%5Cuc131%5Cub3d9%5Cuad6c%22%2C%20%22name_eng%22%3A%20%22Seongdong-gu%22%7D%2C%20%22type%22%3A%20%22Feature%22%7D%2C%20%7B%22geometry%22%3A%20%7B%22coordinates%22%3A%20%5B%5B%5B127.01070894177482%2C%2037.54118048964762%5D%2C%20%5B127.01043978345277%2C%2037.53905983303592%5D%2C%20%5B127.01157414590769%2C%2037.53677688273679%5D%2C%20%5B127.01689265453608%2C%2037.536101393926174%5D%2C%20%5B127.02302831890559%2C%2037.53231899582663%5D%2C%20%5B127.01397119667513%2C%2037.52503988289669%5D%2C%20%5B127.01022186960886%2C%2037.522020085671926%5D%2C%20%5B127.00818058911564%2C%2037.51877313923874%5D%2C%20%5B127.00583392114271%2C%2037.516905128452926%5D%2C%20%5B127.00011962020382%2C%2037.513901653034374%5D%2C%20%5B126.99148001917875%2C%2037.50990503427709%5D%2C%20%5B126.98948242685965%2C%2037.5108780134613%5D%2C%20%5B126.98458580602838%2C%2037.51070333105394%5D%2C%20%5B126.98223807916081%2C%2037.509314966770326%5D%2C%20%5B126.96670111119346%2C%2037.50997579058433%5D%2C%20%5B126.95950268374823%2C%2037.51249532165974%5D%2C%20%5B126.95551848909955%2C%2037.514736123015844%5D%2C%20%5B126.95249990298159%2C%2037.51722500741813%5D%2C%20%5B126.95003825019774%2C%2037.520781022055274%5D%2C%20%5B126.9488066464266%2C%2037.52424913252661%5D%2C%20%5B126.94566733083212%2C%2037.526617542453366%5D%2C%20%5B126.94717864071288%2C%2037.53213495568077%5D%2C%20%5B126.95340780191557%2C%2037.533494726370755%5D%2C%20%5B126.95926437828754%2C%2037.53897908363236%5D%2C%20%5B126.9605977865388%2C%2037.542661954880806%5D%2C%20%5B126.96231305253527%2C%2037.543511558047456%5D%2C%20%5B126.96401856825223%2C%2037.54584596959762%5D%2C%20%5B126.96604189284825%2C%2037.546894141748815%5D%2C%20%5B126.96448570553055%2C%2037.548705692021635%5D%2C%20%5B126.96782902931233%2C%2037.55132047039716%5D%2C%20%5B126.97427174983227%2C%2037.55109017579016%5D%2C%20%5B126.97859017732588%2C%2037.550336476582174%5D%2C%20%5B126.97925452152829%2C%2037.552184137181925%5D%2C%20%5B126.98262900956787%2C%2037.5506055959842%5D%2C%20%5B126.98584427779701%2C%2037.55023778139842%5D%2C%20%5B126.98752996903328%2C%2037.55094818807139%5D%2C%20%5B126.9899124474417%2C%2037.54869376545355%5D%2C%20%5B126.99238536723166%2C%2037.54862980831976%5D%2C%20%5B126.99742220893982%2C%2037.544438365587226%5D%2C%20%5B127.00062378484931%2C%2037.54713274618077%5D%2C%20%5B127.00478682371764%2C%2037.54680216333233%5D%2C%20%5B127.00632779182564%2C%2037.54757707053058%5D%2C%20%5B127.00694507580798%2C%2037.5433832956489%5D%2C%20%5B127.00936066823724%2C%2037.54101133407434%5D%2C%20%5B127.01070894177482%2C%2037.54118048964762%5D%5D%5D%2C%20%22type%22%3A%20%22Polygon%22%7D%2C%20%22properties%22%3A%20%7B%22base_year%22%3A%20%222013%22%2C%20%22code%22%3A%20%2211030%22%2C%20%22name%22%3A%20%22%5Cuc6a9%5Cuc0b0%5Cuad6c%22%2C%20%22name_eng%22%3A%20%22Yongsan-gu%22%7D%2C%20%22type%22%3A%20%22Feature%22%7D%2C%20%7B%22geometry%22%3A%20%7B%22coordinates%22%3A%20%5B%5B%5B127.02547266349976%2C%2037.568943552237734%5D%2C%20%5B127.02571971403893%2C%2037.56237200595601%5D%2C%20%5B127.02881029425372%2C%2037.56219283885279%5D%2C%20%5B127.02836991434461%2C%2037.56019645010606%5D%2C%20%5B127.0257913546443%2C%2037.558352834264504%5D%2C%20%5B127.02496143707425%2C%2037.555070476260596%5D%2C%20%5B127.02174792168286%2C%2037.55473509405241%5D%2C%20%5B127.01951516360089%2C%2037.55318470254581%5D%2C%20%5B127.01889368846282%2C%2037.55057696424215%5D%2C%20%5B127.01376082027429%2C%2037.54571276061997%5D%2C%20%5B127.01172101406588%2C%2037.545252245650516%5D%2C%20%5B127.01070894177482%2C%2037.54118048964762%5D%2C%20%5B127.00936066823724%2C%2037.54101133407434%5D%2C%20%5B127.00694507580798%2C%2037.5433832956489%5D%2C%20%5B127.00632779182564%2C%2037.54757707053058%5D%2C%20%5B127.00478682371764%2C%2037.54680216333233%5D%2C%20%5B127.00062378484931%2C%2037.54713274618077%5D%2C%20%5B126.99742220893982%2C%2037.544438365587226%5D%2C%20%5B126.99238536723166%2C%2037.54862980831976%5D%2C%20%5B126.9899124474417%2C%2037.54869376545355%5D%2C%20%5B126.98752996903328%2C%2037.55094818807139%5D%2C%20%5B126.98584427779701%2C%2037.55023778139842%5D%2C%20%5B126.98262900956787%2C%2037.5506055959842%5D%2C%20%5B126.97925452152829%2C%2037.552184137181925%5D%2C%20%5B126.97859017732588%2C%2037.550336476582174%5D%2C%20%5B126.97427174983227%2C%2037.55109017579016%5D%2C%20%5B126.96782902931233%2C%2037.55132047039716%5D%2C%20%5B126.96448570553055%2C%2037.548705692021635%5D%2C%20%5B126.96380145704283%2C%2037.55254525759954%5D%2C%20%5B126.96519694864509%2C%2037.55362533505407%5D%2C%20%5B126.96358226710812%2C%2037.55605635475154%5D%2C%20%5B126.96570855677983%2C%2037.556512377492325%5D%2C%20%5B126.96900073076728%2C%2037.55850929094393%5D%2C%20%5B126.97169209525231%2C%2037.55921654641677%5D%2C%20%5B126.96873633279075%2C%2037.56313604690827%5D%2C%20%5B126.97114791678374%2C%2037.56539818101368%5D%2C%20%5B126.97500684322326%2C%2037.566406971064836%5D%2C%20%5B126.97990305661519%2C%2037.5664536437083%5D%2C%20%5B126.9910070921652%2C%2037.565312022428806%5D%2C%20%5B126.99879870609924%2C%2037.56591346564579%5D%2C%20%5B127.00372480409301%2C%2037.56679519621814%5D%2C%20%5B127.01786686709805%2C%2037.56701276414023%5D%2C%20%5B127.02250839667563%2C%2037.56892943928301%5D%2C%20%5B127.02547266349976%2C%2037.568943552237734%5D%5D%5D%2C%20%22type%22%3A%20%22Polygon%22%7D%2C%20%22properties%22%3A%20%7B%22base_year%22%3A%20%222013%22%2C%20%22code%22%3A%20%2211020%22%2C%20%22name%22%3A%20%22%5Cuc911%5Cuad6c%22%2C%20%22name_eng%22%3A%20%22Jung-gu%22%7D%2C%20%22type%22%3A%20%22Feature%22%7D%2C%20%7B%22geometry%22%3A%20%7B%22coordinates%22%3A%20%5B%5B%5B126.9738864128702%2C%2037.62949634786888%5D%2C%20%5B126.977175406416%2C%2037.62859715400388%5D%2C%20%5B126.97877284074367%2C%2037.62605559220399%5D%2C%20%5B126.98162508963613%2C%2037.626412913357804%5D%2C%20%5B126.98130955822086%2C%2037.621781567952816%5D%2C%20%5B126.98297129719916%2C%2037.61996223346171%5D%2C%20%5B126.9849070918475%2C%2037.61390303132951%5D%2C%20%5B126.98879865992384%2C%2037.6118927319756%5D%2C%20%5B126.98906118629816%2C%2037.60778324866486%5D%2C%20%5B126.9880021251863%2C%2037.60434406739665%5D%2C%20%5B126.98984276495587%2C%2037.59842301677683%5D%2C%20%5B126.98700989661556%2C%2037.59664611897289%5D%2C%20%5B126.98366752610544%2C%2037.596350797276386%5D%2C%20%5B126.98411250331745%2C%2037.59305007059415%5D%2C%20%5B126.98596926877026%2C%2037.59105697466976%5D%2C%20%5B126.98858114244759%2C%2037.58971272682123%5D%2C%20%5B126.99348293358314%2C%2037.588565457216156%5D%2C%20%5B126.99647930158565%2C%2037.58845217708608%5D%2C%20%5B126.99774058571116%2C%2037.58944568945197%5D%2C%20%5B127.00304474231643%2C%2037.58959898679736%5D%2C%20%5B127.00453322588274%2C%2037.58626325611708%5D%2C%20%5B127.00803641804285%2C%2037.5841154647404%5D%2C%20%5B127.00896672237498%2C%2037.582512606964876%5D%2C%20%5B127.00914513999258%2C%2037.57928387879304%5D%2C%20%5B127.01094467951529%2C%2037.57765758282494%5D%2C%20%5B127.01678966486051%2C%2037.57943162455397%5D%2C%20%5B127.01849412471284%2C%2037.57904760334465%5D%2C%20%5B127.02039107536422%2C%2037.575771872553595%5D%2C%20%5B127.02395698453867%2C%2037.576068086896726%5D%2C%20%5B127.02527254528003%2C%2037.57524616245249%5D%2C%20%5B127.02547266349976%2C%2037.568943552237734%5D%2C%20%5B127.02250839667563%2C%2037.56892943928301%5D%2C%20%5B127.01786686709805%2C%2037.56701276414023%5D%2C%20%5B127.00372480409301%2C%2037.56679519621814%5D%2C%20%5B126.99879870609924%2C%2037.56591346564579%5D%2C%20%5B126.9910070921652%2C%2037.565312022428806%5D%2C%20%5B126.97990305661519%2C%2037.5664536437083%5D%2C%20%5B126.97500684322326%2C%2037.566406971064836%5D%2C%20%5B126.97114791678374%2C%2037.56539818101368%5D%2C%20%5B126.96873633279075%2C%2037.56313604690827%5D%2C%20%5B126.95565425846463%2C%2037.576080790881456%5D%2C%20%5B126.95789326971087%2C%2037.57793453336025%5D%2C%20%5B126.96177754536156%2C%2037.57970124256911%5D%2C%20%5B126.95879970726017%2C%2037.58189826471162%5D%2C%20%5B126.96048802632431%2C%2037.587202077053746%5D%2C%20%5B126.960424902266%2C%2037.58868913291801%5D%2C%20%5B126.95842779914786%2C%2037.592356673207824%5D%2C%20%5B126.95924434840931%2C%2037.59545024466215%5D%2C%20%5B126.95619178283661%2C%2037.59575826218021%5D%2C%20%5B126.95484771718951%2C%2037.59761368186209%5D%2C%20%5B126.95564117002459%2C%2037.601827148276776%5D%2C%20%5B126.95480868778256%2C%2037.60381765067903%5D%2C%20%5B126.9524752030572%2C%2037.60508692737045%5D%2C%20%5B126.95187994741721%2C%2037.60600915874973%5D%2C%20%5B126.95308190738618%2C%2037.60926681659027%5D%2C%20%5B126.95249458941419%2C%2037.61333750249896%5D%2C%20%5B126.95145384404022%2C%2037.61493028446385%5D%2C%20%5B126.9528332649861%2C%2037.6161065117682%5D%2C%20%5B126.95393421039743%2C%2037.61877981567335%5D%2C%20%5B126.95427017006129%2C%2037.622033431339425%5D%2C%20%5B126.95885198650147%2C%2037.6225761621008%5D%2C%20%5B126.96164158910712%2C%2037.62569322976388%5D%2C%20%5B126.97135221665513%2C%2037.62743418897386%5D%2C%20%5B126.9738864128702%2C%2037.62949634786888%5D%5D%5D%2C%20%22type%22%3A%20%22Polygon%22%7D%2C%20%22properties%22%3A%20%7B%22base_year%22%3A%20%222013%22%2C%20%22code%22%3A%20%2211010%22%2C%20%22name%22%3A%20%22%5Cuc885%5Cub85c%5Cuad6c%22%2C%20%22name_eng%22%3A%20%22Jongno-gu%22%7D%2C%20%22type%22%3A%20%22Feature%22%7D%5D%2C%20%22type%22%3A%20%22FeatureCollection%22%7D%29%3B%0A%0A%20%20%20%20%20%20%20%20%0A%20%20%20%20%0A%20%20%20%20var%20color_map_3b06b1513a1e451289d5ce2eb87a032c%20%3D%20%7B%7D%3B%0A%0A%20%20%20%20%0A%20%20%20%20color_map_3b06b1513a1e451289d5ce2eb87a032c.color%20%3D%20d3.scale.threshold%28%29%0A%20%20%20%20%20%20%20%20%20%20%20%20%20%20.domain%28%5B56257.0%2C%2056490.344689378755%2C%2056723.68937875752%2C%2056957.03406813627%2C%2057190.37875751503%2C%2057423.72344689379%2C%2057657.068136272545%2C%2057890.4128256513%2C%2058123.75751503006%2C%2058357.10220440882%2C%2058590.44689378757%2C%2058823.791583166334%2C%2059057.13627254509%2C%2059290.48096192385%2C%2059523.825651302606%2C%2059757.17034068136%2C%2059990.51503006012%2C%2060223.85971943888%2C%2060457.20440881763%2C%2060690.549098196396%2C%2060923.89378757515%2C%2061157.238476953906%2C%2061390.58316633267%2C%2061623.92785571142%2C%2061857.27254509018%2C%2062090.61723446894%2C%2062323.961923847695%2C%2062557.30661322645%2C%2062790.65130260521%2C%2063023.99599198397%2C%2063257.34068136272%2C%2063490.685370741485%2C%2063724.03006012024%2C%2063957.374749498995%2C%2064190.71943887776%2C%2064424.06412825651%2C%2064657.40881763527%2C%2064890.75350701403%2C%2065124.098196392784%2C%2065357.44288577154%2C%2065590.7875751503%2C%2065824.13226452906%2C%2066057.47695390781%2C%2066290.82164328657%2C%2066524.16633266534%2C%2066757.51102204408%2C%2066990.85571142285%2C%2067224.20040080161%2C%2067457.54509018036%2C%2067690.88977955912%2C%2067924.23446893788%2C%2068157.57915831663%2C%2068390.92384769539%2C%2068624.26853707415%2C%2068857.6132264529%2C%2069090.95791583166%2C%2069324.30260521043%2C%2069557.64729458917%2C%2069790.99198396794%2C%2070024.3366733467%2C%2070257.68136272545%2C%2070491.02605210421%2C%2070724.37074148297%2C%2070957.71543086172%2C%2071191.06012024048%2C%2071424.40480961924%2C%2071657.74949899799%2C%2071891.09418837675%2C%2072124.43887775551%2C%2072357.78356713426%2C%2072591.12825651302%2C%2072824.47294589179%2C%2073057.81763527053%2C%2073291.1623246493%2C%2073524.50701402806%2C%2073757.8517034068%2C%2073991.19639278557%2C%2074224.54108216433%2C%2074457.88577154308%2C%2074691.23046092184%2C%2074924.5751503006%2C%2075157.91983967935%2C%2075391.26452905811%2C%2075624.60921843688%2C%2075857.95390781562%2C%2076091.29859719439%2C%2076324.64328657315%2C%2076557.9879759519%2C%2076791.33266533066%2C%2077024.67735470942%2C%2077258.02204408817%2C%2077491.36673346693%2C%2077724.71142284569%2C%2077958.05611222444%2C%2078191.4008016032%2C%2078424.74549098196%2C%2078658.09018036073%2C%2078891.43486973947%2C%2079124.77955911824%2C%2079358.124248497%2C%2079591.46893787575%2C%2079824.81362725451%2C%2080058.15831663327%2C%2080291.50300601202%2C%2080524.84769539078%2C%2080758.19238476954%2C%2080991.53707414829%2C%2081224.88176352705%2C%2081458.22645290582%2C%2081691.57114228458%2C%2081924.91583166333%2C%2082158.26052104209%2C%2082391.60521042085%2C%2082624.9498997996%2C%2082858.29458917836%2C%2083091.63927855712%2C%2083324.98396793587%2C%2083558.32865731463%2C%2083791.6733466934%2C%2084025.01803607214%2C%2084258.3627254509%2C%2084491.70741482967%2C%2084725.05210420841%2C%2084958.39679358718%2C%2085191.74148296594%2C%2085425.08617234469%2C%2085658.43086172345%2C%2085891.77555110221%2C%2086125.12024048096%2C%2086358.46492985972%2C%2086591.80961923848%2C%2086825.15430861723%2C%2087058.498997996%2C%2087291.84368737476%2C%2087525.1883767535%2C%2087758.53306613227%2C%2087991.87775551103%2C%2088225.22244488978%2C%2088458.56713426854%2C%2088691.9118236473%2C%2088925.25651302605%2C%2089158.60120240481%2C%2089391.94589178357%2C%2089625.29058116232%2C%2089858.63527054108%2C%2090091.97995991984%2C%2090325.32464929859%2C%2090558.66933867735%2C%2090792.01402805612%2C%2091025.35871743486%2C%2091258.70340681363%2C%2091492.04809619239%2C%2091725.39278557114%2C%2091958.7374749499%2C%2092192.08216432866%2C%2092425.42685370741%2C%2092658.77154308617%2C%2092892.11623246493%2C%2093125.46092184368%2C%2093358.80561122244%2C%2093592.1503006012%2C%2093825.49498997995%2C%2094058.83967935872%2C%2094292.18436873748%2C%2094525.52905811623%2C%2094758.87374749499%2C%2094992.21843687375%2C%2095225.5631262525%2C%2095458.90781563126%2C%2095692.25250501002%2C%2095925.59719438877%2C%2096158.94188376753%2C%2096392.2865731463%2C%2096625.63126252504%2C%2096858.9759519038%2C%2097092.32064128257%2C%2097325.66533066132%2C%2097559.01002004008%2C%2097792.35470941884%2C%2098025.69939879759%2C%2098259.04408817635%2C%2098492.38877755511%2C%2098725.73346693386%2C%2098959.07815631262%2C%2099192.42284569138%2C%2099425.76753507013%2C%2099659.1122244489%2C%2099892.45691382766%2C%20100125.8016032064%2C%20100359.14629258518%2C%20100592.49098196393%2C%20100825.83567134268%2C%20101059.18036072145%2C%20101292.5250501002%2C%20101525.86973947895%2C%20101759.21442885773%2C%20101992.55911823647%2C%20102225.90380761522%2C%20102459.248496994%2C%20102692.59318637275%2C%20102925.9378757515%2C%20103159.28256513027%2C%20103392.62725450902%2C%20103625.97194388777%2C%20103859.31663326654%2C%20104092.66132264529%2C%20104326.00601202404%2C%20104559.35070140281%2C%20104792.69539078156%2C%20105026.04008016031%2C%20105259.38476953909%2C%20105492.72945891783%2C%20105726.07414829658%2C%20105959.41883767536%2C%20106192.7635270541%2C%20106426.10821643287%2C%20106659.45290581163%2C%20106892.79759519038%2C%20107126.14228456914%2C%20107359.4869739479%2C%20107592.83166332665%2C%20107826.17635270541%2C%20108059.52104208418%2C%20108292.86573146292%2C%20108526.21042084169%2C%20108759.55511022045%2C%20108992.8997995992%2C%20109226.24448897796%2C%20109459.58917835672%2C%20109692.93386773547%2C%20109926.27855711423%2C%20110159.62324649299%2C%20110392.96793587174%2C%20110626.3126252505%2C%20110859.65731462926%2C%20111093.00200400801%2C%20111326.34669338677%2C%20111559.69138276554%2C%20111793.03607214428%2C%20112026.38076152305%2C%20112259.72545090181%2C%20112493.07014028056%2C%20112726.41482965932%2C%20112959.75951903808%2C%20113193.10420841683%2C%20113426.44889779559%2C%20113659.79358717435%2C%20113893.1382765531%2C%20114126.48296593186%2C%20114359.82765531063%2C%20114593.17234468937%2C%20114826.51703406814%2C%20115059.8617234469%2C%20115293.20641282565%2C%20115526.55110220441%2C%20115759.89579158317%2C%20115993.24048096192%2C%20116226.58517034068%2C%20116459.92985971944%2C%20116693.27454909819%2C%20116926.61923847695%2C%20117159.96392785572%2C%20117393.30861723446%2C%20117626.65330661323%2C%20117859.99799599199%2C%20118093.34268537074%2C%20118326.6873747495%2C%20118560.03206412826%2C%20118793.37675350701%2C%20119026.72144288577%2C%20119260.06613226453%2C%20119493.41082164328%2C%20119726.75551102204%2C%20119960.1002004008%2C%20120193.44488977955%2C%20120426.78957915831%2C%20120660.13426853708%2C%20120893.47895791582%2C%20121126.82364729459%2C%20121360.16833667335%2C%20121593.5130260521%2C%20121826.85771543086%2C%20122060.20240480962%2C%20122293.54709418838%2C%20122526.89178356713%2C%20122760.2364729459%2C%20122993.58116232466%2C%20123226.9258517034%2C%20123460.27054108217%2C%20123693.61523046093%2C%20123926.95991983968%2C%20124160.30460921844%2C%20124393.6492985972%2C%20124626.99398797595%2C%20124860.33867735471%2C%20125093.68336673347%2C%20125327.02805611222%2C%20125560.37274549098%2C%20125793.71743486974%2C%20126027.06212424849%2C%20126260.40681362725%2C%20126493.75150300602%2C%20126727.09619238476%2C%20126960.44088176353%2C%20127193.78557114229%2C%20127427.13026052104%2C%20127660.4749498998%2C%20127893.81963927856%2C%20128127.16432865731%2C%20128360.50901803607%2C%20128593.85370741483%2C%20128827.19839679358%2C%20129060.54308617234%2C%20129293.8877755511%2C%20129527.23246492985%2C%20129760.57715430862%2C%20129993.92184368738%2C%20130227.26653306613%2C%20130460.61122244489%2C%20130693.95591182365%2C%20130927.3006012024%2C%20131160.64529058116%2C%20131393.9899799599%2C%20131627.33466933866%2C%20131860.67935871743%2C%20132094.0240480962%2C%20132327.36873747496%2C%20132560.7134268537%2C%20132794.05811623245%2C%20133027.40280561123%2C%20133260.74749498998%2C%20133494.09218436875%2C%20133727.4368737475%2C%20133960.78156312625%2C%20134194.126252505%2C%20134427.47094188377%2C%20134660.81563126252%2C%20134894.1603206413%2C%20135127.50501002005%2C%20135360.8496993988%2C%20135594.19438877754%2C%20135827.53907815632%2C%20136060.88376753507%2C%20136294.22845691384%2C%20136527.5731462926%2C%20136760.91783567134%2C%20136994.2625250501%2C%20137227.60721442886%2C%20137460.9519038076%2C%20137694.2965931864%2C%20137927.64128256514%2C%20138160.98597194388%2C%20138394.33066132263%2C%20138627.6753507014%2C%20138861.02004008016%2C%20139094.36472945893%2C%20139327.70941883768%2C%20139561.05410821643%2C%20139794.39879759517%2C%20140027.74348697395%2C%20140261.0881763527%2C%20140494.43286573148%2C%20140727.77755511022%2C%20140961.12224448897%2C%20141194.46693386772%2C%20141427.8116232465%2C%20141661.15631262524%2C%20141894.50100200402%2C%20142127.84569138277%2C%20142361.19038076152%2C%20142594.53507014026%2C%20142827.87975951904%2C%20143061.2244488978%2C%20143294.56913827657%2C%20143527.9138276553%2C%20143761.25851703406%2C%20143994.6032064128%2C%20144227.94789579159%2C%20144461.29258517036%2C%20144694.6372745491%2C%20144927.98196392786%2C%20145161.3266533066%2C%20145394.67134268535%2C%20145628.01603206413%2C%20145861.3607214429%2C%20146094.70541082165%2C%20146328.0501002004%2C%20146561.39478957915%2C%20146794.7394789579%2C%20147028.08416833667%2C%20147261.42885771545%2C%20147494.7735470942%2C%20147728.11823647295%2C%20147961.4629258517%2C%20148194.80761523044%2C%20148428.15230460922%2C%20148661.496993988%2C%20148894.84168336674%2C%20149128.1863727455%2C%20149361.53106212424%2C%20149594.875751503%2C%20149828.22044088176%2C%20150061.56513026054%2C%20150294.9098196393%2C%20150528.25450901804%2C%20150761.59919839678%2C%20150994.94388777553%2C%20151228.2885771543%2C%20151461.63326653308%2C%20151694.97795591183%2C%20151928.32264529058%2C%20152161.66733466933%2C%20152395.01202404808%2C%20152628.35671342685%2C%20152861.70140280563%2C%20153095.04609218438%2C%20153328.39078156312%2C%20153561.73547094187%2C%20153795.08016032062%2C%20154028.4248496994%2C%20154261.76953907817%2C%20154495.11422845692%2C%20154728.45891783567%2C%20154961.80360721442%2C%20155195.14829659316%2C%20155428.49298597194%2C%20155661.83767535072%2C%20155895.18236472947%2C%20156128.5270541082%2C%20156361.87174348696%2C%20156595.21643286574%2C%20156828.5611222445%2C%20157061.90581162326%2C%20157295.250501002%2C%20157528.59519038076%2C%20157761.9398797595%2C%20157995.28456913828%2C%20158228.62925851703%2C%20158461.9739478958%2C%20158695.31863727455%2C%20158928.6633266533%2C%20159162.00801603205%2C%20159395.35270541083%2C%20159628.69739478957%2C%20159862.04208416835%2C%20160095.3867735471%2C%20160328.73146292585%2C%20160562.0761523046%2C%20160795.42084168337%2C%20161028.76553106212%2C%20161262.1102204409%2C%20161495.45490981964%2C%20161728.7995991984%2C%20161962.14428857714%2C%20162195.48897795592%2C%20162428.83366733466%2C%20162662.17835671344%2C%20162895.5230460922%2C%20163128.86773547094%2C%20163362.21242484968%2C%20163595.55711422846%2C%20163828.9018036072%2C%20164062.24649298599%2C%20164295.59118236473%2C%20164528.93587174348%2C%20164762.28056112223%2C%20164995.625250501%2C%20165228.96993987975%2C%20165462.31462925853%2C%20165695.65931863728%2C%20165929.00400801603%2C%20166162.34869739477%2C%20166395.69338677355%2C%20166629.0380761523%2C%20166862.38276553107%2C%20167095.72745490982%2C%20167329.07214428857%2C%20167562.41683366732%2C%20167795.7615230461%2C%20168029.10621242487%2C%20168262.45090180362%2C%20168495.79559118237%2C%20168729.1402805611%2C%20168962.48496993986%2C%20169195.82965931864%2C%20169429.17434869742%2C%20169662.51903807616%2C%20169895.8637274549%2C%20170129.20841683366%2C%20170362.5531062124%2C%20170595.89779559118%2C%20170829.24248496996%2C%20171062.5871743487%2C%20171295.93186372746%2C%20171529.2765531062%2C%20171762.62124248495%2C%20171995.96593186373%2C%20172229.3106212425%2C%20172462.65531062125%2C%20172696.0%5D%29%0A%20%20%20%20%20%20%20%20%20%20%20%20%20%20.range%28%5B%27%23eff3ffff%27%2C%20%27%23eff3ffff%27%2C%20%27%23eff3ffff%27%2C%20%27%23eff3ffff%27%2C%20%27%23eff3ffff%27%2C%20%27%23eff3ffff%27%2C%20%27%23eff3ffff%27%2C%20%27%23eff3ffff%27%2C%20%27%23eff3ffff%27%2C%20%27%23eff3ffff%27%2C%20%27%23eff3ffff%27%2C%20%27%23eff3ffff%27%2C%20%27%23eff3ffff%27%2C%20%27%23eff3ffff%27%2C%20%27%23eff3ffff%27%2C%20%27%23eff3ffff%27%2C%20%27%23eff3ffff%27%2C%20%27%23eff3ffff%27%2C%20%27%23eff3ffff%27%2C%20%27%23eff3ffff%27%2C%20%27%23eff3ffff%27%2C%20%27%23eff3ffff%27%2C%20%27%23eff3ffff%27%2C%20%27%23eff3ffff%27%2C%20%27%23eff3ffff%27%2C%20%27%23eff3ffff%27%2C%20%27%23eff3ffff%27%2C%20%27%23eff3ffff%27%2C%20%27%23eff3ffff%27%2C%20%27%23eff3ffff%27%2C%20%27%23eff3ffff%27%2C%20%27%23eff3ffff%27%2C%20%27%23eff3ffff%27%2C%20%27%23eff3ffff%27%2C%20%27%23eff3ffff%27%2C%20%27%23eff3ffff%27%2C%20%27%23eff3ffff%27%2C%20%27%23eff3ffff%27%2C%20%27%23eff3ffff%27%2C%20%27%23eff3ffff%27%2C%20%27%23eff3ffff%27%2C%20%27%23eff3ffff%27%2C%20%27%23eff3ffff%27%2C%20%27%23eff3ffff%27%2C%20%27%23eff3ffff%27%2C%20%27%23eff3ffff%27%2C%20%27%23eff3ffff%27%2C%20%27%23eff3ffff%27%2C%20%27%23eff3ffff%27%2C%20%27%23eff3ffff%27%2C%20%27%23eff3ffff%27%2C%20%27%23eff3ffff%27%2C%20%27%23eff3ffff%27%2C%20%27%23eff3ffff%27%2C%20%27%23eff3ffff%27%2C%20%27%23eff3ffff%27%2C%20%27%23eff3ffff%27%2C%20%27%23eff3ffff%27%2C%20%27%23eff3ffff%27%2C%20%27%23eff3ffff%27%2C%20%27%23eff3ffff%27%2C%20%27%23eff3ffff%27%2C%20%27%23eff3ffff%27%2C%20%27%23eff3ffff%27%2C%20%27%23eff3ffff%27%2C%20%27%23eff3ffff%27%2C%20%27%23eff3ffff%27%2C%20%27%23eff3ffff%27%2C%20%27%23eff3ffff%27%2C%20%27%23eff3ffff%27%2C%20%27%23eff3ffff%27%2C%20%27%23eff3ffff%27%2C%20%27%23eff3ffff%27%2C%20%27%23eff3ffff%27%2C%20%27%23eff3ffff%27%2C%20%27%23eff3ffff%27%2C%20%27%23eff3ffff%27%2C%20%27%23eff3ffff%27%2C%20%27%23eff3ffff%27%2C%20%27%23eff3ffff%27%2C%20%27%23eff3ffff%27%2C%20%27%23eff3ffff%27%2C%20%27%23eff3ffff%27%2C%20%27%23eff3ffff%27%2C%20%27%23c6dbefff%27%2C%20%27%23c6dbefff%27%2C%20%27%23c6dbefff%27%2C%20%27%23c6dbefff%27%2C%20%27%23c6dbefff%27%2C%20%27%23c6dbefff%27%2C%20%27%23c6dbefff%27%2C%20%27%23c6dbefff%27%2C%20%27%23c6dbefff%27%2C%20%27%23c6dbefff%27%2C%20%27%23c6dbefff%27%2C%20%27%23c6dbefff%27%2C%20%27%23c6dbefff%27%2C%20%27%23c6dbefff%27%2C%20%27%23c6dbefff%27%2C%20%27%23c6dbefff%27%2C%20%27%23c6dbefff%27%2C%20%27%23c6dbefff%27%2C%20%27%23c6dbefff%27%2C%20%27%23c6dbefff%27%2C%20%27%23c6dbefff%27%2C%20%27%23c6dbefff%27%2C%20%27%23c6dbefff%27%2C%20%27%23c6dbefff%27%2C%20%27%23c6dbefff%27%2C%20%27%23c6dbefff%27%2C%20%27%23c6dbefff%27%2C%20%27%23c6dbefff%27%2C%20%27%23c6dbefff%27%2C%20%27%23c6dbefff%27%2C%20%27%23c6dbefff%27%2C%20%27%23c6dbefff%27%2C%20%27%23c6dbefff%27%2C%20%27%23c6dbefff%27%2C%20%27%23c6dbefff%27%2C%20%27%23c6dbefff%27%2C%20%27%23c6dbefff%27%2C%20%27%23c6dbefff%27%2C%20%27%23c6dbefff%27%2C%20%27%23c6dbefff%27%2C%20%27%23c6dbefff%27%2C%20%27%23c6dbefff%27%2C%20%27%23c6dbefff%27%2C%20%27%23c6dbefff%27%2C%20%27%23c6dbefff%27%2C%20%27%23c6dbefff%27%2C%20%27%23c6dbefff%27%2C%20%27%23c6dbefff%27%2C%20%27%23c6dbefff%27%2C%20%27%23c6dbefff%27%2C%20%27%23c6dbefff%27%2C%20%27%23c6dbefff%27%2C%20%27%23c6dbefff%27%2C%20%27%23c6dbefff%27%2C%20%27%23c6dbefff%27%2C%20%27%23c6dbefff%27%2C%20%27%23c6dbefff%27%2C%20%27%23c6dbefff%27%2C%20%27%23c6dbefff%27%2C%20%27%23c6dbefff%27%2C%20%27%23c6dbefff%27%2C%20%27%23c6dbefff%27%2C%20%27%23c6dbefff%27%2C%20%27%23c6dbefff%27%2C%20%27%23c6dbefff%27%2C%20%27%23c6dbefff%27%2C%20%27%23c6dbefff%27%2C%20%27%23c6dbefff%27%2C%20%27%23c6dbefff%27%2C%20%27%23c6dbefff%27%2C%20%27%23c6dbefff%27%2C%20%27%23c6dbefff%27%2C%20%27%23c6dbefff%27%2C%20%27%23c6dbefff%27%2C%20%27%23c6dbefff%27%2C%20%27%23c6dbefff%27%2C%20%27%23c6dbefff%27%2C%20%27%23c6dbefff%27%2C%20%27%23c6dbefff%27%2C%20%27%23c6dbefff%27%2C%20%27%23c6dbefff%27%2C%20%27%23c6dbefff%27%2C%20%27%23c6dbefff%27%2C%20%27%239ecae1ff%27%2C%20%27%239ecae1ff%27%2C%20%27%239ecae1ff%27%2C%20%27%239ecae1ff%27%2C%20%27%239ecae1ff%27%2C%20%27%239ecae1ff%27%2C%20%27%239ecae1ff%27%2C%20%27%239ecae1ff%27%2C%20%27%239ecae1ff%27%2C%20%27%239ecae1ff%27%2C%20%27%239ecae1ff%27%2C%20%27%239ecae1ff%27%2C%20%27%239ecae1ff%27%2C%20%27%239ecae1ff%27%2C%20%27%239ecae1ff%27%2C%20%27%239ecae1ff%27%2C%20%27%239ecae1ff%27%2C%20%27%239ecae1ff%27%2C%20%27%239ecae1ff%27%2C%20%27%239ecae1ff%27%2C%20%27%239ecae1ff%27%2C%20%27%239ecae1ff%27%2C%20%27%239ecae1ff%27%2C%20%27%239ecae1ff%27%2C%20%27%239ecae1ff%27%2C%20%27%239ecae1ff%27%2C%20%27%239ecae1ff%27%2C%20%27%239ecae1ff%27%2C%20%27%239ecae1ff%27%2C%20%27%239ecae1ff%27%2C%20%27%239ecae1ff%27%2C%20%27%239ecae1ff%27%2C%20%27%239ecae1ff%27%2C%20%27%239ecae1ff%27%2C%20%27%239ecae1ff%27%2C%20%27%239ecae1ff%27%2C%20%27%239ecae1ff%27%2C%20%27%239ecae1ff%27%2C%20%27%239ecae1ff%27%2C%20%27%239ecae1ff%27%2C%20%27%239ecae1ff%27%2C%20%27%239ecae1ff%27%2C%20%27%239ecae1ff%27%2C%20%27%239ecae1ff%27%2C%20%27%239ecae1ff%27%2C%20%27%239ecae1ff%27%2C%20%27%239ecae1ff%27%2C%20%27%239ecae1ff%27%2C%20%27%239ecae1ff%27%2C%20%27%239ecae1ff%27%2C%20%27%239ecae1ff%27%2C%20%27%239ecae1ff%27%2C%20%27%239ecae1ff%27%2C%20%27%239ecae1ff%27%2C%20%27%239ecae1ff%27%2C%20%27%239ecae1ff%27%2C%20%27%239ecae1ff%27%2C%20%27%239ecae1ff%27%2C%20%27%239ecae1ff%27%2C%20%27%239ecae1ff%27%2C%20%27%239ecae1ff%27%2C%20%27%239ecae1ff%27%2C%20%27%239ecae1ff%27%2C%20%27%239ecae1ff%27%2C%20%27%239ecae1ff%27%2C%20%27%239ecae1ff%27%2C%20%27%239ecae1ff%27%2C%20%27%239ecae1ff%27%2C%20%27%239ecae1ff%27%2C%20%27%239ecae1ff%27%2C%20%27%239ecae1ff%27%2C%20%27%239ecae1ff%27%2C%20%27%239ecae1ff%27%2C%20%27%239ecae1ff%27%2C%20%27%239ecae1ff%27%2C%20%27%239ecae1ff%27%2C%20%27%239ecae1ff%27%2C%20%27%239ecae1ff%27%2C%20%27%239ecae1ff%27%2C%20%27%239ecae1ff%27%2C%20%27%239ecae1ff%27%2C%20%27%239ecae1ff%27%2C%20%27%239ecae1ff%27%2C%20%27%236baed6ff%27%2C%20%27%236baed6ff%27%2C%20%27%236baed6ff%27%2C%20%27%236baed6ff%27%2C%20%27%236baed6ff%27%2C%20%27%236baed6ff%27%2C%20%27%236baed6ff%27%2C%20%27%236baed6ff%27%2C%20%27%236baed6ff%27%2C%20%27%236baed6ff%27%2C%20%27%236baed6ff%27%2C%20%27%236baed6ff%27%2C%20%27%236baed6ff%27%2C%20%27%236baed6ff%27%2C%20%27%236baed6ff%27%2C%20%27%236baed6ff%27%2C%20%27%236baed6ff%27%2C%20%27%236baed6ff%27%2C%20%27%236baed6ff%27%2C%20%27%236baed6ff%27%2C%20%27%236baed6ff%27%2C%20%27%236baed6ff%27%2C%20%27%236baed6ff%27%2C%20%27%236baed6ff%27%2C%20%27%236baed6ff%27%2C%20%27%236baed6ff%27%2C%20%27%236baed6ff%27%2C%20%27%236baed6ff%27%2C%20%27%236baed6ff%27%2C%20%27%236baed6ff%27%2C%20%27%236baed6ff%27%2C%20%27%236baed6ff%27%2C%20%27%236baed6ff%27%2C%20%27%236baed6ff%27%2C%20%27%236baed6ff%27%2C%20%27%236baed6ff%27%2C%20%27%236baed6ff%27%2C%20%27%236baed6ff%27%2C%20%27%236baed6ff%27%2C%20%27%236baed6ff%27%2C%20%27%236baed6ff%27%2C%20%27%236baed6ff%27%2C%20%27%236baed6ff%27%2C%20%27%236baed6ff%27%2C%20%27%236baed6ff%27%2C%20%27%236baed6ff%27%2C%20%27%236baed6ff%27%2C%20%27%236baed6ff%27%2C%20%27%236baed6ff%27%2C%20%27%236baed6ff%27%2C%20%27%236baed6ff%27%2C%20%27%236baed6ff%27%2C%20%27%236baed6ff%27%2C%20%27%236baed6ff%27%2C%20%27%236baed6ff%27%2C%20%27%236baed6ff%27%2C%20%27%236baed6ff%27%2C%20%27%236baed6ff%27%2C%20%27%236baed6ff%27%2C%20%27%236baed6ff%27%2C%20%27%236baed6ff%27%2C%20%27%236baed6ff%27%2C%20%27%236baed6ff%27%2C%20%27%236baed6ff%27%2C%20%27%236baed6ff%27%2C%20%27%236baed6ff%27%2C%20%27%236baed6ff%27%2C%20%27%236baed6ff%27%2C%20%27%236baed6ff%27%2C%20%27%236baed6ff%27%2C%20%27%236baed6ff%27%2C%20%27%236baed6ff%27%2C%20%27%236baed6ff%27%2C%20%27%236baed6ff%27%2C%20%27%236baed6ff%27%2C%20%27%236baed6ff%27%2C%20%27%236baed6ff%27%2C%20%27%236baed6ff%27%2C%20%27%236baed6ff%27%2C%20%27%236baed6ff%27%2C%20%27%236baed6ff%27%2C%20%27%236baed6ff%27%2C%20%27%236baed6ff%27%2C%20%27%233182bdff%27%2C%20%27%233182bdff%27%2C%20%27%233182bdff%27%2C%20%27%233182bdff%27%2C%20%27%233182bdff%27%2C%20%27%233182bdff%27%2C%20%27%233182bdff%27%2C%20%27%233182bdff%27%2C%20%27%233182bdff%27%2C%20%27%233182bdff%27%2C%20%27%233182bdff%27%2C%20%27%233182bdff%27%2C%20%27%233182bdff%27%2C%20%27%233182bdff%27%2C%20%27%233182bdff%27%2C%20%27%233182bdff%27%2C%20%27%233182bdff%27%2C%20%27%233182bdff%27%2C%20%27%233182bdff%27%2C%20%27%233182bdff%27%2C%20%27%233182bdff%27%2C%20%27%233182bdff%27%2C%20%27%233182bdff%27%2C%20%27%233182bdff%27%2C%20%27%233182bdff%27%2C%20%27%233182bdff%27%2C%20%27%233182bdff%27%2C%20%27%233182bdff%27%2C%20%27%233182bdff%27%2C%20%27%233182bdff%27%2C%20%27%233182bdff%27%2C%20%27%233182bdff%27%2C%20%27%233182bdff%27%2C%20%27%233182bdff%27%2C%20%27%233182bdff%27%2C%20%27%233182bdff%27%2C%20%27%233182bdff%27%2C%20%27%233182bdff%27%2C%20%27%233182bdff%27%2C%20%27%233182bdff%27%2C%20%27%233182bdff%27%2C%20%27%233182bdff%27%2C%20%27%233182bdff%27%2C%20%27%233182bdff%27%2C%20%27%233182bdff%27%2C%20%27%233182bdff%27%2C%20%27%233182bdff%27%2C%20%27%233182bdff%27%2C%20%27%233182bdff%27%2C%20%27%233182bdff%27%2C%20%27%233182bdff%27%2C%20%27%233182bdff%27%2C%20%27%233182bdff%27%2C%20%27%233182bdff%27%2C%20%27%233182bdff%27%2C%20%27%233182bdff%27%2C%20%27%233182bdff%27%2C%20%27%233182bdff%27%2C%20%27%233182bdff%27%2C%20%27%233182bdff%27%2C%20%27%233182bdff%27%2C%20%27%233182bdff%27%2C%20%27%233182bdff%27%2C%20%27%233182bdff%27%2C%20%27%233182bdff%27%2C%20%27%233182bdff%27%2C%20%27%233182bdff%27%2C%20%27%233182bdff%27%2C%20%27%233182bdff%27%2C%20%27%233182bdff%27%2C%20%27%233182bdff%27%2C%20%27%233182bdff%27%2C%20%27%233182bdff%27%2C%20%27%233182bdff%27%2C%20%27%233182bdff%27%2C%20%27%233182bdff%27%2C%20%27%233182bdff%27%2C%20%27%233182bdff%27%2C%20%27%233182bdff%27%2C%20%27%233182bdff%27%2C%20%27%233182bdff%27%2C%20%27%233182bdff%27%2C%20%27%233182bdff%27%2C%20%27%2308519cff%27%2C%20%27%2308519cff%27%2C%20%27%2308519cff%27%2C%20%27%2308519cff%27%2C%20%27%2308519cff%27%2C%20%27%2308519cff%27%2C%20%27%2308519cff%27%2C%20%27%2308519cff%27%2C%20%27%2308519cff%27%2C%20%27%2308519cff%27%2C%20%27%2308519cff%27%2C%20%27%2308519cff%27%2C%20%27%2308519cff%27%2C%20%27%2308519cff%27%2C%20%27%2308519cff%27%2C%20%27%2308519cff%27%2C%20%27%2308519cff%27%2C%20%27%2308519cff%27%2C%20%27%2308519cff%27%2C%20%27%2308519cff%27%2C%20%27%2308519cff%27%2C%20%27%2308519cff%27%2C%20%27%2308519cff%27%2C%20%27%2308519cff%27%2C%20%27%2308519cff%27%2C%20%27%2308519cff%27%2C%20%27%2308519cff%27%2C%20%27%2308519cff%27%2C%20%27%2308519cff%27%2C%20%27%2308519cff%27%2C%20%27%2308519cff%27%2C%20%27%2308519cff%27%2C%20%27%2308519cff%27%2C%20%27%2308519cff%27%2C%20%27%2308519cff%27%2C%20%27%2308519cff%27%2C%20%27%2308519cff%27%2C%20%27%2308519cff%27%2C%20%27%2308519cff%27%2C%20%27%2308519cff%27%2C%20%27%2308519cff%27%2C%20%27%2308519cff%27%2C%20%27%2308519cff%27%2C%20%27%2308519cff%27%2C%20%27%2308519cff%27%2C%20%27%2308519cff%27%2C%20%27%2308519cff%27%2C%20%27%2308519cff%27%2C%20%27%2308519cff%27%2C%20%27%2308519cff%27%2C%20%27%2308519cff%27%2C%20%27%2308519cff%27%2C%20%27%2308519cff%27%2C%20%27%2308519cff%27%2C%20%27%2308519cff%27%2C%20%27%2308519cff%27%2C%20%27%2308519cff%27%2C%20%27%2308519cff%27%2C%20%27%2308519cff%27%2C%20%27%2308519cff%27%2C%20%27%2308519cff%27%2C%20%27%2308519cff%27%2C%20%27%2308519cff%27%2C%20%27%2308519cff%27%2C%20%27%2308519cff%27%2C%20%27%2308519cff%27%2C%20%27%2308519cff%27%2C%20%27%2308519cff%27%2C%20%27%2308519cff%27%2C%20%27%2308519cff%27%2C%20%27%2308519cff%27%2C%20%27%2308519cff%27%2C%20%27%2308519cff%27%2C%20%27%2308519cff%27%2C%20%27%2308519cff%27%2C%20%27%2308519cff%27%2C%20%27%2308519cff%27%2C%20%27%2308519cff%27%2C%20%27%2308519cff%27%2C%20%27%2308519cff%27%2C%20%27%2308519cff%27%2C%20%27%2308519cff%27%2C%20%27%2308519cff%27%2C%20%27%2308519cff%27%5D%29%3B%0A%20%20%20%20%0A%0A%20%20%20%20color_map_3b06b1513a1e451289d5ce2eb87a032c.x%20%3D%20d3.scale.linear%28%29%0A%20%20%20%20%20%20%20%20%20%20%20%20%20%20.domain%28%5B56257.0%2C%20172696.0%5D%29%0A%20%20%20%20%20%20%20%20%20%20%20%20%20%20.range%28%5B0%2C%20400%5D%29%3B%0A%0A%20%20%20%20color_map_3b06b1513a1e451289d5ce2eb87a032c.legend%20%3D%20L.control%28%7Bposition%3A%20%27topright%27%7D%29%3B%0A%20%20%20%20color_map_3b06b1513a1e451289d5ce2eb87a032c.legend.onAdd%20%3D%20function%20%28map%29%20%7Bvar%20div%20%3D%20L.DomUtil.create%28%27div%27%2C%20%27legend%27%29%3B%20return%20div%7D%3B%0A%20%20%20%20color_map_3b06b1513a1e451289d5ce2eb87a032c.legend.addTo%28map_cec155c712fb482a9628ddf01fe33eb5%29%3B%0A%0A%20%20%20%20color_map_3b06b1513a1e451289d5ce2eb87a032c.xAxis%20%3D%20d3.svg.axis%28%29%0A%20%20%20%20%20%20%20%20.scale%28color_map_3b06b1513a1e451289d5ce2eb87a032c.x%29%0A%20%20%20%20%20%20%20%20.orient%28%22top%22%29%0A%20%20%20%20%20%20%20%20.tickSize%281%29%0A%20%20%20%20%20%20%20%20.tickValues%28%5B56257.0%2C%2075663.5%2C%2095070.0%2C%20114476.5%2C%20133883.0%2C%20153289.5%2C%20172696.0%5D%29%3B%0A%0A%20%20%20%20color_map_3b06b1513a1e451289d5ce2eb87a032c.svg%20%3D%20d3.select%28%22.legend.leaflet-control%22%29.append%28%22svg%22%29%0A%20%20%20%20%20%20%20%20.attr%28%22id%22%2C%20%27legend%27%29%0A%20%20%20%20%20%20%20%20.attr%28%22width%22%2C%20450%29%0A%20%20%20%20%20%20%20%20.attr%28%22height%22%2C%2040%29%3B%0A%0A%20%20%20%20color_map_3b06b1513a1e451289d5ce2eb87a032c.g%20%3D%20color_map_3b06b1513a1e451289d5ce2eb87a032c.svg.append%28%22g%22%29%0A%20%20%20%20%20%20%20%20.attr%28%22class%22%2C%20%22key%22%29%0A%20%20%20%20%20%20%20%20.attr%28%22transform%22%2C%20%22translate%2825%2C16%29%22%29%3B%0A%0A%20%20%20%20color_map_3b06b1513a1e451289d5ce2eb87a032c.g.selectAll%28%22rect%22%29%0A%20%20%20%20%20%20%20%20.data%28color_map_3b06b1513a1e451289d5ce2eb87a032c.color.range%28%29.map%28function%28d%2C%20i%29%20%7B%0A%20%20%20%20%20%20%20%20%20%20return%20%7B%0A%20%20%20%20%20%20%20%20%20%20%20%20x0%3A%20i%20%3F%20color_map_3b06b1513a1e451289d5ce2eb87a032c.x%28color_map_3b06b1513a1e451289d5ce2eb87a032c.color.domain%28%29%5Bi%20-%201%5D%29%20%3A%20color_map_3b06b1513a1e451289d5ce2eb87a032c.x.range%28%29%5B0%5D%2C%0A%20%20%20%20%20%20%20%20%20%20%20%20x1%3A%20i%20%3C%20color_map_3b06b1513a1e451289d5ce2eb87a032c.color.domain%28%29.length%20%3F%20color_map_3b06b1513a1e451289d5ce2eb87a032c.x%28color_map_3b06b1513a1e451289d5ce2eb87a032c.color.domain%28%29%5Bi%5D%29%20%3A%20color_map_3b06b1513a1e451289d5ce2eb87a032c.x.range%28%29%5B1%5D%2C%0A%20%20%20%20%20%20%20%20%20%20%20%20z%3A%20d%0A%20%20%20%20%20%20%20%20%20%20%7D%3B%0A%20%20%20%20%20%20%20%20%7D%29%29%0A%20%20%20%20%20%20.enter%28%29.append%28%22rect%22%29%0A%20%20%20%20%20%20%20%20.attr%28%22height%22%2C%2010%29%0A%20%20%20%20%20%20%20%20.attr%28%22x%22%2C%20function%28d%29%20%7B%20return%20d.x0%3B%20%7D%29%0A%20%20%20%20%20%20%20%20.attr%28%22width%22%2C%20function%28d%29%20%7B%20return%20d.x1%20-%20d.x0%3B%20%7D%29%0A%20%20%20%20%20%20%20%20.style%28%22fill%22%2C%20function%28d%29%20%7B%20return%20d.z%3B%20%7D%29%3B%0A%0A%20%20%20%20color_map_3b06b1513a1e451289d5ce2eb87a032c.g.call%28color_map_3b06b1513a1e451289d5ce2eb87a032c.xAxis%29.append%28%22text%22%29%0A%20%20%20%20%20%20%20%20.attr%28%22class%22%2C%20%22caption%22%29%0A%20%20%20%20%20%20%20%20.attr%28%22y%22%2C%2021%29%0A%20%20%20%20%20%20%20%20.text%28%27%EB%8B%A8%EC%86%8D%EA%B1%B4%EC%88%98%20Rate%20%28%25%29%27%29%3B%0A%20%20%20%20%0A%20%20%20%20%20%20%20%20%20%20%20%20var%20layer_control_7d1c7f59bc5a47c0982648a6170d2d02%20%3D%20%7B%0A%20%20%20%20%20%20%20%20%20%20%20%20%20%20%20%20base_layers%20%3A%20%7B%0A%20%20%20%20%20%20%20%20%20%20%20%20%20%20%20%20%20%20%20%20%22openstreetmap%22%20%3A%20tile_layer_9673d3e34e5f421e911e89dcd0f7e95f%2C%0A%20%20%20%20%20%20%20%20%20%20%20%20%20%20%20%20%7D%2C%0A%20%20%20%20%20%20%20%20%20%20%20%20%20%20%20%20overlays%20%3A%20%20%7B%0A%20%20%20%20%20%20%20%20%20%20%20%20%20%20%20%20%20%20%20%20%22macro_element_a7cf615ec84f418a94944bcbf5ae1a42%22%20%3A%20choropleth_a7cf615ec84f418a94944bcbf5ae1a42%2C%0A%20%20%20%20%20%20%20%20%20%20%20%20%20%20%20%20%7D%2C%0A%20%20%20%20%20%20%20%20%20%20%20%20%7D%3B%0A%20%20%20%20%20%20%20%20%20%20%20%20L.control.layers%28%0A%20%20%20%20%20%20%20%20%20%20%20%20%20%20%20%20layer_control_7d1c7f59bc5a47c0982648a6170d2d02.base_layers%2C%0A%20%20%20%20%20%20%20%20%20%20%20%20%20%20%20%20layer_control_7d1c7f59bc5a47c0982648a6170d2d02.overlays%2C%0A%20%20%20%20%20%20%20%20%20%20%20%20%20%20%20%20%7B%22autoZIndex%22%3A%20true%2C%20%22collapsed%22%3A%20true%2C%20%22position%22%3A%20%22topright%22%7D%0A%20%20%20%20%20%20%20%20%20%20%20%20%29.addTo%28map_cec155c712fb482a9628ddf01fe33eb5%29%3B%0A%20%20%20%20%20%20%20%20%0A%3C/script%3E onload=\"this.contentDocument.open();this.contentDocument.write(    decodeURIComponent(this.getAttribute('data-html')));this.contentDocument.close();\" allowfullscreen webkitallowfullscreen mozallowfullscreen></iframe></div></div>"
      ],
      "text/plain": [
       "<folium.folium.Map at 0x144d30d9460>"
      ]
     },
     "execution_count": 26,
     "metadata": {},
     "output_type": "execute_result"
    }
   ],
   "source": [
    "m = folium.Map([37.476281, 126.958369], tiles=\"OpenStreetMap\", zoom_start=10)\n",
    "folium.Choropleth(\n",
    "    geo_data=geo_json, \n",
    "    data=a,\n",
    "    columns=['구', '주정차 단속건수'],\n",
    "    key_on='feature.properties.name', \n",
    "    fill_color='Blues', \n",
    "    fill_opacity=0.6,\n",
    "    line_opacity=0.2,\n",
    "    legend_name='단속건수 Rate (%)'\n",
    ").add_to(m) \n",
    "folium.LayerControl().add_to(m) \n",
    "m"
   ]
  },
  {
   "cell_type": "code",
   "execution_count": 68,
   "metadata": {},
   "outputs": [
    {
     "data": {
      "text/html": [
       "<div>\n",
       "<style scoped>\n",
       "    .dataframe tbody tr th:only-of-type {\n",
       "        vertical-align: middle;\n",
       "    }\n",
       "\n",
       "    .dataframe tbody tr th {\n",
       "        vertical-align: top;\n",
       "    }\n",
       "\n",
       "    .dataframe thead th {\n",
       "        text-align: right;\n",
       "    }\n",
       "</style>\n",
       "<table border=\"1\" class=\"dataframe\">\n",
       "  <thead>\n",
       "    <tr style=\"text-align: right;\">\n",
       "      <th></th>\n",
       "      <th>연도</th>\n",
       "      <th>구</th>\n",
       "      <th>동명</th>\n",
       "      <th>주정차 단속건수</th>\n",
       "      <th>위도</th>\n",
       "      <th>경도</th>\n",
       "    </tr>\n",
       "  </thead>\n",
       "  <tbody>\n",
       "    <tr>\n",
       "      <th>0</th>\n",
       "      <td>2020</td>\n",
       "      <td>관악구</td>\n",
       "      <td>낙성대동</td>\n",
       "      <td>1699</td>\n",
       "      <td>37.476281</td>\n",
       "      <td>126.958369</td>\n",
       "    </tr>\n",
       "    <tr>\n",
       "      <th>1</th>\n",
       "      <td>2020</td>\n",
       "      <td>관악구</td>\n",
       "      <td>난곡동</td>\n",
       "      <td>2533</td>\n",
       "      <td>37.471024</td>\n",
       "      <td>126.921689</td>\n",
       "    </tr>\n",
       "    <tr>\n",
       "      <th>2</th>\n",
       "      <td>2020</td>\n",
       "      <td>관악구</td>\n",
       "      <td>난향동</td>\n",
       "      <td>388</td>\n",
       "      <td>37.461554</td>\n",
       "      <td>126.918807</td>\n",
       "    </tr>\n",
       "    <tr>\n",
       "      <th>3</th>\n",
       "      <td>2020</td>\n",
       "      <td>관악구</td>\n",
       "      <td>남현동</td>\n",
       "      <td>3708</td>\n",
       "      <td>37.464115</td>\n",
       "      <td>126.977754</td>\n",
       "    </tr>\n",
       "    <tr>\n",
       "      <th>4</th>\n",
       "      <td>2020</td>\n",
       "      <td>관악구</td>\n",
       "      <td>대학동</td>\n",
       "      <td>2940</td>\n",
       "      <td>37.470593</td>\n",
       "      <td>126.936855</td>\n",
       "    </tr>\n",
       "    <tr>\n",
       "      <th>...</th>\n",
       "      <td>...</td>\n",
       "      <td>...</td>\n",
       "      <td>...</td>\n",
       "      <td>...</td>\n",
       "      <td>...</td>\n",
       "      <td>...</td>\n",
       "    </tr>\n",
       "    <tr>\n",
       "      <th>90</th>\n",
       "      <td>2020</td>\n",
       "      <td>송파구</td>\n",
       "      <td>오륜동</td>\n",
       "      <td>157</td>\n",
       "      <td>37.515538</td>\n",
       "      <td>127.134424</td>\n",
       "    </tr>\n",
       "    <tr>\n",
       "      <th>91</th>\n",
       "      <td>2020</td>\n",
       "      <td>송파구</td>\n",
       "      <td>위례동</td>\n",
       "      <td>609</td>\n",
       "      <td>37.481576</td>\n",
       "      <td>127.140424</td>\n",
       "    </tr>\n",
       "    <tr>\n",
       "      <th>92</th>\n",
       "      <td>2020</td>\n",
       "      <td>송파구</td>\n",
       "      <td>잠실동</td>\n",
       "      <td>26358</td>\n",
       "      <td>37.506967</td>\n",
       "      <td>127.083673</td>\n",
       "    </tr>\n",
       "    <tr>\n",
       "      <th>93</th>\n",
       "      <td>2020</td>\n",
       "      <td>송파구</td>\n",
       "      <td>장지동</td>\n",
       "      <td>2626</td>\n",
       "      <td>37.478077</td>\n",
       "      <td>127.133269</td>\n",
       "    </tr>\n",
       "    <tr>\n",
       "      <th>94</th>\n",
       "      <td>2020</td>\n",
       "      <td>송파구</td>\n",
       "      <td>풍납동</td>\n",
       "      <td>6840</td>\n",
       "      <td>37.534673</td>\n",
       "      <td>127.117643</td>\n",
       "    </tr>\n",
       "  </tbody>\n",
       "</table>\n",
       "<p>95 rows × 6 columns</p>\n",
       "</div>"
      ],
      "text/plain": [
       "      연도    구    동명  주정차 단속건수         위도          경도\n",
       "0   2020  관악구  낙성대동      1699  37.476281  126.958369\n",
       "1   2020  관악구   난곡동      2533  37.471024  126.921689\n",
       "2   2020  관악구   난향동       388  37.461554  126.918807\n",
       "3   2020  관악구   남현동      3708  37.464115  126.977754\n",
       "4   2020  관악구   대학동      2940  37.470593  126.936855\n",
       "..   ...  ...   ...       ...        ...         ...\n",
       "90  2020  송파구   오륜동       157  37.515538  127.134424\n",
       "91  2020  송파구   위례동       609  37.481576  127.140424\n",
       "92  2020  송파구   잠실동     26358  37.506967  127.083673\n",
       "93  2020  송파구   장지동      2626  37.478077  127.133269\n",
       "94  2020  송파구   풍납동      6840  37.534673  127.117643\n",
       "\n",
       "[95 rows x 6 columns]"
      ]
     },
     "execution_count": 68,
     "metadata": {},
     "output_type": "execute_result"
    }
   ],
   "source": [
    "df = pd.read_csv('전처리끝난데이터.csv', encoding = 'cp949')\n",
    "df"
   ]
  },
  {
   "cell_type": "markdown",
   "metadata": {},
   "source": [
    "## json데이터 불러오기\n",
    "한강밑 동별 좌표"
   ]
  },
  {
   "cell_type": "code",
   "execution_count": 131,
   "metadata": {},
   "outputs": [
    {
     "data": {
      "text/plain": [
       "{'type': 'FeatureCollection',\n",
       " 'features': [{'type': 'Feature',\n",
       "   'properties': {'code': '1123080',\n",
       "    'name': '개포동',\n",
       "    'name_eng': 'Gaepo-dong',\n",
       "    'base_year': '2013'},\n",
       "   'geometry': {'type': 'Polygon',\n",
       "    'coordinates': [[[127.07394407641691, 37.490219908941526],\n",
       "      [127.07955765330033, 37.48431726402668],\n",
       "      [127.0792709266303, 37.47220180263369],\n",
       "      [127.07135137525977, 37.47107802023145],\n",
       "      [127.05862774489128, 37.48485501136302],\n",
       "      [127.05866574786786, 37.484875268285805],\n",
       "      [127.06763773042414, 37.487263687924894],\n",
       "      [127.07394407641691, 37.490219908941526],\n",
       "      [127.05383176381247, 37.482047981751535],\n",
       "      [127.06463901956462, 37.47003474490574],\n",
       "      [127.05168651987388, 37.46767933933969],\n",
       "      [127.04604758022018, 37.476903515648424],\n",
       "      [127.05383176381247, 37.482047981751535],\n",
       "      [127.05862774489128, 37.48485501136302],\n",
       "      [127.07135137525977, 37.47107802023145],\n",
       "      [127.06463901956462, 37.47003474490574],\n",
       "      [127.05383176381247, 37.482047981751535],\n",
       "      [127.05862774489128, 37.48485501136302],\n",
       "      [127.0844, 37.4922]]]}},\n",
       "  {'type': 'Feature',\n",
       "   'properties': {'code': '1123053',\n",
       "    'name': '논현동',\n",
       "    'name_eng': 'Nonhyeon-dong',\n",
       "    'base_year': '2013'},\n",
       "   'geometry': {'type': 'Polygon',\n",
       "    'coordinates': [[[127.03018252439756, 37.51678177148938],\n",
       "      [127.04128354419875, 37.52010346103419],\n",
       "      [127.04426529288817, 37.51461391134843],\n",
       "      [127.04637616087683, 37.50642665161706],\n",
       "      [127.0360134845328, 37.504542767054886],\n",
       "      [127.03018252439756, 37.51678177148938],\n",
       "      [127.03018252439756, 37.51678177148938],\n",
       "      [127.0360134845328, 37.504542767054886],\n",
       "      [127.02657410782747, 37.50176795282692],\n",
       "      [127.02245373407158, 37.508002078676576],\n",
       "      [127.02161856434614, 37.513416422499084],\n",
       "      [127.03018252439756, 37.51678177148938]]]}},\n",
       "  {'type': 'Feature',\n",
       "   'properties': {'code': '1123063',\n",
       "    'name': '대치동',\n",
       "    'name_eng': 'Daechi-dong',\n",
       "    'base_year': '2013'},\n",
       "   'geometry': {'type': 'Polygon',\n",
       "    'coordinates': [[[127.05879877483423, 37.504050964816194],\n",
       "      [127.06296770120233, 37.496068529964205],\n",
       "      [127.05508059617965, 37.49354665411371],\n",
       "      [127.05461669063445, 37.49424887399282],\n",
       "      [127.04928414981033, 37.50116986852596],\n",
       "      [127.05103593048881, 37.50182669060668],\n",
       "      [127.05879877483423, 37.504050964816194],\n",
       "      [127.05508059617965, 37.49354665411371],\n",
       "      [127.06296770120233, 37.496068529964205],\n",
       "      [127.06763773042414, 37.487263687924894],\n",
       "      [127.05866574786786, 37.484875268285805],\n",
       "      [127.05508059617965, 37.49354665411371],\n",
       "      [127.05508059617965, 37.49354665411371],\n",
       "      [127.06296770120233, 37.496068529964205],\n",
       "      [127.06763773042414, 37.487263687924894],\n",
       "      [127.05866574786786, 37.484875268285805],\n",
       "      [127.05508059617965, 37.49354665411371],\n",
       "      [127.07091156739416, 37.50719902959034],\n",
       "      [127.07528960655267, 37.49932614743975],\n",
       "      [127.07759949729024, 37.49839572885325],\n",
       "      [127.07394407641691, 37.490219908941526],\n",
       "      [127.06763773042414, 37.487263687924894],\n",
       "      [127.06296770120233, 37.496068529964205],\n",
       "      [127.05879877483423, 37.504050964816194],\n",
       "      [127.07057106587357, 37.50748081931759],\n",
       "      [127.07091156739416, 37.50719902959034],\n",
       "      [127.05508059617965, 37.49354665411371],\n",
       "      [127.06296770120233, 37.496068529964205],\n",
       "      [127.06763773042414, 37.487263687924894],\n",
       "      [127.05866574786786, 37.484875268285805],\n",
       "      [127.05508059617965, 37.49354665411371]]]}},\n",
       "  {'type': 'Feature',\n",
       "   'properties': {'code': '1123067',\n",
       "    'name': '도곡동',\n",
       "    'name_eng': 'Dogok-dong',\n",
       "    'base_year': '2013'},\n",
       "   'geometry': {'type': 'Polygon',\n",
       "    'coordinates': [[[127.05508059617965, 37.49354665411371],\n",
       "      [127.05866574786786, 37.484875268285805],\n",
       "      [127.05862774489128, 37.48485501136302],\n",
       "      [127.05383176381247, 37.482047981751535],\n",
       "      [127.04604758022018, 37.476903515648424],\n",
       "      [127.04345123620755, 37.48276415595109],\n",
       "      [127.0487980642459, 37.491499814920594],\n",
       "      [127.05461669063445, 37.49424887399282],\n",
       "      [127.05508059617965, 37.49354665411371],\n",
       "      [127.0487980642459, 37.491499814920594],\n",
       "      [127.04345123620755, 37.48276415595109],\n",
       "      [127.03621915098798, 37.48175802427603],\n",
       "      [127.03372770134304, 37.48673420790798],\n",
       "      [127.0429937515614, 37.4896079199333],\n",
       "      [127.0487980642459, 37.491499814920594]]]}},\n",
       "  {'type': 'Feature',\n",
       "   'properties': {'code': '1121082',\n",
       "    'name': '삼성동',\n",
       "    'name_eng': 'Samseong-dong',\n",
       "    'base_year': '2013'},\n",
       "   'geometry': {'type': 'Polygon',\n",
       "    'coordinates': [[[126.93150707417718, 37.47224181631584],\n",
       "      [126.93623468957882, 37.46898763955797],\n",
       "      [126.93312071245121, 37.44501071260275],\n",
       "      [126.93084408056525, 37.447382928333994],\n",
       "      [126.92456266203958, 37.45443912781728],\n",
       "      [126.92507406339945, 37.460652610833634],\n",
       "      [126.92868677638837, 37.47165351482308],\n",
       "      [126.93150707417718, 37.47224181631584],\n",
       "      [127.04426529288817, 37.51461391134843],\n",
       "      [127.05237890906925, 37.51605001646398],\n",
       "      [127.05879877483423, 37.504050964816194],\n",
       "      [127.05103593048881, 37.50182669060668],\n",
       "      [127.04637616087683, 37.50642665161706],\n",
       "      [127.04426529288817, 37.51461391134843],\n",
       "      [127.0690698130372, 37.522279423505026],\n",
       "      [127.07057106587357, 37.50748081931759],\n",
       "      [127.05879877483423, 37.504050964816194],\n",
       "      [127.05237890906925, 37.51605001646398],\n",
       "      [127.06737268086228, 37.5228018732759],\n",
       "      [127.0690698130372, 37.522279423505026]]]}},\n",
       "  {'type': 'Feature',\n",
       "   'properties': {'code': '1122067',\n",
       "    'name': '양재동',\n",
       "    'name_eng': 'Yangjae-dong',\n",
       "    'base_year': '2013'},\n",
       "   'geometry': {'type': 'Polygon',\n",
       "    'coordinates': [[[127.04604758022018, 37.476903515648424],\n",
       "      [127.05168651987388, 37.46767933933969],\n",
       "      [127.06526281404322, 37.426893481829154],\n",
       "      [127.04957232987142, 37.42805836845694],\n",
       "      [127.03751805596916, 37.438362795245276],\n",
       "      [127.0319652225414, 37.46263681748507],\n",
       "      [127.04604758022018, 37.476903515648424],\n",
       "      [127.03621915098798, 37.48175802427603],\n",
       "      [127.04345123620755, 37.48276415595109],\n",
       "      [127.04604758022018, 37.476903515648424],\n",
       "      [127.0319652225414, 37.46263681748507],\n",
       "      [127.00552362663117, 37.46445102893571],\n",
       "      [127.01241251373114, 37.46945266650744],\n",
       "      [127.02193521391702, 37.474067716833154],\n",
       "      [127.02911870203953, 37.477701177812094],\n",
       "      [127.03621915098798, 37.48175802427603]]]}},\n",
       "  {'type': 'Feature',\n",
       "   'properties': {'code': '1123076',\n",
       "    'name': '세곡동',\n",
       "    'name_eng': 'Segok-dong',\n",
       "    'base_year': '2013'},\n",
       "   'geometry': {'type': 'Polygon',\n",
       "    'coordinates': [[[127.11314705595287, 37.480127870880345],\n",
       "      [127.12440571080893, 37.46240445587048],\n",
       "      [127.11885903757606, 37.45578434878651],\n",
       "      [127.09842759318751, 37.45862253857461],\n",
       "      [127.08727101192895, 37.472465566199986],\n",
       "      [127.09510067486981, 37.474453413329506],\n",
       "      [127.11314705595287, 37.480127870880345]]]}},\n",
       "  {'type': 'Feature',\n",
       "   'properties': {'code': '1123075',\n",
       "    'name': '수서동',\n",
       "    'name_eng': 'Suseo-dong',\n",
       "    'base_year': '2013'},\n",
       "   'geometry': {'type': 'Polygon',\n",
       "    'coordinates': [[[127.104076240713, 37.4908320962496],\n",
       "      [127.11025761076787, 37.48649739956609],\n",
       "      [127.11314705595287, 37.480127870880345],\n",
       "      [127.09510067486981, 37.474453413329506],\n",
       "      [127.09285661208187, 37.48853012296095],\n",
       "      [127.104076240713, 37.4908320962496]]]}},\n",
       "  {'type': 'Feature',\n",
       "   'properties': {'code': '1123051',\n",
       "    'name': '신사동',\n",
       "    'name_eng': 'Sinsa-dong',\n",
       "    'base_year': '2013'},\n",
       "   'geometry': {'type': 'Polygon',\n",
       "    'coordinates': [[[127.0236688023869, 37.53273057382971],\n",
       "      [127.03018252439756, 37.51678177148938],\n",
       "      [127.02161856434614, 37.513416422499084],\n",
       "      [127.01397119667513, 37.52503988289669],\n",
       "      [127.02302831890559, 37.53231899582663],\n",
       "      [127.0236688023869, 37.53273057382971]]]}},\n",
       "  {'type': 'Feature',\n",
       "   'properties': {'code': '1123077',\n",
       "    'name': '압구정동',\n",
       "    'name_eng': 'Apgujeong-dong',\n",
       "    'base_year': '2013'},\n",
       "   'geometry': {'type': 'Polygon',\n",
       "    'coordinates': [[[127.03038815978167, 37.5357278833247],\n",
       "      [127.04806779588436, 37.52970198575087],\n",
       "      [127.04128354419875, 37.52010346103419],\n",
       "      [127.03018252439756, 37.51678177148938],\n",
       "      [127.0236688023869, 37.53273057382971],\n",
       "      [127.02780424413358, 37.53506389757521],\n",
       "      [127.03038815978167, 37.5357278833247]]]}},\n",
       "  {'type': 'Feature',\n",
       "   'properties': {'code': '1123065',\n",
       "    'name': '역삼동',\n",
       "    'name_eng': 'Yeoksam-dong',\n",
       "    'base_year': '2013'},\n",
       "   'geometry': {'type': 'Polygon',\n",
       "    'coordinates': [[[127.05461669063445, 37.49424887399282],\n",
       "      [127.0487980642459, 37.491499814920594],\n",
       "      [127.0429937515614, 37.4896079199333],\n",
       "      [127.04928414981033, 37.50116986852596],\n",
       "      [127.05461669063445, 37.49424887399282],\n",
       "      [127.04637616087683, 37.50642665161706],\n",
       "      [127.05103593048881, 37.50182669060668],\n",
       "      [127.04928414981033, 37.50116986852596],\n",
       "      [127.0429937515614, 37.4896079199333],\n",
       "      [127.03372770134304, 37.48673420790798],\n",
       "      [127.02973923489684, 37.49515937670812],\n",
       "      [127.02659989308502, 37.50171416311321],\n",
       "      [127.02657410782747, 37.50176795282692],\n",
       "      [127.0360134845328, 37.504542767054886],\n",
       "      [127.04637616087683, 37.50642665161706]]]}},\n",
       "  {'type': 'Feature',\n",
       "   'properties': {'code': '1123073',\n",
       "    'name': '일원동',\n",
       "    'name_eng': 'Irwon-dong',\n",
       "    'base_year': '2013'},\n",
       "   'geometry': {'type': 'Polygon',\n",
       "    'coordinates': [[[127.0925798228796, 37.49466797489548],\n",
       "      [127.0988509639092, 37.49302529254068],\n",
       "      [127.104076240713, 37.4908320962496],\n",
       "      [127.09285661208187, 37.48853012296095],\n",
       "      [127.0839105884464, 37.48586538552836],\n",
       "      [127.0925798228796, 37.49466797489548],\n",
       "      [127.07759949729024, 37.49839572885325],\n",
       "      [127.08573831212134, 37.49645940739078],\n",
       "      [127.0925798228796, 37.49466797489548],\n",
       "      [127.0839105884464, 37.48586538552836],\n",
       "      [127.07955765330033, 37.48431726402668],\n",
       "      [127.07394407641691, 37.490219908941526],\n",
       "      [127.07759949729024, 37.49839572885325],\n",
       "      [127.0839105884464, 37.48586538552836],\n",
       "      [127.09285661208187, 37.48853012296095],\n",
       "      [127.09510067486981, 37.474453413329506],\n",
       "      [127.08727101192895, 37.472465566199986],\n",
       "      [127.0792709266303, 37.47220180263369],\n",
       "      [127.07955765330033, 37.48431726402668],\n",
       "      [127.0839105884464, 37.48586538552836],\n",
       "      [127.0776, 37.4984]]]}},\n",
       "  {'type': 'Feature',\n",
       "   'properties': {'code': '1123078',\n",
       "    'name': '청담동',\n",
       "    'name_eng': 'Cheongdam-dong',\n",
       "    'base_year': '2013'},\n",
       "   'geometry': {'type': 'Polygon',\n",
       "    'coordinates': [[[127.05116490008963, 37.52975116557232],\n",
       "      [127.05867359288398, 37.52629974922568],\n",
       "      [127.06737268086228, 37.5228018732759],\n",
       "      [127.05237890906925, 37.51605001646398],\n",
       "      [127.04426529288817, 37.51461391134843],\n",
       "      [127.04128354419875, 37.52010346103419],\n",
       "      [127.04806779588436, 37.52970198575087],\n",
       "      [127.05116490008963, 37.52975116557232]]]}},\n",
       "  {'type': 'Feature',\n",
       "   'properties': {'code': '1125051',\n",
       "    'name': '강일동',\n",
       "    'name_eng': 'Gangildong',\n",
       "    'base_year': '2013'},\n",
       "   'geometry': {'type': 'Polygon',\n",
       "    'coordinates': [[[127.16368738589286, 37.57500783523479],\n",
       "      [127.16683184366129, 37.57672487388627],\n",
       "      [127.18567051761232, 37.54302620803663],\n",
       "      [127.17624513780328, 37.5426107112352],\n",
       "      [127.17360474181851, 37.55452533235053],\n",
       "      [127.16368738589286, 37.57500783523479]]]}},\n",
       "  {'type': 'Feature',\n",
       "   'properties': {'code': '1125056',\n",
       "    'name': '고덕동',\n",
       "    'name_eng': 'Godeok-dong',\n",
       "    'base_year': '2013'},\n",
       "   'geometry': {'type': 'Polygon',\n",
       "    'coordinates': [[[127.15511020940411, 37.57093642128295],\n",
       "      [127.16368738589286, 37.57500783523479],\n",
       "      [127.17360474181851, 37.55452533235053],\n",
       "      [127.1586954058685, 37.552576494711964],\n",
       "      [127.15511020940411, 37.57093642128295],\n",
       "      [127.14344659555326, 37.567479711307435],\n",
       "      [127.15511020940411, 37.57093642128295],\n",
       "      [127.1586954058685, 37.552576494711964],\n",
       "      [127.15232735266896, 37.55189398108047],\n",
       "      [127.14658708035984, 37.55197150430446],\n",
       "      [127.14344659555326, 37.567479711307435]]]}},\n",
       "  {'type': 'Feature',\n",
       "   'properties': {'code': '1125074',\n",
       "    'name': '길 동',\n",
       "    'name_eng': 'Gil-dong',\n",
       "    'base_year': '2013'},\n",
       "   'geometry': {'type': 'Polygon',\n",
       "    'coordinates': [[[127.1506841825971, 37.54297943719738],\n",
       "      [127.16251899968245, 37.538797310633534],\n",
       "      [127.14068690059868, 37.53118632106941],\n",
       "      [127.13640539515914, 37.53247023366308],\n",
       "      [127.14380192958487, 37.53947695668667],\n",
       "      [127.14484779315524, 37.542271071578554],\n",
       "      [127.1506841825971, 37.54297943719738]]]}},\n",
       "  {'type': 'Feature',\n",
       "   'properties': {'code': '1125071',\n",
       "    'name': '둔촌동',\n",
       "    'name_eng': 'Dunchon-dong',\n",
       "    'base_year': '2013'},\n",
       "   'geometry': {'type': 'Polygon',\n",
       "    'coordinates': [[[127.16251899968245, 37.538797310633534],\n",
       "      [127.15566835118616, 37.53119520531309],\n",
       "      [127.14791518058246, 37.51918714979303],\n",
       "      [127.1387472669133, 37.526024153064206],\n",
       "      [127.14068690059868, 37.53118632106941],\n",
       "      [127.16251899968245, 37.538797310633534],\n",
       "      [127.1387472669133, 37.526024153064206],\n",
       "      [127.14791518058246, 37.51918714979303],\n",
       "      [127.14672806823502, 37.51415680680291],\n",
       "      [127.1360224375423, 37.51873736912533],\n",
       "      [127.1387472669133, 37.526024153064206]]]}},\n",
       "  {'type': 'Feature',\n",
       "   'properties': {'code': '1125054',\n",
       "    'name': '명일동',\n",
       "    'name_eng': 'Myeongil-dong',\n",
       "    'base_year': '2013'},\n",
       "   'geometry': {'type': 'Polygon',\n",
       "    'coordinates': [[[127.15232735266896, 37.55189398108047],\n",
       "      [127.1586954058685, 37.552576494711964],\n",
       "      [127.16530984307447, 37.54221851258693],\n",
       "      [127.16251899968245, 37.538797310633534],\n",
       "      [127.1506841825971, 37.54297943719738],\n",
       "      [127.15232735266896, 37.55189398108047],\n",
       "      [127.14658708035984, 37.55197150430446],\n",
       "      [127.15232735266896, 37.55189398108047],\n",
       "      [127.1506841825971, 37.54297943719738],\n",
       "      [127.14484779315524, 37.542271071578554],\n",
       "      [127.14331358996458, 37.54807088878857],\n",
       "      [127.14658708035984, 37.55197150430446]]]}},\n",
       "  {'type': 'Feature',\n",
       "   'properties': {'code': '1125052',\n",
       "    'name': '상일동',\n",
       "    'name_eng': 'Sangil-dong',\n",
       "    'base_year': '2013'},\n",
       "   'geometry': {'type': 'Polygon',\n",
       "    'coordinates': [[[127.1586954058685, 37.552576494711964],\n",
       "      [127.17360474181851, 37.55452533235053],\n",
       "      [127.17624513780328, 37.5426107112352],\n",
       "      [127.16530984307447, 37.54221851258693],\n",
       "      [127.1586954058685, 37.552576494711964]]]}},\n",
       "  {'type': 'Feature',\n",
       "   'properties': {'code': '1125065',\n",
       "    'name': '성내동',\n",
       "    'name_eng': 'Seongnae-dong',\n",
       "    'base_year': '2013'},\n",
       "   'geometry': {'type': 'Polygon',\n",
       "    'coordinates': [[[127.12337386349152, 37.53030612633618],\n",
       "      [127.13393659853675, 37.52733984141569],\n",
       "      [127.13085529491111, 37.52098850616528],\n",
       "      [127.12127423206992, 37.5252637914794],\n",
       "      [127.12337386349152, 37.53030612633618],\n",
       "      [127.12532464331997, 37.53572787912298],\n",
       "      [127.12853684547063, 37.53485917087813],\n",
       "      [127.13640539515914, 37.53247023366308],\n",
       "      [127.13393659853675, 37.52733984141569],\n",
       "      [127.12337386349152, 37.53030612633618],\n",
       "      [127.12532464331997, 37.53572787912298],\n",
       "      [127.13640539515914, 37.53247023366308],\n",
       "      [127.14068690059868, 37.53118632106941],\n",
       "      [127.1387472669133, 37.526024153064206],\n",
       "      [127.1360224375423, 37.51873736912533],\n",
       "      [127.13085529491111, 37.52098850616528],\n",
       "      [127.13393659853675, 37.52733984141569],\n",
       "      [127.13640539515914, 37.53247023366308]]]}},\n",
       "  {'type': 'Feature',\n",
       "   'properties': {'code': '1125072',\n",
       "    'name': '암사동',\n",
       "    'name_eng': 'Amsa-dong',\n",
       "    'base_year': '2013'},\n",
       "   'geometry': {'type': 'Polygon',\n",
       "    'coordinates': [[[127.14658708035984, 37.55197150430446],\n",
       "      [127.14331358996458, 37.54807088878857],\n",
       "      [127.1366922994031, 37.54432073003471],\n",
       "      [127.1296594431204, 37.547320969604925],\n",
       "      [127.13130719416033, 37.551959543662896],\n",
       "      [127.14658708035984, 37.55197150430446],\n",
       "      [127.13593925898998, 37.56564793048277],\n",
       "      [127.14344659555326, 37.567479711307435],\n",
       "      [127.14658708035984, 37.55197150430446],\n",
       "      [127.13130719416033, 37.551959543662896],\n",
       "      [127.13593925898998, 37.56564793048277],\n",
       "      [127.11519584981606, 37.557533180704915],\n",
       "      [127.13593925898998, 37.56564793048277],\n",
       "      [127.13130719416033, 37.551959543662896],\n",
       "      [127.1296594431204, 37.547320969604925],\n",
       "      [127.11455679868533, 37.54670798531544],\n",
       "      [127.11519584981606, 37.557533180704915]]]}},\n",
       "  {'type': 'Feature',\n",
       "   'properties': {'code': '1125073',\n",
       "    'name': '천호동',\n",
       "    'name_eng': 'Cheonho-dong',\n",
       "    'base_year': '2013'},\n",
       "   'geometry': {'type': 'Polygon',\n",
       "    'coordinates': [[[127.1296594431204, 37.547320969604925],\n",
       "      [127.1366922994031, 37.54432073003471],\n",
       "      [127.13325961176139, 37.53959212853102],\n",
       "      [127.12853684547063, 37.53485917087813],\n",
       "      [127.12532464331997, 37.53572787912298],\n",
       "      [127.1116764203608, 37.540669955324965],\n",
       "      [127.11455679868533, 37.54670798531544],\n",
       "      [127.1296594431204, 37.547320969604925],\n",
       "      [127.14380192958487, 37.53947695668667],\n",
       "      [127.13640539515914, 37.53247023366308],\n",
       "      [127.12853684547063, 37.53485917087813],\n",
       "      [127.13325961176139, 37.53959212853102],\n",
       "      [127.14380192958487, 37.53947695668667],\n",
       "      [127.1366922994031, 37.54432073003471],\n",
       "      [127.14331358996458, 37.54807088878857],\n",
       "      [127.14484779315524, 37.542271071578554],\n",
       "      [127.14380192958487, 37.53947695668667],\n",
       "      [127.13325961176139, 37.53959212853102],\n",
       "      [127.1366922994031, 37.54432073003471]]]}},\n",
       "  {'type': 'Feature',\n",
       "   'properties': {'code': '1116066',\n",
       "    'name': '가양동',\n",
       "    'name_eng': 'Gayang-dong',\n",
       "    'base_year': '2013'},\n",
       "   'geometry': {'type': 'Polygon',\n",
       "    'coordinates': [[[126.87134888695947, 37.56109009293546],\n",
       "      [126.86512578486752, 37.55408291030297],\n",
       "      [126.85726544386726, 37.558270319307645],\n",
       "      [126.86242039016902, 37.56591332261665],\n",
       "      [126.87134888695947, 37.56109009293546],\n",
       "      [126.85302823436479, 37.57282468882299],\n",
       "      [126.85984199399667, 37.571847855292745],\n",
       "      [126.86242039016902, 37.56591332261665],\n",
       "      [126.85726544386726, 37.558270319307645],\n",
       "      [126.85091872876224, 37.56160678233281],\n",
       "      [126.85302823436479, 37.57282468882299],\n",
       "      [126.82891304761237, 37.5855611764797],\n",
       "      [126.85302823436479, 37.57282468882299],\n",
       "      [126.85091872876224, 37.56160678233281],\n",
       "      [126.84030371472114, 37.55576848582496],\n",
       "      [126.82555098376375, 37.557264746336614],\n",
       "      [126.82137927932729, 37.562134442446194],\n",
       "      [126.82416731803413, 37.570485617093354],\n",
       "      [126.82891304761237, 37.5855611764797]]]}},\n",
       "  {'type': 'Feature',\n",
       "   'properties': {'code': '1116069',\n",
       "    'name': '공항동',\n",
       "    'name_eng': 'Gonghang-dong',\n",
       "    'base_year': '2013'},\n",
       "   'geometry': {'type': 'Polygon',\n",
       "    'coordinates': [[[126.81312289595681, 37.56126204433651],\n",
       "      [126.82137927932729, 37.562134442446194],\n",
       "      [126.82555098376375, 37.557264746336614],\n",
       "      [126.8156733301979, 37.540053246972874],\n",
       "      [126.80080241646684, 37.53487615870169],\n",
       "      [126.79648424736992, 37.533031862850464],\n",
       "      [126.76979180579352, 37.55139183008809],\n",
       "      [126.79512728153674, 37.57419027772393],\n",
       "      [126.81312289595681, 37.56126204433651]]]}},\n",
       "  {'type': 'Feature',\n",
       "   'properties': {'code': '1116054',\n",
       "    'name': '등촌동',\n",
       "    'name_eng': 'Deungchon-dong',\n",
       "    'base_year': '2013'},\n",
       "   'geometry': {'type': 'Polygon',\n",
       "    'coordinates': [[[126.85091872876224, 37.56160678233281],\n",
       "      [126.85726544386726, 37.558270319307645],\n",
       "      [126.85439730639317, 37.5530916557025],\n",
       "      [126.84780974674173, 37.5550261701609],\n",
       "      [126.84030371472114, 37.55576848582496],\n",
       "      [126.85091872876224, 37.56160678233281],\n",
       "      [126.86637464321238, 37.54859191094823],\n",
       "      [126.86576197147025, 37.53648442128123],\n",
       "      [126.86558466813598, 37.532799856575316],\n",
       "      [126.85803356301149, 37.539897387918316],\n",
       "      [126.85692306146737, 37.54329765579618],\n",
       "      [126.85980386876007, 37.551273052973414],\n",
       "      [126.86637464321238, 37.54859191094823],\n",
       "      [126.85726544386726, 37.558270319307645],\n",
       "      [126.86512578486752, 37.55408291030297],\n",
       "      [126.86716429874264, 37.54825913468198],\n",
       "      [126.86637464321238, 37.54859191094823],\n",
       "      [126.85980386876007, 37.551273052973414],\n",
       "      [126.85439730639317, 37.5530916557025],\n",
       "      [126.85726544386726, 37.558270319307645]]]}},\n",
       "  {'type': 'Feature',\n",
       "   'properties': {'code': '1116067',\n",
       "    'name': '발산1동',\n",
       "    'name_eng': 'Balsan1-dong',\n",
       "    'base_year': '2013'},\n",
       "   'geometry': {'type': 'Polygon',\n",
       "    'coordinates': [[[126.84030371472114, 37.55576848582496],\n",
       "      [126.8383863682457, 37.545174879396555],\n",
       "      [126.83200611815096, 37.54333490679484],\n",
       "      [126.82686940039885, 37.53819083730896],\n",
       "      [126.8242331426722, 37.53788078753248],\n",
       "      [126.8156733301979, 37.540053246972874],\n",
       "      [126.82555098376375, 37.557264746336614],\n",
       "      [126.84030371472114, 37.55576848582496]]]}},\n",
       "  {'type': 'Feature',\n",
       "   'properties': {'code': '1116072',\n",
       "    'name': '방화동',\n",
       "    'name_eng': 'Banghwa-dong',\n",
       "    'base_year': '2013'},\n",
       "   'geometry': {'type': 'Polygon',\n",
       "    'coordinates': [[[126.82013821212502, 37.58984554388895],\n",
       "      [126.82891304761237, 37.5855611764797],\n",
       "      [126.82416731803413, 37.570485617093354],\n",
       "      [126.80602869753355, 37.57128492259161],\n",
       "      [126.82013821212502, 37.58984554388895],\n",
       "      [126.80702115076473, 37.601230010198485],\n",
       "      [126.82013821212502, 37.58984554388895],\n",
       "      [126.80602869753355, 37.57128492259161],\n",
       "      [126.81312289595681, 37.56126204433651],\n",
       "      [126.79512728153674, 37.57419027772393],\n",
       "      [126.79575768605767, 37.57881087639828],\n",
       "      [126.80702115076473, 37.601230010198485],\n",
       "      [126.80602869753355, 37.57128492259161],\n",
       "      [126.82416731803413, 37.570485617093354],\n",
       "      [126.82137927932729, 37.562134442446194],\n",
       "      [126.81312289595681, 37.56126204433651],\n",
       "      [126.80602869753355, 37.57128492259161]]]}},\n",
       "  {'type': 'Feature',\n",
       "   'properties': {'code': '1116051',\n",
       "    'name': '염창동',\n",
       "    'name_eng': 'Yeomchang-dong',\n",
       "    'base_year': '2013'},\n",
       "   'geometry': {'type': 'Polygon',\n",
       "    'coordinates': [[[126.86512578486752, 37.55408291030297],\n",
       "      [126.87134888695947, 37.56109009293546],\n",
       "      [126.88525790116067, 37.5516677871273],\n",
       "      [126.89184663862764, 37.547373974997114],\n",
       "      [126.88825757860099, 37.54079733630232],\n",
       "      [126.8872486543506, 37.54079100234749],\n",
       "      [126.8727924099192, 37.544853699294116],\n",
       "      [126.86716429874264, 37.54825913468198],\n",
       "      [126.86512578486752, 37.55408291030297]]]}},\n",
       "  {'type': 'Feature',\n",
       "   'properties': {'code': '1116074',\n",
       "    'name': '우장산동',\n",
       "    'name_eng': 'Ujangsandong',\n",
       "    'base_year': '2013'},\n",
       "   'geometry': {'type': 'Polygon',\n",
       "    'coordinates': [[[126.84780974674173, 37.5550261701609],\n",
       "      [126.84915810452722, 37.546058387441256],\n",
       "      [126.84252506006656, 37.53882587999314],\n",
       "      [126.84248643305253, 37.538863842507546],\n",
       "      [126.8383863682457, 37.545174879396555],\n",
       "      [126.84030371472114, 37.55576848582496],\n",
       "      [126.84780974674173, 37.5550261701609]]]}},\n",
       "  {'type': 'Feature',\n",
       "   'properties': {'code': '1116073',\n",
       "    'name': '화곡동',\n",
       "    'name_eng': 'Hwagok-dong',\n",
       "    'base_year': '2013'},\n",
       "   'geometry': {'type': 'Polygon',\n",
       "    'coordinates': [[[126.84248643305253, 37.538863842507546],\n",
       "      [126.84252506006656, 37.53882587999314],\n",
       "      [126.845776963825, 37.53389168127725],\n",
       "      [126.85098397861944, 37.525098716169985],\n",
       "      [126.84257291943153, 37.52373707805596],\n",
       "      [126.83725242600985, 37.53411319148143],\n",
       "      [126.8358656942957, 37.537072465505254],\n",
       "      [126.84248643305253, 37.538863842507546],\n",
       "      [126.85384356957594, 37.53382920487927],\n",
       "      [126.85405286851844, 37.52548390048836],\n",
       "      [126.85098397861944, 37.525098716169985],\n",
       "      [126.845776963825, 37.53389168127725],\n",
       "      [126.85384356957594, 37.53382920487927],\n",
       "      [126.85439730639317, 37.5530916557025],\n",
       "      [126.85980386876007, 37.551273052973414],\n",
       "      [126.85692306146737, 37.54329765579618],\n",
       "      [126.84915810452722, 37.546058387441256],\n",
       "      [126.84780974674173, 37.5550261701609],\n",
       "      [126.85439730639317, 37.5530916557025],\n",
       "      [126.85803356301149, 37.539897387918316],\n",
       "      [126.86558466813598, 37.532799856575316],\n",
       "      [126.86610073476395, 37.52699964144669],\n",
       "      [126.86057462514691, 37.52630489837469],\n",
       "      [126.85547567143561, 37.53399345081322],\n",
       "      [126.85803356301149, 37.539897387918316],\n",
       "      [126.83200611815096, 37.54333490679484],\n",
       "      [126.8383863682457, 37.545174879396555],\n",
       "      [126.84248643305253, 37.538863842507546],\n",
       "      [126.8358656942957, 37.537072465505254],\n",
       "      [126.83200611815096, 37.54333490679484],\n",
       "      [126.85547567143561, 37.53399345081322],\n",
       "      [126.86057462514691, 37.52630489837469],\n",
       "      [126.85405286851844, 37.52548390048836],\n",
       "      [126.85384356957594, 37.53382920487927],\n",
       "      [126.85547567143561, 37.53399345081322],\n",
       "      [126.84915810452722, 37.546058387441256],\n",
       "      [126.85692306146737, 37.54329765579618],\n",
       "      [126.85803356301149, 37.539897387918316],\n",
       "      [126.85547567143561, 37.53399345081322],\n",
       "      [126.85384356957594, 37.53382920487927],\n",
       "      [126.845776963825, 37.53389168127725],\n",
       "      [126.84252506006656, 37.53882587999314],\n",
       "      [126.84915810452722, 37.546058387441256]]]}},\n",
       "  {'type': 'Feature',\n",
       "   'properties': {'code': '1117070',\n",
       "    'name': '가리봉동',\n",
       "    'name_eng': 'Garibong-dong',\n",
       "    'base_year': '2013'},\n",
       "   'geometry': {'type': 'Polygon',\n",
       "    'coordinates': [[[126.88224417295716, 37.484538764380076],\n",
       "      [126.88820216446295, 37.48204582221334],\n",
       "      [126.88841661067802, 37.48219105172914],\n",
       "      [126.89825969686503, 37.4757468558901],\n",
       "      [126.89795508338685, 37.475649435288865],\n",
       "      [126.8827497570056, 37.48316340563878],\n",
       "      [126.88224417295716, 37.484538764380076]]]}},\n",
       "  {'type': 'Feature',\n",
       "   'properties': {'code': '1117072',\n",
       "    'name': '개봉동',\n",
       "    'name_eng': 'Gaebong-dong',\n",
       "    'base_year': '2013'},\n",
       "   'geometry': {'type': 'Polygon',\n",
       "    'coordinates': [[[126.84758421076914, 37.50465623338784],\n",
       "      [126.85813664620464, 37.49945310272366],\n",
       "      [126.86627895796323, 37.49120137793702],\n",
       "      [126.8528533439373, 37.49292365637293],\n",
       "      [126.84045080118607, 37.497338425236606],\n",
       "      [126.84758421076914, 37.50465623338784],\n",
       "      [126.86518121933331, 37.48815437387523],\n",
       "      [126.85859778685278, 37.48288125361705],\n",
       "      [126.85557100342643, 37.479833474417084],\n",
       "      [126.8503573371033, 37.479551458733745],\n",
       "      [126.85022989832544, 37.487654755354704],\n",
       "      [126.86518121933331, 37.48815437387523],\n",
       "      [126.8507075760755, 37.492409254364155],\n",
       "      [126.8528533439373, 37.49292365637293],\n",
       "      [126.86627895796323, 37.49120137793702],\n",
       "      [126.87028318342011, 37.49272176466726],\n",
       "      [126.87039560729964, 37.49229978033802],\n",
       "      [126.8691296342059, 37.49015091212178],\n",
       "      [126.86518121933331, 37.48815437387523],\n",
       "      [126.85022989832544, 37.487654755354704],\n",
       "      [126.8507075760755, 37.492409254364155],\n",
       "      [126.8602448049945, 37.50714262450898],\n",
       "      [126.86484290038425, 37.50319788568579],\n",
       "      [126.85813664620464, 37.49945310272366],\n",
       "      [126.84758421076914, 37.50465623338784],\n",
       "      [126.8602448049945, 37.50714262450898]]]}},\n",
       "  {'type': 'Feature',\n",
       "   'properties': {'code': '1117062',\n",
       "    'name': '고척동',\n",
       "    'name_eng': 'Gocheok-dong',\n",
       "    'base_year': '2013'},\n",
       "   'geometry': {'type': 'Polygon',\n",
       "    'coordinates': [[[126.8602448049945, 37.50714262450898],\n",
       "      [126.86484290038425, 37.50319788568579],\n",
       "      [126.85813664620464, 37.49945310272366],\n",
       "      [126.84758421076914, 37.50465623338784],\n",
       "      [126.8602448049945, 37.50714262450898],\n",
       "      [126.87335085283947, 37.5028231455955],\n",
       "      [126.87011807132725, 37.49425767808731],\n",
       "      [126.87028318342011, 37.49272176466726],\n",
       "      [126.86627895796323, 37.49120137793702],\n",
       "      [126.85813664620464, 37.49945310272366],\n",
       "      [126.86484290038425, 37.50319788568579],\n",
       "      [126.87335085283947, 37.5028231455955]]]}},\n",
       "  {'type': 'Feature',\n",
       "   'properties': {'code': '1117071',\n",
       "    'name': '구로동',\n",
       "    'name_eng': 'Guro-dong',\n",
       "    'base_year': '2013'},\n",
       "   'geometry': {'type': 'Polygon',\n",
       "    'coordinates': [[[126.87556919864359, 37.505720626918],\n",
       "      [126.88332369335458, 37.50118999471856],\n",
       "      [126.89091066041216, 37.49248179702087],\n",
       "      [126.88820216446295, 37.48204582221334],\n",
       "      [126.88224417295716, 37.484538764380076],\n",
       "      [126.87011807132725, 37.49425767808731],\n",
       "      [126.87335085283947, 37.5028231455955],\n",
       "      [126.87556919864359, 37.505720626918],\n",
       "      [126.89594776782485, 37.504675281309176],\n",
       "      [126.89561850607332, 37.494919707033155],\n",
       "      [126.89091066041216, 37.49248179702087],\n",
       "      [126.88332369335458, 37.50118999471856],\n",
       "      [126.89594776782485, 37.504675281309176],\n",
       "      [126.89091066041216, 37.49248179702087],\n",
       "      [126.89561850607332, 37.494919707033155],\n",
       "      [126.8974895759185, 37.48922754431995],\n",
       "      [126.88841661067802, 37.48219105172914],\n",
       "      [126.88820216446295, 37.48204582221334],\n",
       "      [126.89091066041216, 37.49248179702087],\n",
       "      [126.88841661067802, 37.48219105172914],\n",
       "      [126.8974895759185, 37.48922754431995],\n",
       "      [126.90531975801812, 37.48218087575429],\n",
       "      [126.90156094129895, 37.47753842789901],\n",
       "      [126.90104536043339, 37.47614746588584],\n",
       "      [126.89825969686503, 37.4757468558901],\n",
       "      [126.88841661067802, 37.48219105172914],\n",
       "      [126.87028318342011, 37.49272176466726],\n",
       "      [126.87011807132725, 37.49425767808731],\n",
       "      [126.88224417295716, 37.484538764380076],\n",
       "      [126.8827497570056, 37.48316340563878],\n",
       "      [126.87683271502428, 37.482576591607305],\n",
       "      [126.87039560729964, 37.49229978033802],\n",
       "      [126.87028318342011, 37.49272176466726],\n",
       "      [126.89594776782485, 37.504675281309176],\n",
       "      [126.89561850607332, 37.494919707033155],\n",
       "      [126.89091066041216, 37.49248179702087],\n",
       "      [126.88332369335458, 37.50118999471856],\n",
       "      [126.89594776782485, 37.504675281309176],\n",
       "      [126.89091066041216, 37.49248179702087],\n",
       "      [126.89561850607332, 37.494919707033155],\n",
       "      [126.8974895759185, 37.48922754431995],\n",
       "      [126.88841661067802, 37.48219105172914],\n",
       "      [126.88820216446295, 37.48204582221334],\n",
       "      [126.89091066041216, 37.49248179702087],\n",
       "      [126.88841661067802, 37.48219105172914],\n",
       "      [126.8974895759185, 37.48922754431995],\n",
       "      [126.90531975801812, 37.48218087575429],\n",
       "      [126.90156094129895, 37.47753842789901],\n",
       "      [126.90104536043339, 37.47614746588584],\n",
       "      [126.89825969686503, 37.4757468558901],\n",
       "      [126.88841661067802, 37.48219105172914],\n",
       "      [126.87028318342011, 37.49272176466726],\n",
       "      [126.87011807132725, 37.49425767808731],\n",
       "      [126.88224417295716, 37.484538764380076],\n",
       "      [126.8827497570056, 37.48316340563878],\n",
       "      [126.87683271502428, 37.482576591607305],\n",
       "      [126.87039560729964, 37.49229978033802],\n",
       "      [126.87028318342011, 37.49272176466726],\n",
       "      [126.8765, 37.4973],\n",
       "      [126.8776, 37.4972]]]}},\n",
       "  {'type': 'Feature',\n",
       "   'properties': {'code': '1117051',\n",
       "    'name': '신도림동',\n",
       "    'name_eng': 'Sindorim-dong',\n",
       "    'base_year': '2013'},\n",
       "   'geometry': {'type': 'Polygon',\n",
       "    'coordinates': [[[126.88156402353862, 37.513970034765684],\n",
       "      [126.89506194948585, 37.50665830681419],\n",
       "      [126.89723167926884, 37.50534888356761],\n",
       "      [126.89594776782485, 37.504675281309176],\n",
       "      [126.88332369335458, 37.50118999471856],\n",
       "      [126.87556919864359, 37.505720626918],\n",
       "      [126.88054908630636, 37.51148026214697],\n",
       "      [126.88156402353862, 37.513970034765684]]]}},\n",
       "  {'type': 'Feature',\n",
       "   'properties': {'code': '1117068',\n",
       "    'name': '오류동',\n",
       "    'name_eng': 'Oryu-dong',\n",
       "    'base_year': '2013'},\n",
       "   'geometry': {'type': 'Polygon',\n",
       "    'coordinates': [[[126.8507075760755, 37.492409254364155],\n",
       "      [126.85022989832544, 37.487654755354704],\n",
       "      [126.8503573371033, 37.479551458733745],\n",
       "      [126.84857160719005, 37.47889921808772],\n",
       "      [126.84763806764826, 37.47172294305019],\n",
       "      [126.83549485076196, 37.474098236975095],\n",
       "      [126.82525760713602, 37.48574414595206],\n",
       "      [126.84016587991022, 37.4903584307969],\n",
       "      [126.8507075760755, 37.492409254364155],\n",
       "      [126.84045080118607, 37.497338425236606],\n",
       "      [126.8528533439373, 37.49292365637293],\n",
       "      [126.8507075760755, 37.492409254364155],\n",
       "      [126.84016587991022, 37.4903584307969],\n",
       "      [126.83850084850799, 37.49784710329234],\n",
       "      [126.84045080118607, 37.497338425236606]]]}},\n",
       "  {'type': 'Feature',\n",
       "   'properties': {'code': '1117069',\n",
       "    'name': '수궁동',\n",
       "    'name_eng': 'Sugungdong',\n",
       "    'base_year': '2013'},\n",
       "   'geometry': {'type': 'Polygon',\n",
       "    'coordinates': [[[126.82504736331406, 37.50302612640443],\n",
       "      [126.82688081517314, 37.50548972232896],\n",
       "      [126.83850084850799, 37.49784710329234],\n",
       "      [126.84016587991022, 37.4903584307969],\n",
       "      [126.82525760713602, 37.48574414595206],\n",
       "      [126.82264796791348, 37.4878476492147],\n",
       "      [126.8155697990346, 37.4952575002297],\n",
       "      [126.82504736331406, 37.50302612640443]]]}},\n",
       "  {'type': 'Feature',\n",
       "   'properties': {'code': '1121058',\n",
       "    'name': '낙성대동',\n",
       "    'name_eng': 'Nakseongdaedong',\n",
       "    'base_year': '2013'},\n",
       "   'geometry': {'type': 'Polygon',\n",
       "    'coordinates': [[[126.96440767194494, 37.47478246235102],\n",
       "      [126.96663106925918, 37.464747929889235],\n",
       "      [126.96782129382363, 37.45222400270952],\n",
       "      [126.95463206413926, 37.468291186895485],\n",
       "      [126.95486260308485, 37.47848758271348],\n",
       "      [126.96440767194494, 37.47478246235102]]]}},\n",
       "  {'type': 'Feature',\n",
       "   'properties': {'code': '1121081',\n",
       "    'name': '난곡동',\n",
       "    'name_eng': 'Nangok-dong',\n",
       "    'base_year': '2013'},\n",
       "   'geometry': {'type': 'Polygon',\n",
       "    'coordinates': [[[126.92868677638837, 37.47165351482308],\n",
       "      [126.92507406339945, 37.460652610833634],\n",
       "      [126.91717646453112, 37.46334765487695],\n",
       "      [126.92627105886075, 37.47435839005767],\n",
       "      [126.92868677638837, 37.47165351482308]]]}},\n",
       "  {'type': 'Feature',\n",
       "   'properties': {'code': '1121071',\n",
       "    'name': '난향동',\n",
       "    'name_eng': 'Nanhyangdong',\n",
       "    'base_year': '2013'},\n",
       "   'geometry': {'type': 'Polygon',\n",
       "    'coordinates': [[[126.91584245173756, 37.462474576247985],\n",
       "      [126.91717646453112, 37.46334765487695],\n",
       "      [126.92507406339945, 37.460652610833634],\n",
       "      [126.92456266203958, 37.45443912781728],\n",
       "      [126.92050446420534, 37.454353860718314],\n",
       "      [126.91624482176803, 37.455284025751276],\n",
       "      [126.91584245173756, 37.462474576247985]]]}},\n",
       "  {'type': 'Feature',\n",
       "   'properties': {'code': '1121063',\n",
       "    'name': '남현동',\n",
       "    'name_eng': 'Namhyeon-dong',\n",
       "    'base_year': '2013'},\n",
       "   'geometry': {'type': 'Polygon',\n",
       "    'coordinates': [[[126.98367668291802, 37.473856492692086],\n",
       "      [126.99072073195462, 37.455326143310025],\n",
       "      [126.9729107191242, 37.44465100738844],\n",
       "      [126.97079559323022, 37.443979969069225],\n",
       "      [126.96782129382363, 37.45222400270952],\n",
       "      [126.96663106925918, 37.464747929889235],\n",
       "      [126.9725891850662, 37.472561363278125],\n",
       "      [126.98367668291802, 37.473856492692086]]]}},\n",
       "  {'type': 'Feature',\n",
       "   'properties': {'code': '1121073',\n",
       "    'name': '대학동',\n",
       "    'name_eng': 'Daehakdong',\n",
       "    'base_year': '2013'},\n",
       "   'geometry': {'type': 'Polygon',\n",
       "    'coordinates': [[[126.94864194254508, 37.46993874127806],\n",
       "      [126.95463206413926, 37.468291186895485],\n",
       "      [126.96782129382363, 37.45222400270952],\n",
       "      [126.97079559323022, 37.443979969069225],\n",
       "      [126.96520439085143, 37.438249784006246],\n",
       "      [126.95000001010182, 37.43613451165719],\n",
       "      [126.93312071245121, 37.44501071260275],\n",
       "      [126.93623468957882, 37.46898763955797],\n",
       "      [126.94864194254508, 37.46993874127806]]]}},\n",
       "  {'type': 'Feature',\n",
       "   'properties': {'code': '1121083',\n",
       "    'name': '미성동',\n",
       "    'name_eng': 'Miseongdong',\n",
       "    'base_year': '2013'},\n",
       "   'geometry': {'type': 'Polygon',\n",
       "    'coordinates': [[[126.92366817374759, 37.480315798763726],\n",
       "      [126.92627105886075, 37.47435839005767],\n",
       "      [126.91717646453112, 37.46334765487695],\n",
       "      [126.91584245173756, 37.462474576247985],\n",
       "      [126.91452958751441, 37.46286896301693],\n",
       "      [126.91449316124319, 37.46320234569859],\n",
       "      [126.91032166997253, 37.469818629944285],\n",
       "      [126.91181700249076, 37.47814319736339],\n",
       "      [126.91663244469753, 37.47900792984755],\n",
       "      [126.92366817374759, 37.480315798763726]]]}},\n",
       "  {'type': 'Feature',\n",
       "   'properties': {'code': '1121052',\n",
       "    'name': '보라매동',\n",
       "    'name_eng': 'Boramaedong',\n",
       "    'base_year': '2013'},\n",
       "   'geometry': {'type': 'Polygon',\n",
       "    'coordinates': [[[126.94160536109705, 37.4880711782804],\n",
       "      [126.93700566908628, 37.483591621156734],\n",
       "      [126.92639563063156, 37.48715979752876],\n",
       "      [126.93196490106226, 37.49119599414282],\n",
       "      [126.94160536109705, 37.4880711782804]]]}},\n",
       "  {'type': 'Feature',\n",
       "   'properties': {'code': '1121082',\n",
       "    'name': '삼성동',\n",
       "    'name_eng': 'Samseong-dong',\n",
       "    'base_year': '2013'},\n",
       "   'geometry': {'type': 'Polygon',\n",
       "    'coordinates': [[[126.93150707417718, 37.47224181631584],\n",
       "      [126.93623468957882, 37.46898763955797],\n",
       "      [126.93312071245121, 37.44501071260275],\n",
       "      [126.93084408056525, 37.447382928333994],\n",
       "      [126.92456266203958, 37.45443912781728],\n",
       "      [126.92507406339945, 37.460652610833634],\n",
       "      [126.92868677638837, 37.47165351482308],\n",
       "      [126.93150707417718, 37.47224181631584]]]}},\n",
       "  {'type': 'Feature',\n",
       "   'properties': {'code': '1121066',\n",
       "    'name': '서림동',\n",
       "    'name_eng': 'Seorimdong',\n",
       "    'base_year': '2013'},\n",
       "   'geometry': {'type': 'Polygon',\n",
       "    'coordinates': [[[126.94157462093705, 37.475308696677835],\n",
       "      [126.94864194254508, 37.46993874127806],\n",
       "      [126.93623468957882, 37.46898763955797],\n",
       "      [126.93150707417718, 37.47224181631584],\n",
       "      [126.93230582266611, 37.47253628216111],\n",
       "      [126.94157462093705, 37.475308696677835]]]}},\n",
       "  {'type': 'Feature',\n",
       "   'properties': {'code': '1121064',\n",
       "    'name': '서원동',\n",
       "    'name_eng': 'Seowondong',\n",
       "    'base_year': '2013'},\n",
       "   'geometry': {'type': 'Polygon',\n",
       "    'coordinates': [[[126.93629695726236, 37.48203090419261],\n",
       "      [126.93995045573277, 37.48130132208863],\n",
       "      [126.94157462093705, 37.475308696677835],\n",
       "      [126.93230582266611, 37.47253628216111],\n",
       "      [126.9287559525669, 37.48102787615792],\n",
       "      [126.93629695726236, 37.48203090419261]]]}},\n",
       "  {'type': 'Feature',\n",
       "   'properties': {'code': '1121079',\n",
       "    'name': '성현동',\n",
       "    'name_eng': 'Seonghyeondong',\n",
       "    'base_year': '2013'},\n",
       "   'geometry': {'type': 'Polygon',\n",
       "    'coordinates': [[[126.94948930121375, 37.49110468547788],\n",
       "      [126.95820407502991, 37.488777541288265],\n",
       "      [126.95899200969909, 37.48357283130852],\n",
       "      [126.95840177488707, 37.48285932958326],\n",
       "      [126.94904937323066, 37.484125151160704],\n",
       "      [126.94548449596635, 37.48927722719803],\n",
       "      [126.94948930121375, 37.49110468547788]]]}},\n",
       "  {'type': 'Feature',\n",
       "   'properties': {'code': '1121069',\n",
       "    'name': '신림동',\n",
       "    'name_eng': 'Sillim-dong',\n",
       "    'base_year': '2013'},\n",
       "   'geometry': {'type': 'Polygon',\n",
       "    'coordinates': [[[126.92639563063156, 37.48715979752876],\n",
       "      [126.93700566908628, 37.483591621156734],\n",
       "      [126.93629695726236, 37.48203090419261],\n",
       "      [126.9287559525669, 37.48102787615792],\n",
       "      [126.92827543846315, 37.48097491535272],\n",
       "      [126.92098483505987, 37.486757150185284],\n",
       "      [126.92639563063156, 37.48715979752876]]]}},\n",
       "  {'type': 'Feature',\n",
       "   'properties': {'code': '1123051',\n",
       "    'name': '신사동',\n",
       "    'name_eng': 'Sinsa-dong',\n",
       "    'base_year': '2013'},\n",
       "   'geometry': {'type': 'Polygon',\n",
       "    'coordinates': [[[127.0236688023869, 37.53273057382971],\n",
       "      [127.03018252439756, 37.51678177148938],\n",
       "      [127.02161856434614, 37.513416422499084],\n",
       "      [127.01397119667513, 37.52503988289669],\n",
       "      [127.02302831890559, 37.53231899582663],\n",
       "      [127.0236688023869, 37.53273057382971],\n",
       "      [126.92098483505987, 37.486757150185284],\n",
       "      [126.92827543846315, 37.48097491535272],\n",
       "      [126.92366817374759, 37.480315798763726],\n",
       "      [126.91663244469753, 37.47900792984755],\n",
       "      [126.9154171284617, 37.48444210787001],\n",
       "      [126.91806236300178, 37.485957329102675],\n",
       "      [126.92098483505987, 37.486757150185284]]]}},\n",
       "  {'type': 'Feature',\n",
       "   'properties': {'code': '1121065',\n",
       "    'name': '신원동',\n",
       "    'name_eng': 'Sinwon-dong',\n",
       "    'base_year': '2013'},\n",
       "   'geometry': {'type': 'Polygon',\n",
       "    'coordinates': [[[126.92827543846315, 37.48097491535272],\n",
       "      [126.9287559525669, 37.48102787615792],\n",
       "      [126.93230582266611, 37.47253628216111],\n",
       "      [126.93150707417718, 37.47224181631584],\n",
       "      [126.92868677638837, 37.47165351482308],\n",
       "      [126.92627105886075, 37.47435839005767],\n",
       "      [126.92366817374759, 37.480315798763726],\n",
       "      [126.92827543846315, 37.48097491535272]]]}},\n",
       "  {'type': 'Feature',\n",
       "   'properties': {'code': '1121078',\n",
       "    'name': '은천동',\n",
       "    'name_eng': 'Euncheondong',\n",
       "    'base_year': '2013'},\n",
       "   'geometry': {'type': 'Polygon',\n",
       "    'coordinates': [[[126.94548449596635, 37.48927722719803],\n",
       "      [126.94904937323066, 37.484125151160704],\n",
       "      [126.94843404003258, 37.47916653757164],\n",
       "      [126.93995045573277, 37.48130132208863],\n",
       "      [126.93629695726236, 37.48203090419261],\n",
       "      [126.93700566908628, 37.483591621156734],\n",
       "      [126.94160536109705, 37.4880711782804],\n",
       "      [126.94374246925278, 37.4894470145028],\n",
       "      [126.94548449596635, 37.48927722719803]]]}},\n",
       "  {'type': 'Feature',\n",
       "   'properties': {'code': '1121062',\n",
       "    'name': '인헌동',\n",
       "    'name_eng': 'Inheondong',\n",
       "    'base_year': '2013'},\n",
       "   'geometry': {'type': 'Polygon',\n",
       "    'coordinates': [[[126.9725891850662, 37.472561363278125],\n",
       "      [126.96663106925918, 37.464747929889235],\n",
       "      [126.96440767194494, 37.47478246235102],\n",
       "      [126.9725891850662, 37.472561363278125]]]}},\n",
       "  {'type': 'Feature',\n",
       "   'properties': {'code': '1121072',\n",
       "    'name': '조원동',\n",
       "    'name_eng': 'Jowon-dong',\n",
       "    'base_year': '2013'},\n",
       "   'geometry': {'type': 'Polygon',\n",
       "    'coordinates': [[[126.9154171284617, 37.48444210787001],\n",
       "      [126.91663244469753, 37.47900792984755],\n",
       "      [126.91181700249076, 37.47814319736339],\n",
       "      [126.90156094129895, 37.47753842789901],\n",
       "      [126.90531975801812, 37.48218087575429],\n",
       "      [126.9154171284617, 37.48444210787001]]]}},\n",
       "  {'type': 'Feature',\n",
       "   'properties': {'code': '1121061',\n",
       "    'name': '중앙동',\n",
       "    'name_eng': 'Jungang-dong',\n",
       "    'base_year': '2013'},\n",
       "   'geometry': {'type': 'Polygon',\n",
       "    'coordinates': [[[126.94904937323066, 37.484125151160704],\n",
       "      [126.95840177488707, 37.48285932958326],\n",
       "      [126.95486260308485, 37.47848758271348],\n",
       "      [126.94843404003258, 37.47916653757164],\n",
       "      [126.94904937323066, 37.484125151160704]]]}},\n",
       "  {'type': 'Feature',\n",
       "   'properties': {'code': '1121080',\n",
       "    'name': '청룡동',\n",
       "    'name_eng': 'Cheongnyong-dong',\n",
       "    'base_year': '2013'},\n",
       "   'geometry': {'type': 'Polygon',\n",
       "    'coordinates': [[[126.94843404003258, 37.47916653757164],\n",
       "      [126.95486260308485, 37.47848758271348],\n",
       "      [126.95463206413926, 37.468291186895485],\n",
       "      [126.94864194254508, 37.46993874127806],\n",
       "      [126.94157462093705, 37.475308696677835],\n",
       "      [126.93995045573277, 37.48130132208863],\n",
       "      [126.94843404003258, 37.47916653757164]]]}},\n",
       "  {'type': 'Feature',\n",
       "   'properties': {'code': '1121054',\n",
       "    'name': '청림동',\n",
       "    'name_eng': 'Cheongnim-dong',\n",
       "    'base_year': '2013'},\n",
       "   'geometry': {'type': 'Polygon',\n",
       "    'coordinates': [[[126.9633360846239, 37.48975425292044],\n",
       "      [126.96424614800331, 37.48243279750552],\n",
       "      [126.95899200969909, 37.48357283130852],\n",
       "      [126.95820407502991, 37.488777541288265],\n",
       "      [126.9633360846239, 37.48975425292044]]]}},\n",
       "  {'type': 'Feature',\n",
       "   'properties': {'code': '1121057',\n",
       "    'name': '행운동',\n",
       "    'name_eng': 'Haengundong',\n",
       "    'base_year': '2013'},\n",
       "   'geometry': {'type': 'Polygon',\n",
       "    'coordinates': [[[126.95840177488707, 37.48285932958326],\n",
       "      [126.95899200969909, 37.48357283130852],\n",
       "      [126.96424614800331, 37.48243279750552],\n",
       "      [126.96741939434126, 37.47675795377249],\n",
       "      [126.9722855254835, 37.473818610325516],\n",
       "      [126.9725891850662, 37.472561363278125],\n",
       "      [126.96440767194494, 37.47478246235102],\n",
       "      [126.95486260308485, 37.47848758271348],\n",
       "      [126.95840177488707, 37.48285932958326]]]}},\n",
       "  {'type': 'Feature',\n",
       "   'properties': {'code': '1124052',\n",
       "    'name': '풍납동',\n",
       "    'name_eng': 'Pungnapdong',\n",
       "    'base_year': '2013'},\n",
       "   'geometry': {'type': 'Polygon',\n",
       "    'coordinates': [[[127.10626975478488, 37.53320246924532],\n",
       "      [127.12337386349152, 37.53030612633618],\n",
       "      [127.12127423206992, 37.5252637914794],\n",
       "      [127.1185171541772, 37.52116117426451],\n",
       "      [127.101068120931, 37.525151938900564],\n",
       "      [127.10531319401831, 37.53186404698371],\n",
       "      [127.10626975478488, 37.53320246924532],\n",
       "      [127.1116764203608, 37.540669955324965],\n",
       "      [127.12532464331997, 37.53572787912298],\n",
       "      [127.12337386349152, 37.53030612633618],\n",
       "      [127.10626975478488, 37.53320246924532],\n",
       "      [127.1116764203608, 37.540669955324965]]]}},\n",
       "  {'type': 'Feature',\n",
       "   'properties': {'code': '1124070',\n",
       "    'name': '장지동',\n",
       "    'name_eng': 'Jangji-dong',\n",
       "    'base_year': '2013'},\n",
       "   'geometry': {'type': 'Polygon',\n",
       "    'coordinates': [[[127.14007677473411, 37.49149638593564],\n",
       "      [127.14479754461443, 37.486243853071905],\n",
       "      [127.15147990997852, 37.47745324805034],\n",
       "      [127.14206058413274, 37.47089819098501],\n",
       "      [127.12870227125612, 37.46604184177013],\n",
       "      [127.1262793882353, 37.47955845431148],\n",
       "      [127.13566505691283, 37.48772495794805],\n",
       "      [127.14007677473411, 37.49149638593564]]]}},\n",
       "  {'type': 'Feature',\n",
       "   'properties': {'code': '1124080',\n",
       "    'name': '잠실동',\n",
       "    'name_eng': 'Jamsildong',\n",
       "    'base_year': '2013'},\n",
       "   'geometry': {'type': 'Polygon',\n",
       "    'coordinates': [[[127.09254802952158, 37.5232002325931],\n",
       "      [127.1061376015552, 37.505945179369164],\n",
       "      [127.09942438049303, 37.50373442814207],\n",
       "      [127.09283256914149, 37.50472802678396],\n",
       "      [127.0876084980615, 37.508822888537686],\n",
       "      [127.09062956245532, 37.52268889181966],\n",
       "      [127.09254802952158, 37.5232002325931],\n",
       "      [127.07468544977327, 37.520974900073],\n",
       "      [127.09062956245532, 37.52268889181966],\n",
       "      [127.0876084980615, 37.508822888537686],\n",
       "      [127.0804346935926, 37.50906688906049],\n",
       "      [127.07091156739416, 37.50719902959034],\n",
       "      [127.07057106587357, 37.50748081931759],\n",
       "      [127.0690698130372, 37.522279423505026],\n",
       "      [127.07468544977327, 37.520974900073],\n",
       "      [127.07091156739416, 37.50719902959034],\n",
       "      [127.0804346935926, 37.50906688906049],\n",
       "      [127.07528960655267, 37.49932614743975],\n",
       "      [127.07091156739416, 37.50719902959034],\n",
       "      [127.10022841918634, 37.52475699541064],\n",
       "      [127.10876057377162, 37.51270927934955],\n",
       "      [127.11020223658842, 37.50917144065826],\n",
       "      [127.1061376015552, 37.505945179369164],\n",
       "      [127.09254802952158, 37.5232002325931],\n",
       "      [127.0943611414465, 37.523984206117525],\n",
       "      [127.10022841918634, 37.52475699541064],\n",
       "      [127.101068120931, 37.525151938900564],\n",
       "      [127.1185171541772, 37.52116117426451],\n",
       "      [127.11466412513991, 37.51471216716515],\n",
       "      [127.10876057377162, 37.51270927934955],\n",
       "      [127.10022841918634, 37.52475699541064],\n",
       "      [127.101068120931, 37.525151938900564],\n",
       "      [127.0876084980615, 37.508822888537686],\n",
       "      [127.09283256914149, 37.50472802678396],\n",
       "      [127.08573831212134, 37.49645940739078],\n",
       "      [127.07759949729024, 37.49839572885325],\n",
       "      [127.07528960655267, 37.49932614743975],\n",
       "      [127.0804346935926, 37.50906688906049],\n",
       "      [127.0876084980615, 37.508822888537686],\n",
       "      [127.0709, 37.5072]]]}},\n",
       "  {'type': 'Feature',\n",
       "   'properties': {'code': '1124059',\n",
       "    'name': '오륜동',\n",
       "    'name_eng': 'Oryun-dong',\n",
       "    'base_year': '2013'},\n",
       "   'geometry': {'type': 'Polygon',\n",
       "    'coordinates': [[[127.12127423206992, 37.5252637914794],\n",
       "      [127.13085529491111, 37.52098850616528],\n",
       "      [127.1360224375423, 37.51873736912533],\n",
       "      [127.14672806823502, 37.51415680680291],\n",
       "      [127.14234128412676, 37.50558978707914],\n",
       "      [127.13010227983818, 37.50893147940457],\n",
       "      [127.12314046744862, 37.51178484111041],\n",
       "      [127.11466412513991, 37.51471216716515],\n",
       "      [127.1185171541772, 37.52116117426451],\n",
       "      [127.12127423206992, 37.5252637914794]]]}},\n",
       "  {'type': 'Feature',\n",
       "   'properties': {'code': '1124060',\n",
       "    'name': '오금동',\n",
       "    'name_eng': 'Ogeum-dong',\n",
       "    'base_year': '2013'},\n",
       "   'geometry': {'type': 'Polygon',\n",
       "    'coordinates': [[[127.14234128412676, 37.50558978707914],\n",
       "      [127.14648692309005, 37.50158308598683],\n",
       "      [127.14408770104095, 37.496623440512806],\n",
       "      [127.1413904172007, 37.49285157653214],\n",
       "      [127.13023810599196, 37.499201691257944],\n",
       "      [127.12601715489286, 37.502566431166045],\n",
       "      [127.13010227983818, 37.50893147940457],\n",
       "      [127.14234128412676, 37.50558978707914]]]}},\n",
       "  {'type': 'Feature',\n",
       "   'properties': {'code': '1124062',\n",
       "    'name': '송파동',\n",
       "    'name_eng': 'Songpadong',\n",
       "    'base_year': '2013'},\n",
       "   'geometry': {'type': 'Polygon',\n",
       "    'coordinates': [[[127.12454553610858, 37.50257189817014],\n",
       "      [127.11690768761433, 37.49540111125877],\n",
       "      [127.11373398262673, 37.49759127667435],\n",
       "      [127.11225771020328, 37.49918647739398],\n",
       "      [127.11877175325546, 37.50495689262354],\n",
       "      [127.12454553610858, 37.50257189817014],\n",
       "      [127.1061376015552, 37.505945179369164],\n",
       "      [127.11020223658842, 37.50917144065826],\n",
       "      [127.11877175325546, 37.50495689262354],\n",
       "      [127.11225771020328, 37.49918647739398],\n",
       "      [127.1061376015552, 37.505945179369164]]]}},\n",
       "  {'type': 'Feature',\n",
       "   'properties': {'code': '1124063',\n",
       "    'name': '석촌동',\n",
       "    'name_eng': 'Seokchon-dong',\n",
       "    'base_year': '2013'},\n",
       "   'geometry': {'type': 'Polygon',\n",
       "    'coordinates': [[[127.1061376015552, 37.505945179369164],\n",
       "      [127.11225771020328, 37.49918647739398],\n",
       "      [127.11373398262673, 37.49759127667435],\n",
       "      [127.09945461343153, 37.49413709993721],\n",
       "      [127.09942438049303, 37.50373442814207],\n",
       "      [127.1061376015552, 37.505945179369164]]]}},\n",
       "  {'type': 'Feature',\n",
       "   'properties': {'code': '1124064',\n",
       "    'name': '삼전동',\n",
       "    'name_eng': 'Samjeon-dong',\n",
       "    'base_year': '2013'},\n",
       "   'geometry': {'type': 'Polygon',\n",
       "    'coordinates': [[[127.09942438049303, 37.50373442814207],\n",
       "      [127.09945461343153, 37.49413709993721],\n",
       "      [127.0988509639092, 37.49302529254068],\n",
       "      [127.0925798228796, 37.49466797489548],\n",
       "      [127.08573831212134, 37.49645940739078],\n",
       "      [127.09283256914149, 37.50472802678396],\n",
       "      [127.09942438049303, 37.50373442814207]]]}},\n",
       "  {'type': 'Feature',\n",
       "   'properties': {'code': '1124058',\n",
       "    'name': '방이동',\n",
       "    'name_eng': 'Bangidong',\n",
       "    'base_year': '2013'},\n",
       "   'geometry': {'type': 'Polygon',\n",
       "    'coordinates': [[[127.10876057377162, 37.51270927934955],\n",
       "      [127.11466412513991, 37.51471216716515],\n",
       "      [127.12314046744862, 37.51178484111041],\n",
       "      [127.11877175325546, 37.50495689262354],\n",
       "      [127.11020223658842, 37.50917144065826],\n",
       "      [127.10876057377162, 37.51270927934955],\n",
       "      [127.12314046744862, 37.51178484111041],\n",
       "      [127.13010227983818, 37.50893147940457],\n",
       "      [127.12601715489286, 37.502566431166045],\n",
       "      [127.12454553610858, 37.50257189817014],\n",
       "      [127.11877175325546, 37.50495689262354],\n",
       "      [127.12314046744862, 37.51178484111041]]]}},\n",
       "  {'type': 'Feature',\n",
       "   'properties': {'code': '1124068',\n",
       "    'name': '문정동',\n",
       "    'name_eng': 'Munjeongdong',\n",
       "    'base_year': '2013'},\n",
       "   'geometry': {'type': 'Polygon',\n",
       "    'coordinates': [[[127.13566505691283, 37.48772495794805],\n",
       "      [127.1262793882353, 37.47955845431148],\n",
       "      [127.1231960830453, 37.48619151131145],\n",
       "      [127.12836832360932, 37.488704998434415],\n",
       "      [127.13566505691283, 37.48772495794805],\n",
       "      [127.12087971813645, 37.48982135354343],\n",
       "      [127.1231960830453, 37.48619151131145],\n",
       "      [127.1262793882353, 37.47955845431148],\n",
       "      [127.12870227125612, 37.46604184177013],\n",
       "      [127.12440571080893, 37.46240445587048],\n",
       "      [127.11314705595287, 37.480127870880345],\n",
       "      [127.11025761076787, 37.48649739956609],\n",
       "      [127.12087971813645, 37.48982135354343]]]}},\n",
       "  {'type': 'Feature',\n",
       "   'properties': {'code': '1124055',\n",
       "    'name': '마천동',\n",
       "    'name_eng': 'Macheondong',\n",
       "    'base_year': '2013'},\n",
       "   'geometry': {'type': 'Polygon',\n",
       "    'coordinates': [[[127.15108684456172, 37.49347790471909],\n",
       "      [127.16221160119412, 37.49435439117592],\n",
       "      [127.1597960174098, 37.4873645011712],\n",
       "      [127.15108684456172, 37.49347790471909],\n",
       "      [127.14408770104095, 37.496623440512806],\n",
       "      [127.14648692309005, 37.50158308598683],\n",
       "      [127.16221160119412, 37.49435439117592],\n",
       "      [127.15108684456172, 37.49347790471909],\n",
       "      [127.14869521677802, 37.4951743903677],\n",
       "      [127.14408770104095, 37.496623440512806]]]}},\n",
       "  {'type': 'Feature',\n",
       "   'properties': {'code': '1124053',\n",
       "    'name': '거여동',\n",
       "    'name_eng': 'Geoyeodong',\n",
       "    'base_year': '2013'},\n",
       "   'geometry': {'type': 'Polygon',\n",
       "    'coordinates': [[[127.14408770104095, 37.496623440512806],\n",
       "      [127.14869521677802, 37.4951743903677],\n",
       "      [127.14479754461443, 37.486243853071905],\n",
       "      [127.14007677473411, 37.49149638593564],\n",
       "      [127.1413904172007, 37.49285157653214],\n",
       "      [127.14408770104095, 37.496623440512806],\n",
       "      [127.14869521677802, 37.4951743903677],\n",
       "      [127.15108684456172, 37.49347790471909],\n",
       "      [127.1597960174098, 37.4873645011712],\n",
       "      [127.15147990997852, 37.47745324805034],\n",
       "      [127.14479754461443, 37.486243853071905],\n",
       "      [127.14869521677802, 37.4951743903677]]]}},\n",
       "  {'type': 'Feature',\n",
       "   'properties': {'code': '1124065',\n",
       "    'name': '가락동',\n",
       "    'name_eng': 'Garakdong',\n",
       "    'base_year': '2013'},\n",
       "   'geometry': {'type': 'Polygon',\n",
       "    'coordinates': [[[127.12601715489286, 37.502566431166045],\n",
       "      [127.13023810599196, 37.499201691257944],\n",
       "      [127.12836832360932, 37.488704998434415],\n",
       "      [127.1231960830453, 37.48619151131145],\n",
       "      [127.12087971813645, 37.48982135354343],\n",
       "      [127.11690768761433, 37.49540111125877],\n",
       "      [127.12454553610858, 37.50257189817014],\n",
       "      [127.12601715489286, 37.502566431166045],\n",
       "      [127.11690768761433, 37.49540111125877],\n",
       "      [127.12087971813645, 37.48982135354343],\n",
       "      [127.11025761076787, 37.48649739956609],\n",
       "      [127.104076240713, 37.4908320962496],\n",
       "      [127.0988509639092, 37.49302529254068],\n",
       "      [127.09945461343153, 37.49413709993721],\n",
       "      [127.11373398262673, 37.49759127667435],\n",
       "      [127.11690768761433, 37.49540111125877],\n",
       "      [127.1413904172007, 37.49285157653214],\n",
       "      [127.14007677473411, 37.49149638593564],\n",
       "      [127.13566505691283, 37.48772495794805],\n",
       "      [127.12836832360932, 37.488704998434415],\n",
       "      [127.13023810599196, 37.499201691257944],\n",
       "      [127.1413904172007, 37.49285157653214],\n",
       "      [127.1169, 37.4954]]]}},\n",
       "  {'type': 'Feature',\n",
       "   'properties': {'code': '1124082',\n",
       "    'name': '위례동',\n",
       "    'name_eng': 'Wiryedong',\n",
       "    'base_year': '2013'},\n",
       "   'geometry': {'type': 'Polygon',\n",
       "    'coordinates': [[[127.140424, 37.481576]]]}},\n",
       "  {'type': 'Feature',\n",
       "   'properties': {'code': '1122068',\n",
       "    'name': '내곡동',\n",
       "    'name_eng': 'Naegok-dong',\n",
       "    'base_year': '2013'},\n",
       "   'geometry': {'type': 'Polygon',\n",
       "    'coordinates': [[[127.0792709266303, 37.47220180263369],\n",
       "      [127.08727101192895, 37.472465566199986],\n",
       "      [127.09842759318751, 37.45862253857461],\n",
       "      [127.09009867402395, 37.4422501807267],\n",
       "      [127.06526281404322, 37.426893481829154],\n",
       "      [127.05168651987388, 37.46767933933969],\n",
       "      [127.06463901956462, 37.47003474490574],\n",
       "      [127.07135137525977, 37.47107802023145],\n",
       "      [127.0792709266303, 37.47220180263369]]]}},\n",
       "  {'type': 'Feature',\n",
       "   'properties': {'code': '1122066',\n",
       "    'name': '양재동',\n",
       "    'name_eng': 'Yangjae-dong',\n",
       "    'base_year': '2013'},\n",
       "   'geometry': {'type': 'Polygon',\n",
       "    'coordinates': [[[127.03621915098798, 37.48175802427603],\n",
       "      [127.04345123620755, 37.48276415595109],\n",
       "      [127.04604758022018, 37.476903515648424],\n",
       "      [127.0319652225414, 37.46263681748507],\n",
       "      [127.00552362663117, 37.46445102893571],\n",
       "      [127.01241251373114, 37.46945266650744],\n",
       "      [127.02193521391702, 37.474067716833154],\n",
       "      [127.02911870203953, 37.477701177812094],\n",
       "      [127.03621915098798, 37.48175802427603],\n",
       "      [127.04604758022018, 37.476903515648424],\n",
       "      [127.05168651987388, 37.46767933933969],\n",
       "      [127.06526281404322, 37.426893481829154],\n",
       "      [127.04957232987142, 37.42805836845694],\n",
       "      [127.03751805596916, 37.438362795245276],\n",
       "      [127.0319652225414, 37.46263681748507],\n",
       "      [127.04604758022018, 37.476903515648424]]]}},\n",
       "  {'type': 'Feature',\n",
       "   'properties': {'code': '1122061',\n",
       "    'name': '방배동',\n",
       "    'name_eng': 'Bangbae-dong',\n",
       "    'base_year': '2013'},\n",
       "   'geometry': {'type': 'Polygon',\n",
       "    'coordinates': [[[126.99280810942619, 37.49535122909258],\n",
       "      [126.99756162244753, 37.49121462895283],\n",
       "      [126.98475158894651, 37.48808652542345],\n",
       "      [126.98984815732794, 37.49543063072423],\n",
       "      [126.99280810942619, 37.49535122909258],\n",
       "      [127.0028991124446, 37.48711641458056],\n",
       "      [127.00425350496688, 37.47948911528557],\n",
       "      [126.99573866021271, 37.47737384236648],\n",
       "      [126.9917301376147, 37.48363649668782],\n",
       "      [127.0028991124446, 37.48711641458056],\n",
       "      [126.9917301376147, 37.48363649668782],\n",
       "      [126.99573866021271, 37.47737384236648],\n",
       "      [126.99837609897334, 37.46390918086617],\n",
       "      [126.99072073195462, 37.455326143310025],\n",
       "      [126.98367668291802, 37.473856492692086],\n",
       "      [126.9841829418739, 37.48258040500068],\n",
       "      [126.9917301376147, 37.48363649668782],\n",
       "      [127.00425350496688, 37.47948911528557],\n",
       "      [127.01241251373114, 37.46945266650744],\n",
       "      [127.00552362663117, 37.46445102893571],\n",
       "      [126.99837609897334, 37.46390918086617],\n",
       "      [126.99573866021271, 37.47737384236648],\n",
       "      [127.00425350496688, 37.47948911528557],\n",
       "      [126.99756162244753, 37.49121462895283],\n",
       "      [127.00236954846237, 37.48914136388378],\n",
       "      [127.0028991124446, 37.48711641458056],\n",
       "      [126.9917301376147, 37.48363649668782],\n",
       "      [126.9841829418739, 37.48258040500068],\n",
       "      [126.98475158894651, 37.48808652542345],\n",
       "      [126.99756162244753, 37.49121462895283],\n",
       "      [127.0003, 37.4863]]]}},\n",
       "  {'type': 'Feature',\n",
       "   'properties': {'code': '1122056',\n",
       "    'name': '반포동',\n",
       "    'name_eng': 'Banpo-dong',\n",
       "    'base_year': '2013'},\n",
       "   'geometry': {'type': 'Polygon',\n",
       "    'coordinates': [[[126.99148001917875, 37.50990503427709],\n",
       "      [126.9899353890095, 37.49580403496503],\n",
       "      [126.98223807916081, 37.509314966770326],\n",
       "      [126.98458580602838, 37.51070333105394],\n",
       "      [126.99148001917875, 37.50990503427709],\n",
       "      [127.02245373407158, 37.508002078676576],\n",
       "      [127.02657410782747, 37.50176795282692],\n",
       "      [127.02659989308502, 37.50171416311321],\n",
       "      [127.0144851182109, 37.49656589001244],\n",
       "      [127.01112805225623, 37.504611045572915],\n",
       "      [127.0137942031517, 37.505368036653536],\n",
       "      [127.02245373407158, 37.508002078676576],\n",
       "      [126.99804297072596, 37.5129396612835],\n",
       "      [127.0031594358826, 37.50220792443068],\n",
       "      [126.99280810942619, 37.49535122909258],\n",
       "      [126.98984815732794, 37.49543063072423],\n",
       "      [126.9899353890095, 37.49580403496503],\n",
       "      [126.99148001917875, 37.50990503427709],\n",
       "      [126.99804297072596, 37.5129396612835],\n",
       "      [127.00652968936647, 37.51745900392613],\n",
       "      [127.0137942031517, 37.505368036653536],\n",
       "      [127.01112805225623, 37.504611045572915],\n",
       "      [127.0031594358826, 37.50220792443068],\n",
       "      [126.99804297072596, 37.5129396612835],\n",
       "      [127.00248921069708, 37.5151468928724],\n",
       "      [127.00652968936647, 37.51745900392613],\n",
       "      [127.01112805225623, 37.504611045572915],\n",
       "      [127.0144851182109, 37.49656589001244],\n",
       "      [127.01455292676967, 37.496242894198296],\n",
       "      [127.00236954846237, 37.48914136388378],\n",
       "      [126.99756162244753, 37.49121462895283],\n",
       "      [126.99280810942619, 37.49535122909258],\n",
       "      [127.0031594358826, 37.50220792443068],\n",
       "      [127.01112805225623, 37.504611045572915]]]}},\n",
       "  {'type': 'Feature',\n",
       "   'properties': {'code': '1122055',\n",
       "    'name': '잠원동',\n",
       "    'name_eng': 'Jamwon-dong',\n",
       "    'base_year': '2013'},\n",
       "   'geometry': {'type': 'Polygon',\n",
       "    'coordinates': [[[127.01397119667513, 37.52503988289669],\n",
       "      [127.02161856434614, 37.513416422499084],\n",
       "      [127.02245373407158, 37.508002078676576],\n",
       "      [127.0137942031517, 37.505368036653536],\n",
       "      [127.00652968936647, 37.51745900392613],\n",
       "      [127.01007476999547, 37.52178749847865],\n",
       "      [127.01397119667513, 37.52503988289669]]]}},\n",
       "  {'type': 'Feature',\n",
       "   'properties': {'code': '1119076',\n",
       "    'name': '문래동',\n",
       "    'name_eng': 'Mullae-dong',\n",
       "    'base_year': '2013'},\n",
       "   'geometry': {'type': 'Polygon',\n",
       "    'coordinates': [[[126.89434679089375, 37.517936329456134],\n",
       "      [126.90318876248057, 37.51623597708425],\n",
       "      [126.90595650913806, 37.512129264672595],\n",
       "      [126.90024970072872, 37.508651264053526],\n",
       "      [126.89506194948585, 37.50665830681419],\n",
       "      [126.88156402353862, 37.513970034765684],\n",
       "      [126.88189648445959, 37.5185794999475],\n",
       "      [126.89434679089375, 37.517936329456134]]]}},\n",
       "  {'type': 'Feature',\n",
       "   'properties': {'code': '1119075',\n",
       "    'name': '도림동',\n",
       "    'name_eng': 'Dorim-dong',\n",
       "    'base_year': '2013'},\n",
       "   'geometry': {'type': 'Polygon',\n",
       "    'coordinates': [[[126.91238867574337, 37.50790341847211],\n",
       "      [126.90031162921845, 37.50253058714012],\n",
       "      [126.89723167926884, 37.50534888356761],\n",
       "      [126.89506194948585, 37.50665830681419],\n",
       "      [126.90024970072872, 37.508651264053526],\n",
       "      [126.91238867574337, 37.50790341847211]]]}},\n",
       "  {'type': 'Feature',\n",
       "   'properties': {'code': '1119074',\n",
       "    'name': '영등포동',\n",
       "    'name_eng': 'Yeongdeungpo-dong',\n",
       "    'base_year': '2013'},\n",
       "   'geometry': {'type': 'Polygon',\n",
       "    'coordinates': [[[126.91529490742654, 37.52161528298722],\n",
       "      [126.9195863311316, 37.516647135051095],\n",
       "      [126.91875018253891, 37.51465398520624],\n",
       "      [126.90595650913806, 37.512129264672595],\n",
       "      [126.90318876248057, 37.51623597708425],\n",
       "      [126.90492891259342, 37.52332119911818],\n",
       "      [126.91529490742654, 37.52161528298722],\n",
       "      [126.90595650913806, 37.512129264672595],\n",
       "      [126.91875018253891, 37.51465398520624],\n",
       "      [126.91582906104041, 37.50858070360255],\n",
       "      [126.91238867574337, 37.50790341847211],\n",
       "      [126.90024970072872, 37.508651264053526],\n",
       "      [126.90595650913806, 37.512129264672595]]]}},\n",
       "  {'type': 'Feature',\n",
       "   'properties': {'code': '1119070',\n",
       "    'name': '대림동',\n",
       "    'name_eng': 'Daerim-dong',\n",
       "    'base_year': '2013'},\n",
       "   'geometry': {'type': 'Polygon',\n",
       "    'coordinates': [[[126.91025958396753, 37.49464345944196],\n",
       "      [126.9115445390681, 37.489781880538914],\n",
       "      [126.90842351049845, 37.48612122533977],\n",
       "      [126.90201988936221, 37.492026046634635],\n",
       "      [126.9058370630647, 37.49448728474771],\n",
       "      [126.91025958396753, 37.49464345944196],\n",
       "      [126.8974895759185, 37.48922754431995],\n",
       "      [126.90201988936221, 37.492026046634635],\n",
       "      [126.90842351049845, 37.48612122533977],\n",
       "      [126.90531975801812, 37.48218087575429],\n",
       "      [126.8974895759185, 37.48922754431995],\n",
       "      [126.89723167926884, 37.50534888356761],\n",
       "      [126.90031162921845, 37.50253058714012],\n",
       "      [126.90256960768151, 37.50022429722764],\n",
       "      [126.9058370630647, 37.49448728474771],\n",
       "      [126.90201988936221, 37.492026046634635],\n",
       "      [126.8974895759185, 37.48922754431995],\n",
       "      [126.89561850607332, 37.494919707033155],\n",
       "      [126.89594776782485, 37.504675281309176],\n",
       "      [126.89723167926884, 37.50534888356761],\n",
       "      [126.8975, 37.4892]]]}},\n",
       "  {'type': 'Feature',\n",
       "   'properties': {'code': '1119063',\n",
       "    'name': '신길동',\n",
       "    'name_eng': 'Singil-dong',\n",
       "    'base_year': '2013'},\n",
       "   'geometry': {'type': 'Polygon',\n",
       "    'coordinates': [[[126.91875018253891, 37.51465398520624],\n",
       "      [126.9195863311316, 37.516647135051095],\n",
       "      [126.92810628828279, 37.51329595732015],\n",
       "      [126.92725960303925, 37.51209836265926],\n",
       "      [126.91821751806383, 37.50284355014171],\n",
       "      [126.91582906104041, 37.50858070360255],\n",
       "      [126.91875018253891, 37.51465398520624],\n",
       "      [126.90031162921845, 37.50253058714012],\n",
       "      [126.91238867574337, 37.50790341847211],\n",
       "      [126.91225382276667, 37.50103128920818],\n",
       "      [126.90256960768151, 37.50022429722764],\n",
       "      [126.90031162921845, 37.50253058714012],\n",
       "      [126.91238867574337, 37.50790341847211],\n",
       "      [126.91582906104041, 37.50858070360255],\n",
       "      [126.91821751806383, 37.50284355014171],\n",
       "      [126.91754848082671, 37.5013900417839],\n",
       "      [126.91230922114025, 37.50081619356949],\n",
       "      [126.91225382276667, 37.50103128920818],\n",
       "      [126.91238867574337, 37.50790341847211],\n",
       "      [126.91230922114025, 37.50081619356949],\n",
       "      [126.91025958396753, 37.49464345944196],\n",
       "      [126.9058370630647, 37.49448728474771],\n",
       "      [126.90256960768151, 37.50022429722764],\n",
       "      [126.91225382276667, 37.50103128920818],\n",
       "      [126.91230922114025, 37.50081619356949],\n",
       "      [126.91754848082671, 37.5013900417839],\n",
       "      [126.92292130935361, 37.49859475197651],\n",
       "      [126.92232549303954, 37.49571954778746],\n",
       "      [126.9163327240052, 37.493780190159484],\n",
       "      [126.9115445390681, 37.489781880538914],\n",
       "      [126.91025958396753, 37.49464345944196],\n",
       "      [126.91230922114025, 37.50081619356949],\n",
       "      [126.91754848082671, 37.5013900417839],\n",
       "      [126.92725960303925, 37.51209836265926],\n",
       "      [126.92292130935361, 37.49859475197651],\n",
       "      [126.91754848082671, 37.5013900417839],\n",
       "      [126.91821751806383, 37.50284355014171],\n",
       "      [126.92725960303925, 37.51209836265926]]]}},\n",
       "  {'type': 'Feature',\n",
       "   'properties': {'code': '1119061',\n",
       "    'name': '양평동',\n",
       "    'name_eng': 'Yangpyeong-dong',\n",
       "    'base_year': '2013'},\n",
       "   'geometry': {'type': 'Polygon',\n",
       "    'coordinates': [[[126.89213569003026, 37.52757969298779],\n",
       "      [126.89623761041238, 37.52641288576302],\n",
       "      [126.89434679089375, 37.517936329456134],\n",
       "      [126.88189648445959, 37.5185794999475],\n",
       "      [126.88191372979959, 37.51939416754389],\n",
       "      [126.89057378109133, 37.52792091672938],\n",
       "      [126.89213569003026, 37.52757969298779],\n",
       "      [126.89884901883059, 37.54351915927068],\n",
       "      [126.90613928523919, 37.54004262194344],\n",
       "      [126.89623761041238, 37.52641288576302],\n",
       "      [126.89213569003026, 37.52757969298779],\n",
       "      [126.88825757860099, 37.54079733630232],\n",
       "      [126.89184663862764, 37.547373974997114],\n",
       "      [126.89884901883059, 37.54351915927068]]]}},\n",
       "  {'type': 'Feature',\n",
       "   'properties': {'code': '1119055',\n",
       "    'name': '당산동',\n",
       "    'name_eng': 'Dangsan-dong',\n",
       "    'base_year': '2013'},\n",
       "   'geometry': {'type': 'Polygon',\n",
       "    'coordinates': [[[126.89623761041238, 37.52641288576302],\n",
       "      [126.90492891259342, 37.52332119911818],\n",
       "      [126.90318876248057, 37.51623597708425],\n",
       "      [126.89434679089375, 37.517936329456134],\n",
       "      [126.89623761041238, 37.52641288576302],\n",
       "      [126.90980671398273, 37.53886879435198],\n",
       "      [126.91529490742654, 37.52161528298722],\n",
       "      [126.90492891259342, 37.52332119911818],\n",
       "      [126.89623761041238, 37.52641288576302],\n",
       "      [126.90613928523919, 37.54004262194344],\n",
       "      [126.90980671398273, 37.53886879435198]]]}},\n",
       "  {'type': 'Feature',\n",
       "   'properties': {'code': '1119054',\n",
       "    'name': '여의도동',\n",
       "    'name_eng': 'Yeoui-dong',\n",
       "    'base_year': '2013'},\n",
       "   'geometry': {'type': 'Polygon',\n",
       "    'coordinates': [[[126.91660453024498, 37.537356735757825],\n",
       "      [126.92756072062444, 37.53502278894361],\n",
       "      [126.93610231961364, 37.533536049459336],\n",
       "      [126.93918377413196, 37.531505495586806],\n",
       "      [126.94566733083212, 37.526617542453366],\n",
       "      [126.94843467030468, 37.52453252611103],\n",
       "      [126.95249990298159, 37.51722500741813],\n",
       "      [126.94057860663652, 37.51398774997332],\n",
       "      [126.93513436872607, 37.51296228521225],\n",
       "      [126.92810628828279, 37.51329595732015],\n",
       "      [126.9195863311316, 37.516647135051095],\n",
       "      [126.91529490742654, 37.52161528298722],\n",
       "      [126.90980671398273, 37.53886879435198],\n",
       "      [126.91660453024498, 37.537356735757825]]]}},\n",
       "  {'type': 'Feature',\n",
       "   'properties': {'code': '1117070',\n",
       "    'name': '가리봉동',\n",
       "    'name_eng': 'Garibong-dong',\n",
       "    'base_year': '2013'},\n",
       "   'geometry': {'type': 'Polygon',\n",
       "    'coordinates': [[[126.88224417295716, 37.484538764380076],\n",
       "      [126.88820216446295, 37.48204582221334],\n",
       "      [126.88841661067802, 37.48219105172914],\n",
       "      [126.89825969686503, 37.4757468558901],\n",
       "      [126.89795508338685, 37.475649435288865],\n",
       "      [126.8827497570056, 37.48316340563878],\n",
       "      [126.88224417295716, 37.484538764380076]]]}},\n",
       "  {'type': 'Feature',\n",
       "   'properties': {'code': '1115064',\n",
       "    'name': '신정동',\n",
       "    'name_eng': 'Sinjeong-dong',\n",
       "    'base_year': '2013'},\n",
       "   'geometry': {'type': 'Polygon',\n",
       "    'coordinates': [[[126.85454941949692, 37.51844750978848],\n",
       "      [126.86749753088638, 37.51976064430961],\n",
       "      [126.86468606159418, 37.51407314112323],\n",
       "      [126.85802673813076, 37.510879491972354],\n",
       "      [126.85454941949692, 37.51844750978848],\n",
       "      [126.88191372979959, 37.51939416754389],\n",
       "      [126.88189648445959, 37.5185794999475],\n",
       "      [126.88156402353862, 37.513970034765684],\n",
       "      [126.88054908630636, 37.51148026214697],\n",
       "      [126.8732486487875, 37.520328875655174],\n",
       "      [126.88191372979959, 37.51939416754389],\n",
       "      [126.85370070283693, 37.5189206441223],\n",
       "      [126.85454941949692, 37.51844750978848],\n",
       "      [126.85802673813076, 37.510879491972354],\n",
       "      [126.8602448049945, 37.50714262450898],\n",
       "      [126.84758421076914, 37.50465623338784],\n",
       "      [126.84045080118607, 37.497338425236606],\n",
       "      [126.83850084850799, 37.49784710329234],\n",
       "      [126.82688081517314, 37.50548972232896],\n",
       "      [126.82750646477032, 37.51629061540964],\n",
       "      [126.83701592046177, 37.51284779189256],\n",
       "      [126.85056881151817, 37.514181933614545],\n",
       "      [126.85370070283693, 37.5189206441223],\n",
       "      [126.86057462514691, 37.52630489837469],\n",
       "      [126.86610073476395, 37.52699964144669],\n",
       "      [126.86749753088638, 37.51976064430961],\n",
       "      [126.85454941949692, 37.51844750978848],\n",
       "      [126.85370070283693, 37.5189206441223],\n",
       "      [126.85098397861944, 37.525098716169985],\n",
       "      [126.85405286851844, 37.52548390048836],\n",
       "      [126.86057462514691, 37.52630489837469],\n",
       "      [126.8732486487875, 37.520328875655174],\n",
       "      [126.88054908630636, 37.51148026214697],\n",
       "      [126.87556919864359, 37.505720626918],\n",
       "      [126.86468606159418, 37.51407314112323],\n",
       "      [126.86749753088638, 37.51976064430961],\n",
       "      [126.8732486487875, 37.520328875655174],\n",
       "      [126.86468606159418, 37.51407314112323],\n",
       "      [126.87556919864359, 37.505720626918],\n",
       "      [126.87335085283947, 37.5028231455955],\n",
       "      [126.86484290038425, 37.50319788568579],\n",
       "      [126.8602448049945, 37.50714262450898],\n",
       "      [126.85802673813076, 37.510879491972354],\n",
       "      [126.86468606159418, 37.51407314112323]]]}},\n",
       "  {'type': 'Feature',\n",
       "   'properties': {'code': '1115057',\n",
       "    'name': '신월동',\n",
       "    'name_eng': 'Sinwol-dong',\n",
       "    'base_year': '2013'},\n",
       "   'geometry': {'type': 'Polygon',\n",
       "    'coordinates': [[[126.83059611512643, 37.53311218043022],\n",
       "      [126.83725242600985, 37.53411319148143],\n",
       "      [126.84257291943153, 37.52373707805596],\n",
       "      [126.83698179947808, 37.522751383509295],\n",
       "      [126.83059611512643, 37.53311218043022],\n",
       "      [126.84257291943153, 37.52373707805596],\n",
       "      [126.85098397861944, 37.525098716169985],\n",
       "      [126.85370070283693, 37.5189206441223],\n",
       "      [126.85056881151817, 37.514181933614545],\n",
       "      [126.84652529900028, 37.517241513953415],\n",
       "      [126.84257291943153, 37.52373707805596],\n",
       "      [126.8242331426722, 37.53788078753248],\n",
       "      [126.82686940039885, 37.53819083730896],\n",
       "      [126.83059611512643, 37.53311218043022],\n",
       "      [126.83698179947808, 37.522751383509295],\n",
       "      [126.828002136099, 37.52127611512284],\n",
       "      [126.82393357986797, 37.536418587711935],\n",
       "      [126.8242331426722, 37.53788078753248],\n",
       "      [126.84257291943153, 37.52373707805596],\n",
       "      [126.84652529900028, 37.517241513953415],\n",
       "      [126.84153277399147, 37.514285107208785],\n",
       "      [126.83698179947808, 37.522751383509295],\n",
       "      [126.84257291943153, 37.52373707805596],\n",
       "      [126.82686940039885, 37.53819083730896],\n",
       "      [126.83200611815096, 37.54333490679484],\n",
       "      [126.8358656942957, 37.537072465505254],\n",
       "      [126.83725242600985, 37.53411319148143],\n",
       "      [126.83059611512643, 37.53311218043022],\n",
       "      [126.82686940039885, 37.53819083730896],\n",
       "      [126.84652529900028, 37.517241513953415],\n",
       "      [126.85056881151817, 37.514181933614545],\n",
       "      [126.83701592046177, 37.51284779189256],\n",
       "      [126.84153277399147, 37.514285107208785],\n",
       "      [126.84652529900028, 37.517241513953415],\n",
       "      [126.83698179947808, 37.522751383509295],\n",
       "      [126.84153277399147, 37.514285107208785],\n",
       "      [126.83701592046177, 37.51284779189256],\n",
       "      [126.82750646477032, 37.51629061540964],\n",
       "      [126.827661394147, 37.51731218462361],\n",
       "      [126.828002136099, 37.52127611512284],\n",
       "      [126.83698179947808, 37.522751383509295]]]}},\n",
       "  {'type': 'Feature',\n",
       "   'properties': {'code': '1122054',\n",
       "    'name': '서초동',\n",
       "    'name_eng': 'Seocho-dong',\n",
       "    'base_year': '2013'},\n",
       "   'geometry': {'type': 'Polygon',\n",
       "    'coordinates': [[[127.0144851182109, 37.49656589001244],\n",
       "      [127.02659989308502, 37.50171416311321],\n",
       "      [127.02973923489684, 37.49515937670812],\n",
       "      [127.02338041637414, 37.493204693100644],\n",
       "      [127.01786538558227, 37.49151341708397],\n",
       "      [127.01455292676967, 37.496242894198296],\n",
       "      [127.0144851182109, 37.49656589001244],\n",
       "      [127.01455292676967, 37.496242894198296],\n",
       "      [127.01786538558227, 37.49151341708397],\n",
       "      [127.02193521391702, 37.474067716833154],\n",
       "      [127.01241251373114, 37.46945266650744],\n",
       "      [127.00425350496688, 37.47948911528557],\n",
       "      [127.0028991124446, 37.48711641458056],\n",
       "      [127.00236954846237, 37.48914136388378],\n",
       "      [127.01455292676967, 37.496242894198296],\n",
       "      [127.02338041637414, 37.493204693100644],\n",
       "      [127.02973923489684, 37.49515937670812],\n",
       "      [127.03372770134304, 37.48673420790798],\n",
       "      [127.03621915098798, 37.48175802427603],\n",
       "      [127.02911870203953, 37.477701177812094],\n",
       "      [127.02338041637414, 37.493204693100644],\n",
       "      [127.02338041637414, 37.493204693100644],\n",
       "      [127.02911870203953, 37.477701177812094],\n",
       "      [127.02193521391702, 37.474067716833154],\n",
       "      [127.01786538558227, 37.49151341708397],\n",
       "      [127.02338041637414, 37.493204693100644]]]}},\n",
       "  {'type': 'Feature',\n",
       "   'properties': {'code': '1115071',\n",
       "    'name': '목동',\n",
       "    'name_eng': 'Mok-dong',\n",
       "    'base_year': '2013'},\n",
       "   'geometry': {'type': 'Polygon',\n",
       "    'coordinates': [[[126.88825757860099, 37.54079733630232],\n",
       "      [126.89213569003026, 37.52757969298779],\n",
       "      [126.89057378109133, 37.52792091672938],\n",
       "      [126.86927702836392, 37.52742003525212],\n",
       "      [126.87475973523975, 37.53477343212077],\n",
       "      [126.8872486543506, 37.54079100234749],\n",
       "      [126.88825757860099, 37.54079733630232],\n",
       "      [126.87055756559812, 37.53699225363709],\n",
       "      [126.87475973523975, 37.53477343212077],\n",
       "      [126.86927702836392, 37.52742003525212],\n",
       "      [126.86610073476395, 37.52699964144669],\n",
       "      [126.86558466813598, 37.532799856575316],\n",
       "      [126.86576197147025, 37.53648442128123],\n",
       "      [126.87055756559812, 37.53699225363709],\n",
       "      [126.86716429874264, 37.54825913468198],\n",
       "      [126.8727924099192, 37.544853699294116],\n",
       "      [126.87055756559812, 37.53699225363709],\n",
       "      [126.86576197147025, 37.53648442128123],\n",
       "      [126.86637464321238, 37.54859191094823],\n",
       "      [126.86716429874264, 37.54825913468198],\n",
       "      [126.8872486543506, 37.54079100234749],\n",
       "      [126.87475973523975, 37.53477343212077],\n",
       "      [126.87055756559812, 37.53699225363709],\n",
       "      [126.8727924099192, 37.544853699294116],\n",
       "      [126.8872486543506, 37.54079100234749],\n",
       "      [126.86927702836392, 37.52742003525212],\n",
       "      [126.89057378109133, 37.52792091672938],\n",
       "      [126.88191372979959, 37.51939416754389],\n",
       "      [126.8732486487875, 37.520328875655174],\n",
       "      [126.86749753088638, 37.51976064430961],\n",
       "      [126.86610073476395, 37.52699964144669],\n",
       "      [126.86927702836392, 37.52742003525212]]]}}]}"
      ]
     },
     "execution_count": 131,
     "metadata": {},
     "output_type": "execute_result"
    }
   ],
   "source": [
    "geo_data = 'skorea_submunicipalities_geo_simple.json'\n",
    "geo_json = json.load(open(geo_data,encoding='utf-8'))\n",
    "# geo_json"
   ]
  },
  {
   "cell_type": "markdown",
   "metadata": {},
   "source": [
    "### 지도로 표시"
   ]
  },
  {
   "cell_type": "code",
   "execution_count": 133,
   "metadata": {},
   "outputs": [
    {
     "data": {
      "text/html": [
       "<div style=\"width:100%;\"><div style=\"position:relative;width:100%;height:0;padding-bottom:60%;\"><span style=\"color:#565656\">Make this Notebook Trusted to load map: File -> Trust Notebook</span><iframe src=\"about:blank\" style=\"position:absolute;width:100%;height:100%;left:0;top:0;border:none !important;\" data-html=%3C%21DOCTYPE%20html%3E%0A%3Chead%3E%20%20%20%20%0A%20%20%20%20%3Cmeta%20http-equiv%3D%22content-type%22%20content%3D%22text/html%3B%20charset%3DUTF-8%22%20/%3E%0A%20%20%20%20%0A%20%20%20%20%20%20%20%20%3Cscript%3E%0A%20%20%20%20%20%20%20%20%20%20%20%20L_NO_TOUCH%20%3D%20false%3B%0A%20%20%20%20%20%20%20%20%20%20%20%20L_DISABLE_3D%20%3D%20false%3B%0A%20%20%20%20%20%20%20%20%3C/script%3E%0A%20%20%20%20%0A%20%20%20%20%3Cstyle%3Ehtml%2C%20body%20%7Bwidth%3A%20100%25%3Bheight%3A%20100%25%3Bmargin%3A%200%3Bpadding%3A%200%3B%7D%3C/style%3E%0A%20%20%20%20%3Cstyle%3E%23map%20%7Bposition%3Aabsolute%3Btop%3A0%3Bbottom%3A0%3Bright%3A0%3Bleft%3A0%3B%7D%3C/style%3E%0A%20%20%20%20%3Cscript%20src%3D%22https%3A//cdn.jsdelivr.net/npm/leaflet%401.6.0/dist/leaflet.js%22%3E%3C/script%3E%0A%20%20%20%20%3Cscript%20src%3D%22https%3A//code.jquery.com/jquery-1.12.4.min.js%22%3E%3C/script%3E%0A%20%20%20%20%3Cscript%20src%3D%22https%3A//maxcdn.bootstrapcdn.com/bootstrap/3.2.0/js/bootstrap.min.js%22%3E%3C/script%3E%0A%20%20%20%20%3Cscript%20src%3D%22https%3A//cdnjs.cloudflare.com/ajax/libs/Leaflet.awesome-markers/2.0.2/leaflet.awesome-markers.js%22%3E%3C/script%3E%0A%20%20%20%20%3Clink%20rel%3D%22stylesheet%22%20href%3D%22https%3A//cdn.jsdelivr.net/npm/leaflet%401.6.0/dist/leaflet.css%22/%3E%0A%20%20%20%20%3Clink%20rel%3D%22stylesheet%22%20href%3D%22https%3A//maxcdn.bootstrapcdn.com/bootstrap/3.2.0/css/bootstrap.min.css%22/%3E%0A%20%20%20%20%3Clink%20rel%3D%22stylesheet%22%20href%3D%22https%3A//maxcdn.bootstrapcdn.com/bootstrap/3.2.0/css/bootstrap-theme.min.css%22/%3E%0A%20%20%20%20%3Clink%20rel%3D%22stylesheet%22%20href%3D%22https%3A//maxcdn.bootstrapcdn.com/font-awesome/4.6.3/css/font-awesome.min.css%22/%3E%0A%20%20%20%20%3Clink%20rel%3D%22stylesheet%22%20href%3D%22https%3A//cdnjs.cloudflare.com/ajax/libs/Leaflet.awesome-markers/2.0.2/leaflet.awesome-markers.css%22/%3E%0A%20%20%20%20%3Clink%20rel%3D%22stylesheet%22%20href%3D%22https%3A//cdn.jsdelivr.net/gh/python-visualization/folium/folium/templates/leaflet.awesome.rotate.min.css%22/%3E%0A%20%20%20%20%0A%20%20%20%20%20%20%20%20%20%20%20%20%3Cmeta%20name%3D%22viewport%22%20content%3D%22width%3Ddevice-width%2C%0A%20%20%20%20%20%20%20%20%20%20%20%20%20%20%20%20initial-scale%3D1.0%2C%20maximum-scale%3D1.0%2C%20user-scalable%3Dno%22%20/%3E%0A%20%20%20%20%20%20%20%20%20%20%20%20%3Cstyle%3E%0A%20%20%20%20%20%20%20%20%20%20%20%20%20%20%20%20%23map_bd0052bbd10944d99eb607fb176e6608%20%7B%0A%20%20%20%20%20%20%20%20%20%20%20%20%20%20%20%20%20%20%20%20position%3A%20relative%3B%0A%20%20%20%20%20%20%20%20%20%20%20%20%20%20%20%20%20%20%20%20width%3A%20100.0%25%3B%0A%20%20%20%20%20%20%20%20%20%20%20%20%20%20%20%20%20%20%20%20height%3A%20100.0%25%3B%0A%20%20%20%20%20%20%20%20%20%20%20%20%20%20%20%20%20%20%20%20left%3A%200.0%25%3B%0A%20%20%20%20%20%20%20%20%20%20%20%20%20%20%20%20%20%20%20%20top%3A%200.0%25%3B%0A%20%20%20%20%20%20%20%20%20%20%20%20%20%20%20%20%7D%0A%20%20%20%20%20%20%20%20%20%20%20%20%3C/style%3E%0A%20%20%20%20%20%20%20%20%0A%20%20%20%20%3Cscript%20src%3D%22https%3A//cdnjs.cloudflare.com/ajax/libs/d3/3.5.5/d3.min.js%22%3E%3C/script%3E%0A%3C/head%3E%0A%3Cbody%3E%20%20%20%20%0A%20%20%20%20%0A%20%20%20%20%20%20%20%20%20%20%20%20%3Cdiv%20class%3D%22folium-map%22%20id%3D%22map_bd0052bbd10944d99eb607fb176e6608%22%20%3E%3C/div%3E%0A%20%20%20%20%20%20%20%20%0A%3C/body%3E%0A%3Cscript%3E%20%20%20%20%0A%20%20%20%20%0A%20%20%20%20%20%20%20%20%20%20%20%20var%20map_bd0052bbd10944d99eb607fb176e6608%20%3D%20L.map%28%0A%20%20%20%20%20%20%20%20%20%20%20%20%20%20%20%20%22map_bd0052bbd10944d99eb607fb176e6608%22%2C%0A%20%20%20%20%20%20%20%20%20%20%20%20%20%20%20%20%7B%0A%20%20%20%20%20%20%20%20%20%20%20%20%20%20%20%20%20%20%20%20center%3A%20%5B37.476281%2C%20126.958369%5D%2C%0A%20%20%20%20%20%20%20%20%20%20%20%20%20%20%20%20%20%20%20%20crs%3A%20L.CRS.EPSG3857%2C%0A%20%20%20%20%20%20%20%20%20%20%20%20%20%20%20%20%20%20%20%20zoom%3A%2010%2C%0A%20%20%20%20%20%20%20%20%20%20%20%20%20%20%20%20%20%20%20%20zoomControl%3A%20true%2C%0A%20%20%20%20%20%20%20%20%20%20%20%20%20%20%20%20%20%20%20%20preferCanvas%3A%20false%2C%0A%20%20%20%20%20%20%20%20%20%20%20%20%20%20%20%20%7D%0A%20%20%20%20%20%20%20%20%20%20%20%20%29%3B%0A%0A%20%20%20%20%20%20%20%20%20%20%20%20%0A%0A%20%20%20%20%20%20%20%20%0A%20%20%20%20%0A%20%20%20%20%20%20%20%20%20%20%20%20var%20tile_layer_d9543a3998d749a2aa99f781f142a157%20%3D%20L.tileLayer%28%0A%20%20%20%20%20%20%20%20%20%20%20%20%20%20%20%20%22https%3A//%7Bs%7D.tile.openstreetmap.org/%7Bz%7D/%7Bx%7D/%7By%7D.png%22%2C%0A%20%20%20%20%20%20%20%20%20%20%20%20%20%20%20%20%7B%22attribution%22%3A%20%22Data%20by%20%5Cu0026copy%3B%20%5Cu003ca%20href%3D%5C%22http%3A//openstreetmap.org%5C%22%5Cu003eOpenStreetMap%5Cu003c/a%5Cu003e%2C%20under%20%5Cu003ca%20href%3D%5C%22http%3A//www.openstreetmap.org/copyright%5C%22%5Cu003eODbL%5Cu003c/a%5Cu003e.%22%2C%20%22detectRetina%22%3A%20false%2C%20%22maxNativeZoom%22%3A%2018%2C%20%22maxZoom%22%3A%2018%2C%20%22minZoom%22%3A%200%2C%20%22noWrap%22%3A%20false%2C%20%22opacity%22%3A%201%2C%20%22subdomains%22%3A%20%22abc%22%2C%20%22tms%22%3A%20false%7D%0A%20%20%20%20%20%20%20%20%20%20%20%20%29.addTo%28map_bd0052bbd10944d99eb607fb176e6608%29%3B%0A%20%20%20%20%20%20%20%20%0A%20%20%20%20%0A%20%20%20%20%20%20%20%20%20%20%20%20var%20choropleth_eadcad3b19244469b7c4cfa9156eb783%20%3D%20L.featureGroup%28%0A%20%20%20%20%20%20%20%20%20%20%20%20%20%20%20%20%7B%7D%0A%20%20%20%20%20%20%20%20%20%20%20%20%29.addTo%28map_bd0052bbd10944d99eb607fb176e6608%29%3B%0A%20%20%20%20%20%20%20%20%0A%20%20%20%20%0A%20%20%20%20%20%20%20%20function%20geo_json_9367aacf440f443dac84fe9709a0b178_styler%28feature%29%20%7B%0A%20%20%20%20%20%20%20%20%20%20%20%20switch%28feature.id%29%20%7B%0A%20%20%20%20%20%20%20%20%20%20%20%20%20%20%20%20case%20%221%22%3A%20case%20%222%22%3A%20case%20%225%22%3A%20case%20%2222%22%3A%20case%20%2248%22%3A%20case%20%2260%22%3A%20case%20%2273%22%3A%20case%20%2274%22%3A%20case%20%2280%22%3A%20case%20%2281%22%3A%20case%20%2284%22%3A%20case%20%2287%22%3A%20case%20%2289%22%3A%20%0A%20%20%20%20%20%20%20%20%20%20%20%20%20%20%20%20%20%20%20%20return%20%7B%22color%22%3A%20%22black%22%2C%20%22fillColor%22%3A%20%22%23fdbb84%22%2C%20%22fillOpacity%22%3A%200.6%2C%20%22opacity%22%3A%200.2%2C%20%22weight%22%3A%201%7D%3B%0A%20%20%20%20%20%20%20%20%20%20%20%20%20%20%20%20case%20%224%22%3A%20case%20%228%22%3A%20case%20%2212%22%3A%20case%20%2215%22%3A%20case%20%2221%22%3A%20case%20%2224%22%3A%20case%20%2225%22%3A%20case%20%2226%22%3A%20case%20%2244%22%3A%20case%20%2249%22%3A%20case%20%2266%22%3A%20case%20%2267%22%3A%20case%20%2270%22%3A%20case%20%2275%22%3A%20case%20%2277%22%3A%20case%20%2279%22%3A%20case%20%2282%22%3A%20case%20%2283%22%3A%20%0A%20%20%20%20%20%20%20%20%20%20%20%20%20%20%20%20%20%20%20%20return%20%7B%22color%22%3A%20%22black%22%2C%20%22fillColor%22%3A%20%22%23fdd49e%22%2C%20%22fillOpacity%22%3A%200.6%2C%20%22opacity%22%3A%200.2%2C%20%22weight%22%3A%201%7D%3B%0A%20%20%20%20%20%20%20%20%20%20%20%20%20%20%20%20case%20%2210%22%3A%20case%20%2223%22%3A%20case%20%2229%22%3A%20case%20%2233%22%3A%20case%20%2286%22%3A%20%0A%20%20%20%20%20%20%20%20%20%20%20%20%20%20%20%20%20%20%20%20return%20%7B%22color%22%3A%20%22black%22%2C%20%22fillColor%22%3A%20%22%23fc8d59%22%2C%20%22fillOpacity%22%3A%200.6%2C%20%22opacity%22%3A%200.2%2C%20%22weight%22%3A%201%7D%3B%0A%20%20%20%20%20%20%20%20%20%20%20%20%20%20%20%20case%20%2288%22%3A%20%0A%20%20%20%20%20%20%20%20%20%20%20%20%20%20%20%20%20%20%20%20return%20%7B%22color%22%3A%20%22black%22%2C%20%22fillColor%22%3A%20%22%23b30000%22%2C%20%22fillOpacity%22%3A%200.6%2C%20%22opacity%22%3A%200.2%2C%20%22weight%22%3A%201%7D%3B%0A%20%20%20%20%20%20%20%20%20%20%20%20%20%20%20%20default%3A%0A%20%20%20%20%20%20%20%20%20%20%20%20%20%20%20%20%20%20%20%20return%20%7B%22color%22%3A%20%22black%22%2C%20%22fillColor%22%3A%20%22%23fef0d9%22%2C%20%22fillOpacity%22%3A%200.6%2C%20%22opacity%22%3A%200.2%2C%20%22weight%22%3A%201%7D%3B%0A%20%20%20%20%20%20%20%20%20%20%20%20%7D%0A%20%20%20%20%20%20%20%20%7D%0A%0A%20%20%20%20%20%20%20%20function%20geo_json_9367aacf440f443dac84fe9709a0b178_onEachFeature%28feature%2C%20layer%29%20%7B%0A%20%20%20%20%20%20%20%20%20%20%20%20layer.on%28%7B%0A%20%20%20%20%20%20%20%20%20%20%20%20%7D%29%3B%0A%20%20%20%20%20%20%20%20%7D%3B%0A%20%20%20%20%20%20%20%20var%20geo_json_9367aacf440f443dac84fe9709a0b178%20%3D%20L.geoJson%28null%2C%20%7B%0A%20%20%20%20%20%20%20%20%20%20%20%20%20%20%20%20onEachFeature%3A%20geo_json_9367aacf440f443dac84fe9709a0b178_onEachFeature%2C%0A%20%20%20%20%20%20%20%20%20%20%20%20%0A%20%20%20%20%20%20%20%20%20%20%20%20%20%20%20%20style%3A%20geo_json_9367aacf440f443dac84fe9709a0b178_styler%2C%0A%20%20%20%20%20%20%20%20%7D%29%3B%0A%0A%20%20%20%20%20%20%20%20function%20geo_json_9367aacf440f443dac84fe9709a0b178_add%20%28data%29%20%7B%0A%20%20%20%20%20%20%20%20%20%20%20%20geo_json_9367aacf440f443dac84fe9709a0b178%0A%20%20%20%20%20%20%20%20%20%20%20%20%20%20%20%20.addData%28data%29%0A%20%20%20%20%20%20%20%20%20%20%20%20%20%20%20%20.addTo%28choropleth_eadcad3b19244469b7c4cfa9156eb783%29%3B%0A%20%20%20%20%20%20%20%20%7D%0A%20%20%20%20%20%20%20%20%20%20%20%20geo_json_9367aacf440f443dac84fe9709a0b178_add%28%7B%22features%22%3A%20%5B%7B%22geometry%22%3A%20%7B%22coordinates%22%3A%20%5B%5B%5B127.07394407641691%2C%2037.490219908941526%5D%2C%20%5B127.07955765330033%2C%2037.48431726402668%5D%2C%20%5B127.0792709266303%2C%2037.47220180263369%5D%2C%20%5B127.07135137525977%2C%2037.47107802023145%5D%2C%20%5B127.05862774489128%2C%2037.48485501136302%5D%2C%20%5B127.05866574786786%2C%2037.484875268285805%5D%2C%20%5B127.06763773042414%2C%2037.487263687924894%5D%2C%20%5B127.07394407641691%2C%2037.490219908941526%5D%2C%20%5B127.05383176381247%2C%2037.482047981751535%5D%2C%20%5B127.06463901956462%2C%2037.47003474490574%5D%2C%20%5B127.05168651987388%2C%2037.46767933933969%5D%2C%20%5B127.04604758022018%2C%2037.476903515648424%5D%2C%20%5B127.05383176381247%2C%2037.482047981751535%5D%2C%20%5B127.05862774489128%2C%2037.48485501136302%5D%2C%20%5B127.07135137525977%2C%2037.47107802023145%5D%2C%20%5B127.06463901956462%2C%2037.47003474490574%5D%2C%20%5B127.05383176381247%2C%2037.482047981751535%5D%2C%20%5B127.05862774489128%2C%2037.48485501136302%5D%2C%20%5B127.0844%2C%2037.4922%5D%5D%5D%2C%20%22type%22%3A%20%22Polygon%22%7D%2C%20%22id%22%3A%20%220%22%2C%20%22properties%22%3A%20%7B%22base_year%22%3A%20%222013%22%2C%20%22code%22%3A%20%221123080%22%2C%20%22name%22%3A%20%22%5Cuac1c%5Cud3ec%5Cub3d9%22%2C%20%22name_eng%22%3A%20%22Gaepo-dong%22%7D%2C%20%22type%22%3A%20%22Feature%22%7D%2C%20%7B%22geometry%22%3A%20%7B%22coordinates%22%3A%20%5B%5B%5B127.03018252439756%2C%2037.51678177148938%5D%2C%20%5B127.04128354419875%2C%2037.52010346103419%5D%2C%20%5B127.04426529288817%2C%2037.51461391134843%5D%2C%20%5B127.04637616087683%2C%2037.50642665161706%5D%2C%20%5B127.0360134845328%2C%2037.504542767054886%5D%2C%20%5B127.03018252439756%2C%2037.51678177148938%5D%2C%20%5B127.03018252439756%2C%2037.51678177148938%5D%2C%20%5B127.0360134845328%2C%2037.504542767054886%5D%2C%20%5B127.02657410782747%2C%2037.50176795282692%5D%2C%20%5B127.02245373407158%2C%2037.508002078676576%5D%2C%20%5B127.02161856434614%2C%2037.513416422499084%5D%2C%20%5B127.03018252439756%2C%2037.51678177148938%5D%5D%5D%2C%20%22type%22%3A%20%22Polygon%22%7D%2C%20%22id%22%3A%20%221%22%2C%20%22properties%22%3A%20%7B%22base_year%22%3A%20%222013%22%2C%20%22code%22%3A%20%221123053%22%2C%20%22name%22%3A%20%22%5Cub17c%5Cud604%5Cub3d9%22%2C%20%22name_eng%22%3A%20%22Nonhyeon-dong%22%7D%2C%20%22type%22%3A%20%22Feature%22%7D%2C%20%7B%22geometry%22%3A%20%7B%22coordinates%22%3A%20%5B%5B%5B127.05879877483423%2C%2037.504050964816194%5D%2C%20%5B127.06296770120233%2C%2037.496068529964205%5D%2C%20%5B127.05508059617965%2C%2037.49354665411371%5D%2C%20%5B127.05461669063445%2C%2037.49424887399282%5D%2C%20%5B127.04928414981033%2C%2037.50116986852596%5D%2C%20%5B127.05103593048881%2C%2037.50182669060668%5D%2C%20%5B127.05879877483423%2C%2037.504050964816194%5D%2C%20%5B127.05508059617965%2C%2037.49354665411371%5D%2C%20%5B127.06296770120233%2C%2037.496068529964205%5D%2C%20%5B127.06763773042414%2C%2037.487263687924894%5D%2C%20%5B127.05866574786786%2C%2037.484875268285805%5D%2C%20%5B127.05508059617965%2C%2037.49354665411371%5D%2C%20%5B127.05508059617965%2C%2037.49354665411371%5D%2C%20%5B127.06296770120233%2C%2037.496068529964205%5D%2C%20%5B127.06763773042414%2C%2037.487263687924894%5D%2C%20%5B127.05866574786786%2C%2037.484875268285805%5D%2C%20%5B127.05508059617965%2C%2037.49354665411371%5D%2C%20%5B127.07091156739416%2C%2037.50719902959034%5D%2C%20%5B127.07528960655267%2C%2037.49932614743975%5D%2C%20%5B127.07759949729024%2C%2037.49839572885325%5D%2C%20%5B127.07394407641691%2C%2037.490219908941526%5D%2C%20%5B127.06763773042414%2C%2037.487263687924894%5D%2C%20%5B127.06296770120233%2C%2037.496068529964205%5D%2C%20%5B127.05879877483423%2C%2037.504050964816194%5D%2C%20%5B127.07057106587357%2C%2037.50748081931759%5D%2C%20%5B127.07091156739416%2C%2037.50719902959034%5D%2C%20%5B127.05508059617965%2C%2037.49354665411371%5D%2C%20%5B127.06296770120233%2C%2037.496068529964205%5D%2C%20%5B127.06763773042414%2C%2037.487263687924894%5D%2C%20%5B127.05866574786786%2C%2037.484875268285805%5D%2C%20%5B127.05508059617965%2C%2037.49354665411371%5D%5D%5D%2C%20%22type%22%3A%20%22Polygon%22%7D%2C%20%22id%22%3A%20%222%22%2C%20%22properties%22%3A%20%7B%22base_year%22%3A%20%222013%22%2C%20%22code%22%3A%20%221123063%22%2C%20%22name%22%3A%20%22%5Cub300%5Cuce58%5Cub3d9%22%2C%20%22name_eng%22%3A%20%22Daechi-dong%22%7D%2C%20%22type%22%3A%20%22Feature%22%7D%2C%20%7B%22geometry%22%3A%20%7B%22coordinates%22%3A%20%5B%5B%5B127.05508059617965%2C%2037.49354665411371%5D%2C%20%5B127.05866574786786%2C%2037.484875268285805%5D%2C%20%5B127.05862774489128%2C%2037.48485501136302%5D%2C%20%5B127.05383176381247%2C%2037.482047981751535%5D%2C%20%5B127.04604758022018%2C%2037.476903515648424%5D%2C%20%5B127.04345123620755%2C%2037.48276415595109%5D%2C%20%5B127.0487980642459%2C%2037.491499814920594%5D%2C%20%5B127.05461669063445%2C%2037.49424887399282%5D%2C%20%5B127.05508059617965%2C%2037.49354665411371%5D%2C%20%5B127.0487980642459%2C%2037.491499814920594%5D%2C%20%5B127.04345123620755%2C%2037.48276415595109%5D%2C%20%5B127.03621915098798%2C%2037.48175802427603%5D%2C%20%5B127.03372770134304%2C%2037.48673420790798%5D%2C%20%5B127.0429937515614%2C%2037.4896079199333%5D%2C%20%5B127.0487980642459%2C%2037.491499814920594%5D%5D%5D%2C%20%22type%22%3A%20%22Polygon%22%7D%2C%20%22id%22%3A%20%223%22%2C%20%22properties%22%3A%20%7B%22base_year%22%3A%20%222013%22%2C%20%22code%22%3A%20%221123067%22%2C%20%22name%22%3A%20%22%5Cub3c4%5Cuace1%5Cub3d9%22%2C%20%22name_eng%22%3A%20%22Dogok-dong%22%7D%2C%20%22type%22%3A%20%22Feature%22%7D%2C%20%7B%22geometry%22%3A%20%7B%22coordinates%22%3A%20%5B%5B%5B126.93150707417718%2C%2037.47224181631584%5D%2C%20%5B126.93623468957882%2C%2037.46898763955797%5D%2C%20%5B126.93312071245121%2C%2037.44501071260275%5D%2C%20%5B126.93084408056525%2C%2037.447382928333994%5D%2C%20%5B126.92456266203958%2C%2037.45443912781728%5D%2C%20%5B126.92507406339945%2C%2037.460652610833634%5D%2C%20%5B126.92868677638837%2C%2037.47165351482308%5D%2C%20%5B126.93150707417718%2C%2037.47224181631584%5D%2C%20%5B127.04426529288817%2C%2037.51461391134843%5D%2C%20%5B127.05237890906925%2C%2037.51605001646398%5D%2C%20%5B127.05879877483423%2C%2037.504050964816194%5D%2C%20%5B127.05103593048881%2C%2037.50182669060668%5D%2C%20%5B127.04637616087683%2C%2037.50642665161706%5D%2C%20%5B127.04426529288817%2C%2037.51461391134843%5D%2C%20%5B127.0690698130372%2C%2037.522279423505026%5D%2C%20%5B127.07057106587357%2C%2037.50748081931759%5D%2C%20%5B127.05879877483423%2C%2037.504050964816194%5D%2C%20%5B127.05237890906925%2C%2037.51605001646398%5D%2C%20%5B127.06737268086228%2C%2037.5228018732759%5D%2C%20%5B127.0690698130372%2C%2037.522279423505026%5D%5D%5D%2C%20%22type%22%3A%20%22Polygon%22%7D%2C%20%22id%22%3A%20%224%22%2C%20%22properties%22%3A%20%7B%22base_year%22%3A%20%222013%22%2C%20%22code%22%3A%20%221121082%22%2C%20%22name%22%3A%20%22%5Cuc0bc%5Cuc131%5Cub3d9%22%2C%20%22name_eng%22%3A%20%22Samseong-dong%22%7D%2C%20%22type%22%3A%20%22Feature%22%7D%2C%20%7B%22geometry%22%3A%20%7B%22coordinates%22%3A%20%5B%5B%5B127.04604758022018%2C%2037.476903515648424%5D%2C%20%5B127.05168651987388%2C%2037.46767933933969%5D%2C%20%5B127.06526281404322%2C%2037.426893481829154%5D%2C%20%5B127.04957232987142%2C%2037.42805836845694%5D%2C%20%5B127.03751805596916%2C%2037.438362795245276%5D%2C%20%5B127.0319652225414%2C%2037.46263681748507%5D%2C%20%5B127.04604758022018%2C%2037.476903515648424%5D%2C%20%5B127.03621915098798%2C%2037.48175802427603%5D%2C%20%5B127.04345123620755%2C%2037.48276415595109%5D%2C%20%5B127.04604758022018%2C%2037.476903515648424%5D%2C%20%5B127.0319652225414%2C%2037.46263681748507%5D%2C%20%5B127.00552362663117%2C%2037.46445102893571%5D%2C%20%5B127.01241251373114%2C%2037.46945266650744%5D%2C%20%5B127.02193521391702%2C%2037.474067716833154%5D%2C%20%5B127.02911870203953%2C%2037.477701177812094%5D%2C%20%5B127.03621915098798%2C%2037.48175802427603%5D%5D%5D%2C%20%22type%22%3A%20%22Polygon%22%7D%2C%20%22id%22%3A%20%225%22%2C%20%22properties%22%3A%20%7B%22base_year%22%3A%20%222013%22%2C%20%22code%22%3A%20%221122067%22%2C%20%22name%22%3A%20%22%5Cuc591%5Cuc7ac%5Cub3d9%22%2C%20%22name_eng%22%3A%20%22Yangjae-dong%22%7D%2C%20%22type%22%3A%20%22Feature%22%7D%2C%20%7B%22geometry%22%3A%20%7B%22coordinates%22%3A%20%5B%5B%5B127.11314705595287%2C%2037.480127870880345%5D%2C%20%5B127.12440571080893%2C%2037.46240445587048%5D%2C%20%5B127.11885903757606%2C%2037.45578434878651%5D%2C%20%5B127.09842759318751%2C%2037.45862253857461%5D%2C%20%5B127.08727101192895%2C%2037.472465566199986%5D%2C%20%5B127.09510067486981%2C%2037.474453413329506%5D%2C%20%5B127.11314705595287%2C%2037.480127870880345%5D%5D%5D%2C%20%22type%22%3A%20%22Polygon%22%7D%2C%20%22id%22%3A%20%226%22%2C%20%22properties%22%3A%20%7B%22base_year%22%3A%20%222013%22%2C%20%22code%22%3A%20%221123076%22%2C%20%22name%22%3A%20%22%5Cuc138%5Cuace1%5Cub3d9%22%2C%20%22name_eng%22%3A%20%22Segok-dong%22%7D%2C%20%22type%22%3A%20%22Feature%22%7D%2C%20%7B%22geometry%22%3A%20%7B%22coordinates%22%3A%20%5B%5B%5B127.104076240713%2C%2037.4908320962496%5D%2C%20%5B127.11025761076787%2C%2037.48649739956609%5D%2C%20%5B127.11314705595287%2C%2037.480127870880345%5D%2C%20%5B127.09510067486981%2C%2037.474453413329506%5D%2C%20%5B127.09285661208187%2C%2037.48853012296095%5D%2C%20%5B127.104076240713%2C%2037.4908320962496%5D%5D%5D%2C%20%22type%22%3A%20%22Polygon%22%7D%2C%20%22id%22%3A%20%227%22%2C%20%22properties%22%3A%20%7B%22base_year%22%3A%20%222013%22%2C%20%22code%22%3A%20%221123075%22%2C%20%22name%22%3A%20%22%5Cuc218%5Cuc11c%5Cub3d9%22%2C%20%22name_eng%22%3A%20%22Suseo-dong%22%7D%2C%20%22type%22%3A%20%22Feature%22%7D%2C%20%7B%22geometry%22%3A%20%7B%22coordinates%22%3A%20%5B%5B%5B127.0236688023869%2C%2037.53273057382971%5D%2C%20%5B127.03018252439756%2C%2037.51678177148938%5D%2C%20%5B127.02161856434614%2C%2037.513416422499084%5D%2C%20%5B127.01397119667513%2C%2037.52503988289669%5D%2C%20%5B127.02302831890559%2C%2037.53231899582663%5D%2C%20%5B127.0236688023869%2C%2037.53273057382971%5D%5D%5D%2C%20%22type%22%3A%20%22Polygon%22%7D%2C%20%22id%22%3A%20%228%22%2C%20%22properties%22%3A%20%7B%22base_year%22%3A%20%222013%22%2C%20%22code%22%3A%20%221123051%22%2C%20%22name%22%3A%20%22%5Cuc2e0%5Cuc0ac%5Cub3d9%22%2C%20%22name_eng%22%3A%20%22Sinsa-dong%22%7D%2C%20%22type%22%3A%20%22Feature%22%7D%2C%20%7B%22geometry%22%3A%20%7B%22coordinates%22%3A%20%5B%5B%5B127.03038815978167%2C%2037.5357278833247%5D%2C%20%5B127.04806779588436%2C%2037.52970198575087%5D%2C%20%5B127.04128354419875%2C%2037.52010346103419%5D%2C%20%5B127.03018252439756%2C%2037.51678177148938%5D%2C%20%5B127.0236688023869%2C%2037.53273057382971%5D%2C%20%5B127.02780424413358%2C%2037.53506389757521%5D%2C%20%5B127.03038815978167%2C%2037.5357278833247%5D%5D%5D%2C%20%22type%22%3A%20%22Polygon%22%7D%2C%20%22id%22%3A%20%229%22%2C%20%22properties%22%3A%20%7B%22base_year%22%3A%20%222013%22%2C%20%22code%22%3A%20%221123077%22%2C%20%22name%22%3A%20%22%5Cuc555%5Cuad6c%5Cuc815%5Cub3d9%22%2C%20%22name_eng%22%3A%20%22Apgujeong-dong%22%7D%2C%20%22type%22%3A%20%22Feature%22%7D%2C%20%7B%22geometry%22%3A%20%7B%22coordinates%22%3A%20%5B%5B%5B127.05461669063445%2C%2037.49424887399282%5D%2C%20%5B127.0487980642459%2C%2037.491499814920594%5D%2C%20%5B127.0429937515614%2C%2037.4896079199333%5D%2C%20%5B127.04928414981033%2C%2037.50116986852596%5D%2C%20%5B127.05461669063445%2C%2037.49424887399282%5D%2C%20%5B127.04637616087683%2C%2037.50642665161706%5D%2C%20%5B127.05103593048881%2C%2037.50182669060668%5D%2C%20%5B127.04928414981033%2C%2037.50116986852596%5D%2C%20%5B127.0429937515614%2C%2037.4896079199333%5D%2C%20%5B127.03372770134304%2C%2037.48673420790798%5D%2C%20%5B127.02973923489684%2C%2037.49515937670812%5D%2C%20%5B127.02659989308502%2C%2037.50171416311321%5D%2C%20%5B127.02657410782747%2C%2037.50176795282692%5D%2C%20%5B127.0360134845328%2C%2037.504542767054886%5D%2C%20%5B127.04637616087683%2C%2037.50642665161706%5D%5D%5D%2C%20%22type%22%3A%20%22Polygon%22%7D%2C%20%22id%22%3A%20%2210%22%2C%20%22properties%22%3A%20%7B%22base_year%22%3A%20%222013%22%2C%20%22code%22%3A%20%221123065%22%2C%20%22name%22%3A%20%22%5Cuc5ed%5Cuc0bc%5Cub3d9%22%2C%20%22name_eng%22%3A%20%22Yeoksam-dong%22%7D%2C%20%22type%22%3A%20%22Feature%22%7D%2C%20%7B%22geometry%22%3A%20%7B%22coordinates%22%3A%20%5B%5B%5B127.0925798228796%2C%2037.49466797489548%5D%2C%20%5B127.0988509639092%2C%2037.49302529254068%5D%2C%20%5B127.104076240713%2C%2037.4908320962496%5D%2C%20%5B127.09285661208187%2C%2037.48853012296095%5D%2C%20%5B127.0839105884464%2C%2037.48586538552836%5D%2C%20%5B127.0925798228796%2C%2037.49466797489548%5D%2C%20%5B127.07759949729024%2C%2037.49839572885325%5D%2C%20%5B127.08573831212134%2C%2037.49645940739078%5D%2C%20%5B127.0925798228796%2C%2037.49466797489548%5D%2C%20%5B127.0839105884464%2C%2037.48586538552836%5D%2C%20%5B127.07955765330033%2C%2037.48431726402668%5D%2C%20%5B127.07394407641691%2C%2037.490219908941526%5D%2C%20%5B127.07759949729024%2C%2037.49839572885325%5D%2C%20%5B127.0839105884464%2C%2037.48586538552836%5D%2C%20%5B127.09285661208187%2C%2037.48853012296095%5D%2C%20%5B127.09510067486981%2C%2037.474453413329506%5D%2C%20%5B127.08727101192895%2C%2037.472465566199986%5D%2C%20%5B127.0792709266303%2C%2037.47220180263369%5D%2C%20%5B127.07955765330033%2C%2037.48431726402668%5D%2C%20%5B127.0839105884464%2C%2037.48586538552836%5D%2C%20%5B127.0776%2C%2037.4984%5D%5D%5D%2C%20%22type%22%3A%20%22Polygon%22%7D%2C%20%22id%22%3A%20%2211%22%2C%20%22properties%22%3A%20%7B%22base_year%22%3A%20%222013%22%2C%20%22code%22%3A%20%221123073%22%2C%20%22name%22%3A%20%22%5Cuc77c%5Cuc6d0%5Cub3d9%22%2C%20%22name_eng%22%3A%20%22Irwon-dong%22%7D%2C%20%22type%22%3A%20%22Feature%22%7D%2C%20%7B%22geometry%22%3A%20%7B%22coordinates%22%3A%20%5B%5B%5B127.05116490008963%2C%2037.52975116557232%5D%2C%20%5B127.05867359288398%2C%2037.52629974922568%5D%2C%20%5B127.06737268086228%2C%2037.5228018732759%5D%2C%20%5B127.05237890906925%2C%2037.51605001646398%5D%2C%20%5B127.04426529288817%2C%2037.51461391134843%5D%2C%20%5B127.04128354419875%2C%2037.52010346103419%5D%2C%20%5B127.04806779588436%2C%2037.52970198575087%5D%2C%20%5B127.05116490008963%2C%2037.52975116557232%5D%5D%5D%2C%20%22type%22%3A%20%22Polygon%22%7D%2C%20%22id%22%3A%20%2212%22%2C%20%22properties%22%3A%20%7B%22base_year%22%3A%20%222013%22%2C%20%22code%22%3A%20%221123078%22%2C%20%22name%22%3A%20%22%5Cuccad%5Cub2f4%5Cub3d9%22%2C%20%22name_eng%22%3A%20%22Cheongdam-dong%22%7D%2C%20%22type%22%3A%20%22Feature%22%7D%2C%20%7B%22geometry%22%3A%20%7B%22coordinates%22%3A%20%5B%5B%5B127.16368738589286%2C%2037.57500783523479%5D%2C%20%5B127.16683184366129%2C%2037.57672487388627%5D%2C%20%5B127.18567051761232%2C%2037.54302620803663%5D%2C%20%5B127.17624513780328%2C%2037.5426107112352%5D%2C%20%5B127.17360474181851%2C%2037.55452533235053%5D%2C%20%5B127.16368738589286%2C%2037.57500783523479%5D%5D%5D%2C%20%22type%22%3A%20%22Polygon%22%7D%2C%20%22id%22%3A%20%2213%22%2C%20%22properties%22%3A%20%7B%22base_year%22%3A%20%222013%22%2C%20%22code%22%3A%20%221125051%22%2C%20%22name%22%3A%20%22%5Cuac15%5Cuc77c%5Cub3d9%22%2C%20%22name_eng%22%3A%20%22Gangildong%22%7D%2C%20%22type%22%3A%20%22Feature%22%7D%2C%20%7B%22geometry%22%3A%20%7B%22coordinates%22%3A%20%5B%5B%5B127.15511020940411%2C%2037.57093642128295%5D%2C%20%5B127.16368738589286%2C%2037.57500783523479%5D%2C%20%5B127.17360474181851%2C%2037.55452533235053%5D%2C%20%5B127.1586954058685%2C%2037.552576494711964%5D%2C%20%5B127.15511020940411%2C%2037.57093642128295%5D%2C%20%5B127.14344659555326%2C%2037.567479711307435%5D%2C%20%5B127.15511020940411%2C%2037.57093642128295%5D%2C%20%5B127.1586954058685%2C%2037.552576494711964%5D%2C%20%5B127.15232735266896%2C%2037.55189398108047%5D%2C%20%5B127.14658708035984%2C%2037.55197150430446%5D%2C%20%5B127.14344659555326%2C%2037.567479711307435%5D%5D%5D%2C%20%22type%22%3A%20%22Polygon%22%7D%2C%20%22id%22%3A%20%2214%22%2C%20%22properties%22%3A%20%7B%22base_year%22%3A%20%222013%22%2C%20%22code%22%3A%20%221125056%22%2C%20%22name%22%3A%20%22%5Cuace0%5Cub355%5Cub3d9%22%2C%20%22name_eng%22%3A%20%22Godeok-dong%22%7D%2C%20%22type%22%3A%20%22Feature%22%7D%2C%20%7B%22geometry%22%3A%20%7B%22coordinates%22%3A%20%5B%5B%5B127.1506841825971%2C%2037.54297943719738%5D%2C%20%5B127.16251899968245%2C%2037.538797310633534%5D%2C%20%5B127.14068690059868%2C%2037.53118632106941%5D%2C%20%5B127.13640539515914%2C%2037.53247023366308%5D%2C%20%5B127.14380192958487%2C%2037.53947695668667%5D%2C%20%5B127.14484779315524%2C%2037.542271071578554%5D%2C%20%5B127.1506841825971%2C%2037.54297943719738%5D%5D%5D%2C%20%22type%22%3A%20%22Polygon%22%7D%2C%20%22id%22%3A%20%2215%22%2C%20%22properties%22%3A%20%7B%22base_year%22%3A%20%222013%22%2C%20%22code%22%3A%20%221125074%22%2C%20%22name%22%3A%20%22%5Cuae38%20%5Cub3d9%22%2C%20%22name_eng%22%3A%20%22Gil-dong%22%7D%2C%20%22type%22%3A%20%22Feature%22%7D%2C%20%7B%22geometry%22%3A%20%7B%22coordinates%22%3A%20%5B%5B%5B127.16251899968245%2C%2037.538797310633534%5D%2C%20%5B127.15566835118616%2C%2037.53119520531309%5D%2C%20%5B127.14791518058246%2C%2037.51918714979303%5D%2C%20%5B127.1387472669133%2C%2037.526024153064206%5D%2C%20%5B127.14068690059868%2C%2037.53118632106941%5D%2C%20%5B127.16251899968245%2C%2037.538797310633534%5D%2C%20%5B127.1387472669133%2C%2037.526024153064206%5D%2C%20%5B127.14791518058246%2C%2037.51918714979303%5D%2C%20%5B127.14672806823502%2C%2037.51415680680291%5D%2C%20%5B127.1360224375423%2C%2037.51873736912533%5D%2C%20%5B127.1387472669133%2C%2037.526024153064206%5D%5D%5D%2C%20%22type%22%3A%20%22Polygon%22%7D%2C%20%22id%22%3A%20%2216%22%2C%20%22properties%22%3A%20%7B%22base_year%22%3A%20%222013%22%2C%20%22code%22%3A%20%221125071%22%2C%20%22name%22%3A%20%22%5Cub454%5Cucd0c%5Cub3d9%22%2C%20%22name_eng%22%3A%20%22Dunchon-dong%22%7D%2C%20%22type%22%3A%20%22Feature%22%7D%2C%20%7B%22geometry%22%3A%20%7B%22coordinates%22%3A%20%5B%5B%5B127.15232735266896%2C%2037.55189398108047%5D%2C%20%5B127.1586954058685%2C%2037.552576494711964%5D%2C%20%5B127.16530984307447%2C%2037.54221851258693%5D%2C%20%5B127.16251899968245%2C%2037.538797310633534%5D%2C%20%5B127.1506841825971%2C%2037.54297943719738%5D%2C%20%5B127.15232735266896%2C%2037.55189398108047%5D%2C%20%5B127.14658708035984%2C%2037.55197150430446%5D%2C%20%5B127.15232735266896%2C%2037.55189398108047%5D%2C%20%5B127.1506841825971%2C%2037.54297943719738%5D%2C%20%5B127.14484779315524%2C%2037.542271071578554%5D%2C%20%5B127.14331358996458%2C%2037.54807088878857%5D%2C%20%5B127.14658708035984%2C%2037.55197150430446%5D%5D%5D%2C%20%22type%22%3A%20%22Polygon%22%7D%2C%20%22id%22%3A%20%2217%22%2C%20%22properties%22%3A%20%7B%22base_year%22%3A%20%222013%22%2C%20%22code%22%3A%20%221125054%22%2C%20%22name%22%3A%20%22%5Cuba85%5Cuc77c%5Cub3d9%22%2C%20%22name_eng%22%3A%20%22Myeongil-dong%22%7D%2C%20%22type%22%3A%20%22Feature%22%7D%2C%20%7B%22geometry%22%3A%20%7B%22coordinates%22%3A%20%5B%5B%5B127.1586954058685%2C%2037.552576494711964%5D%2C%20%5B127.17360474181851%2C%2037.55452533235053%5D%2C%20%5B127.17624513780328%2C%2037.5426107112352%5D%2C%20%5B127.16530984307447%2C%2037.54221851258693%5D%2C%20%5B127.1586954058685%2C%2037.552576494711964%5D%5D%5D%2C%20%22type%22%3A%20%22Polygon%22%7D%2C%20%22id%22%3A%20%2218%22%2C%20%22properties%22%3A%20%7B%22base_year%22%3A%20%222013%22%2C%20%22code%22%3A%20%221125052%22%2C%20%22name%22%3A%20%22%5Cuc0c1%5Cuc77c%5Cub3d9%22%2C%20%22name_eng%22%3A%20%22Sangil-dong%22%7D%2C%20%22type%22%3A%20%22Feature%22%7D%2C%20%7B%22geometry%22%3A%20%7B%22coordinates%22%3A%20%5B%5B%5B127.12337386349152%2C%2037.53030612633618%5D%2C%20%5B127.13393659853675%2C%2037.52733984141569%5D%2C%20%5B127.13085529491111%2C%2037.52098850616528%5D%2C%20%5B127.12127423206992%2C%2037.5252637914794%5D%2C%20%5B127.12337386349152%2C%2037.53030612633618%5D%2C%20%5B127.12532464331997%2C%2037.53572787912298%5D%2C%20%5B127.12853684547063%2C%2037.53485917087813%5D%2C%20%5B127.13640539515914%2C%2037.53247023366308%5D%2C%20%5B127.13393659853675%2C%2037.52733984141569%5D%2C%20%5B127.12337386349152%2C%2037.53030612633618%5D%2C%20%5B127.12532464331997%2C%2037.53572787912298%5D%2C%20%5B127.13640539515914%2C%2037.53247023366308%5D%2C%20%5B127.14068690059868%2C%2037.53118632106941%5D%2C%20%5B127.1387472669133%2C%2037.526024153064206%5D%2C%20%5B127.1360224375423%2C%2037.51873736912533%5D%2C%20%5B127.13085529491111%2C%2037.52098850616528%5D%2C%20%5B127.13393659853675%2C%2037.52733984141569%5D%2C%20%5B127.13640539515914%2C%2037.53247023366308%5D%5D%5D%2C%20%22type%22%3A%20%22Polygon%22%7D%2C%20%22id%22%3A%20%2219%22%2C%20%22properties%22%3A%20%7B%22base_year%22%3A%20%222013%22%2C%20%22code%22%3A%20%221125065%22%2C%20%22name%22%3A%20%22%5Cuc131%5Cub0b4%5Cub3d9%22%2C%20%22name_eng%22%3A%20%22Seongnae-dong%22%7D%2C%20%22type%22%3A%20%22Feature%22%7D%2C%20%7B%22geometry%22%3A%20%7B%22coordinates%22%3A%20%5B%5B%5B127.14658708035984%2C%2037.55197150430446%5D%2C%20%5B127.14331358996458%2C%2037.54807088878857%5D%2C%20%5B127.1366922994031%2C%2037.54432073003471%5D%2C%20%5B127.1296594431204%2C%2037.547320969604925%5D%2C%20%5B127.13130719416033%2C%2037.551959543662896%5D%2C%20%5B127.14658708035984%2C%2037.55197150430446%5D%2C%20%5B127.13593925898998%2C%2037.56564793048277%5D%2C%20%5B127.14344659555326%2C%2037.567479711307435%5D%2C%20%5B127.14658708035984%2C%2037.55197150430446%5D%2C%20%5B127.13130719416033%2C%2037.551959543662896%5D%2C%20%5B127.13593925898998%2C%2037.56564793048277%5D%2C%20%5B127.11519584981606%2C%2037.557533180704915%5D%2C%20%5B127.13593925898998%2C%2037.56564793048277%5D%2C%20%5B127.13130719416033%2C%2037.551959543662896%5D%2C%20%5B127.1296594431204%2C%2037.547320969604925%5D%2C%20%5B127.11455679868533%2C%2037.54670798531544%5D%2C%20%5B127.11519584981606%2C%2037.557533180704915%5D%5D%5D%2C%20%22type%22%3A%20%22Polygon%22%7D%2C%20%22id%22%3A%20%2220%22%2C%20%22properties%22%3A%20%7B%22base_year%22%3A%20%222013%22%2C%20%22code%22%3A%20%221125072%22%2C%20%22name%22%3A%20%22%5Cuc554%5Cuc0ac%5Cub3d9%22%2C%20%22name_eng%22%3A%20%22Amsa-dong%22%7D%2C%20%22type%22%3A%20%22Feature%22%7D%2C%20%7B%22geometry%22%3A%20%7B%22coordinates%22%3A%20%5B%5B%5B127.1296594431204%2C%2037.547320969604925%5D%2C%20%5B127.1366922994031%2C%2037.54432073003471%5D%2C%20%5B127.13325961176139%2C%2037.53959212853102%5D%2C%20%5B127.12853684547063%2C%2037.53485917087813%5D%2C%20%5B127.12532464331997%2C%2037.53572787912298%5D%2C%20%5B127.1116764203608%2C%2037.540669955324965%5D%2C%20%5B127.11455679868533%2C%2037.54670798531544%5D%2C%20%5B127.1296594431204%2C%2037.547320969604925%5D%2C%20%5B127.14380192958487%2C%2037.53947695668667%5D%2C%20%5B127.13640539515914%2C%2037.53247023366308%5D%2C%20%5B127.12853684547063%2C%2037.53485917087813%5D%2C%20%5B127.13325961176139%2C%2037.53959212853102%5D%2C%20%5B127.14380192958487%2C%2037.53947695668667%5D%2C%20%5B127.1366922994031%2C%2037.54432073003471%5D%2C%20%5B127.14331358996458%2C%2037.54807088878857%5D%2C%20%5B127.14484779315524%2C%2037.542271071578554%5D%2C%20%5B127.14380192958487%2C%2037.53947695668667%5D%2C%20%5B127.13325961176139%2C%2037.53959212853102%5D%2C%20%5B127.1366922994031%2C%2037.54432073003471%5D%5D%5D%2C%20%22type%22%3A%20%22Polygon%22%7D%2C%20%22id%22%3A%20%2221%22%2C%20%22properties%22%3A%20%7B%22base_year%22%3A%20%222013%22%2C%20%22code%22%3A%20%221125073%22%2C%20%22name%22%3A%20%22%5Cucc9c%5Cud638%5Cub3d9%22%2C%20%22name_eng%22%3A%20%22Cheonho-dong%22%7D%2C%20%22type%22%3A%20%22Feature%22%7D%2C%20%7B%22geometry%22%3A%20%7B%22coordinates%22%3A%20%5B%5B%5B126.87134888695947%2C%2037.56109009293546%5D%2C%20%5B126.86512578486752%2C%2037.55408291030297%5D%2C%20%5B126.85726544386726%2C%2037.558270319307645%5D%2C%20%5B126.86242039016902%2C%2037.56591332261665%5D%2C%20%5B126.87134888695947%2C%2037.56109009293546%5D%2C%20%5B126.85302823436479%2C%2037.57282468882299%5D%2C%20%5B126.85984199399667%2C%2037.571847855292745%5D%2C%20%5B126.86242039016902%2C%2037.56591332261665%5D%2C%20%5B126.85726544386726%2C%2037.558270319307645%5D%2C%20%5B126.85091872876224%2C%2037.56160678233281%5D%2C%20%5B126.85302823436479%2C%2037.57282468882299%5D%2C%20%5B126.82891304761237%2C%2037.5855611764797%5D%2C%20%5B126.85302823436479%2C%2037.57282468882299%5D%2C%20%5B126.85091872876224%2C%2037.56160678233281%5D%2C%20%5B126.84030371472114%2C%2037.55576848582496%5D%2C%20%5B126.82555098376375%2C%2037.557264746336614%5D%2C%20%5B126.82137927932729%2C%2037.562134442446194%5D%2C%20%5B126.82416731803413%2C%2037.570485617093354%5D%2C%20%5B126.82891304761237%2C%2037.5855611764797%5D%5D%5D%2C%20%22type%22%3A%20%22Polygon%22%7D%2C%20%22id%22%3A%20%2222%22%2C%20%22properties%22%3A%20%7B%22base_year%22%3A%20%222013%22%2C%20%22code%22%3A%20%221116066%22%2C%20%22name%22%3A%20%22%5Cuac00%5Cuc591%5Cub3d9%22%2C%20%22name_eng%22%3A%20%22Gayang-dong%22%7D%2C%20%22type%22%3A%20%22Feature%22%7D%2C%20%7B%22geometry%22%3A%20%7B%22coordinates%22%3A%20%5B%5B%5B126.81312289595681%2C%2037.56126204433651%5D%2C%20%5B126.82137927932729%2C%2037.562134442446194%5D%2C%20%5B126.82555098376375%2C%2037.557264746336614%5D%2C%20%5B126.8156733301979%2C%2037.540053246972874%5D%2C%20%5B126.80080241646684%2C%2037.53487615870169%5D%2C%20%5B126.79648424736992%2C%2037.533031862850464%5D%2C%20%5B126.76979180579352%2C%2037.55139183008809%5D%2C%20%5B126.79512728153674%2C%2037.57419027772393%5D%2C%20%5B126.81312289595681%2C%2037.56126204433651%5D%5D%5D%2C%20%22type%22%3A%20%22Polygon%22%7D%2C%20%22id%22%3A%20%2223%22%2C%20%22properties%22%3A%20%7B%22base_year%22%3A%20%222013%22%2C%20%22code%22%3A%20%221116069%22%2C%20%22name%22%3A%20%22%5Cuacf5%5Cud56d%5Cub3d9%22%2C%20%22name_eng%22%3A%20%22Gonghang-dong%22%7D%2C%20%22type%22%3A%20%22Feature%22%7D%2C%20%7B%22geometry%22%3A%20%7B%22coordinates%22%3A%20%5B%5B%5B126.85091872876224%2C%2037.56160678233281%5D%2C%20%5B126.85726544386726%2C%2037.558270319307645%5D%2C%20%5B126.85439730639317%2C%2037.5530916557025%5D%2C%20%5B126.84780974674173%2C%2037.5550261701609%5D%2C%20%5B126.84030371472114%2C%2037.55576848582496%5D%2C%20%5B126.85091872876224%2C%2037.56160678233281%5D%2C%20%5B126.86637464321238%2C%2037.54859191094823%5D%2C%20%5B126.86576197147025%2C%2037.53648442128123%5D%2C%20%5B126.86558466813598%2C%2037.532799856575316%5D%2C%20%5B126.85803356301149%2C%2037.539897387918316%5D%2C%20%5B126.85692306146737%2C%2037.54329765579618%5D%2C%20%5B126.85980386876007%2C%2037.551273052973414%5D%2C%20%5B126.86637464321238%2C%2037.54859191094823%5D%2C%20%5B126.85726544386726%2C%2037.558270319307645%5D%2C%20%5B126.86512578486752%2C%2037.55408291030297%5D%2C%20%5B126.86716429874264%2C%2037.54825913468198%5D%2C%20%5B126.86637464321238%2C%2037.54859191094823%5D%2C%20%5B126.85980386876007%2C%2037.551273052973414%5D%2C%20%5B126.85439730639317%2C%2037.5530916557025%5D%2C%20%5B126.85726544386726%2C%2037.558270319307645%5D%5D%5D%2C%20%22type%22%3A%20%22Polygon%22%7D%2C%20%22id%22%3A%20%2224%22%2C%20%22properties%22%3A%20%7B%22base_year%22%3A%20%222013%22%2C%20%22code%22%3A%20%221116054%22%2C%20%22name%22%3A%20%22%5Cub4f1%5Cucd0c%5Cub3d9%22%2C%20%22name_eng%22%3A%20%22Deungchon-dong%22%7D%2C%20%22type%22%3A%20%22Feature%22%7D%2C%20%7B%22geometry%22%3A%20%7B%22coordinates%22%3A%20%5B%5B%5B126.84030371472114%2C%2037.55576848582496%5D%2C%20%5B126.8383863682457%2C%2037.545174879396555%5D%2C%20%5B126.83200611815096%2C%2037.54333490679484%5D%2C%20%5B126.82686940039885%2C%2037.53819083730896%5D%2C%20%5B126.8242331426722%2C%2037.53788078753248%5D%2C%20%5B126.8156733301979%2C%2037.540053246972874%5D%2C%20%5B126.82555098376375%2C%2037.557264746336614%5D%2C%20%5B126.84030371472114%2C%2037.55576848582496%5D%5D%5D%2C%20%22type%22%3A%20%22Polygon%22%7D%2C%20%22id%22%3A%20%2225%22%2C%20%22properties%22%3A%20%7B%22base_year%22%3A%20%222013%22%2C%20%22code%22%3A%20%221116067%22%2C%20%22name%22%3A%20%22%5Cubc1c%5Cuc0b01%5Cub3d9%22%2C%20%22name_eng%22%3A%20%22Balsan1-dong%22%7D%2C%20%22type%22%3A%20%22Feature%22%7D%2C%20%7B%22geometry%22%3A%20%7B%22coordinates%22%3A%20%5B%5B%5B126.82013821212502%2C%2037.58984554388895%5D%2C%20%5B126.82891304761237%2C%2037.5855611764797%5D%2C%20%5B126.82416731803413%2C%2037.570485617093354%5D%2C%20%5B126.80602869753355%2C%2037.57128492259161%5D%2C%20%5B126.82013821212502%2C%2037.58984554388895%5D%2C%20%5B126.80702115076473%2C%2037.601230010198485%5D%2C%20%5B126.82013821212502%2C%2037.58984554388895%5D%2C%20%5B126.80602869753355%2C%2037.57128492259161%5D%2C%20%5B126.81312289595681%2C%2037.56126204433651%5D%2C%20%5B126.79512728153674%2C%2037.57419027772393%5D%2C%20%5B126.79575768605767%2C%2037.57881087639828%5D%2C%20%5B126.80702115076473%2C%2037.601230010198485%5D%2C%20%5B126.80602869753355%2C%2037.57128492259161%5D%2C%20%5B126.82416731803413%2C%2037.570485617093354%5D%2C%20%5B126.82137927932729%2C%2037.562134442446194%5D%2C%20%5B126.81312289595681%2C%2037.56126204433651%5D%2C%20%5B126.80602869753355%2C%2037.57128492259161%5D%5D%5D%2C%20%22type%22%3A%20%22Polygon%22%7D%2C%20%22id%22%3A%20%2226%22%2C%20%22properties%22%3A%20%7B%22base_year%22%3A%20%222013%22%2C%20%22code%22%3A%20%221116072%22%2C%20%22name%22%3A%20%22%5Cubc29%5Cud654%5Cub3d9%22%2C%20%22name_eng%22%3A%20%22Banghwa-dong%22%7D%2C%20%22type%22%3A%20%22Feature%22%7D%2C%20%7B%22geometry%22%3A%20%7B%22coordinates%22%3A%20%5B%5B%5B126.86512578486752%2C%2037.55408291030297%5D%2C%20%5B126.87134888695947%2C%2037.56109009293546%5D%2C%20%5B126.88525790116067%2C%2037.5516677871273%5D%2C%20%5B126.89184663862764%2C%2037.547373974997114%5D%2C%20%5B126.88825757860099%2C%2037.54079733630232%5D%2C%20%5B126.8872486543506%2C%2037.54079100234749%5D%2C%20%5B126.8727924099192%2C%2037.544853699294116%5D%2C%20%5B126.86716429874264%2C%2037.54825913468198%5D%2C%20%5B126.86512578486752%2C%2037.55408291030297%5D%5D%5D%2C%20%22type%22%3A%20%22Polygon%22%7D%2C%20%22id%22%3A%20%2227%22%2C%20%22properties%22%3A%20%7B%22base_year%22%3A%20%222013%22%2C%20%22code%22%3A%20%221116051%22%2C%20%22name%22%3A%20%22%5Cuc5fc%5Cucc3d%5Cub3d9%22%2C%20%22name_eng%22%3A%20%22Yeomchang-dong%22%7D%2C%20%22type%22%3A%20%22Feature%22%7D%2C%20%7B%22geometry%22%3A%20%7B%22coordinates%22%3A%20%5B%5B%5B126.84780974674173%2C%2037.5550261701609%5D%2C%20%5B126.84915810452722%2C%2037.546058387441256%5D%2C%20%5B126.84252506006656%2C%2037.53882587999314%5D%2C%20%5B126.84248643305253%2C%2037.538863842507546%5D%2C%20%5B126.8383863682457%2C%2037.545174879396555%5D%2C%20%5B126.84030371472114%2C%2037.55576848582496%5D%2C%20%5B126.84780974674173%2C%2037.5550261701609%5D%5D%5D%2C%20%22type%22%3A%20%22Polygon%22%7D%2C%20%22id%22%3A%20%2228%22%2C%20%22properties%22%3A%20%7B%22base_year%22%3A%20%222013%22%2C%20%22code%22%3A%20%221116074%22%2C%20%22name%22%3A%20%22%5Cuc6b0%5Cuc7a5%5Cuc0b0%5Cub3d9%22%2C%20%22name_eng%22%3A%20%22Ujangsandong%22%7D%2C%20%22type%22%3A%20%22Feature%22%7D%2C%20%7B%22geometry%22%3A%20%7B%22coordinates%22%3A%20%5B%5B%5B126.84248643305253%2C%2037.538863842507546%5D%2C%20%5B126.84252506006656%2C%2037.53882587999314%5D%2C%20%5B126.845776963825%2C%2037.53389168127725%5D%2C%20%5B126.85098397861944%2C%2037.525098716169985%5D%2C%20%5B126.84257291943153%2C%2037.52373707805596%5D%2C%20%5B126.83725242600985%2C%2037.53411319148143%5D%2C%20%5B126.8358656942957%2C%2037.537072465505254%5D%2C%20%5B126.84248643305253%2C%2037.538863842507546%5D%2C%20%5B126.85384356957594%2C%2037.53382920487927%5D%2C%20%5B126.85405286851844%2C%2037.52548390048836%5D%2C%20%5B126.85098397861944%2C%2037.525098716169985%5D%2C%20%5B126.845776963825%2C%2037.53389168127725%5D%2C%20%5B126.85384356957594%2C%2037.53382920487927%5D%2C%20%5B126.85439730639317%2C%2037.5530916557025%5D%2C%20%5B126.85980386876007%2C%2037.551273052973414%5D%2C%20%5B126.85692306146737%2C%2037.54329765579618%5D%2C%20%5B126.84915810452722%2C%2037.546058387441256%5D%2C%20%5B126.84780974674173%2C%2037.5550261701609%5D%2C%20%5B126.85439730639317%2C%2037.5530916557025%5D%2C%20%5B126.85803356301149%2C%2037.539897387918316%5D%2C%20%5B126.86558466813598%2C%2037.532799856575316%5D%2C%20%5B126.86610073476395%2C%2037.52699964144669%5D%2C%20%5B126.86057462514691%2C%2037.52630489837469%5D%2C%20%5B126.85547567143561%2C%2037.53399345081322%5D%2C%20%5B126.85803356301149%2C%2037.539897387918316%5D%2C%20%5B126.83200611815096%2C%2037.54333490679484%5D%2C%20%5B126.8383863682457%2C%2037.545174879396555%5D%2C%20%5B126.84248643305253%2C%2037.538863842507546%5D%2C%20%5B126.8358656942957%2C%2037.537072465505254%5D%2C%20%5B126.83200611815096%2C%2037.54333490679484%5D%2C%20%5B126.85547567143561%2C%2037.53399345081322%5D%2C%20%5B126.86057462514691%2C%2037.52630489837469%5D%2C%20%5B126.85405286851844%2C%2037.52548390048836%5D%2C%20%5B126.85384356957594%2C%2037.53382920487927%5D%2C%20%5B126.85547567143561%2C%2037.53399345081322%5D%2C%20%5B126.84915810452722%2C%2037.546058387441256%5D%2C%20%5B126.85692306146737%2C%2037.54329765579618%5D%2C%20%5B126.85803356301149%2C%2037.539897387918316%5D%2C%20%5B126.85547567143561%2C%2037.53399345081322%5D%2C%20%5B126.85384356957594%2C%2037.53382920487927%5D%2C%20%5B126.845776963825%2C%2037.53389168127725%5D%2C%20%5B126.84252506006656%2C%2037.53882587999314%5D%2C%20%5B126.84915810452722%2C%2037.546058387441256%5D%5D%5D%2C%20%22type%22%3A%20%22Polygon%22%7D%2C%20%22id%22%3A%20%2229%22%2C%20%22properties%22%3A%20%7B%22base_year%22%3A%20%222013%22%2C%20%22code%22%3A%20%221116073%22%2C%20%22name%22%3A%20%22%5Cud654%5Cuace1%5Cub3d9%22%2C%20%22name_eng%22%3A%20%22Hwagok-dong%22%7D%2C%20%22type%22%3A%20%22Feature%22%7D%2C%20%7B%22geometry%22%3A%20%7B%22coordinates%22%3A%20%5B%5B%5B126.88224417295716%2C%2037.484538764380076%5D%2C%20%5B126.88820216446295%2C%2037.48204582221334%5D%2C%20%5B126.88841661067802%2C%2037.48219105172914%5D%2C%20%5B126.89825969686503%2C%2037.4757468558901%5D%2C%20%5B126.89795508338685%2C%2037.475649435288865%5D%2C%20%5B126.8827497570056%2C%2037.48316340563878%5D%2C%20%5B126.88224417295716%2C%2037.484538764380076%5D%5D%5D%2C%20%22type%22%3A%20%22Polygon%22%7D%2C%20%22id%22%3A%20%2230%22%2C%20%22properties%22%3A%20%7B%22base_year%22%3A%20%222013%22%2C%20%22code%22%3A%20%221117070%22%2C%20%22name%22%3A%20%22%5Cuac00%5Cub9ac%5Cubd09%5Cub3d9%22%2C%20%22name_eng%22%3A%20%22Garibong-dong%22%7D%2C%20%22type%22%3A%20%22Feature%22%7D%2C%20%7B%22geometry%22%3A%20%7B%22coordinates%22%3A%20%5B%5B%5B126.84758421076914%2C%2037.50465623338784%5D%2C%20%5B126.85813664620464%2C%2037.49945310272366%5D%2C%20%5B126.86627895796323%2C%2037.49120137793702%5D%2C%20%5B126.8528533439373%2C%2037.49292365637293%5D%2C%20%5B126.84045080118607%2C%2037.497338425236606%5D%2C%20%5B126.84758421076914%2C%2037.50465623338784%5D%2C%20%5B126.86518121933331%2C%2037.48815437387523%5D%2C%20%5B126.85859778685278%2C%2037.48288125361705%5D%2C%20%5B126.85557100342643%2C%2037.479833474417084%5D%2C%20%5B126.8503573371033%2C%2037.479551458733745%5D%2C%20%5B126.85022989832544%2C%2037.487654755354704%5D%2C%20%5B126.86518121933331%2C%2037.48815437387523%5D%2C%20%5B126.8507075760755%2C%2037.492409254364155%5D%2C%20%5B126.8528533439373%2C%2037.49292365637293%5D%2C%20%5B126.86627895796323%2C%2037.49120137793702%5D%2C%20%5B126.87028318342011%2C%2037.49272176466726%5D%2C%20%5B126.87039560729964%2C%2037.49229978033802%5D%2C%20%5B126.8691296342059%2C%2037.49015091212178%5D%2C%20%5B126.86518121933331%2C%2037.48815437387523%5D%2C%20%5B126.85022989832544%2C%2037.487654755354704%5D%2C%20%5B126.8507075760755%2C%2037.492409254364155%5D%2C%20%5B126.8602448049945%2C%2037.50714262450898%5D%2C%20%5B126.86484290038425%2C%2037.50319788568579%5D%2C%20%5B126.85813664620464%2C%2037.49945310272366%5D%2C%20%5B126.84758421076914%2C%2037.50465623338784%5D%2C%20%5B126.8602448049945%2C%2037.50714262450898%5D%5D%5D%2C%20%22type%22%3A%20%22Polygon%22%7D%2C%20%22id%22%3A%20%2231%22%2C%20%22properties%22%3A%20%7B%22base_year%22%3A%20%222013%22%2C%20%22code%22%3A%20%221117072%22%2C%20%22name%22%3A%20%22%5Cuac1c%5Cubd09%5Cub3d9%22%2C%20%22name_eng%22%3A%20%22Gaebong-dong%22%7D%2C%20%22type%22%3A%20%22Feature%22%7D%2C%20%7B%22geometry%22%3A%20%7B%22coordinates%22%3A%20%5B%5B%5B126.8602448049945%2C%2037.50714262450898%5D%2C%20%5B126.86484290038425%2C%2037.50319788568579%5D%2C%20%5B126.85813664620464%2C%2037.49945310272366%5D%2C%20%5B126.84758421076914%2C%2037.50465623338784%5D%2C%20%5B126.8602448049945%2C%2037.50714262450898%5D%2C%20%5B126.87335085283947%2C%2037.5028231455955%5D%2C%20%5B126.87011807132725%2C%2037.49425767808731%5D%2C%20%5B126.87028318342011%2C%2037.49272176466726%5D%2C%20%5B126.86627895796323%2C%2037.49120137793702%5D%2C%20%5B126.85813664620464%2C%2037.49945310272366%5D%2C%20%5B126.86484290038425%2C%2037.50319788568579%5D%2C%20%5B126.87335085283947%2C%2037.5028231455955%5D%5D%5D%2C%20%22type%22%3A%20%22Polygon%22%7D%2C%20%22id%22%3A%20%2232%22%2C%20%22properties%22%3A%20%7B%22base_year%22%3A%20%222013%22%2C%20%22code%22%3A%20%221117062%22%2C%20%22name%22%3A%20%22%5Cuace0%5Cucc99%5Cub3d9%22%2C%20%22name_eng%22%3A%20%22Gocheok-dong%22%7D%2C%20%22type%22%3A%20%22Feature%22%7D%2C%20%7B%22geometry%22%3A%20%7B%22coordinates%22%3A%20%5B%5B%5B126.87556919864359%2C%2037.505720626918%5D%2C%20%5B126.88332369335458%2C%2037.50118999471856%5D%2C%20%5B126.89091066041216%2C%2037.49248179702087%5D%2C%20%5B126.88820216446295%2C%2037.48204582221334%5D%2C%20%5B126.88224417295716%2C%2037.484538764380076%5D%2C%20%5B126.87011807132725%2C%2037.49425767808731%5D%2C%20%5B126.87335085283947%2C%2037.5028231455955%5D%2C%20%5B126.87556919864359%2C%2037.505720626918%5D%2C%20%5B126.89594776782485%2C%2037.504675281309176%5D%2C%20%5B126.89561850607332%2C%2037.494919707033155%5D%2C%20%5B126.89091066041216%2C%2037.49248179702087%5D%2C%20%5B126.88332369335458%2C%2037.50118999471856%5D%2C%20%5B126.89594776782485%2C%2037.504675281309176%5D%2C%20%5B126.89091066041216%2C%2037.49248179702087%5D%2C%20%5B126.89561850607332%2C%2037.494919707033155%5D%2C%20%5B126.8974895759185%2C%2037.48922754431995%5D%2C%20%5B126.88841661067802%2C%2037.48219105172914%5D%2C%20%5B126.88820216446295%2C%2037.48204582221334%5D%2C%20%5B126.89091066041216%2C%2037.49248179702087%5D%2C%20%5B126.88841661067802%2C%2037.48219105172914%5D%2C%20%5B126.8974895759185%2C%2037.48922754431995%5D%2C%20%5B126.90531975801812%2C%2037.48218087575429%5D%2C%20%5B126.90156094129895%2C%2037.47753842789901%5D%2C%20%5B126.90104536043339%2C%2037.47614746588584%5D%2C%20%5B126.89825969686503%2C%2037.4757468558901%5D%2C%20%5B126.88841661067802%2C%2037.48219105172914%5D%2C%20%5B126.87028318342011%2C%2037.49272176466726%5D%2C%20%5B126.87011807132725%2C%2037.49425767808731%5D%2C%20%5B126.88224417295716%2C%2037.484538764380076%5D%2C%20%5B126.8827497570056%2C%2037.48316340563878%5D%2C%20%5B126.87683271502428%2C%2037.482576591607305%5D%2C%20%5B126.87039560729964%2C%2037.49229978033802%5D%2C%20%5B126.87028318342011%2C%2037.49272176466726%5D%2C%20%5B126.89594776782485%2C%2037.504675281309176%5D%2C%20%5B126.89561850607332%2C%2037.494919707033155%5D%2C%20%5B126.89091066041216%2C%2037.49248179702087%5D%2C%20%5B126.88332369335458%2C%2037.50118999471856%5D%2C%20%5B126.89594776782485%2C%2037.504675281309176%5D%2C%20%5B126.89091066041216%2C%2037.49248179702087%5D%2C%20%5B126.89561850607332%2C%2037.494919707033155%5D%2C%20%5B126.8974895759185%2C%2037.48922754431995%5D%2C%20%5B126.88841661067802%2C%2037.48219105172914%5D%2C%20%5B126.88820216446295%2C%2037.48204582221334%5D%2C%20%5B126.89091066041216%2C%2037.49248179702087%5D%2C%20%5B126.88841661067802%2C%2037.48219105172914%5D%2C%20%5B126.8974895759185%2C%2037.48922754431995%5D%2C%20%5B126.90531975801812%2C%2037.48218087575429%5D%2C%20%5B126.90156094129895%2C%2037.47753842789901%5D%2C%20%5B126.90104536043339%2C%2037.47614746588584%5D%2C%20%5B126.89825969686503%2C%2037.4757468558901%5D%2C%20%5B126.88841661067802%2C%2037.48219105172914%5D%2C%20%5B126.87028318342011%2C%2037.49272176466726%5D%2C%20%5B126.87011807132725%2C%2037.49425767808731%5D%2C%20%5B126.88224417295716%2C%2037.484538764380076%5D%2C%20%5B126.8827497570056%2C%2037.48316340563878%5D%2C%20%5B126.87683271502428%2C%2037.482576591607305%5D%2C%20%5B126.87039560729964%2C%2037.49229978033802%5D%2C%20%5B126.87028318342011%2C%2037.49272176466726%5D%2C%20%5B126.8765%2C%2037.4973%5D%2C%20%5B126.8776%2C%2037.4972%5D%5D%5D%2C%20%22type%22%3A%20%22Polygon%22%7D%2C%20%22id%22%3A%20%2233%22%2C%20%22properties%22%3A%20%7B%22base_year%22%3A%20%222013%22%2C%20%22code%22%3A%20%221117071%22%2C%20%22name%22%3A%20%22%5Cuad6c%5Cub85c%5Cub3d9%22%2C%20%22name_eng%22%3A%20%22Guro-dong%22%7D%2C%20%22type%22%3A%20%22Feature%22%7D%2C%20%7B%22geometry%22%3A%20%7B%22coordinates%22%3A%20%5B%5B%5B126.88156402353862%2C%2037.513970034765684%5D%2C%20%5B126.89506194948585%2C%2037.50665830681419%5D%2C%20%5B126.89723167926884%2C%2037.50534888356761%5D%2C%20%5B126.89594776782485%2C%2037.504675281309176%5D%2C%20%5B126.88332369335458%2C%2037.50118999471856%5D%2C%20%5B126.87556919864359%2C%2037.505720626918%5D%2C%20%5B126.88054908630636%2C%2037.51148026214697%5D%2C%20%5B126.88156402353862%2C%2037.513970034765684%5D%5D%5D%2C%20%22type%22%3A%20%22Polygon%22%7D%2C%20%22id%22%3A%20%2234%22%2C%20%22properties%22%3A%20%7B%22base_year%22%3A%20%222013%22%2C%20%22code%22%3A%20%221117051%22%2C%20%22name%22%3A%20%22%5Cuc2e0%5Cub3c4%5Cub9bc%5Cub3d9%22%2C%20%22name_eng%22%3A%20%22Sindorim-dong%22%7D%2C%20%22type%22%3A%20%22Feature%22%7D%2C%20%7B%22geometry%22%3A%20%7B%22coordinates%22%3A%20%5B%5B%5B126.8507075760755%2C%2037.492409254364155%5D%2C%20%5B126.85022989832544%2C%2037.487654755354704%5D%2C%20%5B126.8503573371033%2C%2037.479551458733745%5D%2C%20%5B126.84857160719005%2C%2037.47889921808772%5D%2C%20%5B126.84763806764826%2C%2037.47172294305019%5D%2C%20%5B126.83549485076196%2C%2037.474098236975095%5D%2C%20%5B126.82525760713602%2C%2037.48574414595206%5D%2C%20%5B126.84016587991022%2C%2037.4903584307969%5D%2C%20%5B126.8507075760755%2C%2037.492409254364155%5D%2C%20%5B126.84045080118607%2C%2037.497338425236606%5D%2C%20%5B126.8528533439373%2C%2037.49292365637293%5D%2C%20%5B126.8507075760755%2C%2037.492409254364155%5D%2C%20%5B126.84016587991022%2C%2037.4903584307969%5D%2C%20%5B126.83850084850799%2C%2037.49784710329234%5D%2C%20%5B126.84045080118607%2C%2037.497338425236606%5D%5D%5D%2C%20%22type%22%3A%20%22Polygon%22%7D%2C%20%22id%22%3A%20%2235%22%2C%20%22properties%22%3A%20%7B%22base_year%22%3A%20%222013%22%2C%20%22code%22%3A%20%221117068%22%2C%20%22name%22%3A%20%22%5Cuc624%5Cub958%5Cub3d9%22%2C%20%22name_eng%22%3A%20%22Oryu-dong%22%7D%2C%20%22type%22%3A%20%22Feature%22%7D%2C%20%7B%22geometry%22%3A%20%7B%22coordinates%22%3A%20%5B%5B%5B126.82504736331406%2C%2037.50302612640443%5D%2C%20%5B126.82688081517314%2C%2037.50548972232896%5D%2C%20%5B126.83850084850799%2C%2037.49784710329234%5D%2C%20%5B126.84016587991022%2C%2037.4903584307969%5D%2C%20%5B126.82525760713602%2C%2037.48574414595206%5D%2C%20%5B126.82264796791348%2C%2037.4878476492147%5D%2C%20%5B126.8155697990346%2C%2037.4952575002297%5D%2C%20%5B126.82504736331406%2C%2037.50302612640443%5D%5D%5D%2C%20%22type%22%3A%20%22Polygon%22%7D%2C%20%22id%22%3A%20%2236%22%2C%20%22properties%22%3A%20%7B%22base_year%22%3A%20%222013%22%2C%20%22code%22%3A%20%221117069%22%2C%20%22name%22%3A%20%22%5Cuc218%5Cuad81%5Cub3d9%22%2C%20%22name_eng%22%3A%20%22Sugungdong%22%7D%2C%20%22type%22%3A%20%22Feature%22%7D%2C%20%7B%22geometry%22%3A%20%7B%22coordinates%22%3A%20%5B%5B%5B126.96440767194494%2C%2037.47478246235102%5D%2C%20%5B126.96663106925918%2C%2037.464747929889235%5D%2C%20%5B126.96782129382363%2C%2037.45222400270952%5D%2C%20%5B126.95463206413926%2C%2037.468291186895485%5D%2C%20%5B126.95486260308485%2C%2037.47848758271348%5D%2C%20%5B126.96440767194494%2C%2037.47478246235102%5D%5D%5D%2C%20%22type%22%3A%20%22Polygon%22%7D%2C%20%22id%22%3A%20%2237%22%2C%20%22properties%22%3A%20%7B%22base_year%22%3A%20%222013%22%2C%20%22code%22%3A%20%221121058%22%2C%20%22name%22%3A%20%22%5Cub099%5Cuc131%5Cub300%5Cub3d9%22%2C%20%22name_eng%22%3A%20%22Nakseongdaedong%22%7D%2C%20%22type%22%3A%20%22Feature%22%7D%2C%20%7B%22geometry%22%3A%20%7B%22coordinates%22%3A%20%5B%5B%5B126.92868677638837%2C%2037.47165351482308%5D%2C%20%5B126.92507406339945%2C%2037.460652610833634%5D%2C%20%5B126.91717646453112%2C%2037.46334765487695%5D%2C%20%5B126.92627105886075%2C%2037.47435839005767%5D%2C%20%5B126.92868677638837%2C%2037.47165351482308%5D%5D%5D%2C%20%22type%22%3A%20%22Polygon%22%7D%2C%20%22id%22%3A%20%2238%22%2C%20%22properties%22%3A%20%7B%22base_year%22%3A%20%222013%22%2C%20%22code%22%3A%20%221121081%22%2C%20%22name%22%3A%20%22%5Cub09c%5Cuace1%5Cub3d9%22%2C%20%22name_eng%22%3A%20%22Nangok-dong%22%7D%2C%20%22type%22%3A%20%22Feature%22%7D%2C%20%7B%22geometry%22%3A%20%7B%22coordinates%22%3A%20%5B%5B%5B126.91584245173756%2C%2037.462474576247985%5D%2C%20%5B126.91717646453112%2C%2037.46334765487695%5D%2C%20%5B126.92507406339945%2C%2037.460652610833634%5D%2C%20%5B126.92456266203958%2C%2037.45443912781728%5D%2C%20%5B126.92050446420534%2C%2037.454353860718314%5D%2C%20%5B126.91624482176803%2C%2037.455284025751276%5D%2C%20%5B126.91584245173756%2C%2037.462474576247985%5D%5D%5D%2C%20%22type%22%3A%20%22Polygon%22%7D%2C%20%22id%22%3A%20%2239%22%2C%20%22properties%22%3A%20%7B%22base_year%22%3A%20%222013%22%2C%20%22code%22%3A%20%221121071%22%2C%20%22name%22%3A%20%22%5Cub09c%5Cud5a5%5Cub3d9%22%2C%20%22name_eng%22%3A%20%22Nanhyangdong%22%7D%2C%20%22type%22%3A%20%22Feature%22%7D%2C%20%7B%22geometry%22%3A%20%7B%22coordinates%22%3A%20%5B%5B%5B126.98367668291802%2C%2037.473856492692086%5D%2C%20%5B126.99072073195462%2C%2037.455326143310025%5D%2C%20%5B126.9729107191242%2C%2037.44465100738844%5D%2C%20%5B126.97079559323022%2C%2037.443979969069225%5D%2C%20%5B126.96782129382363%2C%2037.45222400270952%5D%2C%20%5B126.96663106925918%2C%2037.464747929889235%5D%2C%20%5B126.9725891850662%2C%2037.472561363278125%5D%2C%20%5B126.98367668291802%2C%2037.473856492692086%5D%5D%5D%2C%20%22type%22%3A%20%22Polygon%22%7D%2C%20%22id%22%3A%20%2240%22%2C%20%22properties%22%3A%20%7B%22base_year%22%3A%20%222013%22%2C%20%22code%22%3A%20%221121063%22%2C%20%22name%22%3A%20%22%5Cub0a8%5Cud604%5Cub3d9%22%2C%20%22name_eng%22%3A%20%22Namhyeon-dong%22%7D%2C%20%22type%22%3A%20%22Feature%22%7D%2C%20%7B%22geometry%22%3A%20%7B%22coordinates%22%3A%20%5B%5B%5B126.94864194254508%2C%2037.46993874127806%5D%2C%20%5B126.95463206413926%2C%2037.468291186895485%5D%2C%20%5B126.96782129382363%2C%2037.45222400270952%5D%2C%20%5B126.97079559323022%2C%2037.443979969069225%5D%2C%20%5B126.96520439085143%2C%2037.438249784006246%5D%2C%20%5B126.95000001010182%2C%2037.43613451165719%5D%2C%20%5B126.93312071245121%2C%2037.44501071260275%5D%2C%20%5B126.93623468957882%2C%2037.46898763955797%5D%2C%20%5B126.94864194254508%2C%2037.46993874127806%5D%5D%5D%2C%20%22type%22%3A%20%22Polygon%22%7D%2C%20%22id%22%3A%20%2241%22%2C%20%22properties%22%3A%20%7B%22base_year%22%3A%20%222013%22%2C%20%22code%22%3A%20%221121073%22%2C%20%22name%22%3A%20%22%5Cub300%5Cud559%5Cub3d9%22%2C%20%22name_eng%22%3A%20%22Daehakdong%22%7D%2C%20%22type%22%3A%20%22Feature%22%7D%2C%20%7B%22geometry%22%3A%20%7B%22coordinates%22%3A%20%5B%5B%5B126.92366817374759%2C%2037.480315798763726%5D%2C%20%5B126.92627105886075%2C%2037.47435839005767%5D%2C%20%5B126.91717646453112%2C%2037.46334765487695%5D%2C%20%5B126.91584245173756%2C%2037.462474576247985%5D%2C%20%5B126.91452958751441%2C%2037.46286896301693%5D%2C%20%5B126.91449316124319%2C%2037.46320234569859%5D%2C%20%5B126.91032166997253%2C%2037.469818629944285%5D%2C%20%5B126.91181700249076%2C%2037.47814319736339%5D%2C%20%5B126.91663244469753%2C%2037.47900792984755%5D%2C%20%5B126.92366817374759%2C%2037.480315798763726%5D%5D%5D%2C%20%22type%22%3A%20%22Polygon%22%7D%2C%20%22id%22%3A%20%2242%22%2C%20%22properties%22%3A%20%7B%22base_year%22%3A%20%222013%22%2C%20%22code%22%3A%20%221121083%22%2C%20%22name%22%3A%20%22%5Cubbf8%5Cuc131%5Cub3d9%22%2C%20%22name_eng%22%3A%20%22Miseongdong%22%7D%2C%20%22type%22%3A%20%22Feature%22%7D%2C%20%7B%22geometry%22%3A%20%7B%22coordinates%22%3A%20%5B%5B%5B126.94160536109705%2C%2037.4880711782804%5D%2C%20%5B126.93700566908628%2C%2037.483591621156734%5D%2C%20%5B126.92639563063156%2C%2037.48715979752876%5D%2C%20%5B126.93196490106226%2C%2037.49119599414282%5D%2C%20%5B126.94160536109705%2C%2037.4880711782804%5D%5D%5D%2C%20%22type%22%3A%20%22Polygon%22%7D%2C%20%22id%22%3A%20%2243%22%2C%20%22properties%22%3A%20%7B%22base_year%22%3A%20%222013%22%2C%20%22code%22%3A%20%221121052%22%2C%20%22name%22%3A%20%22%5Cubcf4%5Cub77c%5Cub9e4%5Cub3d9%22%2C%20%22name_eng%22%3A%20%22Boramaedong%22%7D%2C%20%22type%22%3A%20%22Feature%22%7D%2C%20%7B%22geometry%22%3A%20%7B%22coordinates%22%3A%20%5B%5B%5B126.93150707417718%2C%2037.47224181631584%5D%2C%20%5B126.93623468957882%2C%2037.46898763955797%5D%2C%20%5B126.93312071245121%2C%2037.44501071260275%5D%2C%20%5B126.93084408056525%2C%2037.447382928333994%5D%2C%20%5B126.92456266203958%2C%2037.45443912781728%5D%2C%20%5B126.92507406339945%2C%2037.460652610833634%5D%2C%20%5B126.92868677638837%2C%2037.47165351482308%5D%2C%20%5B126.93150707417718%2C%2037.47224181631584%5D%5D%5D%2C%20%22type%22%3A%20%22Polygon%22%7D%2C%20%22id%22%3A%20%2244%22%2C%20%22properties%22%3A%20%7B%22base_year%22%3A%20%222013%22%2C%20%22code%22%3A%20%221121082%22%2C%20%22name%22%3A%20%22%5Cuc0bc%5Cuc131%5Cub3d9%22%2C%20%22name_eng%22%3A%20%22Samseong-dong%22%7D%2C%20%22type%22%3A%20%22Feature%22%7D%2C%20%7B%22geometry%22%3A%20%7B%22coordinates%22%3A%20%5B%5B%5B126.94157462093705%2C%2037.475308696677835%5D%2C%20%5B126.94864194254508%2C%2037.46993874127806%5D%2C%20%5B126.93623468957882%2C%2037.46898763955797%5D%2C%20%5B126.93150707417718%2C%2037.47224181631584%5D%2C%20%5B126.93230582266611%2C%2037.47253628216111%5D%2C%20%5B126.94157462093705%2C%2037.475308696677835%5D%5D%5D%2C%20%22type%22%3A%20%22Polygon%22%7D%2C%20%22id%22%3A%20%2245%22%2C%20%22properties%22%3A%20%7B%22base_year%22%3A%20%222013%22%2C%20%22code%22%3A%20%221121066%22%2C%20%22name%22%3A%20%22%5Cuc11c%5Cub9bc%5Cub3d9%22%2C%20%22name_eng%22%3A%20%22Seorimdong%22%7D%2C%20%22type%22%3A%20%22Feature%22%7D%2C%20%7B%22geometry%22%3A%20%7B%22coordinates%22%3A%20%5B%5B%5B126.93629695726236%2C%2037.48203090419261%5D%2C%20%5B126.93995045573277%2C%2037.48130132208863%5D%2C%20%5B126.94157462093705%2C%2037.475308696677835%5D%2C%20%5B126.93230582266611%2C%2037.47253628216111%5D%2C%20%5B126.9287559525669%2C%2037.48102787615792%5D%2C%20%5B126.93629695726236%2C%2037.48203090419261%5D%5D%5D%2C%20%22type%22%3A%20%22Polygon%22%7D%2C%20%22id%22%3A%20%2246%22%2C%20%22properties%22%3A%20%7B%22base_year%22%3A%20%222013%22%2C%20%22code%22%3A%20%221121064%22%2C%20%22name%22%3A%20%22%5Cuc11c%5Cuc6d0%5Cub3d9%22%2C%20%22name_eng%22%3A%20%22Seowondong%22%7D%2C%20%22type%22%3A%20%22Feature%22%7D%2C%20%7B%22geometry%22%3A%20%7B%22coordinates%22%3A%20%5B%5B%5B126.94948930121375%2C%2037.49110468547788%5D%2C%20%5B126.95820407502991%2C%2037.488777541288265%5D%2C%20%5B126.95899200969909%2C%2037.48357283130852%5D%2C%20%5B126.95840177488707%2C%2037.48285932958326%5D%2C%20%5B126.94904937323066%2C%2037.484125151160704%5D%2C%20%5B126.94548449596635%2C%2037.48927722719803%5D%2C%20%5B126.94948930121375%2C%2037.49110468547788%5D%5D%5D%2C%20%22type%22%3A%20%22Polygon%22%7D%2C%20%22id%22%3A%20%2247%22%2C%20%22properties%22%3A%20%7B%22base_year%22%3A%20%222013%22%2C%20%22code%22%3A%20%221121079%22%2C%20%22name%22%3A%20%22%5Cuc131%5Cud604%5Cub3d9%22%2C%20%22name_eng%22%3A%20%22Seonghyeondong%22%7D%2C%20%22type%22%3A%20%22Feature%22%7D%2C%20%7B%22geometry%22%3A%20%7B%22coordinates%22%3A%20%5B%5B%5B126.92639563063156%2C%2037.48715979752876%5D%2C%20%5B126.93700566908628%2C%2037.483591621156734%5D%2C%20%5B126.93629695726236%2C%2037.48203090419261%5D%2C%20%5B126.9287559525669%2C%2037.48102787615792%5D%2C%20%5B126.92827543846315%2C%2037.48097491535272%5D%2C%20%5B126.92098483505987%2C%2037.486757150185284%5D%2C%20%5B126.92639563063156%2C%2037.48715979752876%5D%5D%5D%2C%20%22type%22%3A%20%22Polygon%22%7D%2C%20%22id%22%3A%20%2248%22%2C%20%22properties%22%3A%20%7B%22base_year%22%3A%20%222013%22%2C%20%22code%22%3A%20%221121069%22%2C%20%22name%22%3A%20%22%5Cuc2e0%5Cub9bc%5Cub3d9%22%2C%20%22name_eng%22%3A%20%22Sillim-dong%22%7D%2C%20%22type%22%3A%20%22Feature%22%7D%2C%20%7B%22geometry%22%3A%20%7B%22coordinates%22%3A%20%5B%5B%5B127.0236688023869%2C%2037.53273057382971%5D%2C%20%5B127.03018252439756%2C%2037.51678177148938%5D%2C%20%5B127.02161856434614%2C%2037.513416422499084%5D%2C%20%5B127.01397119667513%2C%2037.52503988289669%5D%2C%20%5B127.02302831890559%2C%2037.53231899582663%5D%2C%20%5B127.0236688023869%2C%2037.53273057382971%5D%2C%20%5B126.92098483505987%2C%2037.486757150185284%5D%2C%20%5B126.92827543846315%2C%2037.48097491535272%5D%2C%20%5B126.92366817374759%2C%2037.480315798763726%5D%2C%20%5B126.91663244469753%2C%2037.47900792984755%5D%2C%20%5B126.9154171284617%2C%2037.48444210787001%5D%2C%20%5B126.91806236300178%2C%2037.485957329102675%5D%2C%20%5B126.92098483505987%2C%2037.486757150185284%5D%5D%5D%2C%20%22type%22%3A%20%22Polygon%22%7D%2C%20%22id%22%3A%20%2249%22%2C%20%22properties%22%3A%20%7B%22base_year%22%3A%20%222013%22%2C%20%22code%22%3A%20%221123051%22%2C%20%22name%22%3A%20%22%5Cuc2e0%5Cuc0ac%5Cub3d9%22%2C%20%22name_eng%22%3A%20%22Sinsa-dong%22%7D%2C%20%22type%22%3A%20%22Feature%22%7D%2C%20%7B%22geometry%22%3A%20%7B%22coordinates%22%3A%20%5B%5B%5B126.92827543846315%2C%2037.48097491535272%5D%2C%20%5B126.9287559525669%2C%2037.48102787615792%5D%2C%20%5B126.93230582266611%2C%2037.47253628216111%5D%2C%20%5B126.93150707417718%2C%2037.47224181631584%5D%2C%20%5B126.92868677638837%2C%2037.47165351482308%5D%2C%20%5B126.92627105886075%2C%2037.47435839005767%5D%2C%20%5B126.92366817374759%2C%2037.480315798763726%5D%2C%20%5B126.92827543846315%2C%2037.48097491535272%5D%5D%5D%2C%20%22type%22%3A%20%22Polygon%22%7D%2C%20%22id%22%3A%20%2250%22%2C%20%22properties%22%3A%20%7B%22base_year%22%3A%20%222013%22%2C%20%22code%22%3A%20%221121065%22%2C%20%22name%22%3A%20%22%5Cuc2e0%5Cuc6d0%5Cub3d9%22%2C%20%22name_eng%22%3A%20%22Sinwon-dong%22%7D%2C%20%22type%22%3A%20%22Feature%22%7D%2C%20%7B%22geometry%22%3A%20%7B%22coordinates%22%3A%20%5B%5B%5B126.94548449596635%2C%2037.48927722719803%5D%2C%20%5B126.94904937323066%2C%2037.484125151160704%5D%2C%20%5B126.94843404003258%2C%2037.47916653757164%5D%2C%20%5B126.93995045573277%2C%2037.48130132208863%5D%2C%20%5B126.93629695726236%2C%2037.48203090419261%5D%2C%20%5B126.93700566908628%2C%2037.483591621156734%5D%2C%20%5B126.94160536109705%2C%2037.4880711782804%5D%2C%20%5B126.94374246925278%2C%2037.4894470145028%5D%2C%20%5B126.94548449596635%2C%2037.48927722719803%5D%5D%5D%2C%20%22type%22%3A%20%22Polygon%22%7D%2C%20%22id%22%3A%20%2251%22%2C%20%22properties%22%3A%20%7B%22base_year%22%3A%20%222013%22%2C%20%22code%22%3A%20%221121078%22%2C%20%22name%22%3A%20%22%5Cuc740%5Cucc9c%5Cub3d9%22%2C%20%22name_eng%22%3A%20%22Euncheondong%22%7D%2C%20%22type%22%3A%20%22Feature%22%7D%2C%20%7B%22geometry%22%3A%20%7B%22coordinates%22%3A%20%5B%5B%5B126.9725891850662%2C%2037.472561363278125%5D%2C%20%5B126.96663106925918%2C%2037.464747929889235%5D%2C%20%5B126.96440767194494%2C%2037.47478246235102%5D%2C%20%5B126.9725891850662%2C%2037.472561363278125%5D%5D%5D%2C%20%22type%22%3A%20%22Polygon%22%7D%2C%20%22id%22%3A%20%2252%22%2C%20%22properties%22%3A%20%7B%22base_year%22%3A%20%222013%22%2C%20%22code%22%3A%20%221121062%22%2C%20%22name%22%3A%20%22%5Cuc778%5Cud5cc%5Cub3d9%22%2C%20%22name_eng%22%3A%20%22Inheondong%22%7D%2C%20%22type%22%3A%20%22Feature%22%7D%2C%20%7B%22geometry%22%3A%20%7B%22coordinates%22%3A%20%5B%5B%5B126.9154171284617%2C%2037.48444210787001%5D%2C%20%5B126.91663244469753%2C%2037.47900792984755%5D%2C%20%5B126.91181700249076%2C%2037.47814319736339%5D%2C%20%5B126.90156094129895%2C%2037.47753842789901%5D%2C%20%5B126.90531975801812%2C%2037.48218087575429%5D%2C%20%5B126.9154171284617%2C%2037.48444210787001%5D%5D%5D%2C%20%22type%22%3A%20%22Polygon%22%7D%2C%20%22id%22%3A%20%2253%22%2C%20%22properties%22%3A%20%7B%22base_year%22%3A%20%222013%22%2C%20%22code%22%3A%20%221121072%22%2C%20%22name%22%3A%20%22%5Cuc870%5Cuc6d0%5Cub3d9%22%2C%20%22name_eng%22%3A%20%22Jowon-dong%22%7D%2C%20%22type%22%3A%20%22Feature%22%7D%2C%20%7B%22geometry%22%3A%20%7B%22coordinates%22%3A%20%5B%5B%5B126.94904937323066%2C%2037.484125151160704%5D%2C%20%5B126.95840177488707%2C%2037.48285932958326%5D%2C%20%5B126.95486260308485%2C%2037.47848758271348%5D%2C%20%5B126.94843404003258%2C%2037.47916653757164%5D%2C%20%5B126.94904937323066%2C%2037.484125151160704%5D%5D%5D%2C%20%22type%22%3A%20%22Polygon%22%7D%2C%20%22id%22%3A%20%2254%22%2C%20%22properties%22%3A%20%7B%22base_year%22%3A%20%222013%22%2C%20%22code%22%3A%20%221121061%22%2C%20%22name%22%3A%20%22%5Cuc911%5Cuc559%5Cub3d9%22%2C%20%22name_eng%22%3A%20%22Jungang-dong%22%7D%2C%20%22type%22%3A%20%22Feature%22%7D%2C%20%7B%22geometry%22%3A%20%7B%22coordinates%22%3A%20%5B%5B%5B126.94843404003258%2C%2037.47916653757164%5D%2C%20%5B126.95486260308485%2C%2037.47848758271348%5D%2C%20%5B126.95463206413926%2C%2037.468291186895485%5D%2C%20%5B126.94864194254508%2C%2037.46993874127806%5D%2C%20%5B126.94157462093705%2C%2037.475308696677835%5D%2C%20%5B126.93995045573277%2C%2037.48130132208863%5D%2C%20%5B126.94843404003258%2C%2037.47916653757164%5D%5D%5D%2C%20%22type%22%3A%20%22Polygon%22%7D%2C%20%22id%22%3A%20%2255%22%2C%20%22properties%22%3A%20%7B%22base_year%22%3A%20%222013%22%2C%20%22code%22%3A%20%221121080%22%2C%20%22name%22%3A%20%22%5Cuccad%5Cub8e1%5Cub3d9%22%2C%20%22name_eng%22%3A%20%22Cheongnyong-dong%22%7D%2C%20%22type%22%3A%20%22Feature%22%7D%2C%20%7B%22geometry%22%3A%20%7B%22coordinates%22%3A%20%5B%5B%5B126.9633360846239%2C%2037.48975425292044%5D%2C%20%5B126.96424614800331%2C%2037.48243279750552%5D%2C%20%5B126.95899200969909%2C%2037.48357283130852%5D%2C%20%5B126.95820407502991%2C%2037.488777541288265%5D%2C%20%5B126.9633360846239%2C%2037.48975425292044%5D%5D%5D%2C%20%22type%22%3A%20%22Polygon%22%7D%2C%20%22id%22%3A%20%2256%22%2C%20%22properties%22%3A%20%7B%22base_year%22%3A%20%222013%22%2C%20%22code%22%3A%20%221121054%22%2C%20%22name%22%3A%20%22%5Cuccad%5Cub9bc%5Cub3d9%22%2C%20%22name_eng%22%3A%20%22Cheongnim-dong%22%7D%2C%20%22type%22%3A%20%22Feature%22%7D%2C%20%7B%22geometry%22%3A%20%7B%22coordinates%22%3A%20%5B%5B%5B126.95840177488707%2C%2037.48285932958326%5D%2C%20%5B126.95899200969909%2C%2037.48357283130852%5D%2C%20%5B126.96424614800331%2C%2037.48243279750552%5D%2C%20%5B126.96741939434126%2C%2037.47675795377249%5D%2C%20%5B126.9722855254835%2C%2037.473818610325516%5D%2C%20%5B126.9725891850662%2C%2037.472561363278125%5D%2C%20%5B126.96440767194494%2C%2037.47478246235102%5D%2C%20%5B126.95486260308485%2C%2037.47848758271348%5D%2C%20%5B126.95840177488707%2C%2037.48285932958326%5D%5D%5D%2C%20%22type%22%3A%20%22Polygon%22%7D%2C%20%22id%22%3A%20%2257%22%2C%20%22properties%22%3A%20%7B%22base_year%22%3A%20%222013%22%2C%20%22code%22%3A%20%221121057%22%2C%20%22name%22%3A%20%22%5Cud589%5Cuc6b4%5Cub3d9%22%2C%20%22name_eng%22%3A%20%22Haengundong%22%7D%2C%20%22type%22%3A%20%22Feature%22%7D%2C%20%7B%22geometry%22%3A%20%7B%22coordinates%22%3A%20%5B%5B%5B127.10626975478488%2C%2037.53320246924532%5D%2C%20%5B127.12337386349152%2C%2037.53030612633618%5D%2C%20%5B127.12127423206992%2C%2037.5252637914794%5D%2C%20%5B127.1185171541772%2C%2037.52116117426451%5D%2C%20%5B127.101068120931%2C%2037.525151938900564%5D%2C%20%5B127.10531319401831%2C%2037.53186404698371%5D%2C%20%5B127.10626975478488%2C%2037.53320246924532%5D%2C%20%5B127.1116764203608%2C%2037.540669955324965%5D%2C%20%5B127.12532464331997%2C%2037.53572787912298%5D%2C%20%5B127.12337386349152%2C%2037.53030612633618%5D%2C%20%5B127.10626975478488%2C%2037.53320246924532%5D%2C%20%5B127.1116764203608%2C%2037.540669955324965%5D%5D%5D%2C%20%22type%22%3A%20%22Polygon%22%7D%2C%20%22id%22%3A%20%2258%22%2C%20%22properties%22%3A%20%7B%22base_year%22%3A%20%222013%22%2C%20%22code%22%3A%20%221124052%22%2C%20%22name%22%3A%20%22%5Cud48d%5Cub0a9%5Cub3d9%22%2C%20%22name_eng%22%3A%20%22Pungnapdong%22%7D%2C%20%22type%22%3A%20%22Feature%22%7D%2C%20%7B%22geometry%22%3A%20%7B%22coordinates%22%3A%20%5B%5B%5B127.14007677473411%2C%2037.49149638593564%5D%2C%20%5B127.14479754461443%2C%2037.486243853071905%5D%2C%20%5B127.15147990997852%2C%2037.47745324805034%5D%2C%20%5B127.14206058413274%2C%2037.47089819098501%5D%2C%20%5B127.12870227125612%2C%2037.46604184177013%5D%2C%20%5B127.1262793882353%2C%2037.47955845431148%5D%2C%20%5B127.13566505691283%2C%2037.48772495794805%5D%2C%20%5B127.14007677473411%2C%2037.49149638593564%5D%5D%5D%2C%20%22type%22%3A%20%22Polygon%22%7D%2C%20%22id%22%3A%20%2259%22%2C%20%22properties%22%3A%20%7B%22base_year%22%3A%20%222013%22%2C%20%22code%22%3A%20%221124070%22%2C%20%22name%22%3A%20%22%5Cuc7a5%5Cuc9c0%5Cub3d9%22%2C%20%22name_eng%22%3A%20%22Jangji-dong%22%7D%2C%20%22type%22%3A%20%22Feature%22%7D%2C%20%7B%22geometry%22%3A%20%7B%22coordinates%22%3A%20%5B%5B%5B127.09254802952158%2C%2037.5232002325931%5D%2C%20%5B127.1061376015552%2C%2037.505945179369164%5D%2C%20%5B127.09942438049303%2C%2037.50373442814207%5D%2C%20%5B127.09283256914149%2C%2037.50472802678396%5D%2C%20%5B127.0876084980615%2C%2037.508822888537686%5D%2C%20%5B127.09062956245532%2C%2037.52268889181966%5D%2C%20%5B127.09254802952158%2C%2037.5232002325931%5D%2C%20%5B127.07468544977327%2C%2037.520974900073%5D%2C%20%5B127.09062956245532%2C%2037.52268889181966%5D%2C%20%5B127.0876084980615%2C%2037.508822888537686%5D%2C%20%5B127.0804346935926%2C%2037.50906688906049%5D%2C%20%5B127.07091156739416%2C%2037.50719902959034%5D%2C%20%5B127.07057106587357%2C%2037.50748081931759%5D%2C%20%5B127.0690698130372%2C%2037.522279423505026%5D%2C%20%5B127.07468544977327%2C%2037.520974900073%5D%2C%20%5B127.07091156739416%2C%2037.50719902959034%5D%2C%20%5B127.0804346935926%2C%2037.50906688906049%5D%2C%20%5B127.07528960655267%2C%2037.49932614743975%5D%2C%20%5B127.07091156739416%2C%2037.50719902959034%5D%2C%20%5B127.10022841918634%2C%2037.52475699541064%5D%2C%20%5B127.10876057377162%2C%2037.51270927934955%5D%2C%20%5B127.11020223658842%2C%2037.50917144065826%5D%2C%20%5B127.1061376015552%2C%2037.505945179369164%5D%2C%20%5B127.09254802952158%2C%2037.5232002325931%5D%2C%20%5B127.0943611414465%2C%2037.523984206117525%5D%2C%20%5B127.10022841918634%2C%2037.52475699541064%5D%2C%20%5B127.101068120931%2C%2037.525151938900564%5D%2C%20%5B127.1185171541772%2C%2037.52116117426451%5D%2C%20%5B127.11466412513991%2C%2037.51471216716515%5D%2C%20%5B127.10876057377162%2C%2037.51270927934955%5D%2C%20%5B127.10022841918634%2C%2037.52475699541064%5D%2C%20%5B127.101068120931%2C%2037.525151938900564%5D%2C%20%5B127.0876084980615%2C%2037.508822888537686%5D%2C%20%5B127.09283256914149%2C%2037.50472802678396%5D%2C%20%5B127.08573831212134%2C%2037.49645940739078%5D%2C%20%5B127.07759949729024%2C%2037.49839572885325%5D%2C%20%5B127.07528960655267%2C%2037.49932614743975%5D%2C%20%5B127.0804346935926%2C%2037.50906688906049%5D%2C%20%5B127.0876084980615%2C%2037.508822888537686%5D%2C%20%5B127.0709%2C%2037.5072%5D%5D%5D%2C%20%22type%22%3A%20%22Polygon%22%7D%2C%20%22id%22%3A%20%2260%22%2C%20%22properties%22%3A%20%7B%22base_year%22%3A%20%222013%22%2C%20%22code%22%3A%20%221124080%22%2C%20%22name%22%3A%20%22%5Cuc7a0%5Cuc2e4%5Cub3d9%22%2C%20%22name_eng%22%3A%20%22Jamsildong%22%7D%2C%20%22type%22%3A%20%22Feature%22%7D%2C%20%7B%22geometry%22%3A%20%7B%22coordinates%22%3A%20%5B%5B%5B127.12127423206992%2C%2037.5252637914794%5D%2C%20%5B127.13085529491111%2C%2037.52098850616528%5D%2C%20%5B127.1360224375423%2C%2037.51873736912533%5D%2C%20%5B127.14672806823502%2C%2037.51415680680291%5D%2C%20%5B127.14234128412676%2C%2037.50558978707914%5D%2C%20%5B127.13010227983818%2C%2037.50893147940457%5D%2C%20%5B127.12314046744862%2C%2037.51178484111041%5D%2C%20%5B127.11466412513991%2C%2037.51471216716515%5D%2C%20%5B127.1185171541772%2C%2037.52116117426451%5D%2C%20%5B127.12127423206992%2C%2037.5252637914794%5D%5D%5D%2C%20%22type%22%3A%20%22Polygon%22%7D%2C%20%22id%22%3A%20%2261%22%2C%20%22properties%22%3A%20%7B%22base_year%22%3A%20%222013%22%2C%20%22code%22%3A%20%221124059%22%2C%20%22name%22%3A%20%22%5Cuc624%5Cub95c%5Cub3d9%22%2C%20%22name_eng%22%3A%20%22Oryun-dong%22%7D%2C%20%22type%22%3A%20%22Feature%22%7D%2C%20%7B%22geometry%22%3A%20%7B%22coordinates%22%3A%20%5B%5B%5B127.14234128412676%2C%2037.50558978707914%5D%2C%20%5B127.14648692309005%2C%2037.50158308598683%5D%2C%20%5B127.14408770104095%2C%2037.496623440512806%5D%2C%20%5B127.1413904172007%2C%2037.49285157653214%5D%2C%20%5B127.13023810599196%2C%2037.499201691257944%5D%2C%20%5B127.12601715489286%2C%2037.502566431166045%5D%2C%20%5B127.13010227983818%2C%2037.50893147940457%5D%2C%20%5B127.14234128412676%2C%2037.50558978707914%5D%5D%5D%2C%20%22type%22%3A%20%22Polygon%22%7D%2C%20%22id%22%3A%20%2262%22%2C%20%22properties%22%3A%20%7B%22base_year%22%3A%20%222013%22%2C%20%22code%22%3A%20%221124060%22%2C%20%22name%22%3A%20%22%5Cuc624%5Cuae08%5Cub3d9%22%2C%20%22name_eng%22%3A%20%22Ogeum-dong%22%7D%2C%20%22type%22%3A%20%22Feature%22%7D%2C%20%7B%22geometry%22%3A%20%7B%22coordinates%22%3A%20%5B%5B%5B127.12454553610858%2C%2037.50257189817014%5D%2C%20%5B127.11690768761433%2C%2037.49540111125877%5D%2C%20%5B127.11373398262673%2C%2037.49759127667435%5D%2C%20%5B127.11225771020328%2C%2037.49918647739398%5D%2C%20%5B127.11877175325546%2C%2037.50495689262354%5D%2C%20%5B127.12454553610858%2C%2037.50257189817014%5D%2C%20%5B127.1061376015552%2C%2037.505945179369164%5D%2C%20%5B127.11020223658842%2C%2037.50917144065826%5D%2C%20%5B127.11877175325546%2C%2037.50495689262354%5D%2C%20%5B127.11225771020328%2C%2037.49918647739398%5D%2C%20%5B127.1061376015552%2C%2037.505945179369164%5D%5D%5D%2C%20%22type%22%3A%20%22Polygon%22%7D%2C%20%22id%22%3A%20%2263%22%2C%20%22properties%22%3A%20%7B%22base_year%22%3A%20%222013%22%2C%20%22code%22%3A%20%221124062%22%2C%20%22name%22%3A%20%22%5Cuc1a1%5Cud30c%5Cub3d9%22%2C%20%22name_eng%22%3A%20%22Songpadong%22%7D%2C%20%22type%22%3A%20%22Feature%22%7D%2C%20%7B%22geometry%22%3A%20%7B%22coordinates%22%3A%20%5B%5B%5B127.1061376015552%2C%2037.505945179369164%5D%2C%20%5B127.11225771020328%2C%2037.49918647739398%5D%2C%20%5B127.11373398262673%2C%2037.49759127667435%5D%2C%20%5B127.09945461343153%2C%2037.49413709993721%5D%2C%20%5B127.09942438049303%2C%2037.50373442814207%5D%2C%20%5B127.1061376015552%2C%2037.505945179369164%5D%5D%5D%2C%20%22type%22%3A%20%22Polygon%22%7D%2C%20%22id%22%3A%20%2264%22%2C%20%22properties%22%3A%20%7B%22base_year%22%3A%20%222013%22%2C%20%22code%22%3A%20%221124063%22%2C%20%22name%22%3A%20%22%5Cuc11d%5Cucd0c%5Cub3d9%22%2C%20%22name_eng%22%3A%20%22Seokchon-dong%22%7D%2C%20%22type%22%3A%20%22Feature%22%7D%2C%20%7B%22geometry%22%3A%20%7B%22coordinates%22%3A%20%5B%5B%5B127.09942438049303%2C%2037.50373442814207%5D%2C%20%5B127.09945461343153%2C%2037.49413709993721%5D%2C%20%5B127.0988509639092%2C%2037.49302529254068%5D%2C%20%5B127.0925798228796%2C%2037.49466797489548%5D%2C%20%5B127.08573831212134%2C%2037.49645940739078%5D%2C%20%5B127.09283256914149%2C%2037.50472802678396%5D%2C%20%5B127.09942438049303%2C%2037.50373442814207%5D%5D%5D%2C%20%22type%22%3A%20%22Polygon%22%7D%2C%20%22id%22%3A%20%2265%22%2C%20%22properties%22%3A%20%7B%22base_year%22%3A%20%222013%22%2C%20%22code%22%3A%20%221124064%22%2C%20%22name%22%3A%20%22%5Cuc0bc%5Cuc804%5Cub3d9%22%2C%20%22name_eng%22%3A%20%22Samjeon-dong%22%7D%2C%20%22type%22%3A%20%22Feature%22%7D%2C%20%7B%22geometry%22%3A%20%7B%22coordinates%22%3A%20%5B%5B%5B127.10876057377162%2C%2037.51270927934955%5D%2C%20%5B127.11466412513991%2C%2037.51471216716515%5D%2C%20%5B127.12314046744862%2C%2037.51178484111041%5D%2C%20%5B127.11877175325546%2C%2037.50495689262354%5D%2C%20%5B127.11020223658842%2C%2037.50917144065826%5D%2C%20%5B127.10876057377162%2C%2037.51270927934955%5D%2C%20%5B127.12314046744862%2C%2037.51178484111041%5D%2C%20%5B127.13010227983818%2C%2037.50893147940457%5D%2C%20%5B127.12601715489286%2C%2037.502566431166045%5D%2C%20%5B127.12454553610858%2C%2037.50257189817014%5D%2C%20%5B127.11877175325546%2C%2037.50495689262354%5D%2C%20%5B127.12314046744862%2C%2037.51178484111041%5D%5D%5D%2C%20%22type%22%3A%20%22Polygon%22%7D%2C%20%22id%22%3A%20%2266%22%2C%20%22properties%22%3A%20%7B%22base_year%22%3A%20%222013%22%2C%20%22code%22%3A%20%221124058%22%2C%20%22name%22%3A%20%22%5Cubc29%5Cuc774%5Cub3d9%22%2C%20%22name_eng%22%3A%20%22Bangidong%22%7D%2C%20%22type%22%3A%20%22Feature%22%7D%2C%20%7B%22geometry%22%3A%20%7B%22coordinates%22%3A%20%5B%5B%5B127.13566505691283%2C%2037.48772495794805%5D%2C%20%5B127.1262793882353%2C%2037.47955845431148%5D%2C%20%5B127.1231960830453%2C%2037.48619151131145%5D%2C%20%5B127.12836832360932%2C%2037.488704998434415%5D%2C%20%5B127.13566505691283%2C%2037.48772495794805%5D%2C%20%5B127.12087971813645%2C%2037.48982135354343%5D%2C%20%5B127.1231960830453%2C%2037.48619151131145%5D%2C%20%5B127.1262793882353%2C%2037.47955845431148%5D%2C%20%5B127.12870227125612%2C%2037.46604184177013%5D%2C%20%5B127.12440571080893%2C%2037.46240445587048%5D%2C%20%5B127.11314705595287%2C%2037.480127870880345%5D%2C%20%5B127.11025761076787%2C%2037.48649739956609%5D%2C%20%5B127.12087971813645%2C%2037.48982135354343%5D%5D%5D%2C%20%22type%22%3A%20%22Polygon%22%7D%2C%20%22id%22%3A%20%2267%22%2C%20%22properties%22%3A%20%7B%22base_year%22%3A%20%222013%22%2C%20%22code%22%3A%20%221124068%22%2C%20%22name%22%3A%20%22%5Cubb38%5Cuc815%5Cub3d9%22%2C%20%22name_eng%22%3A%20%22Munjeongdong%22%7D%2C%20%22type%22%3A%20%22Feature%22%7D%2C%20%7B%22geometry%22%3A%20%7B%22coordinates%22%3A%20%5B%5B%5B127.15108684456172%2C%2037.49347790471909%5D%2C%20%5B127.16221160119412%2C%2037.49435439117592%5D%2C%20%5B127.1597960174098%2C%2037.4873645011712%5D%2C%20%5B127.15108684456172%2C%2037.49347790471909%5D%2C%20%5B127.14408770104095%2C%2037.496623440512806%5D%2C%20%5B127.14648692309005%2C%2037.50158308598683%5D%2C%20%5B127.16221160119412%2C%2037.49435439117592%5D%2C%20%5B127.15108684456172%2C%2037.49347790471909%5D%2C%20%5B127.14869521677802%2C%2037.4951743903677%5D%2C%20%5B127.14408770104095%2C%2037.496623440512806%5D%5D%5D%2C%20%22type%22%3A%20%22Polygon%22%7D%2C%20%22id%22%3A%20%2268%22%2C%20%22properties%22%3A%20%7B%22base_year%22%3A%20%222013%22%2C%20%22code%22%3A%20%221124055%22%2C%20%22name%22%3A%20%22%5Cub9c8%5Cucc9c%5Cub3d9%22%2C%20%22name_eng%22%3A%20%22Macheondong%22%7D%2C%20%22type%22%3A%20%22Feature%22%7D%2C%20%7B%22geometry%22%3A%20%7B%22coordinates%22%3A%20%5B%5B%5B127.14408770104095%2C%2037.496623440512806%5D%2C%20%5B127.14869521677802%2C%2037.4951743903677%5D%2C%20%5B127.14479754461443%2C%2037.486243853071905%5D%2C%20%5B127.14007677473411%2C%2037.49149638593564%5D%2C%20%5B127.1413904172007%2C%2037.49285157653214%5D%2C%20%5B127.14408770104095%2C%2037.496623440512806%5D%2C%20%5B127.14869521677802%2C%2037.4951743903677%5D%2C%20%5B127.15108684456172%2C%2037.49347790471909%5D%2C%20%5B127.1597960174098%2C%2037.4873645011712%5D%2C%20%5B127.15147990997852%2C%2037.47745324805034%5D%2C%20%5B127.14479754461443%2C%2037.486243853071905%5D%2C%20%5B127.14869521677802%2C%2037.4951743903677%5D%5D%5D%2C%20%22type%22%3A%20%22Polygon%22%7D%2C%20%22id%22%3A%20%2269%22%2C%20%22properties%22%3A%20%7B%22base_year%22%3A%20%222013%22%2C%20%22code%22%3A%20%221124053%22%2C%20%22name%22%3A%20%22%5Cuac70%5Cuc5ec%5Cub3d9%22%2C%20%22name_eng%22%3A%20%22Geoyeodong%22%7D%2C%20%22type%22%3A%20%22Feature%22%7D%2C%20%7B%22geometry%22%3A%20%7B%22coordinates%22%3A%20%5B%5B%5B127.12601715489286%2C%2037.502566431166045%5D%2C%20%5B127.13023810599196%2C%2037.499201691257944%5D%2C%20%5B127.12836832360932%2C%2037.488704998434415%5D%2C%20%5B127.1231960830453%2C%2037.48619151131145%5D%2C%20%5B127.12087971813645%2C%2037.48982135354343%5D%2C%20%5B127.11690768761433%2C%2037.49540111125877%5D%2C%20%5B127.12454553610858%2C%2037.50257189817014%5D%2C%20%5B127.12601715489286%2C%2037.502566431166045%5D%2C%20%5B127.11690768761433%2C%2037.49540111125877%5D%2C%20%5B127.12087971813645%2C%2037.48982135354343%5D%2C%20%5B127.11025761076787%2C%2037.48649739956609%5D%2C%20%5B127.104076240713%2C%2037.4908320962496%5D%2C%20%5B127.0988509639092%2C%2037.49302529254068%5D%2C%20%5B127.09945461343153%2C%2037.49413709993721%5D%2C%20%5B127.11373398262673%2C%2037.49759127667435%5D%2C%20%5B127.11690768761433%2C%2037.49540111125877%5D%2C%20%5B127.1413904172007%2C%2037.49285157653214%5D%2C%20%5B127.14007677473411%2C%2037.49149638593564%5D%2C%20%5B127.13566505691283%2C%2037.48772495794805%5D%2C%20%5B127.12836832360932%2C%2037.488704998434415%5D%2C%20%5B127.13023810599196%2C%2037.499201691257944%5D%2C%20%5B127.1413904172007%2C%2037.49285157653214%5D%2C%20%5B127.1169%2C%2037.4954%5D%5D%5D%2C%20%22type%22%3A%20%22Polygon%22%7D%2C%20%22id%22%3A%20%2270%22%2C%20%22properties%22%3A%20%7B%22base_year%22%3A%20%222013%22%2C%20%22code%22%3A%20%221124065%22%2C%20%22name%22%3A%20%22%5Cuac00%5Cub77d%5Cub3d9%22%2C%20%22name_eng%22%3A%20%22Garakdong%22%7D%2C%20%22type%22%3A%20%22Feature%22%7D%2C%20%7B%22geometry%22%3A%20%7B%22coordinates%22%3A%20%5B%5B%5B127.140424%2C%2037.481576%5D%5D%5D%2C%20%22type%22%3A%20%22Polygon%22%7D%2C%20%22id%22%3A%20%2271%22%2C%20%22properties%22%3A%20%7B%22base_year%22%3A%20%222013%22%2C%20%22code%22%3A%20%221124082%22%2C%20%22name%22%3A%20%22%5Cuc704%5Cub840%5Cub3d9%22%2C%20%22name_eng%22%3A%20%22Wiryedong%22%7D%2C%20%22type%22%3A%20%22Feature%22%7D%2C%20%7B%22geometry%22%3A%20%7B%22coordinates%22%3A%20%5B%5B%5B127.0792709266303%2C%2037.47220180263369%5D%2C%20%5B127.08727101192895%2C%2037.472465566199986%5D%2C%20%5B127.09842759318751%2C%2037.45862253857461%5D%2C%20%5B127.09009867402395%2C%2037.4422501807267%5D%2C%20%5B127.06526281404322%2C%2037.426893481829154%5D%2C%20%5B127.05168651987388%2C%2037.46767933933969%5D%2C%20%5B127.06463901956462%2C%2037.47003474490574%5D%2C%20%5B127.07135137525977%2C%2037.47107802023145%5D%2C%20%5B127.0792709266303%2C%2037.47220180263369%5D%5D%5D%2C%20%22type%22%3A%20%22Polygon%22%7D%2C%20%22id%22%3A%20%2272%22%2C%20%22properties%22%3A%20%7B%22base_year%22%3A%20%222013%22%2C%20%22code%22%3A%20%221122068%22%2C%20%22name%22%3A%20%22%5Cub0b4%5Cuace1%5Cub3d9%22%2C%20%22name_eng%22%3A%20%22Naegok-dong%22%7D%2C%20%22type%22%3A%20%22Feature%22%7D%2C%20%7B%22geometry%22%3A%20%7B%22coordinates%22%3A%20%5B%5B%5B127.03621915098798%2C%2037.48175802427603%5D%2C%20%5B127.04345123620755%2C%2037.48276415595109%5D%2C%20%5B127.04604758022018%2C%2037.476903515648424%5D%2C%20%5B127.0319652225414%2C%2037.46263681748507%5D%2C%20%5B127.00552362663117%2C%2037.46445102893571%5D%2C%20%5B127.01241251373114%2C%2037.46945266650744%5D%2C%20%5B127.02193521391702%2C%2037.474067716833154%5D%2C%20%5B127.02911870203953%2C%2037.477701177812094%5D%2C%20%5B127.03621915098798%2C%2037.48175802427603%5D%2C%20%5B127.04604758022018%2C%2037.476903515648424%5D%2C%20%5B127.05168651987388%2C%2037.46767933933969%5D%2C%20%5B127.06526281404322%2C%2037.426893481829154%5D%2C%20%5B127.04957232987142%2C%2037.42805836845694%5D%2C%20%5B127.03751805596916%2C%2037.438362795245276%5D%2C%20%5B127.0319652225414%2C%2037.46263681748507%5D%2C%20%5B127.04604758022018%2C%2037.476903515648424%5D%5D%5D%2C%20%22type%22%3A%20%22Polygon%22%7D%2C%20%22id%22%3A%20%2273%22%2C%20%22properties%22%3A%20%7B%22base_year%22%3A%20%222013%22%2C%20%22code%22%3A%20%221122066%22%2C%20%22name%22%3A%20%22%5Cuc591%5Cuc7ac%5Cub3d9%22%2C%20%22name_eng%22%3A%20%22Yangjae-dong%22%7D%2C%20%22type%22%3A%20%22Feature%22%7D%2C%20%7B%22geometry%22%3A%20%7B%22coordinates%22%3A%20%5B%5B%5B126.99280810942619%2C%2037.49535122909258%5D%2C%20%5B126.99756162244753%2C%2037.49121462895283%5D%2C%20%5B126.98475158894651%2C%2037.48808652542345%5D%2C%20%5B126.98984815732794%2C%2037.49543063072423%5D%2C%20%5B126.99280810942619%2C%2037.49535122909258%5D%2C%20%5B127.0028991124446%2C%2037.48711641458056%5D%2C%20%5B127.00425350496688%2C%2037.47948911528557%5D%2C%20%5B126.99573866021271%2C%2037.47737384236648%5D%2C%20%5B126.9917301376147%2C%2037.48363649668782%5D%2C%20%5B127.0028991124446%2C%2037.48711641458056%5D%2C%20%5B126.9917301376147%2C%2037.48363649668782%5D%2C%20%5B126.99573866021271%2C%2037.47737384236648%5D%2C%20%5B126.99837609897334%2C%2037.46390918086617%5D%2C%20%5B126.99072073195462%2C%2037.455326143310025%5D%2C%20%5B126.98367668291802%2C%2037.473856492692086%5D%2C%20%5B126.9841829418739%2C%2037.48258040500068%5D%2C%20%5B126.9917301376147%2C%2037.48363649668782%5D%2C%20%5B127.00425350496688%2C%2037.47948911528557%5D%2C%20%5B127.01241251373114%2C%2037.46945266650744%5D%2C%20%5B127.00552362663117%2C%2037.46445102893571%5D%2C%20%5B126.99837609897334%2C%2037.46390918086617%5D%2C%20%5B126.99573866021271%2C%2037.47737384236648%5D%2C%20%5B127.00425350496688%2C%2037.47948911528557%5D%2C%20%5B126.99756162244753%2C%2037.49121462895283%5D%2C%20%5B127.00236954846237%2C%2037.48914136388378%5D%2C%20%5B127.0028991124446%2C%2037.48711641458056%5D%2C%20%5B126.9917301376147%2C%2037.48363649668782%5D%2C%20%5B126.9841829418739%2C%2037.48258040500068%5D%2C%20%5B126.98475158894651%2C%2037.48808652542345%5D%2C%20%5B126.99756162244753%2C%2037.49121462895283%5D%2C%20%5B127.0003%2C%2037.4863%5D%5D%5D%2C%20%22type%22%3A%20%22Polygon%22%7D%2C%20%22id%22%3A%20%2274%22%2C%20%22properties%22%3A%20%7B%22base_year%22%3A%20%222013%22%2C%20%22code%22%3A%20%221122061%22%2C%20%22name%22%3A%20%22%5Cubc29%5Cubc30%5Cub3d9%22%2C%20%22name_eng%22%3A%20%22Bangbae-dong%22%7D%2C%20%22type%22%3A%20%22Feature%22%7D%2C%20%7B%22geometry%22%3A%20%7B%22coordinates%22%3A%20%5B%5B%5B126.99148001917875%2C%2037.50990503427709%5D%2C%20%5B126.9899353890095%2C%2037.49580403496503%5D%2C%20%5B126.98223807916081%2C%2037.509314966770326%5D%2C%20%5B126.98458580602838%2C%2037.51070333105394%5D%2C%20%5B126.99148001917875%2C%2037.50990503427709%5D%2C%20%5B127.02245373407158%2C%2037.508002078676576%5D%2C%20%5B127.02657410782747%2C%2037.50176795282692%5D%2C%20%5B127.02659989308502%2C%2037.50171416311321%5D%2C%20%5B127.0144851182109%2C%2037.49656589001244%5D%2C%20%5B127.01112805225623%2C%2037.504611045572915%5D%2C%20%5B127.0137942031517%2C%2037.505368036653536%5D%2C%20%5B127.02245373407158%2C%2037.508002078676576%5D%2C%20%5B126.99804297072596%2C%2037.5129396612835%5D%2C%20%5B127.0031594358826%2C%2037.50220792443068%5D%2C%20%5B126.99280810942619%2C%2037.49535122909258%5D%2C%20%5B126.98984815732794%2C%2037.49543063072423%5D%2C%20%5B126.9899353890095%2C%2037.49580403496503%5D%2C%20%5B126.99148001917875%2C%2037.50990503427709%5D%2C%20%5B126.99804297072596%2C%2037.5129396612835%5D%2C%20%5B127.00652968936647%2C%2037.51745900392613%5D%2C%20%5B127.0137942031517%2C%2037.505368036653536%5D%2C%20%5B127.01112805225623%2C%2037.504611045572915%5D%2C%20%5B127.0031594358826%2C%2037.50220792443068%5D%2C%20%5B126.99804297072596%2C%2037.5129396612835%5D%2C%20%5B127.00248921069708%2C%2037.5151468928724%5D%2C%20%5B127.00652968936647%2C%2037.51745900392613%5D%2C%20%5B127.01112805225623%2C%2037.504611045572915%5D%2C%20%5B127.0144851182109%2C%2037.49656589001244%5D%2C%20%5B127.01455292676967%2C%2037.496242894198296%5D%2C%20%5B127.00236954846237%2C%2037.48914136388378%5D%2C%20%5B126.99756162244753%2C%2037.49121462895283%5D%2C%20%5B126.99280810942619%2C%2037.49535122909258%5D%2C%20%5B127.0031594358826%2C%2037.50220792443068%5D%2C%20%5B127.01112805225623%2C%2037.504611045572915%5D%5D%5D%2C%20%22type%22%3A%20%22Polygon%22%7D%2C%20%22id%22%3A%20%2275%22%2C%20%22properties%22%3A%20%7B%22base_year%22%3A%20%222013%22%2C%20%22code%22%3A%20%221122056%22%2C%20%22name%22%3A%20%22%5Cubc18%5Cud3ec%5Cub3d9%22%2C%20%22name_eng%22%3A%20%22Banpo-dong%22%7D%2C%20%22type%22%3A%20%22Feature%22%7D%2C%20%7B%22geometry%22%3A%20%7B%22coordinates%22%3A%20%5B%5B%5B127.01397119667513%2C%2037.52503988289669%5D%2C%20%5B127.02161856434614%2C%2037.513416422499084%5D%2C%20%5B127.02245373407158%2C%2037.508002078676576%5D%2C%20%5B127.0137942031517%2C%2037.505368036653536%5D%2C%20%5B127.00652968936647%2C%2037.51745900392613%5D%2C%20%5B127.01007476999547%2C%2037.52178749847865%5D%2C%20%5B127.01397119667513%2C%2037.52503988289669%5D%5D%5D%2C%20%22type%22%3A%20%22Polygon%22%7D%2C%20%22id%22%3A%20%2276%22%2C%20%22properties%22%3A%20%7B%22base_year%22%3A%20%222013%22%2C%20%22code%22%3A%20%221122055%22%2C%20%22name%22%3A%20%22%5Cuc7a0%5Cuc6d0%5Cub3d9%22%2C%20%22name_eng%22%3A%20%22Jamwon-dong%22%7D%2C%20%22type%22%3A%20%22Feature%22%7D%2C%20%7B%22geometry%22%3A%20%7B%22coordinates%22%3A%20%5B%5B%5B126.89434679089375%2C%2037.517936329456134%5D%2C%20%5B126.90318876248057%2C%2037.51623597708425%5D%2C%20%5B126.90595650913806%2C%2037.512129264672595%5D%2C%20%5B126.90024970072872%2C%2037.508651264053526%5D%2C%20%5B126.89506194948585%2C%2037.50665830681419%5D%2C%20%5B126.88156402353862%2C%2037.513970034765684%5D%2C%20%5B126.88189648445959%2C%2037.5185794999475%5D%2C%20%5B126.89434679089375%2C%2037.517936329456134%5D%5D%5D%2C%20%22type%22%3A%20%22Polygon%22%7D%2C%20%22id%22%3A%20%2277%22%2C%20%22properties%22%3A%20%7B%22base_year%22%3A%20%222013%22%2C%20%22code%22%3A%20%221119076%22%2C%20%22name%22%3A%20%22%5Cubb38%5Cub798%5Cub3d9%22%2C%20%22name_eng%22%3A%20%22Mullae-dong%22%7D%2C%20%22type%22%3A%20%22Feature%22%7D%2C%20%7B%22geometry%22%3A%20%7B%22coordinates%22%3A%20%5B%5B%5B126.91238867574337%2C%2037.50790341847211%5D%2C%20%5B126.90031162921845%2C%2037.50253058714012%5D%2C%20%5B126.89723167926884%2C%2037.50534888356761%5D%2C%20%5B126.89506194948585%2C%2037.50665830681419%5D%2C%20%5B126.90024970072872%2C%2037.508651264053526%5D%2C%20%5B126.91238867574337%2C%2037.50790341847211%5D%5D%5D%2C%20%22type%22%3A%20%22Polygon%22%7D%2C%20%22id%22%3A%20%2278%22%2C%20%22properties%22%3A%20%7B%22base_year%22%3A%20%222013%22%2C%20%22code%22%3A%20%221119075%22%2C%20%22name%22%3A%20%22%5Cub3c4%5Cub9bc%5Cub3d9%22%2C%20%22name_eng%22%3A%20%22Dorim-dong%22%7D%2C%20%22type%22%3A%20%22Feature%22%7D%2C%20%7B%22geometry%22%3A%20%7B%22coordinates%22%3A%20%5B%5B%5B126.91529490742654%2C%2037.52161528298722%5D%2C%20%5B126.9195863311316%2C%2037.516647135051095%5D%2C%20%5B126.91875018253891%2C%2037.51465398520624%5D%2C%20%5B126.90595650913806%2C%2037.512129264672595%5D%2C%20%5B126.90318876248057%2C%2037.51623597708425%5D%2C%20%5B126.90492891259342%2C%2037.52332119911818%5D%2C%20%5B126.91529490742654%2C%2037.52161528298722%5D%2C%20%5B126.90595650913806%2C%2037.512129264672595%5D%2C%20%5B126.91875018253891%2C%2037.51465398520624%5D%2C%20%5B126.91582906104041%2C%2037.50858070360255%5D%2C%20%5B126.91238867574337%2C%2037.50790341847211%5D%2C%20%5B126.90024970072872%2C%2037.508651264053526%5D%2C%20%5B126.90595650913806%2C%2037.512129264672595%5D%5D%5D%2C%20%22type%22%3A%20%22Polygon%22%7D%2C%20%22id%22%3A%20%2279%22%2C%20%22properties%22%3A%20%7B%22base_year%22%3A%20%222013%22%2C%20%22code%22%3A%20%221119074%22%2C%20%22name%22%3A%20%22%5Cuc601%5Cub4f1%5Cud3ec%5Cub3d9%22%2C%20%22name_eng%22%3A%20%22Yeongdeungpo-dong%22%7D%2C%20%22type%22%3A%20%22Feature%22%7D%2C%20%7B%22geometry%22%3A%20%7B%22coordinates%22%3A%20%5B%5B%5B126.91025958396753%2C%2037.49464345944196%5D%2C%20%5B126.9115445390681%2C%2037.489781880538914%5D%2C%20%5B126.90842351049845%2C%2037.48612122533977%5D%2C%20%5B126.90201988936221%2C%2037.492026046634635%5D%2C%20%5B126.9058370630647%2C%2037.49448728474771%5D%2C%20%5B126.91025958396753%2C%2037.49464345944196%5D%2C%20%5B126.8974895759185%2C%2037.48922754431995%5D%2C%20%5B126.90201988936221%2C%2037.492026046634635%5D%2C%20%5B126.90842351049845%2C%2037.48612122533977%5D%2C%20%5B126.90531975801812%2C%2037.48218087575429%5D%2C%20%5B126.8974895759185%2C%2037.48922754431995%5D%2C%20%5B126.89723167926884%2C%2037.50534888356761%5D%2C%20%5B126.90031162921845%2C%2037.50253058714012%5D%2C%20%5B126.90256960768151%2C%2037.50022429722764%5D%2C%20%5B126.9058370630647%2C%2037.49448728474771%5D%2C%20%5B126.90201988936221%2C%2037.492026046634635%5D%2C%20%5B126.8974895759185%2C%2037.48922754431995%5D%2C%20%5B126.89561850607332%2C%2037.494919707033155%5D%2C%20%5B126.89594776782485%2C%2037.504675281309176%5D%2C%20%5B126.89723167926884%2C%2037.50534888356761%5D%2C%20%5B126.8975%2C%2037.4892%5D%5D%5D%2C%20%22type%22%3A%20%22Polygon%22%7D%2C%20%22id%22%3A%20%2280%22%2C%20%22properties%22%3A%20%7B%22base_year%22%3A%20%222013%22%2C%20%22code%22%3A%20%221119070%22%2C%20%22name%22%3A%20%22%5Cub300%5Cub9bc%5Cub3d9%22%2C%20%22name_eng%22%3A%20%22Daerim-dong%22%7D%2C%20%22type%22%3A%20%22Feature%22%7D%2C%20%7B%22geometry%22%3A%20%7B%22coordinates%22%3A%20%5B%5B%5B126.91875018253891%2C%2037.51465398520624%5D%2C%20%5B126.9195863311316%2C%2037.516647135051095%5D%2C%20%5B126.92810628828279%2C%2037.51329595732015%5D%2C%20%5B126.92725960303925%2C%2037.51209836265926%5D%2C%20%5B126.91821751806383%2C%2037.50284355014171%5D%2C%20%5B126.91582906104041%2C%2037.50858070360255%5D%2C%20%5B126.91875018253891%2C%2037.51465398520624%5D%2C%20%5B126.90031162921845%2C%2037.50253058714012%5D%2C%20%5B126.91238867574337%2C%2037.50790341847211%5D%2C%20%5B126.91225382276667%2C%2037.50103128920818%5D%2C%20%5B126.90256960768151%2C%2037.50022429722764%5D%2C%20%5B126.90031162921845%2C%2037.50253058714012%5D%2C%20%5B126.91238867574337%2C%2037.50790341847211%5D%2C%20%5B126.91582906104041%2C%2037.50858070360255%5D%2C%20%5B126.91821751806383%2C%2037.50284355014171%5D%2C%20%5B126.91754848082671%2C%2037.5013900417839%5D%2C%20%5B126.91230922114025%2C%2037.50081619356949%5D%2C%20%5B126.91225382276667%2C%2037.50103128920818%5D%2C%20%5B126.91238867574337%2C%2037.50790341847211%5D%2C%20%5B126.91230922114025%2C%2037.50081619356949%5D%2C%20%5B126.91025958396753%2C%2037.49464345944196%5D%2C%20%5B126.9058370630647%2C%2037.49448728474771%5D%2C%20%5B126.90256960768151%2C%2037.50022429722764%5D%2C%20%5B126.91225382276667%2C%2037.50103128920818%5D%2C%20%5B126.91230922114025%2C%2037.50081619356949%5D%2C%20%5B126.91754848082671%2C%2037.5013900417839%5D%2C%20%5B126.92292130935361%2C%2037.49859475197651%5D%2C%20%5B126.92232549303954%2C%2037.49571954778746%5D%2C%20%5B126.9163327240052%2C%2037.493780190159484%5D%2C%20%5B126.9115445390681%2C%2037.489781880538914%5D%2C%20%5B126.91025958396753%2C%2037.49464345944196%5D%2C%20%5B126.91230922114025%2C%2037.50081619356949%5D%2C%20%5B126.91754848082671%2C%2037.5013900417839%5D%2C%20%5B126.92725960303925%2C%2037.51209836265926%5D%2C%20%5B126.92292130935361%2C%2037.49859475197651%5D%2C%20%5B126.91754848082671%2C%2037.5013900417839%5D%2C%20%5B126.91821751806383%2C%2037.50284355014171%5D%2C%20%5B126.92725960303925%2C%2037.51209836265926%5D%5D%5D%2C%20%22type%22%3A%20%22Polygon%22%7D%2C%20%22id%22%3A%20%2281%22%2C%20%22properties%22%3A%20%7B%22base_year%22%3A%20%222013%22%2C%20%22code%22%3A%20%221119063%22%2C%20%22name%22%3A%20%22%5Cuc2e0%5Cuae38%5Cub3d9%22%2C%20%22name_eng%22%3A%20%22Singil-dong%22%7D%2C%20%22type%22%3A%20%22Feature%22%7D%2C%20%7B%22geometry%22%3A%20%7B%22coordinates%22%3A%20%5B%5B%5B126.89213569003026%2C%2037.52757969298779%5D%2C%20%5B126.89623761041238%2C%2037.52641288576302%5D%2C%20%5B126.89434679089375%2C%2037.517936329456134%5D%2C%20%5B126.88189648445959%2C%2037.5185794999475%5D%2C%20%5B126.88191372979959%2C%2037.51939416754389%5D%2C%20%5B126.89057378109133%2C%2037.52792091672938%5D%2C%20%5B126.89213569003026%2C%2037.52757969298779%5D%2C%20%5B126.89884901883059%2C%2037.54351915927068%5D%2C%20%5B126.90613928523919%2C%2037.54004262194344%5D%2C%20%5B126.89623761041238%2C%2037.52641288576302%5D%2C%20%5B126.89213569003026%2C%2037.52757969298779%5D%2C%20%5B126.88825757860099%2C%2037.54079733630232%5D%2C%20%5B126.89184663862764%2C%2037.547373974997114%5D%2C%20%5B126.89884901883059%2C%2037.54351915927068%5D%5D%5D%2C%20%22type%22%3A%20%22Polygon%22%7D%2C%20%22id%22%3A%20%2282%22%2C%20%22properties%22%3A%20%7B%22base_year%22%3A%20%222013%22%2C%20%22code%22%3A%20%221119061%22%2C%20%22name%22%3A%20%22%5Cuc591%5Cud3c9%5Cub3d9%22%2C%20%22name_eng%22%3A%20%22Yangpyeong-dong%22%7D%2C%20%22type%22%3A%20%22Feature%22%7D%2C%20%7B%22geometry%22%3A%20%7B%22coordinates%22%3A%20%5B%5B%5B126.89623761041238%2C%2037.52641288576302%5D%2C%20%5B126.90492891259342%2C%2037.52332119911818%5D%2C%20%5B126.90318876248057%2C%2037.51623597708425%5D%2C%20%5B126.89434679089375%2C%2037.517936329456134%5D%2C%20%5B126.89623761041238%2C%2037.52641288576302%5D%2C%20%5B126.90980671398273%2C%2037.53886879435198%5D%2C%20%5B126.91529490742654%2C%2037.52161528298722%5D%2C%20%5B126.90492891259342%2C%2037.52332119911818%5D%2C%20%5B126.89623761041238%2C%2037.52641288576302%5D%2C%20%5B126.90613928523919%2C%2037.54004262194344%5D%2C%20%5B126.90980671398273%2C%2037.53886879435198%5D%5D%5D%2C%20%22type%22%3A%20%22Polygon%22%7D%2C%20%22id%22%3A%20%2283%22%2C%20%22properties%22%3A%20%7B%22base_year%22%3A%20%222013%22%2C%20%22code%22%3A%20%221119055%22%2C%20%22name%22%3A%20%22%5Cub2f9%5Cuc0b0%5Cub3d9%22%2C%20%22name_eng%22%3A%20%22Dangsan-dong%22%7D%2C%20%22type%22%3A%20%22Feature%22%7D%2C%20%7B%22geometry%22%3A%20%7B%22coordinates%22%3A%20%5B%5B%5B126.91660453024498%2C%2037.537356735757825%5D%2C%20%5B126.92756072062444%2C%2037.53502278894361%5D%2C%20%5B126.93610231961364%2C%2037.533536049459336%5D%2C%20%5B126.93918377413196%2C%2037.531505495586806%5D%2C%20%5B126.94566733083212%2C%2037.526617542453366%5D%2C%20%5B126.94843467030468%2C%2037.52453252611103%5D%2C%20%5B126.95249990298159%2C%2037.51722500741813%5D%2C%20%5B126.94057860663652%2C%2037.51398774997332%5D%2C%20%5B126.93513436872607%2C%2037.51296228521225%5D%2C%20%5B126.92810628828279%2C%2037.51329595732015%5D%2C%20%5B126.9195863311316%2C%2037.516647135051095%5D%2C%20%5B126.91529490742654%2C%2037.52161528298722%5D%2C%20%5B126.90980671398273%2C%2037.53886879435198%5D%2C%20%5B126.91660453024498%2C%2037.537356735757825%5D%5D%5D%2C%20%22type%22%3A%20%22Polygon%22%7D%2C%20%22id%22%3A%20%2284%22%2C%20%22properties%22%3A%20%7B%22base_year%22%3A%20%222013%22%2C%20%22code%22%3A%20%221119054%22%2C%20%22name%22%3A%20%22%5Cuc5ec%5Cuc758%5Cub3c4%5Cub3d9%22%2C%20%22name_eng%22%3A%20%22Yeoui-dong%22%7D%2C%20%22type%22%3A%20%22Feature%22%7D%2C%20%7B%22geometry%22%3A%20%7B%22coordinates%22%3A%20%5B%5B%5B126.88224417295716%2C%2037.484538764380076%5D%2C%20%5B126.88820216446295%2C%2037.48204582221334%5D%2C%20%5B126.88841661067802%2C%2037.48219105172914%5D%2C%20%5B126.89825969686503%2C%2037.4757468558901%5D%2C%20%5B126.89795508338685%2C%2037.475649435288865%5D%2C%20%5B126.8827497570056%2C%2037.48316340563878%5D%2C%20%5B126.88224417295716%2C%2037.484538764380076%5D%5D%5D%2C%20%22type%22%3A%20%22Polygon%22%7D%2C%20%22id%22%3A%20%2285%22%2C%20%22properties%22%3A%20%7B%22base_year%22%3A%20%222013%22%2C%20%22code%22%3A%20%221117070%22%2C%20%22name%22%3A%20%22%5Cuac00%5Cub9ac%5Cubd09%5Cub3d9%22%2C%20%22name_eng%22%3A%20%22Garibong-dong%22%7D%2C%20%22type%22%3A%20%22Feature%22%7D%2C%20%7B%22geometry%22%3A%20%7B%22coordinates%22%3A%20%5B%5B%5B126.85454941949692%2C%2037.51844750978848%5D%2C%20%5B126.86749753088638%2C%2037.51976064430961%5D%2C%20%5B126.86468606159418%2C%2037.51407314112323%5D%2C%20%5B126.85802673813076%2C%2037.510879491972354%5D%2C%20%5B126.85454941949692%2C%2037.51844750978848%5D%2C%20%5B126.88191372979959%2C%2037.51939416754389%5D%2C%20%5B126.88189648445959%2C%2037.5185794999475%5D%2C%20%5B126.88156402353862%2C%2037.513970034765684%5D%2C%20%5B126.88054908630636%2C%2037.51148026214697%5D%2C%20%5B126.8732486487875%2C%2037.520328875655174%5D%2C%20%5B126.88191372979959%2C%2037.51939416754389%5D%2C%20%5B126.85370070283693%2C%2037.5189206441223%5D%2C%20%5B126.85454941949692%2C%2037.51844750978848%5D%2C%20%5B126.85802673813076%2C%2037.510879491972354%5D%2C%20%5B126.8602448049945%2C%2037.50714262450898%5D%2C%20%5B126.84758421076914%2C%2037.50465623338784%5D%2C%20%5B126.84045080118607%2C%2037.497338425236606%5D%2C%20%5B126.83850084850799%2C%2037.49784710329234%5D%2C%20%5B126.82688081517314%2C%2037.50548972232896%5D%2C%20%5B126.82750646477032%2C%2037.51629061540964%5D%2C%20%5B126.83701592046177%2C%2037.51284779189256%5D%2C%20%5B126.85056881151817%2C%2037.514181933614545%5D%2C%20%5B126.85370070283693%2C%2037.5189206441223%5D%2C%20%5B126.86057462514691%2C%2037.52630489837469%5D%2C%20%5B126.86610073476395%2C%2037.52699964144669%5D%2C%20%5B126.86749753088638%2C%2037.51976064430961%5D%2C%20%5B126.85454941949692%2C%2037.51844750978848%5D%2C%20%5B126.85370070283693%2C%2037.5189206441223%5D%2C%20%5B126.85098397861944%2C%2037.525098716169985%5D%2C%20%5B126.85405286851844%2C%2037.52548390048836%5D%2C%20%5B126.86057462514691%2C%2037.52630489837469%5D%2C%20%5B126.8732486487875%2C%2037.520328875655174%5D%2C%20%5B126.88054908630636%2C%2037.51148026214697%5D%2C%20%5B126.87556919864359%2C%2037.505720626918%5D%2C%20%5B126.86468606159418%2C%2037.51407314112323%5D%2C%20%5B126.86749753088638%2C%2037.51976064430961%5D%2C%20%5B126.8732486487875%2C%2037.520328875655174%5D%2C%20%5B126.86468606159418%2C%2037.51407314112323%5D%2C%20%5B126.87556919864359%2C%2037.505720626918%5D%2C%20%5B126.87335085283947%2C%2037.5028231455955%5D%2C%20%5B126.86484290038425%2C%2037.50319788568579%5D%2C%20%5B126.8602448049945%2C%2037.50714262450898%5D%2C%20%5B126.85802673813076%2C%2037.510879491972354%5D%2C%20%5B126.86468606159418%2C%2037.51407314112323%5D%5D%5D%2C%20%22type%22%3A%20%22Polygon%22%7D%2C%20%22id%22%3A%20%2286%22%2C%20%22properties%22%3A%20%7B%22base_year%22%3A%20%222013%22%2C%20%22code%22%3A%20%221115064%22%2C%20%22name%22%3A%20%22%5Cuc2e0%5Cuc815%5Cub3d9%22%2C%20%22name_eng%22%3A%20%22Sinjeong-dong%22%7D%2C%20%22type%22%3A%20%22Feature%22%7D%2C%20%7B%22geometry%22%3A%20%7B%22coordinates%22%3A%20%5B%5B%5B126.83059611512643%2C%2037.53311218043022%5D%2C%20%5B126.83725242600985%2C%2037.53411319148143%5D%2C%20%5B126.84257291943153%2C%2037.52373707805596%5D%2C%20%5B126.83698179947808%2C%2037.522751383509295%5D%2C%20%5B126.83059611512643%2C%2037.53311218043022%5D%2C%20%5B126.84257291943153%2C%2037.52373707805596%5D%2C%20%5B126.85098397861944%2C%2037.525098716169985%5D%2C%20%5B126.85370070283693%2C%2037.5189206441223%5D%2C%20%5B126.85056881151817%2C%2037.514181933614545%5D%2C%20%5B126.84652529900028%2C%2037.517241513953415%5D%2C%20%5B126.84257291943153%2C%2037.52373707805596%5D%2C%20%5B126.8242331426722%2C%2037.53788078753248%5D%2C%20%5B126.82686940039885%2C%2037.53819083730896%5D%2C%20%5B126.83059611512643%2C%2037.53311218043022%5D%2C%20%5B126.83698179947808%2C%2037.522751383509295%5D%2C%20%5B126.828002136099%2C%2037.52127611512284%5D%2C%20%5B126.82393357986797%2C%2037.536418587711935%5D%2C%20%5B126.8242331426722%2C%2037.53788078753248%5D%2C%20%5B126.84257291943153%2C%2037.52373707805596%5D%2C%20%5B126.84652529900028%2C%2037.517241513953415%5D%2C%20%5B126.84153277399147%2C%2037.514285107208785%5D%2C%20%5B126.83698179947808%2C%2037.522751383509295%5D%2C%20%5B126.84257291943153%2C%2037.52373707805596%5D%2C%20%5B126.82686940039885%2C%2037.53819083730896%5D%2C%20%5B126.83200611815096%2C%2037.54333490679484%5D%2C%20%5B126.8358656942957%2C%2037.537072465505254%5D%2C%20%5B126.83725242600985%2C%2037.53411319148143%5D%2C%20%5B126.83059611512643%2C%2037.53311218043022%5D%2C%20%5B126.82686940039885%2C%2037.53819083730896%5D%2C%20%5B126.84652529900028%2C%2037.517241513953415%5D%2C%20%5B126.85056881151817%2C%2037.514181933614545%5D%2C%20%5B126.83701592046177%2C%2037.51284779189256%5D%2C%20%5B126.84153277399147%2C%2037.514285107208785%5D%2C%20%5B126.84652529900028%2C%2037.517241513953415%5D%2C%20%5B126.83698179947808%2C%2037.522751383509295%5D%2C%20%5B126.84153277399147%2C%2037.514285107208785%5D%2C%20%5B126.83701592046177%2C%2037.51284779189256%5D%2C%20%5B126.82750646477032%2C%2037.51629061540964%5D%2C%20%5B126.827661394147%2C%2037.51731218462361%5D%2C%20%5B126.828002136099%2C%2037.52127611512284%5D%2C%20%5B126.83698179947808%2C%2037.522751383509295%5D%5D%5D%2C%20%22type%22%3A%20%22Polygon%22%7D%2C%20%22id%22%3A%20%2287%22%2C%20%22properties%22%3A%20%7B%22base_year%22%3A%20%222013%22%2C%20%22code%22%3A%20%221115057%22%2C%20%22name%22%3A%20%22%5Cuc2e0%5Cuc6d4%5Cub3d9%22%2C%20%22name_eng%22%3A%20%22Sinwol-dong%22%7D%2C%20%22type%22%3A%20%22Feature%22%7D%2C%20%7B%22geometry%22%3A%20%7B%22coordinates%22%3A%20%5B%5B%5B127.0144851182109%2C%2037.49656589001244%5D%2C%20%5B127.02659989308502%2C%2037.50171416311321%5D%2C%20%5B127.02973923489684%2C%2037.49515937670812%5D%2C%20%5B127.02338041637414%2C%2037.493204693100644%5D%2C%20%5B127.01786538558227%2C%2037.49151341708397%5D%2C%20%5B127.01455292676967%2C%2037.496242894198296%5D%2C%20%5B127.0144851182109%2C%2037.49656589001244%5D%2C%20%5B127.01455292676967%2C%2037.496242894198296%5D%2C%20%5B127.01786538558227%2C%2037.49151341708397%5D%2C%20%5B127.02193521391702%2C%2037.474067716833154%5D%2C%20%5B127.01241251373114%2C%2037.46945266650744%5D%2C%20%5B127.00425350496688%2C%2037.47948911528557%5D%2C%20%5B127.0028991124446%2C%2037.48711641458056%5D%2C%20%5B127.00236954846237%2C%2037.48914136388378%5D%2C%20%5B127.01455292676967%2C%2037.496242894198296%5D%2C%20%5B127.02338041637414%2C%2037.493204693100644%5D%2C%20%5B127.02973923489684%2C%2037.49515937670812%5D%2C%20%5B127.03372770134304%2C%2037.48673420790798%5D%2C%20%5B127.03621915098798%2C%2037.48175802427603%5D%2C%20%5B127.02911870203953%2C%2037.477701177812094%5D%2C%20%5B127.02338041637414%2C%2037.493204693100644%5D%2C%20%5B127.02338041637414%2C%2037.493204693100644%5D%2C%20%5B127.02911870203953%2C%2037.477701177812094%5D%2C%20%5B127.02193521391702%2C%2037.474067716833154%5D%2C%20%5B127.01786538558227%2C%2037.49151341708397%5D%2C%20%5B127.02338041637414%2C%2037.493204693100644%5D%5D%5D%2C%20%22type%22%3A%20%22Polygon%22%7D%2C%20%22id%22%3A%20%2288%22%2C%20%22properties%22%3A%20%7B%22base_year%22%3A%20%222013%22%2C%20%22code%22%3A%20%221122054%22%2C%20%22name%22%3A%20%22%5Cuc11c%5Cucd08%5Cub3d9%22%2C%20%22name_eng%22%3A%20%22Seocho-dong%22%7D%2C%20%22type%22%3A%20%22Feature%22%7D%2C%20%7B%22geometry%22%3A%20%7B%22coordinates%22%3A%20%5B%5B%5B126.88825757860099%2C%2037.54079733630232%5D%2C%20%5B126.89213569003026%2C%2037.52757969298779%5D%2C%20%5B126.89057378109133%2C%2037.52792091672938%5D%2C%20%5B126.86927702836392%2C%2037.52742003525212%5D%2C%20%5B126.87475973523975%2C%2037.53477343212077%5D%2C%20%5B126.8872486543506%2C%2037.54079100234749%5D%2C%20%5B126.88825757860099%2C%2037.54079733630232%5D%2C%20%5B126.87055756559812%2C%2037.53699225363709%5D%2C%20%5B126.87475973523975%2C%2037.53477343212077%5D%2C%20%5B126.86927702836392%2C%2037.52742003525212%5D%2C%20%5B126.86610073476395%2C%2037.52699964144669%5D%2C%20%5B126.86558466813598%2C%2037.532799856575316%5D%2C%20%5B126.86576197147025%2C%2037.53648442128123%5D%2C%20%5B126.87055756559812%2C%2037.53699225363709%5D%2C%20%5B126.86716429874264%2C%2037.54825913468198%5D%2C%20%5B126.8727924099192%2C%2037.544853699294116%5D%2C%20%5B126.87055756559812%2C%2037.53699225363709%5D%2C%20%5B126.86576197147025%2C%2037.53648442128123%5D%2C%20%5B126.86637464321238%2C%2037.54859191094823%5D%2C%20%5B126.86716429874264%2C%2037.54825913468198%5D%2C%20%5B126.8872486543506%2C%2037.54079100234749%5D%2C%20%5B126.87475973523975%2C%2037.53477343212077%5D%2C%20%5B126.87055756559812%2C%2037.53699225363709%5D%2C%20%5B126.8727924099192%2C%2037.544853699294116%5D%2C%20%5B126.8872486543506%2C%2037.54079100234749%5D%2C%20%5B126.86927702836392%2C%2037.52742003525212%5D%2C%20%5B126.89057378109133%2C%2037.52792091672938%5D%2C%20%5B126.88191372979959%2C%2037.51939416754389%5D%2C%20%5B126.8732486487875%2C%2037.520328875655174%5D%2C%20%5B126.86749753088638%2C%2037.51976064430961%5D%2C%20%5B126.86610073476395%2C%2037.52699964144669%5D%2C%20%5B126.86927702836392%2C%2037.52742003525212%5D%5D%5D%2C%20%22type%22%3A%20%22Polygon%22%7D%2C%20%22id%22%3A%20%2289%22%2C%20%22properties%22%3A%20%7B%22base_year%22%3A%20%222013%22%2C%20%22code%22%3A%20%221115071%22%2C%20%22name%22%3A%20%22%5Cubaa9%5Cub3d9%22%2C%20%22name_eng%22%3A%20%22Mok-dong%22%7D%2C%20%22type%22%3A%20%22Feature%22%7D%5D%2C%20%22type%22%3A%20%22FeatureCollection%22%7D%29%3B%0A%0A%20%20%20%20%20%20%20%20%0A%20%20%20%20%0A%20%20%20%20var%20color_map_9c5cd433979c40d4be04028901215bae%20%3D%20%7B%7D%3B%0A%0A%20%20%20%20%0A%20%20%20%20color_map_9c5cd433979c40d4be04028901215bae.color%20%3D%20d3.scale.threshold%28%29%0A%20%20%20%20%20%20%20%20%20%20%20%20%20%20.domain%28%5B2.0%2C%20131.3246492985972%2C%20260.6492985971944%2C%20389.9739478957916%2C%20519.2985971943888%2C%20648.623246492986%2C%20777.9478957915832%2C%20907.2725450901804%2C%201036.5971943887776%2C%201165.9218436873748%2C%201295.246492985972%2C%201424.571142284569%2C%201553.8957915831663%2C%201683.2204408817636%2C%201812.5450901803608%2C%201941.8697394789579%2C%202071.194388777555%2C%202200.5190380761524%2C%202329.8436873747496%2C%202459.168336673347%2C%202588.492985971944%2C%202717.817635270541%2C%202847.142284569138%2C%202976.4669338677354%2C%203105.7915831663327%2C%203235.11623246493%2C%203364.440881763527%2C%203493.7655310621244%2C%203623.0901803607217%2C%203752.4148296593185%2C%203881.7394789579157%2C%204011.064128256513%2C%204140.38877755511%2C%204269.7134268537075%2C%204399.038076152305%2C%204528.362725450902%2C%204657.687374749499%2C%204787.0120240480965%2C%204916.336673346694%2C%205045.661322645291%2C%205174.985971943888%2C%205304.310621242485%2C%205433.635270541082%2C%205562.959919839679%2C%205692.284569138276%2C%205821.609218436874%2C%205950.933867735471%2C%206080.258517034068%2C%206209.583166332665%2C%206338.907815631263%2C%206468.23246492986%2C%206597.557114228457%2C%206726.881763527054%2C%206856.206412825652%2C%206985.531062124249%2C%207114.855711422846%2C%207244.180360721443%2C%207373.50501002004%2C%207502.829659318637%2C%207632.154308617234%2C%207761.478957915831%2C%207890.803607214429%2C%208020.128256513026%2C%208149.452905811623%2C%208278.77755511022%2C%208408.102204408817%2C%208537.426853707415%2C%208666.751503006011%2C%208796.07615230461%2C%208925.400801603206%2C%209054.725450901804%2C%209184.0501002004%2C%209313.374749498998%2C%209442.699398797595%2C%209572.024048096193%2C%209701.34869739479%2C%209830.673346693387%2C%209959.997995991984%2C%2010089.322645290582%2C%2010218.647294589178%2C%2010347.971943887776%2C%2010477.296593186373%2C%2010606.62124248497%2C%2010735.945891783567%2C%2010865.270541082164%2C%2010994.595190380762%2C%2011123.919839679358%2C%2011253.244488977956%2C%2011382.569138276553%2C%2011511.89378757515%2C%2011641.218436873747%2C%2011770.543086172345%2C%2011899.867735470942%2C%2012029.19238476954%2C%2012158.517034068136%2C%2012287.841683366734%2C%2012417.16633266533%2C%2012546.490981963927%2C%2012675.815631262525%2C%2012805.140280561121%2C%2012934.46492985972%2C%2013063.789579158316%2C%2013193.114228456914%2C%2013322.43887775551%2C%2013451.763527054109%2C%2013581.088176352705%2C%2013710.412825651303%2C%2013839.7374749499%2C%2013969.062124248498%2C%2014098.386773547094%2C%2014227.711422845692%2C%2014357.036072144288%2C%2014486.360721442887%2C%2014615.685370741483%2C%2014745.01002004008%2C%2014874.334669338677%2C%2015003.659318637274%2C%2015132.983967935872%2C%2015262.308617234468%2C%2015391.633266533066%2C%2015520.957915831663%2C%2015650.282565130261%2C%2015779.607214428857%2C%2015908.931863727455%2C%2016038.256513026052%2C%2016167.58116232465%2C%2016296.905811623246%2C%2016426.230460921844%2C%2016555.55511022044%2C%2016684.879759519037%2C%2016814.204408817634%2C%2016943.529058116234%2C%2017072.85370741483%2C%2017202.178356713426%2C%2017331.503006012023%2C%2017460.827655310623%2C%2017590.15230460922%2C%2017719.476953907815%2C%2017848.80160320641%2C%2017978.12625250501%2C%2018107.450901803608%2C%2018236.775551102204%2C%2018366.1002004008%2C%2018495.4248496994%2C%2018624.749498997997%2C%2018754.074148296593%2C%2018883.39879759519%2C%2019012.723446893786%2C%2019142.048096192386%2C%2019271.372745490982%2C%2019400.69739478958%2C%2019530.022044088175%2C%2019659.346693386775%2C%2019788.67134268537%2C%2019917.995991983968%2C%2020047.320641282564%2C%2020176.645290581164%2C%2020305.96993987976%2C%2020435.294589178357%2C%2020564.619238476953%2C%2020693.943887775553%2C%2020823.26853707415%2C%2020952.593186372746%2C%2021081.917835671342%2C%2021211.24248496994%2C%2021340.56713426854%2C%2021469.891783567135%2C%2021599.21643286573%2C%2021728.541082164327%2C%2021857.865731462927%2C%2021987.190380761524%2C%2022116.51503006012%2C%2022245.839679358716%2C%2022375.164328657316%2C%2022504.488977955913%2C%2022633.81362725451%2C%2022763.138276553105%2C%2022892.462925851705%2C%2023021.7875751503%2C%2023151.112224448898%2C%2023280.436873747494%2C%2023409.76152304609%2C%2023539.08617234469%2C%2023668.410821643287%2C%2023797.735470941883%2C%2023927.06012024048%2C%2024056.38476953908%2C%2024185.709418837676%2C%2024315.034068136272%2C%2024444.35871743487%2C%2024573.68336673347%2C%2024703.008016032065%2C%2024832.33266533066%2C%2024961.657314629258%2C%2025090.981963927854%2C%2025220.306613226454%2C%2025349.63126252505%2C%2025478.955911823647%2C%2025608.280561122243%2C%2025737.605210420843%2C%2025866.92985971944%2C%2025996.254509018036%2C%2026125.579158316632%2C%2026254.903807615232%2C%2026384.22845691383%2C%2026513.553106212425%2C%2026642.87775551102%2C%2026772.20240480962%2C%2026901.527054108217%2C%2027030.851703406814%2C%2027160.17635270541%2C%2027289.501002004006%2C%2027418.825651302606%2C%2027548.150300601203%2C%2027677.4749498998%2C%2027806.799599198395%2C%2027936.124248496995%2C%2028065.44889779559%2C%2028194.773547094188%2C%2028324.098196392784%2C%2028453.422845691384%2C%2028582.74749498998%2C%2028712.072144288577%2C%2028841.396793587173%2C%2028970.721442885773%2C%2029100.04609218437%2C%2029229.370741482966%2C%2029358.695390781562%2C%2029488.02004008016%2C%2029617.34468937876%2C%2029746.669338677355%2C%2029875.99398797595%2C%2030005.318637274548%2C%2030134.643286573148%2C%2030263.967935871744%2C%2030393.29258517034%2C%2030522.617234468937%2C%2030651.941883767537%2C%2030781.266533066133%2C%2030910.59118236473%2C%2031039.915831663326%2C%2031169.240480961926%2C%2031298.565130260522%2C%2031427.88977955912%2C%2031557.214428857715%2C%2031686.53907815631%2C%2031815.86372745491%2C%2031945.188376753507%2C%2032074.513026052104%2C%2032203.8376753507%2C%2032333.1623246493%2C%2032462.486973947896%2C%2032591.811623246493%2C%2032721.13627254509%2C%2032850.46092184369%2C%2032979.78557114228%2C%2033109.11022044088%2C%2033238.43486973948%2C%2033367.759519038074%2C%2033497.084168336674%2C%2033626.40881763527%2C%2033755.73346693387%2C%2033885.05811623247%2C%2034014.38276553106%2C%2034143.70741482966%2C%2034273.03206412826%2C%2034402.35671342685%2C%2034531.68136272545%2C%2034661.006012024045%2C%2034790.330661322645%2C%2034919.655310621245%2C%2035048.97995991984%2C%2035178.30460921844%2C%2035307.62925851704%2C%2035436.95390781563%2C%2035566.27855711423%2C%2035695.60320641282%2C%2035824.92785571142%2C%2035954.25250501002%2C%2036083.577154308616%2C%2036212.901803607216%2C%2036342.22645290581%2C%2036471.55110220441%2C%2036600.87575150301%2C%2036730.2004008016%2C%2036859.5250501002%2C%2036988.8496993988%2C%2037118.174348697394%2C%2037247.498997995994%2C%2037376.82364729459%2C%2037506.14829659319%2C%2037635.47294589179%2C%2037764.79759519038%2C%2037894.12224448898%2C%2038023.44689378757%2C%2038152.77154308617%2C%2038282.09619238477%2C%2038411.420841683364%2C%2038540.745490981964%2C%2038670.070140280564%2C%2038799.39478957916%2C%2038928.71943887776%2C%2039058.04408817635%2C%2039187.36873747495%2C%2039316.69338677355%2C%2039446.01803607214%2C%2039575.34268537074%2C%2039704.667334669335%2C%2039833.991983967935%2C%2039963.316633266535%2C%2040092.64128256513%2C%2040221.96593186373%2C%2040351.29058116233%2C%2040480.61523046092%2C%2040609.93987975952%2C%2040739.26452905811%2C%2040868.58917835671%2C%2040997.91382765531%2C%2041127.238476953906%2C%2041256.563126252506%2C%2041385.887775551106%2C%2041515.2124248497%2C%2041644.5370741483%2C%2041773.86172344689%2C%2041903.18637274549%2C%2042032.51102204409%2C%2042161.835671342684%2C%2042291.160320641284%2C%2042420.48496993988%2C%2042549.80961923848%2C%2042679.13426853708%2C%2042808.45891783567%2C%2042937.78356713427%2C%2043067.10821643287%2C%2043196.43286573146%2C%2043325.75751503006%2C%2043455.082164328654%2C%2043584.406813627254%2C%2043713.731462925854%2C%2043843.05611222445%2C%2043972.38076152305%2C%2044101.70541082164%2C%2044231.03006012024%2C%2044360.35470941884%2C%2044489.67935871743%2C%2044619.00400801603%2C%2044748.32865731463%2C%2044877.653306613225%2C%2045006.977955911825%2C%2045136.30260521042%2C%2045265.62725450902%2C%2045394.95190380762%2C%2045524.27655310621%2C%2045653.60120240481%2C%2045782.92585170341%2C%2045912.250501002%2C%2046041.5751503006%2C%2046170.899799599196%2C%2046300.224448897796%2C%2046429.549098196396%2C%2046558.87374749499%2C%2046688.19839679359%2C%2046817.52304609218%2C%2046946.84769539078%2C%2047076.17234468938%2C%2047205.496993987974%2C%2047334.821643286574%2C%2047464.146292585174%2C%2047593.47094188377%2C%2047722.79559118237%2C%2047852.12024048096%2C%2047981.44488977956%2C%2048110.76953907816%2C%2048240.09418837675%2C%2048369.41883767535%2C%2048498.743486973945%2C%2048628.068136272545%2C%2048757.392785571144%2C%2048886.71743486974%2C%2049016.04208416834%2C%2049145.36673346694%2C%2049274.69138276553%2C%2049404.01603206413%2C%2049533.34068136272%2C%2049662.66533066132%2C%2049791.98997995992%2C%2049921.314629258515%2C%2050050.639278557115%2C%2050179.96392785571%2C%2050309.28857715431%2C%2050438.61322645291%2C%2050567.9378757515%2C%2050697.2625250501%2C%2050826.5871743487%2C%2050955.91182364729%2C%2051085.23647294589%2C%2051214.561122244486%2C%2051343.885771543086%2C%2051473.210420841686%2C%2051602.53507014028%2C%2051731.85971943888%2C%2051861.18436873748%2C%2051990.50901803607%2C%2052119.83366733467%2C%2052249.158316633264%2C%2052378.482965931864%2C%2052507.807615230464%2C%2052637.13226452906%2C%2052766.45691382766%2C%2052895.78156312625%2C%2053025.10621242485%2C%2053154.43086172345%2C%2053283.75551102204%2C%2053413.08016032064%2C%2053542.40480961924%2C%2053671.729458917835%2C%2053801.054108216435%2C%2053930.37875751503%2C%2054059.70340681363%2C%2054189.02805611223%2C%2054318.35270541082%2C%2054447.67735470942%2C%2054577.00200400801%2C%2054706.32665330661%2C%2054835.65130260521%2C%2054964.975951903805%2C%2055094.300601202405%2C%2055223.625250501005%2C%2055352.9498997996%2C%2055482.2745490982%2C%2055611.59919839679%2C%2055740.92384769539%2C%2055870.24849699399%2C%2055999.57314629258%2C%2056128.89779559118%2C%2056258.222444889776%2C%2056387.547094188376%2C%2056516.871743486976%2C%2056646.19639278557%2C%2056775.52104208417%2C%2056904.84569138277%2C%2057034.17034068136%2C%2057163.49498997996%2C%2057292.819639278554%2C%2057422.144288577154%2C%2057551.468937875754%2C%2057680.79358717435%2C%2057810.11823647295%2C%2057939.44288577155%2C%2058068.76753507014%2C%2058198.09218436874%2C%2058327.41683366733%2C%2058456.74148296593%2C%2058586.06613226453%2C%2058715.390781563125%2C%2058844.715430861725%2C%2058974.04008016032%2C%2059103.36472945892%2C%2059232.68937875752%2C%2059362.01402805611%2C%2059491.33867735471%2C%2059620.66332665331%2C%2059749.9879759519%2C%2059879.3126252505%2C%2060008.637274549095%2C%2060137.961923847695%2C%2060267.286573146295%2C%2060396.61122244489%2C%2060525.93587174349%2C%2060655.26052104208%2C%2060784.58517034068%2C%2060913.90981963928%2C%2061043.23446893787%2C%2061172.55911823647%2C%2061301.88376753507%2C%2061431.208416833666%2C%2061560.533066132266%2C%2061689.85771543086%2C%2061819.18236472946%2C%2061948.50701402806%2C%2062077.83166332665%2C%2062207.15631262525%2C%2062336.48096192385%2C%2062465.805611222444%2C%2062595.130260521044%2C%2062724.45490981964%2C%2062853.77955911824%2C%2062983.10420841684%2C%2063112.42885771543%2C%2063241.75350701403%2C%2063371.07815631262%2C%2063500.40280561122%2C%2063629.72745490982%2C%2063759.052104208415%2C%2063888.376753507015%2C%2064017.701402805615%2C%2064147.02605210421%2C%2064276.35070140281%2C%2064405.6753507014%2C%2064535.0%5D%29%0A%20%20%20%20%20%20%20%20%20%20%20%20%20%20.range%28%5B%27%23fef0d9ff%27%2C%20%27%23fef0d9ff%27%2C%20%27%23fef0d9ff%27%2C%20%27%23fef0d9ff%27%2C%20%27%23fef0d9ff%27%2C%20%27%23fef0d9ff%27%2C%20%27%23fef0d9ff%27%2C%20%27%23fef0d9ff%27%2C%20%27%23fef0d9ff%27%2C%20%27%23fef0d9ff%27%2C%20%27%23fef0d9ff%27%2C%20%27%23fef0d9ff%27%2C%20%27%23fef0d9ff%27%2C%20%27%23fef0d9ff%27%2C%20%27%23fef0d9ff%27%2C%20%27%23fef0d9ff%27%2C%20%27%23fef0d9ff%27%2C%20%27%23fef0d9ff%27%2C%20%27%23fef0d9ff%27%2C%20%27%23fef0d9ff%27%2C%20%27%23fef0d9ff%27%2C%20%27%23fef0d9ff%27%2C%20%27%23fef0d9ff%27%2C%20%27%23fef0d9ff%27%2C%20%27%23fef0d9ff%27%2C%20%27%23fef0d9ff%27%2C%20%27%23fef0d9ff%27%2C%20%27%23fef0d9ff%27%2C%20%27%23fef0d9ff%27%2C%20%27%23fef0d9ff%27%2C%20%27%23fef0d9ff%27%2C%20%27%23fef0d9ff%27%2C%20%27%23fef0d9ff%27%2C%20%27%23fef0d9ff%27%2C%20%27%23fef0d9ff%27%2C%20%27%23fef0d9ff%27%2C%20%27%23fef0d9ff%27%2C%20%27%23fef0d9ff%27%2C%20%27%23fef0d9ff%27%2C%20%27%23fef0d9ff%27%2C%20%27%23fef0d9ff%27%2C%20%27%23fef0d9ff%27%2C%20%27%23fef0d9ff%27%2C%20%27%23fef0d9ff%27%2C%20%27%23fef0d9ff%27%2C%20%27%23fef0d9ff%27%2C%20%27%23fef0d9ff%27%2C%20%27%23fef0d9ff%27%2C%20%27%23fef0d9ff%27%2C%20%27%23fef0d9ff%27%2C%20%27%23fef0d9ff%27%2C%20%27%23fef0d9ff%27%2C%20%27%23fef0d9ff%27%2C%20%27%23fef0d9ff%27%2C%20%27%23fef0d9ff%27%2C%20%27%23fef0d9ff%27%2C%20%27%23fef0d9ff%27%2C%20%27%23fef0d9ff%27%2C%20%27%23fef0d9ff%27%2C%20%27%23fef0d9ff%27%2C%20%27%23fef0d9ff%27%2C%20%27%23fef0d9ff%27%2C%20%27%23fef0d9ff%27%2C%20%27%23fef0d9ff%27%2C%20%27%23fef0d9ff%27%2C%20%27%23fef0d9ff%27%2C%20%27%23fef0d9ff%27%2C%20%27%23fef0d9ff%27%2C%20%27%23fef0d9ff%27%2C%20%27%23fef0d9ff%27%2C%20%27%23fef0d9ff%27%2C%20%27%23fef0d9ff%27%2C%20%27%23fef0d9ff%27%2C%20%27%23fef0d9ff%27%2C%20%27%23fef0d9ff%27%2C%20%27%23fef0d9ff%27%2C%20%27%23fef0d9ff%27%2C%20%27%23fef0d9ff%27%2C%20%27%23fef0d9ff%27%2C%20%27%23fef0d9ff%27%2C%20%27%23fef0d9ff%27%2C%20%27%23fef0d9ff%27%2C%20%27%23fef0d9ff%27%2C%20%27%23fef0d9ff%27%2C%20%27%23fdd49eff%27%2C%20%27%23fdd49eff%27%2C%20%27%23fdd49eff%27%2C%20%27%23fdd49eff%27%2C%20%27%23fdd49eff%27%2C%20%27%23fdd49eff%27%2C%20%27%23fdd49eff%27%2C%20%27%23fdd49eff%27%2C%20%27%23fdd49eff%27%2C%20%27%23fdd49eff%27%2C%20%27%23fdd49eff%27%2C%20%27%23fdd49eff%27%2C%20%27%23fdd49eff%27%2C%20%27%23fdd49eff%27%2C%20%27%23fdd49eff%27%2C%20%27%23fdd49eff%27%2C%20%27%23fdd49eff%27%2C%20%27%23fdd49eff%27%2C%20%27%23fdd49eff%27%2C%20%27%23fdd49eff%27%2C%20%27%23fdd49eff%27%2C%20%27%23fdd49eff%27%2C%20%27%23fdd49eff%27%2C%20%27%23fdd49eff%27%2C%20%27%23fdd49eff%27%2C%20%27%23fdd49eff%27%2C%20%27%23fdd49eff%27%2C%20%27%23fdd49eff%27%2C%20%27%23fdd49eff%27%2C%20%27%23fdd49eff%27%2C%20%27%23fdd49eff%27%2C%20%27%23fdd49eff%27%2C%20%27%23fdd49eff%27%2C%20%27%23fdd49eff%27%2C%20%27%23fdd49eff%27%2C%20%27%23fdd49eff%27%2C%20%27%23fdd49eff%27%2C%20%27%23fdd49eff%27%2C%20%27%23fdd49eff%27%2C%20%27%23fdd49eff%27%2C%20%27%23fdd49eff%27%2C%20%27%23fdd49eff%27%2C%20%27%23fdd49eff%27%2C%20%27%23fdd49eff%27%2C%20%27%23fdd49eff%27%2C%20%27%23fdd49eff%27%2C%20%27%23fdd49eff%27%2C%20%27%23fdd49eff%27%2C%20%27%23fdd49eff%27%2C%20%27%23fdd49eff%27%2C%20%27%23fdd49eff%27%2C%20%27%23fdd49eff%27%2C%20%27%23fdd49eff%27%2C%20%27%23fdd49eff%27%2C%20%27%23fdd49eff%27%2C%20%27%23fdd49eff%27%2C%20%27%23fdd49eff%27%2C%20%27%23fdd49eff%27%2C%20%27%23fdd49eff%27%2C%20%27%23fdd49eff%27%2C%20%27%23fdd49eff%27%2C%20%27%23fdd49eff%27%2C%20%27%23fdd49eff%27%2C%20%27%23fdd49eff%27%2C%20%27%23fdd49eff%27%2C%20%27%23fdd49eff%27%2C%20%27%23fdd49eff%27%2C%20%27%23fdd49eff%27%2C%20%27%23fdd49eff%27%2C%20%27%23fdd49eff%27%2C%20%27%23fdd49eff%27%2C%20%27%23fdd49eff%27%2C%20%27%23fdd49eff%27%2C%20%27%23fdd49eff%27%2C%20%27%23fdd49eff%27%2C%20%27%23fdd49eff%27%2C%20%27%23fdd49eff%27%2C%20%27%23fdd49eff%27%2C%20%27%23fdd49eff%27%2C%20%27%23fdd49eff%27%2C%20%27%23fdd49eff%27%2C%20%27%23fdd49eff%27%2C%20%27%23fdd49eff%27%2C%20%27%23fdbb84ff%27%2C%20%27%23fdbb84ff%27%2C%20%27%23fdbb84ff%27%2C%20%27%23fdbb84ff%27%2C%20%27%23fdbb84ff%27%2C%20%27%23fdbb84ff%27%2C%20%27%23fdbb84ff%27%2C%20%27%23fdbb84ff%27%2C%20%27%23fdbb84ff%27%2C%20%27%23fdbb84ff%27%2C%20%27%23fdbb84ff%27%2C%20%27%23fdbb84ff%27%2C%20%27%23fdbb84ff%27%2C%20%27%23fdbb84ff%27%2C%20%27%23fdbb84ff%27%2C%20%27%23fdbb84ff%27%2C%20%27%23fdbb84ff%27%2C%20%27%23fdbb84ff%27%2C%20%27%23fdbb84ff%27%2C%20%27%23fdbb84ff%27%2C%20%27%23fdbb84ff%27%2C%20%27%23fdbb84ff%27%2C%20%27%23fdbb84ff%27%2C%20%27%23fdbb84ff%27%2C%20%27%23fdbb84ff%27%2C%20%27%23fdbb84ff%27%2C%20%27%23fdbb84ff%27%2C%20%27%23fdbb84ff%27%2C%20%27%23fdbb84ff%27%2C%20%27%23fdbb84ff%27%2C%20%27%23fdbb84ff%27%2C%20%27%23fdbb84ff%27%2C%20%27%23fdbb84ff%27%2C%20%27%23fdbb84ff%27%2C%20%27%23fdbb84ff%27%2C%20%27%23fdbb84ff%27%2C%20%27%23fdbb84ff%27%2C%20%27%23fdbb84ff%27%2C%20%27%23fdbb84ff%27%2C%20%27%23fdbb84ff%27%2C%20%27%23fdbb84ff%27%2C%20%27%23fdbb84ff%27%2C%20%27%23fdbb84ff%27%2C%20%27%23fdbb84ff%27%2C%20%27%23fdbb84ff%27%2C%20%27%23fdbb84ff%27%2C%20%27%23fdbb84ff%27%2C%20%27%23fdbb84ff%27%2C%20%27%23fdbb84ff%27%2C%20%27%23fdbb84ff%27%2C%20%27%23fdbb84ff%27%2C%20%27%23fdbb84ff%27%2C%20%27%23fdbb84ff%27%2C%20%27%23fdbb84ff%27%2C%20%27%23fdbb84ff%27%2C%20%27%23fdbb84ff%27%2C%20%27%23fdbb84ff%27%2C%20%27%23fdbb84ff%27%2C%20%27%23fdbb84ff%27%2C%20%27%23fdbb84ff%27%2C%20%27%23fdbb84ff%27%2C%20%27%23fdbb84ff%27%2C%20%27%23fdbb84ff%27%2C%20%27%23fdbb84ff%27%2C%20%27%23fdbb84ff%27%2C%20%27%23fdbb84ff%27%2C%20%27%23fdbb84ff%27%2C%20%27%23fdbb84ff%27%2C%20%27%23fdbb84ff%27%2C%20%27%23fdbb84ff%27%2C%20%27%23fdbb84ff%27%2C%20%27%23fdbb84ff%27%2C%20%27%23fdbb84ff%27%2C%20%27%23fdbb84ff%27%2C%20%27%23fdbb84ff%27%2C%20%27%23fdbb84ff%27%2C%20%27%23fdbb84ff%27%2C%20%27%23fdbb84ff%27%2C%20%27%23fdbb84ff%27%2C%20%27%23fdbb84ff%27%2C%20%27%23fdbb84ff%27%2C%20%27%23fdbb84ff%27%2C%20%27%23fdbb84ff%27%2C%20%27%23fc8d59ff%27%2C%20%27%23fc8d59ff%27%2C%20%27%23fc8d59ff%27%2C%20%27%23fc8d59ff%27%2C%20%27%23fc8d59ff%27%2C%20%27%23fc8d59ff%27%2C%20%27%23fc8d59ff%27%2C%20%27%23fc8d59ff%27%2C%20%27%23fc8d59ff%27%2C%20%27%23fc8d59ff%27%2C%20%27%23fc8d59ff%27%2C%20%27%23fc8d59ff%27%2C%20%27%23fc8d59ff%27%2C%20%27%23fc8d59ff%27%2C%20%27%23fc8d59ff%27%2C%20%27%23fc8d59ff%27%2C%20%27%23fc8d59ff%27%2C%20%27%23fc8d59ff%27%2C%20%27%23fc8d59ff%27%2C%20%27%23fc8d59ff%27%2C%20%27%23fc8d59ff%27%2C%20%27%23fc8d59ff%27%2C%20%27%23fc8d59ff%27%2C%20%27%23fc8d59ff%27%2C%20%27%23fc8d59ff%27%2C%20%27%23fc8d59ff%27%2C%20%27%23fc8d59ff%27%2C%20%27%23fc8d59ff%27%2C%20%27%23fc8d59ff%27%2C%20%27%23fc8d59ff%27%2C%20%27%23fc8d59ff%27%2C%20%27%23fc8d59ff%27%2C%20%27%23fc8d59ff%27%2C%20%27%23fc8d59ff%27%2C%20%27%23fc8d59ff%27%2C%20%27%23fc8d59ff%27%2C%20%27%23fc8d59ff%27%2C%20%27%23fc8d59ff%27%2C%20%27%23fc8d59ff%27%2C%20%27%23fc8d59ff%27%2C%20%27%23fc8d59ff%27%2C%20%27%23fc8d59ff%27%2C%20%27%23fc8d59ff%27%2C%20%27%23fc8d59ff%27%2C%20%27%23fc8d59ff%27%2C%20%27%23fc8d59ff%27%2C%20%27%23fc8d59ff%27%2C%20%27%23fc8d59ff%27%2C%20%27%23fc8d59ff%27%2C%20%27%23fc8d59ff%27%2C%20%27%23fc8d59ff%27%2C%20%27%23fc8d59ff%27%2C%20%27%23fc8d59ff%27%2C%20%27%23fc8d59ff%27%2C%20%27%23fc8d59ff%27%2C%20%27%23fc8d59ff%27%2C%20%27%23fc8d59ff%27%2C%20%27%23fc8d59ff%27%2C%20%27%23fc8d59ff%27%2C%20%27%23fc8d59ff%27%2C%20%27%23fc8d59ff%27%2C%20%27%23fc8d59ff%27%2C%20%27%23fc8d59ff%27%2C%20%27%23fc8d59ff%27%2C%20%27%23fc8d59ff%27%2C%20%27%23fc8d59ff%27%2C%20%27%23fc8d59ff%27%2C%20%27%23fc8d59ff%27%2C%20%27%23fc8d59ff%27%2C%20%27%23fc8d59ff%27%2C%20%27%23fc8d59ff%27%2C%20%27%23fc8d59ff%27%2C%20%27%23fc8d59ff%27%2C%20%27%23fc8d59ff%27%2C%20%27%23fc8d59ff%27%2C%20%27%23fc8d59ff%27%2C%20%27%23fc8d59ff%27%2C%20%27%23fc8d59ff%27%2C%20%27%23fc8d59ff%27%2C%20%27%23fc8d59ff%27%2C%20%27%23fc8d59ff%27%2C%20%27%23fc8d59ff%27%2C%20%27%23fc8d59ff%27%2C%20%27%23e34a33ff%27%2C%20%27%23e34a33ff%27%2C%20%27%23e34a33ff%27%2C%20%27%23e34a33ff%27%2C%20%27%23e34a33ff%27%2C%20%27%23e34a33ff%27%2C%20%27%23e34a33ff%27%2C%20%27%23e34a33ff%27%2C%20%27%23e34a33ff%27%2C%20%27%23e34a33ff%27%2C%20%27%23e34a33ff%27%2C%20%27%23e34a33ff%27%2C%20%27%23e34a33ff%27%2C%20%27%23e34a33ff%27%2C%20%27%23e34a33ff%27%2C%20%27%23e34a33ff%27%2C%20%27%23e34a33ff%27%2C%20%27%23e34a33ff%27%2C%20%27%23e34a33ff%27%2C%20%27%23e34a33ff%27%2C%20%27%23e34a33ff%27%2C%20%27%23e34a33ff%27%2C%20%27%23e34a33ff%27%2C%20%27%23e34a33ff%27%2C%20%27%23e34a33ff%27%2C%20%27%23e34a33ff%27%2C%20%27%23e34a33ff%27%2C%20%27%23e34a33ff%27%2C%20%27%23e34a33ff%27%2C%20%27%23e34a33ff%27%2C%20%27%23e34a33ff%27%2C%20%27%23e34a33ff%27%2C%20%27%23e34a33ff%27%2C%20%27%23e34a33ff%27%2C%20%27%23e34a33ff%27%2C%20%27%23e34a33ff%27%2C%20%27%23e34a33ff%27%2C%20%27%23e34a33ff%27%2C%20%27%23e34a33ff%27%2C%20%27%23e34a33ff%27%2C%20%27%23e34a33ff%27%2C%20%27%23e34a33ff%27%2C%20%27%23e34a33ff%27%2C%20%27%23e34a33ff%27%2C%20%27%23e34a33ff%27%2C%20%27%23e34a33ff%27%2C%20%27%23e34a33ff%27%2C%20%27%23e34a33ff%27%2C%20%27%23e34a33ff%27%2C%20%27%23e34a33ff%27%2C%20%27%23e34a33ff%27%2C%20%27%23e34a33ff%27%2C%20%27%23e34a33ff%27%2C%20%27%23e34a33ff%27%2C%20%27%23e34a33ff%27%2C%20%27%23e34a33ff%27%2C%20%27%23e34a33ff%27%2C%20%27%23e34a33ff%27%2C%20%27%23e34a33ff%27%2C%20%27%23e34a33ff%27%2C%20%27%23e34a33ff%27%2C%20%27%23e34a33ff%27%2C%20%27%23e34a33ff%27%2C%20%27%23e34a33ff%27%2C%20%27%23e34a33ff%27%2C%20%27%23e34a33ff%27%2C%20%27%23e34a33ff%27%2C%20%27%23e34a33ff%27%2C%20%27%23e34a33ff%27%2C%20%27%23e34a33ff%27%2C%20%27%23e34a33ff%27%2C%20%27%23e34a33ff%27%2C%20%27%23e34a33ff%27%2C%20%27%23e34a33ff%27%2C%20%27%23e34a33ff%27%2C%20%27%23e34a33ff%27%2C%20%27%23e34a33ff%27%2C%20%27%23e34a33ff%27%2C%20%27%23e34a33ff%27%2C%20%27%23e34a33ff%27%2C%20%27%23e34a33ff%27%2C%20%27%23e34a33ff%27%2C%20%27%23e34a33ff%27%2C%20%27%23b30000ff%27%2C%20%27%23b30000ff%27%2C%20%27%23b30000ff%27%2C%20%27%23b30000ff%27%2C%20%27%23b30000ff%27%2C%20%27%23b30000ff%27%2C%20%27%23b30000ff%27%2C%20%27%23b30000ff%27%2C%20%27%23b30000ff%27%2C%20%27%23b30000ff%27%2C%20%27%23b30000ff%27%2C%20%27%23b30000ff%27%2C%20%27%23b30000ff%27%2C%20%27%23b30000ff%27%2C%20%27%23b30000ff%27%2C%20%27%23b30000ff%27%2C%20%27%23b30000ff%27%2C%20%27%23b30000ff%27%2C%20%27%23b30000ff%27%2C%20%27%23b30000ff%27%2C%20%27%23b30000ff%27%2C%20%27%23b30000ff%27%2C%20%27%23b30000ff%27%2C%20%27%23b30000ff%27%2C%20%27%23b30000ff%27%2C%20%27%23b30000ff%27%2C%20%27%23b30000ff%27%2C%20%27%23b30000ff%27%2C%20%27%23b30000ff%27%2C%20%27%23b30000ff%27%2C%20%27%23b30000ff%27%2C%20%27%23b30000ff%27%2C%20%27%23b30000ff%27%2C%20%27%23b30000ff%27%2C%20%27%23b30000ff%27%2C%20%27%23b30000ff%27%2C%20%27%23b30000ff%27%2C%20%27%23b30000ff%27%2C%20%27%23b30000ff%27%2C%20%27%23b30000ff%27%2C%20%27%23b30000ff%27%2C%20%27%23b30000ff%27%2C%20%27%23b30000ff%27%2C%20%27%23b30000ff%27%2C%20%27%23b30000ff%27%2C%20%27%23b30000ff%27%2C%20%27%23b30000ff%27%2C%20%27%23b30000ff%27%2C%20%27%23b30000ff%27%2C%20%27%23b30000ff%27%2C%20%27%23b30000ff%27%2C%20%27%23b30000ff%27%2C%20%27%23b30000ff%27%2C%20%27%23b30000ff%27%2C%20%27%23b30000ff%27%2C%20%27%23b30000ff%27%2C%20%27%23b30000ff%27%2C%20%27%23b30000ff%27%2C%20%27%23b30000ff%27%2C%20%27%23b30000ff%27%2C%20%27%23b30000ff%27%2C%20%27%23b30000ff%27%2C%20%27%23b30000ff%27%2C%20%27%23b30000ff%27%2C%20%27%23b30000ff%27%2C%20%27%23b30000ff%27%2C%20%27%23b30000ff%27%2C%20%27%23b30000ff%27%2C%20%27%23b30000ff%27%2C%20%27%23b30000ff%27%2C%20%27%23b30000ff%27%2C%20%27%23b30000ff%27%2C%20%27%23b30000ff%27%2C%20%27%23b30000ff%27%2C%20%27%23b30000ff%27%2C%20%27%23b30000ff%27%2C%20%27%23b30000ff%27%2C%20%27%23b30000ff%27%2C%20%27%23b30000ff%27%2C%20%27%23b30000ff%27%2C%20%27%23b30000ff%27%2C%20%27%23b30000ff%27%2C%20%27%23b30000ff%27%2C%20%27%23b30000ff%27%5D%29%3B%0A%20%20%20%20%0A%0A%20%20%20%20color_map_9c5cd433979c40d4be04028901215bae.x%20%3D%20d3.scale.linear%28%29%0A%20%20%20%20%20%20%20%20%20%20%20%20%20%20.domain%28%5B2.0%2C%2064535.0%5D%29%0A%20%20%20%20%20%20%20%20%20%20%20%20%20%20.range%28%5B0%2C%20400%5D%29%3B%0A%0A%20%20%20%20color_map_9c5cd433979c40d4be04028901215bae.legend%20%3D%20L.control%28%7Bposition%3A%20%27topright%27%7D%29%3B%0A%20%20%20%20color_map_9c5cd433979c40d4be04028901215bae.legend.onAdd%20%3D%20function%20%28map%29%20%7Bvar%20div%20%3D%20L.DomUtil.create%28%27div%27%2C%20%27legend%27%29%3B%20return%20div%7D%3B%0A%20%20%20%20color_map_9c5cd433979c40d4be04028901215bae.legend.addTo%28map_bd0052bbd10944d99eb607fb176e6608%29%3B%0A%0A%20%20%20%20color_map_9c5cd433979c40d4be04028901215bae.xAxis%20%3D%20d3.svg.axis%28%29%0A%20%20%20%20%20%20%20%20.scale%28color_map_9c5cd433979c40d4be04028901215bae.x%29%0A%20%20%20%20%20%20%20%20.orient%28%22top%22%29%0A%20%20%20%20%20%20%20%20.tickSize%281%29%0A%20%20%20%20%20%20%20%20.tickValues%28%5B2.0%2C%2010757.5%2C%2021513.0%2C%2032268.5%2C%2043024.0%2C%2053779.5%2C%2064535.0%5D%29%3B%0A%0A%20%20%20%20color_map_9c5cd433979c40d4be04028901215bae.svg%20%3D%20d3.select%28%22.legend.leaflet-control%22%29.append%28%22svg%22%29%0A%20%20%20%20%20%20%20%20.attr%28%22id%22%2C%20%27legend%27%29%0A%20%20%20%20%20%20%20%20.attr%28%22width%22%2C%20450%29%0A%20%20%20%20%20%20%20%20.attr%28%22height%22%2C%2040%29%3B%0A%0A%20%20%20%20color_map_9c5cd433979c40d4be04028901215bae.g%20%3D%20color_map_9c5cd433979c40d4be04028901215bae.svg.append%28%22g%22%29%0A%20%20%20%20%20%20%20%20.attr%28%22class%22%2C%20%22key%22%29%0A%20%20%20%20%20%20%20%20.attr%28%22transform%22%2C%20%22translate%2825%2C16%29%22%29%3B%0A%0A%20%20%20%20color_map_9c5cd433979c40d4be04028901215bae.g.selectAll%28%22rect%22%29%0A%20%20%20%20%20%20%20%20.data%28color_map_9c5cd433979c40d4be04028901215bae.color.range%28%29.map%28function%28d%2C%20i%29%20%7B%0A%20%20%20%20%20%20%20%20%20%20return%20%7B%0A%20%20%20%20%20%20%20%20%20%20%20%20x0%3A%20i%20%3F%20color_map_9c5cd433979c40d4be04028901215bae.x%28color_map_9c5cd433979c40d4be04028901215bae.color.domain%28%29%5Bi%20-%201%5D%29%20%3A%20color_map_9c5cd433979c40d4be04028901215bae.x.range%28%29%5B0%5D%2C%0A%20%20%20%20%20%20%20%20%20%20%20%20x1%3A%20i%20%3C%20color_map_9c5cd433979c40d4be04028901215bae.color.domain%28%29.length%20%3F%20color_map_9c5cd433979c40d4be04028901215bae.x%28color_map_9c5cd433979c40d4be04028901215bae.color.domain%28%29%5Bi%5D%29%20%3A%20color_map_9c5cd433979c40d4be04028901215bae.x.range%28%29%5B1%5D%2C%0A%20%20%20%20%20%20%20%20%20%20%20%20z%3A%20d%0A%20%20%20%20%20%20%20%20%20%20%7D%3B%0A%20%20%20%20%20%20%20%20%7D%29%29%0A%20%20%20%20%20%20.enter%28%29.append%28%22rect%22%29%0A%20%20%20%20%20%20%20%20.attr%28%22height%22%2C%2010%29%0A%20%20%20%20%20%20%20%20.attr%28%22x%22%2C%20function%28d%29%20%7B%20return%20d.x0%3B%20%7D%29%0A%20%20%20%20%20%20%20%20.attr%28%22width%22%2C%20function%28d%29%20%7B%20return%20d.x1%20-%20d.x0%3B%20%7D%29%0A%20%20%20%20%20%20%20%20.style%28%22fill%22%2C%20function%28d%29%20%7B%20return%20d.z%3B%20%7D%29%3B%0A%0A%20%20%20%20color_map_9c5cd433979c40d4be04028901215bae.g.call%28color_map_9c5cd433979c40d4be04028901215bae.xAxis%29.append%28%22text%22%29%0A%20%20%20%20%20%20%20%20.attr%28%22class%22%2C%20%22caption%22%29%0A%20%20%20%20%20%20%20%20.attr%28%22y%22%2C%2021%29%0A%20%20%20%20%20%20%20%20.text%28%27%EB%8B%A8%EC%86%8D%EA%B1%B4%EC%88%98%20Rate%20%28%25%29%27%29%3B%0A%20%20%20%20%0A%20%20%20%20%20%20%20%20%20%20%20%20var%20layer_control_252c90231aa44c5594e43eed18954ceb%20%3D%20%7B%0A%20%20%20%20%20%20%20%20%20%20%20%20%20%20%20%20base_layers%20%3A%20%7B%0A%20%20%20%20%20%20%20%20%20%20%20%20%20%20%20%20%20%20%20%20%22openstreetmap%22%20%3A%20tile_layer_d9543a3998d749a2aa99f781f142a157%2C%0A%20%20%20%20%20%20%20%20%20%20%20%20%20%20%20%20%7D%2C%0A%20%20%20%20%20%20%20%20%20%20%20%20%20%20%20%20overlays%20%3A%20%20%7B%0A%20%20%20%20%20%20%20%20%20%20%20%20%20%20%20%20%20%20%20%20%22macro_element_eadcad3b19244469b7c4cfa9156eb783%22%20%3A%20choropleth_eadcad3b19244469b7c4cfa9156eb783%2C%0A%20%20%20%20%20%20%20%20%20%20%20%20%20%20%20%20%7D%2C%0A%20%20%20%20%20%20%20%20%20%20%20%20%7D%3B%0A%20%20%20%20%20%20%20%20%20%20%20%20L.control.layers%28%0A%20%20%20%20%20%20%20%20%20%20%20%20%20%20%20%20layer_control_252c90231aa44c5594e43eed18954ceb.base_layers%2C%0A%20%20%20%20%20%20%20%20%20%20%20%20%20%20%20%20layer_control_252c90231aa44c5594e43eed18954ceb.overlays%2C%0A%20%20%20%20%20%20%20%20%20%20%20%20%20%20%20%20%7B%22autoZIndex%22%3A%20true%2C%20%22collapsed%22%3A%20true%2C%20%22position%22%3A%20%22topright%22%7D%0A%20%20%20%20%20%20%20%20%20%20%20%20%29.addTo%28map_bd0052bbd10944d99eb607fb176e6608%29%3B%0A%20%20%20%20%20%20%20%20%0A%20%20%20%20%0A%20%20%20%20%20%20%20%20%20%20%20%20%20%20%20%20var%20lat_lng_popup_e4a0e4f5f830482e8dce557c29061ea2%20%3D%20L.popup%28%29%3B%0A%20%20%20%20%20%20%20%20%20%20%20%20%20%20%20%20function%20latLngPop%28e%29%20%7B%0A%20%20%20%20%20%20%20%20%20%20%20%20%20%20%20%20%20%20%20%20lat_lng_popup_e4a0e4f5f830482e8dce557c29061ea2%0A%20%20%20%20%20%20%20%20%20%20%20%20%20%20%20%20%20%20%20%20%20%20%20%20.setLatLng%28e.latlng%29%0A%20%20%20%20%20%20%20%20%20%20%20%20%20%20%20%20%20%20%20%20%20%20%20%20.setContent%28%22Latitude%3A%20%22%20%2B%20e.latlng.lat.toFixed%284%29%20%2B%0A%20%20%20%20%20%20%20%20%20%20%20%20%20%20%20%20%20%20%20%20%20%20%20%20%20%20%20%20%20%20%20%20%20%20%20%20%22%3Cbr%3ELongitude%3A%20%22%20%2B%20e.latlng.lng.toFixed%284%29%29%0A%20%20%20%20%20%20%20%20%20%20%20%20%20%20%20%20%20%20%20%20%20%20%20%20.openOn%28map_bd0052bbd10944d99eb607fb176e6608%29%3B%0A%20%20%20%20%20%20%20%20%20%20%20%20%20%20%20%20%20%20%20%20%7D%0A%20%20%20%20%20%20%20%20%20%20%20%20%20%20%20%20map_bd0052bbd10944d99eb607fb176e6608.on%28%27click%27%2C%20latLngPop%29%3B%0A%20%20%20%20%20%20%20%20%20%20%20%20%0A%3C/script%3E onload=\"this.contentDocument.open();this.contentDocument.write(    decodeURIComponent(this.getAttribute('data-html')));this.contentDocument.close();\" allowfullscreen webkitallowfullscreen mozallowfullscreen></iframe></div></div>"
      ],
      "text/plain": [
       "<folium.folium.Map at 0x144d5a0c0d0>"
      ]
     },
     "execution_count": 133,
     "metadata": {},
     "output_type": "execute_result"
    }
   ],
   "source": [
    "m = folium.Map([37.476281, 126.958369], tiles=\"OpenStreetMap\", zoom_start=10)\n",
    "folium.Choropleth(\n",
    "    geo_data=geo_json, \n",
    "    data=df,\n",
    "    columns=['동명', '주정차 단속건수'],\n",
    "    key_on='feature.properties.name', \n",
    "    fill_color='OrRd', \n",
    "    fill_opacity=0.6,\n",
    "    line_opacity=0.2,\n",
    "    legend_name='단속건수 Rate (%)'\n",
    ").add_to(m) \n",
    "folium.LayerControl().add_to(m) \n",
    "m.add_child(folium.LatLngPopup())\n",
    "m"
   ]
  },
  {
   "cell_type": "code",
   "execution_count": 130,
   "metadata": {},
   "outputs": [
    {
     "data": {
      "text/html": [
       "<div style=\"width:100%;\"><div style=\"position:relative;width:100%;height:0;padding-bottom:60%;\"><span style=\"color:#565656\">Make this Notebook Trusted to load map: File -> Trust Notebook</span><iframe src=\"about:blank\" style=\"position:absolute;width:100%;height:100%;left:0;top:0;border:none !important;\" data-html=%3C%21DOCTYPE%20html%3E%0A%3Chead%3E%20%20%20%20%0A%20%20%20%20%3Cmeta%20http-equiv%3D%22content-type%22%20content%3D%22text/html%3B%20charset%3DUTF-8%22%20/%3E%0A%20%20%20%20%0A%20%20%20%20%20%20%20%20%3Cscript%3E%0A%20%20%20%20%20%20%20%20%20%20%20%20L_NO_TOUCH%20%3D%20false%3B%0A%20%20%20%20%20%20%20%20%20%20%20%20L_DISABLE_3D%20%3D%20false%3B%0A%20%20%20%20%20%20%20%20%3C/script%3E%0A%20%20%20%20%0A%20%20%20%20%3Cstyle%3Ehtml%2C%20body%20%7Bwidth%3A%20100%25%3Bheight%3A%20100%25%3Bmargin%3A%200%3Bpadding%3A%200%3B%7D%3C/style%3E%0A%20%20%20%20%3Cstyle%3E%23map%20%7Bposition%3Aabsolute%3Btop%3A0%3Bbottom%3A0%3Bright%3A0%3Bleft%3A0%3B%7D%3C/style%3E%0A%20%20%20%20%3Cscript%20src%3D%22https%3A//cdn.jsdelivr.net/npm/leaflet%401.6.0/dist/leaflet.js%22%3E%3C/script%3E%0A%20%20%20%20%3Cscript%20src%3D%22https%3A//code.jquery.com/jquery-1.12.4.min.js%22%3E%3C/script%3E%0A%20%20%20%20%3Cscript%20src%3D%22https%3A//maxcdn.bootstrapcdn.com/bootstrap/3.2.0/js/bootstrap.min.js%22%3E%3C/script%3E%0A%20%20%20%20%3Cscript%20src%3D%22https%3A//cdnjs.cloudflare.com/ajax/libs/Leaflet.awesome-markers/2.0.2/leaflet.awesome-markers.js%22%3E%3C/script%3E%0A%20%20%20%20%3Clink%20rel%3D%22stylesheet%22%20href%3D%22https%3A//cdn.jsdelivr.net/npm/leaflet%401.6.0/dist/leaflet.css%22/%3E%0A%20%20%20%20%3Clink%20rel%3D%22stylesheet%22%20href%3D%22https%3A//maxcdn.bootstrapcdn.com/bootstrap/3.2.0/css/bootstrap.min.css%22/%3E%0A%20%20%20%20%3Clink%20rel%3D%22stylesheet%22%20href%3D%22https%3A//maxcdn.bootstrapcdn.com/bootstrap/3.2.0/css/bootstrap-theme.min.css%22/%3E%0A%20%20%20%20%3Clink%20rel%3D%22stylesheet%22%20href%3D%22https%3A//maxcdn.bootstrapcdn.com/font-awesome/4.6.3/css/font-awesome.min.css%22/%3E%0A%20%20%20%20%3Clink%20rel%3D%22stylesheet%22%20href%3D%22https%3A//cdnjs.cloudflare.com/ajax/libs/Leaflet.awesome-markers/2.0.2/leaflet.awesome-markers.css%22/%3E%0A%20%20%20%20%3Clink%20rel%3D%22stylesheet%22%20href%3D%22https%3A//cdn.jsdelivr.net/gh/python-visualization/folium/folium/templates/leaflet.awesome.rotate.min.css%22/%3E%0A%20%20%20%20%0A%20%20%20%20%20%20%20%20%20%20%20%20%3Cmeta%20name%3D%22viewport%22%20content%3D%22width%3Ddevice-width%2C%0A%20%20%20%20%20%20%20%20%20%20%20%20%20%20%20%20initial-scale%3D1.0%2C%20maximum-scale%3D1.0%2C%20user-scalable%3Dno%22%20/%3E%0A%20%20%20%20%20%20%20%20%20%20%20%20%3Cstyle%3E%0A%20%20%20%20%20%20%20%20%20%20%20%20%20%20%20%20%23map_b1a165e5634b4620bfd5bdb665f8b94c%20%7B%0A%20%20%20%20%20%20%20%20%20%20%20%20%20%20%20%20%20%20%20%20position%3A%20relative%3B%0A%20%20%20%20%20%20%20%20%20%20%20%20%20%20%20%20%20%20%20%20width%3A%20100.0%25%3B%0A%20%20%20%20%20%20%20%20%20%20%20%20%20%20%20%20%20%20%20%20height%3A%20100.0%25%3B%0A%20%20%20%20%20%20%20%20%20%20%20%20%20%20%20%20%20%20%20%20left%3A%200.0%25%3B%0A%20%20%20%20%20%20%20%20%20%20%20%20%20%20%20%20%20%20%20%20top%3A%200.0%25%3B%0A%20%20%20%20%20%20%20%20%20%20%20%20%20%20%20%20%7D%0A%20%20%20%20%20%20%20%20%20%20%20%20%3C/style%3E%0A%20%20%20%20%20%20%20%20%0A%3C/head%3E%0A%3Cbody%3E%20%20%20%20%0A%20%20%20%20%0A%20%20%20%20%20%20%20%20%20%20%20%20%3Cdiv%20class%3D%22folium-map%22%20id%3D%22map_b1a165e5634b4620bfd5bdb665f8b94c%22%20%3E%3C/div%3E%0A%20%20%20%20%20%20%20%20%0A%3C/body%3E%0A%3Cscript%3E%20%20%20%20%0A%20%20%20%20%0A%20%20%20%20%20%20%20%20%20%20%20%20var%20map_b1a165e5634b4620bfd5bdb665f8b94c%20%3D%20L.map%28%0A%20%20%20%20%20%20%20%20%20%20%20%20%20%20%20%20%22map_b1a165e5634b4620bfd5bdb665f8b94c%22%2C%0A%20%20%20%20%20%20%20%20%20%20%20%20%20%20%20%20%7B%0A%20%20%20%20%20%20%20%20%20%20%20%20%20%20%20%20%20%20%20%20center%3A%20%5B37.476281%2C%20126.958369%5D%2C%0A%20%20%20%20%20%20%20%20%20%20%20%20%20%20%20%20%20%20%20%20crs%3A%20L.CRS.EPSG3857%2C%0A%20%20%20%20%20%20%20%20%20%20%20%20%20%20%20%20%20%20%20%20zoom%3A%2013%2C%0A%20%20%20%20%20%20%20%20%20%20%20%20%20%20%20%20%20%20%20%20zoomControl%3A%20true%2C%0A%20%20%20%20%20%20%20%20%20%20%20%20%20%20%20%20%20%20%20%20preferCanvas%3A%20false%2C%0A%20%20%20%20%20%20%20%20%20%20%20%20%20%20%20%20%7D%0A%20%20%20%20%20%20%20%20%20%20%20%20%29%3B%0A%0A%20%20%20%20%20%20%20%20%20%20%20%20%0A%0A%20%20%20%20%20%20%20%20%0A%20%20%20%20%0A%20%20%20%20%20%20%20%20%20%20%20%20var%20tile_layer_72a0c3e77242475c867b661e723a8869%20%3D%20L.tileLayer%28%0A%20%20%20%20%20%20%20%20%20%20%20%20%20%20%20%20%22https%3A//%7Bs%7D.tile.openstreetmap.org/%7Bz%7D/%7Bx%7D/%7By%7D.png%22%2C%0A%20%20%20%20%20%20%20%20%20%20%20%20%20%20%20%20%7B%22attribution%22%3A%20%22Data%20by%20%5Cu0026copy%3B%20%5Cu003ca%20href%3D%5C%22http%3A//openstreetmap.org%5C%22%5Cu003eOpenStreetMap%5Cu003c/a%5Cu003e%2C%20under%20%5Cu003ca%20href%3D%5C%22http%3A//www.openstreetmap.org/copyright%5C%22%5Cu003eODbL%5Cu003c/a%5Cu003e.%22%2C%20%22detectRetina%22%3A%20false%2C%20%22maxNativeZoom%22%3A%2018%2C%20%22maxZoom%22%3A%2018%2C%20%22minZoom%22%3A%200%2C%20%22noWrap%22%3A%20false%2C%20%22opacity%22%3A%201%2C%20%22subdomains%22%3A%20%22abc%22%2C%20%22tms%22%3A%20false%7D%0A%20%20%20%20%20%20%20%20%20%20%20%20%29.addTo%28map_b1a165e5634b4620bfd5bdb665f8b94c%29%3B%0A%20%20%20%20%20%20%20%20%0A%20%20%20%20%0A%20%20%20%20%20%20%20%20%20%20%20%20%20%20%20%20var%20lat_lng_popup_8491c07fbb604d6385f21b3683ee5821%20%3D%20L.popup%28%29%3B%0A%20%20%20%20%20%20%20%20%20%20%20%20%20%20%20%20function%20latLngPop%28e%29%20%7B%0A%20%20%20%20%20%20%20%20%20%20%20%20%20%20%20%20%20%20%20%20lat_lng_popup_8491c07fbb604d6385f21b3683ee5821%0A%20%20%20%20%20%20%20%20%20%20%20%20%20%20%20%20%20%20%20%20%20%20%20%20.setLatLng%28e.latlng%29%0A%20%20%20%20%20%20%20%20%20%20%20%20%20%20%20%20%20%20%20%20%20%20%20%20.setContent%28%22Latitude%3A%20%22%20%2B%20e.latlng.lat.toFixed%284%29%20%2B%0A%20%20%20%20%20%20%20%20%20%20%20%20%20%20%20%20%20%20%20%20%20%20%20%20%20%20%20%20%20%20%20%20%20%20%20%20%22%3Cbr%3ELongitude%3A%20%22%20%2B%20e.latlng.lng.toFixed%284%29%29%0A%20%20%20%20%20%20%20%20%20%20%20%20%20%20%20%20%20%20%20%20%20%20%20%20.openOn%28map_b1a165e5634b4620bfd5bdb665f8b94c%29%3B%0A%20%20%20%20%20%20%20%20%20%20%20%20%20%20%20%20%20%20%20%20%7D%0A%20%20%20%20%20%20%20%20%20%20%20%20%20%20%20%20map_b1a165e5634b4620bfd5bdb665f8b94c.on%28%27click%27%2C%20latLngPop%29%3B%0A%20%20%20%20%20%20%20%20%20%20%20%20%0A%3C/script%3E onload=\"this.contentDocument.open();this.contentDocument.write(    decodeURIComponent(this.getAttribute('data-html')));this.contentDocument.close();\" allowfullscreen webkitallowfullscreen mozallowfullscreen></iframe></div></div>"
      ],
      "text/plain": [
       "<folium.folium.Map at 0x144d5920e50>"
      ]
     },
     "execution_count": 130,
     "metadata": {},
     "output_type": "execute_result"
    }
   ],
   "source": [
    "m = folium.Map(\n",
    "    location=[37.476281, 126.958369],\n",
    "    zoom_start = 13\n",
    ")\n",
    "\n",
    "m.add_child(folium.LatLngPopup())       # 지도에서 클릭하는 곳의 경도 위도 좌표를 표시\n",
    "\n",
    "m"
   ]
  },
  {
   "cell_type": "code",
   "execution_count": null,
   "metadata": {},
   "outputs": [],
   "source": []
  }
 ],
 "metadata": {
  "interpreter": {
   "hash": "b3ba2566441a7c06988d0923437866b63cedc61552a5af99d1f4fb67d367b25f"
  },
  "kernelspec": {
   "display_name": "Python 3.8.8 64-bit ('base': conda)",
   "language": "python",
   "name": "python3"
  },
  "language_info": {
   "codemirror_mode": {
    "name": "ipython",
    "version": 3
   },
   "file_extension": ".py",
   "mimetype": "text/x-python",
   "name": "python",
   "nbconvert_exporter": "python",
   "pygments_lexer": "ipython3",
   "version": "3.8.8"
  },
  "orig_nbformat": 4
 },
 "nbformat": 4,
 "nbformat_minor": 2
}
