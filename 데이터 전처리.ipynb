{
 "cells": [
  {
   "cell_type": "code",
   "execution_count": 1,
   "metadata": {},
   "outputs": [],
   "source": [
    "import pandas as pd\n",
    "import re"
   ]
  },
  {
   "cell_type": "code",
   "execution_count": 2,
   "metadata": {},
   "outputs": [
    {
     "data": {
      "text/html": [
       "<div>\n",
       "<style scoped>\n",
       "    .dataframe tbody tr th:only-of-type {\n",
       "        vertical-align: middle;\n",
       "    }\n",
       "\n",
       "    .dataframe tbody tr th {\n",
       "        vertical-align: top;\n",
       "    }\n",
       "\n",
       "    .dataframe thead th {\n",
       "        text-align: right;\n",
       "    }\n",
       "</style>\n",
       "<table border=\"1\" class=\"dataframe\">\n",
       "  <thead>\n",
       "    <tr style=\"text-align: right;\">\n",
       "      <th></th>\n",
       "      <th>단속일시</th>\n",
       "      <th>단속원금</th>\n",
       "      <th>단속동</th>\n",
       "      <th>단속장소</th>\n",
       "      <th>위반내용</th>\n",
       "      <th>견인지시</th>\n",
       "    </tr>\n",
       "  </thead>\n",
       "  <tbody>\n",
       "    <tr>\n",
       "      <th>0</th>\n",
       "      <td>2020-01-01 0:06</td>\n",
       "      <td>40,000</td>\n",
       "      <td>신월동</td>\n",
       "      <td>1동226-24앞</td>\n",
       "      <td>교통소통장애</td>\n",
       "      <td>미견인</td>\n",
       "    </tr>\n",
       "    <tr>\n",
       "      <th>1</th>\n",
       "      <td>2020-01-01 0:35</td>\n",
       "      <td>40,000</td>\n",
       "      <td>신월동</td>\n",
       "      <td>3동187-10</td>\n",
       "      <td>소방기계 비치장소</td>\n",
       "      <td>미견인</td>\n",
       "    </tr>\n",
       "    <tr>\n",
       "      <th>2</th>\n",
       "      <td>2020-01-01 6:22</td>\n",
       "      <td>40,000</td>\n",
       "      <td>목동</td>\n",
       "      <td>5동목동@5~6단지</td>\n",
       "      <td>버스정류소</td>\n",
       "      <td>미견인</td>\n",
       "    </tr>\n",
       "    <tr>\n",
       "      <th>3</th>\n",
       "      <td>2020-01-01 6:25</td>\n",
       "      <td>40,000</td>\n",
       "      <td>목동</td>\n",
       "      <td>5동목동@510동</td>\n",
       "      <td>도로 모퉁이</td>\n",
       "      <td>미견인</td>\n",
       "    </tr>\n",
       "    <tr>\n",
       "      <th>4</th>\n",
       "      <td>2020-01-01 9:54</td>\n",
       "      <td>40,000</td>\n",
       "      <td>목동</td>\n",
       "      <td>5동목동@533동앞</td>\n",
       "      <td>보도</td>\n",
       "      <td>미견인</td>\n",
       "    </tr>\n",
       "  </tbody>\n",
       "</table>\n",
       "</div>"
      ],
      "text/plain": [
       "              단속일시   단속원금   단속동        단속장소       위반내용 견인지시\n",
       "0  2020-01-01 0:06  40,000  신월동   1동226-24앞     교통소통장애  미견인\n",
       "1  2020-01-01 0:35  40,000  신월동    3동187-10  소방기계 비치장소  미견인\n",
       "2  2020-01-01 6:22  40,000   목동  5동목동@5~6단지      버스정류소  미견인\n",
       "3  2020-01-01 6:25  40,000   목동   5동목동@510동     도로 모퉁이  미견인\n",
       "4  2020-01-01 9:54  40,000   목동  5동목동@533동앞         보도  미견인"
      ]
     },
     "execution_count": 2,
     "metadata": {},
     "output_type": "execute_result"
    }
   ],
   "source": [
    "df = pd.read_csv('양천구_불법주정차 단속현황.csv', encoding='cp949')\n",
    "df.head()"
   ]
  },
  {
   "cell_type": "code",
   "execution_count": 3,
   "metadata": {},
   "outputs": [
    {
     "data": {
      "text/plain": [
       "신정동     27935\n",
       "목동      19287\n",
       "신월동     19116\n",
       "신정6동     3731\n",
       "목5동      3523\n",
       "목1동      3480\n",
       "신정7동     1743\n",
       "신월1동     1607\n",
       "신정2동     1518\n",
       "목2동      1219\n",
       "목3동      1190\n",
       "목4동      1134\n",
       "목  동      737\n",
       "신정4동      684\n",
       "신정3동      645\n",
       "신월7동      531\n",
       "신월6동      421\n",
       "신월5동      304\n",
       "신월4동      156\n",
       "신정1동      156\n",
       "신월2동      115\n",
       "신월3동       63\n",
       "양천구        21\n",
       "Name: 단속동, dtype: int64"
      ]
     },
     "execution_count": 3,
     "metadata": {},
     "output_type": "execute_result"
    }
   ],
   "source": [
    "df['단속동'].value_counts()\n"
   ]
  },
  {
   "cell_type": "code",
   "execution_count": 12,
   "metadata": {},
   "outputs": [
    {
     "data": {
      "text/plain": [
       "['목1동', '목2동', '목3동', '목4동', '목  동', '목5동']"
      ]
     },
     "execution_count": 12,
     "metadata": {},
     "output_type": "execute_result"
    }
   ],
   "source": [
    "mokdong = ['목1동','목2동','목3동','목4동','목  동','목5동']\n",
    "mokdong"
   ]
  },
  {
   "cell_type": "code",
   "execution_count": 15,
   "metadata": {},
   "outputs": [
    {
     "data": {
      "text/html": [
       "<div>\n",
       "<style scoped>\n",
       "    .dataframe tbody tr th:only-of-type {\n",
       "        vertical-align: middle;\n",
       "    }\n",
       "\n",
       "    .dataframe tbody tr th {\n",
       "        vertical-align: top;\n",
       "    }\n",
       "\n",
       "    .dataframe thead th {\n",
       "        text-align: right;\n",
       "    }\n",
       "</style>\n",
       "<table border=\"1\" class=\"dataframe\">\n",
       "  <thead>\n",
       "    <tr style=\"text-align: right;\">\n",
       "      <th></th>\n",
       "      <th>단속일시</th>\n",
       "      <th>단속원금</th>\n",
       "      <th>단속동</th>\n",
       "      <th>단속장소</th>\n",
       "      <th>위반내용</th>\n",
       "      <th>견인지시</th>\n",
       "    </tr>\n",
       "  </thead>\n",
       "  <tbody>\n",
       "    <tr>\n",
       "      <th>0</th>\n",
       "      <td>2020-01-01 0:06</td>\n",
       "      <td>40,000</td>\n",
       "      <td>신월동</td>\n",
       "      <td>1동226-24앞</td>\n",
       "      <td>교통소통장애</td>\n",
       "      <td>미견인</td>\n",
       "    </tr>\n",
       "    <tr>\n",
       "      <th>1</th>\n",
       "      <td>2020-01-01 0:35</td>\n",
       "      <td>40,000</td>\n",
       "      <td>신월동</td>\n",
       "      <td>3동187-10</td>\n",
       "      <td>소방기계 비치장소</td>\n",
       "      <td>미견인</td>\n",
       "    </tr>\n",
       "    <tr>\n",
       "      <th>2</th>\n",
       "      <td>2020-01-01 6:22</td>\n",
       "      <td>40,000</td>\n",
       "      <td>목동</td>\n",
       "      <td>5동목동@5~6단지</td>\n",
       "      <td>버스정류소</td>\n",
       "      <td>미견인</td>\n",
       "    </tr>\n",
       "    <tr>\n",
       "      <th>3</th>\n",
       "      <td>2020-01-01 6:25</td>\n",
       "      <td>40,000</td>\n",
       "      <td>목동</td>\n",
       "      <td>5동목동@510동</td>\n",
       "      <td>도로 모퉁이</td>\n",
       "      <td>미견인</td>\n",
       "    </tr>\n",
       "    <tr>\n",
       "      <th>4</th>\n",
       "      <td>2020-01-01 9:54</td>\n",
       "      <td>40,000</td>\n",
       "      <td>목동</td>\n",
       "      <td>5동목동@533동앞</td>\n",
       "      <td>보도</td>\n",
       "      <td>미견인</td>\n",
       "    </tr>\n",
       "  </tbody>\n",
       "</table>\n",
       "</div>"
      ],
      "text/plain": [
       "              단속일시   단속원금   단속동        단속장소       위반내용 견인지시\n",
       "0  2020-01-01 0:06  40,000  신월동   1동226-24앞     교통소통장애  미견인\n",
       "1  2020-01-01 0:35  40,000  신월동    3동187-10  소방기계 비치장소  미견인\n",
       "2  2020-01-01 6:22  40,000   목동  5동목동@5~6단지      버스정류소  미견인\n",
       "3  2020-01-01 6:25  40,000   목동   5동목동@510동     도로 모퉁이  미견인\n",
       "4  2020-01-01 9:54  40,000   목동  5동목동@533동앞         보도  미견인"
      ]
     },
     "execution_count": 15,
     "metadata": {},
     "output_type": "execute_result"
    }
   ],
   "source": [
    "df1 = df.replace(mokdong, '목동')\n",
    "df1.head()"
   ]
  },
  {
   "cell_type": "code",
   "execution_count": 16,
   "metadata": {},
   "outputs": [
    {
     "data": {
      "text/plain": [
       "목동      30570\n",
       "신정동     27935\n",
       "신월동     19116\n",
       "신정6동     3731\n",
       "신정7동     1743\n",
       "신월1동     1607\n",
       "신정2동     1518\n",
       "신정4동      684\n",
       "신정3동      645\n",
       "신월7동      531\n",
       "신월6동      421\n",
       "신월5동      304\n",
       "신월4동      156\n",
       "신정1동      156\n",
       "신월2동      115\n",
       "신월3동       63\n",
       "양천구        21\n",
       "Name: 단속동, dtype: int64"
      ]
     },
     "execution_count": 16,
     "metadata": {},
     "output_type": "execute_result"
    }
   ],
   "source": [
    "df1['단속동'].value_counts()\n"
   ]
  },
  {
   "cell_type": "code",
   "execution_count": 17,
   "metadata": {},
   "outputs": [
    {
     "data": {
      "text/plain": [
       "['신정1동', '신정2동', '신정3동', '신정4동', '신정5동', '신정6동', '신정7동', '신정1동']"
      ]
     },
     "execution_count": 17,
     "metadata": {},
     "output_type": "execute_result"
    }
   ],
   "source": [
    "sinjung = ['신정1동','신정2동','신정3동','신정4동','신정5동','신정6동','신정7동']\n",
    "sinjung"
   ]
  },
  {
   "cell_type": "code",
   "execution_count": 18,
   "metadata": {},
   "outputs": [
    {
     "data": {
      "text/plain": [
       "신정동     36412\n",
       "목동      30570\n",
       "신월동     19116\n",
       "신월1동     1607\n",
       "신월7동      531\n",
       "신월6동      421\n",
       "신월5동      304\n",
       "신월4동      156\n",
       "신월2동      115\n",
       "신월3동       63\n",
       "양천구        21\n",
       "Name: 단속동, dtype: int64"
      ]
     },
     "execution_count": 18,
     "metadata": {},
     "output_type": "execute_result"
    }
   ],
   "source": [
    "df2 = df1.replace(sinjung, '신정동')\n",
    "df2['단속동'].value_counts()"
   ]
  },
  {
   "cell_type": "code",
   "execution_count": 41,
   "metadata": {},
   "outputs": [
    {
     "data": {
      "text/html": [
       "<div>\n",
       "<style scoped>\n",
       "    .dataframe tbody tr th:only-of-type {\n",
       "        vertical-align: middle;\n",
       "    }\n",
       "\n",
       "    .dataframe tbody tr th {\n",
       "        vertical-align: top;\n",
       "    }\n",
       "\n",
       "    .dataframe thead th {\n",
       "        text-align: right;\n",
       "    }\n",
       "</style>\n",
       "<table border=\"1\" class=\"dataframe\">\n",
       "  <thead>\n",
       "    <tr style=\"text-align: right;\">\n",
       "      <th></th>\n",
       "      <th>단속일시</th>\n",
       "      <th>단속원금</th>\n",
       "      <th>단속동</th>\n",
       "      <th>단속장소</th>\n",
       "      <th>위반내용</th>\n",
       "      <th>견인지시</th>\n",
       "    </tr>\n",
       "  </thead>\n",
       "  <tbody>\n",
       "    <tr>\n",
       "      <th>0</th>\n",
       "      <td>2020-01-01 0:06</td>\n",
       "      <td>40,000</td>\n",
       "      <td>신월동</td>\n",
       "      <td>1동226-24앞</td>\n",
       "      <td>교통소통장애</td>\n",
       "      <td>미견인</td>\n",
       "    </tr>\n",
       "    <tr>\n",
       "      <th>1</th>\n",
       "      <td>2020-01-01 0:35</td>\n",
       "      <td>40,000</td>\n",
       "      <td>신월동</td>\n",
       "      <td>3동187-10</td>\n",
       "      <td>소방기계 비치장소</td>\n",
       "      <td>미견인</td>\n",
       "    </tr>\n",
       "    <tr>\n",
       "      <th>2</th>\n",
       "      <td>2020-01-01 6:22</td>\n",
       "      <td>40,000</td>\n",
       "      <td>목동</td>\n",
       "      <td>5동목동@5~6단지</td>\n",
       "      <td>버스정류소</td>\n",
       "      <td>미견인</td>\n",
       "    </tr>\n",
       "    <tr>\n",
       "      <th>3</th>\n",
       "      <td>2020-01-01 6:25</td>\n",
       "      <td>40,000</td>\n",
       "      <td>목동</td>\n",
       "      <td>5동목동@510동</td>\n",
       "      <td>도로 모퉁이</td>\n",
       "      <td>미견인</td>\n",
       "    </tr>\n",
       "    <tr>\n",
       "      <th>4</th>\n",
       "      <td>2020-01-01 9:54</td>\n",
       "      <td>40,000</td>\n",
       "      <td>목동</td>\n",
       "      <td>5동목동@533동앞</td>\n",
       "      <td>보도</td>\n",
       "      <td>미견인</td>\n",
       "    </tr>\n",
       "  </tbody>\n",
       "</table>\n",
       "</div>"
      ],
      "text/plain": [
       "              단속일시   단속원금   단속동        단속장소       위반내용 견인지시\n",
       "0  2020-01-01 0:06  40,000  신월동   1동226-24앞     교통소통장애  미견인\n",
       "1  2020-01-01 0:35  40,000  신월동    3동187-10  소방기계 비치장소  미견인\n",
       "2  2020-01-01 6:22  40,000   목동  5동목동@5~6단지      버스정류소  미견인\n",
       "3  2020-01-01 6:25  40,000   목동   5동목동@510동     도로 모퉁이  미견인\n",
       "4  2020-01-01 9:54  40,000   목동  5동목동@533동앞         보도  미견인"
      ]
     },
     "execution_count": 41,
     "metadata": {},
     "output_type": "execute_result"
    }
   ],
   "source": [
    "sinwol = ['신월1동','신월2동','신월3동','신월4동','신월5동','신월6동','신월7동']\n",
    "df3 = df2.replace(sinwol, '신월동')\n",
    "df3['단속동'].value_counts()\n",
    "df3.head()"
   ]
  },
  {
   "cell_type": "code",
   "execution_count": 86,
   "metadata": {},
   "outputs": [
    {
     "data": {
      "text/plain": [
       "Index(['단속일시', ' 단속원금 ', '단속동', '단속장소', '위반내용', '견인지시'], dtype='object')"
      ]
     },
     "execution_count": 86,
     "metadata": {},
     "output_type": "execute_result"
    }
   ],
   "source": [
    "df3.columns"
   ]
  },
  {
   "cell_type": "code",
   "execution_count": 87,
   "metadata": {},
   "outputs": [
    {
     "data": {
      "text/html": [
       "<div>\n",
       "<style scoped>\n",
       "    .dataframe tbody tr th:only-of-type {\n",
       "        vertical-align: middle;\n",
       "    }\n",
       "\n",
       "    .dataframe tbody tr th {\n",
       "        vertical-align: top;\n",
       "    }\n",
       "\n",
       "    .dataframe thead th {\n",
       "        text-align: right;\n",
       "    }\n",
       "</style>\n",
       "<table border=\"1\" class=\"dataframe\">\n",
       "  <thead>\n",
       "    <tr style=\"text-align: right;\">\n",
       "      <th></th>\n",
       "      <th>단속일시</th>\n",
       "      <th>단속동</th>\n",
       "      <th>단속장소</th>\n",
       "    </tr>\n",
       "  </thead>\n",
       "  <tbody>\n",
       "    <tr>\n",
       "      <th>0</th>\n",
       "      <td>2020</td>\n",
       "      <td>신월동</td>\n",
       "      <td>1동226-24앞</td>\n",
       "    </tr>\n",
       "    <tr>\n",
       "      <th>1</th>\n",
       "      <td>2020</td>\n",
       "      <td>신월동</td>\n",
       "      <td>3동187-10</td>\n",
       "    </tr>\n",
       "    <tr>\n",
       "      <th>2</th>\n",
       "      <td>2020</td>\n",
       "      <td>목동</td>\n",
       "      <td>5동목동@5~6단지</td>\n",
       "    </tr>\n",
       "    <tr>\n",
       "      <th>3</th>\n",
       "      <td>2020</td>\n",
       "      <td>목동</td>\n",
       "      <td>5동목동@510동</td>\n",
       "    </tr>\n",
       "    <tr>\n",
       "      <th>4</th>\n",
       "      <td>2020</td>\n",
       "      <td>목동</td>\n",
       "      <td>5동목동@533동앞</td>\n",
       "    </tr>\n",
       "    <tr>\n",
       "      <th>...</th>\n",
       "      <td>...</td>\n",
       "      <td>...</td>\n",
       "      <td>...</td>\n",
       "    </tr>\n",
       "    <tr>\n",
       "      <th>89311</th>\n",
       "      <td>2020</td>\n",
       "      <td>목동</td>\n",
       "      <td>목5동 주민센터 앞</td>\n",
       "    </tr>\n",
       "    <tr>\n",
       "      <th>89312</th>\n",
       "      <td>2020</td>\n",
       "      <td>신정동</td>\n",
       "      <td>양천구청역 2번출구앞 삼거리</td>\n",
       "    </tr>\n",
       "    <tr>\n",
       "      <th>89313</th>\n",
       "      <td>2020</td>\n",
       "      <td>신정동</td>\n",
       "      <td>홍익병원앞 부근</td>\n",
       "    </tr>\n",
       "    <tr>\n",
       "      <th>89314</th>\n",
       "      <td>2020</td>\n",
       "      <td>신정동</td>\n",
       "      <td>313-4</td>\n",
       "    </tr>\n",
       "    <tr>\n",
       "      <th>89315</th>\n",
       "      <td>2020</td>\n",
       "      <td>신월동</td>\n",
       "      <td>3동187-11</td>\n",
       "    </tr>\n",
       "  </tbody>\n",
       "</table>\n",
       "<p>89316 rows × 3 columns</p>\n",
       "</div>"
      ],
      "text/plain": [
       "       단속일시  단속동             단속장소\n",
       "0      2020  신월동        1동226-24앞\n",
       "1      2020  신월동         3동187-10\n",
       "2      2020   목동       5동목동@5~6단지\n",
       "3      2020   목동        5동목동@510동\n",
       "4      2020   목동       5동목동@533동앞\n",
       "...     ...  ...              ...\n",
       "89311  2020   목동       목5동 주민센터 앞\n",
       "89312  2020  신정동  양천구청역 2번출구앞 삼거리\n",
       "89313  2020  신정동         홍익병원앞 부근\n",
       "89314  2020  신정동            313-4\n",
       "89315  2020  신월동         3동187-11\n",
       "\n",
       "[89316 rows x 3 columns]"
      ]
     },
     "execution_count": 87,
     "metadata": {},
     "output_type": "execute_result"
    }
   ],
   "source": [
    "df4 = df3.drop(['위반내용','견인지시',' 단속원금 '],axis=1)\n",
    "df4[\"단속일시\"]=df4[\"단속일시\"].str[0:4]\n",
    "df4"
   ]
  },
  {
   "cell_type": "code",
   "execution_count": 120,
   "metadata": {},
   "outputs": [
    {
     "data": {
      "text/html": [
       "<div>\n",
       "<style scoped>\n",
       "    .dataframe tbody tr th:only-of-type {\n",
       "        vertical-align: middle;\n",
       "    }\n",
       "\n",
       "    .dataframe tbody tr th {\n",
       "        vertical-align: top;\n",
       "    }\n",
       "\n",
       "    .dataframe thead th {\n",
       "        text-align: right;\n",
       "    }\n",
       "</style>\n",
       "<table border=\"1\" class=\"dataframe\">\n",
       "  <thead>\n",
       "    <tr style=\"text-align: right;\">\n",
       "      <th></th>\n",
       "      <th>단속일시</th>\n",
       "      <th>단속동</th>\n",
       "      <th>단속장소</th>\n",
       "    </tr>\n",
       "  </thead>\n",
       "  <tbody>\n",
       "    <tr>\n",
       "      <th>56201</th>\n",
       "      <td>2020</td>\n",
       "      <td>양천구</td>\n",
       "      <td>신목로7길 5</td>\n",
       "    </tr>\n",
       "    <tr>\n",
       "      <th>56222</th>\n",
       "      <td>2020</td>\n",
       "      <td>양천구</td>\n",
       "      <td>목동동로 210</td>\n",
       "    </tr>\n",
       "    <tr>\n",
       "      <th>56226</th>\n",
       "      <td>2020</td>\n",
       "      <td>양천구</td>\n",
       "      <td>목동동로 210</td>\n",
       "    </tr>\n",
       "    <tr>\n",
       "      <th>56229</th>\n",
       "      <td>2020</td>\n",
       "      <td>양천구</td>\n",
       "      <td>오목로 312</td>\n",
       "    </tr>\n",
       "    <tr>\n",
       "      <th>56230</th>\n",
       "      <td>2020</td>\n",
       "      <td>양천구</td>\n",
       "      <td>오목로 312</td>\n",
       "    </tr>\n",
       "    <tr>\n",
       "      <th>56232</th>\n",
       "      <td>2020</td>\n",
       "      <td>양천구</td>\n",
       "      <td>목동 406-14</td>\n",
       "    </tr>\n",
       "    <tr>\n",
       "      <th>56234</th>\n",
       "      <td>2020</td>\n",
       "      <td>양천구</td>\n",
       "      <td>목동 406-14</td>\n",
       "    </tr>\n",
       "    <tr>\n",
       "      <th>88568</th>\n",
       "      <td>2020</td>\n",
       "      <td>양천구</td>\n",
       "      <td>신정중앙로76</td>\n",
       "    </tr>\n",
       "    <tr>\n",
       "      <th>88663</th>\n",
       "      <td>2020</td>\n",
       "      <td>양천구</td>\n",
       "      <td>은행정로73</td>\n",
       "    </tr>\n",
       "    <tr>\n",
       "      <th>88668</th>\n",
       "      <td>2020</td>\n",
       "      <td>양천구</td>\n",
       "      <td>오목로233</td>\n",
       "    </tr>\n",
       "    <tr>\n",
       "      <th>88906</th>\n",
       "      <td>2020</td>\n",
       "      <td>양천구</td>\n",
       "      <td>신정중앙로67</td>\n",
       "    </tr>\n",
       "    <tr>\n",
       "      <th>88907</th>\n",
       "      <td>2020</td>\n",
       "      <td>양천구</td>\n",
       "      <td>신정중앙로65</td>\n",
       "    </tr>\n",
       "    <tr>\n",
       "      <th>88908</th>\n",
       "      <td>2020</td>\n",
       "      <td>양천구</td>\n",
       "      <td>신정중앙로61</td>\n",
       "    </tr>\n",
       "    <tr>\n",
       "      <th>88909</th>\n",
       "      <td>2020</td>\n",
       "      <td>양천구</td>\n",
       "      <td>신정중앙로54</td>\n",
       "    </tr>\n",
       "    <tr>\n",
       "      <th>88910</th>\n",
       "      <td>2020</td>\n",
       "      <td>양천구</td>\n",
       "      <td>신정중앙로62</td>\n",
       "    </tr>\n",
       "    <tr>\n",
       "      <th>88911</th>\n",
       "      <td>2020</td>\n",
       "      <td>양천구</td>\n",
       "      <td>신정중알38</td>\n",
       "    </tr>\n",
       "    <tr>\n",
       "      <th>88912</th>\n",
       "      <td>2020</td>\n",
       "      <td>양천구</td>\n",
       "      <td>신정중앙로50</td>\n",
       "    </tr>\n",
       "    <tr>\n",
       "      <th>89243</th>\n",
       "      <td>2020</td>\n",
       "      <td>양천구</td>\n",
       "      <td>가로공원로162</td>\n",
       "    </tr>\n",
       "    <tr>\n",
       "      <th>89245</th>\n",
       "      <td>2020</td>\n",
       "      <td>양천구</td>\n",
       "      <td>곰달래로13길72-1</td>\n",
       "    </tr>\n",
       "    <tr>\n",
       "      <th>89246</th>\n",
       "      <td>2020</td>\n",
       "      <td>양천구</td>\n",
       "      <td>곰달래로13길62</td>\n",
       "    </tr>\n",
       "    <tr>\n",
       "      <th>89260</th>\n",
       "      <td>2020</td>\n",
       "      <td>양천구</td>\n",
       "      <td>가로공원로158</td>\n",
       "    </tr>\n",
       "  </tbody>\n",
       "</table>\n",
       "</div>"
      ],
      "text/plain": [
       "       단속일시  단속동         단속장소\n",
       "56201  2020  양천구      신목로7길 5\n",
       "56222  2020  양천구     목동동로 210\n",
       "56226  2020  양천구     목동동로 210\n",
       "56229  2020  양천구      오목로 312\n",
       "56230  2020  양천구      오목로 312\n",
       "56232  2020  양천구    목동 406-14\n",
       "56234  2020  양천구    목동 406-14\n",
       "88568  2020  양천구      신정중앙로76\n",
       "88663  2020  양천구       은행정로73\n",
       "88668  2020  양천구       오목로233\n",
       "88906  2020  양천구      신정중앙로67\n",
       "88907  2020  양천구      신정중앙로65\n",
       "88908  2020  양천구      신정중앙로61\n",
       "88909  2020  양천구      신정중앙로54\n",
       "88910  2020  양천구      신정중앙로62\n",
       "88911  2020  양천구       신정중알38\n",
       "88912  2020  양천구      신정중앙로50\n",
       "89243  2020  양천구     가로공원로162\n",
       "89245  2020  양천구  곰달래로13길72-1\n",
       "89246  2020  양천구    곰달래로13길62\n",
       "89260  2020  양천구     가로공원로158"
      ]
     },
     "execution_count": 120,
     "metadata": {},
     "output_type": "execute_result"
    }
   ],
   "source": [
    "df_1 = df4[df4['단속동']=='양천구']\n",
    "b = ['오목', '목동']\n",
    "b = \"|\".join(b)\n",
    "if b in df_1['단속장소']:\n",
    "    df_1['단속동'].replace('양천구', '목동')\n",
    "    print(df_1)\n"
   ]
  },
  {
   "cell_type": "code",
   "execution_count": 115,
   "metadata": {},
   "outputs": [
    {
     "data": {
      "text/plain": [
       "False"
      ]
     },
     "execution_count": 115,
     "metadata": {},
     "output_type": "execute_result"
    }
   ],
   "source": [
    "b in df_1['단속장소']"
   ]
  },
  {
   "cell_type": "code",
   "execution_count": 117,
   "metadata": {},
   "outputs": [
    {
     "data": {
      "text/plain": [
       "True"
      ]
     },
     "execution_count": 117,
     "metadata": {},
     "output_type": "execute_result"
    }
   ],
   "source": []
  },
  {
   "cell_type": "code",
   "execution_count": 101,
   "metadata": {},
   "outputs": [
    {
     "data": {
      "text/plain": [
       "56201        신목로7길 5\n",
       "56222       목동동로 210\n",
       "56226       목동동로 210\n",
       "56229        오목로 312\n",
       "56230        오목로 312\n",
       "56232      목동 406-14\n",
       "56234      목동 406-14\n",
       "88568        신정중앙로76\n",
       "88663         은행정로73\n",
       "88668         오목로233\n",
       "88906        신정중앙로67\n",
       "88907        신정중앙로65\n",
       "88908        신정중앙로61\n",
       "88909        신정중앙로54\n",
       "88910        신정중앙로62\n",
       "88911         신정중알38\n",
       "88912        신정중앙로50\n",
       "89243       가로공원로162\n",
       "89245    곰달래로13길72-1\n",
       "89246      곰달래로13길62\n",
       "89260       가로공원로158\n",
       "Name: 단속장소, dtype: object"
      ]
     },
     "execution_count": 101,
     "metadata": {},
     "output_type": "execute_result"
    }
   ],
   "source": [
    "df_1['단속장소']"
   ]
  },
  {
   "cell_type": "code",
   "execution_count": 89,
   "metadata": {},
   "outputs": [],
   "source": [
    "df_group = df4.groupby('단속동')\n",
    "a = pd.DataFrame(df_group.count())"
   ]
  },
  {
   "cell_type": "code",
   "execution_count": 95,
   "metadata": {},
   "outputs": [
    {
     "data": {
      "text/html": [
       "<div>\n",
       "<style scoped>\n",
       "    .dataframe tbody tr th:only-of-type {\n",
       "        vertical-align: middle;\n",
       "    }\n",
       "\n",
       "    .dataframe tbody tr th {\n",
       "        vertical-align: top;\n",
       "    }\n",
       "\n",
       "    .dataframe thead th {\n",
       "        text-align: right;\n",
       "    }\n",
       "</style>\n",
       "<table border=\"1\" class=\"dataframe\">\n",
       "  <thead>\n",
       "    <tr style=\"text-align: right;\">\n",
       "      <th></th>\n",
       "      <th>단속일시</th>\n",
       "      <th>단속장소</th>\n",
       "      <th>단속연도</th>\n",
       "      <th>구</th>\n",
       "    </tr>\n",
       "    <tr>\n",
       "      <th>단속동</th>\n",
       "      <th></th>\n",
       "      <th></th>\n",
       "      <th></th>\n",
       "      <th></th>\n",
       "    </tr>\n",
       "  </thead>\n",
       "  <tbody>\n",
       "    <tr>\n",
       "      <th>목동</th>\n",
       "      <td>30570</td>\n",
       "      <td>30570</td>\n",
       "      <td>2020</td>\n",
       "      <td>영등포구</td>\n",
       "    </tr>\n",
       "    <tr>\n",
       "      <th>신월동</th>\n",
       "      <td>22313</td>\n",
       "      <td>22313</td>\n",
       "      <td>2020</td>\n",
       "      <td>영등포구</td>\n",
       "    </tr>\n",
       "    <tr>\n",
       "      <th>신정동</th>\n",
       "      <td>36412</td>\n",
       "      <td>36412</td>\n",
       "      <td>2020</td>\n",
       "      <td>영등포구</td>\n",
       "    </tr>\n",
       "    <tr>\n",
       "      <th>양천구</th>\n",
       "      <td>21</td>\n",
       "      <td>21</td>\n",
       "      <td>2020</td>\n",
       "      <td>영등포구</td>\n",
       "    </tr>\n",
       "  </tbody>\n",
       "</table>\n",
       "</div>"
      ],
      "text/plain": [
       "      단속일시   단속장소  단속연도     구\n",
       "단속동                          \n",
       "목동   30570  30570  2020  영등포구\n",
       "신월동  22313  22313  2020  영등포구\n",
       "신정동  36412  36412  2020  영등포구\n",
       "양천구     21     21  2020  영등포구"
      ]
     },
     "execution_count": 95,
     "metadata": {},
     "output_type": "execute_result"
    }
   ],
   "source": [
    "a['단속연도'] = 2020\n",
    "a['구'] = '영등포구'\n",
    "a"
   ]
  }
 ],
 "metadata": {
  "interpreter": {
   "hash": "b3ba2566441a7c06988d0923437866b63cedc61552a5af99d1f4fb67d367b25f"
  },
  "kernelspec": {
   "display_name": "Python 3.8.8 64-bit ('base': conda)",
   "language": "python",
   "name": "python3"
  },
  "language_info": {
   "codemirror_mode": {
    "name": "ipython",
    "version": 3
   },
   "file_extension": ".py",
   "mimetype": "text/x-python",
   "name": "python",
   "nbconvert_exporter": "python",
   "pygments_lexer": "ipython3",
   "version": "3.8.8"
  },
  "orig_nbformat": 4
 },
 "nbformat": 4,
 "nbformat_minor": 2
}
